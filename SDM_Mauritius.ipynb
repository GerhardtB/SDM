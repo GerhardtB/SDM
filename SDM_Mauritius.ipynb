{
 "cells": [
  {
   "cell_type": "markdown",
   "id": "bce54152",
   "metadata": {},
   "source": [
    "# Import libraries"
   ]
  },
  {
   "cell_type": "code",
   "execution_count": 17,
   "id": "fd74b673",
   "metadata": {},
   "outputs": [],
   "source": [
    "import os\n",
    "from pathlib import Path\n",
    "import subprocess\n",
    "import glob\n",
    "import matplotlib.pyplot as plt\n",
    "import seaborn as sns\n",
    "import numpy as np\n",
    "from shapely.geometry import mapping\n",
    "import rioxarray as rxr\n",
    "import xarray as xr\n",
    "import geopandas as gpd\n",
    "from shapely.geometry import box\n",
    "import rasterio as rio\n",
    "import earthpy as et\n",
    "import earthpy.plot as ep\n",
    "#from osgeo import gdal\n",
    "# Prettier plotting with seaborn\n",
    "sns.set(font_scale=1.5)\n",
    "from datetime import datetime"
   ]
  },
  {
   "cell_type": "code",
   "execution_count": 14,
   "id": "18d197d8",
   "metadata": {
    "scrolled": true
   },
   "outputs": [
    {
     "name": "stdout",
     "output_type": "stream",
     "text": [
      "/home/c4ubuntu/projDir/Mauritius_IAS\r\n"
     ]
    }
   ],
   "source": [
    "!pwd"
   ]
  },
  {
   "cell_type": "markdown",
   "id": "2dc9c9ed",
   "metadata": {},
   "source": [
    "# Clip Tifs"
   ]
  },
  {
   "cell_type": "code",
   "execution_count": 69,
   "id": "8b1267ba",
   "metadata": {},
   "outputs": [],
   "source": [
    "# List filepaths for all bands in the scence\n",
    "FileList = glob.glob(os.path.join(r'/home/Azure_linux_admin/Projdir/Mauritius_IAS/SSP126/2081_2100','*wc2.1_30s_bioc*.tif'))\n",
    "\n",
    "# Define clipping extent\n",
    "xmin, ymin, xmax,ymax = (56.59166666666681, -20.525000000000063, 63.50000000000015, -10.341666666666725) # INSERT HERE THE CORRECT COORDINATES\n",
    "\n",
    "# Generate gdalwarp command for each band\n",
    "command = \"\"\n",
    "\n",
    "for fp in FileList:\n",
    "    inputfile = fp\n",
    "    outputfile = inputfile[:-4] + \"_clip.tif\"\n",
    "    \n",
    "    command += \"gdalwarp -te %s %s %s %s %s %s \\n\" % (xmin, ymin, xmax, ymax, inputfile, outputfile)\n",
    "    \n",
    "# Write the commands to an .sh file\n",
    "cmd_file = \"ClipGCM.sh\"\n",
    "f = open(os.path.join(cmd_file), 'w')\n",
    "\n",
    "f.write(command)\n",
    "f.close()"
   ]
  },
  {
   "cell_type": "code",
   "execution_count": 70,
   "id": "af23c095",
   "metadata": {
    "scrolled": true
   },
   "outputs": [
    {
     "name": "stdout",
     "output_type": "stream",
     "text": [
      "Creating output file that is 829P x 1222L.\n",
      "Processing /home/Azure_linux_admin/Projdir/Mauritius_IAS/SSP126/2081_2100/wc2.1_30s_bioc_GFDL-ESM4_ssp126_2081-2100.tif [1/1] : 0Using internal nodata values (e.g. nan) for image /home/Azure_linux_admin/Projdir/Mauritius_IAS/SSP126/2081_2100/wc2.1_30s_bioc_GFDL-ESM4_ssp126_2081-2100.tif.\n",
      "Copying nodata values from source /home/Azure_linux_admin/Projdir/Mauritius_IAS/SSP126/2081_2100/wc2.1_30s_bioc_GFDL-ESM4_ssp126_2081-2100.tif to destination /home/Azure_linux_admin/Projdir/Mauritius_IAS/SSP126/2081_2100/wc2.1_30s_bioc_GFDL-ESM4_ssp126_2081-2100_clip.tif.\n",
      "...10...20...30...40...50...60...70...80...90...100 - done.\n",
      "Creating output file that is 829P x 1222L.\n",
      "Processing /home/Azure_linux_admin/Projdir/Mauritius_IAS/SSP126/2081_2100/wc2.1_30s_bioc_UKESM1-0-LL_ssp126_2081-2100.tif [1/1] : 0Using internal nodata values (e.g. nan) for image /home/Azure_linux_admin/Projdir/Mauritius_IAS/SSP126/2081_2100/wc2.1_30s_bioc_UKESM1-0-LL_ssp126_2081-2100.tif.\n",
      "Copying nodata values from source /home/Azure_linux_admin/Projdir/Mauritius_IAS/SSP126/2081_2100/wc2.1_30s_bioc_UKESM1-0-LL_ssp126_2081-2100.tif to destination /home/Azure_linux_admin/Projdir/Mauritius_IAS/SSP126/2081_2100/wc2.1_30s_bioc_UKESM1-0-LL_ssp126_2081-2100_clip.tif.\n",
      "...10...20...30...40...50...60...70...80...90...100 - done.\n",
      "Creating output file that is 829P x 1222L.\n",
      "Processing /home/Azure_linux_admin/Projdir/Mauritius_IAS/SSP126/2081_2100/wc2.1_30s_bioc_ACCESS-CM2_ssp126_2081-2100.tif [1/1] : 0Using internal nodata values (e.g. nan) for image /home/Azure_linux_admin/Projdir/Mauritius_IAS/SSP126/2081_2100/wc2.1_30s_bioc_ACCESS-CM2_ssp126_2081-2100.tif.\n",
      "Copying nodata values from source /home/Azure_linux_admin/Projdir/Mauritius_IAS/SSP126/2081_2100/wc2.1_30s_bioc_ACCESS-CM2_ssp126_2081-2100.tif to destination /home/Azure_linux_admin/Projdir/Mauritius_IAS/SSP126/2081_2100/wc2.1_30s_bioc_ACCESS-CM2_ssp126_2081-2100_clip.tif.\n",
      "...10...20...30...40...50...60...70...80...90...100 - done.\n",
      "Creating output file that is 829P x 1222L.\n",
      "Processing /home/Azure_linux_admin/Projdir/Mauritius_IAS/SSP126/2081_2100/wc2.1_30s_bioc_ACCESS-ESM1-5_ssp126_2081-2100.tif [1/1] : 0Using internal nodata values (e.g. nan) for image /home/Azure_linux_admin/Projdir/Mauritius_IAS/SSP126/2081_2100/wc2.1_30s_bioc_ACCESS-ESM1-5_ssp126_2081-2100.tif.\n",
      "Copying nodata values from source /home/Azure_linux_admin/Projdir/Mauritius_IAS/SSP126/2081_2100/wc2.1_30s_bioc_ACCESS-ESM1-5_ssp126_2081-2100.tif to destination /home/Azure_linux_admin/Projdir/Mauritius_IAS/SSP126/2081_2100/wc2.1_30s_bioc_ACCESS-ESM1-5_ssp126_2081-2100_clip.tif.\n",
      "...10...20...30...40...50...60...70...80...90...100 - done.\n",
      "Creating output file that is 829P x 1222L.\n",
      "Processing /home/Azure_linux_admin/Projdir/Mauritius_IAS/SSP126/2081_2100/wc2.1_30s_bioc_BCC-CSM2-MR_ssp126_2081-2100.tif [1/1] : 0Using internal nodata values (e.g. nan) for image /home/Azure_linux_admin/Projdir/Mauritius_IAS/SSP126/2081_2100/wc2.1_30s_bioc_BCC-CSM2-MR_ssp126_2081-2100.tif.\n",
      "Copying nodata values from source /home/Azure_linux_admin/Projdir/Mauritius_IAS/SSP126/2081_2100/wc2.1_30s_bioc_BCC-CSM2-MR_ssp126_2081-2100.tif to destination /home/Azure_linux_admin/Projdir/Mauritius_IAS/SSP126/2081_2100/wc2.1_30s_bioc_BCC-CSM2-MR_ssp126_2081-2100_clip.tif.\n",
      "...10...20...30...40...50...60...70...80...90...100 - done.\n",
      "Creating output file that is 829P x 1222L.\n",
      "Processing /home/Azure_linux_admin/Projdir/Mauritius_IAS/SSP126/2081_2100/wc2.1_30s_bioc_CanESM5_ssp126_2081-2100.tif [1/1] : 0Using internal nodata values (e.g. nan) for image /home/Azure_linux_admin/Projdir/Mauritius_IAS/SSP126/2081_2100/wc2.1_30s_bioc_CanESM5_ssp126_2081-2100.tif.\n",
      "Copying nodata values from source /home/Azure_linux_admin/Projdir/Mauritius_IAS/SSP126/2081_2100/wc2.1_30s_bioc_CanESM5_ssp126_2081-2100.tif to destination /home/Azure_linux_admin/Projdir/Mauritius_IAS/SSP126/2081_2100/wc2.1_30s_bioc_CanESM5_ssp126_2081-2100_clip.tif.\n",
      "...10...20...30...40...50...60...70...80...90...100 - done.\n",
      "Creating output file that is 829P x 1222L.\n",
      "Processing /home/Azure_linux_admin/Projdir/Mauritius_IAS/SSP126/2081_2100/wc2.1_30s_bioc_CanESM5-CanOE_ssp126_2081-2100.tif [1/1] : 0Using internal nodata values (e.g. nan) for image /home/Azure_linux_admin/Projdir/Mauritius_IAS/SSP126/2081_2100/wc2.1_30s_bioc_CanESM5-CanOE_ssp126_2081-2100.tif.\n",
      "Copying nodata values from source /home/Azure_linux_admin/Projdir/Mauritius_IAS/SSP126/2081_2100/wc2.1_30s_bioc_CanESM5-CanOE_ssp126_2081-2100.tif to destination /home/Azure_linux_admin/Projdir/Mauritius_IAS/SSP126/2081_2100/wc2.1_30s_bioc_CanESM5-CanOE_ssp126_2081-2100_clip.tif.\n",
      "...10...20...30...40...50...60...70...80...90...100 - done.\n",
      "Creating output file that is 829P x 1222L.\n",
      "Processing /home/Azure_linux_admin/Projdir/Mauritius_IAS/SSP126/2081_2100/wc2.1_30s_bioc_CMCC-ESM2_ssp126_2081-2100.tif [1/1] : 0Using internal nodata values (e.g. nan) for image /home/Azure_linux_admin/Projdir/Mauritius_IAS/SSP126/2081_2100/wc2.1_30s_bioc_CMCC-ESM2_ssp126_2081-2100.tif.\n",
      "Copying nodata values from source /home/Azure_linux_admin/Projdir/Mauritius_IAS/SSP126/2081_2100/wc2.1_30s_bioc_CMCC-ESM2_ssp126_2081-2100.tif to destination /home/Azure_linux_admin/Projdir/Mauritius_IAS/SSP126/2081_2100/wc2.1_30s_bioc_CMCC-ESM2_ssp126_2081-2100_clip.tif.\n",
      "...10...20...30...40...50...60...70...80...90...100 - done.\n",
      "Creating output file that is 829P x 1222L.\n",
      "Processing /home/Azure_linux_admin/Projdir/Mauritius_IAS/SSP126/2081_2100/wc2.1_30s_bioc_CNRM-CM6-1_ssp126_2081-2100.tif [1/1] : 0Using internal nodata values (e.g. nan) for image /home/Azure_linux_admin/Projdir/Mauritius_IAS/SSP126/2081_2100/wc2.1_30s_bioc_CNRM-CM6-1_ssp126_2081-2100.tif.\n",
      "Copying nodata values from source /home/Azure_linux_admin/Projdir/Mauritius_IAS/SSP126/2081_2100/wc2.1_30s_bioc_CNRM-CM6-1_ssp126_2081-2100.tif to destination /home/Azure_linux_admin/Projdir/Mauritius_IAS/SSP126/2081_2100/wc2.1_30s_bioc_CNRM-CM6-1_ssp126_2081-2100_clip.tif.\n",
      "...10...20...30...40...50...60...70...80...90...100 - done.\n",
      "Creating output file that is 829P x 1222L.\n",
      "Processing /home/Azure_linux_admin/Projdir/Mauritius_IAS/SSP126/2081_2100/wc2.1_30s_bioc_CNRM-CM6-1-HR_ssp126_2081-2100.tif [1/1] : 0Using internal nodata values (e.g. nan) for image /home/Azure_linux_admin/Projdir/Mauritius_IAS/SSP126/2081_2100/wc2.1_30s_bioc_CNRM-CM6-1-HR_ssp126_2081-2100.tif.\n",
      "Copying nodata values from source /home/Azure_linux_admin/Projdir/Mauritius_IAS/SSP126/2081_2100/wc2.1_30s_bioc_CNRM-CM6-1-HR_ssp126_2081-2100.tif to destination /home/Azure_linux_admin/Projdir/Mauritius_IAS/SSP126/2081_2100/wc2.1_30s_bioc_CNRM-CM6-1-HR_ssp126_2081-2100_clip.tif.\n",
      "...10...20...30...40...50...60...70...80...90...100 - done.\n",
      "Creating output file that is 829P x 1222L.\n",
      "Processing /home/Azure_linux_admin/Projdir/Mauritius_IAS/SSP126/2081_2100/wc2.1_30s_bioc_CNRM-ESM2-1_ssp126_2081-2100.tif [1/1] : 0Using internal nodata values (e.g. nan) for image /home/Azure_linux_admin/Projdir/Mauritius_IAS/SSP126/2081_2100/wc2.1_30s_bioc_CNRM-ESM2-1_ssp126_2081-2100.tif.\n",
      "Copying nodata values from source /home/Azure_linux_admin/Projdir/Mauritius_IAS/SSP126/2081_2100/wc2.1_30s_bioc_CNRM-ESM2-1_ssp126_2081-2100.tif to destination /home/Azure_linux_admin/Projdir/Mauritius_IAS/SSP126/2081_2100/wc2.1_30s_bioc_CNRM-ESM2-1_ssp126_2081-2100_clip.tif.\n",
      "...10...20...30...40...50...60...70...80...90...100 - done.\n",
      "Creating output file that is 829P x 1222L.\n",
      "Processing /home/Azure_linux_admin/Projdir/Mauritius_IAS/SSP126/2081_2100/wc2.1_30s_bioc_EC-Earth3-Veg_ssp126_2081-2100.tif [1/1] : 0Using internal nodata values (e.g. nan) for image /home/Azure_linux_admin/Projdir/Mauritius_IAS/SSP126/2081_2100/wc2.1_30s_bioc_EC-Earth3-Veg_ssp126_2081-2100.tif.\n",
      "Copying nodata values from source /home/Azure_linux_admin/Projdir/Mauritius_IAS/SSP126/2081_2100/wc2.1_30s_bioc_EC-Earth3-Veg_ssp126_2081-2100.tif to destination /home/Azure_linux_admin/Projdir/Mauritius_IAS/SSP126/2081_2100/wc2.1_30s_bioc_EC-Earth3-Veg_ssp126_2081-2100_clip.tif.\n",
      "...10...20...30...40...50...60...70...80...90...100 - done.\n",
      "Creating output file that is 829P x 1222L.\n",
      "Processing /home/Azure_linux_admin/Projdir/Mauritius_IAS/SSP126/2081_2100/wc2.1_30s_bioc_EC-Earth3-Veg-LR_ssp126_2081-2100.tif [1/1] : 0Using internal nodata values (e.g. nan) for image /home/Azure_linux_admin/Projdir/Mauritius_IAS/SSP126/2081_2100/wc2.1_30s_bioc_EC-Earth3-Veg-LR_ssp126_2081-2100.tif.\n",
      "Copying nodata values from source /home/Azure_linux_admin/Projdir/Mauritius_IAS/SSP126/2081_2100/wc2.1_30s_bioc_EC-Earth3-Veg-LR_ssp126_2081-2100.tif to destination /home/Azure_linux_admin/Projdir/Mauritius_IAS/SSP126/2081_2100/wc2.1_30s_bioc_EC-Earth3-Veg-LR_ssp126_2081-2100_clip.tif.\n"
     ]
    },
    {
     "name": "stdout",
     "output_type": "stream",
     "text": [
      "...10...20...30...40...50...60...70...80...90...100 - done.\n",
      "Creating output file that is 829P x 1222L.\n",
      "Processing /home/Azure_linux_admin/Projdir/Mauritius_IAS/SSP126/2081_2100/wc2.1_30s_bioc_FIO-ESM-2-0_ssp126_2081-2100.tif [1/1] : 0Using internal nodata values (e.g. nan) for image /home/Azure_linux_admin/Projdir/Mauritius_IAS/SSP126/2081_2100/wc2.1_30s_bioc_FIO-ESM-2-0_ssp126_2081-2100.tif.\n",
      "Copying nodata values from source /home/Azure_linux_admin/Projdir/Mauritius_IAS/SSP126/2081_2100/wc2.1_30s_bioc_FIO-ESM-2-0_ssp126_2081-2100.tif to destination /home/Azure_linux_admin/Projdir/Mauritius_IAS/SSP126/2081_2100/wc2.1_30s_bioc_FIO-ESM-2-0_ssp126_2081-2100_clip.tif.\n",
      "...10...20...30...40...50...60...70...80...90...100 - done.\n",
      "Creating output file that is 829P x 1222L.\n",
      "Processing /home/Azure_linux_admin/Projdir/Mauritius_IAS/SSP126/2081_2100/wc2.1_30s_bioc_GISS-E2-1-G_ssp126_2081-2100.tif [1/1] : 0Using internal nodata values (e.g. nan) for image /home/Azure_linux_admin/Projdir/Mauritius_IAS/SSP126/2081_2100/wc2.1_30s_bioc_GISS-E2-1-G_ssp126_2081-2100.tif.\n",
      "Copying nodata values from source /home/Azure_linux_admin/Projdir/Mauritius_IAS/SSP126/2081_2100/wc2.1_30s_bioc_GISS-E2-1-G_ssp126_2081-2100.tif to destination /home/Azure_linux_admin/Projdir/Mauritius_IAS/SSP126/2081_2100/wc2.1_30s_bioc_GISS-E2-1-G_ssp126_2081-2100_clip.tif.\n",
      "...10...20...30...40...50...60...70...80...90...100 - done.\n",
      "Creating output file that is 829P x 1222L.\n",
      "Processing /home/Azure_linux_admin/Projdir/Mauritius_IAS/SSP126/2081_2100/wc2.1_30s_bioc_GISS-E2-1-H_ssp126_2081-2100.tif [1/1] : 0Using internal nodata values (e.g. nan) for image /home/Azure_linux_admin/Projdir/Mauritius_IAS/SSP126/2081_2100/wc2.1_30s_bioc_GISS-E2-1-H_ssp126_2081-2100.tif.\n",
      "Copying nodata values from source /home/Azure_linux_admin/Projdir/Mauritius_IAS/SSP126/2081_2100/wc2.1_30s_bioc_GISS-E2-1-H_ssp126_2081-2100.tif to destination /home/Azure_linux_admin/Projdir/Mauritius_IAS/SSP126/2081_2100/wc2.1_30s_bioc_GISS-E2-1-H_ssp126_2081-2100_clip.tif.\n",
      "...10...20...30...40...50...60...70...80...90...100 - done.\n",
      "Creating output file that is 829P x 1222L.\n",
      "Processing /home/Azure_linux_admin/Projdir/Mauritius_IAS/SSP126/2081_2100/wc2.1_30s_bioc_HadGEM3-GC31-LL_ssp126_2081-2100.tif [1/1] : 0Using internal nodata values (e.g. nan) for image /home/Azure_linux_admin/Projdir/Mauritius_IAS/SSP126/2081_2100/wc2.1_30s_bioc_HadGEM3-GC31-LL_ssp126_2081-2100.tif.\n",
      "Copying nodata values from source /home/Azure_linux_admin/Projdir/Mauritius_IAS/SSP126/2081_2100/wc2.1_30s_bioc_HadGEM3-GC31-LL_ssp126_2081-2100.tif to destination /home/Azure_linux_admin/Projdir/Mauritius_IAS/SSP126/2081_2100/wc2.1_30s_bioc_HadGEM3-GC31-LL_ssp126_2081-2100_clip.tif.\n",
      "...10...20...30...40...50...60...70...80...90...100 - done.\n",
      "Creating output file that is 829P x 1222L.\n",
      "Processing /home/Azure_linux_admin/Projdir/Mauritius_IAS/SSP126/2081_2100/wc2.1_30s_bioc_INM-CM4-8_ssp126_2081-2100.tif [1/1] : 0Using internal nodata values (e.g. nan) for image /home/Azure_linux_admin/Projdir/Mauritius_IAS/SSP126/2081_2100/wc2.1_30s_bioc_INM-CM4-8_ssp126_2081-2100.tif.\n",
      "Copying nodata values from source /home/Azure_linux_admin/Projdir/Mauritius_IAS/SSP126/2081_2100/wc2.1_30s_bioc_INM-CM4-8_ssp126_2081-2100.tif to destination /home/Azure_linux_admin/Projdir/Mauritius_IAS/SSP126/2081_2100/wc2.1_30s_bioc_INM-CM4-8_ssp126_2081-2100_clip.tif.\n",
      "...10...20...30...40...50...60...70...80...90...100 - done.\n",
      "Creating output file that is 829P x 1222L.\n",
      "Processing /home/Azure_linux_admin/Projdir/Mauritius_IAS/SSP126/2081_2100/wc2.1_30s_bioc_INM-CM5-0_ssp126_2081-2100.tif [1/1] : 0Using internal nodata values (e.g. nan) for image /home/Azure_linux_admin/Projdir/Mauritius_IAS/SSP126/2081_2100/wc2.1_30s_bioc_INM-CM5-0_ssp126_2081-2100.tif.\n",
      "Copying nodata values from source /home/Azure_linux_admin/Projdir/Mauritius_IAS/SSP126/2081_2100/wc2.1_30s_bioc_INM-CM5-0_ssp126_2081-2100.tif to destination /home/Azure_linux_admin/Projdir/Mauritius_IAS/SSP126/2081_2100/wc2.1_30s_bioc_INM-CM5-0_ssp126_2081-2100_clip.tif.\n",
      "...10...20...30...40...50...60...70...80...90...100 - done.\n",
      "Creating output file that is 829P x 1222L.\n",
      "Processing /home/Azure_linux_admin/Projdir/Mauritius_IAS/SSP126/2081_2100/wc2.1_30s_bioc_IPSL-CM6A-LR_ssp126_2081-2100.tif [1/1] : 0Using internal nodata values (e.g. nan) for image /home/Azure_linux_admin/Projdir/Mauritius_IAS/SSP126/2081_2100/wc2.1_30s_bioc_IPSL-CM6A-LR_ssp126_2081-2100.tif.\n",
      "Copying nodata values from source /home/Azure_linux_admin/Projdir/Mauritius_IAS/SSP126/2081_2100/wc2.1_30s_bioc_IPSL-CM6A-LR_ssp126_2081-2100.tif to destination /home/Azure_linux_admin/Projdir/Mauritius_IAS/SSP126/2081_2100/wc2.1_30s_bioc_IPSL-CM6A-LR_ssp126_2081-2100_clip.tif.\n",
      "...10...20...30...40...50...60...70...80...90...100 - done.\n",
      "Creating output file that is 829P x 1222L.\n",
      "Processing /home/Azure_linux_admin/Projdir/Mauritius_IAS/SSP126/2081_2100/wc2.1_30s_bioc_MIROC-ES2L_ssp126_2081-2100.tif [1/1] : 0Using internal nodata values (e.g. nan) for image /home/Azure_linux_admin/Projdir/Mauritius_IAS/SSP126/2081_2100/wc2.1_30s_bioc_MIROC-ES2L_ssp126_2081-2100.tif.\n",
      "Copying nodata values from source /home/Azure_linux_admin/Projdir/Mauritius_IAS/SSP126/2081_2100/wc2.1_30s_bioc_MIROC-ES2L_ssp126_2081-2100.tif to destination /home/Azure_linux_admin/Projdir/Mauritius_IAS/SSP126/2081_2100/wc2.1_30s_bioc_MIROC-ES2L_ssp126_2081-2100_clip.tif.\n",
      "...10...20...30...40...50...60...70...80...90...100 - done.\n",
      "Creating output file that is 829P x 1222L.\n",
      "Processing /home/Azure_linux_admin/Projdir/Mauritius_IAS/SSP126/2081_2100/wc2.1_30s_bioc_MIROC6_ssp126_2081-2100.tif [1/1] : 0Using internal nodata values (e.g. nan) for image /home/Azure_linux_admin/Projdir/Mauritius_IAS/SSP126/2081_2100/wc2.1_30s_bioc_MIROC6_ssp126_2081-2100.tif.\n",
      "Copying nodata values from source /home/Azure_linux_admin/Projdir/Mauritius_IAS/SSP126/2081_2100/wc2.1_30s_bioc_MIROC6_ssp126_2081-2100.tif to destination /home/Azure_linux_admin/Projdir/Mauritius_IAS/SSP126/2081_2100/wc2.1_30s_bioc_MIROC6_ssp126_2081-2100_clip.tif.\n",
      "...10...20...30...40...50...60...70...80...90...100 - done.\n",
      "Creating output file that is 829P x 1222L.\n",
      "Processing /home/Azure_linux_admin/Projdir/Mauritius_IAS/SSP126/2081_2100/wc2.1_30s_bioc_MPI-ESM1-2-HR_ssp126_2081-2100.tif [1/1] : 0Using internal nodata values (e.g. nan) for image /home/Azure_linux_admin/Projdir/Mauritius_IAS/SSP126/2081_2100/wc2.1_30s_bioc_MPI-ESM1-2-HR_ssp126_2081-2100.tif.\n",
      "Copying nodata values from source /home/Azure_linux_admin/Projdir/Mauritius_IAS/SSP126/2081_2100/wc2.1_30s_bioc_MPI-ESM1-2-HR_ssp126_2081-2100.tif to destination /home/Azure_linux_admin/Projdir/Mauritius_IAS/SSP126/2081_2100/wc2.1_30s_bioc_MPI-ESM1-2-HR_ssp126_2081-2100_clip.tif.\n",
      "...10...20...30...40...50...60...70...80...90...100 - done.\n",
      "Creating output file that is 829P x 1222L.\n",
      "Processing /home/Azure_linux_admin/Projdir/Mauritius_IAS/SSP126/2081_2100/wc2.1_30s_bioc_MPI-ESM1-2-LR_ssp126_2081-2100.tif [1/1] : 0Using internal nodata values (e.g. nan) for image /home/Azure_linux_admin/Projdir/Mauritius_IAS/SSP126/2081_2100/wc2.1_30s_bioc_MPI-ESM1-2-LR_ssp126_2081-2100.tif.\n",
      "Copying nodata values from source /home/Azure_linux_admin/Projdir/Mauritius_IAS/SSP126/2081_2100/wc2.1_30s_bioc_MPI-ESM1-2-LR_ssp126_2081-2100.tif to destination /home/Azure_linux_admin/Projdir/Mauritius_IAS/SSP126/2081_2100/wc2.1_30s_bioc_MPI-ESM1-2-LR_ssp126_2081-2100_clip.tif.\n",
      "...10...20...30...40...50...60...70...80...90...100 - done.\n",
      "Creating output file that is 829P x 1222L.\n",
      "Processing /home/Azure_linux_admin/Projdir/Mauritius_IAS/SSP126/2081_2100/wc2.1_30s_bioc_MRI-ESM2-0_ssp126_2081-2100.tif [1/1] : 0Using internal nodata values (e.g. nan) for image /home/Azure_linux_admin/Projdir/Mauritius_IAS/SSP126/2081_2100/wc2.1_30s_bioc_MRI-ESM2-0_ssp126_2081-2100.tif.\n",
      "Copying nodata values from source /home/Azure_linux_admin/Projdir/Mauritius_IAS/SSP126/2081_2100/wc2.1_30s_bioc_MRI-ESM2-0_ssp126_2081-2100.tif to destination /home/Azure_linux_admin/Projdir/Mauritius_IAS/SSP126/2081_2100/wc2.1_30s_bioc_MRI-ESM2-0_ssp126_2081-2100_clip.tif.\n",
      "...10...20...30...40...50...60...70...80...90...100 - done.\n"
     ]
    }
   ],
   "source": [
    "!bash ClipGCM.sh"
   ]
  },
  {
   "cell_type": "code",
   "execution_count": 74,
   "id": "e0586847",
   "metadata": {},
   "outputs": [
    {
     "data": {
      "text/plain": [
       "['ACCESS-CM2',\n",
       " 'ACCESS-ESM1-5',\n",
       " 'BCC-CSM2-MR',\n",
       " 'CMCC-ESM2',\n",
       " 'CNRM-CM6-1',\n",
       " 'CNRM-CM6-1-HR',\n",
       " 'CNRM-ESM2-1',\n",
       " 'CanESM5',\n",
       " 'CanESM5-CanOE',\n",
       " 'EC-Earth3-Veg',\n",
       " 'EC-Earth3-Veg-LR',\n",
       " 'FIO-ESM-2-0',\n",
       " 'GFDL-ESM4',\n",
       " 'GISS-E2-1-G',\n",
       " 'GISS-E2-1-H',\n",
       " 'HadGEM3-GC31-LL',\n",
       " 'INM-CM4-8',\n",
       " 'INM-CM5-0',\n",
       " 'IPSL-CM6A-LR',\n",
       " 'MIROC-ES2L',\n",
       " 'MIROC6',\n",
       " 'MPI-ESM1-2-HR',\n",
       " 'MPI-ESM1-2-LR',\n",
       " 'MRI-ESM2-0',\n",
       " 'UKESM1-0-LL',\n",
       " 'tif.zip']"
      ]
     },
     "execution_count": 74,
     "metadata": {},
     "output_type": "execute_result"
    }
   ],
   "source": [
    "sorted(os.listdir('SSP126/2061_2080/'))"
   ]
  },
  {
   "cell_type": "markdown",
   "id": "ee2b84e5",
   "metadata": {},
   "source": [
    "# Process 19Band Tiff per model"
   ]
  },
  {
   "cell_type": "markdown",
   "id": "4698ff9b",
   "metadata": {},
   "source": [
    "### Objective:\n",
    "\n",
    "For each Scenario, for each Period:\n",
    "1. Create a directory for each model\n",
    "2. Read and split the 19 band tif\n",
    "3. Write single band tif to model directory"
   ]
  },
  {
   "cell_type": "code",
   "execution_count": 71,
   "id": "82c6d4d2",
   "metadata": {
    "scrolled": true
   },
   "outputs": [
    {
     "name": "stdout",
     "output_type": "stream",
     "text": [
      "Scenario: SSP126\n",
      "Year: 2021_2040\n",
      "SSP126/2021_2040/GFDL-ESM4\n",
      "SSP126/2021_2040/GFDL-ESM4/B1.tif done\n",
      "SSP126/2021_2040/GFDL-ESM4/B2.tif done\n",
      "SSP126/2021_2040/GFDL-ESM4/B3.tif done\n",
      "SSP126/2021_2040/GFDL-ESM4/B4.tif done\n",
      "SSP126/2021_2040/GFDL-ESM4/B5.tif done\n",
      "SSP126/2021_2040/GFDL-ESM4/B6.tif done\n",
      "SSP126/2021_2040/GFDL-ESM4/B7.tif done\n",
      "SSP126/2021_2040/GFDL-ESM4/B8.tif done\n",
      "SSP126/2021_2040/GFDL-ESM4/B9.tif done\n",
      "SSP126/2021_2040/GFDL-ESM4/B10.tif done\n",
      "SSP126/2021_2040/GFDL-ESM4/B11.tif done\n",
      "SSP126/2021_2040/GFDL-ESM4/B12.tif done\n",
      "SSP126/2021_2040/GFDL-ESM4/B13.tif done\n",
      "SSP126/2021_2040/GFDL-ESM4/B14.tif done\n",
      "SSP126/2021_2040/GFDL-ESM4/B15.tif done\n",
      "SSP126/2021_2040/GFDL-ESM4/B16.tif done\n",
      "SSP126/2021_2040/GFDL-ESM4/B17.tif done\n",
      "SSP126/2021_2040/GFDL-ESM4/B18.tif done\n",
      "SSP126/2021_2040/GFDL-ESM4/B19.tif done\n",
      "SSP126/2021_2040/UKESM1-0-LL\n",
      "SSP126/2021_2040/UKESM1-0-LL/B1.tif done\n",
      "SSP126/2021_2040/UKESM1-0-LL/B2.tif done\n",
      "SSP126/2021_2040/UKESM1-0-LL/B3.tif done\n",
      "SSP126/2021_2040/UKESM1-0-LL/B4.tif done\n",
      "SSP126/2021_2040/UKESM1-0-LL/B5.tif done\n",
      "SSP126/2021_2040/UKESM1-0-LL/B6.tif done\n",
      "SSP126/2021_2040/UKESM1-0-LL/B7.tif done\n",
      "SSP126/2021_2040/UKESM1-0-LL/B8.tif done\n",
      "SSP126/2021_2040/UKESM1-0-LL/B9.tif done\n",
      "SSP126/2021_2040/UKESM1-0-LL/B10.tif done\n",
      "SSP126/2021_2040/UKESM1-0-LL/B11.tif done\n",
      "SSP126/2021_2040/UKESM1-0-LL/B12.tif done\n",
      "SSP126/2021_2040/UKESM1-0-LL/B13.tif done\n",
      "SSP126/2021_2040/UKESM1-0-LL/B14.tif done\n",
      "SSP126/2021_2040/UKESM1-0-LL/B15.tif done\n",
      "SSP126/2021_2040/UKESM1-0-LL/B16.tif done\n",
      "SSP126/2021_2040/UKESM1-0-LL/B17.tif done\n",
      "SSP126/2021_2040/UKESM1-0-LL/B18.tif done\n",
      "SSP126/2021_2040/UKESM1-0-LL/B19.tif done\n",
      "SSP126/2021_2040/ACCESS-CM2\n",
      "SSP126/2021_2040/ACCESS-CM2/B1.tif done\n",
      "SSP126/2021_2040/ACCESS-CM2/B2.tif done\n",
      "SSP126/2021_2040/ACCESS-CM2/B3.tif done\n",
      "SSP126/2021_2040/ACCESS-CM2/B4.tif done\n",
      "SSP126/2021_2040/ACCESS-CM2/B5.tif done\n",
      "SSP126/2021_2040/ACCESS-CM2/B6.tif done\n",
      "SSP126/2021_2040/ACCESS-CM2/B7.tif done\n",
      "SSP126/2021_2040/ACCESS-CM2/B8.tif done\n",
      "SSP126/2021_2040/ACCESS-CM2/B9.tif done\n",
      "SSP126/2021_2040/ACCESS-CM2/B10.tif done\n",
      "SSP126/2021_2040/ACCESS-CM2/B11.tif done\n",
      "SSP126/2021_2040/ACCESS-CM2/B12.tif done\n",
      "SSP126/2021_2040/ACCESS-CM2/B13.tif done\n",
      "SSP126/2021_2040/ACCESS-CM2/B14.tif done\n",
      "SSP126/2021_2040/ACCESS-CM2/B15.tif done\n",
      "SSP126/2021_2040/ACCESS-CM2/B16.tif done\n",
      "SSP126/2021_2040/ACCESS-CM2/B17.tif done\n",
      "SSP126/2021_2040/ACCESS-CM2/B18.tif done\n",
      "SSP126/2021_2040/ACCESS-CM2/B19.tif done\n",
      "SSP126/2021_2040/ACCESS-ESM1-5\n",
      "SSP126/2021_2040/ACCESS-ESM1-5/B1.tif done\n",
      "SSP126/2021_2040/ACCESS-ESM1-5/B2.tif done\n",
      "SSP126/2021_2040/ACCESS-ESM1-5/B3.tif done\n",
      "SSP126/2021_2040/ACCESS-ESM1-5/B4.tif done\n",
      "SSP126/2021_2040/ACCESS-ESM1-5/B5.tif done\n",
      "SSP126/2021_2040/ACCESS-ESM1-5/B6.tif done\n",
      "SSP126/2021_2040/ACCESS-ESM1-5/B7.tif done\n",
      "SSP126/2021_2040/ACCESS-ESM1-5/B8.tif done\n",
      "SSP126/2021_2040/ACCESS-ESM1-5/B9.tif done\n",
      "SSP126/2021_2040/ACCESS-ESM1-5/B10.tif done\n",
      "SSP126/2021_2040/ACCESS-ESM1-5/B11.tif done\n",
      "SSP126/2021_2040/ACCESS-ESM1-5/B12.tif done\n",
      "SSP126/2021_2040/ACCESS-ESM1-5/B13.tif done\n",
      "SSP126/2021_2040/ACCESS-ESM1-5/B14.tif done\n",
      "SSP126/2021_2040/ACCESS-ESM1-5/B15.tif done\n",
      "SSP126/2021_2040/ACCESS-ESM1-5/B16.tif done\n",
      "SSP126/2021_2040/ACCESS-ESM1-5/B17.tif done\n",
      "SSP126/2021_2040/ACCESS-ESM1-5/B18.tif done\n",
      "SSP126/2021_2040/ACCESS-ESM1-5/B19.tif done\n",
      "SSP126/2021_2040/BCC-CSM2-MR\n",
      "SSP126/2021_2040/BCC-CSM2-MR/B1.tif done\n",
      "SSP126/2021_2040/BCC-CSM2-MR/B2.tif done\n",
      "SSP126/2021_2040/BCC-CSM2-MR/B3.tif done\n",
      "SSP126/2021_2040/BCC-CSM2-MR/B4.tif done\n",
      "SSP126/2021_2040/BCC-CSM2-MR/B5.tif done\n",
      "SSP126/2021_2040/BCC-CSM2-MR/B6.tif done\n",
      "SSP126/2021_2040/BCC-CSM2-MR/B7.tif done\n",
      "SSP126/2021_2040/BCC-CSM2-MR/B8.tif done\n",
      "SSP126/2021_2040/BCC-CSM2-MR/B9.tif done\n",
      "SSP126/2021_2040/BCC-CSM2-MR/B10.tif done\n",
      "SSP126/2021_2040/BCC-CSM2-MR/B11.tif done\n",
      "SSP126/2021_2040/BCC-CSM2-MR/B12.tif done\n",
      "SSP126/2021_2040/BCC-CSM2-MR/B13.tif done\n",
      "SSP126/2021_2040/BCC-CSM2-MR/B14.tif done\n",
      "SSP126/2021_2040/BCC-CSM2-MR/B15.tif done\n",
      "SSP126/2021_2040/BCC-CSM2-MR/B16.tif done\n",
      "SSP126/2021_2040/BCC-CSM2-MR/B17.tif done\n",
      "SSP126/2021_2040/BCC-CSM2-MR/B18.tif done\n",
      "SSP126/2021_2040/BCC-CSM2-MR/B19.tif done\n",
      "SSP126/2021_2040/CanESM5\n",
      "SSP126/2021_2040/CanESM5/B1.tif done\n",
      "SSP126/2021_2040/CanESM5/B2.tif done\n",
      "SSP126/2021_2040/CanESM5/B3.tif done\n",
      "SSP126/2021_2040/CanESM5/B4.tif done\n",
      "SSP126/2021_2040/CanESM5/B5.tif done\n",
      "SSP126/2021_2040/CanESM5/B6.tif done\n",
      "SSP126/2021_2040/CanESM5/B7.tif done\n",
      "SSP126/2021_2040/CanESM5/B8.tif done\n",
      "SSP126/2021_2040/CanESM5/B9.tif done\n",
      "SSP126/2021_2040/CanESM5/B10.tif done\n",
      "SSP126/2021_2040/CanESM5/B11.tif done\n",
      "SSP126/2021_2040/CanESM5/B12.tif done\n",
      "SSP126/2021_2040/CanESM5/B13.tif done\n",
      "SSP126/2021_2040/CanESM5/B14.tif done\n",
      "SSP126/2021_2040/CanESM5/B15.tif done\n",
      "SSP126/2021_2040/CanESM5/B16.tif done\n",
      "SSP126/2021_2040/CanESM5/B17.tif done\n",
      "SSP126/2021_2040/CanESM5/B18.tif done\n",
      "SSP126/2021_2040/CanESM5/B19.tif done\n",
      "SSP126/2021_2040/CanESM5-CanOE\n",
      "SSP126/2021_2040/CanESM5-CanOE/B1.tif done\n",
      "SSP126/2021_2040/CanESM5-CanOE/B2.tif done\n",
      "SSP126/2021_2040/CanESM5-CanOE/B3.tif done\n",
      "SSP126/2021_2040/CanESM5-CanOE/B4.tif done\n",
      "SSP126/2021_2040/CanESM5-CanOE/B5.tif done\n",
      "SSP126/2021_2040/CanESM5-CanOE/B6.tif done\n",
      "SSP126/2021_2040/CanESM5-CanOE/B7.tif done\n",
      "SSP126/2021_2040/CanESM5-CanOE/B8.tif done\n",
      "SSP126/2021_2040/CanESM5-CanOE/B9.tif done\n",
      "SSP126/2021_2040/CanESM5-CanOE/B10.tif done\n",
      "SSP126/2021_2040/CanESM5-CanOE/B11.tif done\n",
      "SSP126/2021_2040/CanESM5-CanOE/B12.tif done\n",
      "SSP126/2021_2040/CanESM5-CanOE/B13.tif done\n",
      "SSP126/2021_2040/CanESM5-CanOE/B14.tif done\n",
      "SSP126/2021_2040/CanESM5-CanOE/B15.tif done\n",
      "SSP126/2021_2040/CanESM5-CanOE/B16.tif done\n",
      "SSP126/2021_2040/CanESM5-CanOE/B17.tif done\n",
      "SSP126/2021_2040/CanESM5-CanOE/B18.tif done\n",
      "SSP126/2021_2040/CanESM5-CanOE/B19.tif done\n",
      "SSP126/2021_2040/CMCC-ESM2\n",
      "SSP126/2021_2040/CMCC-ESM2/B1.tif done\n",
      "SSP126/2021_2040/CMCC-ESM2/B2.tif done\n",
      "SSP126/2021_2040/CMCC-ESM2/B3.tif done\n",
      "SSP126/2021_2040/CMCC-ESM2/B4.tif done\n",
      "SSP126/2021_2040/CMCC-ESM2/B5.tif done\n",
      "SSP126/2021_2040/CMCC-ESM2/B6.tif done\n",
      "SSP126/2021_2040/CMCC-ESM2/B7.tif done\n",
      "SSP126/2021_2040/CMCC-ESM2/B8.tif done\n",
      "SSP126/2021_2040/CMCC-ESM2/B9.tif done\n",
      "SSP126/2021_2040/CMCC-ESM2/B10.tif done\n",
      "SSP126/2021_2040/CMCC-ESM2/B11.tif done\n",
      "SSP126/2021_2040/CMCC-ESM2/B12.tif done\n",
      "SSP126/2021_2040/CMCC-ESM2/B13.tif done\n",
      "SSP126/2021_2040/CMCC-ESM2/B14.tif done\n",
      "SSP126/2021_2040/CMCC-ESM2/B15.tif done\n",
      "SSP126/2021_2040/CMCC-ESM2/B16.tif done\n",
      "SSP126/2021_2040/CMCC-ESM2/B17.tif done\n",
      "SSP126/2021_2040/CMCC-ESM2/B18.tif done\n",
      "SSP126/2021_2040/CMCC-ESM2/B19.tif done\n",
      "SSP126/2021_2040/CNRM-CM6-1\n",
      "SSP126/2021_2040/CNRM-CM6-1/B1.tif done\n",
      "SSP126/2021_2040/CNRM-CM6-1/B2.tif done\n",
      "SSP126/2021_2040/CNRM-CM6-1/B3.tif done\n",
      "SSP126/2021_2040/CNRM-CM6-1/B4.tif done\n",
      "SSP126/2021_2040/CNRM-CM6-1/B5.tif done\n",
      "SSP126/2021_2040/CNRM-CM6-1/B6.tif done\n",
      "SSP126/2021_2040/CNRM-CM6-1/B7.tif done\n",
      "SSP126/2021_2040/CNRM-CM6-1/B8.tif done\n",
      "SSP126/2021_2040/CNRM-CM6-1/B9.tif done\n",
      "SSP126/2021_2040/CNRM-CM6-1/B10.tif done\n",
      "SSP126/2021_2040/CNRM-CM6-1/B11.tif done\n",
      "SSP126/2021_2040/CNRM-CM6-1/B12.tif done\n",
      "SSP126/2021_2040/CNRM-CM6-1/B13.tif done\n",
      "SSP126/2021_2040/CNRM-CM6-1/B14.tif done\n",
      "SSP126/2021_2040/CNRM-CM6-1/B15.tif done\n",
      "SSP126/2021_2040/CNRM-CM6-1/B16.tif done\n",
      "SSP126/2021_2040/CNRM-CM6-1/B17.tif done\n",
      "SSP126/2021_2040/CNRM-CM6-1/B18.tif done\n",
      "SSP126/2021_2040/CNRM-CM6-1/B19.tif done\n",
      "SSP126/2021_2040/CNRM-CM6-1-HR\n",
      "SSP126/2021_2040/CNRM-CM6-1-HR/B1.tif done\n",
      "SSP126/2021_2040/CNRM-CM6-1-HR/B2.tif done\n",
      "SSP126/2021_2040/CNRM-CM6-1-HR/B3.tif done\n",
      "SSP126/2021_2040/CNRM-CM6-1-HR/B4.tif done\n",
      "SSP126/2021_2040/CNRM-CM6-1-HR/B5.tif done\n",
      "SSP126/2021_2040/CNRM-CM6-1-HR/B6.tif done\n",
      "SSP126/2021_2040/CNRM-CM6-1-HR/B7.tif done\n",
      "SSP126/2021_2040/CNRM-CM6-1-HR/B8.tif done\n",
      "SSP126/2021_2040/CNRM-CM6-1-HR/B9.tif done\n",
      "SSP126/2021_2040/CNRM-CM6-1-HR/B10.tif done\n",
      "SSP126/2021_2040/CNRM-CM6-1-HR/B11.tif done\n",
      "SSP126/2021_2040/CNRM-CM6-1-HR/B12.tif done\n",
      "SSP126/2021_2040/CNRM-CM6-1-HR/B13.tif done\n",
      "SSP126/2021_2040/CNRM-CM6-1-HR/B14.tif done\n",
      "SSP126/2021_2040/CNRM-CM6-1-HR/B15.tif done\n",
      "SSP126/2021_2040/CNRM-CM6-1-HR/B16.tif done\n",
      "SSP126/2021_2040/CNRM-CM6-1-HR/B17.tif done\n",
      "SSP126/2021_2040/CNRM-CM6-1-HR/B18.tif done\n",
      "SSP126/2021_2040/CNRM-CM6-1-HR/B19.tif done\n",
      "SSP126/2021_2040/CNRM-ESM2-1\n",
      "SSP126/2021_2040/CNRM-ESM2-1/B1.tif done\n",
      "SSP126/2021_2040/CNRM-ESM2-1/B2.tif done\n",
      "SSP126/2021_2040/CNRM-ESM2-1/B3.tif done\n",
      "SSP126/2021_2040/CNRM-ESM2-1/B4.tif done\n"
     ]
    },
    {
     "name": "stdout",
     "output_type": "stream",
     "text": [
      "SSP126/2021_2040/CNRM-ESM2-1/B5.tif done\n",
      "SSP126/2021_2040/CNRM-ESM2-1/B6.tif done\n",
      "SSP126/2021_2040/CNRM-ESM2-1/B7.tif done\n",
      "SSP126/2021_2040/CNRM-ESM2-1/B8.tif done\n",
      "SSP126/2021_2040/CNRM-ESM2-1/B9.tif done\n",
      "SSP126/2021_2040/CNRM-ESM2-1/B10.tif done\n",
      "SSP126/2021_2040/CNRM-ESM2-1/B11.tif done\n",
      "SSP126/2021_2040/CNRM-ESM2-1/B12.tif done\n",
      "SSP126/2021_2040/CNRM-ESM2-1/B13.tif done\n",
      "SSP126/2021_2040/CNRM-ESM2-1/B14.tif done\n",
      "SSP126/2021_2040/CNRM-ESM2-1/B15.tif done\n",
      "SSP126/2021_2040/CNRM-ESM2-1/B16.tif done\n",
      "SSP126/2021_2040/CNRM-ESM2-1/B17.tif done\n",
      "SSP126/2021_2040/CNRM-ESM2-1/B18.tif done\n",
      "SSP126/2021_2040/CNRM-ESM2-1/B19.tif done\n",
      "SSP126/2021_2040/EC-Earth3-Veg\n",
      "SSP126/2021_2040/EC-Earth3-Veg/B1.tif done\n",
      "SSP126/2021_2040/EC-Earth3-Veg/B2.tif done\n",
      "SSP126/2021_2040/EC-Earth3-Veg/B3.tif done\n",
      "SSP126/2021_2040/EC-Earth3-Veg/B4.tif done\n",
      "SSP126/2021_2040/EC-Earth3-Veg/B5.tif done\n",
      "SSP126/2021_2040/EC-Earth3-Veg/B6.tif done\n",
      "SSP126/2021_2040/EC-Earth3-Veg/B7.tif done\n",
      "SSP126/2021_2040/EC-Earth3-Veg/B8.tif done\n",
      "SSP126/2021_2040/EC-Earth3-Veg/B9.tif done\n",
      "SSP126/2021_2040/EC-Earth3-Veg/B10.tif done\n",
      "SSP126/2021_2040/EC-Earth3-Veg/B11.tif done\n",
      "SSP126/2021_2040/EC-Earth3-Veg/B12.tif done\n",
      "SSP126/2021_2040/EC-Earth3-Veg/B13.tif done\n",
      "SSP126/2021_2040/EC-Earth3-Veg/B14.tif done\n",
      "SSP126/2021_2040/EC-Earth3-Veg/B15.tif done\n",
      "SSP126/2021_2040/EC-Earth3-Veg/B16.tif done\n",
      "SSP126/2021_2040/EC-Earth3-Veg/B17.tif done\n",
      "SSP126/2021_2040/EC-Earth3-Veg/B18.tif done\n",
      "SSP126/2021_2040/EC-Earth3-Veg/B19.tif done\n",
      "SSP126/2021_2040/EC-Earth3-Veg-LR\n",
      "SSP126/2021_2040/EC-Earth3-Veg-LR/B1.tif done\n",
      "SSP126/2021_2040/EC-Earth3-Veg-LR/B2.tif done\n",
      "SSP126/2021_2040/EC-Earth3-Veg-LR/B3.tif done\n",
      "SSP126/2021_2040/EC-Earth3-Veg-LR/B4.tif done\n",
      "SSP126/2021_2040/EC-Earth3-Veg-LR/B5.tif done\n",
      "SSP126/2021_2040/EC-Earth3-Veg-LR/B6.tif done\n",
      "SSP126/2021_2040/EC-Earth3-Veg-LR/B7.tif done\n",
      "SSP126/2021_2040/EC-Earth3-Veg-LR/B8.tif done\n",
      "SSP126/2021_2040/EC-Earth3-Veg-LR/B9.tif done\n",
      "SSP126/2021_2040/EC-Earth3-Veg-LR/B10.tif done\n",
      "SSP126/2021_2040/EC-Earth3-Veg-LR/B11.tif done\n",
      "SSP126/2021_2040/EC-Earth3-Veg-LR/B12.tif done\n",
      "SSP126/2021_2040/EC-Earth3-Veg-LR/B13.tif done\n",
      "SSP126/2021_2040/EC-Earth3-Veg-LR/B14.tif done\n",
      "SSP126/2021_2040/EC-Earth3-Veg-LR/B15.tif done\n",
      "SSP126/2021_2040/EC-Earth3-Veg-LR/B16.tif done\n",
      "SSP126/2021_2040/EC-Earth3-Veg-LR/B17.tif done\n",
      "SSP126/2021_2040/EC-Earth3-Veg-LR/B18.tif done\n",
      "SSP126/2021_2040/EC-Earth3-Veg-LR/B19.tif done\n",
      "SSP126/2021_2040/FIO-ESM-2-0\n",
      "SSP126/2021_2040/FIO-ESM-2-0/B1.tif done\n",
      "SSP126/2021_2040/FIO-ESM-2-0/B2.tif done\n",
      "SSP126/2021_2040/FIO-ESM-2-0/B3.tif done\n",
      "SSP126/2021_2040/FIO-ESM-2-0/B4.tif done\n",
      "SSP126/2021_2040/FIO-ESM-2-0/B5.tif done\n",
      "SSP126/2021_2040/FIO-ESM-2-0/B6.tif done\n",
      "SSP126/2021_2040/FIO-ESM-2-0/B7.tif done\n",
      "SSP126/2021_2040/FIO-ESM-2-0/B8.tif done\n",
      "SSP126/2021_2040/FIO-ESM-2-0/B9.tif done\n",
      "SSP126/2021_2040/FIO-ESM-2-0/B10.tif done\n",
      "SSP126/2021_2040/FIO-ESM-2-0/B11.tif done\n",
      "SSP126/2021_2040/FIO-ESM-2-0/B12.tif done\n",
      "SSP126/2021_2040/FIO-ESM-2-0/B13.tif done\n",
      "SSP126/2021_2040/FIO-ESM-2-0/B14.tif done\n",
      "SSP126/2021_2040/FIO-ESM-2-0/B15.tif done\n",
      "SSP126/2021_2040/FIO-ESM-2-0/B16.tif done\n",
      "SSP126/2021_2040/FIO-ESM-2-0/B17.tif done\n",
      "SSP126/2021_2040/FIO-ESM-2-0/B18.tif done\n",
      "SSP126/2021_2040/FIO-ESM-2-0/B19.tif done\n",
      "SSP126/2021_2040/GISS-E2-1-G\n",
      "SSP126/2021_2040/GISS-E2-1-G/B1.tif done\n",
      "SSP126/2021_2040/GISS-E2-1-G/B2.tif done\n",
      "SSP126/2021_2040/GISS-E2-1-G/B3.tif done\n",
      "SSP126/2021_2040/GISS-E2-1-G/B4.tif done\n",
      "SSP126/2021_2040/GISS-E2-1-G/B5.tif done\n",
      "SSP126/2021_2040/GISS-E2-1-G/B6.tif done\n",
      "SSP126/2021_2040/GISS-E2-1-G/B7.tif done\n",
      "SSP126/2021_2040/GISS-E2-1-G/B8.tif done\n",
      "SSP126/2021_2040/GISS-E2-1-G/B9.tif done\n",
      "SSP126/2021_2040/GISS-E2-1-G/B10.tif done\n",
      "SSP126/2021_2040/GISS-E2-1-G/B11.tif done\n",
      "SSP126/2021_2040/GISS-E2-1-G/B12.tif done\n",
      "SSP126/2021_2040/GISS-E2-1-G/B13.tif done\n",
      "SSP126/2021_2040/GISS-E2-1-G/B14.tif done\n",
      "SSP126/2021_2040/GISS-E2-1-G/B15.tif done\n",
      "SSP126/2021_2040/GISS-E2-1-G/B16.tif done\n",
      "SSP126/2021_2040/GISS-E2-1-G/B17.tif done\n",
      "SSP126/2021_2040/GISS-E2-1-G/B18.tif done\n",
      "SSP126/2021_2040/GISS-E2-1-G/B19.tif done\n",
      "SSP126/2021_2040/GISS-E2-1-H\n",
      "SSP126/2021_2040/GISS-E2-1-H/B1.tif done\n",
      "SSP126/2021_2040/GISS-E2-1-H/B2.tif done\n",
      "SSP126/2021_2040/GISS-E2-1-H/B3.tif done\n",
      "SSP126/2021_2040/GISS-E2-1-H/B4.tif done\n",
      "SSP126/2021_2040/GISS-E2-1-H/B5.tif done\n",
      "SSP126/2021_2040/GISS-E2-1-H/B6.tif done\n",
      "SSP126/2021_2040/GISS-E2-1-H/B7.tif done\n",
      "SSP126/2021_2040/GISS-E2-1-H/B8.tif done\n",
      "SSP126/2021_2040/GISS-E2-1-H/B9.tif done\n",
      "SSP126/2021_2040/GISS-E2-1-H/B10.tif done\n",
      "SSP126/2021_2040/GISS-E2-1-H/B11.tif done\n",
      "SSP126/2021_2040/GISS-E2-1-H/B12.tif done\n",
      "SSP126/2021_2040/GISS-E2-1-H/B13.tif done\n",
      "SSP126/2021_2040/GISS-E2-1-H/B14.tif done\n",
      "SSP126/2021_2040/GISS-E2-1-H/B15.tif done\n",
      "SSP126/2021_2040/GISS-E2-1-H/B16.tif done\n",
      "SSP126/2021_2040/GISS-E2-1-H/B17.tif done\n",
      "SSP126/2021_2040/GISS-E2-1-H/B18.tif done\n",
      "SSP126/2021_2040/GISS-E2-1-H/B19.tif done\n",
      "SSP126/2021_2040/HadGEM3-GC31-LL\n",
      "SSP126/2021_2040/HadGEM3-GC31-LL/B1.tif done\n",
      "SSP126/2021_2040/HadGEM3-GC31-LL/B2.tif done\n",
      "SSP126/2021_2040/HadGEM3-GC31-LL/B3.tif done\n",
      "SSP126/2021_2040/HadGEM3-GC31-LL/B4.tif done\n",
      "SSP126/2021_2040/HadGEM3-GC31-LL/B5.tif done\n",
      "SSP126/2021_2040/HadGEM3-GC31-LL/B6.tif done\n",
      "SSP126/2021_2040/HadGEM3-GC31-LL/B7.tif done\n",
      "SSP126/2021_2040/HadGEM3-GC31-LL/B8.tif done\n",
      "SSP126/2021_2040/HadGEM3-GC31-LL/B9.tif done\n",
      "SSP126/2021_2040/HadGEM3-GC31-LL/B10.tif done\n",
      "SSP126/2021_2040/HadGEM3-GC31-LL/B11.tif done\n",
      "SSP126/2021_2040/HadGEM3-GC31-LL/B12.tif done\n",
      "SSP126/2021_2040/HadGEM3-GC31-LL/B13.tif done\n",
      "SSP126/2021_2040/HadGEM3-GC31-LL/B14.tif done\n",
      "SSP126/2021_2040/HadGEM3-GC31-LL/B15.tif done\n",
      "SSP126/2021_2040/HadGEM3-GC31-LL/B16.tif done\n",
      "SSP126/2021_2040/HadGEM3-GC31-LL/B17.tif done\n",
      "SSP126/2021_2040/HadGEM3-GC31-LL/B18.tif done\n",
      "SSP126/2021_2040/HadGEM3-GC31-LL/B19.tif done\n",
      "SSP126/2021_2040/INM-CM4-8\n",
      "SSP126/2021_2040/INM-CM4-8/B1.tif done\n",
      "SSP126/2021_2040/INM-CM4-8/B2.tif done\n",
      "SSP126/2021_2040/INM-CM4-8/B3.tif done\n",
      "SSP126/2021_2040/INM-CM4-8/B4.tif done\n",
      "SSP126/2021_2040/INM-CM4-8/B5.tif done\n",
      "SSP126/2021_2040/INM-CM4-8/B6.tif done\n",
      "SSP126/2021_2040/INM-CM4-8/B7.tif done\n",
      "SSP126/2021_2040/INM-CM4-8/B8.tif done\n",
      "SSP126/2021_2040/INM-CM4-8/B9.tif done\n",
      "SSP126/2021_2040/INM-CM4-8/B10.tif done\n",
      "SSP126/2021_2040/INM-CM4-8/B11.tif done\n",
      "SSP126/2021_2040/INM-CM4-8/B12.tif done\n",
      "SSP126/2021_2040/INM-CM4-8/B13.tif done\n",
      "SSP126/2021_2040/INM-CM4-8/B14.tif done\n",
      "SSP126/2021_2040/INM-CM4-8/B15.tif done\n",
      "SSP126/2021_2040/INM-CM4-8/B16.tif done\n",
      "SSP126/2021_2040/INM-CM4-8/B17.tif done\n",
      "SSP126/2021_2040/INM-CM4-8/B18.tif done\n",
      "SSP126/2021_2040/INM-CM4-8/B19.tif done\n",
      "SSP126/2021_2040/INM-CM5-0\n",
      "SSP126/2021_2040/INM-CM5-0/B1.tif done\n",
      "SSP126/2021_2040/INM-CM5-0/B2.tif done\n",
      "SSP126/2021_2040/INM-CM5-0/B3.tif done\n",
      "SSP126/2021_2040/INM-CM5-0/B4.tif done\n",
      "SSP126/2021_2040/INM-CM5-0/B5.tif done\n",
      "SSP126/2021_2040/INM-CM5-0/B6.tif done\n",
      "SSP126/2021_2040/INM-CM5-0/B7.tif done\n",
      "SSP126/2021_2040/INM-CM5-0/B8.tif done\n",
      "SSP126/2021_2040/INM-CM5-0/B9.tif done\n",
      "SSP126/2021_2040/INM-CM5-0/B10.tif done\n",
      "SSP126/2021_2040/INM-CM5-0/B11.tif done\n",
      "SSP126/2021_2040/INM-CM5-0/B12.tif done\n",
      "SSP126/2021_2040/INM-CM5-0/B13.tif done\n",
      "SSP126/2021_2040/INM-CM5-0/B14.tif done\n",
      "SSP126/2021_2040/INM-CM5-0/B15.tif done\n",
      "SSP126/2021_2040/INM-CM5-0/B16.tif done\n",
      "SSP126/2021_2040/INM-CM5-0/B17.tif done\n",
      "SSP126/2021_2040/INM-CM5-0/B18.tif done\n",
      "SSP126/2021_2040/INM-CM5-0/B19.tif done\n",
      "SSP126/2021_2040/IPSL-CM6A-LR\n",
      "SSP126/2021_2040/IPSL-CM6A-LR/B1.tif done\n",
      "SSP126/2021_2040/IPSL-CM6A-LR/B2.tif done\n",
      "SSP126/2021_2040/IPSL-CM6A-LR/B3.tif done\n",
      "SSP126/2021_2040/IPSL-CM6A-LR/B4.tif done\n",
      "SSP126/2021_2040/IPSL-CM6A-LR/B5.tif done\n",
      "SSP126/2021_2040/IPSL-CM6A-LR/B6.tif done\n",
      "SSP126/2021_2040/IPSL-CM6A-LR/B7.tif done\n",
      "SSP126/2021_2040/IPSL-CM6A-LR/B8.tif done\n",
      "SSP126/2021_2040/IPSL-CM6A-LR/B9.tif done\n",
      "SSP126/2021_2040/IPSL-CM6A-LR/B10.tif done\n",
      "SSP126/2021_2040/IPSL-CM6A-LR/B11.tif done\n",
      "SSP126/2021_2040/IPSL-CM6A-LR/B12.tif done\n",
      "SSP126/2021_2040/IPSL-CM6A-LR/B13.tif done\n",
      "SSP126/2021_2040/IPSL-CM6A-LR/B14.tif done\n",
      "SSP126/2021_2040/IPSL-CM6A-LR/B15.tif done\n",
      "SSP126/2021_2040/IPSL-CM6A-LR/B16.tif done\n",
      "SSP126/2021_2040/IPSL-CM6A-LR/B17.tif done\n",
      "SSP126/2021_2040/IPSL-CM6A-LR/B18.tif done\n",
      "SSP126/2021_2040/IPSL-CM6A-LR/B19.tif done\n",
      "SSP126/2021_2040/MIROC-ES2L\n",
      "SSP126/2021_2040/MIROC-ES2L/B1.tif done\n",
      "SSP126/2021_2040/MIROC-ES2L/B2.tif done\n",
      "SSP126/2021_2040/MIROC-ES2L/B3.tif done\n"
     ]
    },
    {
     "name": "stdout",
     "output_type": "stream",
     "text": [
      "SSP126/2021_2040/MIROC-ES2L/B4.tif done\n",
      "SSP126/2021_2040/MIROC-ES2L/B5.tif done\n",
      "SSP126/2021_2040/MIROC-ES2L/B6.tif done\n",
      "SSP126/2021_2040/MIROC-ES2L/B7.tif done\n",
      "SSP126/2021_2040/MIROC-ES2L/B8.tif done\n",
      "SSP126/2021_2040/MIROC-ES2L/B9.tif done\n",
      "SSP126/2021_2040/MIROC-ES2L/B10.tif done\n",
      "SSP126/2021_2040/MIROC-ES2L/B11.tif done\n",
      "SSP126/2021_2040/MIROC-ES2L/B12.tif done\n",
      "SSP126/2021_2040/MIROC-ES2L/B13.tif done\n",
      "SSP126/2021_2040/MIROC-ES2L/B14.tif done\n",
      "SSP126/2021_2040/MIROC-ES2L/B15.tif done\n",
      "SSP126/2021_2040/MIROC-ES2L/B16.tif done\n",
      "SSP126/2021_2040/MIROC-ES2L/B17.tif done\n",
      "SSP126/2021_2040/MIROC-ES2L/B18.tif done\n",
      "SSP126/2021_2040/MIROC-ES2L/B19.tif done\n",
      "SSP126/2021_2040/MIROC6\n",
      "SSP126/2021_2040/MIROC6/B1.tif done\n",
      "SSP126/2021_2040/MIROC6/B2.tif done\n",
      "SSP126/2021_2040/MIROC6/B3.tif done\n",
      "SSP126/2021_2040/MIROC6/B4.tif done\n",
      "SSP126/2021_2040/MIROC6/B5.tif done\n",
      "SSP126/2021_2040/MIROC6/B6.tif done\n",
      "SSP126/2021_2040/MIROC6/B7.tif done\n",
      "SSP126/2021_2040/MIROC6/B8.tif done\n",
      "SSP126/2021_2040/MIROC6/B9.tif done\n",
      "SSP126/2021_2040/MIROC6/B10.tif done\n",
      "SSP126/2021_2040/MIROC6/B11.tif done\n",
      "SSP126/2021_2040/MIROC6/B12.tif done\n",
      "SSP126/2021_2040/MIROC6/B13.tif done\n",
      "SSP126/2021_2040/MIROC6/B14.tif done\n",
      "SSP126/2021_2040/MIROC6/B15.tif done\n",
      "SSP126/2021_2040/MIROC6/B16.tif done\n",
      "SSP126/2021_2040/MIROC6/B17.tif done\n",
      "SSP126/2021_2040/MIROC6/B18.tif done\n",
      "SSP126/2021_2040/MIROC6/B19.tif done\n",
      "SSP126/2021_2040/MPI-ESM1-2-HR\n",
      "SSP126/2021_2040/MPI-ESM1-2-HR/B1.tif done\n",
      "SSP126/2021_2040/MPI-ESM1-2-HR/B2.tif done\n",
      "SSP126/2021_2040/MPI-ESM1-2-HR/B3.tif done\n",
      "SSP126/2021_2040/MPI-ESM1-2-HR/B4.tif done\n",
      "SSP126/2021_2040/MPI-ESM1-2-HR/B5.tif done\n",
      "SSP126/2021_2040/MPI-ESM1-2-HR/B6.tif done\n",
      "SSP126/2021_2040/MPI-ESM1-2-HR/B7.tif done\n",
      "SSP126/2021_2040/MPI-ESM1-2-HR/B8.tif done\n",
      "SSP126/2021_2040/MPI-ESM1-2-HR/B9.tif done\n",
      "SSP126/2021_2040/MPI-ESM1-2-HR/B10.tif done\n",
      "SSP126/2021_2040/MPI-ESM1-2-HR/B11.tif done\n",
      "SSP126/2021_2040/MPI-ESM1-2-HR/B12.tif done\n",
      "SSP126/2021_2040/MPI-ESM1-2-HR/B13.tif done\n",
      "SSP126/2021_2040/MPI-ESM1-2-HR/B14.tif done\n",
      "SSP126/2021_2040/MPI-ESM1-2-HR/B15.tif done\n",
      "SSP126/2021_2040/MPI-ESM1-2-HR/B16.tif done\n",
      "SSP126/2021_2040/MPI-ESM1-2-HR/B17.tif done\n",
      "SSP126/2021_2040/MPI-ESM1-2-HR/B18.tif done\n",
      "SSP126/2021_2040/MPI-ESM1-2-HR/B19.tif done\n",
      "SSP126/2021_2040/MPI-ESM1-2-LR\n",
      "SSP126/2021_2040/MPI-ESM1-2-LR/B1.tif done\n",
      "SSP126/2021_2040/MPI-ESM1-2-LR/B2.tif done\n",
      "SSP126/2021_2040/MPI-ESM1-2-LR/B3.tif done\n",
      "SSP126/2021_2040/MPI-ESM1-2-LR/B4.tif done\n",
      "SSP126/2021_2040/MPI-ESM1-2-LR/B5.tif done\n",
      "SSP126/2021_2040/MPI-ESM1-2-LR/B6.tif done\n",
      "SSP126/2021_2040/MPI-ESM1-2-LR/B7.tif done\n",
      "SSP126/2021_2040/MPI-ESM1-2-LR/B8.tif done\n",
      "SSP126/2021_2040/MPI-ESM1-2-LR/B9.tif done\n",
      "SSP126/2021_2040/MPI-ESM1-2-LR/B10.tif done\n",
      "SSP126/2021_2040/MPI-ESM1-2-LR/B11.tif done\n",
      "SSP126/2021_2040/MPI-ESM1-2-LR/B12.tif done\n",
      "SSP126/2021_2040/MPI-ESM1-2-LR/B13.tif done\n",
      "SSP126/2021_2040/MPI-ESM1-2-LR/B14.tif done\n",
      "SSP126/2021_2040/MPI-ESM1-2-LR/B15.tif done\n",
      "SSP126/2021_2040/MPI-ESM1-2-LR/B16.tif done\n",
      "SSP126/2021_2040/MPI-ESM1-2-LR/B17.tif done\n",
      "SSP126/2021_2040/MPI-ESM1-2-LR/B18.tif done\n",
      "SSP126/2021_2040/MPI-ESM1-2-LR/B19.tif done\n",
      "SSP126/2021_2040/MRI-ESM2-0\n",
      "SSP126/2021_2040/MRI-ESM2-0/B1.tif done\n",
      "SSP126/2021_2040/MRI-ESM2-0/B2.tif done\n",
      "SSP126/2021_2040/MRI-ESM2-0/B3.tif done\n",
      "SSP126/2021_2040/MRI-ESM2-0/B4.tif done\n",
      "SSP126/2021_2040/MRI-ESM2-0/B5.tif done\n",
      "SSP126/2021_2040/MRI-ESM2-0/B6.tif done\n",
      "SSP126/2021_2040/MRI-ESM2-0/B7.tif done\n",
      "SSP126/2021_2040/MRI-ESM2-0/B8.tif done\n",
      "SSP126/2021_2040/MRI-ESM2-0/B9.tif done\n",
      "SSP126/2021_2040/MRI-ESM2-0/B10.tif done\n",
      "SSP126/2021_2040/MRI-ESM2-0/B11.tif done\n",
      "SSP126/2021_2040/MRI-ESM2-0/B12.tif done\n",
      "SSP126/2021_2040/MRI-ESM2-0/B13.tif done\n",
      "SSP126/2021_2040/MRI-ESM2-0/B14.tif done\n",
      "SSP126/2021_2040/MRI-ESM2-0/B15.tif done\n",
      "SSP126/2021_2040/MRI-ESM2-0/B16.tif done\n",
      "SSP126/2021_2040/MRI-ESM2-0/B17.tif done\n",
      "SSP126/2021_2040/MRI-ESM2-0/B18.tif done\n",
      "SSP126/2021_2040/MRI-ESM2-0/B19.tif done\n",
      "Year: 2041_2060\n",
      "SSP126/2041_2060/GFDL-ESM4\n",
      "SSP126/2041_2060/GFDL-ESM4/B1.tif done\n",
      "SSP126/2041_2060/GFDL-ESM4/B2.tif done\n",
      "SSP126/2041_2060/GFDL-ESM4/B3.tif done\n",
      "SSP126/2041_2060/GFDL-ESM4/B4.tif done\n",
      "SSP126/2041_2060/GFDL-ESM4/B5.tif done\n",
      "SSP126/2041_2060/GFDL-ESM4/B6.tif done\n",
      "SSP126/2041_2060/GFDL-ESM4/B7.tif done\n",
      "SSP126/2041_2060/GFDL-ESM4/B8.tif done\n",
      "SSP126/2041_2060/GFDL-ESM4/B9.tif done\n",
      "SSP126/2041_2060/GFDL-ESM4/B10.tif done\n",
      "SSP126/2041_2060/GFDL-ESM4/B11.tif done\n",
      "SSP126/2041_2060/GFDL-ESM4/B12.tif done\n",
      "SSP126/2041_2060/GFDL-ESM4/B13.tif done\n",
      "SSP126/2041_2060/GFDL-ESM4/B14.tif done\n",
      "SSP126/2041_2060/GFDL-ESM4/B15.tif done\n",
      "SSP126/2041_2060/GFDL-ESM4/B16.tif done\n",
      "SSP126/2041_2060/GFDL-ESM4/B17.tif done\n",
      "SSP126/2041_2060/GFDL-ESM4/B18.tif done\n",
      "SSP126/2041_2060/GFDL-ESM4/B19.tif done\n",
      "SSP126/2041_2060/UKESM1-0-LL\n",
      "SSP126/2041_2060/UKESM1-0-LL/B1.tif done\n",
      "SSP126/2041_2060/UKESM1-0-LL/B2.tif done\n",
      "SSP126/2041_2060/UKESM1-0-LL/B3.tif done\n",
      "SSP126/2041_2060/UKESM1-0-LL/B4.tif done\n",
      "SSP126/2041_2060/UKESM1-0-LL/B5.tif done\n",
      "SSP126/2041_2060/UKESM1-0-LL/B6.tif done\n",
      "SSP126/2041_2060/UKESM1-0-LL/B7.tif done\n",
      "SSP126/2041_2060/UKESM1-0-LL/B8.tif done\n",
      "SSP126/2041_2060/UKESM1-0-LL/B9.tif done\n",
      "SSP126/2041_2060/UKESM1-0-LL/B10.tif done\n",
      "SSP126/2041_2060/UKESM1-0-LL/B11.tif done\n",
      "SSP126/2041_2060/UKESM1-0-LL/B12.tif done\n",
      "SSP126/2041_2060/UKESM1-0-LL/B13.tif done\n",
      "SSP126/2041_2060/UKESM1-0-LL/B14.tif done\n",
      "SSP126/2041_2060/UKESM1-0-LL/B15.tif done\n",
      "SSP126/2041_2060/UKESM1-0-LL/B16.tif done\n",
      "SSP126/2041_2060/UKESM1-0-LL/B17.tif done\n",
      "SSP126/2041_2060/UKESM1-0-LL/B18.tif done\n",
      "SSP126/2041_2060/UKESM1-0-LL/B19.tif done\n",
      "SSP126/2041_2060/ACCESS-CM2\n",
      "SSP126/2041_2060/ACCESS-CM2/B1.tif done\n",
      "SSP126/2041_2060/ACCESS-CM2/B2.tif done\n",
      "SSP126/2041_2060/ACCESS-CM2/B3.tif done\n",
      "SSP126/2041_2060/ACCESS-CM2/B4.tif done\n",
      "SSP126/2041_2060/ACCESS-CM2/B5.tif done\n",
      "SSP126/2041_2060/ACCESS-CM2/B6.tif done\n",
      "SSP126/2041_2060/ACCESS-CM2/B7.tif done\n",
      "SSP126/2041_2060/ACCESS-CM2/B8.tif done\n",
      "SSP126/2041_2060/ACCESS-CM2/B9.tif done\n",
      "SSP126/2041_2060/ACCESS-CM2/B10.tif done\n",
      "SSP126/2041_2060/ACCESS-CM2/B11.tif done\n",
      "SSP126/2041_2060/ACCESS-CM2/B12.tif done\n",
      "SSP126/2041_2060/ACCESS-CM2/B13.tif done\n",
      "SSP126/2041_2060/ACCESS-CM2/B14.tif done\n",
      "SSP126/2041_2060/ACCESS-CM2/B15.tif done\n",
      "SSP126/2041_2060/ACCESS-CM2/B16.tif done\n",
      "SSP126/2041_2060/ACCESS-CM2/B17.tif done\n",
      "SSP126/2041_2060/ACCESS-CM2/B18.tif done\n",
      "SSP126/2041_2060/ACCESS-CM2/B19.tif done\n",
      "SSP126/2041_2060/ACCESS-ESM1-5\n",
      "SSP126/2041_2060/ACCESS-ESM1-5/B1.tif done\n",
      "SSP126/2041_2060/ACCESS-ESM1-5/B2.tif done\n",
      "SSP126/2041_2060/ACCESS-ESM1-5/B3.tif done\n",
      "SSP126/2041_2060/ACCESS-ESM1-5/B4.tif done\n",
      "SSP126/2041_2060/ACCESS-ESM1-5/B5.tif done\n",
      "SSP126/2041_2060/ACCESS-ESM1-5/B6.tif done\n",
      "SSP126/2041_2060/ACCESS-ESM1-5/B7.tif done\n",
      "SSP126/2041_2060/ACCESS-ESM1-5/B8.tif done\n",
      "SSP126/2041_2060/ACCESS-ESM1-5/B9.tif done\n",
      "SSP126/2041_2060/ACCESS-ESM1-5/B10.tif done\n",
      "SSP126/2041_2060/ACCESS-ESM1-5/B11.tif done\n",
      "SSP126/2041_2060/ACCESS-ESM1-5/B12.tif done\n",
      "SSP126/2041_2060/ACCESS-ESM1-5/B13.tif done\n",
      "SSP126/2041_2060/ACCESS-ESM1-5/B14.tif done\n",
      "SSP126/2041_2060/ACCESS-ESM1-5/B15.tif done\n",
      "SSP126/2041_2060/ACCESS-ESM1-5/B16.tif done\n",
      "SSP126/2041_2060/ACCESS-ESM1-5/B17.tif done\n",
      "SSP126/2041_2060/ACCESS-ESM1-5/B18.tif done\n",
      "SSP126/2041_2060/ACCESS-ESM1-5/B19.tif done\n",
      "SSP126/2041_2060/BCC-CSM2-MR\n",
      "SSP126/2041_2060/BCC-CSM2-MR/B1.tif done\n",
      "SSP126/2041_2060/BCC-CSM2-MR/B2.tif done\n",
      "SSP126/2041_2060/BCC-CSM2-MR/B3.tif done\n",
      "SSP126/2041_2060/BCC-CSM2-MR/B4.tif done\n",
      "SSP126/2041_2060/BCC-CSM2-MR/B5.tif done\n",
      "SSP126/2041_2060/BCC-CSM2-MR/B6.tif done\n",
      "SSP126/2041_2060/BCC-CSM2-MR/B7.tif done\n",
      "SSP126/2041_2060/BCC-CSM2-MR/B8.tif done\n",
      "SSP126/2041_2060/BCC-CSM2-MR/B9.tif done\n",
      "SSP126/2041_2060/BCC-CSM2-MR/B10.tif done\n",
      "SSP126/2041_2060/BCC-CSM2-MR/B11.tif done\n",
      "SSP126/2041_2060/BCC-CSM2-MR/B12.tif done\n",
      "SSP126/2041_2060/BCC-CSM2-MR/B13.tif done\n",
      "SSP126/2041_2060/BCC-CSM2-MR/B14.tif done\n",
      "SSP126/2041_2060/BCC-CSM2-MR/B15.tif done\n",
      "SSP126/2041_2060/BCC-CSM2-MR/B16.tif done\n",
      "SSP126/2041_2060/BCC-CSM2-MR/B17.tif done\n",
      "SSP126/2041_2060/BCC-CSM2-MR/B18.tif done\n",
      "SSP126/2041_2060/BCC-CSM2-MR/B19.tif done\n",
      "SSP126/2041_2060/CanESM5\n",
      "SSP126/2041_2060/CanESM5/B1.tif done\n",
      "SSP126/2041_2060/CanESM5/B2.tif done\n",
      "SSP126/2041_2060/CanESM5/B3.tif done\n",
      "SSP126/2041_2060/CanESM5/B4.tif done\n",
      "SSP126/2041_2060/CanESM5/B5.tif done\n",
      "SSP126/2041_2060/CanESM5/B6.tif done\n",
      "SSP126/2041_2060/CanESM5/B7.tif done\n"
     ]
    },
    {
     "name": "stdout",
     "output_type": "stream",
     "text": [
      "SSP126/2041_2060/CanESM5/B8.tif done\n",
      "SSP126/2041_2060/CanESM5/B9.tif done\n",
      "SSP126/2041_2060/CanESM5/B10.tif done\n",
      "SSP126/2041_2060/CanESM5/B11.tif done\n",
      "SSP126/2041_2060/CanESM5/B12.tif done\n",
      "SSP126/2041_2060/CanESM5/B13.tif done\n",
      "SSP126/2041_2060/CanESM5/B14.tif done\n",
      "SSP126/2041_2060/CanESM5/B15.tif done\n",
      "SSP126/2041_2060/CanESM5/B16.tif done\n",
      "SSP126/2041_2060/CanESM5/B17.tif done\n",
      "SSP126/2041_2060/CanESM5/B18.tif done\n",
      "SSP126/2041_2060/CanESM5/B19.tif done\n",
      "SSP126/2041_2060/CanESM5-CanOE\n",
      "SSP126/2041_2060/CanESM5-CanOE/B1.tif done\n",
      "SSP126/2041_2060/CanESM5-CanOE/B2.tif done\n",
      "SSP126/2041_2060/CanESM5-CanOE/B3.tif done\n",
      "SSP126/2041_2060/CanESM5-CanOE/B4.tif done\n",
      "SSP126/2041_2060/CanESM5-CanOE/B5.tif done\n",
      "SSP126/2041_2060/CanESM5-CanOE/B6.tif done\n",
      "SSP126/2041_2060/CanESM5-CanOE/B7.tif done\n",
      "SSP126/2041_2060/CanESM5-CanOE/B8.tif done\n",
      "SSP126/2041_2060/CanESM5-CanOE/B9.tif done\n",
      "SSP126/2041_2060/CanESM5-CanOE/B10.tif done\n",
      "SSP126/2041_2060/CanESM5-CanOE/B11.tif done\n",
      "SSP126/2041_2060/CanESM5-CanOE/B12.tif done\n",
      "SSP126/2041_2060/CanESM5-CanOE/B13.tif done\n",
      "SSP126/2041_2060/CanESM5-CanOE/B14.tif done\n",
      "SSP126/2041_2060/CanESM5-CanOE/B15.tif done\n",
      "SSP126/2041_2060/CanESM5-CanOE/B16.tif done\n",
      "SSP126/2041_2060/CanESM5-CanOE/B17.tif done\n",
      "SSP126/2041_2060/CanESM5-CanOE/B18.tif done\n",
      "SSP126/2041_2060/CanESM5-CanOE/B19.tif done\n",
      "SSP126/2041_2060/CMCC-ESM2\n",
      "SSP126/2041_2060/CMCC-ESM2/B1.tif done\n",
      "SSP126/2041_2060/CMCC-ESM2/B2.tif done\n",
      "SSP126/2041_2060/CMCC-ESM2/B3.tif done\n",
      "SSP126/2041_2060/CMCC-ESM2/B4.tif done\n",
      "SSP126/2041_2060/CMCC-ESM2/B5.tif done\n",
      "SSP126/2041_2060/CMCC-ESM2/B6.tif done\n",
      "SSP126/2041_2060/CMCC-ESM2/B7.tif done\n",
      "SSP126/2041_2060/CMCC-ESM2/B8.tif done\n",
      "SSP126/2041_2060/CMCC-ESM2/B9.tif done\n",
      "SSP126/2041_2060/CMCC-ESM2/B10.tif done\n",
      "SSP126/2041_2060/CMCC-ESM2/B11.tif done\n",
      "SSP126/2041_2060/CMCC-ESM2/B12.tif done\n",
      "SSP126/2041_2060/CMCC-ESM2/B13.tif done\n",
      "SSP126/2041_2060/CMCC-ESM2/B14.tif done\n",
      "SSP126/2041_2060/CMCC-ESM2/B15.tif done\n",
      "SSP126/2041_2060/CMCC-ESM2/B16.tif done\n",
      "SSP126/2041_2060/CMCC-ESM2/B17.tif done\n",
      "SSP126/2041_2060/CMCC-ESM2/B18.tif done\n",
      "SSP126/2041_2060/CMCC-ESM2/B19.tif done\n",
      "SSP126/2041_2060/CNRM-CM6-1\n",
      "SSP126/2041_2060/CNRM-CM6-1/B1.tif done\n",
      "SSP126/2041_2060/CNRM-CM6-1/B2.tif done\n",
      "SSP126/2041_2060/CNRM-CM6-1/B3.tif done\n",
      "SSP126/2041_2060/CNRM-CM6-1/B4.tif done\n",
      "SSP126/2041_2060/CNRM-CM6-1/B5.tif done\n",
      "SSP126/2041_2060/CNRM-CM6-1/B6.tif done\n",
      "SSP126/2041_2060/CNRM-CM6-1/B7.tif done\n",
      "SSP126/2041_2060/CNRM-CM6-1/B8.tif done\n",
      "SSP126/2041_2060/CNRM-CM6-1/B9.tif done\n",
      "SSP126/2041_2060/CNRM-CM6-1/B10.tif done\n",
      "SSP126/2041_2060/CNRM-CM6-1/B11.tif done\n",
      "SSP126/2041_2060/CNRM-CM6-1/B12.tif done\n",
      "SSP126/2041_2060/CNRM-CM6-1/B13.tif done\n",
      "SSP126/2041_2060/CNRM-CM6-1/B14.tif done\n",
      "SSP126/2041_2060/CNRM-CM6-1/B15.tif done\n",
      "SSP126/2041_2060/CNRM-CM6-1/B16.tif done\n",
      "SSP126/2041_2060/CNRM-CM6-1/B17.tif done\n",
      "SSP126/2041_2060/CNRM-CM6-1/B18.tif done\n",
      "SSP126/2041_2060/CNRM-CM6-1/B19.tif done\n",
      "SSP126/2041_2060/CNRM-CM6-1-HR\n",
      "SSP126/2041_2060/CNRM-CM6-1-HR/B1.tif done\n",
      "SSP126/2041_2060/CNRM-CM6-1-HR/B2.tif done\n",
      "SSP126/2041_2060/CNRM-CM6-1-HR/B3.tif done\n",
      "SSP126/2041_2060/CNRM-CM6-1-HR/B4.tif done\n",
      "SSP126/2041_2060/CNRM-CM6-1-HR/B5.tif done\n",
      "SSP126/2041_2060/CNRM-CM6-1-HR/B6.tif done\n",
      "SSP126/2041_2060/CNRM-CM6-1-HR/B7.tif done\n",
      "SSP126/2041_2060/CNRM-CM6-1-HR/B8.tif done\n",
      "SSP126/2041_2060/CNRM-CM6-1-HR/B9.tif done\n",
      "SSP126/2041_2060/CNRM-CM6-1-HR/B10.tif done\n",
      "SSP126/2041_2060/CNRM-CM6-1-HR/B11.tif done\n",
      "SSP126/2041_2060/CNRM-CM6-1-HR/B12.tif done\n",
      "SSP126/2041_2060/CNRM-CM6-1-HR/B13.tif done\n",
      "SSP126/2041_2060/CNRM-CM6-1-HR/B14.tif done\n",
      "SSP126/2041_2060/CNRM-CM6-1-HR/B15.tif done\n",
      "SSP126/2041_2060/CNRM-CM6-1-HR/B16.tif done\n",
      "SSP126/2041_2060/CNRM-CM6-1-HR/B17.tif done\n",
      "SSP126/2041_2060/CNRM-CM6-1-HR/B18.tif done\n",
      "SSP126/2041_2060/CNRM-CM6-1-HR/B19.tif done\n",
      "SSP126/2041_2060/CNRM-ESM2-1\n",
      "SSP126/2041_2060/CNRM-ESM2-1/B1.tif done\n",
      "SSP126/2041_2060/CNRM-ESM2-1/B2.tif done\n",
      "SSP126/2041_2060/CNRM-ESM2-1/B3.tif done\n",
      "SSP126/2041_2060/CNRM-ESM2-1/B4.tif done\n",
      "SSP126/2041_2060/CNRM-ESM2-1/B5.tif done\n",
      "SSP126/2041_2060/CNRM-ESM2-1/B6.tif done\n",
      "SSP126/2041_2060/CNRM-ESM2-1/B7.tif done\n",
      "SSP126/2041_2060/CNRM-ESM2-1/B8.tif done\n",
      "SSP126/2041_2060/CNRM-ESM2-1/B9.tif done\n",
      "SSP126/2041_2060/CNRM-ESM2-1/B10.tif done\n",
      "SSP126/2041_2060/CNRM-ESM2-1/B11.tif done\n",
      "SSP126/2041_2060/CNRM-ESM2-1/B12.tif done\n",
      "SSP126/2041_2060/CNRM-ESM2-1/B13.tif done\n",
      "SSP126/2041_2060/CNRM-ESM2-1/B14.tif done\n",
      "SSP126/2041_2060/CNRM-ESM2-1/B15.tif done\n",
      "SSP126/2041_2060/CNRM-ESM2-1/B16.tif done\n",
      "SSP126/2041_2060/CNRM-ESM2-1/B17.tif done\n",
      "SSP126/2041_2060/CNRM-ESM2-1/B18.tif done\n",
      "SSP126/2041_2060/CNRM-ESM2-1/B19.tif done\n",
      "SSP126/2041_2060/EC-Earth3-Veg\n",
      "SSP126/2041_2060/EC-Earth3-Veg/B1.tif done\n",
      "SSP126/2041_2060/EC-Earth3-Veg/B2.tif done\n",
      "SSP126/2041_2060/EC-Earth3-Veg/B3.tif done\n",
      "SSP126/2041_2060/EC-Earth3-Veg/B4.tif done\n",
      "SSP126/2041_2060/EC-Earth3-Veg/B5.tif done\n",
      "SSP126/2041_2060/EC-Earth3-Veg/B6.tif done\n",
      "SSP126/2041_2060/EC-Earth3-Veg/B7.tif done\n",
      "SSP126/2041_2060/EC-Earth3-Veg/B8.tif done\n",
      "SSP126/2041_2060/EC-Earth3-Veg/B9.tif done\n",
      "SSP126/2041_2060/EC-Earth3-Veg/B10.tif done\n",
      "SSP126/2041_2060/EC-Earth3-Veg/B11.tif done\n",
      "SSP126/2041_2060/EC-Earth3-Veg/B12.tif done\n",
      "SSP126/2041_2060/EC-Earth3-Veg/B13.tif done\n",
      "SSP126/2041_2060/EC-Earth3-Veg/B14.tif done\n",
      "SSP126/2041_2060/EC-Earth3-Veg/B15.tif done\n",
      "SSP126/2041_2060/EC-Earth3-Veg/B16.tif done\n",
      "SSP126/2041_2060/EC-Earth3-Veg/B17.tif done\n",
      "SSP126/2041_2060/EC-Earth3-Veg/B18.tif done\n",
      "SSP126/2041_2060/EC-Earth3-Veg/B19.tif done\n",
      "SSP126/2041_2060/EC-Earth3-Veg-LR\n",
      "SSP126/2041_2060/EC-Earth3-Veg-LR/B1.tif done\n",
      "SSP126/2041_2060/EC-Earth3-Veg-LR/B2.tif done\n",
      "SSP126/2041_2060/EC-Earth3-Veg-LR/B3.tif done\n",
      "SSP126/2041_2060/EC-Earth3-Veg-LR/B4.tif done\n",
      "SSP126/2041_2060/EC-Earth3-Veg-LR/B5.tif done\n",
      "SSP126/2041_2060/EC-Earth3-Veg-LR/B6.tif done\n",
      "SSP126/2041_2060/EC-Earth3-Veg-LR/B7.tif done\n",
      "SSP126/2041_2060/EC-Earth3-Veg-LR/B8.tif done\n",
      "SSP126/2041_2060/EC-Earth3-Veg-LR/B9.tif done\n",
      "SSP126/2041_2060/EC-Earth3-Veg-LR/B10.tif done\n",
      "SSP126/2041_2060/EC-Earth3-Veg-LR/B11.tif done\n",
      "SSP126/2041_2060/EC-Earth3-Veg-LR/B12.tif done\n",
      "SSP126/2041_2060/EC-Earth3-Veg-LR/B13.tif done\n",
      "SSP126/2041_2060/EC-Earth3-Veg-LR/B14.tif done\n",
      "SSP126/2041_2060/EC-Earth3-Veg-LR/B15.tif done\n",
      "SSP126/2041_2060/EC-Earth3-Veg-LR/B16.tif done\n",
      "SSP126/2041_2060/EC-Earth3-Veg-LR/B17.tif done\n",
      "SSP126/2041_2060/EC-Earth3-Veg-LR/B18.tif done\n",
      "SSP126/2041_2060/EC-Earth3-Veg-LR/B19.tif done\n",
      "SSP126/2041_2060/FIO-ESM-2-0\n",
      "SSP126/2041_2060/FIO-ESM-2-0/B1.tif done\n",
      "SSP126/2041_2060/FIO-ESM-2-0/B2.tif done\n",
      "SSP126/2041_2060/FIO-ESM-2-0/B3.tif done\n",
      "SSP126/2041_2060/FIO-ESM-2-0/B4.tif done\n",
      "SSP126/2041_2060/FIO-ESM-2-0/B5.tif done\n",
      "SSP126/2041_2060/FIO-ESM-2-0/B6.tif done\n",
      "SSP126/2041_2060/FIO-ESM-2-0/B7.tif done\n",
      "SSP126/2041_2060/FIO-ESM-2-0/B8.tif done\n",
      "SSP126/2041_2060/FIO-ESM-2-0/B9.tif done\n",
      "SSP126/2041_2060/FIO-ESM-2-0/B10.tif done\n",
      "SSP126/2041_2060/FIO-ESM-2-0/B11.tif done\n",
      "SSP126/2041_2060/FIO-ESM-2-0/B12.tif done\n",
      "SSP126/2041_2060/FIO-ESM-2-0/B13.tif done\n",
      "SSP126/2041_2060/FIO-ESM-2-0/B14.tif done\n",
      "SSP126/2041_2060/FIO-ESM-2-0/B15.tif done\n",
      "SSP126/2041_2060/FIO-ESM-2-0/B16.tif done\n",
      "SSP126/2041_2060/FIO-ESM-2-0/B17.tif done\n",
      "SSP126/2041_2060/FIO-ESM-2-0/B18.tif done\n",
      "SSP126/2041_2060/FIO-ESM-2-0/B19.tif done\n",
      "SSP126/2041_2060/GISS-E2-1-G\n",
      "SSP126/2041_2060/GISS-E2-1-G/B1.tif done\n",
      "SSP126/2041_2060/GISS-E2-1-G/B2.tif done\n",
      "SSP126/2041_2060/GISS-E2-1-G/B3.tif done\n",
      "SSP126/2041_2060/GISS-E2-1-G/B4.tif done\n",
      "SSP126/2041_2060/GISS-E2-1-G/B5.tif done\n",
      "SSP126/2041_2060/GISS-E2-1-G/B6.tif done\n",
      "SSP126/2041_2060/GISS-E2-1-G/B7.tif done\n",
      "SSP126/2041_2060/GISS-E2-1-G/B8.tif done\n",
      "SSP126/2041_2060/GISS-E2-1-G/B9.tif done\n",
      "SSP126/2041_2060/GISS-E2-1-G/B10.tif done\n",
      "SSP126/2041_2060/GISS-E2-1-G/B11.tif done\n",
      "SSP126/2041_2060/GISS-E2-1-G/B12.tif done\n",
      "SSP126/2041_2060/GISS-E2-1-G/B13.tif done\n",
      "SSP126/2041_2060/GISS-E2-1-G/B14.tif done\n",
      "SSP126/2041_2060/GISS-E2-1-G/B15.tif done\n",
      "SSP126/2041_2060/GISS-E2-1-G/B16.tif done\n",
      "SSP126/2041_2060/GISS-E2-1-G/B17.tif done\n",
      "SSP126/2041_2060/GISS-E2-1-G/B18.tif done\n",
      "SSP126/2041_2060/GISS-E2-1-G/B19.tif done\n",
      "SSP126/2041_2060/GISS-E2-1-H\n",
      "SSP126/2041_2060/GISS-E2-1-H/B1.tif done\n",
      "SSP126/2041_2060/GISS-E2-1-H/B2.tif done\n",
      "SSP126/2041_2060/GISS-E2-1-H/B3.tif done\n",
      "SSP126/2041_2060/GISS-E2-1-H/B4.tif done\n",
      "SSP126/2041_2060/GISS-E2-1-H/B5.tif done\n"
     ]
    },
    {
     "name": "stdout",
     "output_type": "stream",
     "text": [
      "SSP126/2041_2060/GISS-E2-1-H/B6.tif done\n",
      "SSP126/2041_2060/GISS-E2-1-H/B7.tif done\n",
      "SSP126/2041_2060/GISS-E2-1-H/B8.tif done\n",
      "SSP126/2041_2060/GISS-E2-1-H/B9.tif done\n",
      "SSP126/2041_2060/GISS-E2-1-H/B10.tif done\n",
      "SSP126/2041_2060/GISS-E2-1-H/B11.tif done\n",
      "SSP126/2041_2060/GISS-E2-1-H/B12.tif done\n",
      "SSP126/2041_2060/GISS-E2-1-H/B13.tif done\n",
      "SSP126/2041_2060/GISS-E2-1-H/B14.tif done\n",
      "SSP126/2041_2060/GISS-E2-1-H/B15.tif done\n",
      "SSP126/2041_2060/GISS-E2-1-H/B16.tif done\n",
      "SSP126/2041_2060/GISS-E2-1-H/B17.tif done\n",
      "SSP126/2041_2060/GISS-E2-1-H/B18.tif done\n",
      "SSP126/2041_2060/GISS-E2-1-H/B19.tif done\n",
      "SSP126/2041_2060/HadGEM3-GC31-LL\n",
      "SSP126/2041_2060/HadGEM3-GC31-LL/B1.tif done\n",
      "SSP126/2041_2060/HadGEM3-GC31-LL/B2.tif done\n",
      "SSP126/2041_2060/HadGEM3-GC31-LL/B3.tif done\n",
      "SSP126/2041_2060/HadGEM3-GC31-LL/B4.tif done\n",
      "SSP126/2041_2060/HadGEM3-GC31-LL/B5.tif done\n",
      "SSP126/2041_2060/HadGEM3-GC31-LL/B6.tif done\n",
      "SSP126/2041_2060/HadGEM3-GC31-LL/B7.tif done\n",
      "SSP126/2041_2060/HadGEM3-GC31-LL/B8.tif done\n",
      "SSP126/2041_2060/HadGEM3-GC31-LL/B9.tif done\n",
      "SSP126/2041_2060/HadGEM3-GC31-LL/B10.tif done\n",
      "SSP126/2041_2060/HadGEM3-GC31-LL/B11.tif done\n",
      "SSP126/2041_2060/HadGEM3-GC31-LL/B12.tif done\n",
      "SSP126/2041_2060/HadGEM3-GC31-LL/B13.tif done\n",
      "SSP126/2041_2060/HadGEM3-GC31-LL/B14.tif done\n",
      "SSP126/2041_2060/HadGEM3-GC31-LL/B15.tif done\n",
      "SSP126/2041_2060/HadGEM3-GC31-LL/B16.tif done\n",
      "SSP126/2041_2060/HadGEM3-GC31-LL/B17.tif done\n",
      "SSP126/2041_2060/HadGEM3-GC31-LL/B18.tif done\n",
      "SSP126/2041_2060/HadGEM3-GC31-LL/B19.tif done\n",
      "SSP126/2041_2060/INM-CM4-8\n",
      "SSP126/2041_2060/INM-CM4-8/B1.tif done\n",
      "SSP126/2041_2060/INM-CM4-8/B2.tif done\n",
      "SSP126/2041_2060/INM-CM4-8/B3.tif done\n",
      "SSP126/2041_2060/INM-CM4-8/B4.tif done\n",
      "SSP126/2041_2060/INM-CM4-8/B5.tif done\n",
      "SSP126/2041_2060/INM-CM4-8/B6.tif done\n",
      "SSP126/2041_2060/INM-CM4-8/B7.tif done\n",
      "SSP126/2041_2060/INM-CM4-8/B8.tif done\n",
      "SSP126/2041_2060/INM-CM4-8/B9.tif done\n",
      "SSP126/2041_2060/INM-CM4-8/B10.tif done\n",
      "SSP126/2041_2060/INM-CM4-8/B11.tif done\n",
      "SSP126/2041_2060/INM-CM4-8/B12.tif done\n",
      "SSP126/2041_2060/INM-CM4-8/B13.tif done\n",
      "SSP126/2041_2060/INM-CM4-8/B14.tif done\n",
      "SSP126/2041_2060/INM-CM4-8/B15.tif done\n",
      "SSP126/2041_2060/INM-CM4-8/B16.tif done\n",
      "SSP126/2041_2060/INM-CM4-8/B17.tif done\n",
      "SSP126/2041_2060/INM-CM4-8/B18.tif done\n",
      "SSP126/2041_2060/INM-CM4-8/B19.tif done\n",
      "SSP126/2041_2060/INM-CM5-0\n",
      "SSP126/2041_2060/INM-CM5-0/B1.tif done\n",
      "SSP126/2041_2060/INM-CM5-0/B2.tif done\n",
      "SSP126/2041_2060/INM-CM5-0/B3.tif done\n",
      "SSP126/2041_2060/INM-CM5-0/B4.tif done\n",
      "SSP126/2041_2060/INM-CM5-0/B5.tif done\n",
      "SSP126/2041_2060/INM-CM5-0/B6.tif done\n",
      "SSP126/2041_2060/INM-CM5-0/B7.tif done\n",
      "SSP126/2041_2060/INM-CM5-0/B8.tif done\n",
      "SSP126/2041_2060/INM-CM5-0/B9.tif done\n",
      "SSP126/2041_2060/INM-CM5-0/B10.tif done\n",
      "SSP126/2041_2060/INM-CM5-0/B11.tif done\n",
      "SSP126/2041_2060/INM-CM5-0/B12.tif done\n",
      "SSP126/2041_2060/INM-CM5-0/B13.tif done\n",
      "SSP126/2041_2060/INM-CM5-0/B14.tif done\n",
      "SSP126/2041_2060/INM-CM5-0/B15.tif done\n",
      "SSP126/2041_2060/INM-CM5-0/B16.tif done\n",
      "SSP126/2041_2060/INM-CM5-0/B17.tif done\n",
      "SSP126/2041_2060/INM-CM5-0/B18.tif done\n",
      "SSP126/2041_2060/INM-CM5-0/B19.tif done\n",
      "SSP126/2041_2060/IPSL-CM6A-LR\n",
      "SSP126/2041_2060/IPSL-CM6A-LR/B1.tif done\n",
      "SSP126/2041_2060/IPSL-CM6A-LR/B2.tif done\n",
      "SSP126/2041_2060/IPSL-CM6A-LR/B3.tif done\n",
      "SSP126/2041_2060/IPSL-CM6A-LR/B4.tif done\n",
      "SSP126/2041_2060/IPSL-CM6A-LR/B5.tif done\n",
      "SSP126/2041_2060/IPSL-CM6A-LR/B6.tif done\n",
      "SSP126/2041_2060/IPSL-CM6A-LR/B7.tif done\n",
      "SSP126/2041_2060/IPSL-CM6A-LR/B8.tif done\n",
      "SSP126/2041_2060/IPSL-CM6A-LR/B9.tif done\n",
      "SSP126/2041_2060/IPSL-CM6A-LR/B10.tif done\n",
      "SSP126/2041_2060/IPSL-CM6A-LR/B11.tif done\n",
      "SSP126/2041_2060/IPSL-CM6A-LR/B12.tif done\n",
      "SSP126/2041_2060/IPSL-CM6A-LR/B13.tif done\n",
      "SSP126/2041_2060/IPSL-CM6A-LR/B14.tif done\n",
      "SSP126/2041_2060/IPSL-CM6A-LR/B15.tif done\n",
      "SSP126/2041_2060/IPSL-CM6A-LR/B16.tif done\n",
      "SSP126/2041_2060/IPSL-CM6A-LR/B17.tif done\n",
      "SSP126/2041_2060/IPSL-CM6A-LR/B18.tif done\n",
      "SSP126/2041_2060/IPSL-CM6A-LR/B19.tif done\n",
      "SSP126/2041_2060/MIROC-ES2L\n",
      "SSP126/2041_2060/MIROC-ES2L/B1.tif done\n",
      "SSP126/2041_2060/MIROC-ES2L/B2.tif done\n",
      "SSP126/2041_2060/MIROC-ES2L/B3.tif done\n",
      "SSP126/2041_2060/MIROC-ES2L/B4.tif done\n",
      "SSP126/2041_2060/MIROC-ES2L/B5.tif done\n",
      "SSP126/2041_2060/MIROC-ES2L/B6.tif done\n",
      "SSP126/2041_2060/MIROC-ES2L/B7.tif done\n",
      "SSP126/2041_2060/MIROC-ES2L/B8.tif done\n",
      "SSP126/2041_2060/MIROC-ES2L/B9.tif done\n",
      "SSP126/2041_2060/MIROC-ES2L/B10.tif done\n",
      "SSP126/2041_2060/MIROC-ES2L/B11.tif done\n",
      "SSP126/2041_2060/MIROC-ES2L/B12.tif done\n",
      "SSP126/2041_2060/MIROC-ES2L/B13.tif done\n",
      "SSP126/2041_2060/MIROC-ES2L/B14.tif done\n",
      "SSP126/2041_2060/MIROC-ES2L/B15.tif done\n",
      "SSP126/2041_2060/MIROC-ES2L/B16.tif done\n",
      "SSP126/2041_2060/MIROC-ES2L/B17.tif done\n",
      "SSP126/2041_2060/MIROC-ES2L/B18.tif done\n",
      "SSP126/2041_2060/MIROC-ES2L/B19.tif done\n",
      "SSP126/2041_2060/MIROC6\n",
      "SSP126/2041_2060/MIROC6/B1.tif done\n",
      "SSP126/2041_2060/MIROC6/B2.tif done\n",
      "SSP126/2041_2060/MIROC6/B3.tif done\n",
      "SSP126/2041_2060/MIROC6/B4.tif done\n",
      "SSP126/2041_2060/MIROC6/B5.tif done\n",
      "SSP126/2041_2060/MIROC6/B6.tif done\n",
      "SSP126/2041_2060/MIROC6/B7.tif done\n",
      "SSP126/2041_2060/MIROC6/B8.tif done\n",
      "SSP126/2041_2060/MIROC6/B9.tif done\n",
      "SSP126/2041_2060/MIROC6/B10.tif done\n",
      "SSP126/2041_2060/MIROC6/B11.tif done\n",
      "SSP126/2041_2060/MIROC6/B12.tif done\n",
      "SSP126/2041_2060/MIROC6/B13.tif done\n",
      "SSP126/2041_2060/MIROC6/B14.tif done\n",
      "SSP126/2041_2060/MIROC6/B15.tif done\n",
      "SSP126/2041_2060/MIROC6/B16.tif done\n",
      "SSP126/2041_2060/MIROC6/B17.tif done\n",
      "SSP126/2041_2060/MIROC6/B18.tif done\n",
      "SSP126/2041_2060/MIROC6/B19.tif done\n",
      "SSP126/2041_2060/MPI-ESM1-2-HR\n",
      "SSP126/2041_2060/MPI-ESM1-2-HR/B1.tif done\n",
      "SSP126/2041_2060/MPI-ESM1-2-HR/B2.tif done\n",
      "SSP126/2041_2060/MPI-ESM1-2-HR/B3.tif done\n",
      "SSP126/2041_2060/MPI-ESM1-2-HR/B4.tif done\n",
      "SSP126/2041_2060/MPI-ESM1-2-HR/B5.tif done\n",
      "SSP126/2041_2060/MPI-ESM1-2-HR/B6.tif done\n",
      "SSP126/2041_2060/MPI-ESM1-2-HR/B7.tif done\n",
      "SSP126/2041_2060/MPI-ESM1-2-HR/B8.tif done\n",
      "SSP126/2041_2060/MPI-ESM1-2-HR/B9.tif done\n",
      "SSP126/2041_2060/MPI-ESM1-2-HR/B10.tif done\n",
      "SSP126/2041_2060/MPI-ESM1-2-HR/B11.tif done\n",
      "SSP126/2041_2060/MPI-ESM1-2-HR/B12.tif done\n",
      "SSP126/2041_2060/MPI-ESM1-2-HR/B13.tif done\n",
      "SSP126/2041_2060/MPI-ESM1-2-HR/B14.tif done\n",
      "SSP126/2041_2060/MPI-ESM1-2-HR/B15.tif done\n",
      "SSP126/2041_2060/MPI-ESM1-2-HR/B16.tif done\n",
      "SSP126/2041_2060/MPI-ESM1-2-HR/B17.tif done\n",
      "SSP126/2041_2060/MPI-ESM1-2-HR/B18.tif done\n",
      "SSP126/2041_2060/MPI-ESM1-2-HR/B19.tif done\n",
      "SSP126/2041_2060/MPI-ESM1-2-LR\n",
      "SSP126/2041_2060/MPI-ESM1-2-LR/B1.tif done\n",
      "SSP126/2041_2060/MPI-ESM1-2-LR/B2.tif done\n",
      "SSP126/2041_2060/MPI-ESM1-2-LR/B3.tif done\n",
      "SSP126/2041_2060/MPI-ESM1-2-LR/B4.tif done\n",
      "SSP126/2041_2060/MPI-ESM1-2-LR/B5.tif done\n",
      "SSP126/2041_2060/MPI-ESM1-2-LR/B6.tif done\n",
      "SSP126/2041_2060/MPI-ESM1-2-LR/B7.tif done\n",
      "SSP126/2041_2060/MPI-ESM1-2-LR/B8.tif done\n",
      "SSP126/2041_2060/MPI-ESM1-2-LR/B9.tif done\n",
      "SSP126/2041_2060/MPI-ESM1-2-LR/B10.tif done\n",
      "SSP126/2041_2060/MPI-ESM1-2-LR/B11.tif done\n",
      "SSP126/2041_2060/MPI-ESM1-2-LR/B12.tif done\n",
      "SSP126/2041_2060/MPI-ESM1-2-LR/B13.tif done\n",
      "SSP126/2041_2060/MPI-ESM1-2-LR/B14.tif done\n",
      "SSP126/2041_2060/MPI-ESM1-2-LR/B15.tif done\n",
      "SSP126/2041_2060/MPI-ESM1-2-LR/B16.tif done\n",
      "SSP126/2041_2060/MPI-ESM1-2-LR/B17.tif done\n",
      "SSP126/2041_2060/MPI-ESM1-2-LR/B18.tif done\n",
      "SSP126/2041_2060/MPI-ESM1-2-LR/B19.tif done\n",
      "SSP126/2041_2060/MRI-ESM2-0\n",
      "SSP126/2041_2060/MRI-ESM2-0/B1.tif done\n",
      "SSP126/2041_2060/MRI-ESM2-0/B2.tif done\n",
      "SSP126/2041_2060/MRI-ESM2-0/B3.tif done\n",
      "SSP126/2041_2060/MRI-ESM2-0/B4.tif done\n",
      "SSP126/2041_2060/MRI-ESM2-0/B5.tif done\n",
      "SSP126/2041_2060/MRI-ESM2-0/B6.tif done\n",
      "SSP126/2041_2060/MRI-ESM2-0/B7.tif done\n",
      "SSP126/2041_2060/MRI-ESM2-0/B8.tif done\n",
      "SSP126/2041_2060/MRI-ESM2-0/B9.tif done\n",
      "SSP126/2041_2060/MRI-ESM2-0/B10.tif done\n",
      "SSP126/2041_2060/MRI-ESM2-0/B11.tif done\n",
      "SSP126/2041_2060/MRI-ESM2-0/B12.tif done\n",
      "SSP126/2041_2060/MRI-ESM2-0/B13.tif done\n",
      "SSP126/2041_2060/MRI-ESM2-0/B14.tif done\n",
      "SSP126/2041_2060/MRI-ESM2-0/B15.tif done\n",
      "SSP126/2041_2060/MRI-ESM2-0/B16.tif done\n",
      "SSP126/2041_2060/MRI-ESM2-0/B17.tif done\n",
      "SSP126/2041_2060/MRI-ESM2-0/B18.tif done\n",
      "SSP126/2041_2060/MRI-ESM2-0/B19.tif done\n",
      "Year: 2061_2080\n",
      "SSP126/2061_2080/ACCESS-CM2\n",
      "SSP126/2061_2080/ACCESS-CM2/B1.tif done\n",
      "SSP126/2061_2080/ACCESS-CM2/B2.tif done\n",
      "SSP126/2061_2080/ACCESS-CM2/B3.tif done\n",
      "SSP126/2061_2080/ACCESS-CM2/B4.tif done\n",
      "SSP126/2061_2080/ACCESS-CM2/B5.tif done\n",
      "SSP126/2061_2080/ACCESS-CM2/B6.tif done\n",
      "SSP126/2061_2080/ACCESS-CM2/B7.tif done\n"
     ]
    },
    {
     "name": "stdout",
     "output_type": "stream",
     "text": [
      "SSP126/2061_2080/ACCESS-CM2/B8.tif done\n",
      "SSP126/2061_2080/ACCESS-CM2/B9.tif done\n",
      "SSP126/2061_2080/ACCESS-CM2/B10.tif done\n",
      "SSP126/2061_2080/ACCESS-CM2/B11.tif done\n",
      "SSP126/2061_2080/ACCESS-CM2/B12.tif done\n",
      "SSP126/2061_2080/ACCESS-CM2/B13.tif done\n",
      "SSP126/2061_2080/ACCESS-CM2/B14.tif done\n",
      "SSP126/2061_2080/ACCESS-CM2/B15.tif done\n",
      "SSP126/2061_2080/ACCESS-CM2/B16.tif done\n",
      "SSP126/2061_2080/ACCESS-CM2/B17.tif done\n",
      "SSP126/2061_2080/ACCESS-CM2/B18.tif done\n",
      "SSP126/2061_2080/ACCESS-CM2/B19.tif done\n",
      "SSP126/2061_2080/ACCESS-ESM1-5\n",
      "SSP126/2061_2080/ACCESS-ESM1-5/B1.tif done\n",
      "SSP126/2061_2080/ACCESS-ESM1-5/B2.tif done\n",
      "SSP126/2061_2080/ACCESS-ESM1-5/B3.tif done\n",
      "SSP126/2061_2080/ACCESS-ESM1-5/B4.tif done\n",
      "SSP126/2061_2080/ACCESS-ESM1-5/B5.tif done\n",
      "SSP126/2061_2080/ACCESS-ESM1-5/B6.tif done\n",
      "SSP126/2061_2080/ACCESS-ESM1-5/B7.tif done\n",
      "SSP126/2061_2080/ACCESS-ESM1-5/B8.tif done\n",
      "SSP126/2061_2080/ACCESS-ESM1-5/B9.tif done\n",
      "SSP126/2061_2080/ACCESS-ESM1-5/B10.tif done\n",
      "SSP126/2061_2080/ACCESS-ESM1-5/B11.tif done\n",
      "SSP126/2061_2080/ACCESS-ESM1-5/B12.tif done\n",
      "SSP126/2061_2080/ACCESS-ESM1-5/B13.tif done\n",
      "SSP126/2061_2080/ACCESS-ESM1-5/B14.tif done\n",
      "SSP126/2061_2080/ACCESS-ESM1-5/B15.tif done\n",
      "SSP126/2061_2080/ACCESS-ESM1-5/B16.tif done\n",
      "SSP126/2061_2080/ACCESS-ESM1-5/B17.tif done\n",
      "SSP126/2061_2080/ACCESS-ESM1-5/B18.tif done\n",
      "SSP126/2061_2080/ACCESS-ESM1-5/B19.tif done\n",
      "SSP126/2061_2080/BCC-CSM2-MR\n",
      "SSP126/2061_2080/BCC-CSM2-MR/B1.tif done\n",
      "SSP126/2061_2080/BCC-CSM2-MR/B2.tif done\n",
      "SSP126/2061_2080/BCC-CSM2-MR/B3.tif done\n",
      "SSP126/2061_2080/BCC-CSM2-MR/B4.tif done\n",
      "SSP126/2061_2080/BCC-CSM2-MR/B5.tif done\n",
      "SSP126/2061_2080/BCC-CSM2-MR/B6.tif done\n",
      "SSP126/2061_2080/BCC-CSM2-MR/B7.tif done\n",
      "SSP126/2061_2080/BCC-CSM2-MR/B8.tif done\n",
      "SSP126/2061_2080/BCC-CSM2-MR/B9.tif done\n",
      "SSP126/2061_2080/BCC-CSM2-MR/B10.tif done\n",
      "SSP126/2061_2080/BCC-CSM2-MR/B11.tif done\n",
      "SSP126/2061_2080/BCC-CSM2-MR/B12.tif done\n",
      "SSP126/2061_2080/BCC-CSM2-MR/B13.tif done\n",
      "SSP126/2061_2080/BCC-CSM2-MR/B14.tif done\n",
      "SSP126/2061_2080/BCC-CSM2-MR/B15.tif done\n",
      "SSP126/2061_2080/BCC-CSM2-MR/B16.tif done\n",
      "SSP126/2061_2080/BCC-CSM2-MR/B17.tif done\n",
      "SSP126/2061_2080/BCC-CSM2-MR/B18.tif done\n",
      "SSP126/2061_2080/BCC-CSM2-MR/B19.tif done\n",
      "SSP126/2061_2080/CanESM5\n",
      "SSP126/2061_2080/CanESM5/B1.tif done\n",
      "SSP126/2061_2080/CanESM5/B2.tif done\n",
      "SSP126/2061_2080/CanESM5/B3.tif done\n",
      "SSP126/2061_2080/CanESM5/B4.tif done\n",
      "SSP126/2061_2080/CanESM5/B5.tif done\n",
      "SSP126/2061_2080/CanESM5/B6.tif done\n",
      "SSP126/2061_2080/CanESM5/B7.tif done\n",
      "SSP126/2061_2080/CanESM5/B8.tif done\n",
      "SSP126/2061_2080/CanESM5/B9.tif done\n",
      "SSP126/2061_2080/CanESM5/B10.tif done\n",
      "SSP126/2061_2080/CanESM5/B11.tif done\n",
      "SSP126/2061_2080/CanESM5/B12.tif done\n",
      "SSP126/2061_2080/CanESM5/B13.tif done\n",
      "SSP126/2061_2080/CanESM5/B14.tif done\n",
      "SSP126/2061_2080/CanESM5/B15.tif done\n",
      "SSP126/2061_2080/CanESM5/B16.tif done\n",
      "SSP126/2061_2080/CanESM5/B17.tif done\n",
      "SSP126/2061_2080/CanESM5/B18.tif done\n",
      "SSP126/2061_2080/CanESM5/B19.tif done\n",
      "SSP126/2061_2080/CanESM5-CanOE\n",
      "SSP126/2061_2080/CanESM5-CanOE/B1.tif done\n",
      "SSP126/2061_2080/CanESM5-CanOE/B2.tif done\n",
      "SSP126/2061_2080/CanESM5-CanOE/B3.tif done\n",
      "SSP126/2061_2080/CanESM5-CanOE/B4.tif done\n",
      "SSP126/2061_2080/CanESM5-CanOE/B5.tif done\n",
      "SSP126/2061_2080/CanESM5-CanOE/B6.tif done\n",
      "SSP126/2061_2080/CanESM5-CanOE/B7.tif done\n",
      "SSP126/2061_2080/CanESM5-CanOE/B8.tif done\n",
      "SSP126/2061_2080/CanESM5-CanOE/B9.tif done\n",
      "SSP126/2061_2080/CanESM5-CanOE/B10.tif done\n",
      "SSP126/2061_2080/CanESM5-CanOE/B11.tif done\n",
      "SSP126/2061_2080/CanESM5-CanOE/B12.tif done\n",
      "SSP126/2061_2080/CanESM5-CanOE/B13.tif done\n",
      "SSP126/2061_2080/CanESM5-CanOE/B14.tif done\n",
      "SSP126/2061_2080/CanESM5-CanOE/B15.tif done\n",
      "SSP126/2061_2080/CanESM5-CanOE/B16.tif done\n",
      "SSP126/2061_2080/CanESM5-CanOE/B17.tif done\n",
      "SSP126/2061_2080/CanESM5-CanOE/B18.tif done\n",
      "SSP126/2061_2080/CanESM5-CanOE/B19.tif done\n",
      "SSP126/2061_2080/CMCC-ESM2\n",
      "SSP126/2061_2080/CMCC-ESM2/B1.tif done\n",
      "SSP126/2061_2080/CMCC-ESM2/B2.tif done\n",
      "SSP126/2061_2080/CMCC-ESM2/B3.tif done\n",
      "SSP126/2061_2080/CMCC-ESM2/B4.tif done\n",
      "SSP126/2061_2080/CMCC-ESM2/B5.tif done\n",
      "SSP126/2061_2080/CMCC-ESM2/B6.tif done\n",
      "SSP126/2061_2080/CMCC-ESM2/B7.tif done\n",
      "SSP126/2061_2080/CMCC-ESM2/B8.tif done\n",
      "SSP126/2061_2080/CMCC-ESM2/B9.tif done\n",
      "SSP126/2061_2080/CMCC-ESM2/B10.tif done\n",
      "SSP126/2061_2080/CMCC-ESM2/B11.tif done\n",
      "SSP126/2061_2080/CMCC-ESM2/B12.tif done\n",
      "SSP126/2061_2080/CMCC-ESM2/B13.tif done\n",
      "SSP126/2061_2080/CMCC-ESM2/B14.tif done\n",
      "SSP126/2061_2080/CMCC-ESM2/B15.tif done\n",
      "SSP126/2061_2080/CMCC-ESM2/B16.tif done\n",
      "SSP126/2061_2080/CMCC-ESM2/B17.tif done\n",
      "SSP126/2061_2080/CMCC-ESM2/B18.tif done\n",
      "SSP126/2061_2080/CMCC-ESM2/B19.tif done\n",
      "SSP126/2061_2080/CNRM-CM6-1\n",
      "SSP126/2061_2080/CNRM-CM6-1/B1.tif done\n",
      "SSP126/2061_2080/CNRM-CM6-1/B2.tif done\n",
      "SSP126/2061_2080/CNRM-CM6-1/B3.tif done\n",
      "SSP126/2061_2080/CNRM-CM6-1/B4.tif done\n",
      "SSP126/2061_2080/CNRM-CM6-1/B5.tif done\n",
      "SSP126/2061_2080/CNRM-CM6-1/B6.tif done\n",
      "SSP126/2061_2080/CNRM-CM6-1/B7.tif done\n",
      "SSP126/2061_2080/CNRM-CM6-1/B8.tif done\n",
      "SSP126/2061_2080/CNRM-CM6-1/B9.tif done\n",
      "SSP126/2061_2080/CNRM-CM6-1/B10.tif done\n",
      "SSP126/2061_2080/CNRM-CM6-1/B11.tif done\n",
      "SSP126/2061_2080/CNRM-CM6-1/B12.tif done\n",
      "SSP126/2061_2080/CNRM-CM6-1/B13.tif done\n",
      "SSP126/2061_2080/CNRM-CM6-1/B14.tif done\n",
      "SSP126/2061_2080/CNRM-CM6-1/B15.tif done\n",
      "SSP126/2061_2080/CNRM-CM6-1/B16.tif done\n",
      "SSP126/2061_2080/CNRM-CM6-1/B17.tif done\n",
      "SSP126/2061_2080/CNRM-CM6-1/B18.tif done\n",
      "SSP126/2061_2080/CNRM-CM6-1/B19.tif done\n",
      "SSP126/2061_2080/CNRM-CM6-1-HR\n",
      "SSP126/2061_2080/CNRM-CM6-1-HR/B1.tif done\n",
      "SSP126/2061_2080/CNRM-CM6-1-HR/B2.tif done\n",
      "SSP126/2061_2080/CNRM-CM6-1-HR/B3.tif done\n",
      "SSP126/2061_2080/CNRM-CM6-1-HR/B4.tif done\n",
      "SSP126/2061_2080/CNRM-CM6-1-HR/B5.tif done\n",
      "SSP126/2061_2080/CNRM-CM6-1-HR/B6.tif done\n",
      "SSP126/2061_2080/CNRM-CM6-1-HR/B7.tif done\n",
      "SSP126/2061_2080/CNRM-CM6-1-HR/B8.tif done\n",
      "SSP126/2061_2080/CNRM-CM6-1-HR/B9.tif done\n",
      "SSP126/2061_2080/CNRM-CM6-1-HR/B10.tif done\n",
      "SSP126/2061_2080/CNRM-CM6-1-HR/B11.tif done\n",
      "SSP126/2061_2080/CNRM-CM6-1-HR/B12.tif done\n",
      "SSP126/2061_2080/CNRM-CM6-1-HR/B13.tif done\n",
      "SSP126/2061_2080/CNRM-CM6-1-HR/B14.tif done\n",
      "SSP126/2061_2080/CNRM-CM6-1-HR/B15.tif done\n",
      "SSP126/2061_2080/CNRM-CM6-1-HR/B16.tif done\n",
      "SSP126/2061_2080/CNRM-CM6-1-HR/B17.tif done\n",
      "SSP126/2061_2080/CNRM-CM6-1-HR/B18.tif done\n",
      "SSP126/2061_2080/CNRM-CM6-1-HR/B19.tif done\n",
      "SSP126/2061_2080/CNRM-ESM2-1\n",
      "SSP126/2061_2080/CNRM-ESM2-1/B1.tif done\n",
      "SSP126/2061_2080/CNRM-ESM2-1/B2.tif done\n",
      "SSP126/2061_2080/CNRM-ESM2-1/B3.tif done\n",
      "SSP126/2061_2080/CNRM-ESM2-1/B4.tif done\n",
      "SSP126/2061_2080/CNRM-ESM2-1/B5.tif done\n",
      "SSP126/2061_2080/CNRM-ESM2-1/B6.tif done\n",
      "SSP126/2061_2080/CNRM-ESM2-1/B7.tif done\n",
      "SSP126/2061_2080/CNRM-ESM2-1/B8.tif done\n",
      "SSP126/2061_2080/CNRM-ESM2-1/B9.tif done\n",
      "SSP126/2061_2080/CNRM-ESM2-1/B10.tif done\n",
      "SSP126/2061_2080/CNRM-ESM2-1/B11.tif done\n",
      "SSP126/2061_2080/CNRM-ESM2-1/B12.tif done\n",
      "SSP126/2061_2080/CNRM-ESM2-1/B13.tif done\n",
      "SSP126/2061_2080/CNRM-ESM2-1/B14.tif done\n",
      "SSP126/2061_2080/CNRM-ESM2-1/B15.tif done\n",
      "SSP126/2061_2080/CNRM-ESM2-1/B16.tif done\n",
      "SSP126/2061_2080/CNRM-ESM2-1/B17.tif done\n",
      "SSP126/2061_2080/CNRM-ESM2-1/B18.tif done\n",
      "SSP126/2061_2080/CNRM-ESM2-1/B19.tif done\n",
      "SSP126/2061_2080/EC-Earth3-Veg\n",
      "SSP126/2061_2080/EC-Earth3-Veg/B1.tif done\n",
      "SSP126/2061_2080/EC-Earth3-Veg/B2.tif done\n",
      "SSP126/2061_2080/EC-Earth3-Veg/B3.tif done\n",
      "SSP126/2061_2080/EC-Earth3-Veg/B4.tif done\n",
      "SSP126/2061_2080/EC-Earth3-Veg/B5.tif done\n",
      "SSP126/2061_2080/EC-Earth3-Veg/B6.tif done\n",
      "SSP126/2061_2080/EC-Earth3-Veg/B7.tif done\n",
      "SSP126/2061_2080/EC-Earth3-Veg/B8.tif done\n",
      "SSP126/2061_2080/EC-Earth3-Veg/B9.tif done\n",
      "SSP126/2061_2080/EC-Earth3-Veg/B10.tif done\n",
      "SSP126/2061_2080/EC-Earth3-Veg/B11.tif done\n",
      "SSP126/2061_2080/EC-Earth3-Veg/B12.tif done\n",
      "SSP126/2061_2080/EC-Earth3-Veg/B13.tif done\n",
      "SSP126/2061_2080/EC-Earth3-Veg/B14.tif done\n",
      "SSP126/2061_2080/EC-Earth3-Veg/B15.tif done\n",
      "SSP126/2061_2080/EC-Earth3-Veg/B16.tif done\n",
      "SSP126/2061_2080/EC-Earth3-Veg/B17.tif done\n",
      "SSP126/2061_2080/EC-Earth3-Veg/B18.tif done\n",
      "SSP126/2061_2080/EC-Earth3-Veg/B19.tif done\n",
      "SSP126/2061_2080/EC-Earth3-Veg-LR\n",
      "SSP126/2061_2080/EC-Earth3-Veg-LR/B1.tif done\n",
      "SSP126/2061_2080/EC-Earth3-Veg-LR/B2.tif done\n",
      "SSP126/2061_2080/EC-Earth3-Veg-LR/B3.tif done\n",
      "SSP126/2061_2080/EC-Earth3-Veg-LR/B4.tif done\n",
      "SSP126/2061_2080/EC-Earth3-Veg-LR/B5.tif done\n",
      "SSP126/2061_2080/EC-Earth3-Veg-LR/B6.tif done\n",
      "SSP126/2061_2080/EC-Earth3-Veg-LR/B7.tif done\n"
     ]
    },
    {
     "name": "stdout",
     "output_type": "stream",
     "text": [
      "SSP126/2061_2080/EC-Earth3-Veg-LR/B8.tif done\n",
      "SSP126/2061_2080/EC-Earth3-Veg-LR/B9.tif done\n",
      "SSP126/2061_2080/EC-Earth3-Veg-LR/B10.tif done\n",
      "SSP126/2061_2080/EC-Earth3-Veg-LR/B11.tif done\n",
      "SSP126/2061_2080/EC-Earth3-Veg-LR/B12.tif done\n",
      "SSP126/2061_2080/EC-Earth3-Veg-LR/B13.tif done\n",
      "SSP126/2061_2080/EC-Earth3-Veg-LR/B14.tif done\n",
      "SSP126/2061_2080/EC-Earth3-Veg-LR/B15.tif done\n",
      "SSP126/2061_2080/EC-Earth3-Veg-LR/B16.tif done\n",
      "SSP126/2061_2080/EC-Earth3-Veg-LR/B17.tif done\n",
      "SSP126/2061_2080/EC-Earth3-Veg-LR/B18.tif done\n",
      "SSP126/2061_2080/EC-Earth3-Veg-LR/B19.tif done\n",
      "SSP126/2061_2080/FIO-ESM-2-0\n",
      "SSP126/2061_2080/FIO-ESM-2-0/B1.tif done\n",
      "SSP126/2061_2080/FIO-ESM-2-0/B2.tif done\n",
      "SSP126/2061_2080/FIO-ESM-2-0/B3.tif done\n",
      "SSP126/2061_2080/FIO-ESM-2-0/B4.tif done\n",
      "SSP126/2061_2080/FIO-ESM-2-0/B5.tif done\n",
      "SSP126/2061_2080/FIO-ESM-2-0/B6.tif done\n",
      "SSP126/2061_2080/FIO-ESM-2-0/B7.tif done\n",
      "SSP126/2061_2080/FIO-ESM-2-0/B8.tif done\n",
      "SSP126/2061_2080/FIO-ESM-2-0/B9.tif done\n",
      "SSP126/2061_2080/FIO-ESM-2-0/B10.tif done\n",
      "SSP126/2061_2080/FIO-ESM-2-0/B11.tif done\n",
      "SSP126/2061_2080/FIO-ESM-2-0/B12.tif done\n",
      "SSP126/2061_2080/FIO-ESM-2-0/B13.tif done\n",
      "SSP126/2061_2080/FIO-ESM-2-0/B14.tif done\n",
      "SSP126/2061_2080/FIO-ESM-2-0/B15.tif done\n",
      "SSP126/2061_2080/FIO-ESM-2-0/B16.tif done\n",
      "SSP126/2061_2080/FIO-ESM-2-0/B17.tif done\n",
      "SSP126/2061_2080/FIO-ESM-2-0/B18.tif done\n",
      "SSP126/2061_2080/FIO-ESM-2-0/B19.tif done\n",
      "SSP126/2061_2080/GISS-E2-1-G\n",
      "SSP126/2061_2080/GISS-E2-1-G/B1.tif done\n",
      "SSP126/2061_2080/GISS-E2-1-G/B2.tif done\n",
      "SSP126/2061_2080/GISS-E2-1-G/B3.tif done\n",
      "SSP126/2061_2080/GISS-E2-1-G/B4.tif done\n",
      "SSP126/2061_2080/GISS-E2-1-G/B5.tif done\n",
      "SSP126/2061_2080/GISS-E2-1-G/B6.tif done\n",
      "SSP126/2061_2080/GISS-E2-1-G/B7.tif done\n",
      "SSP126/2061_2080/GISS-E2-1-G/B8.tif done\n",
      "SSP126/2061_2080/GISS-E2-1-G/B9.tif done\n",
      "SSP126/2061_2080/GISS-E2-1-G/B10.tif done\n",
      "SSP126/2061_2080/GISS-E2-1-G/B11.tif done\n",
      "SSP126/2061_2080/GISS-E2-1-G/B12.tif done\n",
      "SSP126/2061_2080/GISS-E2-1-G/B13.tif done\n",
      "SSP126/2061_2080/GISS-E2-1-G/B14.tif done\n",
      "SSP126/2061_2080/GISS-E2-1-G/B15.tif done\n",
      "SSP126/2061_2080/GISS-E2-1-G/B16.tif done\n",
      "SSP126/2061_2080/GISS-E2-1-G/B17.tif done\n",
      "SSP126/2061_2080/GISS-E2-1-G/B18.tif done\n",
      "SSP126/2061_2080/GISS-E2-1-G/B19.tif done\n",
      "SSP126/2061_2080/GISS-E2-1-H\n",
      "SSP126/2061_2080/GISS-E2-1-H/B1.tif done\n",
      "SSP126/2061_2080/GISS-E2-1-H/B2.tif done\n",
      "SSP126/2061_2080/GISS-E2-1-H/B3.tif done\n",
      "SSP126/2061_2080/GISS-E2-1-H/B4.tif done\n",
      "SSP126/2061_2080/GISS-E2-1-H/B5.tif done\n",
      "SSP126/2061_2080/GISS-E2-1-H/B6.tif done\n",
      "SSP126/2061_2080/GISS-E2-1-H/B7.tif done\n",
      "SSP126/2061_2080/GISS-E2-1-H/B8.tif done\n",
      "SSP126/2061_2080/GISS-E2-1-H/B9.tif done\n",
      "SSP126/2061_2080/GISS-E2-1-H/B10.tif done\n",
      "SSP126/2061_2080/GISS-E2-1-H/B11.tif done\n",
      "SSP126/2061_2080/GISS-E2-1-H/B12.tif done\n",
      "SSP126/2061_2080/GISS-E2-1-H/B13.tif done\n",
      "SSP126/2061_2080/GISS-E2-1-H/B14.tif done\n",
      "SSP126/2061_2080/GISS-E2-1-H/B15.tif done\n",
      "SSP126/2061_2080/GISS-E2-1-H/B16.tif done\n",
      "SSP126/2061_2080/GISS-E2-1-H/B17.tif done\n",
      "SSP126/2061_2080/GISS-E2-1-H/B18.tif done\n",
      "SSP126/2061_2080/GISS-E2-1-H/B19.tif done\n",
      "SSP126/2061_2080/HadGEM3-GC31-LL\n",
      "SSP126/2061_2080/HadGEM3-GC31-LL/B1.tif done\n",
      "SSP126/2061_2080/HadGEM3-GC31-LL/B2.tif done\n",
      "SSP126/2061_2080/HadGEM3-GC31-LL/B3.tif done\n",
      "SSP126/2061_2080/HadGEM3-GC31-LL/B4.tif done\n",
      "SSP126/2061_2080/HadGEM3-GC31-LL/B5.tif done\n",
      "SSP126/2061_2080/HadGEM3-GC31-LL/B6.tif done\n",
      "SSP126/2061_2080/HadGEM3-GC31-LL/B7.tif done\n",
      "SSP126/2061_2080/HadGEM3-GC31-LL/B8.tif done\n",
      "SSP126/2061_2080/HadGEM3-GC31-LL/B9.tif done\n",
      "SSP126/2061_2080/HadGEM3-GC31-LL/B10.tif done\n",
      "SSP126/2061_2080/HadGEM3-GC31-LL/B11.tif done\n",
      "SSP126/2061_2080/HadGEM3-GC31-LL/B12.tif done\n",
      "SSP126/2061_2080/HadGEM3-GC31-LL/B13.tif done\n",
      "SSP126/2061_2080/HadGEM3-GC31-LL/B14.tif done\n",
      "SSP126/2061_2080/HadGEM3-GC31-LL/B15.tif done\n",
      "SSP126/2061_2080/HadGEM3-GC31-LL/B16.tif done\n",
      "SSP126/2061_2080/HadGEM3-GC31-LL/B17.tif done\n",
      "SSP126/2061_2080/HadGEM3-GC31-LL/B18.tif done\n",
      "SSP126/2061_2080/HadGEM3-GC31-LL/B19.tif done\n",
      "SSP126/2061_2080/INM-CM4-8\n",
      "SSP126/2061_2080/INM-CM4-8/B1.tif done\n",
      "SSP126/2061_2080/INM-CM4-8/B2.tif done\n",
      "SSP126/2061_2080/INM-CM4-8/B3.tif done\n",
      "SSP126/2061_2080/INM-CM4-8/B4.tif done\n",
      "SSP126/2061_2080/INM-CM4-8/B5.tif done\n",
      "SSP126/2061_2080/INM-CM4-8/B6.tif done\n",
      "SSP126/2061_2080/INM-CM4-8/B7.tif done\n",
      "SSP126/2061_2080/INM-CM4-8/B8.tif done\n",
      "SSP126/2061_2080/INM-CM4-8/B9.tif done\n",
      "SSP126/2061_2080/INM-CM4-8/B10.tif done\n",
      "SSP126/2061_2080/INM-CM4-8/B11.tif done\n",
      "SSP126/2061_2080/INM-CM4-8/B12.tif done\n",
      "SSP126/2061_2080/INM-CM4-8/B13.tif done\n",
      "SSP126/2061_2080/INM-CM4-8/B14.tif done\n",
      "SSP126/2061_2080/INM-CM4-8/B15.tif done\n",
      "SSP126/2061_2080/INM-CM4-8/B16.tif done\n",
      "SSP126/2061_2080/INM-CM4-8/B17.tif done\n",
      "SSP126/2061_2080/INM-CM4-8/B18.tif done\n",
      "SSP126/2061_2080/INM-CM4-8/B19.tif done\n",
      "SSP126/2061_2080/INM-CM5-0\n",
      "SSP126/2061_2080/INM-CM5-0/B1.tif done\n",
      "SSP126/2061_2080/INM-CM5-0/B2.tif done\n",
      "SSP126/2061_2080/INM-CM5-0/B3.tif done\n",
      "SSP126/2061_2080/INM-CM5-0/B4.tif done\n",
      "SSP126/2061_2080/INM-CM5-0/B5.tif done\n",
      "SSP126/2061_2080/INM-CM5-0/B6.tif done\n",
      "SSP126/2061_2080/INM-CM5-0/B7.tif done\n",
      "SSP126/2061_2080/INM-CM5-0/B8.tif done\n",
      "SSP126/2061_2080/INM-CM5-0/B9.tif done\n",
      "SSP126/2061_2080/INM-CM5-0/B10.tif done\n",
      "SSP126/2061_2080/INM-CM5-0/B11.tif done\n",
      "SSP126/2061_2080/INM-CM5-0/B12.tif done\n",
      "SSP126/2061_2080/INM-CM5-0/B13.tif done\n",
      "SSP126/2061_2080/INM-CM5-0/B14.tif done\n",
      "SSP126/2061_2080/INM-CM5-0/B15.tif done\n",
      "SSP126/2061_2080/INM-CM5-0/B16.tif done\n",
      "SSP126/2061_2080/INM-CM5-0/B17.tif done\n",
      "SSP126/2061_2080/INM-CM5-0/B18.tif done\n",
      "SSP126/2061_2080/INM-CM5-0/B19.tif done\n",
      "SSP126/2061_2080/IPSL-CM6A-LR\n",
      "SSP126/2061_2080/IPSL-CM6A-LR/B1.tif done\n",
      "SSP126/2061_2080/IPSL-CM6A-LR/B2.tif done\n",
      "SSP126/2061_2080/IPSL-CM6A-LR/B3.tif done\n",
      "SSP126/2061_2080/IPSL-CM6A-LR/B4.tif done\n",
      "SSP126/2061_2080/IPSL-CM6A-LR/B5.tif done\n",
      "SSP126/2061_2080/IPSL-CM6A-LR/B6.tif done\n",
      "SSP126/2061_2080/IPSL-CM6A-LR/B7.tif done\n",
      "SSP126/2061_2080/IPSL-CM6A-LR/B8.tif done\n",
      "SSP126/2061_2080/IPSL-CM6A-LR/B9.tif done\n",
      "SSP126/2061_2080/IPSL-CM6A-LR/B10.tif done\n",
      "SSP126/2061_2080/IPSL-CM6A-LR/B11.tif done\n",
      "SSP126/2061_2080/IPSL-CM6A-LR/B12.tif done\n",
      "SSP126/2061_2080/IPSL-CM6A-LR/B13.tif done\n",
      "SSP126/2061_2080/IPSL-CM6A-LR/B14.tif done\n",
      "SSP126/2061_2080/IPSL-CM6A-LR/B15.tif done\n",
      "SSP126/2061_2080/IPSL-CM6A-LR/B16.tif done\n",
      "SSP126/2061_2080/IPSL-CM6A-LR/B17.tif done\n",
      "SSP126/2061_2080/IPSL-CM6A-LR/B18.tif done\n",
      "SSP126/2061_2080/IPSL-CM6A-LR/B19.tif done\n",
      "SSP126/2061_2080/MIROC-ES2L\n",
      "SSP126/2061_2080/MIROC-ES2L/B1.tif done\n",
      "SSP126/2061_2080/MIROC-ES2L/B2.tif done\n",
      "SSP126/2061_2080/MIROC-ES2L/B3.tif done\n",
      "SSP126/2061_2080/MIROC-ES2L/B4.tif done\n",
      "SSP126/2061_2080/MIROC-ES2L/B5.tif done\n",
      "SSP126/2061_2080/MIROC-ES2L/B6.tif done\n",
      "SSP126/2061_2080/MIROC-ES2L/B7.tif done\n",
      "SSP126/2061_2080/MIROC-ES2L/B8.tif done\n",
      "SSP126/2061_2080/MIROC-ES2L/B9.tif done\n",
      "SSP126/2061_2080/MIROC-ES2L/B10.tif done\n",
      "SSP126/2061_2080/MIROC-ES2L/B11.tif done\n",
      "SSP126/2061_2080/MIROC-ES2L/B12.tif done\n",
      "SSP126/2061_2080/MIROC-ES2L/B13.tif done\n",
      "SSP126/2061_2080/MIROC-ES2L/B14.tif done\n",
      "SSP126/2061_2080/MIROC-ES2L/B15.tif done\n",
      "SSP126/2061_2080/MIROC-ES2L/B16.tif done\n",
      "SSP126/2061_2080/MIROC-ES2L/B17.tif done\n",
      "SSP126/2061_2080/MIROC-ES2L/B18.tif done\n",
      "SSP126/2061_2080/MIROC-ES2L/B19.tif done\n",
      "SSP126/2061_2080/MIROC6\n",
      "SSP126/2061_2080/MIROC6/B1.tif done\n",
      "SSP126/2061_2080/MIROC6/B2.tif done\n",
      "SSP126/2061_2080/MIROC6/B3.tif done\n",
      "SSP126/2061_2080/MIROC6/B4.tif done\n",
      "SSP126/2061_2080/MIROC6/B5.tif done\n",
      "SSP126/2061_2080/MIROC6/B6.tif done\n",
      "SSP126/2061_2080/MIROC6/B7.tif done\n",
      "SSP126/2061_2080/MIROC6/B8.tif done\n",
      "SSP126/2061_2080/MIROC6/B9.tif done\n",
      "SSP126/2061_2080/MIROC6/B10.tif done\n",
      "SSP126/2061_2080/MIROC6/B11.tif done\n",
      "SSP126/2061_2080/MIROC6/B12.tif done\n",
      "SSP126/2061_2080/MIROC6/B13.tif done\n",
      "SSP126/2061_2080/MIROC6/B14.tif done\n",
      "SSP126/2061_2080/MIROC6/B15.tif done\n",
      "SSP126/2061_2080/MIROC6/B16.tif done\n",
      "SSP126/2061_2080/MIROC6/B17.tif done\n",
      "SSP126/2061_2080/MIROC6/B18.tif done\n",
      "SSP126/2061_2080/MIROC6/B19.tif done\n",
      "SSP126/2061_2080/MPI-ESM1-2-HR\n",
      "SSP126/2061_2080/MPI-ESM1-2-HR/B1.tif done\n",
      "SSP126/2061_2080/MPI-ESM1-2-HR/B2.tif done\n",
      "SSP126/2061_2080/MPI-ESM1-2-HR/B3.tif done\n",
      "SSP126/2061_2080/MPI-ESM1-2-HR/B4.tif done\n",
      "SSP126/2061_2080/MPI-ESM1-2-HR/B5.tif done\n",
      "SSP126/2061_2080/MPI-ESM1-2-HR/B6.tif done\n",
      "SSP126/2061_2080/MPI-ESM1-2-HR/B7.tif done\n",
      "SSP126/2061_2080/MPI-ESM1-2-HR/B8.tif done\n",
      "SSP126/2061_2080/MPI-ESM1-2-HR/B9.tif done\n",
      "SSP126/2061_2080/MPI-ESM1-2-HR/B10.tif done\n",
      "SSP126/2061_2080/MPI-ESM1-2-HR/B11.tif done\n"
     ]
    },
    {
     "name": "stdout",
     "output_type": "stream",
     "text": [
      "SSP126/2061_2080/MPI-ESM1-2-HR/B12.tif done\n",
      "SSP126/2061_2080/MPI-ESM1-2-HR/B13.tif done\n",
      "SSP126/2061_2080/MPI-ESM1-2-HR/B14.tif done\n",
      "SSP126/2061_2080/MPI-ESM1-2-HR/B15.tif done\n",
      "SSP126/2061_2080/MPI-ESM1-2-HR/B16.tif done\n",
      "SSP126/2061_2080/MPI-ESM1-2-HR/B17.tif done\n",
      "SSP126/2061_2080/MPI-ESM1-2-HR/B18.tif done\n",
      "SSP126/2061_2080/MPI-ESM1-2-HR/B19.tif done\n",
      "SSP126/2061_2080/MPI-ESM1-2-LR\n",
      "SSP126/2061_2080/MPI-ESM1-2-LR/B1.tif done\n",
      "SSP126/2061_2080/MPI-ESM1-2-LR/B2.tif done\n",
      "SSP126/2061_2080/MPI-ESM1-2-LR/B3.tif done\n",
      "SSP126/2061_2080/MPI-ESM1-2-LR/B4.tif done\n",
      "SSP126/2061_2080/MPI-ESM1-2-LR/B5.tif done\n",
      "SSP126/2061_2080/MPI-ESM1-2-LR/B6.tif done\n",
      "SSP126/2061_2080/MPI-ESM1-2-LR/B7.tif done\n",
      "SSP126/2061_2080/MPI-ESM1-2-LR/B8.tif done\n",
      "SSP126/2061_2080/MPI-ESM1-2-LR/B9.tif done\n",
      "SSP126/2061_2080/MPI-ESM1-2-LR/B10.tif done\n",
      "SSP126/2061_2080/MPI-ESM1-2-LR/B11.tif done\n",
      "SSP126/2061_2080/MPI-ESM1-2-LR/B12.tif done\n",
      "SSP126/2061_2080/MPI-ESM1-2-LR/B13.tif done\n",
      "SSP126/2061_2080/MPI-ESM1-2-LR/B14.tif done\n",
      "SSP126/2061_2080/MPI-ESM1-2-LR/B15.tif done\n",
      "SSP126/2061_2080/MPI-ESM1-2-LR/B16.tif done\n",
      "SSP126/2061_2080/MPI-ESM1-2-LR/B17.tif done\n",
      "SSP126/2061_2080/MPI-ESM1-2-LR/B18.tif done\n",
      "SSP126/2061_2080/MPI-ESM1-2-LR/B19.tif done\n",
      "SSP126/2061_2080/MRI-ESM2-0\n",
      "SSP126/2061_2080/MRI-ESM2-0/B1.tif done\n",
      "SSP126/2061_2080/MRI-ESM2-0/B2.tif done\n",
      "SSP126/2061_2080/MRI-ESM2-0/B3.tif done\n",
      "SSP126/2061_2080/MRI-ESM2-0/B4.tif done\n",
      "SSP126/2061_2080/MRI-ESM2-0/B5.tif done\n",
      "SSP126/2061_2080/MRI-ESM2-0/B6.tif done\n",
      "SSP126/2061_2080/MRI-ESM2-0/B7.tif done\n",
      "SSP126/2061_2080/MRI-ESM2-0/B8.tif done\n",
      "SSP126/2061_2080/MRI-ESM2-0/B9.tif done\n",
      "SSP126/2061_2080/MRI-ESM2-0/B10.tif done\n",
      "SSP126/2061_2080/MRI-ESM2-0/B11.tif done\n",
      "SSP126/2061_2080/MRI-ESM2-0/B12.tif done\n",
      "SSP126/2061_2080/MRI-ESM2-0/B13.tif done\n",
      "SSP126/2061_2080/MRI-ESM2-0/B14.tif done\n",
      "SSP126/2061_2080/MRI-ESM2-0/B15.tif done\n",
      "SSP126/2061_2080/MRI-ESM2-0/B16.tif done\n",
      "SSP126/2061_2080/MRI-ESM2-0/B17.tif done\n",
      "SSP126/2061_2080/MRI-ESM2-0/B18.tif done\n",
      "SSP126/2061_2080/MRI-ESM2-0/B19.tif done\n",
      "SSP126/2061_2080/UKESM1-0-LL\n",
      "SSP126/2061_2080/UKESM1-0-LL/B1.tif done\n",
      "SSP126/2061_2080/UKESM1-0-LL/B2.tif done\n",
      "SSP126/2061_2080/UKESM1-0-LL/B3.tif done\n",
      "SSP126/2061_2080/UKESM1-0-LL/B4.tif done\n",
      "SSP126/2061_2080/UKESM1-0-LL/B5.tif done\n",
      "SSP126/2061_2080/UKESM1-0-LL/B6.tif done\n",
      "SSP126/2061_2080/UKESM1-0-LL/B7.tif done\n",
      "SSP126/2061_2080/UKESM1-0-LL/B8.tif done\n",
      "SSP126/2061_2080/UKESM1-0-LL/B9.tif done\n",
      "SSP126/2061_2080/UKESM1-0-LL/B10.tif done\n",
      "SSP126/2061_2080/UKESM1-0-LL/B11.tif done\n",
      "SSP126/2061_2080/UKESM1-0-LL/B12.tif done\n",
      "SSP126/2061_2080/UKESM1-0-LL/B13.tif done\n",
      "SSP126/2061_2080/UKESM1-0-LL/B14.tif done\n",
      "SSP126/2061_2080/UKESM1-0-LL/B15.tif done\n",
      "SSP126/2061_2080/UKESM1-0-LL/B16.tif done\n",
      "SSP126/2061_2080/UKESM1-0-LL/B17.tif done\n",
      "SSP126/2061_2080/UKESM1-0-LL/B18.tif done\n",
      "SSP126/2061_2080/UKESM1-0-LL/B19.tif done\n",
      "SSP126/2061_2080/GFDL-ESM4\n",
      "SSP126/2061_2080/GFDL-ESM4/B1.tif done\n",
      "SSP126/2061_2080/GFDL-ESM4/B2.tif done\n",
      "SSP126/2061_2080/GFDL-ESM4/B3.tif done\n",
      "SSP126/2061_2080/GFDL-ESM4/B4.tif done\n",
      "SSP126/2061_2080/GFDL-ESM4/B5.tif done\n",
      "SSP126/2061_2080/GFDL-ESM4/B6.tif done\n",
      "SSP126/2061_2080/GFDL-ESM4/B7.tif done\n",
      "SSP126/2061_2080/GFDL-ESM4/B8.tif done\n",
      "SSP126/2061_2080/GFDL-ESM4/B9.tif done\n",
      "SSP126/2061_2080/GFDL-ESM4/B10.tif done\n",
      "SSP126/2061_2080/GFDL-ESM4/B11.tif done\n",
      "SSP126/2061_2080/GFDL-ESM4/B12.tif done\n",
      "SSP126/2061_2080/GFDL-ESM4/B13.tif done\n",
      "SSP126/2061_2080/GFDL-ESM4/B14.tif done\n",
      "SSP126/2061_2080/GFDL-ESM4/B15.tif done\n",
      "SSP126/2061_2080/GFDL-ESM4/B16.tif done\n",
      "SSP126/2061_2080/GFDL-ESM4/B17.tif done\n",
      "SSP126/2061_2080/GFDL-ESM4/B18.tif done\n",
      "SSP126/2061_2080/GFDL-ESM4/B19.tif done\n",
      "Year: 2081_2100\n",
      "SSP126/2081_2100/GFDL-ESM4\n",
      "SSP126/2081_2100/GFDL-ESM4/B1.tif done\n",
      "SSP126/2081_2100/GFDL-ESM4/B2.tif done\n",
      "SSP126/2081_2100/GFDL-ESM4/B3.tif done\n",
      "SSP126/2081_2100/GFDL-ESM4/B4.tif done\n",
      "SSP126/2081_2100/GFDL-ESM4/B5.tif done\n",
      "SSP126/2081_2100/GFDL-ESM4/B6.tif done\n",
      "SSP126/2081_2100/GFDL-ESM4/B7.tif done\n",
      "SSP126/2081_2100/GFDL-ESM4/B8.tif done\n",
      "SSP126/2081_2100/GFDL-ESM4/B9.tif done\n",
      "SSP126/2081_2100/GFDL-ESM4/B10.tif done\n",
      "SSP126/2081_2100/GFDL-ESM4/B11.tif done\n",
      "SSP126/2081_2100/GFDL-ESM4/B12.tif done\n",
      "SSP126/2081_2100/GFDL-ESM4/B13.tif done\n",
      "SSP126/2081_2100/GFDL-ESM4/B14.tif done\n",
      "SSP126/2081_2100/GFDL-ESM4/B15.tif done\n",
      "SSP126/2081_2100/GFDL-ESM4/B16.tif done\n",
      "SSP126/2081_2100/GFDL-ESM4/B17.tif done\n",
      "SSP126/2081_2100/GFDL-ESM4/B18.tif done\n",
      "SSP126/2081_2100/GFDL-ESM4/B19.tif done\n",
      "SSP126/2081_2100/UKESM1-0-LL\n",
      "SSP126/2081_2100/UKESM1-0-LL/B1.tif done\n",
      "SSP126/2081_2100/UKESM1-0-LL/B2.tif done\n",
      "SSP126/2081_2100/UKESM1-0-LL/B3.tif done\n",
      "SSP126/2081_2100/UKESM1-0-LL/B4.tif done\n",
      "SSP126/2081_2100/UKESM1-0-LL/B5.tif done\n",
      "SSP126/2081_2100/UKESM1-0-LL/B6.tif done\n",
      "SSP126/2081_2100/UKESM1-0-LL/B7.tif done\n",
      "SSP126/2081_2100/UKESM1-0-LL/B8.tif done\n",
      "SSP126/2081_2100/UKESM1-0-LL/B9.tif done\n",
      "SSP126/2081_2100/UKESM1-0-LL/B10.tif done\n",
      "SSP126/2081_2100/UKESM1-0-LL/B11.tif done\n",
      "SSP126/2081_2100/UKESM1-0-LL/B12.tif done\n",
      "SSP126/2081_2100/UKESM1-0-LL/B13.tif done\n",
      "SSP126/2081_2100/UKESM1-0-LL/B14.tif done\n",
      "SSP126/2081_2100/UKESM1-0-LL/B15.tif done\n",
      "SSP126/2081_2100/UKESM1-0-LL/B16.tif done\n",
      "SSP126/2081_2100/UKESM1-0-LL/B17.tif done\n",
      "SSP126/2081_2100/UKESM1-0-LL/B18.tif done\n",
      "SSP126/2081_2100/UKESM1-0-LL/B19.tif done\n",
      "SSP126/2081_2100/ACCESS-CM2\n",
      "SSP126/2081_2100/ACCESS-CM2/B1.tif done\n",
      "SSP126/2081_2100/ACCESS-CM2/B2.tif done\n",
      "SSP126/2081_2100/ACCESS-CM2/B3.tif done\n",
      "SSP126/2081_2100/ACCESS-CM2/B4.tif done\n",
      "SSP126/2081_2100/ACCESS-CM2/B5.tif done\n",
      "SSP126/2081_2100/ACCESS-CM2/B6.tif done\n",
      "SSP126/2081_2100/ACCESS-CM2/B7.tif done\n",
      "SSP126/2081_2100/ACCESS-CM2/B8.tif done\n",
      "SSP126/2081_2100/ACCESS-CM2/B9.tif done\n",
      "SSP126/2081_2100/ACCESS-CM2/B10.tif done\n",
      "SSP126/2081_2100/ACCESS-CM2/B11.tif done\n",
      "SSP126/2081_2100/ACCESS-CM2/B12.tif done\n",
      "SSP126/2081_2100/ACCESS-CM2/B13.tif done\n",
      "SSP126/2081_2100/ACCESS-CM2/B14.tif done\n",
      "SSP126/2081_2100/ACCESS-CM2/B15.tif done\n",
      "SSP126/2081_2100/ACCESS-CM2/B16.tif done\n",
      "SSP126/2081_2100/ACCESS-CM2/B17.tif done\n",
      "SSP126/2081_2100/ACCESS-CM2/B18.tif done\n",
      "SSP126/2081_2100/ACCESS-CM2/B19.tif done\n",
      "SSP126/2081_2100/ACCESS-ESM1-5\n",
      "SSP126/2081_2100/ACCESS-ESM1-5/B1.tif done\n",
      "SSP126/2081_2100/ACCESS-ESM1-5/B2.tif done\n",
      "SSP126/2081_2100/ACCESS-ESM1-5/B3.tif done\n",
      "SSP126/2081_2100/ACCESS-ESM1-5/B4.tif done\n",
      "SSP126/2081_2100/ACCESS-ESM1-5/B5.tif done\n",
      "SSP126/2081_2100/ACCESS-ESM1-5/B6.tif done\n",
      "SSP126/2081_2100/ACCESS-ESM1-5/B7.tif done\n",
      "SSP126/2081_2100/ACCESS-ESM1-5/B8.tif done\n",
      "SSP126/2081_2100/ACCESS-ESM1-5/B9.tif done\n",
      "SSP126/2081_2100/ACCESS-ESM1-5/B10.tif done\n",
      "SSP126/2081_2100/ACCESS-ESM1-5/B11.tif done\n",
      "SSP126/2081_2100/ACCESS-ESM1-5/B12.tif done\n",
      "SSP126/2081_2100/ACCESS-ESM1-5/B13.tif done\n",
      "SSP126/2081_2100/ACCESS-ESM1-5/B14.tif done\n",
      "SSP126/2081_2100/ACCESS-ESM1-5/B15.tif done\n",
      "SSP126/2081_2100/ACCESS-ESM1-5/B16.tif done\n",
      "SSP126/2081_2100/ACCESS-ESM1-5/B17.tif done\n",
      "SSP126/2081_2100/ACCESS-ESM1-5/B18.tif done\n",
      "SSP126/2081_2100/ACCESS-ESM1-5/B19.tif done\n",
      "SSP126/2081_2100/BCC-CSM2-MR\n",
      "SSP126/2081_2100/BCC-CSM2-MR/B1.tif done\n",
      "SSP126/2081_2100/BCC-CSM2-MR/B2.tif done\n",
      "SSP126/2081_2100/BCC-CSM2-MR/B3.tif done\n",
      "SSP126/2081_2100/BCC-CSM2-MR/B4.tif done\n",
      "SSP126/2081_2100/BCC-CSM2-MR/B5.tif done\n",
      "SSP126/2081_2100/BCC-CSM2-MR/B6.tif done\n",
      "SSP126/2081_2100/BCC-CSM2-MR/B7.tif done\n",
      "SSP126/2081_2100/BCC-CSM2-MR/B8.tif done\n",
      "SSP126/2081_2100/BCC-CSM2-MR/B9.tif done\n",
      "SSP126/2081_2100/BCC-CSM2-MR/B10.tif done\n",
      "SSP126/2081_2100/BCC-CSM2-MR/B11.tif done\n",
      "SSP126/2081_2100/BCC-CSM2-MR/B12.tif done\n",
      "SSP126/2081_2100/BCC-CSM2-MR/B13.tif done\n",
      "SSP126/2081_2100/BCC-CSM2-MR/B14.tif done\n",
      "SSP126/2081_2100/BCC-CSM2-MR/B15.tif done\n",
      "SSP126/2081_2100/BCC-CSM2-MR/B16.tif done\n",
      "SSP126/2081_2100/BCC-CSM2-MR/B17.tif done\n",
      "SSP126/2081_2100/BCC-CSM2-MR/B18.tif done\n",
      "SSP126/2081_2100/BCC-CSM2-MR/B19.tif done\n",
      "SSP126/2081_2100/CanESM5\n",
      "SSP126/2081_2100/CanESM5/B1.tif done\n",
      "SSP126/2081_2100/CanESM5/B2.tif done\n",
      "SSP126/2081_2100/CanESM5/B3.tif done\n",
      "SSP126/2081_2100/CanESM5/B4.tif done\n",
      "SSP126/2081_2100/CanESM5/B5.tif done\n",
      "SSP126/2081_2100/CanESM5/B6.tif done\n",
      "SSP126/2081_2100/CanESM5/B7.tif done\n",
      "SSP126/2081_2100/CanESM5/B8.tif done\n",
      "SSP126/2081_2100/CanESM5/B9.tif done\n",
      "SSP126/2081_2100/CanESM5/B10.tif done\n",
      "SSP126/2081_2100/CanESM5/B11.tif done\n",
      "SSP126/2081_2100/CanESM5/B12.tif done\n",
      "SSP126/2081_2100/CanESM5/B13.tif done\n",
      "SSP126/2081_2100/CanESM5/B14.tif done\n",
      "SSP126/2081_2100/CanESM5/B15.tif done\n",
      "SSP126/2081_2100/CanESM5/B16.tif done\n"
     ]
    },
    {
     "name": "stdout",
     "output_type": "stream",
     "text": [
      "SSP126/2081_2100/CanESM5/B17.tif done\n",
      "SSP126/2081_2100/CanESM5/B18.tif done\n",
      "SSP126/2081_2100/CanESM5/B19.tif done\n",
      "SSP126/2081_2100/CanESM5-CanOE\n",
      "SSP126/2081_2100/CanESM5-CanOE/B1.tif done\n",
      "SSP126/2081_2100/CanESM5-CanOE/B2.tif done\n",
      "SSP126/2081_2100/CanESM5-CanOE/B3.tif done\n",
      "SSP126/2081_2100/CanESM5-CanOE/B4.tif done\n",
      "SSP126/2081_2100/CanESM5-CanOE/B5.tif done\n",
      "SSP126/2081_2100/CanESM5-CanOE/B6.tif done\n",
      "SSP126/2081_2100/CanESM5-CanOE/B7.tif done\n",
      "SSP126/2081_2100/CanESM5-CanOE/B8.tif done\n",
      "SSP126/2081_2100/CanESM5-CanOE/B9.tif done\n",
      "SSP126/2081_2100/CanESM5-CanOE/B10.tif done\n",
      "SSP126/2081_2100/CanESM5-CanOE/B11.tif done\n",
      "SSP126/2081_2100/CanESM5-CanOE/B12.tif done\n",
      "SSP126/2081_2100/CanESM5-CanOE/B13.tif done\n",
      "SSP126/2081_2100/CanESM5-CanOE/B14.tif done\n",
      "SSP126/2081_2100/CanESM5-CanOE/B15.tif done\n",
      "SSP126/2081_2100/CanESM5-CanOE/B16.tif done\n",
      "SSP126/2081_2100/CanESM5-CanOE/B17.tif done\n",
      "SSP126/2081_2100/CanESM5-CanOE/B18.tif done\n",
      "SSP126/2081_2100/CanESM5-CanOE/B19.tif done\n",
      "SSP126/2081_2100/CMCC-ESM2\n",
      "SSP126/2081_2100/CMCC-ESM2/B1.tif done\n",
      "SSP126/2081_2100/CMCC-ESM2/B2.tif done\n",
      "SSP126/2081_2100/CMCC-ESM2/B3.tif done\n",
      "SSP126/2081_2100/CMCC-ESM2/B4.tif done\n",
      "SSP126/2081_2100/CMCC-ESM2/B5.tif done\n",
      "SSP126/2081_2100/CMCC-ESM2/B6.tif done\n",
      "SSP126/2081_2100/CMCC-ESM2/B7.tif done\n",
      "SSP126/2081_2100/CMCC-ESM2/B8.tif done\n",
      "SSP126/2081_2100/CMCC-ESM2/B9.tif done\n",
      "SSP126/2081_2100/CMCC-ESM2/B10.tif done\n",
      "SSP126/2081_2100/CMCC-ESM2/B11.tif done\n",
      "SSP126/2081_2100/CMCC-ESM2/B12.tif done\n",
      "SSP126/2081_2100/CMCC-ESM2/B13.tif done\n",
      "SSP126/2081_2100/CMCC-ESM2/B14.tif done\n",
      "SSP126/2081_2100/CMCC-ESM2/B15.tif done\n",
      "SSP126/2081_2100/CMCC-ESM2/B16.tif done\n",
      "SSP126/2081_2100/CMCC-ESM2/B17.tif done\n",
      "SSP126/2081_2100/CMCC-ESM2/B18.tif done\n",
      "SSP126/2081_2100/CMCC-ESM2/B19.tif done\n",
      "SSP126/2081_2100/CNRM-CM6-1\n",
      "SSP126/2081_2100/CNRM-CM6-1/B1.tif done\n",
      "SSP126/2081_2100/CNRM-CM6-1/B2.tif done\n",
      "SSP126/2081_2100/CNRM-CM6-1/B3.tif done\n",
      "SSP126/2081_2100/CNRM-CM6-1/B4.tif done\n",
      "SSP126/2081_2100/CNRM-CM6-1/B5.tif done\n",
      "SSP126/2081_2100/CNRM-CM6-1/B6.tif done\n",
      "SSP126/2081_2100/CNRM-CM6-1/B7.tif done\n",
      "SSP126/2081_2100/CNRM-CM6-1/B8.tif done\n",
      "SSP126/2081_2100/CNRM-CM6-1/B9.tif done\n",
      "SSP126/2081_2100/CNRM-CM6-1/B10.tif done\n",
      "SSP126/2081_2100/CNRM-CM6-1/B11.tif done\n",
      "SSP126/2081_2100/CNRM-CM6-1/B12.tif done\n",
      "SSP126/2081_2100/CNRM-CM6-1/B13.tif done\n",
      "SSP126/2081_2100/CNRM-CM6-1/B14.tif done\n",
      "SSP126/2081_2100/CNRM-CM6-1/B15.tif done\n",
      "SSP126/2081_2100/CNRM-CM6-1/B16.tif done\n",
      "SSP126/2081_2100/CNRM-CM6-1/B17.tif done\n",
      "SSP126/2081_2100/CNRM-CM6-1/B18.tif done\n",
      "SSP126/2081_2100/CNRM-CM6-1/B19.tif done\n",
      "SSP126/2081_2100/CNRM-CM6-1-HR\n",
      "SSP126/2081_2100/CNRM-CM6-1-HR/B1.tif done\n",
      "SSP126/2081_2100/CNRM-CM6-1-HR/B2.tif done\n",
      "SSP126/2081_2100/CNRM-CM6-1-HR/B3.tif done\n",
      "SSP126/2081_2100/CNRM-CM6-1-HR/B4.tif done\n",
      "SSP126/2081_2100/CNRM-CM6-1-HR/B5.tif done\n",
      "SSP126/2081_2100/CNRM-CM6-1-HR/B6.tif done\n",
      "SSP126/2081_2100/CNRM-CM6-1-HR/B7.tif done\n",
      "SSP126/2081_2100/CNRM-CM6-1-HR/B8.tif done\n",
      "SSP126/2081_2100/CNRM-CM6-1-HR/B9.tif done\n",
      "SSP126/2081_2100/CNRM-CM6-1-HR/B10.tif done\n",
      "SSP126/2081_2100/CNRM-CM6-1-HR/B11.tif done\n",
      "SSP126/2081_2100/CNRM-CM6-1-HR/B12.tif done\n",
      "SSP126/2081_2100/CNRM-CM6-1-HR/B13.tif done\n",
      "SSP126/2081_2100/CNRM-CM6-1-HR/B14.tif done\n",
      "SSP126/2081_2100/CNRM-CM6-1-HR/B15.tif done\n",
      "SSP126/2081_2100/CNRM-CM6-1-HR/B16.tif done\n",
      "SSP126/2081_2100/CNRM-CM6-1-HR/B17.tif done\n",
      "SSP126/2081_2100/CNRM-CM6-1-HR/B18.tif done\n",
      "SSP126/2081_2100/CNRM-CM6-1-HR/B19.tif done\n",
      "SSP126/2081_2100/CNRM-ESM2-1\n",
      "SSP126/2081_2100/CNRM-ESM2-1/B1.tif done\n",
      "SSP126/2081_2100/CNRM-ESM2-1/B2.tif done\n",
      "SSP126/2081_2100/CNRM-ESM2-1/B3.tif done\n",
      "SSP126/2081_2100/CNRM-ESM2-1/B4.tif done\n",
      "SSP126/2081_2100/CNRM-ESM2-1/B5.tif done\n",
      "SSP126/2081_2100/CNRM-ESM2-1/B6.tif done\n",
      "SSP126/2081_2100/CNRM-ESM2-1/B7.tif done\n",
      "SSP126/2081_2100/CNRM-ESM2-1/B8.tif done\n",
      "SSP126/2081_2100/CNRM-ESM2-1/B9.tif done\n",
      "SSP126/2081_2100/CNRM-ESM2-1/B10.tif done\n",
      "SSP126/2081_2100/CNRM-ESM2-1/B11.tif done\n",
      "SSP126/2081_2100/CNRM-ESM2-1/B12.tif done\n",
      "SSP126/2081_2100/CNRM-ESM2-1/B13.tif done\n",
      "SSP126/2081_2100/CNRM-ESM2-1/B14.tif done\n",
      "SSP126/2081_2100/CNRM-ESM2-1/B15.tif done\n",
      "SSP126/2081_2100/CNRM-ESM2-1/B16.tif done\n",
      "SSP126/2081_2100/CNRM-ESM2-1/B17.tif done\n",
      "SSP126/2081_2100/CNRM-ESM2-1/B18.tif done\n",
      "SSP126/2081_2100/CNRM-ESM2-1/B19.tif done\n",
      "SSP126/2081_2100/EC-Earth3-Veg\n",
      "SSP126/2081_2100/EC-Earth3-Veg/B1.tif done\n",
      "SSP126/2081_2100/EC-Earth3-Veg/B2.tif done\n",
      "SSP126/2081_2100/EC-Earth3-Veg/B3.tif done\n",
      "SSP126/2081_2100/EC-Earth3-Veg/B4.tif done\n",
      "SSP126/2081_2100/EC-Earth3-Veg/B5.tif done\n",
      "SSP126/2081_2100/EC-Earth3-Veg/B6.tif done\n",
      "SSP126/2081_2100/EC-Earth3-Veg/B7.tif done\n",
      "SSP126/2081_2100/EC-Earth3-Veg/B8.tif done\n",
      "SSP126/2081_2100/EC-Earth3-Veg/B9.tif done\n",
      "SSP126/2081_2100/EC-Earth3-Veg/B10.tif done\n",
      "SSP126/2081_2100/EC-Earth3-Veg/B11.tif done\n",
      "SSP126/2081_2100/EC-Earth3-Veg/B12.tif done\n",
      "SSP126/2081_2100/EC-Earth3-Veg/B13.tif done\n",
      "SSP126/2081_2100/EC-Earth3-Veg/B14.tif done\n",
      "SSP126/2081_2100/EC-Earth3-Veg/B15.tif done\n",
      "SSP126/2081_2100/EC-Earth3-Veg/B16.tif done\n",
      "SSP126/2081_2100/EC-Earth3-Veg/B17.tif done\n",
      "SSP126/2081_2100/EC-Earth3-Veg/B18.tif done\n",
      "SSP126/2081_2100/EC-Earth3-Veg/B19.tif done\n",
      "SSP126/2081_2100/EC-Earth3-Veg-LR\n",
      "SSP126/2081_2100/EC-Earth3-Veg-LR/B1.tif done\n",
      "SSP126/2081_2100/EC-Earth3-Veg-LR/B2.tif done\n",
      "SSP126/2081_2100/EC-Earth3-Veg-LR/B3.tif done\n",
      "SSP126/2081_2100/EC-Earth3-Veg-LR/B4.tif done\n",
      "SSP126/2081_2100/EC-Earth3-Veg-LR/B5.tif done\n",
      "SSP126/2081_2100/EC-Earth3-Veg-LR/B6.tif done\n",
      "SSP126/2081_2100/EC-Earth3-Veg-LR/B7.tif done\n",
      "SSP126/2081_2100/EC-Earth3-Veg-LR/B8.tif done\n",
      "SSP126/2081_2100/EC-Earth3-Veg-LR/B9.tif done\n",
      "SSP126/2081_2100/EC-Earth3-Veg-LR/B10.tif done\n",
      "SSP126/2081_2100/EC-Earth3-Veg-LR/B11.tif done\n",
      "SSP126/2081_2100/EC-Earth3-Veg-LR/B12.tif done\n",
      "SSP126/2081_2100/EC-Earth3-Veg-LR/B13.tif done\n",
      "SSP126/2081_2100/EC-Earth3-Veg-LR/B14.tif done\n",
      "SSP126/2081_2100/EC-Earth3-Veg-LR/B15.tif done\n",
      "SSP126/2081_2100/EC-Earth3-Veg-LR/B16.tif done\n",
      "SSP126/2081_2100/EC-Earth3-Veg-LR/B17.tif done\n",
      "SSP126/2081_2100/EC-Earth3-Veg-LR/B18.tif done\n",
      "SSP126/2081_2100/EC-Earth3-Veg-LR/B19.tif done\n",
      "SSP126/2081_2100/FIO-ESM-2-0\n",
      "SSP126/2081_2100/FIO-ESM-2-0/B1.tif done\n",
      "SSP126/2081_2100/FIO-ESM-2-0/B2.tif done\n",
      "SSP126/2081_2100/FIO-ESM-2-0/B3.tif done\n",
      "SSP126/2081_2100/FIO-ESM-2-0/B4.tif done\n",
      "SSP126/2081_2100/FIO-ESM-2-0/B5.tif done\n",
      "SSP126/2081_2100/FIO-ESM-2-0/B6.tif done\n",
      "SSP126/2081_2100/FIO-ESM-2-0/B7.tif done\n",
      "SSP126/2081_2100/FIO-ESM-2-0/B8.tif done\n",
      "SSP126/2081_2100/FIO-ESM-2-0/B9.tif done\n",
      "SSP126/2081_2100/FIO-ESM-2-0/B10.tif done\n",
      "SSP126/2081_2100/FIO-ESM-2-0/B11.tif done\n",
      "SSP126/2081_2100/FIO-ESM-2-0/B12.tif done\n",
      "SSP126/2081_2100/FIO-ESM-2-0/B13.tif done\n",
      "SSP126/2081_2100/FIO-ESM-2-0/B14.tif done\n",
      "SSP126/2081_2100/FIO-ESM-2-0/B15.tif done\n",
      "SSP126/2081_2100/FIO-ESM-2-0/B16.tif done\n",
      "SSP126/2081_2100/FIO-ESM-2-0/B17.tif done\n",
      "SSP126/2081_2100/FIO-ESM-2-0/B18.tif done\n",
      "SSP126/2081_2100/FIO-ESM-2-0/B19.tif done\n",
      "SSP126/2081_2100/GISS-E2-1-G\n",
      "SSP126/2081_2100/GISS-E2-1-G/B1.tif done\n",
      "SSP126/2081_2100/GISS-E2-1-G/B2.tif done\n",
      "SSP126/2081_2100/GISS-E2-1-G/B3.tif done\n",
      "SSP126/2081_2100/GISS-E2-1-G/B4.tif done\n",
      "SSP126/2081_2100/GISS-E2-1-G/B5.tif done\n",
      "SSP126/2081_2100/GISS-E2-1-G/B6.tif done\n",
      "SSP126/2081_2100/GISS-E2-1-G/B7.tif done\n",
      "SSP126/2081_2100/GISS-E2-1-G/B8.tif done\n",
      "SSP126/2081_2100/GISS-E2-1-G/B9.tif done\n",
      "SSP126/2081_2100/GISS-E2-1-G/B10.tif done\n",
      "SSP126/2081_2100/GISS-E2-1-G/B11.tif done\n",
      "SSP126/2081_2100/GISS-E2-1-G/B12.tif done\n",
      "SSP126/2081_2100/GISS-E2-1-G/B13.tif done\n",
      "SSP126/2081_2100/GISS-E2-1-G/B14.tif done\n",
      "SSP126/2081_2100/GISS-E2-1-G/B15.tif done\n",
      "SSP126/2081_2100/GISS-E2-1-G/B16.tif done\n",
      "SSP126/2081_2100/GISS-E2-1-G/B17.tif done\n",
      "SSP126/2081_2100/GISS-E2-1-G/B18.tif done\n",
      "SSP126/2081_2100/GISS-E2-1-G/B19.tif done\n",
      "SSP126/2081_2100/GISS-E2-1-H\n",
      "SSP126/2081_2100/GISS-E2-1-H/B1.tif done\n",
      "SSP126/2081_2100/GISS-E2-1-H/B2.tif done\n",
      "SSP126/2081_2100/GISS-E2-1-H/B3.tif done\n",
      "SSP126/2081_2100/GISS-E2-1-H/B4.tif done\n",
      "SSP126/2081_2100/GISS-E2-1-H/B5.tif done\n",
      "SSP126/2081_2100/GISS-E2-1-H/B6.tif done\n",
      "SSP126/2081_2100/GISS-E2-1-H/B7.tif done\n",
      "SSP126/2081_2100/GISS-E2-1-H/B8.tif done\n",
      "SSP126/2081_2100/GISS-E2-1-H/B9.tif done\n",
      "SSP126/2081_2100/GISS-E2-1-H/B10.tif done\n",
      "SSP126/2081_2100/GISS-E2-1-H/B11.tif done\n",
      "SSP126/2081_2100/GISS-E2-1-H/B12.tif done\n",
      "SSP126/2081_2100/GISS-E2-1-H/B13.tif done\n",
      "SSP126/2081_2100/GISS-E2-1-H/B14.tif done\n",
      "SSP126/2081_2100/GISS-E2-1-H/B15.tif done\n"
     ]
    },
    {
     "name": "stdout",
     "output_type": "stream",
     "text": [
      "SSP126/2081_2100/GISS-E2-1-H/B16.tif done\n",
      "SSP126/2081_2100/GISS-E2-1-H/B17.tif done\n",
      "SSP126/2081_2100/GISS-E2-1-H/B18.tif done\n",
      "SSP126/2081_2100/GISS-E2-1-H/B19.tif done\n",
      "SSP126/2081_2100/HadGEM3-GC31-LL\n",
      "SSP126/2081_2100/HadGEM3-GC31-LL/B1.tif done\n",
      "SSP126/2081_2100/HadGEM3-GC31-LL/B2.tif done\n",
      "SSP126/2081_2100/HadGEM3-GC31-LL/B3.tif done\n",
      "SSP126/2081_2100/HadGEM3-GC31-LL/B4.tif done\n",
      "SSP126/2081_2100/HadGEM3-GC31-LL/B5.tif done\n",
      "SSP126/2081_2100/HadGEM3-GC31-LL/B6.tif done\n",
      "SSP126/2081_2100/HadGEM3-GC31-LL/B7.tif done\n",
      "SSP126/2081_2100/HadGEM3-GC31-LL/B8.tif done\n",
      "SSP126/2081_2100/HadGEM3-GC31-LL/B9.tif done\n",
      "SSP126/2081_2100/HadGEM3-GC31-LL/B10.tif done\n",
      "SSP126/2081_2100/HadGEM3-GC31-LL/B11.tif done\n",
      "SSP126/2081_2100/HadGEM3-GC31-LL/B12.tif done\n",
      "SSP126/2081_2100/HadGEM3-GC31-LL/B13.tif done\n",
      "SSP126/2081_2100/HadGEM3-GC31-LL/B14.tif done\n",
      "SSP126/2081_2100/HadGEM3-GC31-LL/B15.tif done\n",
      "SSP126/2081_2100/HadGEM3-GC31-LL/B16.tif done\n",
      "SSP126/2081_2100/HadGEM3-GC31-LL/B17.tif done\n",
      "SSP126/2081_2100/HadGEM3-GC31-LL/B18.tif done\n",
      "SSP126/2081_2100/HadGEM3-GC31-LL/B19.tif done\n",
      "SSP126/2081_2100/INM-CM4-8\n",
      "SSP126/2081_2100/INM-CM4-8/B1.tif done\n",
      "SSP126/2081_2100/INM-CM4-8/B2.tif done\n",
      "SSP126/2081_2100/INM-CM4-8/B3.tif done\n",
      "SSP126/2081_2100/INM-CM4-8/B4.tif done\n",
      "SSP126/2081_2100/INM-CM4-8/B5.tif done\n",
      "SSP126/2081_2100/INM-CM4-8/B6.tif done\n",
      "SSP126/2081_2100/INM-CM4-8/B7.tif done\n",
      "SSP126/2081_2100/INM-CM4-8/B8.tif done\n",
      "SSP126/2081_2100/INM-CM4-8/B9.tif done\n",
      "SSP126/2081_2100/INM-CM4-8/B10.tif done\n",
      "SSP126/2081_2100/INM-CM4-8/B11.tif done\n",
      "SSP126/2081_2100/INM-CM4-8/B12.tif done\n",
      "SSP126/2081_2100/INM-CM4-8/B13.tif done\n",
      "SSP126/2081_2100/INM-CM4-8/B14.tif done\n",
      "SSP126/2081_2100/INM-CM4-8/B15.tif done\n",
      "SSP126/2081_2100/INM-CM4-8/B16.tif done\n",
      "SSP126/2081_2100/INM-CM4-8/B17.tif done\n",
      "SSP126/2081_2100/INM-CM4-8/B18.tif done\n",
      "SSP126/2081_2100/INM-CM4-8/B19.tif done\n",
      "SSP126/2081_2100/INM-CM5-0\n",
      "SSP126/2081_2100/INM-CM5-0/B1.tif done\n",
      "SSP126/2081_2100/INM-CM5-0/B2.tif done\n",
      "SSP126/2081_2100/INM-CM5-0/B3.tif done\n",
      "SSP126/2081_2100/INM-CM5-0/B4.tif done\n",
      "SSP126/2081_2100/INM-CM5-0/B5.tif done\n",
      "SSP126/2081_2100/INM-CM5-0/B6.tif done\n",
      "SSP126/2081_2100/INM-CM5-0/B7.tif done\n",
      "SSP126/2081_2100/INM-CM5-0/B8.tif done\n",
      "SSP126/2081_2100/INM-CM5-0/B9.tif done\n",
      "SSP126/2081_2100/INM-CM5-0/B10.tif done\n",
      "SSP126/2081_2100/INM-CM5-0/B11.tif done\n",
      "SSP126/2081_2100/INM-CM5-0/B12.tif done\n",
      "SSP126/2081_2100/INM-CM5-0/B13.tif done\n",
      "SSP126/2081_2100/INM-CM5-0/B14.tif done\n",
      "SSP126/2081_2100/INM-CM5-0/B15.tif done\n",
      "SSP126/2081_2100/INM-CM5-0/B16.tif done\n",
      "SSP126/2081_2100/INM-CM5-0/B17.tif done\n",
      "SSP126/2081_2100/INM-CM5-0/B18.tif done\n",
      "SSP126/2081_2100/INM-CM5-0/B19.tif done\n",
      "SSP126/2081_2100/IPSL-CM6A-LR\n",
      "SSP126/2081_2100/IPSL-CM6A-LR/B1.tif done\n",
      "SSP126/2081_2100/IPSL-CM6A-LR/B2.tif done\n",
      "SSP126/2081_2100/IPSL-CM6A-LR/B3.tif done\n",
      "SSP126/2081_2100/IPSL-CM6A-LR/B4.tif done\n",
      "SSP126/2081_2100/IPSL-CM6A-LR/B5.tif done\n",
      "SSP126/2081_2100/IPSL-CM6A-LR/B6.tif done\n",
      "SSP126/2081_2100/IPSL-CM6A-LR/B7.tif done\n",
      "SSP126/2081_2100/IPSL-CM6A-LR/B8.tif done\n",
      "SSP126/2081_2100/IPSL-CM6A-LR/B9.tif done\n",
      "SSP126/2081_2100/IPSL-CM6A-LR/B10.tif done\n",
      "SSP126/2081_2100/IPSL-CM6A-LR/B11.tif done\n",
      "SSP126/2081_2100/IPSL-CM6A-LR/B12.tif done\n",
      "SSP126/2081_2100/IPSL-CM6A-LR/B13.tif done\n",
      "SSP126/2081_2100/IPSL-CM6A-LR/B14.tif done\n",
      "SSP126/2081_2100/IPSL-CM6A-LR/B15.tif done\n",
      "SSP126/2081_2100/IPSL-CM6A-LR/B16.tif done\n",
      "SSP126/2081_2100/IPSL-CM6A-LR/B17.tif done\n",
      "SSP126/2081_2100/IPSL-CM6A-LR/B18.tif done\n",
      "SSP126/2081_2100/IPSL-CM6A-LR/B19.tif done\n",
      "SSP126/2081_2100/MIROC-ES2L\n",
      "SSP126/2081_2100/MIROC-ES2L/B1.tif done\n",
      "SSP126/2081_2100/MIROC-ES2L/B2.tif done\n",
      "SSP126/2081_2100/MIROC-ES2L/B3.tif done\n",
      "SSP126/2081_2100/MIROC-ES2L/B4.tif done\n",
      "SSP126/2081_2100/MIROC-ES2L/B5.tif done\n",
      "SSP126/2081_2100/MIROC-ES2L/B6.tif done\n",
      "SSP126/2081_2100/MIROC-ES2L/B7.tif done\n",
      "SSP126/2081_2100/MIROC-ES2L/B8.tif done\n",
      "SSP126/2081_2100/MIROC-ES2L/B9.tif done\n",
      "SSP126/2081_2100/MIROC-ES2L/B10.tif done\n",
      "SSP126/2081_2100/MIROC-ES2L/B11.tif done\n",
      "SSP126/2081_2100/MIROC-ES2L/B12.tif done\n",
      "SSP126/2081_2100/MIROC-ES2L/B13.tif done\n",
      "SSP126/2081_2100/MIROC-ES2L/B14.tif done\n",
      "SSP126/2081_2100/MIROC-ES2L/B15.tif done\n",
      "SSP126/2081_2100/MIROC-ES2L/B16.tif done\n",
      "SSP126/2081_2100/MIROC-ES2L/B17.tif done\n",
      "SSP126/2081_2100/MIROC-ES2L/B18.tif done\n",
      "SSP126/2081_2100/MIROC-ES2L/B19.tif done\n",
      "SSP126/2081_2100/MIROC6\n",
      "SSP126/2081_2100/MIROC6/B1.tif done\n",
      "SSP126/2081_2100/MIROC6/B2.tif done\n",
      "SSP126/2081_2100/MIROC6/B3.tif done\n",
      "SSP126/2081_2100/MIROC6/B4.tif done\n",
      "SSP126/2081_2100/MIROC6/B5.tif done\n",
      "SSP126/2081_2100/MIROC6/B6.tif done\n",
      "SSP126/2081_2100/MIROC6/B7.tif done\n",
      "SSP126/2081_2100/MIROC6/B8.tif done\n",
      "SSP126/2081_2100/MIROC6/B9.tif done\n",
      "SSP126/2081_2100/MIROC6/B10.tif done\n",
      "SSP126/2081_2100/MIROC6/B11.tif done\n",
      "SSP126/2081_2100/MIROC6/B12.tif done\n",
      "SSP126/2081_2100/MIROC6/B13.tif done\n",
      "SSP126/2081_2100/MIROC6/B14.tif done\n",
      "SSP126/2081_2100/MIROC6/B15.tif done\n",
      "SSP126/2081_2100/MIROC6/B16.tif done\n",
      "SSP126/2081_2100/MIROC6/B17.tif done\n",
      "SSP126/2081_2100/MIROC6/B18.tif done\n",
      "SSP126/2081_2100/MIROC6/B19.tif done\n",
      "SSP126/2081_2100/MPI-ESM1-2-HR\n",
      "SSP126/2081_2100/MPI-ESM1-2-HR/B1.tif done\n",
      "SSP126/2081_2100/MPI-ESM1-2-HR/B2.tif done\n",
      "SSP126/2081_2100/MPI-ESM1-2-HR/B3.tif done\n",
      "SSP126/2081_2100/MPI-ESM1-2-HR/B4.tif done\n",
      "SSP126/2081_2100/MPI-ESM1-2-HR/B5.tif done\n",
      "SSP126/2081_2100/MPI-ESM1-2-HR/B6.tif done\n",
      "SSP126/2081_2100/MPI-ESM1-2-HR/B7.tif done\n",
      "SSP126/2081_2100/MPI-ESM1-2-HR/B8.tif done\n",
      "SSP126/2081_2100/MPI-ESM1-2-HR/B9.tif done\n",
      "SSP126/2081_2100/MPI-ESM1-2-HR/B10.tif done\n",
      "SSP126/2081_2100/MPI-ESM1-2-HR/B11.tif done\n",
      "SSP126/2081_2100/MPI-ESM1-2-HR/B12.tif done\n",
      "SSP126/2081_2100/MPI-ESM1-2-HR/B13.tif done\n",
      "SSP126/2081_2100/MPI-ESM1-2-HR/B14.tif done\n",
      "SSP126/2081_2100/MPI-ESM1-2-HR/B15.tif done\n",
      "SSP126/2081_2100/MPI-ESM1-2-HR/B16.tif done\n",
      "SSP126/2081_2100/MPI-ESM1-2-HR/B17.tif done\n",
      "SSP126/2081_2100/MPI-ESM1-2-HR/B18.tif done\n",
      "SSP126/2081_2100/MPI-ESM1-2-HR/B19.tif done\n",
      "SSP126/2081_2100/MPI-ESM1-2-LR\n",
      "SSP126/2081_2100/MPI-ESM1-2-LR/B1.tif done\n",
      "SSP126/2081_2100/MPI-ESM1-2-LR/B2.tif done\n",
      "SSP126/2081_2100/MPI-ESM1-2-LR/B3.tif done\n",
      "SSP126/2081_2100/MPI-ESM1-2-LR/B4.tif done\n",
      "SSP126/2081_2100/MPI-ESM1-2-LR/B5.tif done\n",
      "SSP126/2081_2100/MPI-ESM1-2-LR/B6.tif done\n",
      "SSP126/2081_2100/MPI-ESM1-2-LR/B7.tif done\n",
      "SSP126/2081_2100/MPI-ESM1-2-LR/B8.tif done\n",
      "SSP126/2081_2100/MPI-ESM1-2-LR/B9.tif done\n",
      "SSP126/2081_2100/MPI-ESM1-2-LR/B10.tif done\n",
      "SSP126/2081_2100/MPI-ESM1-2-LR/B11.tif done\n",
      "SSP126/2081_2100/MPI-ESM1-2-LR/B12.tif done\n",
      "SSP126/2081_2100/MPI-ESM1-2-LR/B13.tif done\n",
      "SSP126/2081_2100/MPI-ESM1-2-LR/B14.tif done\n",
      "SSP126/2081_2100/MPI-ESM1-2-LR/B15.tif done\n",
      "SSP126/2081_2100/MPI-ESM1-2-LR/B16.tif done\n",
      "SSP126/2081_2100/MPI-ESM1-2-LR/B17.tif done\n",
      "SSP126/2081_2100/MPI-ESM1-2-LR/B18.tif done\n",
      "SSP126/2081_2100/MPI-ESM1-2-LR/B19.tif done\n",
      "SSP126/2081_2100/MRI-ESM2-0\n",
      "SSP126/2081_2100/MRI-ESM2-0/B1.tif done\n",
      "SSP126/2081_2100/MRI-ESM2-0/B2.tif done\n",
      "SSP126/2081_2100/MRI-ESM2-0/B3.tif done\n",
      "SSP126/2081_2100/MRI-ESM2-0/B4.tif done\n",
      "SSP126/2081_2100/MRI-ESM2-0/B5.tif done\n",
      "SSP126/2081_2100/MRI-ESM2-0/B6.tif done\n",
      "SSP126/2081_2100/MRI-ESM2-0/B7.tif done\n",
      "SSP126/2081_2100/MRI-ESM2-0/B8.tif done\n",
      "SSP126/2081_2100/MRI-ESM2-0/B9.tif done\n",
      "SSP126/2081_2100/MRI-ESM2-0/B10.tif done\n",
      "SSP126/2081_2100/MRI-ESM2-0/B11.tif done\n",
      "SSP126/2081_2100/MRI-ESM2-0/B12.tif done\n",
      "SSP126/2081_2100/MRI-ESM2-0/B13.tif done\n",
      "SSP126/2081_2100/MRI-ESM2-0/B14.tif done\n",
      "SSP126/2081_2100/MRI-ESM2-0/B15.tif done\n",
      "SSP126/2081_2100/MRI-ESM2-0/B16.tif done\n",
      "SSP126/2081_2100/MRI-ESM2-0/B17.tif done\n",
      "SSP126/2081_2100/MRI-ESM2-0/B18.tif done\n",
      "SSP126/2081_2100/MRI-ESM2-0/B19.tif done\n"
     ]
    }
   ],
   "source": [
    "listdir = ['2021_2040', '2041_2060', '2061_2080', '2081_2100']\n",
    "\n",
    "models = ['CanESMS_CanOE',\n",
    "             'CMCC_ESM2',\n",
    "             'CNRM_CM6_1_HR',\n",
    "             'CNRM_CM6_1',\n",
    "             'CNRM_ESM2_1',\n",
    "             'EC_Earth3_Veg_LR',\n",
    "             'EC_Earth3_Veg',\n",
    "             'FIO_ESM_2_0',\n",
    "             'GISS_E2_1_G',\n",
    "             'GISS_E2_1_H',\n",
    "             'HadGEM3_GC31_LL',\n",
    "             'INM_CM4_8',\n",
    "             'MIROC6',\n",
    "             'IPSL_CM6A_LR',\n",
    "             'INM_CM5_0',\n",
    "             'MIROC_ES2L',\n",
    "             'MPI_ESM1_2_HR',\n",
    "             'MPI_ESM1_2_LR',\n",
    "             'MRI_ESM2_0',\n",
    "             'ACCESS-CM2',\n",
    "             'ACCESS-ESM1',\n",
    "             'BCC-CSM2-MR',\n",
    "             'CanESM5',\n",
    "             'UKESM1_0_LL']\n",
    "\n",
    "### Walk through each Scenario\n",
    "for i in os.listdir():\n",
    "    for s in ['SSP126']:\n",
    "        if i == s:\n",
    "            Sdir = os.path.join(s)\n",
    "            print('Scenario:',Sdir)    \n",
    "### Walk through each Period\n",
    "            for year in os.listdir(Sdir):\n",
    "                print('Year:',year)\n",
    "                Ydir = os.path.join(s,year)\n",
    "                \n",
    "                for i in os.listdir(Ydir):\n",
    "                    if i.endswith('.tif'):\n",
    "### Define the file and model\n",
    "                        fileN = os.path.join(Ydir,i)\n",
    "                        model = i.split('_')[3]                       \n",
    "### Create directory for Model\n",
    "                        modDir = os.path.join(Ydir,model)\n",
    "                        if not os.path.exists(modDir):\n",
    "                            print(modDir)\n",
    "                            os.mkdir(modDir)                    \n",
    "### Read the 19 Band Tif for the model\n",
    "                        src = rio.open(fileN)\n",
    "    \n",
    "                        for band in range(1, src.count + 1):\n",
    "                            single_band = src.read(band)\n",
    "                        \n",
    "                            # get the output name\n",
    "                            out_name = os.path.basename(fileN)\n",
    "                            file, ext = os.path.splitext(out_name)\n",
    "                            name = \"B\" + str(band) + \".tif\"\n",
    "                        \n",
    "                            out_img = os.path.join(modDir, name)\n",
    "                            print(out_img + \" done\")\n",
    "                            \n",
    "                            # Copy the metadata\n",
    "                            out_meta = src.meta.copy()\n",
    "                            out_meta.update({\"count\": 1})\n",
    "        \n",
    "## Save each band to file \n",
    "                            with rio.open(out_img, \"w\", **out_meta) as dest:\n",
    "                                dest.write(single_band, 1)            "
   ]
  },
  {
   "cell_type": "markdown",
   "id": "18c61327",
   "metadata": {},
   "source": [
    "# Convert single band tif to ASCII"
   ]
  },
  {
   "cell_type": "markdown",
   "id": "79279e49",
   "metadata": {},
   "source": [
    "### Objective\n",
    "\n",
    "For each mode, for each Period:\n",
    "1. Create a directory for ASCII files\n",
    "2. Convert to ASCII\n",
    "3. Rename "
   ]
  },
  {
   "cell_type": "code",
   "execution_count": 72,
   "id": "a6a5feb6",
   "metadata": {},
   "outputs": [
    {
     "name": "stdout",
     "output_type": "stream",
     "text": [
      "Scenario: SSP126\n",
      "Doing: B1.tif\n",
      "Input file size is 829, 1222\n",
      "0...10...20...30...40...50..."
     ]
    },
    {
     "name": "stderr",
     "output_type": "stream",
     "text": [
      "Warning 1: for band 1, nodata value has been rounded to -2147483648, Int32 being an integer datatype.\n"
     ]
    },
    {
     "name": "stdout",
     "output_type": "stream",
     "text": [
      "60...70...80...90...100 - done.\n",
      "Done: 0\n",
      "Doing: B2.tif\n",
      "Input file size is 829, 1222\n",
      "0...10"
     ]
    },
    {
     "name": "stderr",
     "output_type": "stream",
     "text": [
      "Warning 1: for band 1, nodata value has been rounded to -2147483648, Int32 being an integer datatype.\n"
     ]
    },
    {
     "name": "stdout",
     "output_type": "stream",
     "text": [
      "...20...30...40...50...60...70...80...90...100 - done.\n",
      "Done: 0\n",
      "Doing: B3.tif\n"
     ]
    },
    {
     "name": "stderr",
     "output_type": "stream",
     "text": [
      "Warning 1: for band 1, nodata value has been rounded to -2147483648, Int32 being an integer datatype.\n",
      "Warning 1: for band 1, nodata value has been rounded to -2147483648, Int32 being an integer datatype.\n"
     ]
    },
    {
     "name": "stdout",
     "output_type": "stream",
     "text": [
      "Input file size is 829, 1222\n",
      "0...10...20...30...40...50...60...70...80...90...100 - done.\n",
      "Done: 0\n",
      "Doing: B4.tif\n",
      "Input file size is 829, 1222\n",
      "0...10...20...30...40...50...60...70...80...90...100 - done.\n",
      "Done: 0\n",
      "Doing: B5.tif\n",
      "Input file size is 829, 1222\n",
      "0...10...20..."
     ]
    },
    {
     "name": "stderr",
     "output_type": "stream",
     "text": [
      "Warning 1: for band 1, nodata value has been rounded to -2147483648, Int32 being an integer datatype.\n",
      "Warning 1: for band 1, nodata value has been rounded to -2147483648, Int32 being an integer datatype.\n"
     ]
    },
    {
     "name": "stdout",
     "output_type": "stream",
     "text": [
      "30...40...50...60...70...80...90...100 - done.\n",
      "Done: 0\n",
      "Doing: B6.tif\n",
      "Input file size is 829, 1222\n",
      "0...10...20...30...40...50...60...70...80...90...100 - done.\n",
      "Done: 0\n",
      "Doing: B7.tif\n",
      "Input file size is 829, 1222\n",
      "0.."
     ]
    },
    {
     "name": "stderr",
     "output_type": "stream",
     "text": [
      "Warning 1: for band 1, nodata value has been rounded to -2147483648, Int32 being an integer datatype.\n"
     ]
    },
    {
     "name": "stdout",
     "output_type": "stream",
     "text": [
      ".10...20...30...40...50...60...70...80...90...100 - done.\n",
      "Done: 0\n",
      "Doing: B8.tif\n",
      "Input file size is 829, 1222\n",
      "0"
     ]
    },
    {
     "name": "stderr",
     "output_type": "stream",
     "text": [
      "Warning 1: for band 1, nodata value has been rounded to -2147483648, Int32 being an integer datatype.\n"
     ]
    },
    {
     "name": "stdout",
     "output_type": "stream",
     "text": [
      "...10...20...30...40...50...60...70...80...90...100 - done.\n",
      "Done: 0\n",
      "Doing: B9.tif\n"
     ]
    },
    {
     "name": "stderr",
     "output_type": "stream",
     "text": [
      "Warning 1: for band 1, nodata value has been rounded to -2147483648, Int32 being an integer datatype.\n",
      "Warning 1: for band 1, nodata value has been rounded to -2147483648, Int32 being an integer datatype.\n"
     ]
    },
    {
     "name": "stdout",
     "output_type": "stream",
     "text": [
      "Input file size is 829, 1222\n",
      "0...10...20...30...40...50...60...70...80...90...100 - done.\n",
      "Done: 0\n",
      "Doing: B10.tif\n",
      "Input file size is 829, 1222\n",
      "0...10...20...30...40...50...60...70...80...90...100 - done.\n",
      "Done: 0\n",
      "Doing: B11.tif\n",
      "Input file size is 829, 1222\n",
      "0...10...20..."
     ]
    },
    {
     "name": "stderr",
     "output_type": "stream",
     "text": [
      "Warning 1: for band 1, nodata value has been rounded to -2147483648, Int32 being an integer datatype.\n"
     ]
    },
    {
     "name": "stdout",
     "output_type": "stream",
     "text": [
      "30...40...50...60...70...80...90...100 - done.\n",
      "Done: 0\n",
      "Doing: B12.tif\n"
     ]
    },
    {
     "name": "stderr",
     "output_type": "stream",
     "text": [
      "Warning 1: for band 1, nodata value has been rounded to -2147483648, Int32 being an integer datatype.\n"
     ]
    },
    {
     "name": "stdout",
     "output_type": "stream",
     "text": [
      "Input file size is 829, 1222\n",
      "0...10...20...30...40...50...60...70...80...90...100 - done.\n",
      "Done: 0\n",
      "Doing: B13.tif\n",
      "Input file size is 829, 1222\n",
      "0...10...20...30...40...50...60...70...80...90.."
     ]
    },
    {
     "name": "stderr",
     "output_type": "stream",
     "text": [
      "Warning 1: for band 1, nodata value has been rounded to -2147483648, Int32 being an integer datatype.\n",
      "Warning 1: for band 1, nodata value has been rounded to -2147483648, Int32 being an integer datatype.\n"
     ]
    },
    {
     "name": "stdout",
     "output_type": "stream",
     "text": [
      ".100 - done.\n",
      "Done: 0\n",
      "Doing: B14.tif\n",
      "Input file size is 829, 1222\n",
      "0...10...20...30...40...50...60...70...80...90...100 - done.\n",
      "Done: 0\n",
      "Doing: B15.tif\n",
      "Input file size is 829, 1222\n",
      "0...10...20...30...40...50...60...70...80...90...100 - done.\n",
      "Done: 0\n",
      "Doing: B16.tif\n"
     ]
    },
    {
     "name": "stderr",
     "output_type": "stream",
     "text": [
      "Warning 1: for band 1, nodata value has been rounded to -2147483648, Int32 being an integer datatype.\n",
      "Warning 1: for band 1, nodata value has been rounded to -2147483648, Int32 being an integer datatype.\n"
     ]
    },
    {
     "name": "stdout",
     "output_type": "stream",
     "text": [
      "Input file size is 829, 1222\n",
      "0...10...20...30...40...50...60...70...80...90...100 - done.\n",
      "Done: 0\n",
      "Doing: B17.tif\n",
      "Input file size is 829, 1222\n",
      "0...10...20"
     ]
    },
    {
     "name": "stderr",
     "output_type": "stream",
     "text": [
      "Warning 1: for band 1, nodata value has been rounded to -2147483648, Int32 being an integer datatype.\n",
      "Warning 1: for band 1, nodata value has been rounded to -2147483648, Int32 being an integer datatype.\n"
     ]
    },
    {
     "name": "stdout",
     "output_type": "stream",
     "text": [
      "...30...40...50...60...70...80...90...100 - done.\n",
      "Done: 0\n",
      "Doing: B18.tif\n",
      "Input file size is 829, 1222\n",
      "0...10...20...30...40...50...60...70...80...90...100 - done.\n",
      "Done: 0\n",
      "Doing: B19.tif\n",
      "Input file size is 829, 1222\n",
      "0...10...20..."
     ]
    },
    {
     "name": "stderr",
     "output_type": "stream",
     "text": [
      "Warning 1: for band 1, nodata value has been rounded to -2147483648, Int32 being an integer datatype.\n"
     ]
    },
    {
     "name": "stdout",
     "output_type": "stream",
     "text": [
      "30...40...50...60...70...80...90...100 - done.\n",
      "Done: 0\n",
      "Doing: ASCII\n"
     ]
    },
    {
     "name": "stderr",
     "output_type": "stream",
     "text": [
      "ERROR 4: `SSP126/2021_2040/GFDL-ESM4/ASCII' not recognized as a supported file format.\n",
      "Warning 1: for band 1, nodata value has been rounded to -2147483648, Int32 being an integer datatype.\n"
     ]
    },
    {
     "name": "stdout",
     "output_type": "stream",
     "text": [
      "Done: 1\n",
      "Doing: B1.tif\n",
      "Input file size is 829, 1222\n",
      "0...10...20...30...40...50...60...70...80...90...100 - done.\n",
      "Done: 0\n",
      "Doing: B2.tif\n",
      "Input file size is 829, 1222\n",
      "0...10...20...30...40..."
     ]
    },
    {
     "name": "stderr",
     "output_type": "stream",
     "text": [
      "Warning 1: for band 1, nodata value has been rounded to -2147483648, Int32 being an integer datatype.\n"
     ]
    },
    {
     "name": "stdout",
     "output_type": "stream",
     "text": [
      "50...60...70...80...90...100 - done.\n",
      "Done: 0\n",
      "Doing: B3.tif\n",
      "Input file size is 829, 1222\n",
      "0."
     ]
    },
    {
     "name": "stderr",
     "output_type": "stream",
     "text": [
      "Warning 1: for band 1, nodata value has been rounded to -2147483648, Int32 being an integer datatype.\n"
     ]
    },
    {
     "name": "stdout",
     "output_type": "stream",
     "text": [
      "..10...20...30...40...50...60...70...80...90...100 - done.\n",
      "Done: 0\n",
      "Doing: B4.tif\n",
      "Input file size is 829, 1222\n",
      "0...10...20...30...40...50...60...70..."
     ]
    },
    {
     "name": "stderr",
     "output_type": "stream",
     "text": [
      "Warning 1: for band 1, nodata value has been rounded to -2147483648, Int32 being an integer datatype.\n"
     ]
    },
    {
     "name": "stdout",
     "output_type": "stream",
     "text": [
      "80...90...100 - done.\n",
      "Done: 0\n",
      "Doing: B5.tif\n",
      "Input file size is 829, 1222\n",
      "0...10...20..."
     ]
    },
    {
     "name": "stderr",
     "output_type": "stream",
     "text": [
      "Warning 1: for band 1, nodata value has been rounded to -2147483648, Int32 being an integer datatype.\n"
     ]
    },
    {
     "name": "stdout",
     "output_type": "stream",
     "text": [
      "30...40...50...60...70...80...90...100 - done.\n",
      "Done: 0\n",
      "Doing: B6.tif\n"
     ]
    },
    {
     "name": "stderr",
     "output_type": "stream",
     "text": [
      "Warning 1: for band 1, nodata value has been rounded to -2147483648, Int32 being an integer datatype.\n"
     ]
    },
    {
     "name": "stdout",
     "output_type": "stream",
     "text": [
      "Input file size is 829, 1222\n",
      "0...10...20...30...40...50...60...70...80...90...100 - done.\n",
      "Done: 0\n",
      "Doing: B7.tif\n",
      "Input file size is 829, 1222\n",
      "0...10...20...30...40...50...60...70...80...90..."
     ]
    },
    {
     "name": "stderr",
     "output_type": "stream",
     "text": [
      "Warning 1: for band 1, nodata value has been rounded to -2147483648, Int32 being an integer datatype.\n"
     ]
    },
    {
     "name": "stdout",
     "output_type": "stream",
     "text": [
      "100 - done.\n",
      "Done: 0\n",
      "Doing: B8.tif\n",
      "Input file size is 829, 1222\n",
      "0...10...20...30...40...50...60...70...80...90...100 - done.\n",
      "Done: 0\n",
      "Doing: B9.tif\n"
     ]
    },
    {
     "name": "stderr",
     "output_type": "stream",
     "text": [
      "Warning 1: for band 1, nodata value has been rounded to -2147483648, Int32 being an integer datatype.\n",
      "Warning 1: for band 1, nodata value has been rounded to -2147483648, Int32 being an integer datatype.\n"
     ]
    },
    {
     "name": "stdout",
     "output_type": "stream",
     "text": [
      "Input file size is 829, 1222\n",
      "0...10...20...30...40...50...60...70...80...90...100 - done.\n",
      "Done: 0\n",
      "Doing: B10.tif\n",
      "Input file size is 829, 1222\n",
      "0...10...20"
     ]
    },
    {
     "name": "stderr",
     "output_type": "stream",
     "text": [
      "Warning 1: for band 1, nodata value has been rounded to -2147483648, Int32 being an integer datatype.\n",
      "Warning 1: for band 1, nodata value has been rounded to -2147483648, Int32 being an integer datatype.\n"
     ]
    },
    {
     "name": "stdout",
     "output_type": "stream",
     "text": [
      "...30...40...50...60...70...80...90...100 - done.\n",
      "Done: 0\n",
      "Doing: B11.tif\n",
      "Input file size is 829, 1222\n",
      "0...10...20...30...40...50...60...70...80...90...100 - done.\n",
      "Done: 0\n",
      "Doing: B12.tif\n"
     ]
    },
    {
     "name": "stderr",
     "output_type": "stream",
     "text": [
      "Warning 1: for band 1, nodata value has been rounded to -2147483648, Int32 being an integer datatype.\n",
      "Warning 1: for band 1, nodata value has been rounded to -2147483648, Int32 being an integer datatype.\n"
     ]
    },
    {
     "name": "stdout",
     "output_type": "stream",
     "text": [
      "Input file size is 829, 1222\n",
      "0...10...20...30...40...50...60...70...80...90...100 - done.\n",
      "Done: 0\n",
      "Doing: B13.tif\n",
      "Input file size is 829, 1222\n",
      "0...10...20...30...40...50...60...70...80...90...100 - done.\n",
      "Done: 0\n",
      "Doing: B14.tif\n",
      "Input file size is 829, 1222\n",
      "0...10...20...30...40.."
     ]
    },
    {
     "name": "stderr",
     "output_type": "stream",
     "text": [
      "Warning 1: for band 1, nodata value has been rounded to -2147483648, Int32 being an integer datatype.\n",
      "Warning 1: for band 1, nodata value has been rounded to -2147483648, Int32 being an integer datatype.\n"
     ]
    },
    {
     "name": "stdout",
     "output_type": "stream",
     "text": [
      ".50...60...70...80...90...100 - done.\n",
      "Done: 0\n",
      "Doing: B15.tif\n",
      "Input file size is 829, 1222\n",
      "0...10...20...30...40...50...60...70...80...90...100 - done.\n",
      "Done: 0\n",
      "Doing: B16.tif\n",
      "Input file size is 829, 1222\n",
      "0...10...20...30...40...50...60...70...80...90."
     ]
    },
    {
     "name": "stderr",
     "output_type": "stream",
     "text": [
      "Warning 1: for band 1, nodata value has been rounded to -2147483648, Int32 being an integer datatype.\n",
      "Warning 1: for band 1, nodata value has been rounded to -2147483648, Int32 being an integer datatype.\n"
     ]
    },
    {
     "name": "stdout",
     "output_type": "stream",
     "text": [
      "..100 - done.\n",
      "Done: 0\n",
      "Doing: B17.tif\n",
      "Input file size is 829, 1222\n",
      "0...10...20...30...40...50...60...70...80...90...100 - done.\n",
      "Done: 0\n",
      "Doing: B18.tif\n",
      "Input file size is 829, 1222\n",
      "0...10...20...30...40...50...60...70...80...90...100 - done.\n",
      "Done: 0\n",
      "Doing: B19.tif\n"
     ]
    },
    {
     "name": "stderr",
     "output_type": "stream",
     "text": [
      "Warning 1: for band 1, nodata value has been rounded to -2147483648, Int32 being an integer datatype.\n",
      "Warning 1: for band 1, nodata value has been rounded to -2147483648, Int32 being an integer datatype.\n"
     ]
    },
    {
     "name": "stdout",
     "output_type": "stream",
     "text": [
      "Input file size is 829, 1222\n",
      "0...10...20...30...40...50...60...70...80...90...100 - done.\n",
      "Done: 0\n",
      "Doing: ASCII\n"
     ]
    },
    {
     "name": "stderr",
     "output_type": "stream",
     "text": [
      "ERROR 4: `SSP126/2021_2040/UKESM1-0-LL/ASCII' not recognized as a supported file format.\n",
      "Warning 1: for band 1, nodata value has been rounded to -2147483648, Int32 being an integer datatype.\n"
     ]
    },
    {
     "name": "stdout",
     "output_type": "stream",
     "text": [
      "Done: 1\n",
      "Doing: B1.tif\n",
      "Input file size is 829, 1222\n",
      "0...10...20...30...40...50...60...70...80...90...100 - done.\n",
      "Done: 0\n",
      "Doing: B2.tif\n"
     ]
    },
    {
     "name": "stderr",
     "output_type": "stream",
     "text": [
      "Warning 1: for band 1, nodata value has been rounded to -2147483648, Int32 being an integer datatype.\n",
      "Warning 1: for band 1, nodata value has been rounded to -2147483648, Int32 being an integer datatype.\n"
     ]
    },
    {
     "name": "stdout",
     "output_type": "stream",
     "text": [
      "Input file size is 829, 1222\n",
      "0...10...20...30...40...50...60...70...80...90...100 - done.\n",
      "Done: 0\n",
      "Doing: B3.tif\n",
      "Input file size is 829, 1222\n",
      "0...10...20...30...40...50...60...70...80...90...100 - done.\n",
      "Done: 0\n",
      "Doing: B4.tif\n",
      "Input file size is 829, 1222\n",
      "0...10...20...30...40"
     ]
    },
    {
     "name": "stderr",
     "output_type": "stream",
     "text": [
      "Warning 1: for band 1, nodata value has been rounded to -2147483648, Int32 being an integer datatype.\n",
      "Warning 1: for band 1, nodata value has been rounded to -2147483648, Int32 being an integer datatype.\n"
     ]
    },
    {
     "name": "stdout",
     "output_type": "stream",
     "text": [
      "...50...60...70...80...90...100 - done.\n",
      "Done: 0\n",
      "Doing: B5.tif\n",
      "Input file size is 829, 1222\n",
      "0...10...20...30...40...50...60...70...80...90...100 - done.\n",
      "Done: 0\n",
      "Doing: B6.tif\n",
      "Input file size is 829, 1222\n",
      "0...10...20...30...40...50...60...70...80.."
     ]
    },
    {
     "name": "stderr",
     "output_type": "stream",
     "text": [
      "Warning 1: for band 1, nodata value has been rounded to -2147483648, Int32 being an integer datatype.\n",
      "Warning 1: for band 1, nodata value has been rounded to -2147483648, Int32 being an integer datatype.\n"
     ]
    },
    {
     "name": "stdout",
     "output_type": "stream",
     "text": [
      ".90...100 - done.\n",
      "Done: 0\n",
      "Doing: B7.tif\n",
      "Input file size is 829, 1222\n",
      "0...10...20...30...40...50...60...70...80...90...100 - done.\n",
      "Done: 0\n",
      "Doing: B8.tif\n",
      "Input file size is 829, 1222\n",
      "0...10...20...30...40...50...60...70...80...90...100 - done.\n",
      "Done: 0\n",
      "Doing: B9.tif\n"
     ]
    },
    {
     "name": "stderr",
     "output_type": "stream",
     "text": [
      "Warning 1: for band 1, nodata value has been rounded to -2147483648, Int32 being an integer datatype.\n",
      "Warning 1: for band 1, nodata value has been rounded to -2147483648, Int32 being an integer datatype.\n"
     ]
    },
    {
     "name": "stdout",
     "output_type": "stream",
     "text": [
      "Input file size is 829, 1222\n",
      "0...10...20...30...40...50...60...70...80...90...100 - done.\n",
      "Done: 0\n",
      "Doing: B10.tif\n",
      "Input file size is 829, 1222\n",
      "0...10..."
     ]
    },
    {
     "name": "stderr",
     "output_type": "stream",
     "text": [
      "Warning 1: for band 1, nodata value has been rounded to -2147483648, Int32 being an integer datatype.\n",
      "Warning 1: for band 1, nodata value has been rounded to -2147483648, Int32 being an integer datatype.\n"
     ]
    },
    {
     "name": "stdout",
     "output_type": "stream",
     "text": [
      "20...30...40...50...60...70...80...90...100 - done.\n",
      "Done: 0\n",
      "Doing: B11.tif\n",
      "Input file size is 829, 1222\n",
      "0...10...20...30...40...50...60...70...80...90...100 - done.\n",
      "Done: 0\n",
      "Doing: B12.tif\n",
      "Input file size is 829, 1222\n",
      "0...10...20...30...40...50...60."
     ]
    },
    {
     "name": "stderr",
     "output_type": "stream",
     "text": [
      "Warning 1: for band 1, nodata value has been rounded to -2147483648, Int32 being an integer datatype.\n",
      "Warning 1: for band 1, nodata value has been rounded to -2147483648, Int32 being an integer datatype.\n"
     ]
    },
    {
     "name": "stdout",
     "output_type": "stream",
     "text": [
      "..70...80...90...100 - done.\n",
      "Done: 0\n",
      "Doing: B13.tif\n",
      "Input file size is 829, 1222\n",
      "0...10...20...30...40...50...60...70...80...90...100 - done.\n",
      "Done: 0\n",
      "Doing: B14.tif\n",
      "Input file size is 829, 1222\n",
      "0...10...20...30...40...50...60...70...80...90..."
     ]
    },
    {
     "name": "stderr",
     "output_type": "stream",
     "text": [
      "Warning 1: for band 1, nodata value has been rounded to -2147483648, Int32 being an integer datatype.\n",
      "Warning 1: for band 1, nodata value has been rounded to -2147483648, Int32 being an integer datatype.\n"
     ]
    },
    {
     "name": "stdout",
     "output_type": "stream",
     "text": [
      "100 - done.\n",
      "Done: 0\n",
      "Doing: B15.tif\n",
      "Input file size is 829, 1222\n",
      "0...10...20...30...40...50...60...70...80...90...100 - done.\n",
      "Done: 0\n",
      "Doing: B16.tif\n",
      "Input file size is 829, 1222\n",
      "0...10...20...30...40...50...60...70...80...90..."
     ]
    },
    {
     "name": "stderr",
     "output_type": "stream",
     "text": [
      "Warning 1: for band 1, nodata value has been rounded to -2147483648, Int32 being an integer datatype.\n",
      "Warning 1: for band 1, nodata value has been rounded to -2147483648, Int32 being an integer datatype.\n"
     ]
    },
    {
     "name": "stdout",
     "output_type": "stream",
     "text": [
      "100 - done.\n",
      "Done: 0\n",
      "Doing: B17.tif\n",
      "Input file size is 829, 1222\n",
      "0...10...20...30...40...50...60...70...80...90...100 - done.\n",
      "Done: 0\n",
      "Doing: B18.tif\n"
     ]
    },
    {
     "name": "stderr",
     "output_type": "stream",
     "text": [
      "Warning 1: for band 1, nodata value has been rounded to -2147483648, Int32 being an integer datatype.\n",
      "Warning 1: for band 1, nodata value has been rounded to -2147483648, Int32 being an integer datatype.\n"
     ]
    },
    {
     "name": "stdout",
     "output_type": "stream",
     "text": [
      "Input file size is 829, 1222\n",
      "0...10...20...30...40...50...60...70...80...90...100 - done.\n",
      "Done: 0\n",
      "Doing: B19.tif\n",
      "Input file size is 829, 1222\n",
      "0...10...20...30...40...50...60...70...80...90...100 - done.\n",
      "Done: 0\n",
      "Doing: ASCII\n",
      "Done: 1\n",
      "Doing: B1.tif\n"
     ]
    },
    {
     "name": "stderr",
     "output_type": "stream",
     "text": [
      "ERROR 4: `SSP126/2021_2040/ACCESS-CM2/ASCII' not recognized as a supported file format.\n",
      "Warning 1: for band 1, nodata value has been rounded to -2147483648, Int32 being an integer datatype.\n"
     ]
    },
    {
     "name": "stdout",
     "output_type": "stream",
     "text": [
      "Input file size is 829, 1222\n",
      "0...10...20...30...40...50...60...70...80...90...100 - done.\n",
      "Done: 0\n",
      "Doing: B2.tif\n",
      "Input file size is 829, 1222\n",
      "0...10...20"
     ]
    },
    {
     "name": "stderr",
     "output_type": "stream",
     "text": [
      "Warning 1: for band 1, nodata value has been rounded to -2147483648, Int32 being an integer datatype.\n",
      "Warning 1: for band 1, nodata value has been rounded to -2147483648, Int32 being an integer datatype.\n"
     ]
    },
    {
     "name": "stdout",
     "output_type": "stream",
     "text": [
      "...30...40...50...60...70...80...90...100 - done.\n",
      "Done: 0\n",
      "Doing: B3.tif\n",
      "Input file size is 829, 1222\n",
      "0...10...20...30...40...50...60...70...80...90...100 - done.\n",
      "Done: 0\n",
      "Doing: B4.tif\n",
      "Input file size is 829, 1222\n",
      "0...10...20...30.."
     ]
    },
    {
     "name": "stderr",
     "output_type": "stream",
     "text": [
      "Warning 1: for band 1, nodata value has been rounded to -2147483648, Int32 being an integer datatype.\n",
      "Warning 1: for band 1, nodata value has been rounded to -2147483648, Int32 being an integer datatype.\n"
     ]
    },
    {
     "name": "stdout",
     "output_type": "stream",
     "text": [
      ".40...50...60...70...80...90...100 - done.\n",
      "Done: 0\n",
      "Doing: B5.tif\n",
      "Input file size is 829, 1222\n",
      "0...10...20...30...40...50...60...70...80...90...100 - done.\n",
      "Done: 0\n",
      "Doing: B6.tif\n",
      "Input file size is 829, 1222\n",
      "0...10...20...30...40...50...60...70...80."
     ]
    },
    {
     "name": "stderr",
     "output_type": "stream",
     "text": [
      "Warning 1: for band 1, nodata value has been rounded to -2147483648, Int32 being an integer datatype.\n",
      "Warning 1: for band 1, nodata value has been rounded to -2147483648, Int32 being an integer datatype.\n"
     ]
    },
    {
     "name": "stdout",
     "output_type": "stream",
     "text": [
      "..90...100 - done.\n",
      "Done: 0\n",
      "Doing: B7.tif\n",
      "Input file size is 829, 1222\n",
      "0...10...20...30...40...50...60...70...80...90...100 - done.\n",
      "Done: 0\n",
      "Doing: B8.tif\n",
      "Input file size is 829, 1222\n",
      "0...10...20...30...40...50...60...70...80...90..."
     ]
    },
    {
     "name": "stderr",
     "output_type": "stream",
     "text": [
      "Warning 1: for band 1, nodata value has been rounded to -2147483648, Int32 being an integer datatype.\n",
      "Warning 1: for band 1, nodata value has been rounded to -2147483648, Int32 being an integer datatype.\n"
     ]
    },
    {
     "name": "stdout",
     "output_type": "stream",
     "text": [
      "100 - done.\n",
      "Done: 0\n",
      "Doing: B9.tif\n",
      "Input file size is 829, 1222\n",
      "0...10...20...30...40...50...60...70...80...90...100 - done.\n",
      "Done: 0\n",
      "Doing: B10.tif\n"
     ]
    },
    {
     "name": "stderr",
     "output_type": "stream",
     "text": [
      "Warning 1: for band 1, nodata value has been rounded to -2147483648, Int32 being an integer datatype.\n",
      "Warning 1: for band 1, nodata value has been rounded to -2147483648, Int32 being an integer datatype.\n"
     ]
    },
    {
     "name": "stdout",
     "output_type": "stream",
     "text": [
      "Input file size is 829, 1222\n",
      "0...10...20...30...40...50...60...70...80...90...100 - done.\n",
      "Done: 0\n",
      "Doing: B11.tif\n",
      "Input file size is 829, 1222\n",
      "0...10...20...30...40...50...60...70...80...90...100 - done.\n",
      "Done: 0\n",
      "Doing: B12.tif\n",
      "Input file size is 829, 1222\n",
      "0...10...20...30...40.."
     ]
    },
    {
     "name": "stderr",
     "output_type": "stream",
     "text": [
      "Warning 1: for band 1, nodata value has been rounded to -2147483648, Int32 being an integer datatype.\n",
      "Warning 1: for band 1, nodata value has been rounded to -2147483648, Int32 being an integer datatype.\n"
     ]
    },
    {
     "name": "stdout",
     "output_type": "stream",
     "text": [
      ".50...60...70...80...90...100 - done.\n",
      "Done: 0\n",
      "Doing: B13.tif\n",
      "Input file size is 829, 1222\n",
      "0...10...20...30...40...50...60...70...80...90...100 - done.\n",
      "Done: 0\n",
      "Doing: B14.tif\n",
      "Input file size is 829, 1222\n",
      "0...10...20...30...40...50...60...70...80...90."
     ]
    },
    {
     "name": "stderr",
     "output_type": "stream",
     "text": [
      "Warning 1: for band 1, nodata value has been rounded to -2147483648, Int32 being an integer datatype.\n",
      "Warning 1: for band 1, nodata value has been rounded to -2147483648, Int32 being an integer datatype.\n"
     ]
    },
    {
     "name": "stdout",
     "output_type": "stream",
     "text": [
      "..100 - done.\n",
      "Done: 0\n",
      "Doing: B15.tif\n",
      "Input file size is 829, 1222\n",
      "0...10...20...30...40...50...60...70...80...90...100 - done.\n",
      "Done: 0\n",
      "Doing: B16.tif\n",
      "Input file size is 829, 1222\n",
      "0...10...20...30...40...50...60...70...80...90...100 - done.\n",
      "Done: 0\n",
      "Doing: B17.tif\n"
     ]
    },
    {
     "name": "stderr",
     "output_type": "stream",
     "text": [
      "Warning 1: for band 1, nodata value has been rounded to -2147483648, Int32 being an integer datatype.\n",
      "Warning 1: for band 1, nodata value has been rounded to -2147483648, Int32 being an integer datatype.\n"
     ]
    },
    {
     "name": "stdout",
     "output_type": "stream",
     "text": [
      "Input file size is 829, 1222\n",
      "0...10...20...30...40...50...60...70...80...90...100 - done.\n",
      "Done: 0\n",
      "Doing: B18.tif\n",
      "Input file size is 829, 1222\n",
      "0...10...20"
     ]
    },
    {
     "name": "stderr",
     "output_type": "stream",
     "text": [
      "Warning 1: for band 1, nodata value has been rounded to -2147483648, Int32 being an integer datatype.\n",
      "Warning 1: for band 1, nodata value has been rounded to -2147483648, Int32 being an integer datatype.\n"
     ]
    },
    {
     "name": "stdout",
     "output_type": "stream",
     "text": [
      "...30...40...50...60...70...80...90...100 - done.\n",
      "Done: 0\n",
      "Doing: B19.tif\n",
      "Input file size is 829, 1222\n",
      "0...10...20...30...40...50...60...70...80...90...100 - done.\n",
      "Done: 0\n",
      "Doing: ASCII\n",
      "Done: 1\n",
      "Doing: B1.tif\n",
      "Input file size is 829, 1222\n",
      "0"
     ]
    },
    {
     "name": "stderr",
     "output_type": "stream",
     "text": [
      "ERROR 4: `SSP126/2021_2040/ACCESS-ESM1-5/ASCII' not recognized as a supported file format.\n",
      "Warning 1: for band 1, nodata value has been rounded to -2147483648, Int32 being an integer datatype.\n"
     ]
    },
    {
     "name": "stdout",
     "output_type": "stream",
     "text": [
      "...10...20...30...40...50...60...70...80...90...100 - done.\n",
      "Done: 0\n",
      "Doing: B2.tif\n",
      "Input file size is 829, 1222\n",
      "0...10...20."
     ]
    },
    {
     "name": "stderr",
     "output_type": "stream",
     "text": [
      "Warning 1: for band 1, nodata value has been rounded to -2147483648, Int32 being an integer datatype.\n",
      "Warning 1: for band 1, nodata value has been rounded to -2147483648, Int32 being an integer datatype.\n"
     ]
    },
    {
     "name": "stdout",
     "output_type": "stream",
     "text": [
      "..30...40...50...60...70...80...90...100 - done.\n",
      "Done: 0\n",
      "Doing: B3.tif\n",
      "Input file size is 829, 1222\n",
      "0...10...20...30...40...50...60...70...80...90...100 - done.\n",
      "Done: 0\n",
      "Doing: B4.tif\n",
      "Input file size is 829, 1222\n",
      "0...10...20...30...40...50...60...70"
     ]
    },
    {
     "name": "stderr",
     "output_type": "stream",
     "text": [
      "Warning 1: for band 1, nodata value has been rounded to -2147483648, Int32 being an integer datatype.\n",
      "Warning 1: for band 1, nodata value has been rounded to -2147483648, Int32 being an integer datatype.\n"
     ]
    },
    {
     "name": "stdout",
     "output_type": "stream",
     "text": [
      "...80...90...100 - done.\n",
      "Done: 0\n",
      "Doing: B5.tif\n",
      "Input file size is 829, 1222\n",
      "0...10...20...30...40...50...60...70...80...90...100 - done.\n",
      "Done: 0\n",
      "Doing: B6.tif\n",
      "Input file size is 829, 1222\n",
      "0...10...20...30...40...50...60...70.."
     ]
    },
    {
     "name": "stderr",
     "output_type": "stream",
     "text": [
      "Warning 1: for band 1, nodata value has been rounded to -2147483648, Int32 being an integer datatype.\n",
      "Warning 1: for band 1, nodata value has been rounded to -2147483648, Int32 being an integer datatype.\n"
     ]
    },
    {
     "name": "stdout",
     "output_type": "stream",
     "text": [
      ".80...90...100 - done.\n",
      "Done: 0\n",
      "Doing: B7.tif\n",
      "Input file size is 829, 1222\n",
      "0...10...20...30...40...50...60...70...80...90...100 - done.\n",
      "Done: 0\n",
      "Doing: B8.tif\n"
     ]
    },
    {
     "name": "stderr",
     "output_type": "stream",
     "text": [
      "Warning 1: for band 1, nodata value has been rounded to -2147483648, Int32 being an integer datatype.\n",
      "Warning 1: for band 1, nodata value has been rounded to -2147483648, Int32 being an integer datatype.\n"
     ]
    },
    {
     "name": "stdout",
     "output_type": "stream",
     "text": [
      "Input file size is 829, 1222\n",
      "0...10...20...30...40...50...60...70...80...90...100 - done.\n",
      "Done: 0\n",
      "Doing: B9.tif\n",
      "Input file size is 829, 1222\n",
      "0...10...20...30...40...50...60...70...80...90...100 - done.\n",
      "Done: 0\n",
      "Doing: B10.tif\n",
      "Input file size is 829, 1222\n",
      "0...10...20...30...40.."
     ]
    },
    {
     "name": "stderr",
     "output_type": "stream",
     "text": [
      "Warning 1: for band 1, nodata value has been rounded to -2147483648, Int32 being an integer datatype.\n"
     ]
    },
    {
     "name": "stdout",
     "output_type": "stream",
     "text": [
      ".50...60...70...80...90...100 - done.\n",
      "Done: 0\n",
      "Doing: B11.tif\n",
      "Input file size is 829, 1222\n",
      "0...10...20...30...40...50."
     ]
    },
    {
     "name": "stderr",
     "output_type": "stream",
     "text": [
      "Warning 1: for band 1, nodata value has been rounded to -2147483648, Int32 being an integer datatype.\n",
      "Warning 1: for band 1, nodata value has been rounded to -2147483648, Int32 being an integer datatype.\n"
     ]
    },
    {
     "name": "stdout",
     "output_type": "stream",
     "text": [
      "..60...70...80...90...100 - done.\n",
      "Done: 0\n",
      "Doing: B12.tif\n",
      "Input file size is 829, 1222\n",
      "0...10...20...30...40...50...60...70...80...90...100 - done.\n",
      "Done: 0\n",
      "Doing: B13.tif\n",
      "Input file size is 829, 1222\n",
      "0...10...20...30...40...50...60...70...80...90..."
     ]
    },
    {
     "name": "stderr",
     "output_type": "stream",
     "text": [
      "Warning 1: for band 1, nodata value has been rounded to -2147483648, Int32 being an integer datatype.\n",
      "Warning 1: for band 1, nodata value has been rounded to -2147483648, Int32 being an integer datatype.\n"
     ]
    },
    {
     "name": "stdout",
     "output_type": "stream",
     "text": [
      "100 - done.\n",
      "Done: 0\n",
      "Doing: B14.tif\n",
      "Input file size is 829, 1222\n",
      "0...10...20...30...40...50...60...70...80...90...100 - done.\n",
      "Done: 0\n",
      "Doing: B15.tif\n"
     ]
    },
    {
     "name": "stderr",
     "output_type": "stream",
     "text": [
      "Warning 1: for band 1, nodata value has been rounded to -2147483648, Int32 being an integer datatype.\n"
     ]
    },
    {
     "name": "stdout",
     "output_type": "stream",
     "text": [
      "Input file size is 829, 1222\n",
      "0...10...20...30...40...50...60...70...80...90...100 - done.\n",
      "Done: 0\n",
      "Doing: B16.tif\n"
     ]
    },
    {
     "name": "stderr",
     "output_type": "stream",
     "text": [
      "Warning 1: for band 1, nodata value has been rounded to -2147483648, Int32 being an integer datatype.\n"
     ]
    },
    {
     "name": "stdout",
     "output_type": "stream",
     "text": [
      "Input file size is 829, 1222\n",
      "0...10...20...30...40...50...60...70...80...90...100 - done.\n",
      "Done: 0\n",
      "Doing: B17.tif\n",
      "Input file size is 829, 1222\n",
      "0...10...20...30...40.."
     ]
    },
    {
     "name": "stderr",
     "output_type": "stream",
     "text": [
      "Warning 1: for band 1, nodata value has been rounded to -2147483648, Int32 being an integer datatype.\n"
     ]
    },
    {
     "name": "stdout",
     "output_type": "stream",
     "text": [
      ".50...60...70...80...90...100 - done.\n",
      "Done: 0\n",
      "Doing: B18.tif\n"
     ]
    },
    {
     "name": "stderr",
     "output_type": "stream",
     "text": [
      "Warning 1: for band 1, nodata value has been rounded to -2147483648, Int32 being an integer datatype.\n"
     ]
    },
    {
     "name": "stdout",
     "output_type": "stream",
     "text": [
      "Input file size is 829, 1222\n",
      "0...10...20...30...40...50...60...70...80...90...100 - done.\n",
      "Done: 0\n",
      "Doing: B19.tif\n",
      "Input file size is 829, 1222\n",
      "0...10...20"
     ]
    },
    {
     "name": "stderr",
     "output_type": "stream",
     "text": [
      "Warning 1: for band 1, nodata value has been rounded to -2147483648, Int32 being an integer datatype.\n"
     ]
    },
    {
     "name": "stdout",
     "output_type": "stream",
     "text": [
      "...30...40...50...60...70...80...90...100 - done.\n",
      "Done: 0\n",
      "Doing: ASCII\n",
      "Done: 1\n",
      "Doing: B1.tif\n"
     ]
    },
    {
     "name": "stderr",
     "output_type": "stream",
     "text": [
      "ERROR 4: `SSP126/2021_2040/BCC-CSM2-MR/ASCII' not recognized as a supported file format.\n",
      "Warning 1: for band 1, nodata value has been rounded to -2147483648, Int32 being an integer datatype.\n"
     ]
    },
    {
     "name": "stdout",
     "output_type": "stream",
     "text": [
      "Input file size is 829, 1222\n",
      "0...10...20...30...40...50...60...70...80...90...100 - done.\n",
      "Done: 0\n",
      "Doing: B2.tif\n"
     ]
    },
    {
     "name": "stderr",
     "output_type": "stream",
     "text": [
      "Warning 1: for band 1, nodata value has been rounded to -2147483648, Int32 being an integer datatype.\n"
     ]
    },
    {
     "name": "stdout",
     "output_type": "stream",
     "text": [
      "Input file size is 829, 1222\n",
      "0...10...20...30...40...50...60...70...80...90...100 - done.\n",
      "Done: 0\n",
      "Doing: B3.tif\n",
      "Input file size is 829, 1222\n",
      "0...10...20...30...40...50...60...70...80...90...100 - done.\n",
      "Done: 0\n",
      "Doing: B4.tif\n"
     ]
    },
    {
     "name": "stderr",
     "output_type": "stream",
     "text": [
      "Warning 1: for band 1, nodata value has been rounded to -2147483648, Int32 being an integer datatype.\n",
      "Warning 1: for band 1, nodata value has been rounded to -2147483648, Int32 being an integer datatype.\n"
     ]
    },
    {
     "name": "stdout",
     "output_type": "stream",
     "text": [
      "Input file size is 829, 1222\n",
      "0...10...20...30...40...50...60...70...80...90...100 - done.\n",
      "Done: 0\n",
      "Doing: B5.tif\n",
      "Input file size is 829, 1222\n",
      "0...10..."
     ]
    },
    {
     "name": "stderr",
     "output_type": "stream",
     "text": [
      "Warning 1: for band 1, nodata value has been rounded to -2147483648, Int32 being an integer datatype.\n",
      "Warning 1: for band 1, nodata value has been rounded to -2147483648, Int32 being an integer datatype.\n"
     ]
    },
    {
     "name": "stdout",
     "output_type": "stream",
     "text": [
      "20...30...40...50...60...70...80...90...100 - done.\n",
      "Done: 0\n",
      "Doing: B6.tif\n",
      "Input file size is 829, 1222\n",
      "0...10...20...30...40...50...60...70...80...90...100 - done.\n",
      "Done: 0\n",
      "Doing: B7.tif\n",
      "Input file size is 829, 1222\n",
      "0...10...20...30...40.."
     ]
    },
    {
     "name": "stderr",
     "output_type": "stream",
     "text": [
      "Warning 1: for band 1, nodata value has been rounded to -2147483648, Int32 being an integer datatype.\n",
      "Warning 1: for band 1, nodata value has been rounded to -2147483648, Int32 being an integer datatype.\n"
     ]
    },
    {
     "name": "stdout",
     "output_type": "stream",
     "text": [
      ".50...60...70...80...90...100 - done.\n",
      "Done: 0\n",
      "Doing: B8.tif\n",
      "Input file size is 829, 1222\n",
      "0...10...20...30...40...50...60...70...80...90...100 - done.\n",
      "Done: 0\n",
      "Doing: B9.tif\n",
      "Input file size is 829, 1222\n",
      "0...10...20...30...40...50...60."
     ]
    },
    {
     "name": "stderr",
     "output_type": "stream",
     "text": [
      "Warning 1: for band 1, nodata value has been rounded to -2147483648, Int32 being an integer datatype.\n"
     ]
    },
    {
     "name": "stdout",
     "output_type": "stream",
     "text": [
      "..70...80...90...100 - done.\n",
      "Done: 0\n",
      "Doing: B10.tif\n",
      "Input file size is 829, 1222\n",
      "0...10...20...30..."
     ]
    },
    {
     "name": "stderr",
     "output_type": "stream",
     "text": [
      "Warning 1: for band 1, nodata value has been rounded to -2147483648, Int32 being an integer datatype.\n",
      "Warning 1: for band 1, nodata value has been rounded to -2147483648, Int32 being an integer datatype.\n"
     ]
    },
    {
     "name": "stdout",
     "output_type": "stream",
     "text": [
      "40...50...60...70...80...90...100 - done.\n",
      "Done: 0\n",
      "Doing: B11.tif\n",
      "Input file size is 829, 1222\n",
      "0...10...20...30...40...50...60...70...80...90...100 - done.\n",
      "Done: 0\n",
      "Doing: B12.tif\n",
      "Input file size is 829, 1222\n",
      "0..."
     ]
    },
    {
     "name": "stderr",
     "output_type": "stream",
     "text": [
      "Warning 1: for band 1, nodata value has been rounded to -2147483648, Int32 being an integer datatype.\n",
      "Warning 1: for band 1, nodata value has been rounded to -2147483648, Int32 being an integer datatype.\n"
     ]
    },
    {
     "name": "stdout",
     "output_type": "stream",
     "text": [
      "10...20...30...40...50...60...70...80...90...100 - done.\n",
      "Done: 0\n",
      "Doing: B13.tif\n",
      "Input file size is 829, 1222\n",
      "0...10...20...30...40...50...60...70...80...90...100 - done.\n",
      "Done: 0\n",
      "Doing: B14.tif\n",
      "Input file size is 829, 1222\n",
      "0...10..."
     ]
    },
    {
     "name": "stderr",
     "output_type": "stream",
     "text": [
      "Warning 1: for band 1, nodata value has been rounded to -2147483648, Int32 being an integer datatype.\n"
     ]
    },
    {
     "name": "stdout",
     "output_type": "stream",
     "text": [
      "20...30...40...50...60...70...80...90...100 - done.\n",
      "Done: 0\n",
      "Doing: B15.tif\n",
      "Input file size is 829, 1222\n",
      "0...10...20...30...40...50...60...70...80...90...100 - done.\n",
      "Done: 0\n",
      "Doing: B16.tif\n"
     ]
    },
    {
     "name": "stderr",
     "output_type": "stream",
     "text": [
      "Warning 1: for band 1, nodata value has been rounded to -2147483648, Int32 being an integer datatype.\n",
      "Warning 1: for band 1, nodata value has been rounded to -2147483648, Int32 being an integer datatype.\n"
     ]
    },
    {
     "name": "stdout",
     "output_type": "stream",
     "text": [
      "Input file size is 829, 1222\n",
      "0...10...20...30...40...50...60...70...80...90...100 - done.\n",
      "Done: 0\n",
      "Doing: B17.tif\n",
      "Input file size is 829, 1222\n",
      "0...10..."
     ]
    },
    {
     "name": "stderr",
     "output_type": "stream",
     "text": [
      "Warning 1: for band 1, nodata value has been rounded to -2147483648, Int32 being an integer datatype.\n",
      "Warning 1: for band 1, nodata value has been rounded to -2147483648, Int32 being an integer datatype.\n"
     ]
    },
    {
     "name": "stdout",
     "output_type": "stream",
     "text": [
      "20...30...40...50...60...70...80...90...100 - done.\n",
      "Done: 0\n",
      "Doing: B18.tif\n",
      "Input file size is 829, 1222\n",
      "0...10...20...30...40...50...60...70...80...90...100 - done.\n",
      "Done: 0\n",
      "Doing: B19.tif\n",
      "Input file size is 829, 1222\n",
      "0...10...20...30...40...50...60..."
     ]
    },
    {
     "name": "stderr",
     "output_type": "stream",
     "text": [
      "Warning 1: for band 1, nodata value has been rounded to -2147483648, Int32 being an integer datatype.\n",
      "ERROR 4: `SSP126/2021_2040/CanESM5/ASCII' not recognized as a supported file format.\n"
     ]
    },
    {
     "name": "stdout",
     "output_type": "stream",
     "text": [
      "70...80...90...100 - done.\n",
      "Done: 0\n",
      "Doing: ASCII\n",
      "Done: 1\n",
      "Doing: B1.tif\n",
      "Input file size is 829, 1222\n",
      "0...10...20...30"
     ]
    },
    {
     "name": "stderr",
     "output_type": "stream",
     "text": [
      "Warning 1: for band 1, nodata value has been rounded to -2147483648, Int32 being an integer datatype.\n",
      "Warning 1: for band 1, nodata value has been rounded to -2147483648, Int32 being an integer datatype.\n"
     ]
    },
    {
     "name": "stdout",
     "output_type": "stream",
     "text": [
      "...40...50...60...70...80...90...100 - done.\n",
      "Done: 0\n",
      "Doing: B2.tif\n",
      "Input file size is 829, 1222\n",
      "0...10...20...30...40...50...60...70...80...90...100 - done.\n",
      "Done: 0\n",
      "Doing: B3.tif\n",
      "Input file size is 829, 1222\n",
      "0...10...20...30...40...50...60...70...80."
     ]
    },
    {
     "name": "stderr",
     "output_type": "stream",
     "text": [
      "Warning 1: for band 1, nodata value has been rounded to -2147483648, Int32 being an integer datatype.\n",
      "Warning 1: for band 1, nodata value has been rounded to -2147483648, Int32 being an integer datatype.\n"
     ]
    },
    {
     "name": "stdout",
     "output_type": "stream",
     "text": [
      "..90...100 - done.\n",
      "Done: 0\n",
      "Doing: B4.tif\n",
      "Input file size is 829, 1222\n",
      "0...10...20...30...40...50...60...70...80...90...100 - done.\n",
      "Done: 0\n",
      "Doing: B5.tif\n",
      "Input file size is 829, 1222\n",
      "0...10...20...30...40...50...60...70...80...90...100 - done.\n",
      "Done: 0\n",
      "Doing: B6.tif\n"
     ]
    },
    {
     "name": "stderr",
     "output_type": "stream",
     "text": [
      "Warning 1: for band 1, nodata value has been rounded to -2147483648, Int32 being an integer datatype.\n",
      "Warning 1: for band 1, nodata value has been rounded to -2147483648, Int32 being an integer datatype.\n"
     ]
    },
    {
     "name": "stdout",
     "output_type": "stream",
     "text": [
      "Input file size is 829, 1222\n",
      "0...10...20...30...40...50...60...70...80...90...100 - done.\n",
      "Done: 0\n",
      "Doing: B7.tif\n",
      "Input file size is 829, 1222\n",
      "0.."
     ]
    },
    {
     "name": "stderr",
     "output_type": "stream",
     "text": [
      "Warning 1: for band 1, nodata value has been rounded to -2147483648, Int32 being an integer datatype.\n"
     ]
    },
    {
     "name": "stdout",
     "output_type": "stream",
     "text": [
      ".10...20...30...40...50...60...70...80...90...100 - done.\n",
      "Done: 0\n",
      "Doing: B8.tif\n"
     ]
    },
    {
     "name": "stderr",
     "output_type": "stream",
     "text": [
      "Warning 1: for band 1, nodata value has been rounded to -2147483648, Int32 being an integer datatype.\n",
      "Warning 1: for band 1, nodata value has been rounded to -2147483648, Int32 being an integer datatype.\n"
     ]
    },
    {
     "name": "stdout",
     "output_type": "stream",
     "text": [
      "Input file size is 829, 1222\n",
      "0...10...20...30...40...50...60...70...80...90...100 - done.\n",
      "Done: 0\n",
      "Doing: B9.tif\n",
      "Input file size is 829, 1222\n",
      "0...10...20...30...40...50...60...70...80...90...100 - done.\n",
      "Done: 0\n",
      "Doing: B10.tif\n",
      "Input file size is 829, 1222\n",
      "0...10...20...30...40."
     ]
    },
    {
     "name": "stderr",
     "output_type": "stream",
     "text": [
      "Warning 1: for band 1, nodata value has been rounded to -2147483648, Int32 being an integer datatype.\n",
      "Warning 1: for band 1, nodata value has been rounded to -2147483648, Int32 being an integer datatype.\n"
     ]
    },
    {
     "name": "stdout",
     "output_type": "stream",
     "text": [
      "..50...60...70...80...90...100 - done.\n",
      "Done: 0\n",
      "Doing: B11.tif\n",
      "Input file size is 829, 1222\n",
      "0...10...20...30...40...50...60...70...80...90...100 - done.\n",
      "Done: 0\n",
      "Doing: B12.tif\n",
      "Input file size is 829, 1222\n",
      "0...10...20...30...40...50...60...70...80...90."
     ]
    },
    {
     "name": "stderr",
     "output_type": "stream",
     "text": [
      "Warning 1: for band 1, nodata value has been rounded to -2147483648, Int32 being an integer datatype.\n",
      "Warning 1: for band 1, nodata value has been rounded to -2147483648, Int32 being an integer datatype.\n"
     ]
    },
    {
     "name": "stdout",
     "output_type": "stream",
     "text": [
      "..100 - done.\n",
      "Done: 0\n",
      "Doing: B13.tif\n",
      "Input file size is 829, 1222\n",
      "0...10...20...30...40...50...60...70...80...90...100 - done.\n",
      "Done: 0\n",
      "Doing: B14.tif\n",
      "Input file size is 829, 1222\n",
      "0...10...20...30...40...50...60...70...80...90...100 - done.\n",
      "Done: 0\n",
      "Doing: B15.tif\n"
     ]
    },
    {
     "name": "stderr",
     "output_type": "stream",
     "text": [
      "Warning 1: for band 1, nodata value has been rounded to -2147483648, Int32 being an integer datatype.\n",
      "Warning 1: for band 1, nodata value has been rounded to -2147483648, Int32 being an integer datatype.\n"
     ]
    },
    {
     "name": "stdout",
     "output_type": "stream",
     "text": [
      "Input file size is 829, 1222\n",
      "0...10...20...30...40...50...60...70...80...90...100 - done.\n",
      "Done: 0\n",
      "Doing: B16.tif\n",
      "Input file size is 829, 1222\n",
      "0...10...20."
     ]
    },
    {
     "name": "stderr",
     "output_type": "stream",
     "text": [
      "Warning 1: for band 1, nodata value has been rounded to -2147483648, Int32 being an integer datatype.\n",
      "Warning 1: for band 1, nodata value has been rounded to -2147483648, Int32 being an integer datatype.\n"
     ]
    },
    {
     "name": "stdout",
     "output_type": "stream",
     "text": [
      "..30...40...50...60...70...80...90...100 - done.\n",
      "Done: 0\n",
      "Doing: B17.tif\n",
      "Input file size is 829, 1222\n",
      "0...10...20...30...40...50...60...70...80...90...100 - done.\n",
      "Done: 0\n",
      "Doing: B18.tif\n",
      "Input file size is 829, 1222\n",
      "0...10...20...30...40...50...60...70.."
     ]
    },
    {
     "name": "stderr",
     "output_type": "stream",
     "text": [
      "Warning 1: for band 1, nodata value has been rounded to -2147483648, Int32 being an integer datatype.\n",
      "Warning 1: for band 1, nodata value has been rounded to -2147483648, Int32 being an integer datatype.\n"
     ]
    },
    {
     "name": "stdout",
     "output_type": "stream",
     "text": [
      ".80...90...100 - done.\n",
      "Done: 0\n",
      "Doing: B19.tif\n",
      "Input file size is 829, 1222\n",
      "0...10...20...30...40...50...60...70...80...90...100 - done.\n",
      "Done: 0\n",
      "Doing: ASCII\n",
      "Done: 1\n",
      "Doing: B1.tif\n",
      "Input file size is 829, 1222\n",
      "0...10...20...30...40...50...60...70...80...90"
     ]
    },
    {
     "name": "stderr",
     "output_type": "stream",
     "text": [
      "ERROR 4: `SSP126/2021_2040/CanESM5-CanOE/ASCII' not recognized as a supported file format.\n",
      "Warning 1: for band 1, nodata value has been rounded to -2147483648, Int32 being an integer datatype.\n"
     ]
    },
    {
     "name": "stdout",
     "output_type": "stream",
     "text": [
      "...100 - done.\n",
      "Done: 0\n",
      "Doing: B2.tif\n",
      "Input file size is 829, 1222\n",
      "0...10...20...30...40...50...60...70...80...90..."
     ]
    },
    {
     "name": "stderr",
     "output_type": "stream",
     "text": [
      "Warning 1: for band 1, nodata value has been rounded to -2147483648, Int32 being an integer datatype.\n",
      "Warning 1: for band 1, nodata value has been rounded to -2147483648, Int32 being an integer datatype.\n"
     ]
    },
    {
     "name": "stdout",
     "output_type": "stream",
     "text": [
      "100 - done.\n",
      "Done: 0\n",
      "Doing: B3.tif\n",
      "Input file size is 829, 1222\n",
      "0...10...20...30...40...50...60...70...80...90...100 - done.\n",
      "Done: 0\n",
      "Doing: B4.tif\n"
     ]
    },
    {
     "name": "stderr",
     "output_type": "stream",
     "text": [
      "Warning 1: for band 1, nodata value has been rounded to -2147483648, Int32 being an integer datatype.\n",
      "Warning 1: for band 1, nodata value has been rounded to -2147483648, Int32 being an integer datatype.\n"
     ]
    },
    {
     "name": "stdout",
     "output_type": "stream",
     "text": [
      "Input file size is 829, 1222\n",
      "0...10...20...30...40...50...60...70...80...90...100 - done.\n",
      "Done: 0\n",
      "Doing: B5.tif\n",
      "Input file size is 829, 1222\n",
      "0...10...20...30...40...50...60...70...80...90...100 - done.\n",
      "Done: 0\n",
      "Doing: B6.tif\n",
      "Input file size is 829, 1222\n",
      "0...10."
     ]
    },
    {
     "name": "stderr",
     "output_type": "stream",
     "text": [
      "Warning 1: for band 1, nodata value has been rounded to -2147483648, Int32 being an integer datatype.\n"
     ]
    },
    {
     "name": "stdout",
     "output_type": "stream",
     "text": [
      "..20...30...40...50...60...70...80...90...100 - done.\n",
      "Done: 0\n",
      "Doing: B7.tif\n",
      "Input file size is 829, 1222\n",
      "0...10."
     ]
    },
    {
     "name": "stderr",
     "output_type": "stream",
     "text": [
      "Warning 1: for band 1, nodata value has been rounded to -2147483648, Int32 being an integer datatype.\n"
     ]
    },
    {
     "name": "stdout",
     "output_type": "stream",
     "text": [
      "..20...30...40...50...60...70...80...90...100 - done.\n",
      "Done: 0\n",
      "Doing: B8.tif\n",
      "Input file size is 829, 1222\n",
      "0."
     ]
    },
    {
     "name": "stderr",
     "output_type": "stream",
     "text": [
      "Warning 1: for band 1, nodata value has been rounded to -2147483648, Int32 being an integer datatype.\n",
      "Warning 1: for band 1, nodata value has been rounded to -2147483648, Int32 being an integer datatype.\n"
     ]
    },
    {
     "name": "stdout",
     "output_type": "stream",
     "text": [
      "..10...20...30...40...50...60...70...80...90...100 - done.\n",
      "Done: 0\n",
      "Doing: B9.tif\n",
      "Input file size is 829, 1222\n",
      "0...10...20...30...40...50...60...70...80...90...100 - done.\n",
      "Done: 0\n",
      "Doing: B10.tif\n",
      "Input file size is 829, 1222\n",
      "0...10...20...30...40"
     ]
    },
    {
     "name": "stderr",
     "output_type": "stream",
     "text": [
      "Warning 1: for band 1, nodata value has been rounded to -2147483648, Int32 being an integer datatype.\n",
      "Warning 1: for band 1, nodata value has been rounded to -2147483648, Int32 being an integer datatype.\n"
     ]
    },
    {
     "name": "stdout",
     "output_type": "stream",
     "text": [
      "...50...60...70...80...90...100 - done.\n",
      "Done: 0\n",
      "Doing: B11.tif\n",
      "Input file size is 829, 1222\n",
      "0...10...20...30...40...50...60...70...80...90...100 - done.\n",
      "Done: 0\n",
      "Doing: B12.tif\n",
      "Input file size is 829, 1222\n",
      "0...10...20...30...40...50...60...70...80..."
     ]
    },
    {
     "name": "stderr",
     "output_type": "stream",
     "text": [
      "Warning 1: for band 1, nodata value has been rounded to -2147483648, Int32 being an integer datatype.\n",
      "Warning 1: for band 1, nodata value has been rounded to -2147483648, Int32 being an integer datatype.\n"
     ]
    },
    {
     "name": "stdout",
     "output_type": "stream",
     "text": [
      "90...100 - done.\n",
      "Done: 0\n",
      "Doing: B13.tif\n",
      "Input file size is 829, 1222\n",
      "0...10...20...30...40...50...60...70...80...90...100 - done.\n",
      "Done: 0\n",
      "Doing: B14.tif\n",
      "Input file size is 829, 1222\n",
      "0...10...20...30...40...50...60...70...80...90...100 - done.\n",
      "Done: 0\n",
      "Doing: B15.tif\n"
     ]
    },
    {
     "name": "stderr",
     "output_type": "stream",
     "text": [
      "Warning 1: for band 1, nodata value has been rounded to -2147483648, Int32 being an integer datatype.\n",
      "Warning 1: for band 1, nodata value has been rounded to -2147483648, Int32 being an integer datatype.\n"
     ]
    },
    {
     "name": "stdout",
     "output_type": "stream",
     "text": [
      "Input file size is 829, 1222\n",
      "0...10...20...30...40...50...60...70...80...90...100 - done.\n",
      "Done: 0\n",
      "Doing: B16.tif\n",
      "Input file size is 829, 1222\n",
      "0...10...20"
     ]
    },
    {
     "name": "stderr",
     "output_type": "stream",
     "text": [
      "Warning 1: for band 1, nodata value has been rounded to -2147483648, Int32 being an integer datatype.\n",
      "Warning 1: for band 1, nodata value has been rounded to -2147483648, Int32 being an integer datatype.\n"
     ]
    },
    {
     "name": "stdout",
     "output_type": "stream",
     "text": [
      "...30...40...50...60...70...80...90...100 - done.\n",
      "Done: 0\n",
      "Doing: B17.tif\n",
      "Input file size is 829, 1222\n",
      "0...10...20...30...40...50...60...70...80...90...100 - done.\n",
      "Done: 0\n",
      "Doing: B18.tif\n",
      "Input file size is 829, 1222\n",
      "0...10...20...30...40...50...60...70."
     ]
    },
    {
     "name": "stderr",
     "output_type": "stream",
     "text": [
      "Warning 1: for band 1, nodata value has been rounded to -2147483648, Int32 being an integer datatype.\n",
      "Warning 1: for band 1, nodata value has been rounded to -2147483648, Int32 being an integer datatype.\n"
     ]
    },
    {
     "name": "stdout",
     "output_type": "stream",
     "text": [
      "..80...90...100 - done.\n",
      "Done: 0\n",
      "Doing: B19.tif\n",
      "Input file size is 829, 1222\n",
      "0...10...20...30...40...50...60...70...80...90...100 - done.\n",
      "Done: 0\n",
      "Doing: ASCII\n",
      "Done: 1\n",
      "Doing: B1.tif\n",
      "Input file size is 829, 1222\n",
      "0...10...20...30...40...50...60.."
     ]
    },
    {
     "name": "stderr",
     "output_type": "stream",
     "text": [
      "ERROR 4: `SSP126/2021_2040/CMCC-ESM2/ASCII' not recognized as a supported file format.\n",
      "Warning 1: for band 1, nodata value has been rounded to -2147483648, Int32 being an integer datatype.\n"
     ]
    },
    {
     "name": "stdout",
     "output_type": "stream",
     "text": [
      ".70...80...90...100 - done.\n",
      "Done: 0\n",
      "Doing: B2.tif\n",
      "Input file size is 829, 1222\n",
      "0...10...20...30...40...50...60...70...80..."
     ]
    },
    {
     "name": "stderr",
     "output_type": "stream",
     "text": [
      "Warning 1: for band 1, nodata value has been rounded to -2147483648, Int32 being an integer datatype.\n",
      "Warning 1: for band 1, nodata value has been rounded to -2147483648, Int32 being an integer datatype.\n"
     ]
    },
    {
     "name": "stdout",
     "output_type": "stream",
     "text": [
      "90...100 - done.\n",
      "Done: 0\n",
      "Doing: B3.tif\n",
      "Input file size is 829, 1222\n",
      "0...10...20...30...40...50...60...70...80...90...100 - done.\n",
      "Done: 0\n",
      "Doing: B4.tif\n",
      "Input file size is 829, 1222\n",
      "0...10...20...30...40...50...60...70...80...90...100 - done.\n",
      "Done: 0\n",
      "Doing: B5.tif\n"
     ]
    },
    {
     "name": "stderr",
     "output_type": "stream",
     "text": [
      "Warning 1: for band 1, nodata value has been rounded to -2147483648, Int32 being an integer datatype.\n",
      "Warning 1: for band 1, nodata value has been rounded to -2147483648, Int32 being an integer datatype.\n"
     ]
    },
    {
     "name": "stdout",
     "output_type": "stream",
     "text": [
      "Input file size is 829, 1222\n",
      "0...10...20...30...40...50...60...70...80...90...100 - done.\n",
      "Done: 0\n",
      "Doing: B6.tif\n",
      "Input file size is 829, 1222\n",
      "0...10."
     ]
    },
    {
     "name": "stderr",
     "output_type": "stream",
     "text": [
      "Warning 1: for band 1, nodata value has been rounded to -2147483648, Int32 being an integer datatype.\n",
      "Warning 1: for band 1, nodata value has been rounded to -2147483648, Int32 being an integer datatype.\n"
     ]
    },
    {
     "name": "stdout",
     "output_type": "stream",
     "text": [
      "..20...30...40...50...60...70...80...90...100 - done.\n",
      "Done: 0\n",
      "Doing: B7.tif\n",
      "Input file size is 829, 1222\n",
      "0...10...20...30...40...50...60...70...80...90...100 - done.\n",
      "Done: 0\n",
      "Doing: B8.tif\n",
      "Input file size is 829, 1222\n",
      "0...10...20...30...40..."
     ]
    },
    {
     "name": "stderr",
     "output_type": "stream",
     "text": [
      "Warning 1: for band 1, nodata value has been rounded to -2147483648, Int32 being an integer datatype.\n",
      "Warning 1: for band 1, nodata value has been rounded to -2147483648, Int32 being an integer datatype.\n"
     ]
    },
    {
     "name": "stdout",
     "output_type": "stream",
     "text": [
      "50...60...70...80...90...100 - done.\n",
      "Done: 0\n",
      "Doing: B9.tif\n",
      "Input file size is 829, 1222\n",
      "0...10...20...30...40...50...60...70...80...90...100 - done.\n",
      "Done: 0\n",
      "Doing: B10.tif\n",
      "Input file size is 829, 1222\n",
      "0...10...20...30...40...50...60...70...80...90"
     ]
    },
    {
     "name": "stderr",
     "output_type": "stream",
     "text": [
      "Warning 1: for band 1, nodata value has been rounded to -2147483648, Int32 being an integer datatype.\n",
      "Warning 1: for band 1, nodata value has been rounded to -2147483648, Int32 being an integer datatype.\n"
     ]
    },
    {
     "name": "stdout",
     "output_type": "stream",
     "text": [
      "...100 - done.\n",
      "Done: 0\n",
      "Doing: B11.tif\n",
      "Input file size is 829, 1222\n",
      "0...10...20...30...40...50...60...70...80...90...100 - done.\n",
      "Done: 0\n",
      "Doing: B12.tif\n",
      "Input file size is 829, 1222\n",
      "0...10...20...30...40...50...60...70...80..."
     ]
    },
    {
     "name": "stderr",
     "output_type": "stream",
     "text": [
      "Warning 1: for band 1, nodata value has been rounded to -2147483648, Int32 being an integer datatype.\n",
      "Warning 1: for band 1, nodata value has been rounded to -2147483648, Int32 being an integer datatype.\n"
     ]
    },
    {
     "name": "stdout",
     "output_type": "stream",
     "text": [
      "90...100 - done.\n",
      "Done: 0\n",
      "Doing: B13.tif\n",
      "Input file size is 829, 1222\n",
      "0...10...20...30...40...50...60...70...80...90...100 - done.\n",
      "Done: 0\n",
      "Doing: B14.tif\n",
      "Input file size is 829, 1222\n",
      "0"
     ]
    },
    {
     "name": "stderr",
     "output_type": "stream",
     "text": [
      "Warning 1: for band 1, nodata value has been rounded to -2147483648, Int32 being an integer datatype.\n"
     ]
    },
    {
     "name": "stdout",
     "output_type": "stream",
     "text": [
      "...10...20...30...40...50...60...70...80...90...100 - done.\n",
      "Done: 0\n",
      "Doing: B15.tif\n",
      "Input file size is 829, 1222\n",
      "0...10"
     ]
    },
    {
     "name": "stderr",
     "output_type": "stream",
     "text": [
      "Warning 1: for band 1, nodata value has been rounded to -2147483648, Int32 being an integer datatype.\n"
     ]
    },
    {
     "name": "stdout",
     "output_type": "stream",
     "text": [
      "...20...30...40...50...60...70...80...90...100 - done.\n",
      "Done: 0\n",
      "Doing: B16.tif\n"
     ]
    },
    {
     "name": "stderr",
     "output_type": "stream",
     "text": [
      "Warning 1: for band 1, nodata value has been rounded to -2147483648, Int32 being an integer datatype.\n"
     ]
    },
    {
     "name": "stdout",
     "output_type": "stream",
     "text": [
      "Input file size is 829, 1222\n",
      "0...10...20...30...40...50...60...70...80...90...100 - done.\n",
      "Done: 0\n",
      "Doing: B17.tif\n",
      "Input file size is 829, 1222\n",
      "0...10...20...30...40...50...60...70."
     ]
    },
    {
     "name": "stderr",
     "output_type": "stream",
     "text": [
      "Warning 1: for band 1, nodata value has been rounded to -2147483648, Int32 being an integer datatype.\n",
      "Warning 1: for band 1, nodata value has been rounded to -2147483648, Int32 being an integer datatype.\n"
     ]
    },
    {
     "name": "stdout",
     "output_type": "stream",
     "text": [
      "..80...90...100 - done.\n",
      "Done: 0\n",
      "Doing: B18.tif\n",
      "Input file size is 829, 1222\n",
      "0...10...20...30...40...50...60...70...80...90...100 - done.\n",
      "Done: 0\n",
      "Doing: B19.tif\n",
      "Input file size is 829, 1222\n",
      "0...10...20...30...40."
     ]
    },
    {
     "name": "stderr",
     "output_type": "stream",
     "text": [
      "Warning 1: for band 1, nodata value has been rounded to -2147483648, Int32 being an integer datatype.\n"
     ]
    },
    {
     "name": "stdout",
     "output_type": "stream",
     "text": [
      "..50...60...70...80...90...100 - done.\n",
      "Done: 0\n",
      "Doing: ASCII\n",
      "Done: 1\n",
      "Doing: B1.tif\n"
     ]
    },
    {
     "name": "stderr",
     "output_type": "stream",
     "text": [
      "ERROR 4: `SSP126/2021_2040/CNRM-CM6-1/ASCII' not recognized as a supported file format.\n",
      "Warning 1: for band 1, nodata value has been rounded to -2147483648, Int32 being an integer datatype.\n"
     ]
    },
    {
     "name": "stdout",
     "output_type": "stream",
     "text": [
      "Input file size is 829, 1222\n",
      "0...10...20...30...40...50...60...70...80...90...100 - done.\n",
      "Done: 0\n",
      "Doing: B2.tif\n",
      "Input file size is 829, 1222\n",
      "0...10..."
     ]
    },
    {
     "name": "stderr",
     "output_type": "stream",
     "text": [
      "Warning 1: for band 1, nodata value has been rounded to -2147483648, Int32 being an integer datatype.\n",
      "Warning 1: for band 1, nodata value has been rounded to -2147483648, Int32 being an integer datatype.\n"
     ]
    },
    {
     "name": "stdout",
     "output_type": "stream",
     "text": [
      "20...30...40...50...60...70...80...90...100 - done.\n",
      "Done: 0\n",
      "Doing: B3.tif\n",
      "Input file size is 829, 1222\n",
      "0...10...20...30...40...50...60...70...80...90...100 - done.\n",
      "Done: 0\n",
      "Doing: B4.tif\n",
      "Input file size is 829, 1222\n",
      "0...10.."
     ]
    },
    {
     "name": "stderr",
     "output_type": "stream",
     "text": [
      "Warning 1: for band 1, nodata value has been rounded to -2147483648, Int32 being an integer datatype.\n"
     ]
    },
    {
     "name": "stdout",
     "output_type": "stream",
     "text": [
      ".20...30...40...50...60...70...80...90...100 - done.\n",
      "Done: 0\n",
      "Doing: B5.tif\n",
      "Input file size is 829, 1222\n",
      "0...10...20..."
     ]
    },
    {
     "name": "stderr",
     "output_type": "stream",
     "text": [
      "Warning 1: for band 1, nodata value has been rounded to -2147483648, Int32 being an integer datatype.\n",
      "Warning 1: for band 1, nodata value has been rounded to -2147483648, Int32 being an integer datatype.\n"
     ]
    },
    {
     "name": "stdout",
     "output_type": "stream",
     "text": [
      "30...40...50...60...70...80...90...100 - done.\n",
      "Done: 0\n",
      "Doing: B6.tif\n",
      "Input file size is 829, 1222\n",
      "0...10...20...30...40...50...60...70...80...90...100 - done.\n",
      "Done: 0\n",
      "Doing: B7.tif\n",
      "Input file size is 829, 1222\n",
      "0...10...20...30...40...50...60...70."
     ]
    },
    {
     "name": "stderr",
     "output_type": "stream",
     "text": [
      "Warning 1: for band 1, nodata value has been rounded to -2147483648, Int32 being an integer datatype.\n",
      "Warning 1: for band 1, nodata value has been rounded to -2147483648, Int32 being an integer datatype.\n"
     ]
    },
    {
     "name": "stdout",
     "output_type": "stream",
     "text": [
      "..80...90...100 - done.\n",
      "Done: 0\n",
      "Doing: B8.tif\n",
      "Input file size is 829, 1222\n",
      "0...10...20...30...40...50...60...70...80...90...100 - done.\n",
      "Done: 0\n",
      "Doing: B9.tif\n",
      "Input file size is 829, 1222\n",
      "0...10...20...30...40...50...60."
     ]
    },
    {
     "name": "stderr",
     "output_type": "stream",
     "text": [
      "Warning 1: for band 1, nodata value has been rounded to -2147483648, Int32 being an integer datatype.\n",
      "Warning 1: for band 1, nodata value has been rounded to -2147483648, Int32 being an integer datatype.\n"
     ]
    },
    {
     "name": "stdout",
     "output_type": "stream",
     "text": [
      "..70...80...90...100 - done.\n",
      "Done: 0\n",
      "Doing: B10.tif\n",
      "Input file size is 829, 1222\n",
      "0...10...20...30...40...50...60...70...80...90...100 - done.\n",
      "Done: 0\n",
      "Doing: B11.tif\n",
      "Input file size is 829, 1222\n",
      "0...10...20...30...40...50...60...70."
     ]
    },
    {
     "name": "stderr",
     "output_type": "stream",
     "text": [
      "Warning 1: for band 1, nodata value has been rounded to -2147483648, Int32 being an integer datatype.\n",
      "Warning 1: for band 1, nodata value has been rounded to -2147483648, Int32 being an integer datatype.\n"
     ]
    },
    {
     "name": "stdout",
     "output_type": "stream",
     "text": [
      "..80...90...100 - done.\n",
      "Done: 0\n",
      "Doing: B12.tif\n",
      "Input file size is 829, 1222\n",
      "0...10...20...30...40...50...60...70...80...90...100 - done.\n",
      "Done: 0\n",
      "Doing: B13.tif\n",
      "Input file size is 829, 1222\n",
      "0...10...20...30...40...50...60...70...80...90.."
     ]
    },
    {
     "name": "stderr",
     "output_type": "stream",
     "text": [
      "Warning 1: for band 1, nodata value has been rounded to -2147483648, Int32 being an integer datatype.\n",
      "Warning 1: for band 1, nodata value has been rounded to -2147483648, Int32 being an integer datatype.\n"
     ]
    },
    {
     "name": "stdout",
     "output_type": "stream",
     "text": [
      ".100 - done.\n",
      "Done: 0\n",
      "Doing: B14.tif\n",
      "Input file size is 829, 1222\n",
      "0...10...20...30...40...50...60...70...80...90...100 - done.\n",
      "Done: 0\n",
      "Doing: B15.tif\n",
      "Input file size is 829, 1222\n",
      "0...10...20...30...40...50...60...70...80...90...100 - done.\n",
      "Done: 0\n",
      "Doing: B16.tif\n"
     ]
    },
    {
     "name": "stderr",
     "output_type": "stream",
     "text": [
      "Warning 1: for band 1, nodata value has been rounded to -2147483648, Int32 being an integer datatype.\n",
      "Warning 1: for band 1, nodata value has been rounded to -2147483648, Int32 being an integer datatype.\n"
     ]
    },
    {
     "name": "stdout",
     "output_type": "stream",
     "text": [
      "Input file size is 829, 1222\n",
      "0...10...20...30...40...50...60...70...80...90...100 - done.\n",
      "Done: 0\n",
      "Doing: B17.tif\n",
      "Input file size is 829, 1222\n",
      "0...10...20"
     ]
    },
    {
     "name": "stderr",
     "output_type": "stream",
     "text": [
      "Warning 1: for band 1, nodata value has been rounded to -2147483648, Int32 being an integer datatype.\n",
      "Warning 1: for band 1, nodata value has been rounded to -2147483648, Int32 being an integer datatype.\n"
     ]
    },
    {
     "name": "stdout",
     "output_type": "stream",
     "text": [
      "...30...40...50...60...70...80...90...100 - done.\n",
      "Done: 0\n",
      "Doing: B18.tif\n",
      "Input file size is 829, 1222\n",
      "0...10...20...30...40...50...60...70...80...90...100 - done.\n",
      "Done: 0\n",
      "Doing: B19.tif\n",
      "Input file size is 829, 1222\n",
      "0...10...20...30...40...50...60...70."
     ]
    },
    {
     "name": "stderr",
     "output_type": "stream",
     "text": [
      "Warning 1: for band 1, nodata value has been rounded to -2147483648, Int32 being an integer datatype.\n",
      "ERROR 4: `SSP126/2021_2040/CNRM-CM6-1-HR/ASCII' not recognized as a supported file format.\n"
     ]
    },
    {
     "name": "stdout",
     "output_type": "stream",
     "text": [
      "..80...90...100 - done.\n",
      "Done: 0\n",
      "Doing: ASCII\n",
      "Done: 1\n",
      "Doing: B1.tif\n",
      "Input file size is 829, 1222\n",
      "0...10...20...30...40."
     ]
    },
    {
     "name": "stderr",
     "output_type": "stream",
     "text": [
      "Warning 1: for band 1, nodata value has been rounded to -2147483648, Int32 being an integer datatype.\n",
      "Warning 1: for band 1, nodata value has been rounded to -2147483648, Int32 being an integer datatype.\n"
     ]
    },
    {
     "name": "stdout",
     "output_type": "stream",
     "text": [
      "..50...60...70...80...90...100 - done.\n",
      "Done: 0\n",
      "Doing: B2.tif\n",
      "Input file size is 829, 1222\n",
      "0...10...20...30...40...50...60...70...80...90...100 - done.\n",
      "Done: 0\n",
      "Doing: B3.tif\n",
      "Input file size is 829, 1222\n",
      "0...10...20...30...40...50...60...70...80...90."
     ]
    },
    {
     "name": "stderr",
     "output_type": "stream",
     "text": [
      "Warning 1: for band 1, nodata value has been rounded to -2147483648, Int32 being an integer datatype.\n",
      "Warning 1: for band 1, nodata value has been rounded to -2147483648, Int32 being an integer datatype.\n"
     ]
    },
    {
     "name": "stdout",
     "output_type": "stream",
     "text": [
      "..100 - done.\n",
      "Done: 0\n",
      "Doing: B4.tif\n",
      "Input file size is 829, 1222\n",
      "0...10...20...30...40...50...60...70...80...90...100 - done.\n",
      "Done: 0\n",
      "Doing: B5.tif\n",
      "Input file size is 829, 1222\n",
      "0...10...20...30...40...50...60...70...80...90...100 - done.\n",
      "Done: 0\n",
      "Doing: B6.tif\n"
     ]
    },
    {
     "name": "stderr",
     "output_type": "stream",
     "text": [
      "Warning 1: for band 1, nodata value has been rounded to -2147483648, Int32 being an integer datatype.\n",
      "Warning 1: for band 1, nodata value has been rounded to -2147483648, Int32 being an integer datatype.\n"
     ]
    },
    {
     "name": "stdout",
     "output_type": "stream",
     "text": [
      "Input file size is 829, 1222\n",
      "0...10...20...30...40...50...60...70...80...90...100 - done.\n",
      "Done: 0\n",
      "Doing: B7.tif\n",
      "Input file size is 829, 1222\n",
      "0...10...20"
     ]
    },
    {
     "name": "stderr",
     "output_type": "stream",
     "text": [
      "Warning 1: for band 1, nodata value has been rounded to -2147483648, Int32 being an integer datatype.\n",
      "Warning 1: for band 1, nodata value has been rounded to -2147483648, Int32 being an integer datatype.\n"
     ]
    },
    {
     "name": "stdout",
     "output_type": "stream",
     "text": [
      "...30...40...50...60...70...80...90...100 - done.\n",
      "Done: 0\n",
      "Doing: B8.tif\n",
      "Input file size is 829, 1222\n",
      "0...10...20...30...40...50...60...70...80...90...100 - done.\n",
      "Done: 0\n",
      "Doing: B9.tif\n",
      "Input file size is 829, 1222\n",
      "0...10...20...30...40..."
     ]
    },
    {
     "name": "stderr",
     "output_type": "stream",
     "text": [
      "Warning 1: for band 1, nodata value has been rounded to -2147483648, Int32 being an integer datatype.\n"
     ]
    },
    {
     "name": "stdout",
     "output_type": "stream",
     "text": [
      "50...60...70...80...90...100 - done.\n",
      "Done: 0\n",
      "Doing: B10.tif\n",
      "Input file size is 829, 1222\n",
      "0...10...20...30...40...50...60..."
     ]
    },
    {
     "name": "stderr",
     "output_type": "stream",
     "text": [
      "Warning 1: for band 1, nodata value has been rounded to -2147483648, Int32 being an integer datatype.\n",
      "Warning 1: for band 1, nodata value has been rounded to -2147483648, Int32 being an integer datatype.\n"
     ]
    },
    {
     "name": "stdout",
     "output_type": "stream",
     "text": [
      "70...80...90...100 - done.\n",
      "Done: 0\n",
      "Doing: B11.tif\n",
      "Input file size is 829, 1222\n",
      "0...10...20...30...40...50...60...70...80...90...100 - done.\n",
      "Done: 0\n",
      "Doing: B12.tif\n",
      "Input file size is 829, 1222\n",
      "0...10...20...30...40...50...60...70...80...90..."
     ]
    },
    {
     "name": "stderr",
     "output_type": "stream",
     "text": [
      "Warning 1: for band 1, nodata value has been rounded to -2147483648, Int32 being an integer datatype.\n",
      "Warning 1: for band 1, nodata value has been rounded to -2147483648, Int32 being an integer datatype.\n"
     ]
    },
    {
     "name": "stdout",
     "output_type": "stream",
     "text": [
      "100 - done.\n",
      "Done: 0\n",
      "Doing: B13.tif\n",
      "Input file size is 829, 1222\n",
      "0...10...20...30...40...50...60...70...80...90...100 - done.\n",
      "Done: 0\n",
      "Doing: B14.tif\n"
     ]
    },
    {
     "name": "stderr",
     "output_type": "stream",
     "text": [
      "Warning 1: for band 1, nodata value has been rounded to -2147483648, Int32 being an integer datatype.\n",
      "Warning 1: for band 1, nodata value has been rounded to -2147483648, Int32 being an integer datatype.\n"
     ]
    },
    {
     "name": "stdout",
     "output_type": "stream",
     "text": [
      "Input file size is 829, 1222\n",
      "0...10...20...30...40...50...60...70...80...90...100 - done.\n",
      "Done: 0\n",
      "Doing: B15.tif\n",
      "Input file size is 829, 1222\n",
      "0...10...20...30...40...50...60...70...80...90...100 - done.\n",
      "Done: 0\n",
      "Doing: B16.tif\n",
      "Input file size is 829, 1222\n",
      "0...10...20...30...40...50"
     ]
    },
    {
     "name": "stderr",
     "output_type": "stream",
     "text": [
      "Warning 1: for band 1, nodata value has been rounded to -2147483648, Int32 being an integer datatype.\n",
      "Warning 1: for band 1, nodata value has been rounded to -2147483648, Int32 being an integer datatype.\n"
     ]
    },
    {
     "name": "stdout",
     "output_type": "stream",
     "text": [
      "...60...70...80...90...100 - done.\n",
      "Done: 0\n",
      "Doing: B17.tif\n",
      "Input file size is 829, 1222\n",
      "0...10...20...30...40...50...60...70...80...90...100 - done.\n",
      "Done: 0\n",
      "Doing: B18.tif\n",
      "Input file size is 829, 1222\n",
      "0...10...20...30...40...50...60...70...80...90..."
     ]
    },
    {
     "name": "stderr",
     "output_type": "stream",
     "text": [
      "Warning 1: for band 1, nodata value has been rounded to -2147483648, Int32 being an integer datatype.\n",
      "Warning 1: for band 1, nodata value has been rounded to -2147483648, Int32 being an integer datatype.\n"
     ]
    },
    {
     "name": "stdout",
     "output_type": "stream",
     "text": [
      "100 - done.\n",
      "Done: 0\n",
      "Doing: B19.tif\n",
      "Input file size is 829, 1222\n",
      "0...10...20...30...40...50...60...70...80...90...100 - done.\n",
      "Done: 0\n",
      "Doing: ASCII\n"
     ]
    },
    {
     "name": "stderr",
     "output_type": "stream",
     "text": [
      "ERROR 4: `SSP126/2021_2040/CNRM-ESM2-1/ASCII' not recognized as a supported file format.\n",
      "Warning 1: for band 1, nodata value has been rounded to -2147483648, Int32 being an integer datatype.\n"
     ]
    },
    {
     "name": "stdout",
     "output_type": "stream",
     "text": [
      "Done: 1\n",
      "Doing: B1.tif\n",
      "Input file size is 829, 1222\n",
      "0...10...20...30...40...50...60...70...80...90...100 - done.\n",
      "Done: 0\n",
      "Doing: B2.tif\n"
     ]
    },
    {
     "name": "stderr",
     "output_type": "stream",
     "text": [
      "Warning 1: for band 1, nodata value has been rounded to -2147483648, Int32 being an integer datatype.\n",
      "Warning 1: for band 1, nodata value has been rounded to -2147483648, Int32 being an integer datatype.\n"
     ]
    },
    {
     "name": "stdout",
     "output_type": "stream",
     "text": [
      "Input file size is 829, 1222\n",
      "0...10...20...30...40...50...60...70...80...90...100 - done.\n",
      "Done: 0\n",
      "Doing: B3.tif\n",
      "Input file size is 829, 1222\n",
      "0...10...20...30...40...50...60...70...80...90...100 - done.\n",
      "Done: 0\n",
      "Doing: B4.tif\n",
      "Input file size is 829, 1222\n",
      "0...10...20...30...40...50"
     ]
    },
    {
     "name": "stderr",
     "output_type": "stream",
     "text": [
      "Warning 1: for band 1, nodata value has been rounded to -2147483648, Int32 being an integer datatype.\n",
      "Warning 1: for band 1, nodata value has been rounded to -2147483648, Int32 being an integer datatype.\n"
     ]
    },
    {
     "name": "stdout",
     "output_type": "stream",
     "text": [
      "...60...70...80...90...100 - done.\n",
      "Done: 0\n",
      "Doing: B5.tif\n",
      "Input file size is 829, 1222\n",
      "0...10...20...30...40...50...60...70...80...90...100 - done.\n",
      "Done: 0\n",
      "Doing: B6.tif\n",
      "Input file size is 829, 1222\n",
      "0...10...20...30...40...50...60...70...80...90..."
     ]
    },
    {
     "name": "stderr",
     "output_type": "stream",
     "text": [
      "Warning 1: for band 1, nodata value has been rounded to -2147483648, Int32 being an integer datatype.\n",
      "Warning 1: for band 1, nodata value has been rounded to -2147483648, Int32 being an integer datatype.\n"
     ]
    },
    {
     "name": "stdout",
     "output_type": "stream",
     "text": [
      "100 - done.\n",
      "Done: 0\n",
      "Doing: B7.tif\n",
      "Input file size is 829, 1222\n",
      "0...10...20...30...40...50...60...70...80...90...100 - done.\n",
      "Done: 0\n",
      "Doing: B8.tif\n"
     ]
    },
    {
     "name": "stderr",
     "output_type": "stream",
     "text": [
      "Warning 1: for band 1, nodata value has been rounded to -2147483648, Int32 being an integer datatype.\n",
      "Warning 1: for band 1, nodata value has been rounded to -2147483648, Int32 being an integer datatype.\n"
     ]
    },
    {
     "name": "stdout",
     "output_type": "stream",
     "text": [
      "Input file size is 829, 1222\n",
      "0...10...20...30...40...50...60...70...80...90...100 - done.\n",
      "Done: 0\n",
      "Doing: B9.tif\n",
      "Input file size is 829, 1222\n",
      "0...10...20...30...40...50...60...70...80...90...100 - done.\n",
      "Done: 0\n",
      "Doing: B10.tif\n",
      "Input file size is 829, 1222\n",
      "0..."
     ]
    },
    {
     "name": "stderr",
     "output_type": "stream",
     "text": [
      "Warning 1: for band 1, nodata value has been rounded to -2147483648, Int32 being an integer datatype.\n",
      "Warning 1: for band 1, nodata value has been rounded to -2147483648, Int32 being an integer datatype.\n"
     ]
    },
    {
     "name": "stdout",
     "output_type": "stream",
     "text": [
      "10...20...30...40...50...60...70...80...90...100 - done.\n",
      "Done: 0\n",
      "Doing: B11.tif\n",
      "Input file size is 829, 1222\n",
      "0...10...20...30...40...50...60...70...80...90...100 - done.\n",
      "Done: 0\n",
      "Doing: B12.tif\n",
      "Input file size is 829, 1222\n",
      "0...10...20...30...40."
     ]
    },
    {
     "name": "stderr",
     "output_type": "stream",
     "text": [
      "Warning 1: for band 1, nodata value has been rounded to -2147483648, Int32 being an integer datatype.\n",
      "Warning 1: for band 1, nodata value has been rounded to -2147483648, Int32 being an integer datatype.\n"
     ]
    },
    {
     "name": "stdout",
     "output_type": "stream",
     "text": [
      "..50...60...70...80...90...100 - done.\n",
      "Done: 0\n",
      "Doing: B13.tif\n",
      "Input file size is 829, 1222\n",
      "0...10...20...30...40...50...60...70...80...90...100 - done.\n",
      "Done: 0\n",
      "Doing: B14.tif\n",
      "Input file size is 829, 1222\n",
      "0...10...20...30...40...50...60...70...80...90"
     ]
    },
    {
     "name": "stderr",
     "output_type": "stream",
     "text": [
      "Warning 1: for band 1, nodata value has been rounded to -2147483648, Int32 being an integer datatype.\n",
      "Warning 1: for band 1, nodata value has been rounded to -2147483648, Int32 being an integer datatype.\n"
     ]
    },
    {
     "name": "stdout",
     "output_type": "stream",
     "text": [
      "...100 - done.\n",
      "Done: 0\n",
      "Doing: B15.tif\n",
      "Input file size is 829, 1222\n",
      "0...10...20...30...40...50...60...70...80...90...100 - done.\n",
      "Done: 0\n",
      "Doing: B16.tif\n",
      "Input file size is 829, 1222\n",
      "0...10...20...30...40...50...60...70"
     ]
    },
    {
     "name": "stderr",
     "output_type": "stream",
     "text": [
      "Warning 1: for band 1, nodata value has been rounded to -2147483648, Int32 being an integer datatype.\n"
     ]
    },
    {
     "name": "stdout",
     "output_type": "stream",
     "text": [
      "...80...90...100 - done.\n",
      "Done: 0\n",
      "Doing: B17.tif\n",
      "Input file size is 829, 1222\n",
      "0...10...20...30...40...50...60...70...80"
     ]
    },
    {
     "name": "stderr",
     "output_type": "stream",
     "text": [
      "Warning 1: for band 1, nodata value has been rounded to -2147483648, Int32 being an integer datatype.\n",
      "Warning 1: for band 1, nodata value has been rounded to -2147483648, Int32 being an integer datatype.\n"
     ]
    },
    {
     "name": "stdout",
     "output_type": "stream",
     "text": [
      "...90...100 - done.\n",
      "Done: 0\n",
      "Doing: B18.tif\n",
      "Input file size is 829, 1222\n",
      "0...10...20...30...40...50...60...70...80...90...100 - done.\n",
      "Done: 0\n",
      "Doing: B19.tif\n",
      "Input file size is 829, 1222\n",
      "0...10...20...30...40...50...60...70...80...90...100 - done.\n",
      "Done: 0\n",
      "Doing: ASCII\n"
     ]
    },
    {
     "name": "stderr",
     "output_type": "stream",
     "text": [
      "Warning 1: for band 1, nodata value has been rounded to -2147483648, Int32 being an integer datatype.\n",
      "ERROR 4: `SSP126/2021_2040/EC-Earth3-Veg/ASCII' not recognized as a supported file format.\n"
     ]
    },
    {
     "name": "stdout",
     "output_type": "stream",
     "text": [
      "Done: 1\n",
      "Doing: B1.tif\n",
      "Input file size is 829, 1222\n",
      "0...10...20...30...40...50...60...70...80...90...100 - done.\n",
      "Done: 0\n",
      "Doing: B2.tif\n"
     ]
    },
    {
     "name": "stderr",
     "output_type": "stream",
     "text": [
      "Warning 1: for band 1, nodata value has been rounded to -2147483648, Int32 being an integer datatype.\n",
      "Warning 1: for band 1, nodata value has been rounded to -2147483648, Int32 being an integer datatype.\n"
     ]
    },
    {
     "name": "stdout",
     "output_type": "stream",
     "text": [
      "Input file size is 829, 1222\n",
      "0...10...20...30...40...50...60...70...80...90...100 - done.\n",
      "Done: 0\n",
      "Doing: B3.tif\n",
      "Input file size is 829, 1222\n",
      "0...10...20."
     ]
    },
    {
     "name": "stderr",
     "output_type": "stream",
     "text": [
      "Warning 1: for band 1, nodata value has been rounded to -2147483648, Int32 being an integer datatype.\n",
      "Warning 1: for band 1, nodata value has been rounded to -2147483648, Int32 being an integer datatype.\n"
     ]
    },
    {
     "name": "stdout",
     "output_type": "stream",
     "text": [
      "..30...40...50...60...70...80...90...100 - done.\n",
      "Done: 0\n",
      "Doing: B4.tif\n",
      "Input file size is 829, 1222\n",
      "0...10...20...30...40...50...60...70...80...90...100 - done.\n",
      "Done: 0\n",
      "Doing: B5.tif\n",
      "Input file size is 829, 1222\n",
      "0...10...20...30...40...50...60...70.."
     ]
    },
    {
     "name": "stderr",
     "output_type": "stream",
     "text": [
      "Warning 1: for band 1, nodata value has been rounded to -2147483648, Int32 being an integer datatype.\n",
      "Warning 1: for band 1, nodata value has been rounded to -2147483648, Int32 being an integer datatype.\n"
     ]
    },
    {
     "name": "stdout",
     "output_type": "stream",
     "text": [
      ".80...90...100 - done.\n",
      "Done: 0\n",
      "Doing: B6.tif\n",
      "Input file size is 829, 1222\n",
      "0...10...20...30...40...50...60...70...80...90...100 - done.\n",
      "Done: 0\n",
      "Doing: B7.tif\n",
      "Input file size is 829, 1222\n",
      "0...10...20...30...40...50...60...70...80...90..."
     ]
    },
    {
     "name": "stderr",
     "output_type": "stream",
     "text": [
      "Warning 1: for band 1, nodata value has been rounded to -2147483648, Int32 being an integer datatype.\n"
     ]
    },
    {
     "name": "stdout",
     "output_type": "stream",
     "text": [
      "100 - done.\n",
      "Done: 0\n",
      "Doing: B8.tif\n",
      "Input file size is 829, 1222\n",
      "0...10...20...30...40...50...60...70...80...90...100 - done.\n",
      "Done: 0\n",
      "Doing: B9.tif\n"
     ]
    },
    {
     "name": "stderr",
     "output_type": "stream",
     "text": [
      "Warning 1: for band 1, nodata value has been rounded to -2147483648, Int32 being an integer datatype.\n",
      "Warning 1: for band 1, nodata value has been rounded to -2147483648, Int32 being an integer datatype.\n"
     ]
    },
    {
     "name": "stdout",
     "output_type": "stream",
     "text": [
      "Input file size is 829, 1222\n",
      "0...10...20...30...40...50...60...70...80...90...100 - done.\n",
      "Done: 0\n",
      "Doing: B10.tif\n",
      "Input file size is 829, 1222\n",
      "0...10...20"
     ]
    },
    {
     "name": "stderr",
     "output_type": "stream",
     "text": [
      "Warning 1: for band 1, nodata value has been rounded to -2147483648, Int32 being an integer datatype.\n",
      "Warning 1: for band 1, nodata value has been rounded to -2147483648, Int32 being an integer datatype.\n"
     ]
    },
    {
     "name": "stdout",
     "output_type": "stream",
     "text": [
      "...30...40...50...60...70...80...90...100 - done.\n",
      "Done: 0\n",
      "Doing: B11.tif\n",
      "Input file size is 829, 1222\n",
      "0...10...20...30...40...50...60...70...80...90...100 - done.\n",
      "Done: 0\n",
      "Doing: B12.tif\n",
      "Input file size is 829, 1222\n",
      "0"
     ]
    },
    {
     "name": "stderr",
     "output_type": "stream",
     "text": [
      "Warning 1: for band 1, nodata value has been rounded to -2147483648, Int32 being an integer datatype.\n"
     ]
    },
    {
     "name": "stdout",
     "output_type": "stream",
     "text": [
      "...10...20...30...40...50...60...70...80...90...100 - done.\n",
      "Done: 0\n",
      "Doing: B13.tif\n",
      "Input file size is 829, 1222\n",
      "0...10...20...30...40...50...60...70..."
     ]
    },
    {
     "name": "stderr",
     "output_type": "stream",
     "text": [
      "Warning 1: for band 1, nodata value has been rounded to -2147483648, Int32 being an integer datatype.\n"
     ]
    },
    {
     "name": "stdout",
     "output_type": "stream",
     "text": [
      "80...90...100 - done.\n",
      "Done: 0\n",
      "Doing: B14.tif\n",
      "Input file size is 829, 1222\n",
      "0...10...20."
     ]
    },
    {
     "name": "stderr",
     "output_type": "stream",
     "text": [
      "Warning 1: for band 1, nodata value has been rounded to -2147483648, Int32 being an integer datatype.\n"
     ]
    },
    {
     "name": "stdout",
     "output_type": "stream",
     "text": [
      "..30...40...50...60...70...80...90...100 - done.\n",
      "Done: 0\n",
      "Doing: B15.tif\n",
      "Input file size is 829, 1222\n",
      "0...10...20...30...40...50."
     ]
    },
    {
     "name": "stderr",
     "output_type": "stream",
     "text": [
      "Warning 1: for band 1, nodata value has been rounded to -2147483648, Int32 being an integer datatype.\n"
     ]
    },
    {
     "name": "stdout",
     "output_type": "stream",
     "text": [
      "..60...70...80...90...100 - done.\n",
      "Done: 0\n",
      "Doing: B16.tif\n",
      "Input file size is 829, 1222\n",
      "0...10...20...30...40..."
     ]
    },
    {
     "name": "stderr",
     "output_type": "stream",
     "text": [
      "Warning 1: for band 1, nodata value has been rounded to -2147483648, Int32 being an integer datatype.\n",
      "Warning 1: for band 1, nodata value has been rounded to -2147483648, Int32 being an integer datatype.\n"
     ]
    },
    {
     "name": "stdout",
     "output_type": "stream",
     "text": [
      "50...60...70...80...90...100 - done.\n",
      "Done: 0\n",
      "Doing: B17.tif\n",
      "Input file size is 829, 1222\n",
      "0...10...20...30...40...50...60...70...80...90...100 - done.\n",
      "Done: 0\n",
      "Doing: B18.tif\n",
      "Input file size is 829, 1222\n",
      "0...10...20...30...40...50..."
     ]
    },
    {
     "name": "stderr",
     "output_type": "stream",
     "text": [
      "Warning 1: for band 1, nodata value has been rounded to -2147483648, Int32 being an integer datatype.\n"
     ]
    },
    {
     "name": "stdout",
     "output_type": "stream",
     "text": [
      "60...70...80...90...100 - done.\n",
      "Done: 0\n",
      "Doing: B19.tif\n",
      "Input file size is 829, 1222\n",
      "0...10...20...30...40...50...60...70..."
     ]
    },
    {
     "name": "stderr",
     "output_type": "stream",
     "text": [
      "Warning 1: for band 1, nodata value has been rounded to -2147483648, Int32 being an integer datatype.\n",
      "ERROR 4: `SSP126/2021_2040/EC-Earth3-Veg-LR/ASCII' not recognized as a supported file format.\n"
     ]
    },
    {
     "name": "stdout",
     "output_type": "stream",
     "text": [
      "80...90...100 - done.\n",
      "Done: 0\n",
      "Doing: ASCII\n",
      "Done: 1\n",
      "Doing: B1.tif\n",
      "Input file size is 829, 1222\n",
      "0"
     ]
    },
    {
     "name": "stderr",
     "output_type": "stream",
     "text": [
      "Warning 1: for band 1, nodata value has been rounded to -2147483648, Int32 being an integer datatype.\n"
     ]
    },
    {
     "name": "stdout",
     "output_type": "stream",
     "text": [
      "...10...20...30...40...50...60...70...80...90...100 - done.\n",
      "Done: 0\n",
      "Doing: B2.tif\n"
     ]
    },
    {
     "name": "stderr",
     "output_type": "stream",
     "text": [
      "Warning 1: for band 1, nodata value has been rounded to -2147483648, Int32 being an integer datatype.\n",
      "Warning 1: for band 1, nodata value has been rounded to -2147483648, Int32 being an integer datatype.\n"
     ]
    },
    {
     "name": "stdout",
     "output_type": "stream",
     "text": [
      "Input file size is 829, 1222\n",
      "0...10...20...30...40...50...60...70...80...90...100 - done.\n",
      "Done: 0\n",
      "Doing: B3.tif\n",
      "Input file size is 829, 1222\n",
      "0...10...20...30...40...50...60...70...80...90...100 - done.\n",
      "Done: 0\n",
      "Doing: B4.tif\n",
      "Input file size is 829, 1222\n",
      "0...10...20.."
     ]
    },
    {
     "name": "stderr",
     "output_type": "stream",
     "text": [
      "Warning 1: for band 1, nodata value has been rounded to -2147483648, Int32 being an integer datatype.\n"
     ]
    },
    {
     "name": "stdout",
     "output_type": "stream",
     "text": [
      ".30...40...50...60...70...80...90...100 - done.\n",
      "Done: 0\n",
      "Doing: B5.tif\n",
      "Input file size is 829, 1222\n",
      "0...10.."
     ]
    },
    {
     "name": "stderr",
     "output_type": "stream",
     "text": [
      "Warning 1: for band 1, nodata value has been rounded to -2147483648, Int32 being an integer datatype.\n",
      "Warning 1: for band 1, nodata value has been rounded to -2147483648, Int32 being an integer datatype.\n"
     ]
    },
    {
     "name": "stdout",
     "output_type": "stream",
     "text": [
      ".20...30...40...50...60...70...80...90...100 - done.\n",
      "Done: 0\n",
      "Doing: B6.tif\n",
      "Input file size is 829, 1222\n",
      "0...10...20...30...40...50...60...70...80...90...100 - done.\n",
      "Done: 0\n",
      "Doing: B7.tif\n",
      "Input file size is 829, 1222\n",
      "0...10...20...30...40...50...60."
     ]
    },
    {
     "name": "stderr",
     "output_type": "stream",
     "text": [
      "Warning 1: for band 1, nodata value has been rounded to -2147483648, Int32 being an integer datatype.\n",
      "Warning 1: for band 1, nodata value has been rounded to -2147483648, Int32 being an integer datatype.\n"
     ]
    },
    {
     "name": "stdout",
     "output_type": "stream",
     "text": [
      "..70...80...90...100 - done.\n",
      "Done: 0\n",
      "Doing: B8.tif\n",
      "Input file size is 829, 1222\n",
      "0...10...20...30...40...50...60...70...80...90...100 - done.\n",
      "Done: 0\n",
      "Doing: B9.tif\n",
      "Input file size is 829, 1222\n",
      "0...10...20...30...40...50...60...70...80..."
     ]
    },
    {
     "name": "stderr",
     "output_type": "stream",
     "text": [
      "Warning 1: for band 1, nodata value has been rounded to -2147483648, Int32 being an integer datatype.\n",
      "Warning 1: for band 1, nodata value has been rounded to -2147483648, Int32 being an integer datatype.\n"
     ]
    },
    {
     "name": "stdout",
     "output_type": "stream",
     "text": [
      "90...100 - done.\n",
      "Done: 0\n",
      "Doing: B10.tif\n",
      "Input file size is 829, 1222\n",
      "0...10...20...30...40...50...60...70...80...90...100 - done.\n",
      "Done: 0\n",
      "Doing: B11.tif\n",
      "Input file size is 829, 1222\n",
      "0...10...20...30...40...50...60...70...80...90...100 - done.\n",
      "Done: 0\n",
      "Doing: B12.tif\n"
     ]
    },
    {
     "name": "stderr",
     "output_type": "stream",
     "text": [
      "Warning 1: for band 1, nodata value has been rounded to -2147483648, Int32 being an integer datatype.\n",
      "Warning 1: for band 1, nodata value has been rounded to -2147483648, Int32 being an integer datatype.\n"
     ]
    },
    {
     "name": "stdout",
     "output_type": "stream",
     "text": [
      "Input file size is 829, 1222\n",
      "0...10...20...30...40...50...60...70...80...90...100 - done.\n",
      "Done: 0\n",
      "Doing: B13.tif\n",
      "Input file size is 829, 1222\n",
      "0...10...20.."
     ]
    },
    {
     "name": "stderr",
     "output_type": "stream",
     "text": [
      "Warning 1: for band 1, nodata value has been rounded to -2147483648, Int32 being an integer datatype.\n",
      "Warning 1: for band 1, nodata value has been rounded to -2147483648, Int32 being an integer datatype.\n"
     ]
    },
    {
     "name": "stdout",
     "output_type": "stream",
     "text": [
      ".30...40...50...60...70...80...90...100 - done.\n",
      "Done: 0\n",
      "Doing: B14.tif\n",
      "Input file size is 829, 1222\n",
      "0...10...20...30...40...50...60...70...80...90...100 - done.\n",
      "Done: 0\n",
      "Doing: B15.tif\n",
      "Input file size is 829, 1222\n",
      "0...10...20...30...40...50...60...70...80"
     ]
    },
    {
     "name": "stderr",
     "output_type": "stream",
     "text": [
      "Warning 1: for band 1, nodata value has been rounded to -2147483648, Int32 being an integer datatype.\n",
      "Warning 1: for band 1, nodata value has been rounded to -2147483648, Int32 being an integer datatype.\n"
     ]
    },
    {
     "name": "stdout",
     "output_type": "stream",
     "text": [
      "...90...100 - done.\n",
      "Done: 0\n",
      "Doing: B16.tif\n",
      "Input file size is 829, 1222\n",
      "0...10...20...30...40...50...60...70...80...90...100 - done.\n",
      "Done: 0\n",
      "Doing: B17.tif\n",
      "Input file size is 829, 1222\n",
      "0...10...20...30...40...50...60...70...80.."
     ]
    },
    {
     "name": "stderr",
     "output_type": "stream",
     "text": [
      "Warning 1: for band 1, nodata value has been rounded to -2147483648, Int32 being an integer datatype.\n",
      "Warning 1: for band 1, nodata value has been rounded to -2147483648, Int32 being an integer datatype.\n"
     ]
    },
    {
     "name": "stdout",
     "output_type": "stream",
     "text": [
      ".90...100 - done.\n",
      "Done: 0\n",
      "Doing: B18.tif\n",
      "Input file size is 829, 1222\n",
      "0...10...20...30...40...50...60...70...80...90...100 - done.\n",
      "Done: 0\n",
      "Doing: B19.tif\n",
      "Input file size is 829, 1222\n",
      "0...10...20...30...40...50...60...70...80...90...100 - done.\n",
      "Done: 0\n",
      "Doing: ASCII\n"
     ]
    },
    {
     "name": "stderr",
     "output_type": "stream",
     "text": [
      "Warning 1: for band 1, nodata value has been rounded to -2147483648, Int32 being an integer datatype.\n",
      "ERROR 4: `SSP126/2021_2040/FIO-ESM-2-0/ASCII' not recognized as a supported file format.\n"
     ]
    },
    {
     "name": "stdout",
     "output_type": "stream",
     "text": [
      "Done: 1\n",
      "Doing: B1.tif\n",
      "Input file size is 829, 1222\n",
      "0...10...20...30...40...50...60...70...80...90...100 - done.\n",
      "Done: 0\n",
      "Doing: B2.tif\n"
     ]
    },
    {
     "name": "stderr",
     "output_type": "stream",
     "text": [
      "Warning 1: for band 1, nodata value has been rounded to -2147483648, Int32 being an integer datatype.\n",
      "Warning 1: for band 1, nodata value has been rounded to -2147483648, Int32 being an integer datatype.\n"
     ]
    },
    {
     "name": "stdout",
     "output_type": "stream",
     "text": [
      "Input file size is 829, 1222\n",
      "0...10...20...30...40...50...60...70...80...90...100 - done.\n",
      "Done: 0\n",
      "Doing: B3.tif\n",
      "Input file size is 829, 1222\n",
      "0...10"
     ]
    },
    {
     "name": "stderr",
     "output_type": "stream",
     "text": [
      "Warning 1: for band 1, nodata value has been rounded to -2147483648, Int32 being an integer datatype.\n"
     ]
    },
    {
     "name": "stdout",
     "output_type": "stream",
     "text": [
      "...20...30...40...50...60...70...80...90...100 - done.\n",
      "Done: 0\n",
      "Doing: B4.tif\n",
      "Input file size is 829, 1222\n",
      "0...10...20...30...40...50...60...70...80...90...100 - done.\n",
      "Done: 0\n",
      "Doing: B5.tif\n"
     ]
    },
    {
     "name": "stderr",
     "output_type": "stream",
     "text": [
      "Warning 1: for band 1, nodata value has been rounded to -2147483648, Int32 being an integer datatype.\n",
      "Warning 1: for band 1, nodata value has been rounded to -2147483648, Int32 being an integer datatype.\n"
     ]
    },
    {
     "name": "stdout",
     "output_type": "stream",
     "text": [
      "Input file size is 829, 1222\n",
      "0...10...20...30...40...50...60...70...80...90...100 - done.\n",
      "Done: 0\n",
      "Doing: B6.tif\n",
      "Input file size is 829, 1222\n",
      "0...10...20."
     ]
    },
    {
     "name": "stderr",
     "output_type": "stream",
     "text": [
      "Warning 1: for band 1, nodata value has been rounded to -2147483648, Int32 being an integer datatype.\n",
      "Warning 1: for band 1, nodata value has been rounded to -2147483648, Int32 being an integer datatype.\n"
     ]
    },
    {
     "name": "stdout",
     "output_type": "stream",
     "text": [
      "..30...40...50...60...70...80...90...100 - done.\n",
      "Done: 0\n",
      "Doing: B7.tif\n",
      "Input file size is 829, 1222\n",
      "0...10...20...30...40...50...60...70...80...90...100 - done.\n",
      "Done: 0\n",
      "Doing: B8.tif\n",
      "Input file size is 829, 1222\n",
      "0...10...20...30...40...50."
     ]
    },
    {
     "name": "stderr",
     "output_type": "stream",
     "text": [
      "Warning 1: for band 1, nodata value has been rounded to -2147483648, Int32 being an integer datatype.\n",
      "Warning 1: for band 1, nodata value has been rounded to -2147483648, Int32 being an integer datatype.\n"
     ]
    },
    {
     "name": "stdout",
     "output_type": "stream",
     "text": [
      "..60...70...80...90...100 - done.\n",
      "Done: 0\n",
      "Doing: B9.tif\n",
      "Input file size is 829, 1222\n",
      "0...10...20...30...40...50...60...70...80...90...100 - done.\n",
      "Done: 0\n",
      "Doing: B10.tif\n",
      "Input file size is 829, 1222\n",
      "0...10...20..."
     ]
    },
    {
     "name": "stderr",
     "output_type": "stream",
     "text": [
      "Warning 1: for band 1, nodata value has been rounded to -2147483648, Int32 being an integer datatype.\n"
     ]
    },
    {
     "name": "stdout",
     "output_type": "stream",
     "text": [
      "30...40...50...60...70...80...90...100 - done.\n",
      "Done: 0\n",
      "Doing: B11.tif\n"
     ]
    },
    {
     "name": "stderr",
     "output_type": "stream",
     "text": [
      "Warning 1: for band 1, nodata value has been rounded to -2147483648, Int32 being an integer datatype.\n",
      "Warning 1: for band 1, nodata value has been rounded to -2147483648, Int32 being an integer datatype.\n"
     ]
    },
    {
     "name": "stdout",
     "output_type": "stream",
     "text": [
      "Input file size is 829, 1222\n",
      "0...10...20...30...40...50...60...70...80...90...100 - done.\n",
      "Done: 0\n",
      "Doing: B12.tif\n",
      "Input file size is 829, 1222\n",
      "0...10...20...30...40...50...60...70...80...90...100 - done.\n",
      "Done: 0\n",
      "Doing: B13.tif\n",
      "Input file size is 829, 1222\n",
      "0...10...20...30...40...50.."
     ]
    },
    {
     "name": "stderr",
     "output_type": "stream",
     "text": [
      "Warning 1: for band 1, nodata value has been rounded to -2147483648, Int32 being an integer datatype.\n",
      "Warning 1: for band 1, nodata value has been rounded to -2147483648, Int32 being an integer datatype.\n"
     ]
    },
    {
     "name": "stdout",
     "output_type": "stream",
     "text": [
      ".60...70...80...90...100 - done.\n",
      "Done: 0\n",
      "Doing: B14.tif\n",
      "Input file size is 829, 1222\n",
      "0...10...20...30...40...50...60...70...80...90...100 - done.\n",
      "Done: 0\n",
      "Doing: B15.tif\n",
      "Input file size is 829, 1222\n",
      "0...10...20...30...40...50...60...70...80...90..."
     ]
    },
    {
     "name": "stderr",
     "output_type": "stream",
     "text": [
      "Warning 1: for band 1, nodata value has been rounded to -2147483648, Int32 being an integer datatype.\n",
      "Warning 1: for band 1, nodata value has been rounded to -2147483648, Int32 being an integer datatype.\n"
     ]
    },
    {
     "name": "stdout",
     "output_type": "stream",
     "text": [
      "100 - done.\n",
      "Done: 0\n",
      "Doing: B16.tif\n",
      "Input file size is 829, 1222\n",
      "0...10...20...30...40...50...60...70...80...90...100 - done.\n",
      "Done: 0\n",
      "Doing: B17.tif\n"
     ]
    },
    {
     "name": "stderr",
     "output_type": "stream",
     "text": [
      "Warning 1: for band 1, nodata value has been rounded to -2147483648, Int32 being an integer datatype.\n",
      "Warning 1: for band 1, nodata value has been rounded to -2147483648, Int32 being an integer datatype.\n"
     ]
    },
    {
     "name": "stdout",
     "output_type": "stream",
     "text": [
      "Input file size is 829, 1222\n",
      "0...10...20...30...40...50...60...70...80...90...100 - done.\n",
      "Done: 0\n",
      "Doing: B18.tif\n",
      "Input file size is 829, 1222\n",
      "0...10...20...30...40...50...60...70...80...90...100 - done.\n",
      "Done: 0\n",
      "Doing: B19.tif\n",
      "Input file size is 829, 1222\n",
      "0...10...20...30.."
     ]
    },
    {
     "name": "stderr",
     "output_type": "stream",
     "text": [
      "Warning 1: for band 1, nodata value has been rounded to -2147483648, Int32 being an integer datatype.\n",
      "ERROR 4: `SSP126/2021_2040/GISS-E2-1-G/ASCII' not recognized as a supported file format.\n"
     ]
    },
    {
     "name": "stdout",
     "output_type": "stream",
     "text": [
      ".40...50...60...70...80...90...100 - done.\n",
      "Done: 0\n",
      "Doing: ASCII\n",
      "Done: 1\n",
      "Doing: B1.tif\n",
      "Input file size is 829, 1222\n",
      "0..."
     ]
    },
    {
     "name": "stderr",
     "output_type": "stream",
     "text": [
      "Warning 1: for band 1, nodata value has been rounded to -2147483648, Int32 being an integer datatype.\n",
      "Warning 1: for band 1, nodata value has been rounded to -2147483648, Int32 being an integer datatype.\n"
     ]
    },
    {
     "name": "stdout",
     "output_type": "stream",
     "text": [
      "10...20...30...40...50...60...70...80...90...100 - done.\n",
      "Done: 0\n",
      "Doing: B2.tif\n",
      "Input file size is 829, 1222\n",
      "0...10...20...30...40...50...60...70...80...90...100 - done.\n",
      "Done: 0\n",
      "Doing: B3.tif\n",
      "Input file size is 829, 1222\n",
      "0...10...20...30...40...50...60..."
     ]
    },
    {
     "name": "stderr",
     "output_type": "stream",
     "text": [
      "Warning 1: for band 1, nodata value has been rounded to -2147483648, Int32 being an integer datatype.\n",
      "Warning 1: for band 1, nodata value has been rounded to -2147483648, Int32 being an integer datatype.\n"
     ]
    },
    {
     "name": "stdout",
     "output_type": "stream",
     "text": [
      "70...80...90...100 - done.\n",
      "Done: 0\n",
      "Doing: B4.tif\n",
      "Input file size is 829, 1222\n",
      "0...10...20...30...40...50...60...70...80...90...100 - done.\n",
      "Done: 0\n",
      "Doing: B5.tif\n",
      "Input file size is 829, 1222\n",
      "0...10...20...30...40...50...60...70...80...90...100 - done.\n"
     ]
    },
    {
     "name": "stderr",
     "output_type": "stream",
     "text": [
      "Warning 1: for band 1, nodata value has been rounded to -2147483648, Int32 being an integer datatype.\n",
      "Warning 1: for band 1, nodata value has been rounded to -2147483648, Int32 being an integer datatype.\n"
     ]
    },
    {
     "name": "stdout",
     "output_type": "stream",
     "text": [
      "Done: 0\n",
      "Doing: B6.tif\n",
      "Input file size is 829, 1222\n",
      "0...10...20...30...40...50...60...70...80...90...100 - done.\n",
      "Done: 0\n",
      "Doing: B7.tif\n",
      "Input file size is 829, 1222\n",
      "0...10...20...30...40...50...60...70...80.."
     ]
    },
    {
     "name": "stderr",
     "output_type": "stream",
     "text": [
      "Warning 1: for band 1, nodata value has been rounded to -2147483648, Int32 being an integer datatype.\n",
      "Warning 1: for band 1, nodata value has been rounded to -2147483648, Int32 being an integer datatype.\n"
     ]
    },
    {
     "name": "stdout",
     "output_type": "stream",
     "text": [
      ".90...100 - done.\n",
      "Done: 0\n",
      "Doing: B8.tif\n",
      "Input file size is 829, 1222\n",
      "0...10...20...30...40...50...60...70...80...90...100 - done.\n",
      "Done: 0\n",
      "Doing: B9.tif\n",
      "Input file size is 829, 1222\n",
      "0...10...20...30...40...50...60...70...80...90...100 - done.\n",
      "Done: 0\n",
      "Doing: B10.tif\n"
     ]
    },
    {
     "name": "stderr",
     "output_type": "stream",
     "text": [
      "Warning 1: for band 1, nodata value has been rounded to -2147483648, Int32 being an integer datatype.\n",
      "Warning 1: for band 1, nodata value has been rounded to -2147483648, Int32 being an integer datatype.\n"
     ]
    },
    {
     "name": "stdout",
     "output_type": "stream",
     "text": [
      "Input file size is 829, 1222\n",
      "0...10...20...30...40...50...60...70...80...90...100 - done.\n",
      "Done: 0\n",
      "Doing: B11.tif\n",
      "Input file size is 829, 1222\n",
      "0...10...20..."
     ]
    },
    {
     "name": "stderr",
     "output_type": "stream",
     "text": [
      "Warning 1: for band 1, nodata value has been rounded to -2147483648, Int32 being an integer datatype.\n",
      "Warning 1: for band 1, nodata value has been rounded to -2147483648, Int32 being an integer datatype.\n"
     ]
    },
    {
     "name": "stdout",
     "output_type": "stream",
     "text": [
      "30...40...50...60...70...80...90...100 - done.\n",
      "Done: 0\n",
      "Doing: B12.tif\n",
      "Input file size is 829, 1222\n",
      "0...10...20...30...40...50...60...70...80...90...100 - done.\n",
      "Done: 0\n",
      "Doing: B13.tif\n",
      "Input file size is 829, 1222\n",
      "0...10...20...30...40...50...60...70...80.."
     ]
    },
    {
     "name": "stderr",
     "output_type": "stream",
     "text": [
      "Warning 1: for band 1, nodata value has been rounded to -2147483648, Int32 being an integer datatype.\n",
      "Warning 1: for band 1, nodata value has been rounded to -2147483648, Int32 being an integer datatype.\n"
     ]
    },
    {
     "name": "stdout",
     "output_type": "stream",
     "text": [
      ".90...100 - done.\n",
      "Done: 0\n",
      "Doing: B14.tif\n",
      "Input file size is 829, 1222\n",
      "0...10...20...30...40...50...60...70...80...90...100 - done.\n",
      "Done: 0\n",
      "Doing: B15.tif\n",
      "Input file size is 829, 1222\n",
      "0...10...20...30...40...50...60...70...80...90...100 - done.\n",
      "Done: 0\n",
      "Doing: B16.tif\n"
     ]
    },
    {
     "name": "stderr",
     "output_type": "stream",
     "text": [
      "Warning 1: for band 1, nodata value has been rounded to -2147483648, Int32 being an integer datatype.\n",
      "Warning 1: for band 1, nodata value has been rounded to -2147483648, Int32 being an integer datatype.\n"
     ]
    },
    {
     "name": "stdout",
     "output_type": "stream",
     "text": [
      "Input file size is 829, 1222\n",
      "0...10...20...30...40...50...60...70...80...90...100 - done.\n",
      "Done: 0\n",
      "Doing: B17.tif\n",
      "Input file size is 829, 1222\n",
      "0...10"
     ]
    },
    {
     "name": "stderr",
     "output_type": "stream",
     "text": [
      "Warning 1: for band 1, nodata value has been rounded to -2147483648, Int32 being an integer datatype.\n"
     ]
    },
    {
     "name": "stdout",
     "output_type": "stream",
     "text": [
      "...20...30...40...50...60...70...80...90...100 - done.\n",
      "Done: 0\n",
      "Doing: B18.tif\n",
      "Input file size is 829, 1222\n",
      "0...10...20...30...40...50...60...70...80...90..."
     ]
    },
    {
     "name": "stderr",
     "output_type": "stream",
     "text": [
      "Warning 1: for band 1, nodata value has been rounded to -2147483648, Int32 being an integer datatype.\n"
     ]
    },
    {
     "name": "stdout",
     "output_type": "stream",
     "text": [
      "100 - done.\n",
      "Done: 0\n",
      "Doing: B19.tif\n",
      "Input file size is 829, 1222\n",
      "0...10...20...30...40...50...60...70...80...90...100 - done.\n",
      "Done: 0\n",
      "Doing: ASCII\n"
     ]
    },
    {
     "name": "stderr",
     "output_type": "stream",
     "text": [
      "Warning 1: for band 1, nodata value has been rounded to -2147483648, Int32 being an integer datatype.\n",
      "ERROR 4: `SSP126/2021_2040/GISS-E2-1-H/ASCII' not recognized as a supported file format.\n"
     ]
    },
    {
     "name": "stdout",
     "output_type": "stream",
     "text": [
      "Done: 1\n",
      "Doing: B1.tif\n",
      "Input file size is 829, 1222\n",
      "0...10...20...30...40...50...60...70...80...90...100 - done.\n",
      "Done: 0\n",
      "Doing: B2.tif\n"
     ]
    },
    {
     "name": "stderr",
     "output_type": "stream",
     "text": [
      "Warning 1: for band 1, nodata value has been rounded to -2147483648, Int32 being an integer datatype.\n",
      "Warning 1: for band 1, nodata value has been rounded to -2147483648, Int32 being an integer datatype.\n"
     ]
    },
    {
     "name": "stdout",
     "output_type": "stream",
     "text": [
      "Input file size is 829, 1222\n",
      "0...10...20...30...40...50...60...70...80...90...100 - done.\n",
      "Done: 0\n",
      "Doing: B3.tif\n",
      "Input file size is 829, 1222\n",
      "0...10..."
     ]
    },
    {
     "name": "stderr",
     "output_type": "stream",
     "text": [
      "Warning 1: for band 1, nodata value has been rounded to -2147483648, Int32 being an integer datatype.\n",
      "Warning 1: for band 1, nodata value has been rounded to -2147483648, Int32 being an integer datatype.\n"
     ]
    },
    {
     "name": "stdout",
     "output_type": "stream",
     "text": [
      "20...30...40...50...60...70...80...90...100 - done.\n",
      "Done: 0\n",
      "Doing: B4.tif\n",
      "Input file size is 829, 1222\n",
      "0...10...20...30...40...50...60...70...80...90...100 - done.\n",
      "Done: 0\n",
      "Doing: B5.tif\n",
      "Input file size is 829, 1222\n",
      "0...10...20...30..."
     ]
    },
    {
     "name": "stderr",
     "output_type": "stream",
     "text": [
      "Warning 1: for band 1, nodata value has been rounded to -2147483648, Int32 being an integer datatype.\n"
     ]
    },
    {
     "name": "stdout",
     "output_type": "stream",
     "text": [
      "40...50...60...70...80...90...100 - done.\n",
      "Done: 0\n",
      "Doing: B6.tif\n",
      "Input file size is 829, 1222\n",
      "0...10...20.."
     ]
    },
    {
     "name": "stderr",
     "output_type": "stream",
     "text": [
      "Warning 1: for band 1, nodata value has been rounded to -2147483648, Int32 being an integer datatype.\n",
      "Warning 1: for band 1, nodata value has been rounded to -2147483648, Int32 being an integer datatype.\n"
     ]
    },
    {
     "name": "stdout",
     "output_type": "stream",
     "text": [
      ".30...40...50...60...70...80...90...100 - done.\n",
      "Done: 0\n",
      "Doing: B7.tif\n",
      "Input file size is 829, 1222\n",
      "0...10...20...30...40...50...60...70...80...90...100 - done.\n",
      "Done: 0\n",
      "Doing: B8.tif\n",
      "Input file size is 829, 1222\n",
      "0...10...20...30...40...50...60.."
     ]
    },
    {
     "name": "stderr",
     "output_type": "stream",
     "text": [
      "Warning 1: for band 1, nodata value has been rounded to -2147483648, Int32 being an integer datatype.\n",
      "Warning 1: for band 1, nodata value has been rounded to -2147483648, Int32 being an integer datatype.\n"
     ]
    },
    {
     "name": "stdout",
     "output_type": "stream",
     "text": [
      ".70...80...90...100 - done.\n",
      "Done: 0\n",
      "Doing: B9.tif\n",
      "Input file size is 829, 1222\n",
      "0...10...20...30...40...50...60...70...80...90...100 - done.\n",
      "Done: 0\n",
      "Doing: B10.tif\n",
      "Input file size is 829, 1222\n",
      "0...10...20...30...40...50...60...70...80...90..."
     ]
    },
    {
     "name": "stderr",
     "output_type": "stream",
     "text": [
      "Warning 1: for band 1, nodata value has been rounded to -2147483648, Int32 being an integer datatype.\n",
      "Warning 1: for band 1, nodata value has been rounded to -2147483648, Int32 being an integer datatype.\n"
     ]
    },
    {
     "name": "stdout",
     "output_type": "stream",
     "text": [
      "100 - done.\n",
      "Done: 0\n",
      "Doing: B11.tif\n",
      "Input file size is 829, 1222\n",
      "0...10...20...30...40...50...60...70...80...90...100 - done.\n",
      "Done: 0\n",
      "Doing: B12.tif\n"
     ]
    },
    {
     "name": "stderr",
     "output_type": "stream",
     "text": [
      "Warning 1: for band 1, nodata value has been rounded to -2147483648, Int32 being an integer datatype.\n",
      "Warning 1: for band 1, nodata value has been rounded to -2147483648, Int32 being an integer datatype.\n"
     ]
    },
    {
     "name": "stdout",
     "output_type": "stream",
     "text": [
      "Input file size is 829, 1222\n",
      "0...10...20...30...40...50...60...70...80...90...100 - done.\n",
      "Done: 0\n",
      "Doing: B13.tif\n",
      "Input file size is 829, 1222\n",
      "0...10...20...30...40...50...60...70...80...90...100 - done.\n",
      "Done: 0\n",
      "Doing: B14.tif\n",
      "Input file size is 829, 1222\n",
      "0...10"
     ]
    },
    {
     "name": "stderr",
     "output_type": "stream",
     "text": [
      "Warning 1: for band 1, nodata value has been rounded to -2147483648, Int32 being an integer datatype.\n",
      "Warning 1: for band 1, nodata value has been rounded to -2147483648, Int32 being an integer datatype.\n"
     ]
    },
    {
     "name": "stdout",
     "output_type": "stream",
     "text": [
      "...20...30...40...50...60...70...80...90...100 - done.\n",
      "Done: 0\n",
      "Doing: B15.tif\n",
      "Input file size is 829, 1222\n",
      "0...10...20...30...40...50...60...70...80...90...100 - done.\n",
      "Done: 0\n",
      "Doing: B16.tif\n",
      "Input file size is 829, 1222\n",
      "0...10...20...30...40.."
     ]
    },
    {
     "name": "stderr",
     "output_type": "stream",
     "text": [
      "Warning 1: for band 1, nodata value has been rounded to -2147483648, Int32 being an integer datatype.\n",
      "Warning 1: for band 1, nodata value has been rounded to -2147483648, Int32 being an integer datatype.\n"
     ]
    },
    {
     "name": "stdout",
     "output_type": "stream",
     "text": [
      ".50...60...70...80...90...100 - done.\n",
      "Done: 0\n",
      "Doing: B17.tif\n",
      "Input file size is 829, 1222\n",
      "0...10...20...30...40...50...60...70...80...90...100 - done.\n",
      "Done: 0\n",
      "Doing: B18.tif\n",
      "Input file size is 829, 1222\n",
      "0...10...20...30...40...50...60...70...80..."
     ]
    },
    {
     "name": "stderr",
     "output_type": "stream",
     "text": [
      "Warning 1: for band 1, nodata value has been rounded to -2147483648, Int32 being an integer datatype.\n",
      "Warning 1: for band 1, nodata value has been rounded to -2147483648, Int32 being an integer datatype.\n"
     ]
    },
    {
     "name": "stdout",
     "output_type": "stream",
     "text": [
      "90...100 - done.\n",
      "Done: 0\n",
      "Doing: B19.tif\n",
      "Input file size is 829, 1222\n",
      "0...10...20...30...40...50...60...70...80...90...100 - done.\n",
      "Done: 0\n",
      "Doing: ASCII\n",
      "Done: 1\n",
      "Doing: B1.tif\n",
      "Input file size is 829, 1222\n",
      "0...10...20...30...40...50...60...70...80...90"
     ]
    },
    {
     "name": "stderr",
     "output_type": "stream",
     "text": [
      "ERROR 4: `SSP126/2021_2040/HadGEM3-GC31-LL/ASCII' not recognized as a supported file format.\n",
      "Warning 1: for band 1, nodata value has been rounded to -2147483648, Int32 being an integer datatype.\n"
     ]
    },
    {
     "name": "stdout",
     "output_type": "stream",
     "text": [
      "...100 - done.\n",
      "Done: 0\n",
      "Doing: B2.tif\n",
      "Input file size is 829, 1222\n",
      "0...10...20...30...40...50...60...70...80...90..."
     ]
    },
    {
     "name": "stderr",
     "output_type": "stream",
     "text": [
      "Warning 1: for band 1, nodata value has been rounded to -2147483648, Int32 being an integer datatype.\n",
      "Warning 1: for band 1, nodata value has been rounded to -2147483648, Int32 being an integer datatype.\n"
     ]
    },
    {
     "name": "stdout",
     "output_type": "stream",
     "text": [
      "100 - done.\n",
      "Done: 0\n",
      "Doing: B3.tif\n",
      "Input file size is 829, 1222\n",
      "0...10...20...30...40...50...60...70...80...90...100 - done.\n",
      "Done: 0\n",
      "Doing: B4.tif\n",
      "Input file size is 829, 1222\n",
      "0...10...20...30...40...50...60...70...80...90...100 - done.\n",
      "Done: 0\n",
      "Doing: B5.tif\n"
     ]
    },
    {
     "name": "stderr",
     "output_type": "stream",
     "text": [
      "Warning 1: for band 1, nodata value has been rounded to -2147483648, Int32 being an integer datatype.\n",
      "Warning 1: for band 1, nodata value has been rounded to -2147483648, Int32 being an integer datatype.\n"
     ]
    },
    {
     "name": "stdout",
     "output_type": "stream",
     "text": [
      "Input file size is 829, 1222\n",
      "0...10...20...30...40...50...60...70...80...90...100 - done.\n",
      "Done: 0\n",
      "Doing: B6.tif\n",
      "Input file size is 829, 1222\n",
      "0...10...20...30...40...50...60...70...80...90..."
     ]
    },
    {
     "name": "stderr",
     "output_type": "stream",
     "text": [
      "Warning 1: for band 1, nodata value has been rounded to -2147483648, Int32 being an integer datatype.\n",
      "Warning 1: for band 1, nodata value has been rounded to -2147483648, Int32 being an integer datatype.\n"
     ]
    },
    {
     "name": "stdout",
     "output_type": "stream",
     "text": [
      "100 - done.\n",
      "Done: 0\n",
      "Doing: B7.tif\n",
      "Input file size is 829, 1222\n",
      "0...10...20...30...40...50...60...70...80...90...100 - done.\n",
      "Done: 0\n",
      "Doing: B8.tif\n"
     ]
    },
    {
     "name": "stderr",
     "output_type": "stream",
     "text": [
      "Warning 1: for band 1, nodata value has been rounded to -2147483648, Int32 being an integer datatype.\n"
     ]
    },
    {
     "name": "stdout",
     "output_type": "stream",
     "text": [
      "Input file size is 829, 1222\n",
      "0...10...20...30...40...50...60...70...80...90...100 - done.\n",
      "Done: 0\n",
      "Doing: B9.tif\n",
      "Input file size is 829, 1222\n",
      "0...10...20...30...40...50...60.."
     ]
    },
    {
     "name": "stderr",
     "output_type": "stream",
     "text": [
      "Warning 1: for band 1, nodata value has been rounded to -2147483648, Int32 being an integer datatype.\n",
      "Warning 1: for band 1, nodata value has been rounded to -2147483648, Int32 being an integer datatype.\n"
     ]
    },
    {
     "name": "stdout",
     "output_type": "stream",
     "text": [
      ".70...80...90...100 - done.\n",
      "Done: 0\n",
      "Doing: B10.tif\n",
      "Input file size is 829, 1222\n",
      "0...10...20...30...40...50...60...70...80...90...100 - done.\n",
      "Done: 0\n",
      "Doing: B11.tif\n",
      "Input file size is 829, 1222\n",
      "0...10...20...30...40...50...60...70...80...90..."
     ]
    },
    {
     "name": "stderr",
     "output_type": "stream",
     "text": [
      "Warning 1: for band 1, nodata value has been rounded to -2147483648, Int32 being an integer datatype.\n",
      "Warning 1: for band 1, nodata value has been rounded to -2147483648, Int32 being an integer datatype.\n"
     ]
    },
    {
     "name": "stdout",
     "output_type": "stream",
     "text": [
      "100 - done.\n",
      "Done: 0\n",
      "Doing: B12.tif\n",
      "Input file size is 829, 1222\n",
      "0...10...20...30...40...50...60...70...80...90...100 - done.\n",
      "Done: 0\n",
      "Doing: B13.tif\n",
      "Input file size is 829, 1222\n",
      "0...10...20...30...40...50...60...70...80...90...100 - done.\n",
      "Done: 0\n",
      "Doing: B14.tif\n"
     ]
    },
    {
     "name": "stderr",
     "output_type": "stream",
     "text": [
      "Warning 1: for band 1, nodata value has been rounded to -2147483648, Int32 being an integer datatype.\n",
      "Warning 1: for band 1, nodata value has been rounded to -2147483648, Int32 being an integer datatype.\n"
     ]
    },
    {
     "name": "stdout",
     "output_type": "stream",
     "text": [
      "Input file size is 829, 1222\n",
      "0...10...20...30...40...50...60...70...80...90...100 - done.\n",
      "Done: 0\n",
      "Doing: B15.tif\n"
     ]
    },
    {
     "name": "stderr",
     "output_type": "stream",
     "text": [
      "Warning 1: for band 1, nodata value has been rounded to -2147483648, Int32 being an integer datatype.\n"
     ]
    },
    {
     "name": "stdout",
     "output_type": "stream",
     "text": [
      "Input file size is 829, 1222\n",
      "0...10...20...30...40...50...60...70...80...90...100 - done.\n",
      "Done: 0\n",
      "Doing: B16.tif\n",
      "Input file size is 829, 1222\n",
      "0...10...20...30...40...50...60...70."
     ]
    },
    {
     "name": "stderr",
     "output_type": "stream",
     "text": [
      "Warning 1: for band 1, nodata value has been rounded to -2147483648, Int32 being an integer datatype.\n"
     ]
    },
    {
     "name": "stdout",
     "output_type": "stream",
     "text": [
      "..80...90...100 - done.\n",
      "Done: 0\n",
      "Doing: B17.tif\n",
      "Input file size is 829, 1222\n",
      "0...10...20...30...40...50"
     ]
    },
    {
     "name": "stderr",
     "output_type": "stream",
     "text": [
      "Warning 1: for band 1, nodata value has been rounded to -2147483648, Int32 being an integer datatype.\n",
      "Warning 1: for band 1, nodata value has been rounded to -2147483648, Int32 being an integer datatype.\n"
     ]
    },
    {
     "name": "stdout",
     "output_type": "stream",
     "text": [
      "...60...70...80...90...100 - done.\n",
      "Done: 0\n",
      "Doing: B18.tif\n",
      "Input file size is 829, 1222\n",
      "0...10...20...30...40...50...60...70...80...90...100 - done.\n",
      "Done: 0\n",
      "Doing: B19.tif\n",
      "Input file size is 829, 1222\n",
      "0...10...20...30...40."
     ]
    },
    {
     "name": "stderr",
     "output_type": "stream",
     "text": [
      "Warning 1: for band 1, nodata value has been rounded to -2147483648, Int32 being an integer datatype.\n"
     ]
    },
    {
     "name": "stdout",
     "output_type": "stream",
     "text": [
      "..50...60...70...80...90...100 - done.\n",
      "Done: 0\n",
      "Doing: ASCII\n",
      "Done: 1\n",
      "Doing: B1.tif\n",
      "Input file size is 829, 1222\n",
      "0..."
     ]
    },
    {
     "name": "stderr",
     "output_type": "stream",
     "text": [
      "ERROR 4: `SSP126/2021_2040/INM-CM4-8/ASCII' not recognized as a supported file format.\n",
      "Warning 1: for band 1, nodata value has been rounded to -2147483648, Int32 being an integer datatype.\n"
     ]
    },
    {
     "name": "stdout",
     "output_type": "stream",
     "text": [
      "10...20...30...40...50...60...70...80...90...100 - done.\n",
      "Done: 0\n",
      "Doing: B2.tif\n",
      "Input file size is 829, 1222\n",
      "0...10...20...30"
     ]
    },
    {
     "name": "stderr",
     "output_type": "stream",
     "text": [
      "Warning 1: for band 1, nodata value has been rounded to -2147483648, Int32 being an integer datatype.\n",
      "Warning 1: for band 1, nodata value has been rounded to -2147483648, Int32 being an integer datatype.\n"
     ]
    },
    {
     "name": "stdout",
     "output_type": "stream",
     "text": [
      "...40...50...60...70...80...90...100 - done.\n",
      "Done: 0\n",
      "Doing: B3.tif\n",
      "Input file size is 829, 1222\n",
      "0...10...20...30...40...50...60...70...80...90...100 - done.\n",
      "Done: 0\n",
      "Doing: B4.tif\n",
      "Input file size is 829, 1222\n",
      "0...10...20...30...40...50.."
     ]
    },
    {
     "name": "stderr",
     "output_type": "stream",
     "text": [
      "Warning 1: for band 1, nodata value has been rounded to -2147483648, Int32 being an integer datatype.\n",
      "Warning 1: for band 1, nodata value has been rounded to -2147483648, Int32 being an integer datatype.\n"
     ]
    },
    {
     "name": "stdout",
     "output_type": "stream",
     "text": [
      ".60...70...80...90...100 - done.\n",
      "Done: 0\n",
      "Doing: B5.tif\n",
      "Input file size is 829, 1222\n",
      "0...10...20...30...40...50...60...70...80...90...100 - done.\n",
      "Done: 0\n",
      "Doing: B6.tif\n",
      "Input file size is 829, 1222\n",
      "0...10...20...30."
     ]
    },
    {
     "name": "stderr",
     "output_type": "stream",
     "text": [
      "Warning 1: for band 1, nodata value has been rounded to -2147483648, Int32 being an integer datatype.\n"
     ]
    },
    {
     "name": "stdout",
     "output_type": "stream",
     "text": [
      "..40...50...60...70...80...90...100 - done.\n",
      "Done: 0\n",
      "Doing: B7.tif\n",
      "Input file size is 829, 1222\n",
      "0."
     ]
    },
    {
     "name": "stderr",
     "output_type": "stream",
     "text": [
      "Warning 1: for band 1, nodata value has been rounded to -2147483648, Int32 being an integer datatype.\n",
      "Warning 1: for band 1, nodata value has been rounded to -2147483648, Int32 being an integer datatype.\n"
     ]
    },
    {
     "name": "stdout",
     "output_type": "stream",
     "text": [
      "..10...20...30...40...50...60...70...80...90...100 - done.\n",
      "Done: 0\n",
      "Doing: B8.tif\n",
      "Input file size is 829, 1222\n",
      "0...10...20...30...40...50...60...70...80...90...100 - done.\n",
      "Done: 0\n",
      "Doing: B9.tif\n",
      "Input file size is 829, 1222\n",
      "0...10...20...30..."
     ]
    },
    {
     "name": "stderr",
     "output_type": "stream",
     "text": [
      "Warning 1: for band 1, nodata value has been rounded to -2147483648, Int32 being an integer datatype.\n",
      "Warning 1: for band 1, nodata value has been rounded to -2147483648, Int32 being an integer datatype.\n"
     ]
    },
    {
     "name": "stdout",
     "output_type": "stream",
     "text": [
      "40...50...60...70...80...90...100 - done.\n",
      "Done: 0\n",
      "Doing: B10.tif\n",
      "Input file size is 829, 1222\n",
      "0...10...20...30...40...50...60...70...80...90...100 - done.\n",
      "Done: 0\n",
      "Doing: B11.tif\n",
      "Input file size is 829, 1222\n",
      "0...10...20...30...40.."
     ]
    },
    {
     "name": "stderr",
     "output_type": "stream",
     "text": [
      "Warning 1: for band 1, nodata value has been rounded to -2147483648, Int32 being an integer datatype.\n",
      "Warning 1: for band 1, nodata value has been rounded to -2147483648, Int32 being an integer datatype.\n"
     ]
    },
    {
     "name": "stdout",
     "output_type": "stream",
     "text": [
      ".50...60...70...80...90...100 - done.\n",
      "Done: 0\n",
      "Doing: B12.tif\n",
      "Input file size is 829, 1222\n",
      "0...10...20...30...40...50...60...70...80...90...100 - done.\n",
      "Done: 0\n",
      "Doing: B13.tif\n",
      "Input file size is 829, 1222\n",
      "0...10...20...30...40...50...60...70...80"
     ]
    },
    {
     "name": "stderr",
     "output_type": "stream",
     "text": [
      "Warning 1: for band 1, nodata value has been rounded to -2147483648, Int32 being an integer datatype.\n",
      "Warning 1: for band 1, nodata value has been rounded to -2147483648, Int32 being an integer datatype.\n"
     ]
    },
    {
     "name": "stdout",
     "output_type": "stream",
     "text": [
      "...90...100 - done.\n",
      "Done: 0\n",
      "Doing: B14.tif\n",
      "Input file size is 829, 1222\n",
      "0...10...20...30...40...50...60...70...80...90...100 - done.\n",
      "Done: 0\n",
      "Doing: B15.tif\n",
      "Input file size is 829, 1222\n",
      "0...10...20...30...40...50...60...70...80...90...100 - done.\n",
      "Done: 0\n",
      "Doing: B16.tif\n"
     ]
    },
    {
     "name": "stderr",
     "output_type": "stream",
     "text": [
      "Warning 1: for band 1, nodata value has been rounded to -2147483648, Int32 being an integer datatype.\n",
      "Warning 1: for band 1, nodata value has been rounded to -2147483648, Int32 being an integer datatype.\n"
     ]
    },
    {
     "name": "stdout",
     "output_type": "stream",
     "text": [
      "Input file size is 829, 1222\n",
      "0...10...20...30...40...50...60...70...80...90...100 - done.\n",
      "Done: 0\n",
      "Doing: B17.tif\n",
      "Input file size is 829, 1222\n",
      "0...10...20."
     ]
    },
    {
     "name": "stderr",
     "output_type": "stream",
     "text": [
      "Warning 1: for band 1, nodata value has been rounded to -2147483648, Int32 being an integer datatype.\n",
      "Warning 1: for band 1, nodata value has been rounded to -2147483648, Int32 being an integer datatype.\n"
     ]
    },
    {
     "name": "stdout",
     "output_type": "stream",
     "text": [
      "..30...40...50...60...70...80...90...100 - done.\n",
      "Done: 0\n",
      "Doing: B18.tif\n",
      "Input file size is 829, 1222\n",
      "0...10...20...30...40...50...60...70...80...90...100 - done.\n",
      "Done: 0\n",
      "Doing: B19.tif\n",
      "Input file size is 829, 1222\n",
      "0..."
     ]
    },
    {
     "name": "stderr",
     "output_type": "stream",
     "text": [
      "Warning 1: for band 1, nodata value has been rounded to -2147483648, Int32 being an integer datatype.\n",
      "ERROR 4: `SSP126/2021_2040/INM-CM5-0/ASCII' not recognized as a supported file format.\n"
     ]
    },
    {
     "name": "stdout",
     "output_type": "stream",
     "text": [
      "10...20...30...40...50...60...70...80...90...100 - done.\n",
      "Done: 0\n",
      "Doing: ASCII\n",
      "Done: 1\n",
      "Doing: B1.tif\n"
     ]
    },
    {
     "name": "stderr",
     "output_type": "stream",
     "text": [
      "Warning 1: for band 1, nodata value has been rounded to -2147483648, Int32 being an integer datatype.\n",
      "Warning 1: for band 1, nodata value has been rounded to -2147483648, Int32 being an integer datatype.\n"
     ]
    },
    {
     "name": "stdout",
     "output_type": "stream",
     "text": [
      "Input file size is 829, 1222\n",
      "0...10...20...30...40...50...60...70...80...90...100 - done.\n",
      "Done: 0\n",
      "Doing: B2.tif\n",
      "Input file size is 829, 1222\n",
      "0...10...20...30...40...50...60...70...80...90...100 - done.\n",
      "Done: 0\n",
      "Doing: B3.tif\n",
      "Input file size is 829, 1222\n",
      "0...10...20...30..."
     ]
    },
    {
     "name": "stderr",
     "output_type": "stream",
     "text": [
      "Warning 1: for band 1, nodata value has been rounded to -2147483648, Int32 being an integer datatype.\n",
      "Warning 1: for band 1, nodata value has been rounded to -2147483648, Int32 being an integer datatype.\n"
     ]
    },
    {
     "name": "stdout",
     "output_type": "stream",
     "text": [
      "40...50...60...70...80...90...100 - done.\n",
      "Done: 0\n",
      "Doing: B4.tif\n",
      "Input file size is 829, 1222\n",
      "0...10...20...30...40...50...60...70...80...90...100 - done.\n",
      "Done: 0\n",
      "Doing: B5.tif\n",
      "Input file size is 829, 1222\n",
      "0...10...20...30...40...50...60...70...80"
     ]
    },
    {
     "name": "stderr",
     "output_type": "stream",
     "text": [
      "Warning 1: for band 1, nodata value has been rounded to -2147483648, Int32 being an integer datatype.\n",
      "Warning 1: for band 1, nodata value has been rounded to -2147483648, Int32 being an integer datatype.\n"
     ]
    },
    {
     "name": "stdout",
     "output_type": "stream",
     "text": [
      "...90...100 - done.\n",
      "Done: 0\n",
      "Doing: B6.tif\n",
      "Input file size is 829, 1222\n",
      "0...10...20...30...40...50...60...70...80...90...100 - done.\n",
      "Done: 0\n",
      "Doing: B7.tif\n",
      "Input file size is 829, 1222\n",
      "0...10...20...30...40...50...60...70...80...90...100 - done.\n",
      "Done: 0\n",
      "Doing: B8.tif\n"
     ]
    },
    {
     "name": "stderr",
     "output_type": "stream",
     "text": [
      "Warning 1: for band 1, nodata value has been rounded to -2147483648, Int32 being an integer datatype.\n",
      "Warning 1: for band 1, nodata value has been rounded to -2147483648, Int32 being an integer datatype.\n"
     ]
    },
    {
     "name": "stdout",
     "output_type": "stream",
     "text": [
      "Input file size is 829, 1222\n",
      "0...10...20...30...40...50...60...70...80...90...100 - done.\n",
      "Done: 0\n",
      "Doing: B9.tif\n",
      "Input file size is 829, 1222\n",
      "0...10...20...30...40...50...60...70...80...90...100 - done.\n",
      "Done: 0\n",
      "Doing: B10.tif\n"
     ]
    },
    {
     "name": "stderr",
     "output_type": "stream",
     "text": [
      "Warning 1: for band 1, nodata value has been rounded to -2147483648, Int32 being an integer datatype.\n",
      "Warning 1: for band 1, nodata value has been rounded to -2147483648, Int32 being an integer datatype.\n"
     ]
    },
    {
     "name": "stdout",
     "output_type": "stream",
     "text": [
      "Input file size is 829, 1222\n",
      "0...10...20...30...40...50...60...70...80...90...100 - done.\n",
      "Done: 0\n",
      "Doing: B11.tif\n",
      "Input file size is 829, 1222\n",
      "0...10...20"
     ]
    },
    {
     "name": "stderr",
     "output_type": "stream",
     "text": [
      "Warning 1: for band 1, nodata value has been rounded to -2147483648, Int32 being an integer datatype.\n",
      "Warning 1: for band 1, nodata value has been rounded to -2147483648, Int32 being an integer datatype.\n"
     ]
    },
    {
     "name": "stdout",
     "output_type": "stream",
     "text": [
      "...30...40...50...60...70...80...90...100 - done.\n",
      "Done: 0\n",
      "Doing: B12.tif\n",
      "Input file size is 829, 1222\n",
      "0...10...20...30...40...50...60...70...80...90...100 - done.\n",
      "Done: 0\n",
      "Doing: B13.tif\n",
      "Input file size is 829, 1222\n",
      "0...10...20...30...40...50...60..."
     ]
    },
    {
     "name": "stderr",
     "output_type": "stream",
     "text": [
      "Warning 1: for band 1, nodata value has been rounded to -2147483648, Int32 being an integer datatype.\n",
      "Warning 1: for band 1, nodata value has been rounded to -2147483648, Int32 being an integer datatype.\n"
     ]
    },
    {
     "name": "stdout",
     "output_type": "stream",
     "text": [
      "70...80...90...100 - done.\n",
      "Done: 0\n",
      "Doing: B14.tif\n",
      "Input file size is 829, 1222\n",
      "0...10...20...30...40...50...60...70...80...90...100 - done.\n",
      "Done: 0\n",
      "Doing: B15.tif\n",
      "Input file size is 829, 1222\n",
      "0...10...20...30...40...50...60...70...80...90..."
     ]
    },
    {
     "name": "stderr",
     "output_type": "stream",
     "text": [
      "Warning 1: for band 1, nodata value has been rounded to -2147483648, Int32 being an integer datatype.\n",
      "Warning 1: for band 1, nodata value has been rounded to -2147483648, Int32 being an integer datatype.\n"
     ]
    },
    {
     "name": "stdout",
     "output_type": "stream",
     "text": [
      "100 - done.\n",
      "Done: 0\n",
      "Doing: B16.tif\n",
      "Input file size is 829, 1222\n",
      "0...10...20...30...40...50...60...70...80...90...100 - done.\n",
      "Done: 0\n",
      "Doing: B17.tif\n",
      "Input file size is 829, 1222\n",
      "0...10...20...30...40...50...60...70...80.."
     ]
    },
    {
     "name": "stderr",
     "output_type": "stream",
     "text": [
      "Warning 1: for band 1, nodata value has been rounded to -2147483648, Int32 being an integer datatype.\n"
     ]
    },
    {
     "name": "stdout",
     "output_type": "stream",
     "text": [
      ".90...100 - done.\n",
      "Done: 0\n",
      "Doing: B18.tif\n",
      "Input file size is 829, 1222\n",
      "0...10...20...30...40...50...60...70...80...90..."
     ]
    },
    {
     "name": "stderr",
     "output_type": "stream",
     "text": [
      "Warning 1: for band 1, nodata value has been rounded to -2147483648, Int32 being an integer datatype.\n",
      "Warning 1: for band 1, nodata value has been rounded to -2147483648, Int32 being an integer datatype.\n"
     ]
    },
    {
     "name": "stdout",
     "output_type": "stream",
     "text": [
      "100 - done.\n",
      "Done: 0\n",
      "Doing: B19.tif\n",
      "Input file size is 829, 1222\n",
      "0...10...20...30...40...50...60...70...80...90...100 - done.\n",
      "Done: 0\n",
      "Doing: ASCII\n"
     ]
    },
    {
     "name": "stderr",
     "output_type": "stream",
     "text": [
      "ERROR 4: `SSP126/2021_2040/IPSL-CM6A-LR/ASCII' not recognized as a supported file format.\n",
      "Warning 1: for band 1, nodata value has been rounded to -2147483648, Int32 being an integer datatype.\n"
     ]
    },
    {
     "name": "stdout",
     "output_type": "stream",
     "text": [
      "Done: 1\n",
      "Doing: B1.tif\n",
      "Input file size is 829, 1222\n",
      "0...10...20...30...40...50...60...70...80...90...100 - done.\n",
      "Done: 0\n",
      "Doing: B2.tif\n"
     ]
    },
    {
     "name": "stderr",
     "output_type": "stream",
     "text": [
      "Warning 1: for band 1, nodata value has been rounded to -2147483648, Int32 being an integer datatype.\n",
      "Warning 1: for band 1, nodata value has been rounded to -2147483648, Int32 being an integer datatype.\n"
     ]
    },
    {
     "name": "stdout",
     "output_type": "stream",
     "text": [
      "Input file size is 829, 1222\n",
      "0...10...20...30...40...50...60...70...80...90...100 - done.\n",
      "Done: 0\n",
      "Doing: B3.tif\n",
      "Input file size is 829, 1222\n",
      "0...10...20...30...40...50...60...70...80...90...100 - done.\n",
      "Done: 0\n",
      "Doing: B4.tif\n",
      "Input file size is 829, 1222\n",
      "0...10...20...30...40.."
     ]
    },
    {
     "name": "stderr",
     "output_type": "stream",
     "text": [
      "Warning 1: for band 1, nodata value has been rounded to -2147483648, Int32 being an integer datatype.\n",
      "Warning 1: for band 1, nodata value has been rounded to -2147483648, Int32 being an integer datatype.\n"
     ]
    },
    {
     "name": "stdout",
     "output_type": "stream",
     "text": [
      ".50...60...70...80...90...100 - done.\n",
      "Done: 0\n",
      "Doing: B5.tif\n",
      "Input file size is 829, 1222\n",
      "0...10...20...30...40...50...60...70...80...90...100 - done.\n",
      "Done: 0\n",
      "Doing: B6.tif\n",
      "Input file size is 829, 1222\n",
      "0...10...20...30...40...50...60...70...80...90."
     ]
    },
    {
     "name": "stderr",
     "output_type": "stream",
     "text": [
      "Warning 1: for band 1, nodata value has been rounded to -2147483648, Int32 being an integer datatype.\n",
      "Warning 1: for band 1, nodata value has been rounded to -2147483648, Int32 being an integer datatype.\n"
     ]
    },
    {
     "name": "stdout",
     "output_type": "stream",
     "text": [
      "..100 - done.\n",
      "Done: 0\n",
      "Doing: B7.tif\n",
      "Input file size is 829, 1222\n",
      "0...10...20...30...40...50...60...70...80...90...100 - done.\n",
      "Done: 0\n",
      "Doing: B8.tif\n",
      "Input file size is 829, 1222\n",
      "0...10...20...30...40...50...60...70...80...90...100 - done.\n",
      "Done: 0\n",
      "Doing: B9.tif\n"
     ]
    },
    {
     "name": "stderr",
     "output_type": "stream",
     "text": [
      "Warning 1: for band 1, nodata value has been rounded to -2147483648, Int32 being an integer datatype.\n",
      "Warning 1: for band 1, nodata value has been rounded to -2147483648, Int32 being an integer datatype.\n"
     ]
    },
    {
     "name": "stdout",
     "output_type": "stream",
     "text": [
      "Input file size is 829, 1222\n",
      "0...10...20...30...40...50...60...70...80...90...100 - done.\n",
      "Done: 0\n",
      "Doing: B10.tif\n",
      "Input file size is 829, 1222\n",
      "0...10...20"
     ]
    },
    {
     "name": "stderr",
     "output_type": "stream",
     "text": [
      "Warning 1: for band 1, nodata value has been rounded to -2147483648, Int32 being an integer datatype.\n",
      "Warning 1: for band 1, nodata value has been rounded to -2147483648, Int32 being an integer datatype.\n"
     ]
    },
    {
     "name": "stdout",
     "output_type": "stream",
     "text": [
      "...30...40...50...60...70...80...90...100 - done.\n",
      "Done: 0\n",
      "Doing: B11.tif\n",
      "Input file size is 829, 1222\n",
      "0...10...20...30...40...50...60...70...80...90...100 - done.\n",
      "Done: 0\n",
      "Doing: B12.tif\n",
      "Input file size is 829, 1222\n",
      "0...10...20...30...40...50...60.."
     ]
    },
    {
     "name": "stderr",
     "output_type": "stream",
     "text": [
      "Warning 1: for band 1, nodata value has been rounded to -2147483648, Int32 being an integer datatype.\n",
      "Warning 1: for band 1, nodata value has been rounded to -2147483648, Int32 being an integer datatype.\n"
     ]
    },
    {
     "name": "stdout",
     "output_type": "stream",
     "text": [
      ".70...80...90...100 - done.\n",
      "Done: 0\n",
      "Doing: B13.tif\n",
      "Input file size is 829, 1222\n",
      "0...10...20...30...40...50...60...70...80...90...100 - done.\n",
      "Done: 0\n",
      "Doing: B14.tif\n",
      "Input file size is 829, 1222\n",
      "0...10...20...30...40...50...60...70...80...90..."
     ]
    },
    {
     "name": "stderr",
     "output_type": "stream",
     "text": [
      "Warning 1: for band 1, nodata value has been rounded to -2147483648, Int32 being an integer datatype.\n",
      "Warning 1: for band 1, nodata value has been rounded to -2147483648, Int32 being an integer datatype.\n"
     ]
    },
    {
     "name": "stdout",
     "output_type": "stream",
     "text": [
      "100 - done.\n",
      "Done: 0\n",
      "Doing: B15.tif\n",
      "Input file size is 829, 1222\n",
      "0...10...20...30...40...50...60...70...80...90...100 - done.\n",
      "Done: 0\n",
      "Doing: B16.tif\n"
     ]
    },
    {
     "name": "stderr",
     "output_type": "stream",
     "text": [
      "Warning 1: for band 1, nodata value has been rounded to -2147483648, Int32 being an integer datatype.\n",
      "Warning 1: for band 1, nodata value has been rounded to -2147483648, Int32 being an integer datatype.\n"
     ]
    },
    {
     "name": "stdout",
     "output_type": "stream",
     "text": [
      "Input file size is 829, 1222\n",
      "0...10...20...30...40...50...60...70...80...90...100 - done.\n",
      "Done: 0\n",
      "Doing: B17.tif\n",
      "Input file size is 829, 1222\n",
      "0...10...20...30...40...50...60...70...80...90...100 - done.\n",
      "Done: 0\n",
      "Doing: B18.tif\n",
      "Input file size is 829, 1222\n",
      "0...10...20.."
     ]
    },
    {
     "name": "stderr",
     "output_type": "stream",
     "text": [
      "Warning 1: for band 1, nodata value has been rounded to -2147483648, Int32 being an integer datatype.\n"
     ]
    },
    {
     "name": "stdout",
     "output_type": "stream",
     "text": [
      ".30...40...50...60...70...80...90...100 - done.\n",
      "Done: 0\n",
      "Doing: B19.tif\n",
      "Input file size is 829, 1222\n",
      "0...10...20."
     ]
    },
    {
     "name": "stderr",
     "output_type": "stream",
     "text": [
      "Warning 1: for band 1, nodata value has been rounded to -2147483648, Int32 being an integer datatype.\n",
      "ERROR 4: `SSP126/2021_2040/MIROC-ES2L/ASCII' not recognized as a supported file format.\n"
     ]
    },
    {
     "name": "stdout",
     "output_type": "stream",
     "text": [
      "..30...40...50...60...70...80...90...100 - done.\n",
      "Done: 0\n",
      "Doing: ASCII\n",
      "Done: 1\n",
      "Doing: B1.tif\n"
     ]
    },
    {
     "name": "stderr",
     "output_type": "stream",
     "text": [
      "Warning 1: for band 1, nodata value has been rounded to -2147483648, Int32 being an integer datatype.\n",
      "Warning 1: for band 1, nodata value has been rounded to -2147483648, Int32 being an integer datatype.\n"
     ]
    },
    {
     "name": "stdout",
     "output_type": "stream",
     "text": [
      "Input file size is 829, 1222\n",
      "0...10...20...30...40...50...60...70...80...90...100 - done.\n",
      "Done: 0\n",
      "Doing: B2.tif\n",
      "Input file size is 829, 1222\n",
      "0...10...20...30...40...50...60...70...80...90...100 - done.\n",
      "Done: 0\n",
      "Doing: B3.tif\n",
      "Input file size is 829, 1222\n",
      "0...10...20...30...40..."
     ]
    },
    {
     "name": "stderr",
     "output_type": "stream",
     "text": [
      "Warning 1: for band 1, nodata value has been rounded to -2147483648, Int32 being an integer datatype.\n",
      "Warning 1: for band 1, nodata value has been rounded to -2147483648, Int32 being an integer datatype.\n"
     ]
    },
    {
     "name": "stdout",
     "output_type": "stream",
     "text": [
      "50...60...70...80...90...100 - done.\n",
      "Done: 0\n",
      "Doing: B4.tif\n",
      "Input file size is 829, 1222\n",
      "0...10...20...30...40...50...60...70...80...90...100 - done.\n",
      "Done: 0\n",
      "Doing: B5.tif\n",
      "Input file size is 829, 1222\n",
      "0...10...20...30...40...50...60...70...80...90..."
     ]
    },
    {
     "name": "stderr",
     "output_type": "stream",
     "text": [
      "Warning 1: for band 1, nodata value has been rounded to -2147483648, Int32 being an integer datatype.\n",
      "Warning 1: for band 1, nodata value has been rounded to -2147483648, Int32 being an integer datatype.\n"
     ]
    },
    {
     "name": "stdout",
     "output_type": "stream",
     "text": [
      "100 - done.\n",
      "Done: 0\n",
      "Doing: B6.tif\n",
      "Input file size is 829, 1222\n",
      "0...10...20...30...40...50...60...70...80...90...100 - done.\n",
      "Done: 0\n",
      "Doing: B7.tif\n",
      "Input file size is 829, 1222\n",
      "0...10...20...30...40...50...60...70...80...90...100 - done.\n",
      "Done: 0\n",
      "Doing: B8.tif\n"
     ]
    },
    {
     "name": "stderr",
     "output_type": "stream",
     "text": [
      "Warning 1: for band 1, nodata value has been rounded to -2147483648, Int32 being an integer datatype.\n",
      "Warning 1: for band 1, nodata value has been rounded to -2147483648, Int32 being an integer datatype.\n"
     ]
    },
    {
     "name": "stdout",
     "output_type": "stream",
     "text": [
      "Input file size is 829, 1222\n",
      "0...10...20...30...40...50...60...70...80...90...100 - done.\n",
      "Done: 0\n",
      "Doing: B9.tif\n",
      "Input file size is 829, 1222\n",
      "0...10...20."
     ]
    },
    {
     "name": "stderr",
     "output_type": "stream",
     "text": [
      "Warning 1: for band 1, nodata value has been rounded to -2147483648, Int32 being an integer datatype.\n",
      "Warning 1: for band 1, nodata value has been rounded to -2147483648, Int32 being an integer datatype.\n"
     ]
    },
    {
     "name": "stdout",
     "output_type": "stream",
     "text": [
      "..30...40...50...60...70...80...90...100 - done.\n",
      "Done: 0\n",
      "Doing: B10.tif\n",
      "Input file size is 829, 1222\n",
      "0...10...20...30...40...50...60...70...80...90...100 - done.\n",
      "Done: 0\n",
      "Doing: B11.tif\n",
      "Input file size is 829, 1222\n",
      "0...10...20...30...40...50...60..."
     ]
    },
    {
     "name": "stderr",
     "output_type": "stream",
     "text": [
      "Warning 1: for band 1, nodata value has been rounded to -2147483648, Int32 being an integer datatype.\n",
      "Warning 1: for band 1, nodata value has been rounded to -2147483648, Int32 being an integer datatype.\n"
     ]
    },
    {
     "name": "stdout",
     "output_type": "stream",
     "text": [
      "70...80...90...100 - done.\n",
      "Done: 0\n",
      "Doing: B12.tif\n",
      "Input file size is 829, 1222\n",
      "0...10...20...30...40...50...60...70...80...90...100 - done.\n",
      "Done: 0\n",
      "Doing: B13.tif\n",
      "Input file size is 829, 1222\n",
      "0...10...20...30...40...50...60...70...80...90..."
     ]
    },
    {
     "name": "stderr",
     "output_type": "stream",
     "text": [
      "Warning 1: for band 1, nodata value has been rounded to -2147483648, Int32 being an integer datatype.\n",
      "Warning 1: for band 1, nodata value has been rounded to -2147483648, Int32 being an integer datatype.\n"
     ]
    },
    {
     "name": "stdout",
     "output_type": "stream",
     "text": [
      "100 - done.\n",
      "Done: 0\n",
      "Doing: B14.tif\n",
      "Input file size is 829, 1222\n",
      "0...10...20...30...40...50...60...70...80...90...100 - done.\n",
      "Done: 0\n",
      "Doing: B15.tif\n"
     ]
    },
    {
     "name": "stderr",
     "output_type": "stream",
     "text": [
      "Warning 1: for band 1, nodata value has been rounded to -2147483648, Int32 being an integer datatype.\n",
      "Warning 1: for band 1, nodata value has been rounded to -2147483648, Int32 being an integer datatype.\n"
     ]
    },
    {
     "name": "stdout",
     "output_type": "stream",
     "text": [
      "Input file size is 829, 1222\n",
      "0...10...20...30...40...50...60...70...80...90...100 - done.\n",
      "Done: 0\n",
      "Doing: B16.tif\n",
      "Input file size is 829, 1222\n",
      "0...10...20...30...40...50...60...70...80...90...100 - done.\n",
      "Done: 0\n",
      "Doing: B17.tif\n",
      "Input file size is 829, 1222\n",
      "0."
     ]
    },
    {
     "name": "stderr",
     "output_type": "stream",
     "text": [
      "Warning 1: for band 1, nodata value has been rounded to -2147483648, Int32 being an integer datatype.\n"
     ]
    },
    {
     "name": "stdout",
     "output_type": "stream",
     "text": [
      "..10...20...30...40...50...60...70...80...90...100 - done.\n",
      "Done: 0\n",
      "Doing: B18.tif\n",
      "Input file size is 829, 1222\n",
      "0"
     ]
    },
    {
     "name": "stderr",
     "output_type": "stream",
     "text": [
      "Warning 1: for band 1, nodata value has been rounded to -2147483648, Int32 being an integer datatype.\n"
     ]
    },
    {
     "name": "stdout",
     "output_type": "stream",
     "text": [
      "...10...20...30...40...50...60...70...80...90...100 - done.\n",
      "Done: 0\n",
      "Doing: B19.tif\n",
      "Input file size is 829, 1222\n",
      "0...10...20."
     ]
    },
    {
     "name": "stderr",
     "output_type": "stream",
     "text": [
      "Warning 1: for band 1, nodata value has been rounded to -2147483648, Int32 being an integer datatype.\n",
      "ERROR 4: `SSP126/2021_2040/MIROC6/ASCII' not recognized as a supported file format.\n"
     ]
    },
    {
     "name": "stdout",
     "output_type": "stream",
     "text": [
      "..30...40...50...60...70...80...90...100 - done.\n",
      "Done: 0\n",
      "Doing: ASCII\n",
      "Done: 1\n",
      "Doing: B1.tif\n"
     ]
    },
    {
     "name": "stderr",
     "output_type": "stream",
     "text": [
      "Warning 1: for band 1, nodata value has been rounded to -2147483648, Int32 being an integer datatype.\n"
     ]
    },
    {
     "name": "stdout",
     "output_type": "stream",
     "text": [
      "Input file size is 829, 1222\n",
      "0...10...20...30...40...50...60...70...80...90...100 - done.\n",
      "Done: 0\n",
      "Doing: B2.tif\n",
      "Input file size is 829, 1222\n",
      "0...10...20...30...40...50...60."
     ]
    },
    {
     "name": "stderr",
     "output_type": "stream",
     "text": [
      "Warning 1: for band 1, nodata value has been rounded to -2147483648, Int32 being an integer datatype.\n",
      "Warning 1: for band 1, nodata value has been rounded to -2147483648, Int32 being an integer datatype.\n"
     ]
    },
    {
     "name": "stdout",
     "output_type": "stream",
     "text": [
      "..70...80...90...100 - done.\n",
      "Done: 0\n",
      "Doing: B3.tif\n",
      "Input file size is 829, 1222\n",
      "0...10...20...30...40...50...60...70...80...90...100 - done.\n",
      "Done: 0\n",
      "Doing: B4.tif\n",
      "Input file size is 829, 1222\n",
      "0...10...20...30...40...50...60...70...80...90..."
     ]
    },
    {
     "name": "stderr",
     "output_type": "stream",
     "text": [
      "Warning 1: for band 1, nodata value has been rounded to -2147483648, Int32 being an integer datatype.\n",
      "Warning 1: for band 1, nodata value has been rounded to -2147483648, Int32 being an integer datatype.\n"
     ]
    },
    {
     "name": "stdout",
     "output_type": "stream",
     "text": [
      "100 - done.\n",
      "Done: 0\n",
      "Doing: B5.tif\n",
      "Input file size is 829, 1222\n",
      "0...10...20...30...40...50...60...70...80...90...100 - done.\n",
      "Done: 0\n",
      "Doing: B6.tif\n",
      "Input file size is 829, 1222\n",
      "0...10...20...30...40.."
     ]
    },
    {
     "name": "stderr",
     "output_type": "stream",
     "text": [
      "Warning 1: for band 1, nodata value has been rounded to -2147483648, Int32 being an integer datatype.\n",
      "Warning 1: for band 1, nodata value has been rounded to -2147483648, Int32 being an integer datatype.\n"
     ]
    },
    {
     "name": "stdout",
     "output_type": "stream",
     "text": [
      ".50...60...70...80...90...100 - done.\n",
      "Done: 0\n",
      "Doing: B7.tif\n",
      "Input file size is 829, 1222\n",
      "0...10...20...30...40...50...60...70...80...90...100 - done.\n",
      "Done: 0\n",
      "Doing: B8.tif\n",
      "Input file size is 829, 1222\n",
      "0...10...20...30...40...50...60...70...80...90.."
     ]
    },
    {
     "name": "stderr",
     "output_type": "stream",
     "text": [
      "Warning 1: for band 1, nodata value has been rounded to -2147483648, Int32 being an integer datatype.\n"
     ]
    },
    {
     "name": "stdout",
     "output_type": "stream",
     "text": [
      ".100 - done.\n",
      "Done: 0\n",
      "Doing: B9.tif\n",
      "Input file size is 829, 1222\n",
      "0...10...20...30...40...50...60."
     ]
    },
    {
     "name": "stderr",
     "output_type": "stream",
     "text": [
      "Warning 1: for band 1, nodata value has been rounded to -2147483648, Int32 being an integer datatype.\n"
     ]
    },
    {
     "name": "stdout",
     "output_type": "stream",
     "text": [
      "..70...80...90...100 - done.\n",
      "Done: 0\n",
      "Doing: B10.tif\n",
      "Input file size is 829, 1222\n",
      "0...10...20...30...40...50...60...70...80."
     ]
    },
    {
     "name": "stderr",
     "output_type": "stream",
     "text": [
      "Warning 1: for band 1, nodata value has been rounded to -2147483648, Int32 being an integer datatype.\n",
      "Warning 1: for band 1, nodata value has been rounded to -2147483648, Int32 being an integer datatype.\n"
     ]
    },
    {
     "name": "stdout",
     "output_type": "stream",
     "text": [
      "..90...100 - done.\n",
      "Done: 0\n",
      "Doing: B11.tif\n",
      "Input file size is 829, 1222\n",
      "0...10...20...30...40...50...60...70...80...90...100 - done.\n",
      "Done: 0\n",
      "Doing: B12.tif\n",
      "Input file size is 829, 1222\n",
      "0...10...20...30...40...50...60.."
     ]
    },
    {
     "name": "stderr",
     "output_type": "stream",
     "text": [
      "Warning 1: for band 1, nodata value has been rounded to -2147483648, Int32 being an integer datatype.\n"
     ]
    },
    {
     "name": "stdout",
     "output_type": "stream",
     "text": [
      ".70...80...90...100 - done.\n",
      "Done: 0\n",
      "Doing: B13.tif\n",
      "Input file size is 829, 1222\n",
      "0...10...20...30...40...50...60...70...80...90"
     ]
    },
    {
     "name": "stderr",
     "output_type": "stream",
     "text": [
      "Warning 1: for band 1, nodata value has been rounded to -2147483648, Int32 being an integer datatype.\n",
      "Warning 1: for band 1, nodata value has been rounded to -2147483648, Int32 being an integer datatype.\n"
     ]
    },
    {
     "name": "stdout",
     "output_type": "stream",
     "text": [
      "...100 - done.\n",
      "Done: 0\n",
      "Doing: B14.tif\n",
      "Input file size is 829, 1222\n",
      "0...10...20...30...40...50...60...70...80...90...100 - done.\n",
      "Done: 0\n",
      "Doing: B15.tif\n",
      "Input file size is 829, 1222\n",
      "0...10...20...30...40...50...60...70.."
     ]
    },
    {
     "name": "stderr",
     "output_type": "stream",
     "text": [
      "Warning 1: for band 1, nodata value has been rounded to -2147483648, Int32 being an integer datatype.\n"
     ]
    },
    {
     "name": "stdout",
     "output_type": "stream",
     "text": [
      ".80...90...100 - done.\n",
      "Done: 0\n",
      "Doing: B16.tif\n",
      "Input file size is 829, 1222\n",
      "0...10...20...30...40...50"
     ]
    },
    {
     "name": "stderr",
     "output_type": "stream",
     "text": [
      "Warning 1: for band 1, nodata value has been rounded to -2147483648, Int32 being an integer datatype.\n",
      "Warning 1: for band 1, nodata value has been rounded to -2147483648, Int32 being an integer datatype.\n"
     ]
    },
    {
     "name": "stdout",
     "output_type": "stream",
     "text": [
      "...60...70...80...90...100 - done.\n",
      "Done: 0\n",
      "Doing: B17.tif\n",
      "Input file size is 829, 1222\n",
      "0...10...20...30...40...50...60...70...80...90...100 - done.\n",
      "Done: 0\n",
      "Doing: B18.tif\n",
      "Input file size is 829, 1222\n",
      "0...10..."
     ]
    },
    {
     "name": "stderr",
     "output_type": "stream",
     "text": [
      "Warning 1: for band 1, nodata value has been rounded to -2147483648, Int32 being an integer datatype.\n"
     ]
    },
    {
     "name": "stdout",
     "output_type": "stream",
     "text": [
      "20...30...40...50...60...70...80...90...100 - done.\n",
      "Done: 0\n",
      "Doing: B19.tif\n",
      "Input file size is 829, 1222\n",
      "0...10...20...30...40...50...60...70."
     ]
    },
    {
     "name": "stderr",
     "output_type": "stream",
     "text": [
      "Warning 1: for band 1, nodata value has been rounded to -2147483648, Int32 being an integer datatype.\n"
     ]
    },
    {
     "name": "stdout",
     "output_type": "stream",
     "text": [
      "..80...90...100 - done.\n",
      "Done: 0\n",
      "Doing: ASCII\n",
      "Done: 1\n",
      "Doing: B1.tif\n",
      "Input file size is 829, 1222\n",
      "0"
     ]
    },
    {
     "name": "stderr",
     "output_type": "stream",
     "text": [
      "ERROR 4: `SSP126/2021_2040/MPI-ESM1-2-HR/ASCII' not recognized as a supported file format.\n",
      "Warning 1: for band 1, nodata value has been rounded to -2147483648, Int32 being an integer datatype.\n"
     ]
    },
    {
     "name": "stdout",
     "output_type": "stream",
     "text": [
      "...10...20...30...40...50...60...70...80...90...100 - done.\n",
      "Done: 0\n",
      "Doing: B2.tif\n",
      "Input file size is 829, 1222\n",
      "0...10...20...30...40."
     ]
    },
    {
     "name": "stderr",
     "output_type": "stream",
     "text": [
      "Warning 1: for band 1, nodata value has been rounded to -2147483648, Int32 being an integer datatype.\n",
      "Warning 1: for band 1, nodata value has been rounded to -2147483648, Int32 being an integer datatype.\n"
     ]
    },
    {
     "name": "stdout",
     "output_type": "stream",
     "text": [
      "..50...60...70...80...90...100 - done.\n",
      "Done: 0\n",
      "Doing: B3.tif\n",
      "Input file size is 829, 1222\n",
      "0...10...20...30...40...50...60...70...80...90...100 - done.\n",
      "Done: 0\n",
      "Doing: B4.tif\n",
      "Input file size is 829, 1222\n",
      "0...10...20...30...40...50...60."
     ]
    },
    {
     "name": "stderr",
     "output_type": "stream",
     "text": [
      "Warning 1: for band 1, nodata value has been rounded to -2147483648, Int32 being an integer datatype.\n",
      "Warning 1: for band 1, nodata value has been rounded to -2147483648, Int32 being an integer datatype.\n"
     ]
    },
    {
     "name": "stdout",
     "output_type": "stream",
     "text": [
      "..70...80...90...100 - done.\n",
      "Done: 0\n",
      "Doing: B5.tif\n",
      "Input file size is 829, 1222\n",
      "0...10...20...30...40...50...60...70...80...90...100 - done.\n",
      "Done: 0\n",
      "Doing: B6.tif\n",
      "Input file size is 829, 1222\n",
      "0...10...20...30...40...50...60...70.."
     ]
    },
    {
     "name": "stderr",
     "output_type": "stream",
     "text": [
      "Warning 1: for band 1, nodata value has been rounded to -2147483648, Int32 being an integer datatype.\n",
      "Warning 1: for band 1, nodata value has been rounded to -2147483648, Int32 being an integer datatype.\n"
     ]
    },
    {
     "name": "stdout",
     "output_type": "stream",
     "text": [
      ".80...90...100 - done.\n",
      "Done: 0\n",
      "Doing: B7.tif\n",
      "Input file size is 829, 1222\n",
      "0...10...20...30...40...50...60...70...80...90...100 - done.\n",
      "Done: 0\n",
      "Doing: B8.tif\n",
      "Input file size is 829, 1222\n",
      "0...10...20...30...40...50...60...70.."
     ]
    },
    {
     "name": "stderr",
     "output_type": "stream",
     "text": [
      "Warning 1: for band 1, nodata value has been rounded to -2147483648, Int32 being an integer datatype.\n"
     ]
    },
    {
     "name": "stdout",
     "output_type": "stream",
     "text": [
      ".80...90...100 - done.\n",
      "Done: 0\n",
      "Doing: B9.tif\n",
      "Input file size is 829, 1222\n",
      "0...10...20...30...40...50...60...70...80...90."
     ]
    },
    {
     "name": "stderr",
     "output_type": "stream",
     "text": [
      "Warning 1: for band 1, nodata value has been rounded to -2147483648, Int32 being an integer datatype.\n",
      "Warning 1: for band 1, nodata value has been rounded to -2147483648, Int32 being an integer datatype.\n"
     ]
    },
    {
     "name": "stdout",
     "output_type": "stream",
     "text": [
      "..100 - done.\n",
      "Done: 0\n",
      "Doing: B10.tif\n",
      "Input file size is 829, 1222\n",
      "0...10...20...30...40...50...60...70...80...90...100 - done.\n",
      "Done: 0\n",
      "Doing: B11.tif\n",
      "Input file size is 829, 1222\n",
      "0...10...20...30...40...50...60...70...80...90...100 - done.\n",
      "Done: 0\n",
      "Doing: B12.tif\n"
     ]
    },
    {
     "name": "stderr",
     "output_type": "stream",
     "text": [
      "Warning 1: for band 1, nodata value has been rounded to -2147483648, Int32 being an integer datatype.\n",
      "Warning 1: for band 1, nodata value has been rounded to -2147483648, Int32 being an integer datatype.\n"
     ]
    },
    {
     "name": "stdout",
     "output_type": "stream",
     "text": [
      "Input file size is 829, 1222\n",
      "0...10...20...30...40...50...60...70...80...90...100 - done.\n",
      "Done: 0\n",
      "Doing: B13.tif\n",
      "Input file size is 829, 1222\n",
      "0...10.."
     ]
    },
    {
     "name": "stderr",
     "output_type": "stream",
     "text": [
      "Warning 1: for band 1, nodata value has been rounded to -2147483648, Int32 being an integer datatype.\n"
     ]
    },
    {
     "name": "stdout",
     "output_type": "stream",
     "text": [
      ".20...30...40...50...60...70...80...90...100 - done.\n",
      "Done: 0\n",
      "Doing: B14.tif\n",
      "Input file size is 829, 1222\n",
      "0...10...20"
     ]
    },
    {
     "name": "stderr",
     "output_type": "stream",
     "text": [
      "Warning 1: for band 1, nodata value has been rounded to -2147483648, Int32 being an integer datatype.\n",
      "Warning 1: for band 1, nodata value has been rounded to -2147483648, Int32 being an integer datatype.\n"
     ]
    },
    {
     "name": "stdout",
     "output_type": "stream",
     "text": [
      "...30...40...50...60...70...80...90...100 - done.\n",
      "Done: 0\n",
      "Doing: B15.tif\n",
      "Input file size is 829, 1222\n",
      "0...10...20...30...40...50...60...70...80...90...100 - done.\n",
      "Done: 0\n",
      "Doing: B16.tif\n",
      "Input file size is 829, 1222\n",
      "0...10...20...30...40...50...60...70."
     ]
    },
    {
     "name": "stderr",
     "output_type": "stream",
     "text": [
      "Warning 1: for band 1, nodata value has been rounded to -2147483648, Int32 being an integer datatype.\n",
      "Warning 1: for band 1, nodata value has been rounded to -2147483648, Int32 being an integer datatype.\n"
     ]
    },
    {
     "name": "stdout",
     "output_type": "stream",
     "text": [
      "..80...90...100 - done.\n",
      "Done: 0\n",
      "Doing: B17.tif\n",
      "Input file size is 829, 1222\n",
      "0...10...20...30...40...50...60...70...80...90...100 - done.\n",
      "Done: 0\n",
      "Doing: B18.tif\n",
      "Input file size is 829, 1222\n",
      "0...10...20...30...40...50...60...70...80...90...100 - done.\n",
      "Done: 0\n",
      "Doing: B19.tif\n"
     ]
    },
    {
     "name": "stderr",
     "output_type": "stream",
     "text": [
      "Warning 1: for band 1, nodata value has been rounded to -2147483648, Int32 being an integer datatype.\n",
      "Warning 1: for band 1, nodata value has been rounded to -2147483648, Int32 being an integer datatype.\n"
     ]
    },
    {
     "name": "stdout",
     "output_type": "stream",
     "text": [
      "Input file size is 829, 1222\n",
      "0...10...20...30...40...50...60...70...80...90...100 - done.\n",
      "Done: 0\n",
      "Doing: ASCII\n",
      "Done: 1\n",
      "Doing: B1.tif\n"
     ]
    },
    {
     "name": "stderr",
     "output_type": "stream",
     "text": [
      "ERROR 4: `SSP126/2021_2040/MPI-ESM1-2-LR/ASCII' not recognized as a supported file format.\n",
      "Warning 1: for band 1, nodata value has been rounded to -2147483648, Int32 being an integer datatype.\n"
     ]
    },
    {
     "name": "stdout",
     "output_type": "stream",
     "text": [
      "Input file size is 829, 1222\n",
      "0...10...20...30...40...50...60...70...80...90...100 - done.\n",
      "Done: 0\n",
      "Doing: B2.tif\n",
      "Input file size is 829, 1222\n",
      "0...10...20"
     ]
    },
    {
     "name": "stderr",
     "output_type": "stream",
     "text": [
      "Warning 1: for band 1, nodata value has been rounded to -2147483648, Int32 being an integer datatype.\n",
      "Warning 1: for band 1, nodata value has been rounded to -2147483648, Int32 being an integer datatype.\n"
     ]
    },
    {
     "name": "stdout",
     "output_type": "stream",
     "text": [
      "...30...40...50...60...70...80...90...100 - done.\n",
      "Done: 0\n",
      "Doing: B3.tif\n",
      "Input file size is 829, 1222\n",
      "0...10...20...30...40...50...60...70...80...90...100 - done.\n",
      "Done: 0\n",
      "Doing: B4.tif\n",
      "Input file size is 829, 1222\n",
      "0...10...20...30...40...50...60...70"
     ]
    },
    {
     "name": "stderr",
     "output_type": "stream",
     "text": [
      "Warning 1: for band 1, nodata value has been rounded to -2147483648, Int32 being an integer datatype.\n",
      "Warning 1: for band 1, nodata value has been rounded to -2147483648, Int32 being an integer datatype.\n"
     ]
    },
    {
     "name": "stdout",
     "output_type": "stream",
     "text": [
      "...80...90...100 - done.\n",
      "Done: 0\n",
      "Doing: B5.tif\n",
      "Input file size is 829, 1222\n",
      "0...10...20...30...40...50...60...70...80...90...100 - done.\n",
      "Done: 0\n",
      "Doing: B6.tif\n",
      "Input file size is 829, 1222\n",
      "0...10...20...30...40...50...60...70...80...90..."
     ]
    },
    {
     "name": "stderr",
     "output_type": "stream",
     "text": [
      "Warning 1: for band 1, nodata value has been rounded to -2147483648, Int32 being an integer datatype.\n",
      "Warning 1: for band 1, nodata value has been rounded to -2147483648, Int32 being an integer datatype.\n"
     ]
    },
    {
     "name": "stdout",
     "output_type": "stream",
     "text": [
      "100 - done.\n",
      "Done: 0\n",
      "Doing: B7.tif\n",
      "Input file size is 829, 1222\n",
      "0...10...20...30...40...50...60...70...80...90...100 - done.\n",
      "Done: 0\n",
      "Doing: B8.tif\n",
      "Input file size is 829, 1222\n",
      "0...10...20...30...40...50...60...70...80...90."
     ]
    },
    {
     "name": "stderr",
     "output_type": "stream",
     "text": [
      "Warning 1: for band 1, nodata value has been rounded to -2147483648, Int32 being an integer datatype.\n",
      "Warning 1: for band 1, nodata value has been rounded to -2147483648, Int32 being an integer datatype.\n"
     ]
    },
    {
     "name": "stdout",
     "output_type": "stream",
     "text": [
      "..100 - done.\n",
      "Done: 0\n",
      "Doing: B9.tif\n",
      "Input file size is 829, 1222\n",
      "0...10...20...30...40...50...60...70...80...90...100 - done.\n",
      "Done: 0\n",
      "Doing: B10.tif\n",
      "Input file size is 829, 1222\n",
      "0...10...20...30...40"
     ]
    },
    {
     "name": "stderr",
     "output_type": "stream",
     "text": [
      "Warning 1: for band 1, nodata value has been rounded to -2147483648, Int32 being an integer datatype.\n",
      "Warning 1: for band 1, nodata value has been rounded to -2147483648, Int32 being an integer datatype.\n"
     ]
    },
    {
     "name": "stdout",
     "output_type": "stream",
     "text": [
      "...50...60...70...80...90...100 - done.\n",
      "Done: 0\n",
      "Doing: B11.tif\n",
      "Input file size is 829, 1222\n",
      "0...10...20...30...40...50...60...70...80...90...100 - done.\n",
      "Done: 0\n",
      "Doing: B12.tif\n",
      "Input file size is 829, 1222\n",
      "0...10...20...30...40...50...60...70.."
     ]
    },
    {
     "name": "stderr",
     "output_type": "stream",
     "text": [
      "Warning 1: for band 1, nodata value has been rounded to -2147483648, Int32 being an integer datatype.\n",
      "Warning 1: for band 1, nodata value has been rounded to -2147483648, Int32 being an integer datatype.\n"
     ]
    },
    {
     "name": "stdout",
     "output_type": "stream",
     "text": [
      ".80...90...100 - done.\n",
      "Done: 0\n",
      "Doing: B13.tif\n",
      "Input file size is 829, 1222\n",
      "0...10...20...30...40...50...60...70...80...90...100 - done.\n",
      "Done: 0\n",
      "Doing: B14.tif\n",
      "Input file size is 829, 1222\n",
      "0...10...20...30...40...50...60...70...80...90."
     ]
    },
    {
     "name": "stderr",
     "output_type": "stream",
     "text": [
      "Warning 1: for band 1, nodata value has been rounded to -2147483648, Int32 being an integer datatype.\n",
      "Warning 1: for band 1, nodata value has been rounded to -2147483648, Int32 being an integer datatype.\n"
     ]
    },
    {
     "name": "stdout",
     "output_type": "stream",
     "text": [
      "..100 - done.\n",
      "Done: 0\n",
      "Doing: B15.tif\n",
      "Input file size is 829, 1222\n",
      "0...10...20...30...40...50...60...70...80...90...100 - done.\n",
      "Done: 0\n",
      "Doing: B16.tif\n",
      "Input file size is 829, 1222\n",
      "0...10...20...30...40...50...60...70...80...90...100 - done.\n",
      "Done: 0\n",
      "Doing: B17.tif\n"
     ]
    },
    {
     "name": "stderr",
     "output_type": "stream",
     "text": [
      "Warning 1: for band 1, nodata value has been rounded to -2147483648, Int32 being an integer datatype.\n",
      "Warning 1: for band 1, nodata value has been rounded to -2147483648, Int32 being an integer datatype.\n"
     ]
    },
    {
     "name": "stdout",
     "output_type": "stream",
     "text": [
      "Input file size is 829, 1222\n",
      "0...10...20...30...40...50...60...70...80...90...100 - done.\n",
      "Done: 0\n",
      "Doing: B18.tif\n",
      "Input file size is 829, 1222\n",
      "0...10..."
     ]
    },
    {
     "name": "stderr",
     "output_type": "stream",
     "text": [
      "Warning 1: for band 1, nodata value has been rounded to -2147483648, Int32 being an integer datatype.\n",
      "Warning 1: for band 1, nodata value has been rounded to -2147483648, Int32 being an integer datatype.\n"
     ]
    },
    {
     "name": "stdout",
     "output_type": "stream",
     "text": [
      "20...30...40...50...60...70...80...90...100 - done.\n",
      "Done: 0\n",
      "Doing: B19.tif\n",
      "Input file size is 829, 1222\n",
      "0...10...20...30...40...50...60...70...80...90...100 - done.\n",
      "Done: 0\n",
      "Doing: ASCII\n",
      "Done: 1\n",
      "Doing: B1.tif\n",
      "Input file size is 829, 1222\n",
      "0...10.."
     ]
    },
    {
     "name": "stderr",
     "output_type": "stream",
     "text": [
      "ERROR 4: `SSP126/2021_2040/MRI-ESM2-0/ASCII' not recognized as a supported file format.\n",
      "Warning 1: for band 1, nodata value has been rounded to -2147483648, Int32 being an integer datatype.\n"
     ]
    },
    {
     "name": "stdout",
     "output_type": "stream",
     "text": [
      ".20...30...40...50...60...70...80...90...100 - done.\n",
      "Done: 0\n",
      "Doing: B2.tif\n",
      "Input file size is 829, 1222\n",
      "0...10...20...30...40"
     ]
    },
    {
     "name": "stderr",
     "output_type": "stream",
     "text": [
      "Warning 1: for band 1, nodata value has been rounded to -2147483648, Int32 being an integer datatype.\n",
      "Warning 1: for band 1, nodata value has been rounded to -2147483648, Int32 being an integer datatype.\n"
     ]
    },
    {
     "name": "stdout",
     "output_type": "stream",
     "text": [
      "...50...60...70...80...90...100 - done.\n",
      "Done: 0\n",
      "Doing: B3.tif\n",
      "Input file size is 829, 1222\n",
      "0...10...20...30...40...50...60...70...80...90...100 - done.\n",
      "Done: 0\n",
      "Doing: B4.tif\n",
      "Input file size is 829, 1222\n",
      "0...10...20...30...40...50...60...70...80..."
     ]
    },
    {
     "name": "stderr",
     "output_type": "stream",
     "text": [
      "Warning 1: for band 1, nodata value has been rounded to -2147483648, Int32 being an integer datatype.\n",
      "Warning 1: for band 1, nodata value has been rounded to -2147483648, Int32 being an integer datatype.\n"
     ]
    },
    {
     "name": "stdout",
     "output_type": "stream",
     "text": [
      "90...100 - done.\n",
      "Done: 0\n",
      "Doing: B5.tif\n",
      "Input file size is 829, 1222\n",
      "0...10...20...30...40...50...60...70...80...90...100 - done.\n",
      "Done: 0\n",
      "Doing: B6.tif\n",
      "Input file size is 829, 1222\n",
      "0...10...20...30...40...50...60."
     ]
    },
    {
     "name": "stderr",
     "output_type": "stream",
     "text": [
      "Warning 1: for band 1, nodata value has been rounded to -2147483648, Int32 being an integer datatype.\n",
      "Warning 1: for band 1, nodata value has been rounded to -2147483648, Int32 being an integer datatype.\n"
     ]
    },
    {
     "name": "stdout",
     "output_type": "stream",
     "text": [
      "..70...80...90...100 - done.\n",
      "Done: 0\n",
      "Doing: B7.tif\n",
      "Input file size is 829, 1222\n",
      "0...10...20...30...40...50...60...70...80...90...100 - done.\n",
      "Done: 0\n",
      "Doing: B8.tif\n",
      "Input file size is 829, 1222\n",
      "0...10...20...30...40...50...60...70...80...90..."
     ]
    },
    {
     "name": "stderr",
     "output_type": "stream",
     "text": [
      "Warning 1: for band 1, nodata value has been rounded to -2147483648, Int32 being an integer datatype.\n",
      "Warning 1: for band 1, nodata value has been rounded to -2147483648, Int32 being an integer datatype.\n"
     ]
    },
    {
     "name": "stdout",
     "output_type": "stream",
     "text": [
      "100 - done.\n",
      "Done: 0\n",
      "Doing: B9.tif\n",
      "Input file size is 829, 1222\n",
      "0...10...20...30...40...50...60...70...80...90...100 - done.\n",
      "Done: 0\n",
      "Doing: B10.tif\n",
      "Input file size is 829, 1222\n",
      "0...10...20...30...40...50...60...70...80..."
     ]
    },
    {
     "name": "stderr",
     "output_type": "stream",
     "text": [
      "Warning 1: for band 1, nodata value has been rounded to -2147483648, Int32 being an integer datatype.\n",
      "Warning 1: for band 1, nodata value has been rounded to -2147483648, Int32 being an integer datatype.\n"
     ]
    },
    {
     "name": "stdout",
     "output_type": "stream",
     "text": [
      "90...100 - done.\n",
      "Done: 0\n",
      "Doing: B11.tif\n",
      "Input file size is 829, 1222\n",
      "0...10...20...30...40...50...60...70...80...90...100 - done.\n",
      "Done: 0\n",
      "Doing: B12.tif\n",
      "Input file size is 829, 1222\n",
      "0...10...20...30...40...50...60...70...80...90...100 - done.\n",
      "Done: 0\n",
      "Doing: B13.tif\n"
     ]
    },
    {
     "name": "stderr",
     "output_type": "stream",
     "text": [
      "Warning 1: for band 1, nodata value has been rounded to -2147483648, Int32 being an integer datatype.\n",
      "Warning 1: for band 1, nodata value has been rounded to -2147483648, Int32 being an integer datatype.\n"
     ]
    },
    {
     "name": "stdout",
     "output_type": "stream",
     "text": [
      "Input file size is 829, 1222\n",
      "0...10...20...30...40...50...60...70...80...90...100 - done.\n",
      "Done: 0\n",
      "Doing: B14.tif\n",
      "Input file size is 829, 1222\n",
      "0...10.."
     ]
    },
    {
     "name": "stderr",
     "output_type": "stream",
     "text": [
      "Warning 1: for band 1, nodata value has been rounded to -2147483648, Int32 being an integer datatype.\n",
      "Warning 1: for band 1, nodata value has been rounded to -2147483648, Int32 being an integer datatype.\n"
     ]
    },
    {
     "name": "stdout",
     "output_type": "stream",
     "text": [
      ".20...30...40...50...60...70...80...90...100 - done.\n",
      "Done: 0\n",
      "Doing: B15.tif\n",
      "Input file size is 829, 1222\n",
      "0...10...20...30...40...50...60...70...80...90...100 - done.\n",
      "Done: 0\n",
      "Doing: B16.tif\n",
      "Input file size is 829, 1222\n",
      "0...10...20...30...40...50...60.."
     ]
    },
    {
     "name": "stderr",
     "output_type": "stream",
     "text": [
      "Warning 1: for band 1, nodata value has been rounded to -2147483648, Int32 being an integer datatype.\n",
      "Warning 1: for band 1, nodata value has been rounded to -2147483648, Int32 being an integer datatype.\n"
     ]
    },
    {
     "name": "stdout",
     "output_type": "stream",
     "text": [
      ".70...80...90...100 - done.\n",
      "Done: 0\n",
      "Doing: B17.tif\n",
      "Input file size is 829, 1222\n",
      "0...10...20...30...40...50...60...70...80...90...100 - done.\n",
      "Done: 0\n",
      "Doing: B18.tif\n",
      "Input file size is 829, 1222\n",
      "0...10...20...30...40...50...60...70...80...90..."
     ]
    },
    {
     "name": "stderr",
     "output_type": "stream",
     "text": [
      "Warning 1: for band 1, nodata value has been rounded to -2147483648, Int32 being an integer datatype.\n",
      "Warning 1: for band 1, nodata value has been rounded to -2147483648, Int32 being an integer datatype.\n"
     ]
    },
    {
     "name": "stdout",
     "output_type": "stream",
     "text": [
      "100 - done.\n",
      "Done: 0\n",
      "Doing: B19.tif\n",
      "Input file size is 829, 1222\n",
      "0...10...20...30...40...50...60...70...80...90...100 - done.\n",
      "Done: 0\n",
      "Doing: ASCII\n"
     ]
    },
    {
     "name": "stderr",
     "output_type": "stream",
     "text": [
      "ERROR 4: `SSP126/2041_2060/GFDL-ESM4/ASCII' not recognized as a supported file format.\n",
      "Warning 1: for band 1, nodata value has been rounded to -2147483648, Int32 being an integer datatype.\n"
     ]
    },
    {
     "name": "stdout",
     "output_type": "stream",
     "text": [
      "Done: 1\n",
      "Doing: B1.tif\n",
      "Input file size is 829, 1222\n",
      "0...10...20...30...40...50...60...70...80...90...100 - done.\n",
      "Done: 0\n",
      "Doing: B2.tif\n"
     ]
    },
    {
     "name": "stderr",
     "output_type": "stream",
     "text": [
      "Warning 1: for band 1, nodata value has been rounded to -2147483648, Int32 being an integer datatype.\n",
      "Warning 1: for band 1, nodata value has been rounded to -2147483648, Int32 being an integer datatype.\n"
     ]
    },
    {
     "name": "stdout",
     "output_type": "stream",
     "text": [
      "Input file size is 829, 1222\n",
      "0...10...20...30...40...50...60...70...80...90...100 - done.\n",
      "Done: 0\n",
      "Doing: B3.tif\n",
      "Input file size is 829, 1222\n",
      "0...10...20...30...40...50...60...70...80...90...100 - done.\n",
      "Done: 0\n",
      "Doing: B4.tif\n",
      "Input file size is 829, 1222\n",
      "0...10..."
     ]
    },
    {
     "name": "stderr",
     "output_type": "stream",
     "text": [
      "Warning 1: for band 1, nodata value has been rounded to -2147483648, Int32 being an integer datatype.\n"
     ]
    },
    {
     "name": "stdout",
     "output_type": "stream",
     "text": [
      "20...30...40...50...60...70...80...90...100 - done.\n",
      "Done: 0\n",
      "Doing: B5.tif\n"
     ]
    },
    {
     "name": "stderr",
     "output_type": "stream",
     "text": [
      "Warning 1: for band 1, nodata value has been rounded to -2147483648, Int32 being an integer datatype.\n",
      "Warning 1: for band 1, nodata value has been rounded to -2147483648, Int32 being an integer datatype.\n"
     ]
    },
    {
     "name": "stdout",
     "output_type": "stream",
     "text": [
      "Input file size is 829, 1222\n",
      "0...10...20...30...40...50...60...70...80...90...100 - done.\n",
      "Done: 0\n",
      "Doing: B6.tif\n",
      "Input file size is 829, 1222\n",
      "0...10...20...30...40...50...60...70...80...90...100 - done.\n",
      "Done: 0\n",
      "Doing: B7.tif\n",
      "Input file size is 829, 1222\n",
      "0...10...20...30...40.."
     ]
    },
    {
     "name": "stderr",
     "output_type": "stream",
     "text": [
      "Warning 1: for band 1, nodata value has been rounded to -2147483648, Int32 being an integer datatype.\n",
      "Warning 1: for band 1, nodata value has been rounded to -2147483648, Int32 being an integer datatype.\n"
     ]
    },
    {
     "name": "stdout",
     "output_type": "stream",
     "text": [
      ".50...60...70...80...90...100 - done.\n",
      "Done: 0\n",
      "Doing: B8.tif\n",
      "Input file size is 829, 1222\n",
      "0...10...20...30...40...50...60...70...80...90...100 - done.\n",
      "Done: 0\n",
      "Doing: B9.tif\n",
      "Input file size is 829, 1222\n",
      "0...10...20...30...40...50...60...70...80"
     ]
    },
    {
     "name": "stderr",
     "output_type": "stream",
     "text": [
      "Warning 1: for band 1, nodata value has been rounded to -2147483648, Int32 being an integer datatype.\n"
     ]
    },
    {
     "name": "stdout",
     "output_type": "stream",
     "text": [
      "...90...100 - done.\n",
      "Done: 0\n",
      "Doing: B10.tif\n",
      "Input file size is 829, 1222\n",
      "0...10...20...30...40...50...60...70...80...90..."
     ]
    },
    {
     "name": "stderr",
     "output_type": "stream",
     "text": [
      "Warning 1: for band 1, nodata value has been rounded to -2147483648, Int32 being an integer datatype.\n",
      "Warning 1: for band 1, nodata value has been rounded to -2147483648, Int32 being an integer datatype.\n"
     ]
    },
    {
     "name": "stdout",
     "output_type": "stream",
     "text": [
      "100 - done.\n",
      "Done: 0\n",
      "Doing: B11.tif\n",
      "Input file size is 829, 1222\n",
      "0...10...20...30...40...50...60...70...80...90...100 - done.\n",
      "Done: 0\n",
      "Doing: B12.tif\n",
      "Input file size is 829, 1222\n",
      "0...10...20...30...40...50...60...70...80"
     ]
    },
    {
     "name": "stderr",
     "output_type": "stream",
     "text": [
      "Warning 1: for band 1, nodata value has been rounded to -2147483648, Int32 being an integer datatype.\n",
      "Warning 1: for band 1, nodata value has been rounded to -2147483648, Int32 being an integer datatype.\n"
     ]
    },
    {
     "name": "stdout",
     "output_type": "stream",
     "text": [
      "...90...100 - done.\n",
      "Done: 0\n",
      "Doing: B13.tif\n",
      "Input file size is 829, 1222\n",
      "0...10...20...30...40...50...60...70...80...90...100 - done.\n",
      "Done: 0\n",
      "Doing: B14.tif\n"
     ]
    },
    {
     "name": "stderr",
     "output_type": "stream",
     "text": [
      "Warning 1: for band 1, nodata value has been rounded to -2147483648, Int32 being an integer datatype.\n"
     ]
    },
    {
     "name": "stdout",
     "output_type": "stream",
     "text": [
      "Input file size is 829, 1222\n",
      "0...10...20...30...40...50...60...70...80...90...100 - done.\n",
      "Done: 0\n",
      "Doing: B15.tif\n",
      "Input file size is 829, 1222\n",
      "0...10...20...30...40...50...60...70...80...90...100 - done.\n",
      "Done: 0\n",
      "Doing: B16.tif\n"
     ]
    },
    {
     "name": "stderr",
     "output_type": "stream",
     "text": [
      "Warning 1: for band 1, nodata value has been rounded to -2147483648, Int32 being an integer datatype.\n",
      "Warning 1: for band 1, nodata value has been rounded to -2147483648, Int32 being an integer datatype.\n"
     ]
    },
    {
     "name": "stdout",
     "output_type": "stream",
     "text": [
      "Input file size is 829, 1222\n",
      "0...10...20...30...40...50...60...70...80...90...100 - done.\n",
      "Done: 0\n",
      "Doing: B17.tif\n"
     ]
    },
    {
     "name": "stderr",
     "output_type": "stream",
     "text": [
      "Warning 1: for band 1, nodata value has been rounded to -2147483648, Int32 being an integer datatype.\n",
      "Warning 1: for band 1, nodata value has been rounded to -2147483648, Int32 being an integer datatype.\n"
     ]
    },
    {
     "name": "stdout",
     "output_type": "stream",
     "text": [
      "Input file size is 829, 1222\n",
      "0...10...20...30...40...50...60...70...80...90...100 - done.\n",
      "Done: 0\n",
      "Doing: B18.tif\n",
      "Input file size is 829, 1222\n",
      "0...10...20...30...40...50...60...70...80...90...100 - done.\n",
      "Done: 0\n",
      "Doing: B19.tif\n",
      "Input file size is 829, 1222\n",
      "0...10...20...30...40...50."
     ]
    },
    {
     "name": "stderr",
     "output_type": "stream",
     "text": [
      "Warning 1: for band 1, nodata value has been rounded to -2147483648, Int32 being an integer datatype.\n"
     ]
    },
    {
     "name": "stdout",
     "output_type": "stream",
     "text": [
      "..60...70...80...90...100 - done.\n",
      "Done: 0\n",
      "Doing: ASCII\n",
      "Done: 1\n",
      "Doing: B1.tif\n",
      "Input file size is 829, 1222\n",
      "0"
     ]
    },
    {
     "name": "stderr",
     "output_type": "stream",
     "text": [
      "ERROR 4: `SSP126/2041_2060/UKESM1-0-LL/ASCII' not recognized as a supported file format.\n",
      "Warning 1: for band 1, nodata value has been rounded to -2147483648, Int32 being an integer datatype.\n"
     ]
    },
    {
     "name": "stdout",
     "output_type": "stream",
     "text": [
      "...10...20...30...40...50...60...70...80...90...100 - done.\n",
      "Done: 0\n",
      "Doing: B2.tif\n",
      "Input file size is 829, 1222\n",
      "0...10...20..."
     ]
    },
    {
     "name": "stderr",
     "output_type": "stream",
     "text": [
      "Warning 1: for band 1, nodata value has been rounded to -2147483648, Int32 being an integer datatype.\n",
      "Warning 1: for band 1, nodata value has been rounded to -2147483648, Int32 being an integer datatype.\n"
     ]
    },
    {
     "name": "stdout",
     "output_type": "stream",
     "text": [
      "30...40...50...60...70...80...90...100 - done.\n",
      "Done: 0\n",
      "Doing: B3.tif\n",
      "Input file size is 829, 1222\n",
      "0...10...20...30...40...50...60...70...80...90...100 - done.\n",
      "Done: 0\n",
      "Doing: B4.tif\n",
      "Input file size is 829, 1222\n",
      "0...10...20...30..."
     ]
    },
    {
     "name": "stderr",
     "output_type": "stream",
     "text": [
      "Warning 1: for band 1, nodata value has been rounded to -2147483648, Int32 being an integer datatype.\n",
      "Warning 1: for band 1, nodata value has been rounded to -2147483648, Int32 being an integer datatype.\n"
     ]
    },
    {
     "name": "stdout",
     "output_type": "stream",
     "text": [
      "40...50...60...70...80...90...100 - done.\n",
      "Done: 0\n",
      "Doing: B5.tif\n",
      "Input file size is 829, 1222\n",
      "0...10...20...30...40...50...60...70...80...90...100 - done.\n",
      "Done: 0\n",
      "Doing: B6.tif\n",
      "Input file size is 829, 1222\n",
      "0...10...20...30."
     ]
    },
    {
     "name": "stderr",
     "output_type": "stream",
     "text": [
      "Warning 1: for band 1, nodata value has been rounded to -2147483648, Int32 being an integer datatype.\n"
     ]
    },
    {
     "name": "stdout",
     "output_type": "stream",
     "text": [
      "..40...50...60...70...80...90...100 - done.\n",
      "Done: 0\n",
      "Doing: B7.tif\n"
     ]
    },
    {
     "name": "stderr",
     "output_type": "stream",
     "text": [
      "Warning 1: for band 1, nodata value has been rounded to -2147483648, Int32 being an integer datatype.\n",
      "Warning 1: for band 1, nodata value has been rounded to -2147483648, Int32 being an integer datatype.\n"
     ]
    },
    {
     "name": "stdout",
     "output_type": "stream",
     "text": [
      "Input file size is 829, 1222\n",
      "0...10...20...30...40...50...60...70...80...90...100 - done.\n",
      "Done: 0\n",
      "Doing: B8.tif\n",
      "Input file size is 829, 1222\n",
      "0...10...20...30...40...50...60...70...80...90...100 - done.\n",
      "Done: 0\n",
      "Doing: B9.tif\n",
      "Input file size is 829, 1222\n",
      "0...10...20...30...40...50...60...70...80...90...100 - done.\n",
      "Done: 0\n",
      "Doing: B10.tif\n"
     ]
    },
    {
     "name": "stderr",
     "output_type": "stream",
     "text": [
      "Warning 1: for band 1, nodata value has been rounded to -2147483648, Int32 being an integer datatype.\n",
      "Warning 1: for band 1, nodata value has been rounded to -2147483648, Int32 being an integer datatype.\n"
     ]
    },
    {
     "name": "stdout",
     "output_type": "stream",
     "text": [
      "Input file size is 829, 1222\n",
      "0...10...20...30...40...50...60...70...80...90...100 - done.\n",
      "Done: 0\n",
      "Doing: B11.tif\n",
      "Input file size is 829, 1222\n",
      "0...10...20...30...40."
     ]
    },
    {
     "name": "stderr",
     "output_type": "stream",
     "text": [
      "Warning 1: for band 1, nodata value has been rounded to -2147483648, Int32 being an integer datatype.\n"
     ]
    },
    {
     "name": "stdout",
     "output_type": "stream",
     "text": [
      "..50...60...70...80...90...100 - done.\n",
      "Done: 0\n",
      "Doing: B12.tif\n",
      "Input file size is 829, 1222\n",
      "0...10...20...30."
     ]
    },
    {
     "name": "stderr",
     "output_type": "stream",
     "text": [
      "Warning 1: for band 1, nodata value has been rounded to -2147483648, Int32 being an integer datatype.\n"
     ]
    },
    {
     "name": "stdout",
     "output_type": "stream",
     "text": [
      "..40...50...60...70...80...90...100 - done.\n",
      "Done: 0\n",
      "Doing: B13.tif\n",
      "Input file size is 829, 1222\n",
      "0"
     ]
    },
    {
     "name": "stderr",
     "output_type": "stream",
     "text": [
      "Warning 1: for band 1, nodata value has been rounded to -2147483648, Int32 being an integer datatype.\n"
     ]
    },
    {
     "name": "stdout",
     "output_type": "stream",
     "text": [
      "...10...20...30...40...50...60...70...80...90...100 - done.\n",
      "Done: 0\n",
      "Doing: B14.tif\n"
     ]
    },
    {
     "name": "stderr",
     "output_type": "stream",
     "text": [
      "Warning 1: for band 1, nodata value has been rounded to -2147483648, Int32 being an integer datatype.\n",
      "Warning 1: for band 1, nodata value has been rounded to -2147483648, Int32 being an integer datatype.\n"
     ]
    },
    {
     "name": "stdout",
     "output_type": "stream",
     "text": [
      "Input file size is 829, 1222\n",
      "0...10...20...30...40...50...60...70...80...90...100 - done.\n",
      "Done: 0\n",
      "Doing: B15.tif\n",
      "Input file size is 829, 1222\n",
      "0...10...20...30...40...50...60...70...80...90...100 - done.\n",
      "Done: 0\n",
      "Doing: B16.tif\n",
      "Input file size is 829, 1222\n",
      "0...10...20.."
     ]
    },
    {
     "name": "stderr",
     "output_type": "stream",
     "text": [
      "Warning 1: for band 1, nodata value has been rounded to -2147483648, Int32 being an integer datatype.\n",
      "Warning 1: for band 1, nodata value has been rounded to -2147483648, Int32 being an integer datatype.\n"
     ]
    },
    {
     "name": "stdout",
     "output_type": "stream",
     "text": [
      ".30...40...50...60...70...80...90...100 - done.\n",
      "Done: 0\n",
      "Doing: B17.tif\n",
      "Input file size is 829, 1222\n",
      "0...10...20...30...40...50...60...70...80...90...100 - done.\n",
      "Done: 0\n",
      "Doing: B18.tif\n",
      "Input file size is 829, 1222\n",
      "0...10.."
     ]
    },
    {
     "name": "stderr",
     "output_type": "stream",
     "text": [
      "Warning 1: for band 1, nodata value has been rounded to -2147483648, Int32 being an integer datatype.\n"
     ]
    },
    {
     "name": "stdout",
     "output_type": "stream",
     "text": [
      ".20...30...40...50...60...70...80...90...100 - done.\n",
      "Done: 0\n",
      "Doing: B19.tif\n",
      "Input file size is 829, 1222\n",
      "0.."
     ]
    },
    {
     "name": "stderr",
     "output_type": "stream",
     "text": [
      "Warning 1: for band 1, nodata value has been rounded to -2147483648, Int32 being an integer datatype.\n",
      "ERROR 4: `SSP126/2041_2060/ACCESS-CM2/ASCII' not recognized as a supported file format.\n"
     ]
    },
    {
     "name": "stdout",
     "output_type": "stream",
     "text": [
      ".10...20...30...40...50...60...70...80...90...100 - done.\n",
      "Done: 0\n",
      "Doing: ASCII\n",
      "Done: 1\n",
      "Doing: B1.tif\n"
     ]
    },
    {
     "name": "stderr",
     "output_type": "stream",
     "text": [
      "Warning 1: for band 1, nodata value has been rounded to -2147483648, Int32 being an integer datatype.\n",
      "Warning 1: for band 1, nodata value has been rounded to -2147483648, Int32 being an integer datatype.\n"
     ]
    },
    {
     "name": "stdout",
     "output_type": "stream",
     "text": [
      "Input file size is 829, 1222\n",
      "0...10...20...30...40...50...60...70...80...90...100 - done.\n",
      "Done: 0\n",
      "Doing: B2.tif\n",
      "Input file size is 829, 1222\n",
      "0...10...20...30...40...50...60...70...80...90...100 - done.\n",
      "Done: 0\n",
      "Doing: B3.tif\n",
      "Input file size is 829, 1222\n",
      "0"
     ]
    },
    {
     "name": "stderr",
     "output_type": "stream",
     "text": [
      "Warning 1: for band 1, nodata value has been rounded to -2147483648, Int32 being an integer datatype.\n",
      "Warning 1: for band 1, nodata value has been rounded to -2147483648, Int32 being an integer datatype.\n"
     ]
    },
    {
     "name": "stdout",
     "output_type": "stream",
     "text": [
      "...10...20...30...40...50...60...70...80...90...100 - done.\n",
      "Done: 0\n",
      "Doing: B4.tif\n",
      "Input file size is 829, 1222\n",
      "0...10...20...30...40...50...60...70...80...90...100 - done.\n",
      "Done: 0\n",
      "Doing: B5.tif\n",
      "Input file size is 829, 1222\n",
      "0...10..."
     ]
    },
    {
     "name": "stderr",
     "output_type": "stream",
     "text": [
      "Warning 1: for band 1, nodata value has been rounded to -2147483648, Int32 being an integer datatype.\n",
      "Warning 1: for band 1, nodata value has been rounded to -2147483648, Int32 being an integer datatype.\n"
     ]
    },
    {
     "name": "stdout",
     "output_type": "stream",
     "text": [
      "20...30...40...50...60...70...80...90...100 - done.\n",
      "Done: 0\n",
      "Doing: B6.tif\n",
      "Input file size is 829, 1222\n",
      "0...10...20...30...40...50...60...70...80...90...100 - done.\n",
      "Done: 0\n",
      "Doing: B7.tif\n",
      "Input file size is 829, 1222\n",
      "0...10...20."
     ]
    },
    {
     "name": "stderr",
     "output_type": "stream",
     "text": [
      "Warning 1: for band 1, nodata value has been rounded to -2147483648, Int32 being an integer datatype.\n"
     ]
    },
    {
     "name": "stdout",
     "output_type": "stream",
     "text": [
      "..30...40...50...60...70...80...90...100 - done.\n",
      "Done: 0\n",
      "Doing: B8.tif\n"
     ]
    },
    {
     "name": "stderr",
     "output_type": "stream",
     "text": [
      "Warning 1: for band 1, nodata value has been rounded to -2147483648, Int32 being an integer datatype.\n",
      "Warning 1: for band 1, nodata value has been rounded to -2147483648, Int32 being an integer datatype.\n"
     ]
    },
    {
     "name": "stdout",
     "output_type": "stream",
     "text": [
      "Input file size is 829, 1222\n",
      "0...10...20...30...40...50...60...70...80...90...100 - done.\n",
      "Done: 0\n",
      "Doing: B9.tif\n",
      "Input file size is 829, 1222\n",
      "0...10...20...30...40...50...60...70...80...90...100 - done.\n",
      "Done: 0\n",
      "Doing: B10.tif\n",
      "Input file size is 829, 1222\n",
      "0...10...20...30...40."
     ]
    },
    {
     "name": "stderr",
     "output_type": "stream",
     "text": [
      "Warning 1: for band 1, nodata value has been rounded to -2147483648, Int32 being an integer datatype.\n",
      "Warning 1: for band 1, nodata value has been rounded to -2147483648, Int32 being an integer datatype.\n"
     ]
    },
    {
     "name": "stdout",
     "output_type": "stream",
     "text": [
      "..50...60...70...80...90...100 - done.\n",
      "Done: 0\n",
      "Doing: B11.tif\n",
      "Input file size is 829, 1222\n",
      "0...10...20...30...40...50...60...70...80...90...100 - done.\n",
      "Done: 0\n",
      "Doing: B12.tif\n",
      "Input file size is 829, 1222\n",
      "0...10...20...30...40...50...60...70...80...90"
     ]
    },
    {
     "name": "stderr",
     "output_type": "stream",
     "text": [
      "Warning 1: for band 1, nodata value has been rounded to -2147483648, Int32 being an integer datatype.\n",
      "Warning 1: for band 1, nodata value has been rounded to -2147483648, Int32 being an integer datatype.\n"
     ]
    },
    {
     "name": "stdout",
     "output_type": "stream",
     "text": [
      "...100 - done.\n",
      "Done: 0\n",
      "Doing: B13.tif\n",
      "Input file size is 829, 1222\n",
      "0...10...20...30...40...50...60...70...80...90...100 - done.\n",
      "Done: 0\n",
      "Doing: B14.tif\n",
      "Input file size is 829, 1222\n",
      "0...10...20...30...40...50...60...70...80...90...100 - done.\n",
      "Done: 0\n",
      "Doing: B15.tif\n"
     ]
    },
    {
     "name": "stderr",
     "output_type": "stream",
     "text": [
      "Warning 1: for band 1, nodata value has been rounded to -2147483648, Int32 being an integer datatype.\n",
      "Warning 1: for band 1, nodata value has been rounded to -2147483648, Int32 being an integer datatype.\n"
     ]
    },
    {
     "name": "stdout",
     "output_type": "stream",
     "text": [
      "Input file size is 829, 1222\n",
      "0...10...20...30...40...50...60...70...80...90...100 - done.\n",
      "Done: 0\n",
      "Doing: B16.tif\n"
     ]
    },
    {
     "name": "stderr",
     "output_type": "stream",
     "text": [
      "Warning 1: for band 1, nodata value has been rounded to -2147483648, Int32 being an integer datatype.\n",
      "Warning 1: for band 1, nodata value has been rounded to -2147483648, Int32 being an integer datatype.\n"
     ]
    },
    {
     "name": "stdout",
     "output_type": "stream",
     "text": [
      "Input file size is 829, 1222\n",
      "0...10...20...30...40...50...60...70...80...90...100 - done.\n",
      "Done: 0\n",
      "Doing: B17.tif\n",
      "Input file size is 829, 1222\n",
      "0...10...20...30...40...50...60...70...80...90...100 - done.\n",
      "Done: 0\n",
      "Doing: B18.tif\n",
      "Input file size is 829, 1222\n",
      "0...10...20."
     ]
    },
    {
     "name": "stderr",
     "output_type": "stream",
     "text": [
      "Warning 1: for band 1, nodata value has been rounded to -2147483648, Int32 being an integer datatype.\n"
     ]
    },
    {
     "name": "stdout",
     "output_type": "stream",
     "text": [
      "..30...40...50...60...70...80...90...100 - done.\n",
      "Done: 0\n",
      "Doing: B19.tif\n",
      "Input file size is 829, 1222\n",
      "0...10."
     ]
    },
    {
     "name": "stderr",
     "output_type": "stream",
     "text": [
      "Warning 1: for band 1, nodata value has been rounded to -2147483648, Int32 being an integer datatype.\n"
     ]
    },
    {
     "name": "stdout",
     "output_type": "stream",
     "text": [
      "..20...30...40...50...60...70...80...90...100 - done.\n",
      "Done: 0\n",
      "Doing: ASCII\n",
      "Done: 1\n",
      "Doing: B1.tif\n",
      "Input file size is 829, 1222\n",
      "0...10...20...30...40...50...60...70...80...90.."
     ]
    },
    {
     "name": "stderr",
     "output_type": "stream",
     "text": [
      "ERROR 4: `SSP126/2041_2060/ACCESS-ESM1-5/ASCII' not recognized as a supported file format.\n",
      "Warning 1: for band 1, nodata value has been rounded to -2147483648, Int32 being an integer datatype.\n"
     ]
    },
    {
     "name": "stdout",
     "output_type": "stream",
     "text": [
      ".100 - done.\n",
      "Done: 0\n",
      "Doing: B2.tif\n",
      "Input file size is 829, 1222\n",
      "0...10...20...30...40...50...60...70...80...90..."
     ]
    },
    {
     "name": "stderr",
     "output_type": "stream",
     "text": [
      "Warning 1: for band 1, nodata value has been rounded to -2147483648, Int32 being an integer datatype.\n",
      "Warning 1: for band 1, nodata value has been rounded to -2147483648, Int32 being an integer datatype.\n"
     ]
    },
    {
     "name": "stdout",
     "output_type": "stream",
     "text": [
      "100 - done.\n",
      "Done: 0\n",
      "Doing: B3.tif\n",
      "Input file size is 829, 1222\n",
      "0...10...20...30...40...50...60...70...80...90...100 - done.\n",
      "Done: 0\n",
      "Doing: B4.tif\n"
     ]
    },
    {
     "name": "stderr",
     "output_type": "stream",
     "text": [
      "Warning 1: for band 1, nodata value has been rounded to -2147483648, Int32 being an integer datatype.\n",
      "Warning 1: for band 1, nodata value has been rounded to -2147483648, Int32 being an integer datatype.\n"
     ]
    },
    {
     "name": "stdout",
     "output_type": "stream",
     "text": [
      "Input file size is 829, 1222\n",
      "0...10...20...30...40...50...60...70...80...90...100 - done.\n",
      "Done: 0\n",
      "Doing: B5.tif\n",
      "Input file size is 829, 1222\n",
      "0...10...20...30...40...50...60...70...80...90...100 - done.\n",
      "Done: 0\n",
      "Doing: B6.tif\n",
      "Input file size is 829, 1222\n",
      "0...10...20"
     ]
    },
    {
     "name": "stderr",
     "output_type": "stream",
     "text": [
      "Warning 1: for band 1, nodata value has been rounded to -2147483648, Int32 being an integer datatype.\n"
     ]
    },
    {
     "name": "stdout",
     "output_type": "stream",
     "text": [
      "...30...40...50...60...70...80...90...100 - done.\n",
      "Done: 0\n",
      "Doing: B7.tif\n"
     ]
    },
    {
     "name": "stderr",
     "output_type": "stream",
     "text": [
      "Warning 1: for band 1, nodata value has been rounded to -2147483648, Int32 being an integer datatype.\n",
      "Warning 1: for band 1, nodata value has been rounded to -2147483648, Int32 being an integer datatype.\n"
     ]
    },
    {
     "name": "stdout",
     "output_type": "stream",
     "text": [
      "Input file size is 829, 1222\n",
      "0...10...20...30...40...50...60...70...80...90...100 - done.\n",
      "Done: 0\n",
      "Doing: B8.tif\n",
      "Input file size is 829, 1222\n",
      "0...10...20...30...40...50...60...70...80...90...100 - done.\n",
      "Done: 0\n",
      "Doing: B9.tif\n",
      "Input file size is 829, 1222\n",
      "0...10...20..."
     ]
    },
    {
     "name": "stderr",
     "output_type": "stream",
     "text": [
      "Warning 1: for band 1, nodata value has been rounded to -2147483648, Int32 being an integer datatype.\n",
      "Warning 1: for band 1, nodata value has been rounded to -2147483648, Int32 being an integer datatype.\n"
     ]
    },
    {
     "name": "stdout",
     "output_type": "stream",
     "text": [
      "30...40...50...60...70...80...90...100 - done.\n",
      "Done: 0\n",
      "Doing: B10.tif\n",
      "Input file size is 829, 1222\n",
      "0...10...20...30...40...50...60...70...80...90...100 - done.\n",
      "Done: 0\n",
      "Doing: B11.tif\n",
      "Input file size is 829, 1222\n",
      "0...10...20...30...40...50.."
     ]
    },
    {
     "name": "stderr",
     "output_type": "stream",
     "text": [
      "Warning 1: for band 1, nodata value has been rounded to -2147483648, Int32 being an integer datatype.\n",
      "Warning 1: for band 1, nodata value has been rounded to -2147483648, Int32 being an integer datatype.\n"
     ]
    },
    {
     "name": "stdout",
     "output_type": "stream",
     "text": [
      ".60...70...80...90...100 - done.\n",
      "Done: 0\n",
      "Doing: B12.tif\n",
      "Input file size is 829, 1222\n",
      "0...10...20...30...40...50...60...70...80...90...100 - done.\n",
      "Done: 0\n",
      "Doing: B13.tif\n",
      "Input file size is 829, 1222\n",
      "0...10...20...30...40...50...60...70.."
     ]
    },
    {
     "name": "stderr",
     "output_type": "stream",
     "text": [
      "Warning 1: for band 1, nodata value has been rounded to -2147483648, Int32 being an integer datatype.\n",
      "Warning 1: for band 1, nodata value has been rounded to -2147483648, Int32 being an integer datatype.\n"
     ]
    },
    {
     "name": "stdout",
     "output_type": "stream",
     "text": [
      ".80...90...100 - done.\n",
      "Done: 0\n",
      "Doing: B14.tif\n",
      "Input file size is 829, 1222\n",
      "0...10...20...30...40...50...60...70...80...90...100 - done.\n",
      "Done: 0\n",
      "Doing: B15.tif\n",
      "Input file size is 829, 1222\n",
      "0...10...20...30...40...50...60...70...80...90..."
     ]
    },
    {
     "name": "stderr",
     "output_type": "stream",
     "text": [
      "Warning 1: for band 1, nodata value has been rounded to -2147483648, Int32 being an integer datatype.\n",
      "Warning 1: for band 1, nodata value has been rounded to -2147483648, Int32 being an integer datatype.\n"
     ]
    },
    {
     "name": "stdout",
     "output_type": "stream",
     "text": [
      "100 - done.\n",
      "Done: 0\n",
      "Doing: B16.tif\n",
      "Input file size is 829, 1222\n",
      "0...10...20...30...40...50...60...70...80...90...100 - done.\n",
      "Done: 0\n",
      "Doing: B17.tif\n"
     ]
    },
    {
     "name": "stderr",
     "output_type": "stream",
     "text": [
      "Warning 1: for band 1, nodata value has been rounded to -2147483648, Int32 being an integer datatype.\n",
      "Warning 1: for band 1, nodata value has been rounded to -2147483648, Int32 being an integer datatype.\n"
     ]
    },
    {
     "name": "stdout",
     "output_type": "stream",
     "text": [
      "Input file size is 829, 1222\n",
      "0...10...20...30...40...50...60...70...80...90...100 - done.\n",
      "Done: 0\n",
      "Doing: B18.tif\n",
      "Input file size is 829, 1222\n",
      "0...10...20...30...40...50...60...70...80...90...100 - done.\n",
      "Done: 0\n",
      "Doing: B19.tif\n",
      "Input file size is 829, 1222\n",
      "0...10...20...30..."
     ]
    },
    {
     "name": "stderr",
     "output_type": "stream",
     "text": [
      "Warning 1: for band 1, nodata value has been rounded to -2147483648, Int32 being an integer datatype.\n",
      "ERROR 4: `SSP126/2041_2060/BCC-CSM2-MR/ASCII' not recognized as a supported file format.\n"
     ]
    },
    {
     "name": "stdout",
     "output_type": "stream",
     "text": [
      "40...50...60...70...80...90...100 - done.\n",
      "Done: 0\n",
      "Doing: ASCII\n",
      "Done: 1\n",
      "Doing: B1.tif\n",
      "Input file size is 829, 1222\n",
      "0.."
     ]
    },
    {
     "name": "stderr",
     "output_type": "stream",
     "text": [
      "Warning 1: for band 1, nodata value has been rounded to -2147483648, Int32 being an integer datatype.\n",
      "Warning 1: for band 1, nodata value has been rounded to -2147483648, Int32 being an integer datatype.\n"
     ]
    },
    {
     "name": "stdout",
     "output_type": "stream",
     "text": [
      ".10...20...30...40...50...60...70...80...90...100 - done.\n",
      "Done: 0\n",
      "Doing: B2.tif\n",
      "Input file size is 829, 1222\n",
      "0...10...20...30...40...50...60...70...80...90...100 - done.\n",
      "Done: 0\n",
      "Doing: B3.tif\n",
      "Input file size is 829, 1222\n",
      "0...10...20...30...40...50"
     ]
    },
    {
     "name": "stderr",
     "output_type": "stream",
     "text": [
      "Warning 1: for band 1, nodata value has been rounded to -2147483648, Int32 being an integer datatype.\n",
      "Warning 1: for band 1, nodata value has been rounded to -2147483648, Int32 being an integer datatype.\n"
     ]
    },
    {
     "name": "stdout",
     "output_type": "stream",
     "text": [
      "...60...70...80...90...100 - done.\n",
      "Done: 0\n",
      "Doing: B4.tif\n",
      "Input file size is 829, 1222\n",
      "0...10...20...30...40...50...60...70...80...90...100 - done.\n",
      "Done: 0\n",
      "Doing: B5.tif\n",
      "Input file size is 829, 1222\n",
      "0...10...20...30...40...50...60...70...80...90..."
     ]
    },
    {
     "name": "stderr",
     "output_type": "stream",
     "text": [
      "Warning 1: for band 1, nodata value has been rounded to -2147483648, Int32 being an integer datatype.\n",
      "Warning 1: for band 1, nodata value has been rounded to -2147483648, Int32 being an integer datatype.\n"
     ]
    },
    {
     "name": "stdout",
     "output_type": "stream",
     "text": [
      "100 - done.\n",
      "Done: 0\n",
      "Doing: B6.tif\n",
      "Input file size is 829, 1222\n",
      "0...10...20...30...40...50...60...70...80...90...100 - done.\n",
      "Done: 0\n",
      "Doing: B7.tif\n"
     ]
    },
    {
     "name": "stderr",
     "output_type": "stream",
     "text": [
      "Warning 1: for band 1, nodata value has been rounded to -2147483648, Int32 being an integer datatype.\n",
      "Warning 1: for band 1, nodata value has been rounded to -2147483648, Int32 being an integer datatype.\n"
     ]
    },
    {
     "name": "stdout",
     "output_type": "stream",
     "text": [
      "Input file size is 829, 1222\n",
      "0...10...20...30...40...50...60...70...80...90...100 - done.\n",
      "Done: 0\n",
      "Doing: B8.tif\n",
      "Input file size is 829, 1222\n",
      "0...10...20...30...40...50...60...70...80...90...100 - done.\n",
      "Done: 0\n",
      "Doing: B9.tif\n",
      "Input file size is 829, 1222\n",
      "0...10...20...30..."
     ]
    },
    {
     "name": "stderr",
     "output_type": "stream",
     "text": [
      "Warning 1: for band 1, nodata value has been rounded to -2147483648, Int32 being an integer datatype.\n",
      "Warning 1: for band 1, nodata value has been rounded to -2147483648, Int32 being an integer datatype.\n"
     ]
    },
    {
     "name": "stdout",
     "output_type": "stream",
     "text": [
      "40...50...60...70...80...90...100 - done.\n",
      "Done: 0\n",
      "Doing: B10.tif\n",
      "Input file size is 829, 1222\n",
      "0...10...20...30...40...50...60...70...80...90...100 - done.\n",
      "Done: 0\n",
      "Doing: B11.tif\n",
      "Input file size is 829, 1222\n",
      "0...10...20...30...40...50...60...70...80.."
     ]
    },
    {
     "name": "stderr",
     "output_type": "stream",
     "text": [
      "Warning 1: for band 1, nodata value has been rounded to -2147483648, Int32 being an integer datatype.\n",
      "Warning 1: for band 1, nodata value has been rounded to -2147483648, Int32 being an integer datatype.\n"
     ]
    },
    {
     "name": "stdout",
     "output_type": "stream",
     "text": [
      ".90...100 - done.\n",
      "Done: 0\n",
      "Doing: B12.tif\n",
      "Input file size is 829, 1222\n",
      "0...10...20...30...40...50...60...70...80...90...100 - done.\n",
      "Done: 0\n",
      "Doing: B13.tif\n",
      "Input file size is 829, 1222\n",
      "0...10...20...30...40...50...60...70...80...90...100 - done.\n",
      "Done: 0\n",
      "Doing: B14.tif\n"
     ]
    },
    {
     "name": "stderr",
     "output_type": "stream",
     "text": [
      "Warning 1: for band 1, nodata value has been rounded to -2147483648, Int32 being an integer datatype.\n",
      "Warning 1: for band 1, nodata value has been rounded to -2147483648, Int32 being an integer datatype.\n"
     ]
    },
    {
     "name": "stdout",
     "output_type": "stream",
     "text": [
      "Input file size is 829, 1222\n",
      "0...10...20...30...40...50...60...70...80...90...100 - done.\n",
      "Done: 0\n",
      "Doing: B15.tif\n",
      "Input file size is 829, 1222\n",
      "0...10...20."
     ]
    },
    {
     "name": "stderr",
     "output_type": "stream",
     "text": [
      "Warning 1: for band 1, nodata value has been rounded to -2147483648, Int32 being an integer datatype.\n",
      "Warning 1: for band 1, nodata value has been rounded to -2147483648, Int32 being an integer datatype.\n"
     ]
    },
    {
     "name": "stdout",
     "output_type": "stream",
     "text": [
      "..30...40...50...60...70...80...90...100 - done.\n",
      "Done: 0\n",
      "Doing: B16.tif\n",
      "Input file size is 829, 1222\n",
      "0...10...20...30...40...50...60...70...80...90...100 - done.\n",
      "Done: 0\n",
      "Doing: B17.tif\n",
      "Input file size is 829, 1222\n",
      "0...10...20...30...40...50...60...70"
     ]
    },
    {
     "name": "stderr",
     "output_type": "stream",
     "text": [
      "Warning 1: for band 1, nodata value has been rounded to -2147483648, Int32 being an integer datatype.\n",
      "Warning 1: for band 1, nodata value has been rounded to -2147483648, Int32 being an integer datatype.\n"
     ]
    },
    {
     "name": "stdout",
     "output_type": "stream",
     "text": [
      "...80...90...100 - done.\n",
      "Done: 0\n",
      "Doing: B18.tif\n",
      "Input file size is 829, 1222\n",
      "0...10...20...30...40...50...60...70...80...90...100 - done.\n",
      "Done: 0\n",
      "Doing: B19.tif\n",
      "Input file size is 829, 1222\n",
      "0...10...20...30...40...50...60...70...80...90..."
     ]
    },
    {
     "name": "stderr",
     "output_type": "stream",
     "text": [
      "Warning 1: for band 1, nodata value has been rounded to -2147483648, Int32 being an integer datatype.\n",
      "ERROR 4: `SSP126/2041_2060/CanESM5/ASCII' not recognized as a supported file format.\n"
     ]
    },
    {
     "name": "stdout",
     "output_type": "stream",
     "text": [
      "100 - done.\n",
      "Done: 0\n",
      "Doing: ASCII\n",
      "Done: 1\n",
      "Doing: B1.tif\n",
      "Input file size is 829, 1222\n",
      "0...10...20...30...40...50...60...70...80...90."
     ]
    },
    {
     "name": "stderr",
     "output_type": "stream",
     "text": [
      "Warning 1: for band 1, nodata value has been rounded to -2147483648, Int32 being an integer datatype.\n",
      "Warning 1: for band 1, nodata value has been rounded to -2147483648, Int32 being an integer datatype.\n"
     ]
    },
    {
     "name": "stdout",
     "output_type": "stream",
     "text": [
      "..100 - done.\n",
      "Done: 0\n",
      "Doing: B2.tif\n",
      "Input file size is 829, 1222\n",
      "0...10...20...30...40...50...60...70...80...90...100 - done.\n",
      "Done: 0\n",
      "Doing: B3.tif\n",
      "Input file size is 829, 1222\n",
      "0...10...20...30...40...50...60...70...80...90...100 - done.\n",
      "Done: 0\n",
      "Doing: B4.tif\n"
     ]
    },
    {
     "name": "stderr",
     "output_type": "stream",
     "text": [
      "Warning 1: for band 1, nodata value has been rounded to -2147483648, Int32 being an integer datatype.\n",
      "Warning 1: for band 1, nodata value has been rounded to -2147483648, Int32 being an integer datatype.\n"
     ]
    },
    {
     "name": "stdout",
     "output_type": "stream",
     "text": [
      "Input file size is 829, 1222\n",
      "0...10...20...30...40...50...60...70...80...90...100 - done.\n",
      "Done: 0\n",
      "Doing: B5.tif\n",
      "Input file size is 829, 1222\n",
      "0..."
     ]
    },
    {
     "name": "stderr",
     "output_type": "stream",
     "text": [
      "Warning 1: for band 1, nodata value has been rounded to -2147483648, Int32 being an integer datatype.\n",
      "Warning 1: for band 1, nodata value has been rounded to -2147483648, Int32 being an integer datatype.\n"
     ]
    },
    {
     "name": "stdout",
     "output_type": "stream",
     "text": [
      "10...20...30...40...50...60...70...80...90...100 - done.\n",
      "Done: 0\n",
      "Doing: B6.tif\n",
      "Input file size is 829, 1222\n",
      "0...10...20...30...40...50...60...70...80...90...100 - done.\n",
      "Done: 0\n",
      "Doing: B7.tif\n",
      "Input file size is 829, 1222\n",
      "0...10...20...30...40...50...60...70...80...90..."
     ]
    },
    {
     "name": "stderr",
     "output_type": "stream",
     "text": [
      "Warning 1: for band 1, nodata value has been rounded to -2147483648, Int32 being an integer datatype.\n",
      "Warning 1: for band 1, nodata value has been rounded to -2147483648, Int32 being an integer datatype.\n"
     ]
    },
    {
     "name": "stdout",
     "output_type": "stream",
     "text": [
      "100 - done.\n",
      "Done: 0\n",
      "Doing: B8.tif\n",
      "Input file size is 829, 1222\n",
      "0...10...20...30...40...50...60...70...80...90...100 - done.\n",
      "Done: 0\n",
      "Doing: B9.tif\n"
     ]
    },
    {
     "name": "stderr",
     "output_type": "stream",
     "text": [
      "Warning 1: for band 1, nodata value has been rounded to -2147483648, Int32 being an integer datatype.\n",
      "Warning 1: for band 1, nodata value has been rounded to -2147483648, Int32 being an integer datatype.\n"
     ]
    },
    {
     "name": "stdout",
     "output_type": "stream",
     "text": [
      "Input file size is 829, 1222\n",
      "0...10...20...30...40...50...60...70...80...90...100 - done.\n",
      "Done: 0\n",
      "Doing: B10.tif\n",
      "Input file size is 829, 1222\n",
      "0...10...20...30...40...50...60...70...80...90...100 - done.\n",
      "Done: 0\n",
      "Doing: B11.tif\n",
      "Input file size is 829, 1222\n",
      "0...10...20...30...40...50...60...70...80...90..."
     ]
    },
    {
     "name": "stderr",
     "output_type": "stream",
     "text": [
      "Warning 1: for band 1, nodata value has been rounded to -2147483648, Int32 being an integer datatype.\n",
      "Warning 1: for band 1, nodata value has been rounded to -2147483648, Int32 being an integer datatype.\n"
     ]
    },
    {
     "name": "stdout",
     "output_type": "stream",
     "text": [
      "100 - done.\n",
      "Done: 0\n",
      "Doing: B12.tif\n",
      "Input file size is 829, 1222\n",
      "0...10...20...30...40...50...60...70...80...90...100 - done.\n",
      "Done: 0\n",
      "Doing: B13.tif\n"
     ]
    },
    {
     "name": "stderr",
     "output_type": "stream",
     "text": [
      "Warning 1: for band 1, nodata value has been rounded to -2147483648, Int32 being an integer datatype.\n",
      "Warning 1: for band 1, nodata value has been rounded to -2147483648, Int32 being an integer datatype.\n"
     ]
    },
    {
     "name": "stdout",
     "output_type": "stream",
     "text": [
      "Input file size is 829, 1222\n",
      "0...10...20...30...40...50...60...70...80...90...100 - done.\n",
      "Done: 0\n",
      "Doing: B14.tif\n",
      "Input file size is 829, 1222\n",
      "0...10...20...30...40...50...60...70...80...90...100 - done.\n",
      "Done: 0\n",
      "Doing: B15.tif\n",
      "Input file size is 829, 1222\n",
      "0..."
     ]
    },
    {
     "name": "stderr",
     "output_type": "stream",
     "text": [
      "Warning 1: for band 1, nodata value has been rounded to -2147483648, Int32 being an integer datatype.\n",
      "Warning 1: for band 1, nodata value has been rounded to -2147483648, Int32 being an integer datatype.\n"
     ]
    },
    {
     "name": "stdout",
     "output_type": "stream",
     "text": [
      "10...20...30...40...50...60...70...80...90...100 - done.\n",
      "Done: 0\n",
      "Doing: B16.tif\n",
      "Input file size is 829, 1222\n",
      "0...10...20...30...40...50...60...70...80...90...100 - done.\n",
      "Done: 0\n",
      "Doing: B17.tif\n",
      "Input file size is 829, 1222\n",
      "0...10...20...30...40...50."
     ]
    },
    {
     "name": "stderr",
     "output_type": "stream",
     "text": [
      "Warning 1: for band 1, nodata value has been rounded to -2147483648, Int32 being an integer datatype.\n"
     ]
    },
    {
     "name": "stdout",
     "output_type": "stream",
     "text": [
      "..60...70...80...90...100 - done.\n",
      "Done: 0\n",
      "Doing: B18.tif\n",
      "Input file size is 829, 1222\n",
      "0...10..."
     ]
    },
    {
     "name": "stderr",
     "output_type": "stream",
     "text": [
      "Warning 1: for band 1, nodata value has been rounded to -2147483648, Int32 being an integer datatype.\n",
      "Warning 1: for band 1, nodata value has been rounded to -2147483648, Int32 being an integer datatype.\n"
     ]
    },
    {
     "name": "stdout",
     "output_type": "stream",
     "text": [
      "20...30...40...50...60...70...80...90...100 - done.\n",
      "Done: 0\n",
      "Doing: B19.tif\n",
      "Input file size is 829, 1222\n",
      "0...10...20...30...40...50...60...70...80...90...100 - done.\n",
      "Done: 0\n",
      "Doing: ASCII\n",
      "Done: 1\n",
      "Doing: B1.tif\n",
      "Input file size is 829, 1222\n",
      "0...10"
     ]
    },
    {
     "name": "stderr",
     "output_type": "stream",
     "text": [
      "ERROR 4: `SSP126/2041_2060/CanESM5-CanOE/ASCII' not recognized as a supported file format.\n",
      "Warning 1: for band 1, nodata value has been rounded to -2147483648, Int32 being an integer datatype.\n"
     ]
    },
    {
     "name": "stdout",
     "output_type": "stream",
     "text": [
      "...20...30...40...50...60...70...80...90...100 - done.\n",
      "Done: 0\n",
      "Doing: B2.tif\n",
      "Input file size is 829, 1222\n",
      "0...10...20"
     ]
    },
    {
     "name": "stderr",
     "output_type": "stream",
     "text": [
      "Warning 1: for band 1, nodata value has been rounded to -2147483648, Int32 being an integer datatype.\n"
     ]
    },
    {
     "name": "stdout",
     "output_type": "stream",
     "text": [
      "...30...40...50...60...70...80...90...100 - done.\n",
      "Done: 0\n",
      "Doing: B3.tif\n",
      "Input file size is 829, 1222\n",
      "0...10...20...30...40...50...60...70...80...90..."
     ]
    },
    {
     "name": "stderr",
     "output_type": "stream",
     "text": [
      "Warning 1: for band 1, nodata value has been rounded to -2147483648, Int32 being an integer datatype.\n",
      "Warning 1: for band 1, nodata value has been rounded to -2147483648, Int32 being an integer datatype.\n"
     ]
    },
    {
     "name": "stdout",
     "output_type": "stream",
     "text": [
      "100 - done.\n",
      "Done: 0\n",
      "Doing: B4.tif\n",
      "Input file size is 829, 1222\n",
      "0...10...20...30...40...50...60...70...80...90...100 - done.\n",
      "Done: 0\n",
      "Doing: B5.tif\n"
     ]
    },
    {
     "name": "stderr",
     "output_type": "stream",
     "text": [
      "Warning 1: for band 1, nodata value has been rounded to -2147483648, Int32 being an integer datatype.\n",
      "Warning 1: for band 1, nodata value has been rounded to -2147483648, Int32 being an integer datatype.\n"
     ]
    },
    {
     "name": "stdout",
     "output_type": "stream",
     "text": [
      "Input file size is 829, 1222\n",
      "0...10...20...30...40...50...60...70...80...90...100 - done.\n",
      "Done: 0\n",
      "Doing: B6.tif\n",
      "Input file size is 829, 1222\n",
      "0...10...20...30...40...50...60...70...80...90...100 - done.\n",
      "Done: 0\n",
      "Doing: B7.tif\n",
      "Input file size is 829, 1222\n",
      "0...10...20...30...40...50...60...70...80...90..."
     ]
    },
    {
     "name": "stderr",
     "output_type": "stream",
     "text": [
      "Warning 1: for band 1, nodata value has been rounded to -2147483648, Int32 being an integer datatype.\n",
      "Warning 1: for band 1, nodata value has been rounded to -2147483648, Int32 being an integer datatype.\n"
     ]
    },
    {
     "name": "stdout",
     "output_type": "stream",
     "text": [
      "100 - done.\n",
      "Done: 0\n",
      "Doing: B8.tif\n",
      "Input file size is 829, 1222\n",
      "0...10...20...30...40...50...60...70...80...90...100 - done.\n",
      "Done: 0\n",
      "Doing: B9.tif\n"
     ]
    },
    {
     "name": "stderr",
     "output_type": "stream",
     "text": [
      "Warning 1: for band 1, nodata value has been rounded to -2147483648, Int32 being an integer datatype.\n",
      "Warning 1: for band 1, nodata value has been rounded to -2147483648, Int32 being an integer datatype.\n"
     ]
    },
    {
     "name": "stdout",
     "output_type": "stream",
     "text": [
      "Input file size is 829, 1222\n",
      "0...10...20...30...40...50...60...70...80...90...100 - done.\n",
      "Done: 0\n",
      "Doing: B10.tif\n",
      "Input file size is 829, 1222\n",
      "0...10...20...30...40...50...60...70...80...90...100 - done.\n",
      "Done: 0\n",
      "Doing: B11.tif\n"
     ]
    },
    {
     "name": "stderr",
     "output_type": "stream",
     "text": [
      "Warning 1: for band 1, nodata value has been rounded to -2147483648, Int32 being an integer datatype.\n"
     ]
    },
    {
     "name": "stdout",
     "output_type": "stream",
     "text": [
      "Input file size is 829, 1222\n",
      "0...10...20...30...40...50...60...70...80...90...100 - done.\n",
      "Done: 0\n",
      "Doing: B12.tif\n",
      "Input file size is 829, 1222\n",
      "0...10...20...30...40."
     ]
    },
    {
     "name": "stderr",
     "output_type": "stream",
     "text": [
      "Warning 1: for band 1, nodata value has been rounded to -2147483648, Int32 being an integer datatype.\n"
     ]
    },
    {
     "name": "stdout",
     "output_type": "stream",
     "text": [
      "..50...60...70...80...90...100 - done.\n",
      "Done: 0\n",
      "Doing: B13.tif\n"
     ]
    },
    {
     "name": "stderr",
     "output_type": "stream",
     "text": [
      "Warning 1: for band 1, nodata value has been rounded to -2147483648, Int32 being an integer datatype.\n"
     ]
    },
    {
     "name": "stdout",
     "output_type": "stream",
     "text": [
      "Input file size is 829, 1222\n",
      "0...10...20...30...40...50...60...70...80...90...100 - done.\n",
      "Done: 0\n",
      "Doing: B14.tif\n",
      "Input file size is 829, 1222\n",
      "0...10...20"
     ]
    },
    {
     "name": "stderr",
     "output_type": "stream",
     "text": [
      "Warning 1: for band 1, nodata value has been rounded to -2147483648, Int32 being an integer datatype.\n"
     ]
    },
    {
     "name": "stdout",
     "output_type": "stream",
     "text": [
      "...30...40...50...60...70...80...90...100 - done.\n",
      "Done: 0\n",
      "Doing: B15.tif\n",
      "Input file size is 829, 1222\n",
      "0...10"
     ]
    },
    {
     "name": "stderr",
     "output_type": "stream",
     "text": [
      "Warning 1: for band 1, nodata value has been rounded to -2147483648, Int32 being an integer datatype.\n",
      "Warning 1: for band 1, nodata value has been rounded to -2147483648, Int32 being an integer datatype.\n"
     ]
    },
    {
     "name": "stdout",
     "output_type": "stream",
     "text": [
      "...20...30...40...50...60...70...80...90...100 - done.\n",
      "Done: 0\n",
      "Doing: B16.tif\n",
      "Input file size is 829, 1222\n",
      "0...10...20...30...40...50...60...70...80...90...100 - done.\n",
      "Done: 0\n",
      "Doing: B17.tif\n",
      "Input file size is 829, 1222\n",
      "0...10...20."
     ]
    },
    {
     "name": "stderr",
     "output_type": "stream",
     "text": [
      "Warning 1: for band 1, nodata value has been rounded to -2147483648, Int32 being an integer datatype.\n",
      "Warning 1: for band 1, nodata value has been rounded to -2147483648, Int32 being an integer datatype.\n"
     ]
    },
    {
     "name": "stdout",
     "output_type": "stream",
     "text": [
      "..30...40...50...60...70...80...90...100 - done.\n",
      "Done: 0\n",
      "Doing: B18.tif\n",
      "Input file size is 829, 1222\n",
      "0...10...20...30...40...50...60...70...80...90...100 - done.\n",
      "Done: 0\n",
      "Doing: B19.tif\n",
      "Input file size is 829, 1222\n",
      "0...10...20...30...40"
     ]
    },
    {
     "name": "stderr",
     "output_type": "stream",
     "text": [
      "Warning 1: for band 1, nodata value has been rounded to -2147483648, Int32 being an integer datatype.\n"
     ]
    },
    {
     "name": "stdout",
     "output_type": "stream",
     "text": [
      "...50...60...70...80...90...100 - done.\n",
      "Done: 0\n",
      "Doing: ASCII\n",
      "Done: 1\n",
      "Doing: B1.tif\n"
     ]
    },
    {
     "name": "stderr",
     "output_type": "stream",
     "text": [
      "ERROR 4: `SSP126/2041_2060/CMCC-ESM2/ASCII' not recognized as a supported file format.\n",
      "Warning 1: for band 1, nodata value has been rounded to -2147483648, Int32 being an integer datatype.\n"
     ]
    },
    {
     "name": "stdout",
     "output_type": "stream",
     "text": [
      "Input file size is 829, 1222\n",
      "0...10...20...30...40...50...60...70...80...90...100 - done.\n",
      "Done: 0\n",
      "Doing: B2.tif\n",
      "Input file size is 829, 1222\n",
      "0...10"
     ]
    },
    {
     "name": "stderr",
     "output_type": "stream",
     "text": [
      "Warning 1: for band 1, nodata value has been rounded to -2147483648, Int32 being an integer datatype.\n",
      "Warning 1: for band 1, nodata value has been rounded to -2147483648, Int32 being an integer datatype.\n"
     ]
    },
    {
     "name": "stdout",
     "output_type": "stream",
     "text": [
      "...20...30...40...50...60...70...80...90...100 - done.\n",
      "Done: 0\n",
      "Doing: B3.tif\n",
      "Input file size is 829, 1222\n",
      "0...10...20...30...40...50...60...70...80...90...100 - done.\n",
      "Done: 0\n",
      "Doing: B4.tif\n",
      "Input file size is 829, 1222\n",
      "0...10...20.."
     ]
    },
    {
     "name": "stderr",
     "output_type": "stream",
     "text": [
      "Warning 1: for band 1, nodata value has been rounded to -2147483648, Int32 being an integer datatype.\n"
     ]
    },
    {
     "name": "stdout",
     "output_type": "stream",
     "text": [
      ".30...40...50...60...70...80...90...100 - done.\n",
      "Done: 0\n",
      "Doing: B5.tif\n"
     ]
    },
    {
     "name": "stderr",
     "output_type": "stream",
     "text": [
      "Warning 1: for band 1, nodata value has been rounded to -2147483648, Int32 being an integer datatype.\n"
     ]
    },
    {
     "name": "stdout",
     "output_type": "stream",
     "text": [
      "Input file size is 829, 1222\n",
      "0...10...20...30...40...50...60...70...80...90...100 - done.\n",
      "Done: 0\n",
      "Doing: B6.tif\n",
      "Input file size is 829, 1222\n",
      "0...10...20...30...40...50...60...70...80...90...100 - done.\n",
      "Done: 0\n",
      "Doing: B7.tif\n"
     ]
    },
    {
     "name": "stderr",
     "output_type": "stream",
     "text": [
      "Warning 1: for band 1, nodata value has been rounded to -2147483648, Int32 being an integer datatype.\n",
      "Warning 1: for band 1, nodata value has been rounded to -2147483648, Int32 being an integer datatype.\n"
     ]
    },
    {
     "name": "stdout",
     "output_type": "stream",
     "text": [
      "Input file size is 829, 1222\n",
      "0...10...20...30...40...50...60...70...80...90...100 - done.\n",
      "Done: 0\n",
      "Doing: B8.tif\n",
      "Input file size is 829, 1222\n",
      "0...10.."
     ]
    },
    {
     "name": "stderr",
     "output_type": "stream",
     "text": [
      "Warning 1: for band 1, nodata value has been rounded to -2147483648, Int32 being an integer datatype.\n",
      "Warning 1: for band 1, nodata value has been rounded to -2147483648, Int32 being an integer datatype.\n"
     ]
    },
    {
     "name": "stdout",
     "output_type": "stream",
     "text": [
      ".20...30...40...50...60...70...80...90...100 - done.\n",
      "Done: 0\n",
      "Doing: B9.tif\n",
      "Input file size is 829, 1222\n",
      "0...10...20...30...40...50...60...70...80...90...100 - done.\n",
      "Done: 0\n",
      "Doing: B10.tif\n",
      "Input file size is 829, 1222\n",
      "0...10...20...30."
     ]
    },
    {
     "name": "stderr",
     "output_type": "stream",
     "text": [
      "Warning 1: for band 1, nodata value has been rounded to -2147483648, Int32 being an integer datatype.\n",
      "Warning 1: for band 1, nodata value has been rounded to -2147483648, Int32 being an integer datatype.\n"
     ]
    },
    {
     "name": "stdout",
     "output_type": "stream",
     "text": [
      "..40...50...60...70...80...90...100 - done.\n",
      "Done: 0\n",
      "Doing: B11.tif\n",
      "Input file size is 829, 1222\n",
      "0...10...20...30...40...50...60...70...80...90...100 - done.\n",
      "Done: 0\n",
      "Doing: B12.tif\n",
      "Input file size is 829, 1222\n",
      "0...10...20...30.."
     ]
    },
    {
     "name": "stderr",
     "output_type": "stream",
     "text": [
      "Warning 1: for band 1, nodata value has been rounded to -2147483648, Int32 being an integer datatype.\n"
     ]
    },
    {
     "name": "stdout",
     "output_type": "stream",
     "text": [
      ".40...50...60...70...80...90...100 - done.\n",
      "Done: 0\n",
      "Doing: B13.tif\n"
     ]
    },
    {
     "name": "stderr",
     "output_type": "stream",
     "text": [
      "Warning 1: for band 1, nodata value has been rounded to -2147483648, Int32 being an integer datatype.\n",
      "Warning 1: for band 1, nodata value has been rounded to -2147483648, Int32 being an integer datatype.\n"
     ]
    },
    {
     "name": "stdout",
     "output_type": "stream",
     "text": [
      "Input file size is 829, 1222\n",
      "0...10...20...30...40...50...60...70...80...90...100 - done.\n",
      "Done: 0\n",
      "Doing: B14.tif\n",
      "Input file size is 829, 1222\n",
      "0...10...20...30...40...50...60...70...80...90...100 - done.\n",
      "Done: 0\n",
      "Doing: B15.tif\n",
      "Input file size is 829, 1222\n",
      "0"
     ]
    },
    {
     "name": "stderr",
     "output_type": "stream",
     "text": [
      "Warning 1: for band 1, nodata value has been rounded to -2147483648, Int32 being an integer datatype.\n"
     ]
    },
    {
     "name": "stdout",
     "output_type": "stream",
     "text": [
      "...10...20...30...40...50...60...70...80...90...100 - done.\n",
      "Done: 0\n",
      "Doing: B16.tif\n"
     ]
    },
    {
     "name": "stderr",
     "output_type": "stream",
     "text": [
      "Warning 1: for band 1, nodata value has been rounded to -2147483648, Int32 being an integer datatype.\n",
      "Warning 1: for band 1, nodata value has been rounded to -2147483648, Int32 being an integer datatype.\n"
     ]
    },
    {
     "name": "stdout",
     "output_type": "stream",
     "text": [
      "Input file size is 829, 1222\n",
      "0...10...20...30...40...50...60...70...80...90...100 - done.\n",
      "Done: 0\n",
      "Doing: B17.tif\n",
      "Input file size is 829, 1222\n",
      "0...10...20...30...40...50...60...70...80...90...100 - done.\n",
      "Done: 0\n",
      "Doing: B18.tif\n",
      "Input file size is 829, 1222\n",
      "0...10..."
     ]
    },
    {
     "name": "stderr",
     "output_type": "stream",
     "text": [
      "Warning 1: for band 1, nodata value has been rounded to -2147483648, Int32 being an integer datatype.\n"
     ]
    },
    {
     "name": "stdout",
     "output_type": "stream",
     "text": [
      "20...30...40...50...60...70...80...90...100 - done.\n",
      "Done: 0\n",
      "Doing: B19.tif\n",
      "Input file size is 829, 1222\n",
      "0..."
     ]
    },
    {
     "name": "stderr",
     "output_type": "stream",
     "text": [
      "Warning 1: for band 1, nodata value has been rounded to -2147483648, Int32 being an integer datatype.\n"
     ]
    },
    {
     "name": "stdout",
     "output_type": "stream",
     "text": [
      "10...20...30...40...50...60...70...80...90...100 - done.\n",
      "Done: 0\n",
      "Doing: ASCII\n",
      "Done: 1\n",
      "Doing: B1.tif\n"
     ]
    },
    {
     "name": "stderr",
     "output_type": "stream",
     "text": [
      "ERROR 4: `SSP126/2041_2060/CNRM-CM6-1/ASCII' not recognized as a supported file format.\n",
      "Warning 1: for band 1, nodata value has been rounded to -2147483648, Int32 being an integer datatype.\n"
     ]
    },
    {
     "name": "stdout",
     "output_type": "stream",
     "text": [
      "Input file size is 829, 1222\n",
      "0...10...20...30...40...50...60...70...80...90...100 - done.\n",
      "Done: 0\n",
      "Doing: B2.tif\n",
      "Input file size is 829, 1222\n",
      "0...10...20."
     ]
    },
    {
     "name": "stderr",
     "output_type": "stream",
     "text": [
      "Warning 1: for band 1, nodata value has been rounded to -2147483648, Int32 being an integer datatype.\n",
      "Warning 1: for band 1, nodata value has been rounded to -2147483648, Int32 being an integer datatype.\n"
     ]
    },
    {
     "name": "stdout",
     "output_type": "stream",
     "text": [
      "..30...40...50...60...70...80...90...100 - done.\n",
      "Done: 0\n",
      "Doing: B3.tif\n",
      "Input file size is 829, 1222\n",
      "0...10...20...30...40...50...60...70...80...90...100 - done.\n",
      "Done: 0\n",
      "Doing: B4.tif\n",
      "Input file size is 829, 1222\n",
      "0...10...20..."
     ]
    },
    {
     "name": "stderr",
     "output_type": "stream",
     "text": [
      "Warning 1: for band 1, nodata value has been rounded to -2147483648, Int32 being an integer datatype.\n"
     ]
    },
    {
     "name": "stdout",
     "output_type": "stream",
     "text": [
      "30...40...50...60...70...80...90...100 - done.\n",
      "Done: 0\n",
      "Doing: B5.tif\n",
      "Input file size is 829, 1222\n",
      "0...10...20...30...40.."
     ]
    },
    {
     "name": "stderr",
     "output_type": "stream",
     "text": [
      "Warning 1: for band 1, nodata value has been rounded to -2147483648, Int32 being an integer datatype.\n",
      "Warning 1: for band 1, nodata value has been rounded to -2147483648, Int32 being an integer datatype.\n"
     ]
    },
    {
     "name": "stdout",
     "output_type": "stream",
     "text": [
      ".50...60...70...80...90...100 - done.\n",
      "Done: 0\n",
      "Doing: B6.tif\n",
      "Input file size is 829, 1222\n",
      "0...10...20...30...40...50...60...70...80...90...100 - done.\n",
      "Done: 0\n",
      "Doing: B7.tif\n",
      "Input file size is 829, 1222\n",
      "0...10...20...30...40...50...60...70...80...90"
     ]
    },
    {
     "name": "stderr",
     "output_type": "stream",
     "text": [
      "Warning 1: for band 1, nodata value has been rounded to -2147483648, Int32 being an integer datatype.\n",
      "Warning 1: for band 1, nodata value has been rounded to -2147483648, Int32 being an integer datatype.\n"
     ]
    },
    {
     "name": "stdout",
     "output_type": "stream",
     "text": [
      "...100 - done.\n",
      "Done: 0\n",
      "Doing: B8.tif\n",
      "Input file size is 829, 1222\n",
      "0...10...20...30...40...50...60...70...80...90...100 - done.\n",
      "Done: 0\n",
      "Doing: B9.tif\n",
      "Input file size is 829, 1222\n",
      "0...10...20...30...40...50...60...70...80...90...100 - done.\n",
      "Done: 0\n",
      "Doing: B10.tif\n"
     ]
    },
    {
     "name": "stderr",
     "output_type": "stream",
     "text": [
      "Warning 1: for band 1, nodata value has been rounded to -2147483648, Int32 being an integer datatype.\n",
      "Warning 1: for band 1, nodata value has been rounded to -2147483648, Int32 being an integer datatype.\n"
     ]
    },
    {
     "name": "stdout",
     "output_type": "stream",
     "text": [
      "Input file size is 829, 1222\n",
      "0...10...20...30...40...50...60...70...80...90...100 - done.\n",
      "Done: 0\n",
      "Doing: B11.tif\n",
      "Input file size is 829, 1222\n",
      "0...10...20"
     ]
    },
    {
     "name": "stderr",
     "output_type": "stream",
     "text": [
      "Warning 1: for band 1, nodata value has been rounded to -2147483648, Int32 being an integer datatype.\n",
      "Warning 1: for band 1, nodata value has been rounded to -2147483648, Int32 being an integer datatype.\n"
     ]
    },
    {
     "name": "stdout",
     "output_type": "stream",
     "text": [
      "...30...40...50...60...70...80...90...100 - done.\n",
      "Done: 0\n",
      "Doing: B12.tif\n",
      "Input file size is 829, 1222\n",
      "0...10...20...30...40...50...60...70...80...90...100 - done.\n",
      "Done: 0\n",
      "Doing: B13.tif\n",
      "Input file size is 829, 1222\n",
      "0...10...20...30...40...50...60."
     ]
    },
    {
     "name": "stderr",
     "output_type": "stream",
     "text": [
      "Warning 1: for band 1, nodata value has been rounded to -2147483648, Int32 being an integer datatype.\n",
      "Warning 1: for band 1, nodata value has been rounded to -2147483648, Int32 being an integer datatype.\n"
     ]
    },
    {
     "name": "stdout",
     "output_type": "stream",
     "text": [
      "..70...80...90...100 - done.\n",
      "Done: 0\n",
      "Doing: B14.tif\n",
      "Input file size is 829, 1222\n",
      "0...10...20...30...40...50...60...70...80...90...100 - done.\n",
      "Done: 0\n",
      "Doing: B15.tif\n",
      "Input file size is 829, 1222\n",
      "0...10...20...30...40...50...60...70...80...90..."
     ]
    },
    {
     "name": "stderr",
     "output_type": "stream",
     "text": [
      "Warning 1: for band 1, nodata value has been rounded to -2147483648, Int32 being an integer datatype.\n",
      "Warning 1: for band 1, nodata value has been rounded to -2147483648, Int32 being an integer datatype.\n"
     ]
    },
    {
     "name": "stdout",
     "output_type": "stream",
     "text": [
      "100 - done.\n",
      "Done: 0\n",
      "Doing: B16.tif\n",
      "Input file size is 829, 1222\n",
      "0...10...20...30...40...50...60...70...80...90...100 - done.\n",
      "Done: 0\n",
      "Doing: B17.tif\n"
     ]
    },
    {
     "name": "stderr",
     "output_type": "stream",
     "text": [
      "Warning 1: for band 1, nodata value has been rounded to -2147483648, Int32 being an integer datatype.\n",
      "Warning 1: for band 1, nodata value has been rounded to -2147483648, Int32 being an integer datatype.\n"
     ]
    },
    {
     "name": "stdout",
     "output_type": "stream",
     "text": [
      "Input file size is 829, 1222\n",
      "0...10...20...30...40...50...60...70...80...90...100 - done.\n",
      "Done: 0\n",
      "Doing: B18.tif\n",
      "Input file size is 829, 1222\n",
      "0...10...20...30...40...50...60...70...80...90...100 - done.\n",
      "Done: 0\n",
      "Doing: B19.tif\n",
      "Input file size is 829, 1222\n",
      "0...10...20...30...40.."
     ]
    },
    {
     "name": "stderr",
     "output_type": "stream",
     "text": [
      "Warning 1: for band 1, nodata value has been rounded to -2147483648, Int32 being an integer datatype.\n",
      "ERROR 4: `SSP126/2041_2060/CNRM-CM6-1-HR/ASCII' not recognized as a supported file format.\n"
     ]
    },
    {
     "name": "stdout",
     "output_type": "stream",
     "text": [
      ".50...60...70...80...90...100 - done.\n",
      "Done: 0\n",
      "Doing: ASCII\n",
      "Done: 1\n",
      "Doing: B1.tif\n",
      "Input file size is 829, 1222\n",
      "0...10..."
     ]
    },
    {
     "name": "stderr",
     "output_type": "stream",
     "text": [
      "Warning 1: for band 1, nodata value has been rounded to -2147483648, Int32 being an integer datatype.\n",
      "Warning 1: for band 1, nodata value has been rounded to -2147483648, Int32 being an integer datatype.\n"
     ]
    },
    {
     "name": "stdout",
     "output_type": "stream",
     "text": [
      "20...30...40...50...60...70...80...90...100 - done.\n",
      "Done: 0\n",
      "Doing: B2.tif\n",
      "Input file size is 829, 1222\n",
      "0...10...20...30...40...50...60...70...80...90...100 - done.\n",
      "Done: 0\n",
      "Doing: B3.tif\n",
      "Input file size is 829, 1222\n",
      "0...10...20...30...40...50...60.."
     ]
    },
    {
     "name": "stderr",
     "output_type": "stream",
     "text": [
      "Warning 1: for band 1, nodata value has been rounded to -2147483648, Int32 being an integer datatype.\n",
      "Warning 1: for band 1, nodata value has been rounded to -2147483648, Int32 being an integer datatype.\n"
     ]
    },
    {
     "name": "stdout",
     "output_type": "stream",
     "text": [
      ".70...80...90...100 - done.\n",
      "Done: 0\n",
      "Doing: B4.tif\n",
      "Input file size is 829, 1222\n",
      "0...10...20...30...40...50...60...70...80...90...100 - done.\n",
      "Done: 0\n",
      "Doing: B5.tif\n",
      "Input file size is 829, 1222\n",
      "0...10...20...30...40...50...60...70...80...90..."
     ]
    },
    {
     "name": "stderr",
     "output_type": "stream",
     "text": [
      "Warning 1: for band 1, nodata value has been rounded to -2147483648, Int32 being an integer datatype.\n",
      "Warning 1: for band 1, nodata value has been rounded to -2147483648, Int32 being an integer datatype.\n"
     ]
    },
    {
     "name": "stdout",
     "output_type": "stream",
     "text": [
      "100 - done.\n",
      "Done: 0\n",
      "Doing: B6.tif\n",
      "Input file size is 829, 1222\n",
      "0...10...20...30...40...50...60...70...80...90...100 - done.\n",
      "Done: 0\n",
      "Doing: B7.tif\n"
     ]
    },
    {
     "name": "stderr",
     "output_type": "stream",
     "text": [
      "Warning 1: for band 1, nodata value has been rounded to -2147483648, Int32 being an integer datatype.\n",
      "Warning 1: for band 1, nodata value has been rounded to -2147483648, Int32 being an integer datatype.\n"
     ]
    },
    {
     "name": "stdout",
     "output_type": "stream",
     "text": [
      "Input file size is 829, 1222\n",
      "0...10...20...30...40...50...60...70...80...90...100 - done.\n",
      "Done: 0\n",
      "Doing: B8.tif\n",
      "Input file size is 829, 1222\n",
      "0...10...20...30...40...50...60...70...80...90...100 - done.\n",
      "Done: 0\n",
      "Doing: B9.tif\n",
      "Input file size is 829, 1222\n",
      "0...10...20...30...40..."
     ]
    },
    {
     "name": "stderr",
     "output_type": "stream",
     "text": [
      "Warning 1: for band 1, nodata value has been rounded to -2147483648, Int32 being an integer datatype.\n",
      "Warning 1: for band 1, nodata value has been rounded to -2147483648, Int32 being an integer datatype.\n"
     ]
    },
    {
     "name": "stdout",
     "output_type": "stream",
     "text": [
      "50...60...70...80...90...100 - done.\n",
      "Done: 0\n",
      "Doing: B10.tif\n",
      "Input file size is 829, 1222\n",
      "0...10...20...30...40...50...60...70...80...90...100 - done.\n",
      "Done: 0\n",
      "Doing: B11.tif\n",
      "Input file size is 829, 1222\n",
      "0...10...20...30...40...50...60...70...80...90..."
     ]
    },
    {
     "name": "stderr",
     "output_type": "stream",
     "text": [
      "Warning 1: for band 1, nodata value has been rounded to -2147483648, Int32 being an integer datatype.\n",
      "Warning 1: for band 1, nodata value has been rounded to -2147483648, Int32 being an integer datatype.\n"
     ]
    },
    {
     "name": "stdout",
     "output_type": "stream",
     "text": [
      "100 - done.\n",
      "Done: 0\n",
      "Doing: B12.tif\n",
      "Input file size is 829, 1222\n",
      "0...10...20...30...40...50...60...70...80...90...100 - done.\n",
      "Done: 0\n",
      "Doing: B13.tif\n"
     ]
    },
    {
     "name": "stderr",
     "output_type": "stream",
     "text": [
      "Warning 1: for band 1, nodata value has been rounded to -2147483648, Int32 being an integer datatype.\n",
      "Warning 1: for band 1, nodata value has been rounded to -2147483648, Int32 being an integer datatype.\n"
     ]
    },
    {
     "name": "stdout",
     "output_type": "stream",
     "text": [
      "Input file size is 829, 1222\n",
      "0...10...20...30...40...50...60...70...80...90...100 - done.\n",
      "Done: 0\n",
      "Doing: B14.tif\n",
      "Input file size is 829, 1222\n",
      "0...10...20...30...40...50...60...70...80...90...100 - done.\n",
      "Done: 0\n",
      "Doing: B15.tif\n"
     ]
    },
    {
     "name": "stderr",
     "output_type": "stream",
     "text": [
      "Warning 1: for band 1, nodata value has been rounded to -2147483648, Int32 being an integer datatype.\n",
      "Warning 1: for band 1, nodata value has been rounded to -2147483648, Int32 being an integer datatype.\n"
     ]
    },
    {
     "name": "stdout",
     "output_type": "stream",
     "text": [
      "Input file size is 829, 1222\n",
      "0...10...20...30...40...50...60...70...80...90...100 - done.\n",
      "Done: 0\n",
      "Doing: B16.tif\n",
      "Input file size is 829, 1222\n",
      "0...10...20...30...40...50...60...70...80...90...100 - done.\n",
      "Done: 0\n",
      "Doing: B17.tif\n",
      "Input file size is 829, 1222\n",
      "0...10...20...30.."
     ]
    },
    {
     "name": "stderr",
     "output_type": "stream",
     "text": [
      "Warning 1: for band 1, nodata value has been rounded to -2147483648, Int32 being an integer datatype.\n"
     ]
    },
    {
     "name": "stdout",
     "output_type": "stream",
     "text": [
      ".40...50...60...70...80...90...100 - done.\n",
      "Done: 0\n",
      "Doing: B18.tif\n"
     ]
    },
    {
     "name": "stderr",
     "output_type": "stream",
     "text": [
      "Warning 1: for band 1, nodata value has been rounded to -2147483648, Int32 being an integer datatype.\n"
     ]
    },
    {
     "name": "stdout",
     "output_type": "stream",
     "text": [
      "Input file size is 829, 1222\n",
      "0...10...20...30...40...50...60...70...80...90...100 - done.\n",
      "Done: 0\n",
      "Doing: B19.tif\n",
      "Input file size is 829, 1222\n",
      "0...10...20...30...40...50...60...70...80...90...100 - done.\n",
      "Done: 0\n",
      "Doing: ASCII\n"
     ]
    },
    {
     "name": "stderr",
     "output_type": "stream",
     "text": [
      "Warning 1: for band 1, nodata value has been rounded to -2147483648, Int32 being an integer datatype.\n",
      "ERROR 4: `SSP126/2041_2060/CNRM-ESM2-1/ASCII' not recognized as a supported file format.\n"
     ]
    },
    {
     "name": "stdout",
     "output_type": "stream",
     "text": [
      "Done: 1\n",
      "Doing: B1.tif\n",
      "Input file size is 829, 1222\n",
      "0"
     ]
    },
    {
     "name": "stderr",
     "output_type": "stream",
     "text": [
      "Warning 1: for band 1, nodata value has been rounded to -2147483648, Int32 being an integer datatype.\n"
     ]
    },
    {
     "name": "stdout",
     "output_type": "stream",
     "text": [
      "...10...20...30...40...50...60...70...80...90...100 - done.\n",
      "Done: 0\n",
      "Doing: B2.tif\n",
      "Input file size is 829, 1222\n",
      "0...10."
     ]
    },
    {
     "name": "stderr",
     "output_type": "stream",
     "text": [
      "Warning 1: for band 1, nodata value has been rounded to -2147483648, Int32 being an integer datatype.\n"
     ]
    },
    {
     "name": "stdout",
     "output_type": "stream",
     "text": [
      "..20...30...40...50...60...70...80...90...100 - done.\n",
      "Done: 0\n",
      "Doing: B3.tif\n",
      "Input file size is 829, 1222\n",
      "0"
     ]
    },
    {
     "name": "stderr",
     "output_type": "stream",
     "text": [
      "Warning 1: for band 1, nodata value has been rounded to -2147483648, Int32 being an integer datatype.\n"
     ]
    },
    {
     "name": "stdout",
     "output_type": "stream",
     "text": [
      "...10...20...30...40...50...60...70...80...90...100 - done.\n",
      "Done: 0\n",
      "Doing: B4.tif\n",
      "Input file size is 829, 1222\n",
      "0"
     ]
    },
    {
     "name": "stderr",
     "output_type": "stream",
     "text": [
      "Warning 1: for band 1, nodata value has been rounded to -2147483648, Int32 being an integer datatype.\n"
     ]
    },
    {
     "name": "stdout",
     "output_type": "stream",
     "text": [
      "...10...20...30...40...50...60...70...80...90...100 - done.\n",
      "Done: 0\n",
      "Doing: B5.tif\n",
      "Input file size is 829, 1222\n",
      "0...10...20...30...40...50...60...70...80...90...100 - done.\n",
      "Done: 0\n",
      "Doing: B6.tif\n"
     ]
    },
    {
     "name": "stderr",
     "output_type": "stream",
     "text": [
      "Warning 1: for band 1, nodata value has been rounded to -2147483648, Int32 being an integer datatype.\n",
      "Warning 1: for band 1, nodata value has been rounded to -2147483648, Int32 being an integer datatype.\n"
     ]
    },
    {
     "name": "stdout",
     "output_type": "stream",
     "text": [
      "Input file size is 829, 1222\n",
      "0...10...20...30...40...50...60...70...80...90...100 - done.\n",
      "Done: 0\n",
      "Doing: B7.tif\n",
      "Input file size is 829, 1222\n",
      "0...10...20"
     ]
    },
    {
     "name": "stderr",
     "output_type": "stream",
     "text": [
      "Warning 1: for band 1, nodata value has been rounded to -2147483648, Int32 being an integer datatype.\n",
      "Warning 1: for band 1, nodata value has been rounded to -2147483648, Int32 being an integer datatype.\n"
     ]
    },
    {
     "name": "stdout",
     "output_type": "stream",
     "text": [
      "...30...40...50...60...70...80...90...100 - done.\n",
      "Done: 0\n",
      "Doing: B8.tif\n",
      "Input file size is 829, 1222\n",
      "0...10...20...30...40...50...60...70...80...90...100 - done.\n",
      "Done: 0\n",
      "Doing: B9.tif\n",
      "Input file size is 829, 1222\n",
      "0...10...20...30...40."
     ]
    },
    {
     "name": "stderr",
     "output_type": "stream",
     "text": [
      "Warning 1: for band 1, nodata value has been rounded to -2147483648, Int32 being an integer datatype.\n",
      "Warning 1: for band 1, nodata value has been rounded to -2147483648, Int32 being an integer datatype.\n"
     ]
    },
    {
     "name": "stdout",
     "output_type": "stream",
     "text": [
      "..50...60...70...80...90...100 - done.\n",
      "Done: 0\n",
      "Doing: B10.tif\n",
      "Input file size is 829, 1222\n",
      "0...10...20...30...40...50...60...70...80...90...100 - done.\n",
      "Done: 0\n",
      "Doing: B11.tif\n",
      "Input file size is 829, 1222\n",
      "0...10...20...30...40...50...60...70.."
     ]
    },
    {
     "name": "stderr",
     "output_type": "stream",
     "text": [
      "Warning 1: for band 1, nodata value has been rounded to -2147483648, Int32 being an integer datatype.\n",
      "Warning 1: for band 1, nodata value has been rounded to -2147483648, Int32 being an integer datatype.\n"
     ]
    },
    {
     "name": "stdout",
     "output_type": "stream",
     "text": [
      ".80...90...100 - done.\n",
      "Done: 0\n",
      "Doing: B12.tif\n",
      "Input file size is 829, 1222\n",
      "0...10...20...30...40...50...60...70...80...90...100 - done.\n",
      "Done: 0\n",
      "Doing: B13.tif\n",
      "Input file size is 829, 1222\n",
      "0...10...20...30...40...50...60...70...80...90..."
     ]
    },
    {
     "name": "stderr",
     "output_type": "stream",
     "text": [
      "Warning 1: for band 1, nodata value has been rounded to -2147483648, Int32 being an integer datatype.\n",
      "Warning 1: for band 1, nodata value has been rounded to -2147483648, Int32 being an integer datatype.\n"
     ]
    },
    {
     "name": "stdout",
     "output_type": "stream",
     "text": [
      "100 - done.\n",
      "Done: 0\n",
      "Doing: B14.tif\n",
      "Input file size is 829, 1222\n",
      "0...10...20...30...40...50...60...70...80...90...100 - done.\n",
      "Done: 0\n",
      "Doing: B15.tif\n",
      "Input file size is 829, 1222\n",
      "0...10...20...30...40...50...60...70...80...90...100 - done.\n",
      "Done: 0\n",
      "Doing: B16.tif\n"
     ]
    },
    {
     "name": "stderr",
     "output_type": "stream",
     "text": [
      "Warning 1: for band 1, nodata value has been rounded to -2147483648, Int32 being an integer datatype.\n",
      "Warning 1: for band 1, nodata value has been rounded to -2147483648, Int32 being an integer datatype.\n"
     ]
    },
    {
     "name": "stdout",
     "output_type": "stream",
     "text": [
      "Input file size is 829, 1222\n",
      "0...10...20...30...40...50...60...70...80...90...100 - done.\n",
      "Done: 0\n",
      "Doing: B17.tif\n"
     ]
    },
    {
     "name": "stderr",
     "output_type": "stream",
     "text": [
      "Warning 1: for band 1, nodata value has been rounded to -2147483648, Int32 being an integer datatype.\n",
      "Warning 1: for band 1, nodata value has been rounded to -2147483648, Int32 being an integer datatype.\n"
     ]
    },
    {
     "name": "stdout",
     "output_type": "stream",
     "text": [
      "Input file size is 829, 1222\n",
      "0...10...20...30...40...50...60...70...80...90...100 - done.\n",
      "Done: 0\n",
      "Doing: B18.tif\n",
      "Input file size is 829, 1222\n",
      "0...10...20...30...40...50...60...70...80...90...100 - done.\n",
      "Done: 0\n",
      "Doing: B19.tif\n",
      "Input file size is 829, 1222\n",
      "0...10...20...30...40...50...60...70...80...90...100 - done.\n",
      "Done: 0\n",
      "Doing: ASCII\n",
      "Done: 1\n",
      "Doing: B1.tif\n"
     ]
    },
    {
     "name": "stderr",
     "output_type": "stream",
     "text": [
      "Warning 1: for band 1, nodata value has been rounded to -2147483648, Int32 being an integer datatype.\n",
      "ERROR 4: `SSP126/2041_2060/EC-Earth3-Veg/ASCII' not recognized as a supported file format.\n",
      "Warning 1: for band 1, nodata value has been rounded to -2147483648, Int32 being an integer datatype.\n",
      "Warning 1: for band 1, nodata value has been rounded to -2147483648, Int32 being an integer datatype.\n"
     ]
    },
    {
     "name": "stdout",
     "output_type": "stream",
     "text": [
      "Input file size is 829, 1222\n",
      "0...10...20...30...40...50...60...70...80...90...100 - done.\n",
      "Done: 0\n",
      "Doing: B2.tif\n",
      "Input file size is 829, 1222\n",
      "0...10...20...30...40...50...60...70...80...90...100 - done.\n",
      "Done: 0\n",
      "Doing: B3.tif\n",
      "Input file size is 829, 1222\n",
      "0...10...20...30"
     ]
    },
    {
     "name": "stderr",
     "output_type": "stream",
     "text": [
      "Warning 1: for band 1, nodata value has been rounded to -2147483648, Int32 being an integer datatype.\n",
      "Warning 1: for band 1, nodata value has been rounded to -2147483648, Int32 being an integer datatype.\n"
     ]
    },
    {
     "name": "stdout",
     "output_type": "stream",
     "text": [
      "...40...50...60...70...80...90...100 - done.\n",
      "Done: 0\n",
      "Doing: B4.tif\n",
      "Input file size is 829, 1222\n",
      "0...10...20...30...40...50...60...70...80...90...100 - done.\n",
      "Done: 0\n",
      "Doing: B5.tif\n",
      "Input file size is 829, 1222\n",
      "0...10...20...30...40...50...60...70..."
     ]
    },
    {
     "name": "stderr",
     "output_type": "stream",
     "text": [
      "Warning 1: for band 1, nodata value has been rounded to -2147483648, Int32 being an integer datatype.\n",
      "Warning 1: for band 1, nodata value has been rounded to -2147483648, Int32 being an integer datatype.\n"
     ]
    },
    {
     "name": "stdout",
     "output_type": "stream",
     "text": [
      "80...90...100 - done.\n",
      "Done: 0\n",
      "Doing: B6.tif\n",
      "Input file size is 829, 1222\n",
      "0...10...20...30...40...50...60...70...80...90...100 - done.\n",
      "Done: 0\n",
      "Doing: B7.tif\n",
      "Input file size is 829, 1222\n",
      "0...10...20...30...40...50...60...70...80...90...100 - done.\n"
     ]
    },
    {
     "name": "stderr",
     "output_type": "stream",
     "text": [
      "Warning 1: for band 1, nodata value has been rounded to -2147483648, Int32 being an integer datatype.\n",
      "Warning 1: for band 1, nodata value has been rounded to -2147483648, Int32 being an integer datatype.\n"
     ]
    },
    {
     "name": "stdout",
     "output_type": "stream",
     "text": [
      "Done: 0\n",
      "Doing: B8.tif\n",
      "Input file size is 829, 1222\n",
      "0...10...20...30...40...50...60...70...80...90...100 - done.\n",
      "Done: 0\n",
      "Doing: B9.tif\n"
     ]
    },
    {
     "name": "stderr",
     "output_type": "stream",
     "text": [
      "Warning 1: for band 1, nodata value has been rounded to -2147483648, Int32 being an integer datatype.\n",
      "Warning 1: for band 1, nodata value has been rounded to -2147483648, Int32 being an integer datatype.\n"
     ]
    },
    {
     "name": "stdout",
     "output_type": "stream",
     "text": [
      "Input file size is 829, 1222\n",
      "0...10...20...30...40...50...60...70...80...90...100 - done.\n",
      "Done: 0\n",
      "Doing: B10.tif\n",
      "Input file size is 829, 1222\n",
      "0...10...20...30...40...50...60...70...80...90...100 - done.\n",
      "Done: 0\n",
      "Doing: B11.tif\n",
      "Input file size is 829, 1222\n",
      "0...10...20...30...40."
     ]
    },
    {
     "name": "stderr",
     "output_type": "stream",
     "text": [
      "Warning 1: for band 1, nodata value has been rounded to -2147483648, Int32 being an integer datatype.\n",
      "Warning 1: for band 1, nodata value has been rounded to -2147483648, Int32 being an integer datatype.\n"
     ]
    },
    {
     "name": "stdout",
     "output_type": "stream",
     "text": [
      "..50...60...70...80...90...100 - done.\n",
      "Done: 0\n",
      "Doing: B12.tif\n",
      "Input file size is 829, 1222\n",
      "0...10...20...30...40...50...60...70...80...90...100 - done.\n",
      "Done: 0\n",
      "Doing: B13.tif\n",
      "Input file size is 829, 1222\n",
      "0...10...20...30...40...50...60...70...80...90."
     ]
    },
    {
     "name": "stderr",
     "output_type": "stream",
     "text": [
      "Warning 1: for band 1, nodata value has been rounded to -2147483648, Int32 being an integer datatype.\n",
      "Warning 1: for band 1, nodata value has been rounded to -2147483648, Int32 being an integer datatype.\n"
     ]
    },
    {
     "name": "stdout",
     "output_type": "stream",
     "text": [
      "..100 - done.\n",
      "Done: 0\n",
      "Doing: B14.tif\n",
      "Input file size is 829, 1222\n",
      "0...10...20...30...40...50...60...70...80...90...100 - done.\n",
      "Done: 0\n",
      "Doing: B15.tif\n",
      "Input file size is 829, 1222\n",
      "0...10...20...30...40...50...60...70...80...90..."
     ]
    },
    {
     "name": "stderr",
     "output_type": "stream",
     "text": [
      "Warning 1: for band 1, nodata value has been rounded to -2147483648, Int32 being an integer datatype.\n"
     ]
    },
    {
     "name": "stdout",
     "output_type": "stream",
     "text": [
      "100 - done.\n",
      "Done: 0\n",
      "Doing: B16.tif\n",
      "Input file size is 829, 1222\n",
      "0...10...20...30...40...50...60...70...80...90...100 - done.\n",
      "Done: 0\n",
      "Doing: B17.tif\n"
     ]
    },
    {
     "name": "stderr",
     "output_type": "stream",
     "text": [
      "Warning 1: for band 1, nodata value has been rounded to -2147483648, Int32 being an integer datatype.\n",
      "Warning 1: for band 1, nodata value has been rounded to -2147483648, Int32 being an integer datatype.\n"
     ]
    },
    {
     "name": "stdout",
     "output_type": "stream",
     "text": [
      "Input file size is 829, 1222\n",
      "0...10...20...30...40...50...60...70...80...90...100 - done.\n",
      "Done: 0\n",
      "Doing: B18.tif\n",
      "Input file size is 829, 1222\n",
      "0"
     ]
    },
    {
     "name": "stderr",
     "output_type": "stream",
     "text": [
      "Warning 1: for band 1, nodata value has been rounded to -2147483648, Int32 being an integer datatype.\n",
      "Warning 1: for band 1, nodata value has been rounded to -2147483648, Int32 being an integer datatype.\n"
     ]
    },
    {
     "name": "stdout",
     "output_type": "stream",
     "text": [
      "...10...20...30...40...50...60...70...80...90...100 - done.\n",
      "Done: 0\n",
      "Doing: B19.tif\n",
      "Input file size is 829, 1222\n",
      "0...10...20...30...40...50...60...70...80...90...100 - done.\n",
      "Done: 0\n",
      "Doing: ASCII\n",
      "Done: 1\n",
      "Doing: B1.tif\n"
     ]
    },
    {
     "name": "stderr",
     "output_type": "stream",
     "text": [
      "ERROR 4: `SSP126/2041_2060/EC-Earth3-Veg-LR/ASCII' not recognized as a supported file format.\n",
      "Warning 1: for band 1, nodata value has been rounded to -2147483648, Int32 being an integer datatype.\n"
     ]
    },
    {
     "name": "stdout",
     "output_type": "stream",
     "text": [
      "Input file size is 829, 1222\n",
      "0...10...20...30...40...50...60...70...80...90...100 - done.\n",
      "Done: 0\n",
      "Doing: B2.tif\n",
      "Input file size is 829, 1222\n",
      "0...10...20."
     ]
    },
    {
     "name": "stderr",
     "output_type": "stream",
     "text": [
      "Warning 1: for band 1, nodata value has been rounded to -2147483648, Int32 being an integer datatype.\n",
      "Warning 1: for band 1, nodata value has been rounded to -2147483648, Int32 being an integer datatype.\n"
     ]
    },
    {
     "name": "stdout",
     "output_type": "stream",
     "text": [
      "..30...40...50...60...70...80...90...100 - done.\n",
      "Done: 0\n",
      "Doing: B3.tif\n",
      "Input file size is 829, 1222\n",
      "0...10...20...30...40...50...60...70...80...90...100 - done.\n",
      "Done: 0\n",
      "Doing: B4.tif\n",
      "Input file size is 829, 1222\n",
      "0...10...20...30...40...50...60...70"
     ]
    },
    {
     "name": "stderr",
     "output_type": "stream",
     "text": [
      "Warning 1: for band 1, nodata value has been rounded to -2147483648, Int32 being an integer datatype.\n",
      "Warning 1: for band 1, nodata value has been rounded to -2147483648, Int32 being an integer datatype.\n"
     ]
    },
    {
     "name": "stdout",
     "output_type": "stream",
     "text": [
      "...80...90...100 - done.\n",
      "Done: 0\n",
      "Doing: B5.tif\n",
      "Input file size is 829, 1222\n",
      "0...10...20...30...40...50...60...70...80...90...100 - done.\n",
      "Done: 0\n",
      "Doing: B6.tif\n",
      "Input file size is 829, 1222\n",
      "0...10...20...30...40...50...60...70...80...90..."
     ]
    },
    {
     "name": "stderr",
     "output_type": "stream",
     "text": [
      "Warning 1: for band 1, nodata value has been rounded to -2147483648, Int32 being an integer datatype.\n",
      "Warning 1: for band 1, nodata value has been rounded to -2147483648, Int32 being an integer datatype.\n"
     ]
    },
    {
     "name": "stdout",
     "output_type": "stream",
     "text": [
      "100 - done.\n",
      "Done: 0\n",
      "Doing: B7.tif\n",
      "Input file size is 829, 1222\n",
      "0...10...20...30...40...50...60...70...80...90...100 - done.\n",
      "Done: 0\n",
      "Doing: B8.tif\n"
     ]
    },
    {
     "name": "stderr",
     "output_type": "stream",
     "text": [
      "Warning 1: for band 1, nodata value has been rounded to -2147483648, Int32 being an integer datatype.\n",
      "Warning 1: for band 1, nodata value has been rounded to -2147483648, Int32 being an integer datatype.\n"
     ]
    },
    {
     "name": "stdout",
     "output_type": "stream",
     "text": [
      "Input file size is 829, 1222\n",
      "0...10...20...30...40...50...60...70...80...90...100 - done.\n",
      "Done: 0\n",
      "Doing: B9.tif\n",
      "Input file size is 829, 1222\n",
      "0...10...20...30...40...50...60...70...80...90...100 - done.\n",
      "Done: 0\n",
      "Doing: B10.tif\n",
      "Input file size is 829, 1222\n",
      "0...10...20...30...40..."
     ]
    },
    {
     "name": "stderr",
     "output_type": "stream",
     "text": [
      "Warning 1: for band 1, nodata value has been rounded to -2147483648, Int32 being an integer datatype.\n",
      "Warning 1: for band 1, nodata value has been rounded to -2147483648, Int32 being an integer datatype.\n"
     ]
    },
    {
     "name": "stdout",
     "output_type": "stream",
     "text": [
      "50...60...70...80...90...100 - done.\n",
      "Done: 0\n",
      "Doing: B11.tif\n",
      "Input file size is 829, 1222\n",
      "0...10...20...30...40...50...60...70...80...90...100 - done.\n",
      "Done: 0\n",
      "Doing: B12.tif\n",
      "Input file size is 829, 1222\n",
      "0...10...20...30...40...50...60...70...80...90..."
     ]
    },
    {
     "name": "stderr",
     "output_type": "stream",
     "text": [
      "Warning 1: for band 1, nodata value has been rounded to -2147483648, Int32 being an integer datatype.\n",
      "Warning 1: for band 1, nodata value has been rounded to -2147483648, Int32 being an integer datatype.\n"
     ]
    },
    {
     "name": "stdout",
     "output_type": "stream",
     "text": [
      "100 - done.\n",
      "Done: 0\n",
      "Doing: B13.tif\n",
      "Input file size is 829, 1222\n",
      "0...10...20...30...40...50...60...70...80...90...100 - done.\n",
      "Done: 0\n",
      "Doing: B14.tif\n",
      "Input file size is 829, 1222\n",
      "0...10...20...30...40...50...60...70...80...90...100 - done.\n",
      "Done: 0\n",
      "Doing: B15.tif\n",
      "Input file size is 829, 1222\n",
      "0...10...20"
     ]
    },
    {
     "name": "stderr",
     "output_type": "stream",
     "text": [
      "Warning 1: for band 1, nodata value has been rounded to -2147483648, Int32 being an integer datatype.\n",
      "Warning 1: for band 1, nodata value has been rounded to -2147483648, Int32 being an integer datatype.\n"
     ]
    },
    {
     "name": "stdout",
     "output_type": "stream",
     "text": [
      "...30...40...50...60...70...80...90...100 - done.\n",
      "Done: 0\n",
      "Doing: B16.tif\n",
      "Input file size is 829, 1222\n",
      "0...10...20...30...40.."
     ]
    },
    {
     "name": "stderr",
     "output_type": "stream",
     "text": [
      "Warning 1: for band 1, nodata value has been rounded to -2147483648, Int32 being an integer datatype.\n",
      "Warning 1: for band 1, nodata value has been rounded to -2147483648, Int32 being an integer datatype.\n"
     ]
    },
    {
     "name": "stdout",
     "output_type": "stream",
     "text": [
      ".50...60...70...80...90...100 - done.\n",
      "Done: 0\n",
      "Doing: B17.tif\n",
      "Input file size is 829, 1222\n",
      "0...10...20...30...40...50...60...70...80...90...100 - done.\n",
      "Done: 0\n",
      "Doing: B18.tif\n",
      "Input file size is 829, 1222\n",
      "0...10...20...30...40..."
     ]
    },
    {
     "name": "stderr",
     "output_type": "stream",
     "text": [
      "Warning 1: for band 1, nodata value has been rounded to -2147483648, Int32 being an integer datatype.\n"
     ]
    },
    {
     "name": "stdout",
     "output_type": "stream",
     "text": [
      "50...60...70...80...90...100 - done.\n",
      "Done: 0\n",
      "Doing: B19.tif\n",
      "Input file size is 829, 1222\n",
      "0.."
     ]
    },
    {
     "name": "stderr",
     "output_type": "stream",
     "text": [
      "Warning 1: for band 1, nodata value has been rounded to -2147483648, Int32 being an integer datatype.\n"
     ]
    },
    {
     "name": "stdout",
     "output_type": "stream",
     "text": [
      ".10...20...30...40...50...60...70...80...90...100 - done.\n",
      "Done: 0\n",
      "Doing: ASCII\n"
     ]
    },
    {
     "name": "stderr",
     "output_type": "stream",
     "text": [
      "ERROR 4: `SSP126/2041_2060/FIO-ESM-2-0/ASCII' not recognized as a supported file format.\n",
      "Warning 1: for band 1, nodata value has been rounded to -2147483648, Int32 being an integer datatype.\n"
     ]
    },
    {
     "name": "stdout",
     "output_type": "stream",
     "text": [
      "Done: 1\n",
      "Doing: B1.tif\n",
      "Input file size is 829, 1222\n",
      "0...10...20...30...40...50...60...70...80...90...100 - done.\n",
      "Done: 0\n",
      "Doing: B2.tif\n"
     ]
    },
    {
     "name": "stderr",
     "output_type": "stream",
     "text": [
      "Warning 1: for band 1, nodata value has been rounded to -2147483648, Int32 being an integer datatype.\n",
      "Warning 1: for band 1, nodata value has been rounded to -2147483648, Int32 being an integer datatype.\n"
     ]
    },
    {
     "name": "stdout",
     "output_type": "stream",
     "text": [
      "Input file size is 829, 1222\n",
      "0...10...20...30...40...50...60...70...80...90...100 - done.\n",
      "Done: 0\n",
      "Doing: B3.tif\n",
      "Input file size is 829, 1222\n",
      "0...10...20...30...40...50...60...70...80...90...100 - done.\n",
      "Done: 0\n",
      "Doing: B4.tif\n",
      "Input file size is 829, 1222\n",
      "0...10...20...30...40...50"
     ]
    },
    {
     "name": "stderr",
     "output_type": "stream",
     "text": [
      "Warning 1: for band 1, nodata value has been rounded to -2147483648, Int32 being an integer datatype.\n",
      "Warning 1: for band 1, nodata value has been rounded to -2147483648, Int32 being an integer datatype.\n"
     ]
    },
    {
     "name": "stdout",
     "output_type": "stream",
     "text": [
      "...60...70...80...90...100 - done.\n",
      "Done: 0\n",
      "Doing: B5.tif\n",
      "Input file size is 829, 1222\n",
      "0...10...20...30...40...50...60...70...80...90...100 - done.\n",
      "Done: 0\n",
      "Doing: B6.tif\n",
      "Input file size is 829, 1222\n",
      "0...10...20...30...40...50...60...70...80...90..."
     ]
    },
    {
     "name": "stderr",
     "output_type": "stream",
     "text": [
      "Warning 1: for band 1, nodata value has been rounded to -2147483648, Int32 being an integer datatype.\n",
      "Warning 1: for band 1, nodata value has been rounded to -2147483648, Int32 being an integer datatype.\n"
     ]
    },
    {
     "name": "stdout",
     "output_type": "stream",
     "text": [
      "100 - done.\n",
      "Done: 0\n",
      "Doing: B7.tif\n",
      "Input file size is 829, 1222\n",
      "0...10...20...30...40...50...60...70...80...90...100 - done.\n",
      "Done: 0\n",
      "Doing: B8.tif\n"
     ]
    },
    {
     "name": "stderr",
     "output_type": "stream",
     "text": [
      "Warning 1: for band 1, nodata value has been rounded to -2147483648, Int32 being an integer datatype.\n",
      "Warning 1: for band 1, nodata value has been rounded to -2147483648, Int32 being an integer datatype.\n"
     ]
    },
    {
     "name": "stdout",
     "output_type": "stream",
     "text": [
      "Input file size is 829, 1222\n",
      "0...10...20...30...40...50...60...70...80...90...100 - done.\n",
      "Done: 0\n",
      "Doing: B9.tif\n",
      "Input file size is 829, 1222\n",
      "0...10...20...30...40...50...60...70...80...90...100 - done.\n",
      "Done: 0\n",
      "Doing: B10.tif\n",
      "Input file size is 829, 1222\n",
      "0...10...20...30...40...50...60...70."
     ]
    },
    {
     "name": "stderr",
     "output_type": "stream",
     "text": [
      "Warning 1: for band 1, nodata value has been rounded to -2147483648, Int32 being an integer datatype.\n"
     ]
    },
    {
     "name": "stdout",
     "output_type": "stream",
     "text": [
      "..80...90...100 - done.\n",
      "Done: 0\n",
      "Doing: B11.tif\n",
      "Input file size is 829, 1222\n",
      "0...10...20...30...40.."
     ]
    },
    {
     "name": "stderr",
     "output_type": "stream",
     "text": [
      "Warning 1: for band 1, nodata value has been rounded to -2147483648, Int32 being an integer datatype.\n"
     ]
    },
    {
     "name": "stdout",
     "output_type": "stream",
     "text": [
      ".50...60...70...80...90...100 - done.\n",
      "Done: 0\n",
      "Doing: B12.tif\n",
      "Input file size is 829, 1222\n",
      "0...10...20...30...40...50...60...70."
     ]
    },
    {
     "name": "stderr",
     "output_type": "stream",
     "text": [
      "Warning 1: for band 1, nodata value has been rounded to -2147483648, Int32 being an integer datatype.\n"
     ]
    },
    {
     "name": "stdout",
     "output_type": "stream",
     "text": [
      "..80...90...100 - done.\n",
      "Done: 0\n",
      "Doing: B13.tif\n",
      "Input file size is 829, 1222\n",
      "0...10...20...30...40...50...60."
     ]
    },
    {
     "name": "stderr",
     "output_type": "stream",
     "text": [
      "Warning 1: for band 1, nodata value has been rounded to -2147483648, Int32 being an integer datatype.\n",
      "Warning 1: for band 1, nodata value has been rounded to -2147483648, Int32 being an integer datatype.\n"
     ]
    },
    {
     "name": "stdout",
     "output_type": "stream",
     "text": [
      "..70...80...90...100 - done.\n",
      "Done: 0\n",
      "Doing: B14.tif\n",
      "Input file size is 829, 1222\n",
      "0...10...20...30...40...50...60...70...80...90...100 - done.\n",
      "Done: 0\n",
      "Doing: B15.tif\n",
      "Input file size is 829, 1222\n",
      "0...10...20...30...40...50...60...70...80"
     ]
    },
    {
     "name": "stderr",
     "output_type": "stream",
     "text": [
      "Warning 1: for band 1, nodata value has been rounded to -2147483648, Int32 being an integer datatype.\n"
     ]
    },
    {
     "name": "stdout",
     "output_type": "stream",
     "text": [
      "...90...100 - done.\n",
      "Done: 0\n",
      "Doing: B16.tif\n",
      "Input file size is 829, 1222\n",
      "0...10...20...30...40...50...60...70...80"
     ]
    },
    {
     "name": "stderr",
     "output_type": "stream",
     "text": [
      "Warning 1: for band 1, nodata value has been rounded to -2147483648, Int32 being an integer datatype.\n",
      "Warning 1: for band 1, nodata value has been rounded to -2147483648, Int32 being an integer datatype.\n"
     ]
    },
    {
     "name": "stdout",
     "output_type": "stream",
     "text": [
      "...90...100 - done.\n",
      "Done: 0\n",
      "Doing: B17.tif\n",
      "Input file size is 829, 1222\n",
      "0...10...20...30...40...50...60...70...80...90...100 - done.\n",
      "Done: 0\n",
      "Doing: B18.tif\n",
      "Input file size is 829, 1222\n",
      "0...10...20...30...40...50...60...70...80...90..."
     ]
    },
    {
     "name": "stderr",
     "output_type": "stream",
     "text": [
      "Warning 1: for band 1, nodata value has been rounded to -2147483648, Int32 being an integer datatype.\n"
     ]
    },
    {
     "name": "stdout",
     "output_type": "stream",
     "text": [
      "100 - done.\n",
      "Done: 0\n",
      "Doing: B19.tif\n",
      "Input file size is 829, 1222\n",
      "0...10...20...30...40...50...60...70...80...90...100 - done.\n",
      "Done: 0\n",
      "Doing: ASCII\n"
     ]
    },
    {
     "name": "stderr",
     "output_type": "stream",
     "text": [
      "Warning 1: for band 1, nodata value has been rounded to -2147483648, Int32 being an integer datatype.\n",
      "ERROR 4: `SSP126/2041_2060/GISS-E2-1-G/ASCII' not recognized as a supported file format.\n"
     ]
    },
    {
     "name": "stdout",
     "output_type": "stream",
     "text": [
      "Done: 1\n",
      "Doing: B1.tif\n",
      "Input file size is 829, 1222\n",
      "0...10...20...30...40...50...60...70...80...90...100 - done.\n",
      "Done: 0\n",
      "Doing: B2.tif\n"
     ]
    },
    {
     "name": "stderr",
     "output_type": "stream",
     "text": [
      "Warning 1: for band 1, nodata value has been rounded to -2147483648, Int32 being an integer datatype.\n",
      "Warning 1: for band 1, nodata value has been rounded to -2147483648, Int32 being an integer datatype.\n"
     ]
    },
    {
     "name": "stdout",
     "output_type": "stream",
     "text": [
      "Input file size is 829, 1222\n",
      "0...10...20...30...40...50...60...70...80...90...100 - done.\n",
      "Done: 0\n",
      "Doing: B3.tif\n",
      "Input file size is 829, 1222\n",
      "0"
     ]
    },
    {
     "name": "stderr",
     "output_type": "stream",
     "text": [
      "Warning 1: for band 1, nodata value has been rounded to -2147483648, Int32 being an integer datatype.\n",
      "Warning 1: for band 1, nodata value has been rounded to -2147483648, Int32 being an integer datatype.\n"
     ]
    },
    {
     "name": "stdout",
     "output_type": "stream",
     "text": [
      "...10...20...30...40...50...60...70...80...90...100 - done.\n",
      "Done: 0\n",
      "Doing: B4.tif\n",
      "Input file size is 829, 1222\n",
      "0...10...20...30...40...50...60...70...80...90...100 - done.\n",
      "Done: 0\n",
      "Doing: B5.tif\n",
      "Input file size is 829, 1222\n",
      "0...10...20...30...40...50"
     ]
    },
    {
     "name": "stderr",
     "output_type": "stream",
     "text": [
      "Warning 1: for band 1, nodata value has been rounded to -2147483648, Int32 being an integer datatype.\n",
      "Warning 1: for band 1, nodata value has been rounded to -2147483648, Int32 being an integer datatype.\n"
     ]
    },
    {
     "name": "stdout",
     "output_type": "stream",
     "text": [
      "...60...70...80...90...100 - done.\n",
      "Done: 0\n",
      "Doing: B6.tif\n",
      "Input file size is 829, 1222\n",
      "0...10...20...30...40...50...60...70...80...90...100 - done.\n",
      "Done: 0\n",
      "Doing: B7.tif\n",
      "Input file size is 829, 1222\n",
      "0...10...20...30...40...50...60...70...80...90..."
     ]
    },
    {
     "name": "stderr",
     "output_type": "stream",
     "text": [
      "Warning 1: for band 1, nodata value has been rounded to -2147483648, Int32 being an integer datatype.\n",
      "Warning 1: for band 1, nodata value has been rounded to -2147483648, Int32 being an integer datatype.\n"
     ]
    },
    {
     "name": "stdout",
     "output_type": "stream",
     "text": [
      "100 - done.\n",
      "Done: 0\n",
      "Doing: B8.tif\n",
      "Input file size is 829, 1222\n",
      "0...10...20...30...40...50...60...70...80...90...100 - done.\n",
      "Done: 0\n",
      "Doing: B9.tif\n",
      "Input file size is 829, 1222\n",
      "0...10...20...30...40...50...60...70...80...90..."
     ]
    },
    {
     "name": "stderr",
     "output_type": "stream",
     "text": [
      "Warning 1: for band 1, nodata value has been rounded to -2147483648, Int32 being an integer datatype.\n",
      "Warning 1: for band 1, nodata value has been rounded to -2147483648, Int32 being an integer datatype.\n"
     ]
    },
    {
     "name": "stdout",
     "output_type": "stream",
     "text": [
      "100 - done.\n",
      "Done: 0\n",
      "Doing: B10.tif\n",
      "Input file size is 829, 1222\n",
      "0...10...20...30...40...50...60...70...80...90...100 - done.\n",
      "Done: 0\n",
      "Doing: B11.tif\n"
     ]
    },
    {
     "name": "stderr",
     "output_type": "stream",
     "text": [
      "Warning 1: for band 1, nodata value has been rounded to -2147483648, Int32 being an integer datatype.\n"
     ]
    },
    {
     "name": "stdout",
     "output_type": "stream",
     "text": [
      "Input file size is 829, 1222\n",
      "0...10...20...30...40...50...60...70...80...90...100 - done.\n",
      "Done: 0\n",
      "Doing: B12.tif\n",
      "Input file size is 829, 1222\n",
      "0."
     ]
    },
    {
     "name": "stderr",
     "output_type": "stream",
     "text": [
      "Warning 1: for band 1, nodata value has been rounded to -2147483648, Int32 being an integer datatype.\n",
      "Warning 1: for band 1, nodata value has been rounded to -2147483648, Int32 being an integer datatype.\n"
     ]
    },
    {
     "name": "stdout",
     "output_type": "stream",
     "text": [
      "..10...20...30...40...50...60...70...80...90...100 - done.\n",
      "Done: 0\n",
      "Doing: B13.tif\n",
      "Input file size is 829, 1222\n",
      "0...10...20...30...40...50...60...70...80...90...100 - done.\n",
      "Done: 0\n",
      "Doing: B14.tif\n",
      "Input file size is 829, 1222\n",
      "0...10...20"
     ]
    },
    {
     "name": "stderr",
     "output_type": "stream",
     "text": [
      "Warning 1: for band 1, nodata value has been rounded to -2147483648, Int32 being an integer datatype.\n"
     ]
    },
    {
     "name": "stdout",
     "output_type": "stream",
     "text": [
      "...30...40...50...60...70...80...90...100 - done.\n",
      "Done: 0\n",
      "Doing: B15.tif\n",
      "Input file size is 829, 1222\n",
      "0...10...20...30...40...50...60"
     ]
    },
    {
     "name": "stderr",
     "output_type": "stream",
     "text": [
      "Warning 1: for band 1, nodata value has been rounded to -2147483648, Int32 being an integer datatype.\n",
      "Warning 1: for band 1, nodata value has been rounded to -2147483648, Int32 being an integer datatype.\n"
     ]
    },
    {
     "name": "stdout",
     "output_type": "stream",
     "text": [
      "...70...80...90...100 - done.\n",
      "Done: 0\n",
      "Doing: B16.tif\n",
      "Input file size is 829, 1222\n",
      "0...10...20...30...40...50...60...70...80...90...100 - done.\n",
      "Done: 0\n",
      "Doing: B17.tif\n",
      "Input file size is 829, 1222\n",
      "0...10...20...30...40...50...60...70...80...90..."
     ]
    },
    {
     "name": "stderr",
     "output_type": "stream",
     "text": [
      "Warning 1: for band 1, nodata value has been rounded to -2147483648, Int32 being an integer datatype.\n",
      "Warning 1: for band 1, nodata value has been rounded to -2147483648, Int32 being an integer datatype.\n"
     ]
    },
    {
     "name": "stdout",
     "output_type": "stream",
     "text": [
      "100 - done.\n",
      "Done: 0\n",
      "Doing: B18.tif\n",
      "Input file size is 829, 1222\n",
      "0...10...20...30...40...50...60...70...80...90...100 - done.\n",
      "Done: 0\n",
      "Doing: B19.tif\n"
     ]
    },
    {
     "name": "stderr",
     "output_type": "stream",
     "text": [
      "Warning 1: for band 1, nodata value has been rounded to -2147483648, Int32 being an integer datatype.\n",
      "ERROR 4: `SSP126/2041_2060/GISS-E2-1-H/ASCII' not recognized as a supported file format.\n"
     ]
    },
    {
     "name": "stdout",
     "output_type": "stream",
     "text": [
      "Input file size is 829, 1222\n",
      "0...10...20...30...40...50...60...70...80...90...100 - done.\n",
      "Done: 0\n",
      "Doing: ASCII\n",
      "Done: 1\n",
      "Doing: B1.tif\n"
     ]
    },
    {
     "name": "stderr",
     "output_type": "stream",
     "text": [
      "Warning 1: for band 1, nodata value has been rounded to -2147483648, Int32 being an integer datatype.\n",
      "Warning 1: for band 1, nodata value has been rounded to -2147483648, Int32 being an integer datatype.\n"
     ]
    },
    {
     "name": "stdout",
     "output_type": "stream",
     "text": [
      "Input file size is 829, 1222\n",
      "0...10...20...30...40...50...60...70...80...90...100 - done.\n",
      "Done: 0\n",
      "Doing: B2.tif\n",
      "Input file size is 829, 1222\n",
      "0...10...20...30...40...50...60...70...80...90...100 - done.\n",
      "Done: 0\n",
      "Doing: B3.tif\n",
      "Input file size is 829, 1222\n",
      "0...10...20...30...40..."
     ]
    },
    {
     "name": "stderr",
     "output_type": "stream",
     "text": [
      "Warning 1: for band 1, nodata value has been rounded to -2147483648, Int32 being an integer datatype.\n"
     ]
    },
    {
     "name": "stdout",
     "output_type": "stream",
     "text": [
      "50...60...70...80...90...100 - done.\n",
      "Done: 0\n",
      "Doing: B4.tif\n",
      "Input file size is 829, 1222\n",
      "0...10...20...30...40...50."
     ]
    },
    {
     "name": "stderr",
     "output_type": "stream",
     "text": [
      "Warning 1: for band 1, nodata value has been rounded to -2147483648, Int32 being an integer datatype.\n"
     ]
    },
    {
     "name": "stdout",
     "output_type": "stream",
     "text": [
      "..60...70...80...90...100 - done.\n",
      "Done: 0\n",
      "Doing: B5.tif\n",
      "Input file size is 829, 1222\n",
      "0"
     ]
    },
    {
     "name": "stderr",
     "output_type": "stream",
     "text": [
      "Warning 1: for band 1, nodata value has been rounded to -2147483648, Int32 being an integer datatype.\n"
     ]
    },
    {
     "name": "stdout",
     "output_type": "stream",
     "text": [
      "...10...20...30...40...50...60...70...80...90...100 - done.\n",
      "Done: 0\n",
      "Doing: B6.tif\n",
      "Input file size is 829, 1222\n",
      "0...10...20"
     ]
    },
    {
     "name": "stderr",
     "output_type": "stream",
     "text": [
      "Warning 1: for band 1, nodata value has been rounded to -2147483648, Int32 being an integer datatype.\n"
     ]
    },
    {
     "name": "stdout",
     "output_type": "stream",
     "text": [
      "...30...40...50...60...70...80...90...100 - done.\n",
      "Done: 0\n",
      "Doing: B7.tif\n",
      "Input file size is 829, 1222\n",
      "0...10...20...30...40...50...60...70"
     ]
    },
    {
     "name": "stderr",
     "output_type": "stream",
     "text": [
      "Warning 1: for band 1, nodata value has been rounded to -2147483648, Int32 being an integer datatype.\n"
     ]
    },
    {
     "name": "stdout",
     "output_type": "stream",
     "text": [
      "...80...90...100 - done.\n",
      "Done: 0\n",
      "Doing: B8.tif\n",
      "Input file size is 829, 1222\n",
      "0...10...20...30...40...50...60..."
     ]
    },
    {
     "name": "stderr",
     "output_type": "stream",
     "text": [
      "Warning 1: for band 1, nodata value has been rounded to -2147483648, Int32 being an integer datatype.\n"
     ]
    },
    {
     "name": "stdout",
     "output_type": "stream",
     "text": [
      "70...80...90...100 - done.\n",
      "Done: 0\n",
      "Doing: B9.tif\n",
      "Input file size is 829, 1222\n",
      "0...10...20...30...40...50...60...70..."
     ]
    },
    {
     "name": "stderr",
     "output_type": "stream",
     "text": [
      "Warning 1: for band 1, nodata value has been rounded to -2147483648, Int32 being an integer datatype.\n",
      "Warning 1: for band 1, nodata value has been rounded to -2147483648, Int32 being an integer datatype.\n"
     ]
    },
    {
     "name": "stdout",
     "output_type": "stream",
     "text": [
      "80...90...100 - done.\n",
      "Done: 0\n",
      "Doing: B10.tif\n",
      "Input file size is 829, 1222\n",
      "0...10...20...30...40...50...60...70...80...90...100 - done.\n",
      "Done: 0\n",
      "Doing: B11.tif\n",
      "Input file size is 829, 1222\n",
      "0...10...20...30...40...50...60...70...80...90..."
     ]
    },
    {
     "name": "stderr",
     "output_type": "stream",
     "text": [
      "Warning 1: for band 1, nodata value has been rounded to -2147483648, Int32 being an integer datatype.\n",
      "Warning 1: for band 1, nodata value has been rounded to -2147483648, Int32 being an integer datatype.\n"
     ]
    },
    {
     "name": "stdout",
     "output_type": "stream",
     "text": [
      "100 - done.\n",
      "Done: 0\n",
      "Doing: B12.tif\n",
      "Input file size is 829, 1222\n",
      "0...10...20...30...40...50...60...70...80...90...100 - done.\n",
      "Done: 0\n",
      "Doing: B13.tif\n"
     ]
    },
    {
     "name": "stderr",
     "output_type": "stream",
     "text": [
      "Warning 1: for band 1, nodata value has been rounded to -2147483648, Int32 being an integer datatype.\n"
     ]
    },
    {
     "name": "stdout",
     "output_type": "stream",
     "text": [
      "Input file size is 829, 1222\n",
      "0...10...20...30...40...50...60...70...80...90...100 - done.\n",
      "Done: 0\n",
      "Doing: B14.tif\n"
     ]
    },
    {
     "name": "stderr",
     "output_type": "stream",
     "text": [
      "Warning 1: for band 1, nodata value has been rounded to -2147483648, Int32 being an integer datatype.\n",
      "Warning 1: for band 1, nodata value has been rounded to -2147483648, Int32 being an integer datatype.\n"
     ]
    },
    {
     "name": "stdout",
     "output_type": "stream",
     "text": [
      "Input file size is 829, 1222\n",
      "0...10...20...30...40...50...60...70...80...90...100 - done.\n",
      "Done: 0\n",
      "Doing: B15.tif\n",
      "Input file size is 829, 1222\n",
      "0...10...20...30...40...50...60...70...80...90...100 - done.\n",
      "Done: 0\n",
      "Doing: B16.tif\n",
      "Input file size is 829, 1222\n",
      "0...10."
     ]
    },
    {
     "name": "stderr",
     "output_type": "stream",
     "text": [
      "Warning 1: for band 1, nodata value has been rounded to -2147483648, Int32 being an integer datatype.\n",
      "Warning 1: for band 1, nodata value has been rounded to -2147483648, Int32 being an integer datatype.\n"
     ]
    },
    {
     "name": "stdout",
     "output_type": "stream",
     "text": [
      "..20...30...40...50...60...70...80...90...100 - done.\n",
      "Done: 0\n",
      "Doing: B17.tif\n",
      "Input file size is 829, 1222\n",
      "0...10...20...30...40...50...60...70...80...90...100 - done.\n",
      "Done: 0\n",
      "Doing: B18.tif\n",
      "Input file size is 829, 1222\n",
      "0...10.."
     ]
    },
    {
     "name": "stderr",
     "output_type": "stream",
     "text": [
      "Warning 1: for band 1, nodata value has been rounded to -2147483648, Int32 being an integer datatype.\n"
     ]
    },
    {
     "name": "stdout",
     "output_type": "stream",
     "text": [
      ".20...30...40...50...60...70...80...90...100 - done.\n",
      "Done: 0\n",
      "Doing: B19.tif\n"
     ]
    },
    {
     "name": "stderr",
     "output_type": "stream",
     "text": [
      "Warning 1: for band 1, nodata value has been rounded to -2147483648, Int32 being an integer datatype.\n",
      "ERROR 4: `SSP126/2041_2060/HadGEM3-GC31-LL/ASCII' not recognized as a supported file format.\n"
     ]
    },
    {
     "name": "stdout",
     "output_type": "stream",
     "text": [
      "Input file size is 829, 1222\n",
      "0...10...20...30...40...50...60...70...80...90...100 - done.\n",
      "Done: 0\n",
      "Doing: ASCII\n",
      "Done: 1\n",
      "Doing: B1.tif\n"
     ]
    },
    {
     "name": "stderr",
     "output_type": "stream",
     "text": [
      "Warning 1: for band 1, nodata value has been rounded to -2147483648, Int32 being an integer datatype.\n",
      "Warning 1: for band 1, nodata value has been rounded to -2147483648, Int32 being an integer datatype.\n"
     ]
    },
    {
     "name": "stdout",
     "output_type": "stream",
     "text": [
      "Input file size is 829, 1222\n",
      "0...10...20...30...40...50...60...70...80...90...100 - done.\n",
      "Done: 0\n",
      "Doing: B2.tif\n",
      "Input file size is 829, 1222\n",
      "0...10...20...30...40...50...60...70...80...90...100 - done.\n",
      "Done: 0\n",
      "Doing: B3.tif\n",
      "Input file size is 829, 1222\n",
      "0...10...20...30...40."
     ]
    },
    {
     "name": "stderr",
     "output_type": "stream",
     "text": [
      "Warning 1: for band 1, nodata value has been rounded to -2147483648, Int32 being an integer datatype.\n",
      "Warning 1: for band 1, nodata value has been rounded to -2147483648, Int32 being an integer datatype.\n"
     ]
    },
    {
     "name": "stdout",
     "output_type": "stream",
     "text": [
      "..50...60...70...80...90...100 - done.\n",
      "Done: 0\n",
      "Doing: B4.tif\n",
      "Input file size is 829, 1222\n",
      "0...10...20...30...40...50...60...70...80...90...100 - done.\n",
      "Done: 0\n",
      "Doing: B5.tif\n",
      "Input file size is 829, 1222\n",
      "0...10...20...30...40..."
     ]
    },
    {
     "name": "stderr",
     "output_type": "stream",
     "text": [
      "Warning 1: for band 1, nodata value has been rounded to -2147483648, Int32 being an integer datatype.\n"
     ]
    },
    {
     "name": "stdout",
     "output_type": "stream",
     "text": [
      "50...60...70...80...90...100 - done.\n",
      "Done: 0\n",
      "Doing: B6.tif\n",
      "Input file size is 829, 1222\n",
      "0.."
     ]
    },
    {
     "name": "stderr",
     "output_type": "stream",
     "text": [
      "Warning 1: for band 1, nodata value has been rounded to -2147483648, Int32 being an integer datatype.\n"
     ]
    },
    {
     "name": "stdout",
     "output_type": "stream",
     "text": [
      ".10...20...30...40...50...60...70...80...90...100 - done.\n",
      "Done: 0\n",
      "Doing: B7.tif\n"
     ]
    },
    {
     "name": "stderr",
     "output_type": "stream",
     "text": [
      "Warning 1: for band 1, nodata value has been rounded to -2147483648, Int32 being an integer datatype.\n"
     ]
    },
    {
     "name": "stdout",
     "output_type": "stream",
     "text": [
      "Input file size is 829, 1222\n",
      "0...10...20...30...40...50...60...70...80...90...100 - done.\n",
      "Done: 0\n",
      "Doing: B8.tif\n"
     ]
    },
    {
     "name": "stderr",
     "output_type": "stream",
     "text": [
      "Warning 1: for band 1, nodata value has been rounded to -2147483648, Int32 being an integer datatype.\n",
      "Warning 1: for band 1, nodata value has been rounded to -2147483648, Int32 being an integer datatype.\n"
     ]
    },
    {
     "name": "stdout",
     "output_type": "stream",
     "text": [
      "Input file size is 829, 1222\n",
      "0...10...20...30...40...50...60...70...80...90...100 - done.\n",
      "Done: 0\n",
      "Doing: B9.tif\n",
      "Input file size is 829, 1222\n",
      "0...10...20...30...40...50...60...70...80...90...100 - done.\n",
      "Done: 0\n",
      "Doing: B10.tif\n",
      "Input file size is 829, 1222\n",
      "0...10...20...30...40...50.."
     ]
    },
    {
     "name": "stderr",
     "output_type": "stream",
     "text": [
      "Warning 1: for band 1, nodata value has been rounded to -2147483648, Int32 being an integer datatype.\n",
      "Warning 1: for band 1, nodata value has been rounded to -2147483648, Int32 being an integer datatype.\n"
     ]
    },
    {
     "name": "stdout",
     "output_type": "stream",
     "text": [
      ".60...70...80...90...100 - done.\n",
      "Done: 0\n",
      "Doing: B11.tif\n",
      "Input file size is 829, 1222\n",
      "0...10...20...30...40...50...60...70...80...90...100 - done.\n",
      "Done: 0\n",
      "Doing: B12.tif\n",
      "Input file size is 829, 1222\n",
      "0...10...20...30...40...50...60...70...80...90..."
     ]
    },
    {
     "name": "stderr",
     "output_type": "stream",
     "text": [
      "Warning 1: for band 1, nodata value has been rounded to -2147483648, Int32 being an integer datatype.\n",
      "Warning 1: for band 1, nodata value has been rounded to -2147483648, Int32 being an integer datatype.\n"
     ]
    },
    {
     "name": "stdout",
     "output_type": "stream",
     "text": [
      "100 - done.\n",
      "Done: 0\n",
      "Doing: B13.tif\n",
      "Input file size is 829, 1222\n",
      "0...10...20...30...40...50...60...70...80...90...100 - done.\n",
      "Done: 0\n",
      "Doing: B14.tif\n"
     ]
    },
    {
     "name": "stderr",
     "output_type": "stream",
     "text": [
      "Warning 1: for band 1, nodata value has been rounded to -2147483648, Int32 being an integer datatype.\n",
      "Warning 1: for band 1, nodata value has been rounded to -2147483648, Int32 being an integer datatype.\n"
     ]
    },
    {
     "name": "stdout",
     "output_type": "stream",
     "text": [
      "Input file size is 829, 1222\n",
      "0...10...20...30...40...50...60...70...80...90...100 - done.\n",
      "Done: 0\n",
      "Doing: B15.tif\n",
      "Input file size is 829, 1222\n",
      "0...10...20...30...40...50...60...70...80...90...100 - done.\n",
      "Done: 0\n",
      "Doing: B16.tif\n",
      "Input file size is 829, 1222\n",
      "0...10...20...30...40...50."
     ]
    },
    {
     "name": "stderr",
     "output_type": "stream",
     "text": [
      "Warning 1: for band 1, nodata value has been rounded to -2147483648, Int32 being an integer datatype.\n",
      "Warning 1: for band 1, nodata value has been rounded to -2147483648, Int32 being an integer datatype.\n"
     ]
    },
    {
     "name": "stdout",
     "output_type": "stream",
     "text": [
      "..60...70...80...90...100 - done.\n",
      "Done: 0\n",
      "Doing: B17.tif\n",
      "Input file size is 829, 1222\n",
      "0...10...20...30...40...50...60...70...80...90...100 - done.\n",
      "Done: 0\n",
      "Doing: B18.tif\n"
     ]
    },
    {
     "name": "stderr",
     "output_type": "stream",
     "text": [
      "Warning 1: for band 1, nodata value has been rounded to -2147483648, Int32 being an integer datatype.\n"
     ]
    },
    {
     "name": "stdout",
     "output_type": "stream",
     "text": [
      "Input file size is 829, 1222\n",
      "0...10...20...30...40...50...60...70...80...90...100 - done.\n",
      "Done: 0\n",
      "Doing: B19.tif\n",
      "Input file size is 829, 1222\n",
      "0...10...20...30...40...50...60...70...80"
     ]
    },
    {
     "name": "stderr",
     "output_type": "stream",
     "text": [
      "Warning 1: for band 1, nodata value has been rounded to -2147483648, Int32 being an integer datatype.\n"
     ]
    },
    {
     "name": "stdout",
     "output_type": "stream",
     "text": [
      "...90...100 - done.\n",
      "Done: 0\n",
      "Doing: ASCII\n",
      "Done: 1\n",
      "Doing: B1.tif\n"
     ]
    },
    {
     "name": "stderr",
     "output_type": "stream",
     "text": [
      "ERROR 4: `SSP126/2041_2060/INM-CM4-8/ASCII' not recognized as a supported file format.\n",
      "Warning 1: for band 1, nodata value has been rounded to -2147483648, Int32 being an integer datatype.\n"
     ]
    },
    {
     "name": "stdout",
     "output_type": "stream",
     "text": [
      "Input file size is 829, 1222\n",
      "0...10...20...30...40...50...60...70...80...90...100 - done.\n",
      "Done: 0\n",
      "Doing: B2.tif\n",
      "Input file size is 829, 1222\n",
      "0...10...20...30...40...50...60...70...80...90...100 - done.\n",
      "Done: 0\n",
      "Doing: B3.tif\n"
     ]
    },
    {
     "name": "stderr",
     "output_type": "stream",
     "text": [
      "Warning 1: for band 1, nodata value has been rounded to -2147483648, Int32 being an integer datatype.\n",
      "Warning 1: for band 1, nodata value has been rounded to -2147483648, Int32 being an integer datatype.\n"
     ]
    },
    {
     "name": "stdout",
     "output_type": "stream",
     "text": [
      "Input file size is 829, 1222\n",
      "0...10...20...30...40...50...60...70...80...90...100 - done.\n",
      "Done: 0\n",
      "Doing: B4.tif\n"
     ]
    },
    {
     "name": "stderr",
     "output_type": "stream",
     "text": [
      "Warning 1: for band 1, nodata value has been rounded to -2147483648, Int32 being an integer datatype.\n",
      "Warning 1: for band 1, nodata value has been rounded to -2147483648, Int32 being an integer datatype.\n"
     ]
    },
    {
     "name": "stdout",
     "output_type": "stream",
     "text": [
      "Input file size is 829, 1222\n",
      "0...10...20...30...40...50...60...70...80...90...100 - done.\n",
      "Done: 0\n",
      "Doing: B5.tif\n",
      "Input file size is 829, 1222\n",
      "0...10...20...30...40...50...60...70...80...90...100 - done.\n",
      "Done: 0\n",
      "Doing: B6.tif\n",
      "Input file size is 829, 1222\n",
      "0...10...20...30...40...50"
     ]
    },
    {
     "name": "stderr",
     "output_type": "stream",
     "text": [
      "Warning 1: for band 1, nodata value has been rounded to -2147483648, Int32 being an integer datatype.\n",
      "Warning 1: for band 1, nodata value has been rounded to -2147483648, Int32 being an integer datatype.\n"
     ]
    },
    {
     "name": "stdout",
     "output_type": "stream",
     "text": [
      "...60...70...80...90...100 - done.\n",
      "Done: 0\n",
      "Doing: B7.tif\n",
      "Input file size is 829, 1222\n",
      "0...10...20...30...40...50...60...70...80...90...100 - done.\n",
      "Done: 0\n",
      "Doing: B8.tif\n",
      "Input file size is 829, 1222\n",
      "0...10...20...30...40...50...60...70...80...90..."
     ]
    },
    {
     "name": "stderr",
     "output_type": "stream",
     "text": [
      "Warning 1: for band 1, nodata value has been rounded to -2147483648, Int32 being an integer datatype.\n",
      "Warning 1: for band 1, nodata value has been rounded to -2147483648, Int32 being an integer datatype.\n"
     ]
    },
    {
     "name": "stdout",
     "output_type": "stream",
     "text": [
      "100 - done.\n",
      "Done: 0\n",
      "Doing: B9.tif\n",
      "Input file size is 829, 1222\n",
      "0...10...20...30...40...50...60...70...80...90...100 - done.\n",
      "Done: 0\n",
      "Doing: B10.tif\n"
     ]
    },
    {
     "name": "stderr",
     "output_type": "stream",
     "text": [
      "Warning 1: for band 1, nodata value has been rounded to -2147483648, Int32 being an integer datatype.\n"
     ]
    },
    {
     "name": "stdout",
     "output_type": "stream",
     "text": [
      "Input file size is 829, 1222\n",
      "0...10...20...30...40...50...60...70...80...90...100 - done.\n",
      "Done: 0\n",
      "Doing: B11.tif\n",
      "Input file size is 829, 1222\n",
      "0...10...20...30...40...50...60...70"
     ]
    },
    {
     "name": "stderr",
     "output_type": "stream",
     "text": [
      "Warning 1: for band 1, nodata value has been rounded to -2147483648, Int32 being an integer datatype.\n"
     ]
    },
    {
     "name": "stdout",
     "output_type": "stream",
     "text": [
      "...80...90...100 - done.\n",
      "Done: 0\n",
      "Doing: B12.tif\n",
      "Input file size is 829, 1222\n",
      "0...10...20...30"
     ]
    },
    {
     "name": "stderr",
     "output_type": "stream",
     "text": [
      "Warning 1: for band 1, nodata value has been rounded to -2147483648, Int32 being an integer datatype.\n"
     ]
    },
    {
     "name": "stdout",
     "output_type": "stream",
     "text": [
      "...40...50...60...70...80...90...100 - done.\n",
      "Done: 0\n",
      "Doing: B13.tif\n"
     ]
    },
    {
     "name": "stderr",
     "output_type": "stream",
     "text": [
      "Warning 1: for band 1, nodata value has been rounded to -2147483648, Int32 being an integer datatype.\n"
     ]
    },
    {
     "name": "stdout",
     "output_type": "stream",
     "text": [
      "Input file size is 829, 1222\n",
      "0...10...20...30...40...50...60...70...80...90...100 - done.\n",
      "Done: 0\n",
      "Doing: B14.tif\n",
      "Input file size is 829, 1222\n",
      "0...10...20...30...40...50...60...70...80...90..."
     ]
    },
    {
     "name": "stderr",
     "output_type": "stream",
     "text": [
      "Warning 1: for band 1, nodata value has been rounded to -2147483648, Int32 being an integer datatype.\n",
      "Warning 1: for band 1, nodata value has been rounded to -2147483648, Int32 being an integer datatype.\n"
     ]
    },
    {
     "name": "stdout",
     "output_type": "stream",
     "text": [
      "100 - done.\n",
      "Done: 0\n",
      "Doing: B15.tif\n",
      "Input file size is 829, 1222\n",
      "0...10...20...30...40...50...60...70...80...90...100 - done.\n",
      "Done: 0\n",
      "Doing: B16.tif\n"
     ]
    },
    {
     "name": "stderr",
     "output_type": "stream",
     "text": [
      "Warning 1: for band 1, nodata value has been rounded to -2147483648, Int32 being an integer datatype.\n"
     ]
    },
    {
     "name": "stdout",
     "output_type": "stream",
     "text": [
      "Input file size is 829, 1222\n",
      "0...10...20...30...40...50...60...70...80...90...100 - done.\n",
      "Done: 0\n",
      "Doing: B17.tif\n",
      "Input file size is 829, 1222\n",
      "0...10...20...30...40...50...60...70...80...90...100 - done.\n",
      "Done: 0\n",
      "Doing: B18.tif\n"
     ]
    },
    {
     "name": "stderr",
     "output_type": "stream",
     "text": [
      "Warning 1: for band 1, nodata value has been rounded to -2147483648, Int32 being an integer datatype.\n",
      "Warning 1: for band 1, nodata value has been rounded to -2147483648, Int32 being an integer datatype.\n"
     ]
    },
    {
     "name": "stdout",
     "output_type": "stream",
     "text": [
      "Input file size is 829, 1222\n",
      "0...10...20...30...40...50...60...70...80...90...100 - done.\n",
      "Done: 0\n",
      "Doing: B19.tif\n",
      "Input file size is 829, 1222\n",
      "0...10...20."
     ]
    },
    {
     "name": "stderr",
     "output_type": "stream",
     "text": [
      "Warning 1: for band 1, nodata value has been rounded to -2147483648, Int32 being an integer datatype.\n",
      "ERROR 4: `SSP126/2041_2060/INM-CM5-0/ASCII' not recognized as a supported file format.\n"
     ]
    },
    {
     "name": "stdout",
     "output_type": "stream",
     "text": [
      "..30...40...50...60...70...80...90...100 - done.\n",
      "Done: 0\n",
      "Doing: ASCII\n",
      "Done: 1\n",
      "Doing: B1.tif\n"
     ]
    },
    {
     "name": "stderr",
     "output_type": "stream",
     "text": [
      "Warning 1: for band 1, nodata value has been rounded to -2147483648, Int32 being an integer datatype.\n",
      "Warning 1: for band 1, nodata value has been rounded to -2147483648, Int32 being an integer datatype.\n"
     ]
    },
    {
     "name": "stdout",
     "output_type": "stream",
     "text": [
      "Input file size is 829, 1222\n",
      "0...10...20...30...40...50...60...70...80...90...100 - done.\n",
      "Done: 0\n",
      "Doing: B2.tif\n",
      "Input file size is 829, 1222\n",
      "0...10...20...30...40...50...60...70...80...90...100 - done.\n",
      "Done: 0\n",
      "Doing: B3.tif\n",
      "Input file size is 829, 1222\n",
      "0...10"
     ]
    },
    {
     "name": "stderr",
     "output_type": "stream",
     "text": [
      "Warning 1: for band 1, nodata value has been rounded to -2147483648, Int32 being an integer datatype.\n",
      "Warning 1: for band 1, nodata value has been rounded to -2147483648, Int32 being an integer datatype.\n"
     ]
    },
    {
     "name": "stdout",
     "output_type": "stream",
     "text": [
      "...20...30...40...50...60...70...80...90...100 - done.\n",
      "Done: 0\n",
      "Doing: B4.tif\n",
      "Input file size is 829, 1222\n",
      "0...10...20...30...40...50...60...70...80...90...100 - done.\n",
      "Done: 0\n",
      "Doing: B5.tif\n",
      "Input file size is 829, 1222\n",
      "0...10...20...30...40...50"
     ]
    },
    {
     "name": "stderr",
     "output_type": "stream",
     "text": [
      "Warning 1: for band 1, nodata value has been rounded to -2147483648, Int32 being an integer datatype.\n",
      "Warning 1: for band 1, nodata value has been rounded to -2147483648, Int32 being an integer datatype.\n"
     ]
    },
    {
     "name": "stdout",
     "output_type": "stream",
     "text": [
      "...60...70...80...90...100 - done.\n",
      "Done: 0\n",
      "Doing: B6.tif\n",
      "Input file size is 829, 1222\n",
      "0...10...20...30...40...50...60...70...80...90...100 - done.\n",
      "Done: 0\n",
      "Doing: B7.tif\n",
      "Input file size is 829, 1222\n",
      "0...10...20...30...40...50...60...70...80...90"
     ]
    },
    {
     "name": "stderr",
     "output_type": "stream",
     "text": [
      "Warning 1: for band 1, nodata value has been rounded to -2147483648, Int32 being an integer datatype.\n",
      "Warning 1: for band 1, nodata value has been rounded to -2147483648, Int32 being an integer datatype.\n"
     ]
    },
    {
     "name": "stdout",
     "output_type": "stream",
     "text": [
      "...100 - done.\n",
      "Done: 0\n",
      "Doing: B8.tif\n",
      "Input file size is 829, 1222\n",
      "0...10...20...30...40...50...60...70...80...90...100 - done.\n",
      "Done: 0\n",
      "Doing: B9.tif\n",
      "Input file size is 829, 1222\n",
      "0...10...20...30...40...50...60...70...80...90...100 - done.\n",
      "Done: 0\n",
      "Doing: B10.tif\n"
     ]
    },
    {
     "name": "stderr",
     "output_type": "stream",
     "text": [
      "Warning 1: for band 1, nodata value has been rounded to -2147483648, Int32 being an integer datatype.\n",
      "Warning 1: for band 1, nodata value has been rounded to -2147483648, Int32 being an integer datatype.\n"
     ]
    },
    {
     "name": "stdout",
     "output_type": "stream",
     "text": [
      "Input file size is 829, 1222\n",
      "0...10...20...30...40...50...60...70...80...90...100 - done.\n",
      "Done: 0\n",
      "Doing: B11.tif\n",
      "Input file size is 829, 1222\n",
      "0...10...20."
     ]
    },
    {
     "name": "stderr",
     "output_type": "stream",
     "text": [
      "Warning 1: for band 1, nodata value has been rounded to -2147483648, Int32 being an integer datatype.\n"
     ]
    },
    {
     "name": "stdout",
     "output_type": "stream",
     "text": [
      "..30...40...50...60...70...80...90...100 - done.\n",
      "Done: 0\n",
      "Doing: B12.tif\n",
      "Input file size is 829, 1222\n",
      "0...10"
     ]
    },
    {
     "name": "stderr",
     "output_type": "stream",
     "text": [
      "Warning 1: for band 1, nodata value has been rounded to -2147483648, Int32 being an integer datatype.\n",
      "Warning 1: for band 1, nodata value has been rounded to -2147483648, Int32 being an integer datatype.\n"
     ]
    },
    {
     "name": "stdout",
     "output_type": "stream",
     "text": [
      "...20...30...40...50...60...70...80...90...100 - done.\n",
      "Done: 0\n",
      "Doing: B13.tif\n",
      "Input file size is 829, 1222\n",
      "0...10...20...30...40...50...60...70...80...90...100 - done.\n",
      "Done: 0\n",
      "Doing: B14.tif\n",
      "Input file size is 829, 1222\n",
      "0...10"
     ]
    },
    {
     "name": "stderr",
     "output_type": "stream",
     "text": [
      "Warning 1: for band 1, nodata value has been rounded to -2147483648, Int32 being an integer datatype.\n",
      "Warning 1: for band 1, nodata value has been rounded to -2147483648, Int32 being an integer datatype.\n"
     ]
    },
    {
     "name": "stdout",
     "output_type": "stream",
     "text": [
      "...20...30...40...50...60...70...80...90...100 - done.\n",
      "Done: 0\n",
      "Doing: B15.tif\n",
      "Input file size is 829, 1222\n",
      "0...10...20...30...40...50...60...70...80...90...100 - done.\n",
      "Done: 0\n",
      "Doing: B16.tif\n",
      "Input file size is 829, 1222\n",
      "0...10...20...30...40...50...60"
     ]
    },
    {
     "name": "stderr",
     "output_type": "stream",
     "text": [
      "Warning 1: for band 1, nodata value has been rounded to -2147483648, Int32 being an integer datatype.\n"
     ]
    },
    {
     "name": "stdout",
     "output_type": "stream",
     "text": [
      "...70...80...90...100 - done.\n",
      "Done: 0\n",
      "Doing: B17.tif\n",
      "Input file size is 829, 1222\n",
      "0...10...20...30...40"
     ]
    },
    {
     "name": "stderr",
     "output_type": "stream",
     "text": [
      "Warning 1: for band 1, nodata value has been rounded to -2147483648, Int32 being an integer datatype.\n",
      "Warning 1: for band 1, nodata value has been rounded to -2147483648, Int32 being an integer datatype.\n"
     ]
    },
    {
     "name": "stdout",
     "output_type": "stream",
     "text": [
      "...50...60...70...80...90...100 - done.\n",
      "Done: 0\n",
      "Doing: B18.tif\n",
      "Input file size is 829, 1222\n",
      "0...10...20...30...40...50...60...70...80...90...100 - done.\n",
      "Done: 0\n",
      "Doing: B19.tif\n",
      "Input file size is 829, 1222\n",
      "0...10...20...30...40...50...60...70...80...90"
     ]
    },
    {
     "name": "stderr",
     "output_type": "stream",
     "text": [
      "Warning 1: for band 1, nodata value has been rounded to -2147483648, Int32 being an integer datatype.\n"
     ]
    },
    {
     "name": "stdout",
     "output_type": "stream",
     "text": [
      "...100 - done.\n",
      "Done: 0\n",
      "Doing: ASCII\n",
      "Done: 1\n",
      "Doing: B1.tif\n",
      "Input file size is 829, 1222\n",
      "0...10...20...30"
     ]
    },
    {
     "name": "stderr",
     "output_type": "stream",
     "text": [
      "ERROR 4: `SSP126/2041_2060/IPSL-CM6A-LR/ASCII' not recognized as a supported file format.\n",
      "Warning 1: for band 1, nodata value has been rounded to -2147483648, Int32 being an integer datatype.\n"
     ]
    },
    {
     "name": "stdout",
     "output_type": "stream",
     "text": [
      "...40...50...60...70...80...90...100 - done.\n",
      "Done: 0\n",
      "Doing: B2.tif\n",
      "Input file size is 829, 1222\n",
      "0...10...20...30...40...50.."
     ]
    },
    {
     "name": "stderr",
     "output_type": "stream",
     "text": [
      "Warning 1: for band 1, nodata value has been rounded to -2147483648, Int32 being an integer datatype.\n",
      "Warning 1: for band 1, nodata value has been rounded to -2147483648, Int32 being an integer datatype.\n"
     ]
    },
    {
     "name": "stdout",
     "output_type": "stream",
     "text": [
      ".60...70...80...90...100 - done.\n",
      "Done: 0\n",
      "Doing: B3.tif\n",
      "Input file size is 829, 1222\n",
      "0...10...20...30...40...50...60...70...80...90...100 - done.\n",
      "Done: 0\n",
      "Doing: B4.tif\n",
      "Input file size is 829, 1222\n",
      "0...10...20...30...40...50...60"
     ]
    },
    {
     "name": "stderr",
     "output_type": "stream",
     "text": [
      "Warning 1: for band 1, nodata value has been rounded to -2147483648, Int32 being an integer datatype.\n",
      "Warning 1: for band 1, nodata value has been rounded to -2147483648, Int32 being an integer datatype.\n"
     ]
    },
    {
     "name": "stdout",
     "output_type": "stream",
     "text": [
      "...70...80...90...100 - done.\n",
      "Done: 0\n",
      "Doing: B5.tif\n",
      "Input file size is 829, 1222\n",
      "0...10...20...30...40...50...60...70...80...90...100 - done.\n",
      "Done: 0\n",
      "Doing: B6.tif\n",
      "Input file size is 829, 1222\n",
      "0...10...20...30...40...50...60...70...80...90..."
     ]
    },
    {
     "name": "stderr",
     "output_type": "stream",
     "text": [
      "Warning 1: for band 1, nodata value has been rounded to -2147483648, Int32 being an integer datatype.\n",
      "Warning 1: for band 1, nodata value has been rounded to -2147483648, Int32 being an integer datatype.\n"
     ]
    },
    {
     "name": "stdout",
     "output_type": "stream",
     "text": [
      "100 - done.\n",
      "Done: 0\n",
      "Doing: B7.tif\n",
      "Input file size is 829, 1222\n",
      "0...10...20...30...40...50...60...70...80...90...100 - done.\n",
      "Done: 0\n",
      "Doing: B8.tif\n",
      "Input file size is 829, 1222\n",
      "0...10...20...30...40...50...60...70."
     ]
    },
    {
     "name": "stderr",
     "output_type": "stream",
     "text": [
      "Warning 1: for band 1, nodata value has been rounded to -2147483648, Int32 being an integer datatype.\n"
     ]
    },
    {
     "name": "stdout",
     "output_type": "stream",
     "text": [
      "..80...90...100 - done.\n",
      "Done: 0\n",
      "Doing: B9.tif\n",
      "Input file size is 829, 1222\n",
      "0...10...20...30...40...50...60"
     ]
    },
    {
     "name": "stderr",
     "output_type": "stream",
     "text": [
      "Warning 1: for band 1, nodata value has been rounded to -2147483648, Int32 being an integer datatype.\n",
      "Warning 1: for band 1, nodata value has been rounded to -2147483648, Int32 being an integer datatype.\n"
     ]
    },
    {
     "name": "stdout",
     "output_type": "stream",
     "text": [
      "...70...80...90...100 - done.\n",
      "Done: 0\n",
      "Doing: B10.tif\n",
      "Input file size is 829, 1222\n",
      "0...10...20...30...40...50...60...70...80...90...100 - done.\n",
      "Done: 0\n",
      "Doing: B11.tif\n",
      "Input file size is 829, 1222\n",
      "0...10...20.."
     ]
    },
    {
     "name": "stderr",
     "output_type": "stream",
     "text": [
      "Warning 1: for band 1, nodata value has been rounded to -2147483648, Int32 being an integer datatype.\n",
      "Warning 1: for band 1, nodata value has been rounded to -2147483648, Int32 being an integer datatype.\n"
     ]
    },
    {
     "name": "stdout",
     "output_type": "stream",
     "text": [
      ".30...40...50...60...70...80...90...100 - done.\n",
      "Done: 0\n",
      "Doing: B12.tif\n",
      "Input file size is 829, 1222\n",
      "0...10...20...30...40...50...60...70...80...90...100 - done.\n",
      "Done: 0\n",
      "Doing: B13.tif\n",
      "Input file size is 829, 1222\n",
      "0...10...20...30...40...50...60...70."
     ]
    },
    {
     "name": "stderr",
     "output_type": "stream",
     "text": [
      "Warning 1: for band 1, nodata value has been rounded to -2147483648, Int32 being an integer datatype.\n",
      "Warning 1: for band 1, nodata value has been rounded to -2147483648, Int32 being an integer datatype.\n"
     ]
    },
    {
     "name": "stdout",
     "output_type": "stream",
     "text": [
      "..80...90...100 - done.\n",
      "Done: 0\n",
      "Doing: B14.tif\n",
      "Input file size is 829, 1222\n",
      "0...10...20...30...40...50...60...70...80...90...100 - done.\n",
      "Done: 0\n",
      "Doing: B15.tif\n",
      "Input file size is 829, 1222\n",
      "0...10...20...30...40...50...60...70...80...90...100 - done.\n",
      "Done: 0\n",
      "Doing: B16.tif\n"
     ]
    },
    {
     "name": "stderr",
     "output_type": "stream",
     "text": [
      "Warning 1: for band 1, nodata value has been rounded to -2147483648, Int32 being an integer datatype.\n",
      "Warning 1: for band 1, nodata value has been rounded to -2147483648, Int32 being an integer datatype.\n"
     ]
    },
    {
     "name": "stdout",
     "output_type": "stream",
     "text": [
      "Input file size is 829, 1222\n",
      "0...10...20...30...40...50...60...70...80...90...100 - done.\n",
      "Done: 0\n",
      "Doing: B17.tif\n",
      "Input file size is 829, 1222\n",
      "0..."
     ]
    },
    {
     "name": "stderr",
     "output_type": "stream",
     "text": [
      "Warning 1: for band 1, nodata value has been rounded to -2147483648, Int32 being an integer datatype.\n"
     ]
    },
    {
     "name": "stdout",
     "output_type": "stream",
     "text": [
      "10...20...30...40...50...60...70...80...90...100 - done.\n",
      "Done: 0\n",
      "Doing: B18.tif\n",
      "Input file size is 829, 1222\n",
      "0...10...20."
     ]
    },
    {
     "name": "stderr",
     "output_type": "stream",
     "text": [
      "Warning 1: for band 1, nodata value has been rounded to -2147483648, Int32 being an integer datatype.\n"
     ]
    },
    {
     "name": "stdout",
     "output_type": "stream",
     "text": [
      "..30...40...50...60...70...80...90...100 - done.\n",
      "Done: 0\n",
      "Doing: B19.tif\n",
      "Input file size is 829, 1222\n",
      "0"
     ]
    },
    {
     "name": "stderr",
     "output_type": "stream",
     "text": [
      "Warning 1: for band 1, nodata value has been rounded to -2147483648, Int32 being an integer datatype.\n"
     ]
    },
    {
     "name": "stdout",
     "output_type": "stream",
     "text": [
      "...10...20...30...40...50...60...70...80...90...100 - done.\n",
      "Done: 0\n",
      "Doing: ASCII\n"
     ]
    },
    {
     "name": "stderr",
     "output_type": "stream",
     "text": [
      "ERROR 4: `SSP126/2041_2060/MIROC-ES2L/ASCII' not recognized as a supported file format.\n",
      "Warning 1: for band 1, nodata value has been rounded to -2147483648, Int32 being an integer datatype.\n"
     ]
    },
    {
     "name": "stdout",
     "output_type": "stream",
     "text": [
      "Done: 1\n",
      "Doing: B1.tif\n",
      "Input file size is 829, 1222\n",
      "0...10...20...30...40...50...60...70...80...90...100 - done.\n",
      "Done: 0\n",
      "Doing: B2.tif\n",
      "Input file size is 829, 1222\n",
      "0"
     ]
    },
    {
     "name": "stderr",
     "output_type": "stream",
     "text": [
      "Warning 1: for band 1, nodata value has been rounded to -2147483648, Int32 being an integer datatype.\n"
     ]
    },
    {
     "name": "stdout",
     "output_type": "stream",
     "text": [
      "...10...20...30...40...50...60...70...80...90...100 - done.\n",
      "Done: 0\n",
      "Doing: B3.tif\n",
      "Input file size is 829, 1222\n",
      "0...10...20...30...40...50...60...70...80...90...100 - done.\n",
      "Done: 0\n",
      "Doing: B4.tif\n"
     ]
    },
    {
     "name": "stderr",
     "output_type": "stream",
     "text": [
      "Warning 1: for band 1, nodata value has been rounded to -2147483648, Int32 being an integer datatype.\n",
      "Warning 1: for band 1, nodata value has been rounded to -2147483648, Int32 being an integer datatype.\n"
     ]
    },
    {
     "name": "stdout",
     "output_type": "stream",
     "text": [
      "Input file size is 829, 1222\n",
      "0...10...20...30...40...50...60...70...80...90...100 - done.\n",
      "Done: 0\n",
      "Doing: B5.tif\n",
      "Input file size is 829, 1222\n",
      "0...10.."
     ]
    },
    {
     "name": "stderr",
     "output_type": "stream",
     "text": [
      "Warning 1: for band 1, nodata value has been rounded to -2147483648, Int32 being an integer datatype.\n",
      "Warning 1: for band 1, nodata value has been rounded to -2147483648, Int32 being an integer datatype.\n"
     ]
    },
    {
     "name": "stdout",
     "output_type": "stream",
     "text": [
      ".20...30...40...50...60...70...80...90...100 - done.\n",
      "Done: 0\n",
      "Doing: B6.tif\n",
      "Input file size is 829, 1222\n",
      "0...10...20...30...40...50...60...70...80...90...100 - done.\n",
      "Done: 0\n",
      "Doing: B7.tif\n",
      "Input file size is 829, 1222\n",
      "0"
     ]
    },
    {
     "name": "stderr",
     "output_type": "stream",
     "text": [
      "Warning 1: for band 1, nodata value has been rounded to -2147483648, Int32 being an integer datatype.\n",
      "Warning 1: for band 1, nodata value has been rounded to -2147483648, Int32 being an integer datatype.\n"
     ]
    },
    {
     "name": "stdout",
     "output_type": "stream",
     "text": [
      "...10...20...30...40...50...60...70...80...90...100 - done.\n",
      "Done: 0\n",
      "Doing: B8.tif\n",
      "Input file size is 829, 1222\n",
      "0...10...20...30...40...50...60...70...80...90...100 - done.\n",
      "Done: 0\n",
      "Doing: B9.tif\n",
      "Input file size is 829, 1222\n",
      "0"
     ]
    },
    {
     "name": "stderr",
     "output_type": "stream",
     "text": [
      "Warning 1: for band 1, nodata value has been rounded to -2147483648, Int32 being an integer datatype.\n",
      "Warning 1: for band 1, nodata value has been rounded to -2147483648, Int32 being an integer datatype.\n"
     ]
    },
    {
     "name": "stdout",
     "output_type": "stream",
     "text": [
      "...10...20...30...40...50...60...70...80...90...100 - done.\n",
      "Done: 0\n",
      "Doing: B10.tif\n",
      "Input file size is 829, 1222\n",
      "0...10...20...30...40...50...60...70...80...90...100 - done.\n",
      "Done: 0\n",
      "Doing: B11.tif\n",
      "Input file size is 829, 1222\n",
      "0...10...20"
     ]
    },
    {
     "name": "stderr",
     "output_type": "stream",
     "text": [
      "Warning 1: for band 1, nodata value has been rounded to -2147483648, Int32 being an integer datatype.\n"
     ]
    },
    {
     "name": "stdout",
     "output_type": "stream",
     "text": [
      "...30...40...50...60...70...80...90...100 - done.\n",
      "Done: 0\n",
      "Doing: B12.tif\n",
      "Input file size is 829, 1222\n",
      "0...10."
     ]
    },
    {
     "name": "stderr",
     "output_type": "stream",
     "text": [
      "Warning 1: for band 1, nodata value has been rounded to -2147483648, Int32 being an integer datatype.\n",
      "Warning 1: for band 1, nodata value has been rounded to -2147483648, Int32 being an integer datatype.\n"
     ]
    },
    {
     "name": "stdout",
     "output_type": "stream",
     "text": [
      "..20...30...40...50...60...70...80...90...100 - done.\n",
      "Done: 0\n",
      "Doing: B13.tif\n",
      "Input file size is 829, 1222\n",
      "0...10...20...30...40...50...60...70...80...90...100 - done.\n",
      "Done: 0\n",
      "Doing: B14.tif\n",
      "Input file size is 829, 1222\n",
      "0...10...20...30...40...50...60.."
     ]
    },
    {
     "name": "stderr",
     "output_type": "stream",
     "text": [
      "Warning 1: for band 1, nodata value has been rounded to -2147483648, Int32 being an integer datatype.\n",
      "Warning 1: for band 1, nodata value has been rounded to -2147483648, Int32 being an integer datatype.\n"
     ]
    },
    {
     "name": "stdout",
     "output_type": "stream",
     "text": [
      ".70...80...90...100 - done.\n",
      "Done: 0\n",
      "Doing: B15.tif\n",
      "Input file size is 829, 1222\n",
      "0...10...20...30...40...50...60...70...80...90...100 - done.\n",
      "Done: 0\n",
      "Doing: B16.tif\n",
      "Input file size is 829, 1222\n",
      "0...10...20...30...40...50...60...70...80...90..."
     ]
    },
    {
     "name": "stderr",
     "output_type": "stream",
     "text": [
      "Warning 1: for band 1, nodata value has been rounded to -2147483648, Int32 being an integer datatype.\n",
      "Warning 1: for band 1, nodata value has been rounded to -2147483648, Int32 being an integer datatype.\n"
     ]
    },
    {
     "name": "stdout",
     "output_type": "stream",
     "text": [
      "100 - done.\n",
      "Done: 0\n",
      "Doing: B17.tif\n",
      "Input file size is 829, 1222\n",
      "0...10...20...30...40...50...60...70...80...90...100 - done.\n",
      "Done: 0\n",
      "Doing: B18.tif\n"
     ]
    },
    {
     "name": "stderr",
     "output_type": "stream",
     "text": [
      "Warning 1: for band 1, nodata value has been rounded to -2147483648, Int32 being an integer datatype.\n",
      "Warning 1: for band 1, nodata value has been rounded to -2147483648, Int32 being an integer datatype.\n"
     ]
    },
    {
     "name": "stdout",
     "output_type": "stream",
     "text": [
      "Input file size is 829, 1222\n",
      "0...10...20...30...40...50...60...70...80...90...100 - done.\n",
      "Done: 0\n",
      "Doing: B19.tif\n",
      "Input file size is 829, 1222\n",
      "0...10...20...30...40...50...60...70...80...90...100 - done.\n",
      "Done: 0\n",
      "Doing: ASCII\n",
      "Done: 1\n",
      "Doing: B1.tif\n"
     ]
    },
    {
     "name": "stderr",
     "output_type": "stream",
     "text": [
      "ERROR 4: `SSP126/2041_2060/MIROC6/ASCII' not recognized as a supported file format.\n",
      "Warning 1: for band 1, nodata value has been rounded to -2147483648, Int32 being an integer datatype.\n"
     ]
    },
    {
     "name": "stdout",
     "output_type": "stream",
     "text": [
      "Input file size is 829, 1222\n",
      "0...10...20...30...40...50...60...70...80...90...100 - done.\n",
      "Done: 0\n",
      "Doing: B2.tif\n",
      "Input file size is 829, 1222\n",
      "0...10...20."
     ]
    },
    {
     "name": "stderr",
     "output_type": "stream",
     "text": [
      "Warning 1: for band 1, nodata value has been rounded to -2147483648, Int32 being an integer datatype.\n",
      "Warning 1: for band 1, nodata value has been rounded to -2147483648, Int32 being an integer datatype.\n"
     ]
    },
    {
     "name": "stdout",
     "output_type": "stream",
     "text": [
      "..30...40...50...60...70...80...90...100 - done.\n",
      "Done: 0\n",
      "Doing: B3.tif\n",
      "Input file size is 829, 1222\n",
      "0...10...20...30...40...50...60...70...80...90...100 - done.\n",
      "Done: 0\n",
      "Doing: B4.tif\n",
      "Input file size is 829, 1222\n",
      "0...10...20...30...40...50...60...70.."
     ]
    },
    {
     "name": "stderr",
     "output_type": "stream",
     "text": [
      "Warning 1: for band 1, nodata value has been rounded to -2147483648, Int32 being an integer datatype.\n",
      "Warning 1: for band 1, nodata value has been rounded to -2147483648, Int32 being an integer datatype.\n"
     ]
    },
    {
     "name": "stdout",
     "output_type": "stream",
     "text": [
      ".80...90...100 - done.\n",
      "Done: 0\n",
      "Doing: B5.tif\n",
      "Input file size is 829, 1222\n",
      "0...10...20...30...40...50...60...70...80...90...100 - done.\n",
      "Done: 0\n",
      "Doing: B6.tif\n",
      "Input file size is 829, 1222\n",
      "0...10...20...30...40...50...60...70...80...90...100 - done.\n",
      "Done: 0\n",
      "Doing: B7.tif\n"
     ]
    },
    {
     "name": "stderr",
     "output_type": "stream",
     "text": [
      "Warning 1: for band 1, nodata value has been rounded to -2147483648, Int32 being an integer datatype.\n",
      "Warning 1: for band 1, nodata value has been rounded to -2147483648, Int32 being an integer datatype.\n"
     ]
    },
    {
     "name": "stdout",
     "output_type": "stream",
     "text": [
      "Input file size is 829, 1222\n",
      "0...10...20...30...40...50...60...70...80...90...100 - done.\n",
      "Done: 0\n",
      "Doing: B8.tif\n",
      "Input file size is 829, 1222\n",
      "0...10...20."
     ]
    },
    {
     "name": "stderr",
     "output_type": "stream",
     "text": [
      "Warning 1: for band 1, nodata value has been rounded to -2147483648, Int32 being an integer datatype.\n",
      "Warning 1: for band 1, nodata value has been rounded to -2147483648, Int32 being an integer datatype.\n"
     ]
    },
    {
     "name": "stdout",
     "output_type": "stream",
     "text": [
      "..30...40...50...60...70...80...90...100 - done.\n",
      "Done: 0\n",
      "Doing: B9.tif\n",
      "Input file size is 829, 1222\n",
      "0...10...20...30...40...50...60...70...80...90...100 - done.\n",
      "Done: 0\n",
      "Doing: B10.tif\n",
      "Input file size is 829, 1222\n",
      "0...10...20...30...40...50...60...70.."
     ]
    },
    {
     "name": "stderr",
     "output_type": "stream",
     "text": [
      "Warning 1: for band 1, nodata value has been rounded to -2147483648, Int32 being an integer datatype.\n",
      "Warning 1: for band 1, nodata value has been rounded to -2147483648, Int32 being an integer datatype.\n"
     ]
    },
    {
     "name": "stdout",
     "output_type": "stream",
     "text": [
      ".80...90...100 - done.\n",
      "Done: 0\n",
      "Doing: B11.tif\n",
      "Input file size is 829, 1222\n",
      "0...10...20...30...40...50...60...70...80...90...100 - done.\n",
      "Done: 0\n",
      "Doing: B12.tif\n",
      "Input file size is 829, 1222\n",
      "0...10...20...30...40...50...60...70...80...90...100 - done.\n",
      "Done: 0\n",
      "Doing: B13.tif\n"
     ]
    },
    {
     "name": "stderr",
     "output_type": "stream",
     "text": [
      "Warning 1: for band 1, nodata value has been rounded to -2147483648, Int32 being an integer datatype.\n",
      "Warning 1: for band 1, nodata value has been rounded to -2147483648, Int32 being an integer datatype.\n"
     ]
    },
    {
     "name": "stdout",
     "output_type": "stream",
     "text": [
      "Input file size is 829, 1222\n",
      "0...10...20...30...40...50...60...70...80...90...100 - done.\n",
      "Done: 0\n",
      "Doing: B14.tif\n",
      "Input file size is 829, 1222\n",
      "0...10...20.."
     ]
    },
    {
     "name": "stderr",
     "output_type": "stream",
     "text": [
      "Warning 1: for band 1, nodata value has been rounded to -2147483648, Int32 being an integer datatype.\n",
      "Warning 1: for band 1, nodata value has been rounded to -2147483648, Int32 being an integer datatype.\n"
     ]
    },
    {
     "name": "stdout",
     "output_type": "stream",
     "text": [
      ".30...40...50...60...70...80...90...100 - done.\n",
      "Done: 0\n",
      "Doing: B15.tif\n",
      "Input file size is 829, 1222\n",
      "0...10...20...30...40...50...60...70...80...90...100 - done.\n",
      "Done: 0\n",
      "Doing: B16.tif\n",
      "Input file size is 829, 1222\n",
      "0...10...20...30...40...50...60...70.."
     ]
    },
    {
     "name": "stderr",
     "output_type": "stream",
     "text": [
      "Warning 1: for band 1, nodata value has been rounded to -2147483648, Int32 being an integer datatype.\n",
      "Warning 1: for band 1, nodata value has been rounded to -2147483648, Int32 being an integer datatype.\n"
     ]
    },
    {
     "name": "stdout",
     "output_type": "stream",
     "text": [
      ".80...90...100 - done.\n",
      "Done: 0\n",
      "Doing: B17.tif\n",
      "Input file size is 829, 1222\n",
      "0...10...20...30...40...50...60...70...80...90...100 - done.\n",
      "Done: 0\n",
      "Doing: B18.tif\n",
      "Input file size is 829, 1222\n",
      "0...10...20...30...40...50...60...70...80...90..."
     ]
    },
    {
     "name": "stderr",
     "output_type": "stream",
     "text": [
      "Warning 1: for band 1, nodata value has been rounded to -2147483648, Int32 being an integer datatype.\n",
      "Warning 1: for band 1, nodata value has been rounded to -2147483648, Int32 being an integer datatype.\n"
     ]
    },
    {
     "name": "stdout",
     "output_type": "stream",
     "text": [
      "100 - done.\n",
      "Done: 0\n",
      "Doing: B19.tif\n",
      "Input file size is 829, 1222\n",
      "0...10...20...30...40...50...60...70...80...90...100 - done.\n",
      "Done: 0\n",
      "Doing: ASCII\n",
      "Done: 1\n",
      "Doing: B1.tif\n",
      "Input file size is 829, 1222\n",
      "0...10...20...30...40..."
     ]
    },
    {
     "name": "stderr",
     "output_type": "stream",
     "text": [
      "ERROR 4: `SSP126/2041_2060/MPI-ESM1-2-HR/ASCII' not recognized as a supported file format.\n",
      "Warning 1: for band 1, nodata value has been rounded to -2147483648, Int32 being an integer datatype.\n"
     ]
    },
    {
     "name": "stdout",
     "output_type": "stream",
     "text": [
      "50...60...70...80...90...100 - done.\n",
      "Done: 0\n",
      "Doing: B2.tif\n",
      "Input file size is 829, 1222\n",
      "0...10...20...30...40...50...60...70."
     ]
    },
    {
     "name": "stderr",
     "output_type": "stream",
     "text": [
      "Warning 1: for band 1, nodata value has been rounded to -2147483648, Int32 being an integer datatype.\n",
      "Warning 1: for band 1, nodata value has been rounded to -2147483648, Int32 being an integer datatype.\n"
     ]
    },
    {
     "name": "stdout",
     "output_type": "stream",
     "text": [
      "..80...90...100 - done.\n",
      "Done: 0\n",
      "Doing: B3.tif\n",
      "Input file size is 829, 1222\n",
      "0...10...20...30...40...50...60...70...80...90...100 - done.\n",
      "Done: 0\n",
      "Doing: B4.tif\n",
      "Input file size is 829, 1222\n",
      "0...10...20...30...40...50...60...70...80...90..."
     ]
    },
    {
     "name": "stderr",
     "output_type": "stream",
     "text": [
      "Warning 1: for band 1, nodata value has been rounded to -2147483648, Int32 being an integer datatype.\n"
     ]
    },
    {
     "name": "stdout",
     "output_type": "stream",
     "text": [
      "100 - done.\n",
      "Done: 0\n",
      "Doing: B5.tif\n",
      "Input file size is 829, 1222\n",
      "0...10...20...30...40...50...60...70...80...90...100 - done.\n",
      "Done: 0\n",
      "Doing: B6.tif\n"
     ]
    },
    {
     "name": "stderr",
     "output_type": "stream",
     "text": [
      "Warning 1: for band 1, nodata value has been rounded to -2147483648, Int32 being an integer datatype.\n",
      "Warning 1: for band 1, nodata value has been rounded to -2147483648, Int32 being an integer datatype.\n"
     ]
    },
    {
     "name": "stdout",
     "output_type": "stream",
     "text": [
      "Input file size is 829, 1222\n",
      "0...10...20...30...40...50...60...70...80...90...100 - done.\n",
      "Done: 0\n",
      "Doing: B7.tif\n",
      "Input file size is 829, 1222\n",
      "0...10...20.."
     ]
    },
    {
     "name": "stderr",
     "output_type": "stream",
     "text": [
      "Warning 1: for band 1, nodata value has been rounded to -2147483648, Int32 being an integer datatype.\n",
      "Warning 1: for band 1, nodata value has been rounded to -2147483648, Int32 being an integer datatype.\n"
     ]
    },
    {
     "name": "stdout",
     "output_type": "stream",
     "text": [
      ".30...40...50...60...70...80...90...100 - done.\n",
      "Done: 0\n",
      "Doing: B8.tif\n",
      "Input file size is 829, 1222\n",
      "0...10...20...30...40...50...60...70...80...90...100 - done.\n",
      "Done: 0\n",
      "Doing: B9.tif\n",
      "Input file size is 829, 1222\n",
      "0...10...20...30...40...50...60...70.."
     ]
    },
    {
     "name": "stderr",
     "output_type": "stream",
     "text": [
      "Warning 1: for band 1, nodata value has been rounded to -2147483648, Int32 being an integer datatype.\n",
      "Warning 1: for band 1, nodata value has been rounded to -2147483648, Int32 being an integer datatype.\n"
     ]
    },
    {
     "name": "stdout",
     "output_type": "stream",
     "text": [
      ".80...90...100 - done.\n",
      "Done: 0\n",
      "Doing: B10.tif\n",
      "Input file size is 829, 1222\n",
      "0...10...20...30...40...50...60...70...80...90...100 - done.\n",
      "Done: 0\n",
      "Doing: B11.tif\n",
      "Input file size is 829, 1222\n",
      "0...10...20...30...40...50...60...70...80...90...100 - done.\n",
      "Done: 0\n",
      "Doing: B12.tif\n"
     ]
    },
    {
     "name": "stderr",
     "output_type": "stream",
     "text": [
      "Warning 1: for band 1, nodata value has been rounded to -2147483648, Int32 being an integer datatype.\n",
      "Warning 1: for band 1, nodata value has been rounded to -2147483648, Int32 being an integer datatype.\n"
     ]
    },
    {
     "name": "stdout",
     "output_type": "stream",
     "text": [
      "Input file size is 829, 1222\n",
      "0...10...20...30...40...50...60...70...80...90...100 - done.\n",
      "Done: 0\n",
      "Doing: B13.tif\n",
      "Input file size is 829, 1222\n",
      "0...10...20."
     ]
    },
    {
     "name": "stderr",
     "output_type": "stream",
     "text": [
      "Warning 1: for band 1, nodata value has been rounded to -2147483648, Int32 being an integer datatype.\n",
      "Warning 1: for band 1, nodata value has been rounded to -2147483648, Int32 being an integer datatype.\n"
     ]
    },
    {
     "name": "stdout",
     "output_type": "stream",
     "text": [
      "..30...40...50...60...70...80...90...100 - done.\n",
      "Done: 0\n",
      "Doing: B14.tif\n",
      "Input file size is 829, 1222\n",
      "0...10...20...30...40...50...60...70...80...90...100 - done.\n",
      "Done: 0\n",
      "Doing: B15.tif\n",
      "Input file size is 829, 1222\n",
      "0...10...20...30...40...50...60...70.."
     ]
    },
    {
     "name": "stderr",
     "output_type": "stream",
     "text": [
      "Warning 1: for band 1, nodata value has been rounded to -2147483648, Int32 being an integer datatype.\n",
      "Warning 1: for band 1, nodata value has been rounded to -2147483648, Int32 being an integer datatype.\n"
     ]
    },
    {
     "name": "stdout",
     "output_type": "stream",
     "text": [
      ".80...90...100 - done.\n",
      "Done: 0\n",
      "Doing: B16.tif\n",
      "Input file size is 829, 1222\n",
      "0...10...20...30...40...50...60...70...80...90...100 - done.\n",
      "Done: 0\n",
      "Doing: B17.tif\n",
      "Input file size is 829, 1222\n",
      "0...10...20...30...40...50...60...70...80...90...100 - done.\n",
      "Done: 0\n",
      "Doing: B18.tif\n"
     ]
    },
    {
     "name": "stderr",
     "output_type": "stream",
     "text": [
      "Warning 1: for band 1, nodata value has been rounded to -2147483648, Int32 being an integer datatype.\n",
      "Warning 1: for band 1, nodata value has been rounded to -2147483648, Int32 being an integer datatype.\n"
     ]
    },
    {
     "name": "stdout",
     "output_type": "stream",
     "text": [
      "Input file size is 829, 1222\n",
      "0...10...20...30...40...50...60...70...80...90...100 - done.\n",
      "Done: 0\n",
      "Doing: B19.tif\n",
      "Input file size is 829, 1222\n",
      "0...10...20"
     ]
    },
    {
     "name": "stderr",
     "output_type": "stream",
     "text": [
      "Warning 1: for band 1, nodata value has been rounded to -2147483648, Int32 being an integer datatype.\n",
      "ERROR 4: `SSP126/2041_2060/MPI-ESM1-2-LR/ASCII' not recognized as a supported file format.\n"
     ]
    },
    {
     "name": "stdout",
     "output_type": "stream",
     "text": [
      "...30...40...50...60...70...80...90...100 - done.\n",
      "Done: 0\n",
      "Doing: ASCII\n",
      "Done: 1\n",
      "Doing: B1.tif\n"
     ]
    },
    {
     "name": "stderr",
     "output_type": "stream",
     "text": [
      "Warning 1: for band 1, nodata value has been rounded to -2147483648, Int32 being an integer datatype.\n",
      "Warning 1: for band 1, nodata value has been rounded to -2147483648, Int32 being an integer datatype.\n"
     ]
    },
    {
     "name": "stdout",
     "output_type": "stream",
     "text": [
      "Input file size is 829, 1222\n",
      "0...10...20...30...40...50...60...70...80...90...100 - done.\n",
      "Done: 0\n",
      "Doing: B2.tif\n",
      "Input file size is 829, 1222\n",
      "0...10...20...30...40...50...60...70...80...90...100 - done.\n",
      "Done: 0\n",
      "Doing: B3.tif\n",
      "Input file size is 829, 1222\n",
      "0...10...20...30...40.."
     ]
    },
    {
     "name": "stderr",
     "output_type": "stream",
     "text": [
      "Warning 1: for band 1, nodata value has been rounded to -2147483648, Int32 being an integer datatype.\n",
      "Warning 1: for band 1, nodata value has been rounded to -2147483648, Int32 being an integer datatype.\n"
     ]
    },
    {
     "name": "stdout",
     "output_type": "stream",
     "text": [
      ".50...60...70...80...90...100 - done.\n",
      "Done: 0\n",
      "Doing: B4.tif\n",
      "Input file size is 829, 1222\n",
      "0...10...20...30...40...50...60...70...80...90...100 - done.\n",
      "Done: 0\n",
      "Doing: B5.tif\n",
      "Input file size is 829, 1222\n",
      "0...10...20...30...40...50...60...70"
     ]
    },
    {
     "name": "stderr",
     "output_type": "stream",
     "text": [
      "Warning 1: for band 1, nodata value has been rounded to -2147483648, Int32 being an integer datatype.\n",
      "Warning 1: for band 1, nodata value has been rounded to -2147483648, Int32 being an integer datatype.\n"
     ]
    },
    {
     "name": "stdout",
     "output_type": "stream",
     "text": [
      "...80...90...100 - done.\n",
      "Done: 0\n",
      "Doing: B6.tif\n",
      "Input file size is 829, 1222\n",
      "0...10...20...30...40...50...60...70...80...90...100 - done.\n",
      "Done: 0\n",
      "Doing: B7.tif\n",
      "Input file size is 829, 1222\n",
      "0...10...20."
     ]
    },
    {
     "name": "stderr",
     "output_type": "stream",
     "text": [
      "Warning 1: for band 1, nodata value has been rounded to -2147483648, Int32 being an integer datatype.\n"
     ]
    },
    {
     "name": "stdout",
     "output_type": "stream",
     "text": [
      "..30...40...50...60...70...80...90...100 - done.\n",
      "Done: 0\n",
      "Doing: B8.tif\n",
      "Input file size is 829, 1222\n",
      "0...10...20...30."
     ]
    },
    {
     "name": "stderr",
     "output_type": "stream",
     "text": [
      "Warning 1: for band 1, nodata value has been rounded to -2147483648, Int32 being an integer datatype.\n",
      "Warning 1: for band 1, nodata value has been rounded to -2147483648, Int32 being an integer datatype.\n"
     ]
    },
    {
     "name": "stdout",
     "output_type": "stream",
     "text": [
      "..40...50...60...70...80...90...100 - done.\n",
      "Done: 0\n",
      "Doing: B9.tif\n",
      "Input file size is 829, 1222\n",
      "0...10...20...30...40...50...60...70...80...90...100 - done.\n",
      "Done: 0\n",
      "Doing: B10.tif\n",
      "Input file size is 829, 1222\n",
      "0...10...20...30...40...50.."
     ]
    },
    {
     "name": "stderr",
     "output_type": "stream",
     "text": [
      "Warning 1: for band 1, nodata value has been rounded to -2147483648, Int32 being an integer datatype.\n"
     ]
    },
    {
     "name": "stdout",
     "output_type": "stream",
     "text": [
      ".60...70...80...90...100 - done.\n",
      "Done: 0\n",
      "Doing: B11.tif\n"
     ]
    },
    {
     "name": "stderr",
     "output_type": "stream",
     "text": [
      "Warning 1: for band 1, nodata value has been rounded to -2147483648, Int32 being an integer datatype.\n"
     ]
    },
    {
     "name": "stdout",
     "output_type": "stream",
     "text": [
      "Input file size is 829, 1222\n",
      "0...10...20...30...40...50...60...70...80...90...100 - done.\n",
      "Done: 0\n",
      "Doing: B12.tif\n"
     ]
    },
    {
     "name": "stderr",
     "output_type": "stream",
     "text": [
      "Warning 1: for band 1, nodata value has been rounded to -2147483648, Int32 being an integer datatype.\n"
     ]
    },
    {
     "name": "stdout",
     "output_type": "stream",
     "text": [
      "Input file size is 829, 1222\n",
      "0...10...20...30...40...50...60...70...80...90...100 - done.\n",
      "Done: 0\n",
      "Doing: B13.tif\n"
     ]
    },
    {
     "name": "stderr",
     "output_type": "stream",
     "text": [
      "Warning 1: for band 1, nodata value has been rounded to -2147483648, Int32 being an integer datatype.\n",
      "Warning 1: for band 1, nodata value has been rounded to -2147483648, Int32 being an integer datatype.\n"
     ]
    },
    {
     "name": "stdout",
     "output_type": "stream",
     "text": [
      "Input file size is 829, 1222\n",
      "0...10...20...30...40...50...60...70...80...90...100 - done.\n",
      "Done: 0\n",
      "Doing: B14.tif\n",
      "Input file size is 829, 1222\n",
      "0...10...20...30...40...50...60...70...80...90...100 - done.\n",
      "Done: 0\n",
      "Doing: B15.tif\n",
      "Input file size is 829, 1222\n",
      "0...10...20...30...40"
     ]
    },
    {
     "name": "stderr",
     "output_type": "stream",
     "text": [
      "Warning 1: for band 1, nodata value has been rounded to -2147483648, Int32 being an integer datatype.\n",
      "Warning 1: for band 1, nodata value has been rounded to -2147483648, Int32 being an integer datatype.\n"
     ]
    },
    {
     "name": "stdout",
     "output_type": "stream",
     "text": [
      "...50...60...70...80...90...100 - done.\n",
      "Done: 0\n",
      "Doing: B16.tif\n",
      "Input file size is 829, 1222\n",
      "0...10...20...30...40...50...60...70...80...90...100 - done.\n",
      "Done: 0\n",
      "Doing: B17.tif\n",
      "Input file size is 829, 1222\n",
      "0...10...20...30...40...50...60.."
     ]
    },
    {
     "name": "stderr",
     "output_type": "stream",
     "text": [
      "Warning 1: for band 1, nodata value has been rounded to -2147483648, Int32 being an integer datatype.\n",
      "Warning 1: for band 1, nodata value has been rounded to -2147483648, Int32 being an integer datatype.\n"
     ]
    },
    {
     "name": "stdout",
     "output_type": "stream",
     "text": [
      ".70...80...90...100 - done.\n",
      "Done: 0\n",
      "Doing: B18.tif\n",
      "Input file size is 829, 1222\n",
      "0...10...20...30...40...50...60...70...80...90...100 - done.\n",
      "Done: 0\n",
      "Doing: B19.tif\n",
      "Input file size is 829, 1222\n",
      "0...10...20...30...40...50...60...70.."
     ]
    },
    {
     "name": "stderr",
     "output_type": "stream",
     "text": [
      "Warning 1: for band 1, nodata value has been rounded to -2147483648, Int32 being an integer datatype.\n"
     ]
    },
    {
     "name": "stdout",
     "output_type": "stream",
     "text": [
      ".80...90...100 - done.\n",
      "Done: 0\n",
      "Doing: ASCII\n",
      "Done: 1\n",
      "Doing: B1.tif\n",
      "Input file size is 829, 1222\n",
      "0...10...20"
     ]
    },
    {
     "name": "stderr",
     "output_type": "stream",
     "text": [
      "ERROR 4: `SSP126/2041_2060/MRI-ESM2-0/ASCII' not recognized as a supported file format.\n",
      "Warning 1: for band 1, nodata value has been rounded to -2147483648, Int32 being an integer datatype.\n"
     ]
    },
    {
     "name": "stdout",
     "output_type": "stream",
     "text": [
      "...30...40...50...60...70...80...90...100 - done.\n",
      "Done: 0\n",
      "Doing: B2.tif\n",
      "Input file size is 829, 1222\n",
      "0...10.."
     ]
    },
    {
     "name": "stderr",
     "output_type": "stream",
     "text": [
      "Warning 1: for band 1, nodata value has been rounded to -2147483648, Int32 being an integer datatype.\n"
     ]
    },
    {
     "name": "stdout",
     "output_type": "stream",
     "text": [
      ".20...30...40...50...60...70...80...90...100 - done.\n",
      "Done: 0\n",
      "Doing: B3.tif\n",
      "Input file size is 829, 1222\n",
      "0...10...20."
     ]
    },
    {
     "name": "stderr",
     "output_type": "stream",
     "text": [
      "Warning 1: for band 1, nodata value has been rounded to -2147483648, Int32 being an integer datatype.\n"
     ]
    },
    {
     "name": "stdout",
     "output_type": "stream",
     "text": [
      "..30...40...50...60...70...80...90...100 - done.\n",
      "Done: 0\n",
      "Doing: B4.tif\n"
     ]
    },
    {
     "name": "stderr",
     "output_type": "stream",
     "text": [
      "Warning 1: for band 1, nodata value has been rounded to -2147483648, Int32 being an integer datatype.\n",
      "Warning 1: for band 1, nodata value has been rounded to -2147483648, Int32 being an integer datatype.\n"
     ]
    },
    {
     "name": "stdout",
     "output_type": "stream",
     "text": [
      "Input file size is 829, 1222\n",
      "0...10...20...30...40...50...60...70...80...90...100 - done.\n",
      "Done: 0\n",
      "Doing: B5.tif\n",
      "Input file size is 829, 1222\n",
      "0...10...20...30...40...50...60...70...80...90...100 - done.\n",
      "Done: 0\n",
      "Doing: B6.tif\n",
      "Input file size is 829, 1222\n",
      "0."
     ]
    },
    {
     "name": "stderr",
     "output_type": "stream",
     "text": [
      "Warning 1: for band 1, nodata value has been rounded to -2147483648, Int32 being an integer datatype.\n",
      "Warning 1: for band 1, nodata value has been rounded to -2147483648, Int32 being an integer datatype.\n"
     ]
    },
    {
     "name": "stdout",
     "output_type": "stream",
     "text": [
      "..10...20...30...40...50...60...70...80...90...100 - done.\n",
      "Done: 0\n",
      "Doing: B7.tif\n",
      "Input file size is 829, 1222\n",
      "0...10...20...30...40...50...60...70...80...90...100 - done.\n",
      "Done: 0\n",
      "Doing: B8.tif\n",
      "Input file size is 829, 1222\n",
      "0...10...20...30...40."
     ]
    },
    {
     "name": "stderr",
     "output_type": "stream",
     "text": [
      "Warning 1: for band 1, nodata value has been rounded to -2147483648, Int32 being an integer datatype.\n",
      "Warning 1: for band 1, nodata value has been rounded to -2147483648, Int32 being an integer datatype.\n"
     ]
    },
    {
     "name": "stdout",
     "output_type": "stream",
     "text": [
      "..50...60...70...80...90...100 - done.\n",
      "Done: 0\n",
      "Doing: B9.tif\n",
      "Input file size is 829, 1222\n",
      "0...10...20...30...40...50...60...70...80...90...100 - done.\n",
      "Done: 0\n",
      "Doing: B10.tif\n",
      "Input file size is 829, 1222\n",
      "0...10"
     ]
    },
    {
     "name": "stderr",
     "output_type": "stream",
     "text": [
      "Warning 1: for band 1, nodata value has been rounded to -2147483648, Int32 being an integer datatype.\n",
      "Warning 1: for band 1, nodata value has been rounded to -2147483648, Int32 being an integer datatype.\n"
     ]
    },
    {
     "name": "stdout",
     "output_type": "stream",
     "text": [
      "...20...30...40...50...60...70...80...90...100 - done.\n",
      "Done: 0\n",
      "Doing: B11.tif\n",
      "Input file size is 829, 1222\n",
      "0...10...20...30...40...50...60...70...80...90...100 - done.\n",
      "Done: 0\n",
      "Doing: B12.tif\n",
      "Input file size is 829, 1222\n",
      "0...10...20...30..."
     ]
    },
    {
     "name": "stderr",
     "output_type": "stream",
     "text": [
      "Warning 1: for band 1, nodata value has been rounded to -2147483648, Int32 being an integer datatype.\n",
      "Warning 1: for band 1, nodata value has been rounded to -2147483648, Int32 being an integer datatype.\n"
     ]
    },
    {
     "name": "stdout",
     "output_type": "stream",
     "text": [
      "40...50...60...70...80...90...100 - done.\n",
      "Done: 0\n",
      "Doing: B13.tif\n",
      "Input file size is 829, 1222\n",
      "0...10...20...30...40...50...60...70...80...90...100 - done.\n",
      "Done: 0\n",
      "Doing: B14.tif\n",
      "Input file size is 829, 1222\n",
      "0...10...20...30...40...50...60."
     ]
    },
    {
     "name": "stderr",
     "output_type": "stream",
     "text": [
      "Warning 1: for band 1, nodata value has been rounded to -2147483648, Int32 being an integer datatype.\n",
      "Warning 1: for band 1, nodata value has been rounded to -2147483648, Int32 being an integer datatype.\n"
     ]
    },
    {
     "name": "stdout",
     "output_type": "stream",
     "text": [
      "..70...80...90...100 - done.\n",
      "Done: 0\n",
      "Doing: B15.tif\n",
      "Input file size is 829, 1222\n",
      "0...10...20...30...40...50...60...70...80...90...100 - done.\n",
      "Done: 0\n",
      "Doing: B16.tif\n",
      "Input file size is 829, 1222\n",
      "0...10...20...30...40...50...60...70...80...90..."
     ]
    },
    {
     "name": "stderr",
     "output_type": "stream",
     "text": [
      "Warning 1: for band 1, nodata value has been rounded to -2147483648, Int32 being an integer datatype.\n",
      "Warning 1: for band 1, nodata value has been rounded to -2147483648, Int32 being an integer datatype.\n"
     ]
    },
    {
     "name": "stdout",
     "output_type": "stream",
     "text": [
      "100 - done.\n",
      "Done: 0\n",
      "Doing: B17.tif\n",
      "Input file size is 829, 1222\n",
      "0...10...20...30...40...50...60...70...80...90...100 - done.\n",
      "Done: 0\n",
      "Doing: B18.tif\n"
     ]
    },
    {
     "name": "stderr",
     "output_type": "stream",
     "text": [
      "Warning 1: for band 1, nodata value has been rounded to -2147483648, Int32 being an integer datatype.\n",
      "Warning 1: for band 1, nodata value has been rounded to -2147483648, Int32 being an integer datatype.\n"
     ]
    },
    {
     "name": "stdout",
     "output_type": "stream",
     "text": [
      "Input file size is 829, 1222\n",
      "0...10...20...30...40...50...60...70...80...90...100 - done.\n",
      "Done: 0\n",
      "Doing: B19.tif\n",
      "Input file size is 829, 1222\n",
      "0...10...20...30...40...50...60...70...80...90...100 - done.\n",
      "Done: 0\n",
      "Doing: ASCII\n",
      "Done: 1\n",
      "Doing: B1.tif\n"
     ]
    },
    {
     "name": "stderr",
     "output_type": "stream",
     "text": [
      "ERROR 4: `SSP126/2061_2080/ACCESS-CM2/ASCII' not recognized as a supported file format.\n",
      "Warning 1: for band 1, nodata value has been rounded to -2147483648, Int32 being an integer datatype.\n"
     ]
    },
    {
     "name": "stdout",
     "output_type": "stream",
     "text": [
      "Input file size is 829, 1222\n",
      "0...10...20...30...40...50...60...70...80...90...100 - done.\n",
      "Done: 0\n",
      "Doing: B2.tif\n",
      "Input file size is 829, 1222\n",
      "0...10...20"
     ]
    },
    {
     "name": "stderr",
     "output_type": "stream",
     "text": [
      "Warning 1: for band 1, nodata value has been rounded to -2147483648, Int32 being an integer datatype.\n",
      "Warning 1: for band 1, nodata value has been rounded to -2147483648, Int32 being an integer datatype.\n"
     ]
    },
    {
     "name": "stdout",
     "output_type": "stream",
     "text": [
      "...30...40...50...60...70...80...90...100 - done.\n",
      "Done: 0\n",
      "Doing: B3.tif\n",
      "Input file size is 829, 1222\n",
      "0...10...20...30...40...50...60...70...80...90...100 - done.\n",
      "Done: 0\n",
      "Doing: B4.tif\n",
      "Input file size is 829, 1222\n",
      "0...10...20...30...40...50...60."
     ]
    },
    {
     "name": "stderr",
     "output_type": "stream",
     "text": [
      "Warning 1: for band 1, nodata value has been rounded to -2147483648, Int32 being an integer datatype.\n",
      "Warning 1: for band 1, nodata value has been rounded to -2147483648, Int32 being an integer datatype.\n"
     ]
    },
    {
     "name": "stdout",
     "output_type": "stream",
     "text": [
      "..70...80...90...100 - done.\n",
      "Done: 0\n",
      "Doing: B5.tif\n",
      "Input file size is 829, 1222\n",
      "0...10...20...30...40...50...60...70...80...90...100 - done.\n",
      "Done: 0\n",
      "Doing: B6.tif\n",
      "Input file size is 829, 1222\n",
      "0...10...20...30...40...50...60...70...80...90..."
     ]
    },
    {
     "name": "stderr",
     "output_type": "stream",
     "text": [
      "Warning 1: for band 1, nodata value has been rounded to -2147483648, Int32 being an integer datatype.\n",
      "Warning 1: for band 1, nodata value has been rounded to -2147483648, Int32 being an integer datatype.\n"
     ]
    },
    {
     "name": "stdout",
     "output_type": "stream",
     "text": [
      "100 - done.\n",
      "Done: 0\n",
      "Doing: B7.tif\n",
      "Input file size is 829, 1222\n",
      "0...10...20...30...40...50...60...70...80...90...100 - done.\n",
      "Done: 0\n",
      "Doing: B8.tif\n"
     ]
    },
    {
     "name": "stderr",
     "output_type": "stream",
     "text": [
      "Warning 1: for band 1, nodata value has been rounded to -2147483648, Int32 being an integer datatype.\n"
     ]
    },
    {
     "name": "stdout",
     "output_type": "stream",
     "text": [
      "Input file size is 829, 1222\n",
      "0...10...20...30...40...50...60...70...80...90...100 - done.\n",
      "Done: 0\n",
      "Doing: B9.tif\n"
     ]
    },
    {
     "name": "stderr",
     "output_type": "stream",
     "text": [
      "Warning 1: for band 1, nodata value has been rounded to -2147483648, Int32 being an integer datatype.\n",
      "Warning 1: for band 1, nodata value has been rounded to -2147483648, Int32 being an integer datatype.\n"
     ]
    },
    {
     "name": "stdout",
     "output_type": "stream",
     "text": [
      "Input file size is 829, 1222\n",
      "0...10...20...30...40...50...60...70...80...90...100 - done.\n",
      "Done: 0\n",
      "Doing: B10.tif\n",
      "Input file size is 829, 1222\n",
      "0...10...20...30...40...50...60...70...80...90...100 - done.\n",
      "Done: 0\n",
      "Doing: B11.tif\n",
      "Input file size is 829, 1222\n",
      "0...10...20...30.."
     ]
    },
    {
     "name": "stderr",
     "output_type": "stream",
     "text": [
      "Warning 1: for band 1, nodata value has been rounded to -2147483648, Int32 being an integer datatype.\n",
      "Warning 1: for band 1, nodata value has been rounded to -2147483648, Int32 being an integer datatype.\n"
     ]
    },
    {
     "name": "stdout",
     "output_type": "stream",
     "text": [
      ".40...50...60...70...80...90...100 - done.\n",
      "Done: 0\n",
      "Doing: B12.tif\n",
      "Input file size is 829, 1222\n",
      "0...10...20...30...40...50...60...70...80...90...100 - done.\n",
      "Done: 0\n",
      "Doing: B13.tif\n",
      "Input file size is 829, 1222\n",
      "0...10...20...30...40...50...60...70...80."
     ]
    },
    {
     "name": "stderr",
     "output_type": "stream",
     "text": [
      "Warning 1: for band 1, nodata value has been rounded to -2147483648, Int32 being an integer datatype.\n",
      "Warning 1: for band 1, nodata value has been rounded to -2147483648, Int32 being an integer datatype.\n"
     ]
    },
    {
     "name": "stdout",
     "output_type": "stream",
     "text": [
      "..90...100 - done.\n",
      "Done: 0\n",
      "Doing: B14.tif\n",
      "Input file size is 829, 1222\n",
      "0...10...20...30...40...50...60...70...80...90...100 - done.\n",
      "Done: 0\n",
      "Doing: B15.tif\n",
      "Input file size is 829, 1222\n",
      "0...10...20...30...40...50...60...70...80...90...100 - done.\n",
      "Done: 0\n",
      "Doing: B16.tif\n"
     ]
    },
    {
     "name": "stderr",
     "output_type": "stream",
     "text": [
      "Warning 1: for band 1, nodata value has been rounded to -2147483648, Int32 being an integer datatype.\n",
      "Warning 1: for band 1, nodata value has been rounded to -2147483648, Int32 being an integer datatype.\n"
     ]
    },
    {
     "name": "stdout",
     "output_type": "stream",
     "text": [
      "Input file size is 829, 1222\n",
      "0...10...20...30...40...50...60...70...80...90...100 - done.\n",
      "Done: 0\n",
      "Doing: B17.tif\n",
      "Input file size is 829, 1222\n",
      "0...10...20."
     ]
    },
    {
     "name": "stderr",
     "output_type": "stream",
     "text": [
      "Warning 1: for band 1, nodata value has been rounded to -2147483648, Int32 being an integer datatype.\n",
      "Warning 1: for band 1, nodata value has been rounded to -2147483648, Int32 being an integer datatype.\n"
     ]
    },
    {
     "name": "stdout",
     "output_type": "stream",
     "text": [
      "..30...40...50...60...70...80...90...100 - done.\n",
      "Done: 0\n",
      "Doing: B18.tif\n",
      "Input file size is 829, 1222\n",
      "0...10...20...30...40...50...60...70...80...90...100 - done.\n",
      "Done: 0\n",
      "Doing: B19.tif\n",
      "Input file size is 829, 1222\n",
      "0...10...20...30...40...50...60...70."
     ]
    },
    {
     "name": "stderr",
     "output_type": "stream",
     "text": [
      "Warning 1: for band 1, nodata value has been rounded to -2147483648, Int32 being an integer datatype.\n",
      "ERROR 4: `SSP126/2061_2080/ACCESS-ESM1-5/ASCII' not recognized as a supported file format.\n"
     ]
    },
    {
     "name": "stdout",
     "output_type": "stream",
     "text": [
      "..80...90...100 - done.\n",
      "Done: 0\n",
      "Doing: ASCII\n",
      "Done: 1\n",
      "Doing: B1.tif\n",
      "Input file size is 829, 1222\n",
      "0...10...20...30..."
     ]
    },
    {
     "name": "stderr",
     "output_type": "stream",
     "text": [
      "Warning 1: for band 1, nodata value has been rounded to -2147483648, Int32 being an integer datatype.\n",
      "Warning 1: for band 1, nodata value has been rounded to -2147483648, Int32 being an integer datatype.\n"
     ]
    },
    {
     "name": "stdout",
     "output_type": "stream",
     "text": [
      "40...50...60...70...80...90...100 - done.\n",
      "Done: 0\n",
      "Doing: B2.tif\n",
      "Input file size is 829, 1222\n",
      "0...10...20...30...40...50...60...70...80...90...100 - done.\n",
      "Done: 0\n",
      "Doing: B3.tif\n",
      "Input file size is 829, 1222\n",
      "0...10...20...30...40...50...60...70"
     ]
    },
    {
     "name": "stderr",
     "output_type": "stream",
     "text": [
      "Warning 1: for band 1, nodata value has been rounded to -2147483648, Int32 being an integer datatype.\n"
     ]
    },
    {
     "name": "stdout",
     "output_type": "stream",
     "text": [
      "...80...90...100 - done.\n",
      "Done: 0\n",
      "Doing: B4.tif\n",
      "Input file size is 829, 1222\n",
      "0...10...20...30...40...50...60...70...80."
     ]
    },
    {
     "name": "stderr",
     "output_type": "stream",
     "text": [
      "Warning 1: for band 1, nodata value has been rounded to -2147483648, Int32 being an integer datatype.\n",
      "Warning 1: for band 1, nodata value has been rounded to -2147483648, Int32 being an integer datatype.\n"
     ]
    },
    {
     "name": "stdout",
     "output_type": "stream",
     "text": [
      "..90...100 - done.\n",
      "Done: 0\n",
      "Doing: B5.tif\n",
      "Input file size is 829, 1222\n",
      "0...10...20...30...40...50...60...70...80...90...100 - done.\n",
      "Done: 0\n",
      "Doing: B6.tif\n",
      "Input file size is 829, 1222\n",
      "0...10...20...30...40...50...60...70...80...90...100 - done.\n",
      "Done: 0\n",
      "Doing: B7.tif\n"
     ]
    },
    {
     "name": "stderr",
     "output_type": "stream",
     "text": [
      "Warning 1: for band 1, nodata value has been rounded to -2147483648, Int32 being an integer datatype.\n",
      "Warning 1: for band 1, nodata value has been rounded to -2147483648, Int32 being an integer datatype.\n"
     ]
    },
    {
     "name": "stdout",
     "output_type": "stream",
     "text": [
      "Input file size is 829, 1222\n",
      "0...10...20...30...40...50...60...70...80...90...100 - done.\n",
      "Done: 0\n",
      "Doing: B8.tif\n",
      "Input file size is 829, 1222\n",
      "0...10...20"
     ]
    },
    {
     "name": "stderr",
     "output_type": "stream",
     "text": [
      "Warning 1: for band 1, nodata value has been rounded to -2147483648, Int32 being an integer datatype.\n",
      "Warning 1: for band 1, nodata value has been rounded to -2147483648, Int32 being an integer datatype.\n"
     ]
    },
    {
     "name": "stdout",
     "output_type": "stream",
     "text": [
      "...30...40...50...60...70...80...90...100 - done.\n",
      "Done: 0\n",
      "Doing: B9.tif\n",
      "Input file size is 829, 1222\n",
      "0...10...20...30...40...50...60...70...80...90...100 - done.\n",
      "Done: 0\n",
      "Doing: B10.tif\n",
      "Input file size is 829, 1222\n",
      "0...10...20...30."
     ]
    },
    {
     "name": "stderr",
     "output_type": "stream",
     "text": [
      "Warning 1: for band 1, nodata value has been rounded to -2147483648, Int32 being an integer datatype.\n",
      "Warning 1: for band 1, nodata value has been rounded to -2147483648, Int32 being an integer datatype.\n"
     ]
    },
    {
     "name": "stdout",
     "output_type": "stream",
     "text": [
      "..40...50...60...70...80...90...100 - done.\n",
      "Done: 0\n",
      "Doing: B11.tif\n",
      "Input file size is 829, 1222\n",
      "0...10...20...30...40...50...60...70...80...90...100 - done.\n",
      "Done: 0\n",
      "Doing: B12.tif\n",
      "Input file size is 829, 1222\n",
      "0...10...20...30...40...50...60...70...80.."
     ]
    },
    {
     "name": "stderr",
     "output_type": "stream",
     "text": [
      "Warning 1: for band 1, nodata value has been rounded to -2147483648, Int32 being an integer datatype.\n",
      "Warning 1: for band 1, nodata value has been rounded to -2147483648, Int32 being an integer datatype.\n"
     ]
    },
    {
     "name": "stdout",
     "output_type": "stream",
     "text": [
      ".90...100 - done.\n",
      "Done: 0\n",
      "Doing: B13.tif\n",
      "Input file size is 829, 1222\n",
      "0...10...20...30...40...50...60...70...80...90...100 - done.\n",
      "Done: 0\n",
      "Doing: B14.tif\n",
      "Input file size is 829, 1222\n",
      "0...10...20...30...40...50...60...70...80...90..."
     ]
    },
    {
     "name": "stderr",
     "output_type": "stream",
     "text": [
      "Warning 1: for band 1, nodata value has been rounded to -2147483648, Int32 being an integer datatype.\n",
      "Warning 1: for band 1, nodata value has been rounded to -2147483648, Int32 being an integer datatype.\n"
     ]
    },
    {
     "name": "stdout",
     "output_type": "stream",
     "text": [
      "100 - done.\n",
      "Done: 0\n",
      "Doing: B15.tif\n",
      "Input file size is 829, 1222\n",
      "0...10...20...30...40...50...60...70...80...90...100 - done.\n",
      "Done: 0\n",
      "Doing: B16.tif\n"
     ]
    },
    {
     "name": "stderr",
     "output_type": "stream",
     "text": [
      "Warning 1: for band 1, nodata value has been rounded to -2147483648, Int32 being an integer datatype.\n",
      "Warning 1: for band 1, nodata value has been rounded to -2147483648, Int32 being an integer datatype.\n"
     ]
    },
    {
     "name": "stdout",
     "output_type": "stream",
     "text": [
      "Input file size is 829, 1222\n",
      "0...10...20...30...40...50...60...70...80...90...100 - done.\n",
      "Done: 0\n",
      "Doing: B17.tif\n",
      "Input file size is 829, 1222\n",
      "0...10...20...30...40...50...60...70...80...90...100 - done.\n",
      "Done: 0\n",
      "Doing: B18.tif\n",
      "Input file size is 829, 1222\n",
      "0...10...20"
     ]
    },
    {
     "name": "stderr",
     "output_type": "stream",
     "text": [
      "Warning 1: for band 1, nodata value has been rounded to -2147483648, Int32 being an integer datatype.\n"
     ]
    },
    {
     "name": "stdout",
     "output_type": "stream",
     "text": [
      "...30...40...50...60...70...80...90...100 - done.\n",
      "Done: 0\n",
      "Doing: B19.tif\n",
      "Input file size is 829, 1222\n",
      "0...10...20...30..."
     ]
    },
    {
     "name": "stderr",
     "output_type": "stream",
     "text": [
      "Warning 1: for band 1, nodata value has been rounded to -2147483648, Int32 being an integer datatype.\n",
      "ERROR 4: `SSP126/2061_2080/BCC-CSM2-MR/ASCII' not recognized as a supported file format.\n"
     ]
    },
    {
     "name": "stdout",
     "output_type": "stream",
     "text": [
      "40...50...60...70...80...90...100 - done.\n",
      "Done: 0\n",
      "Doing: ASCII\n",
      "Done: 1\n",
      "Doing: B1.tif\n",
      "Input file size is 829, 1222\n",
      "0.."
     ]
    },
    {
     "name": "stderr",
     "output_type": "stream",
     "text": [
      "Warning 1: for band 1, nodata value has been rounded to -2147483648, Int32 being an integer datatype.\n",
      "Warning 1: for band 1, nodata value has been rounded to -2147483648, Int32 being an integer datatype.\n"
     ]
    },
    {
     "name": "stdout",
     "output_type": "stream",
     "text": [
      ".10...20...30...40...50...60...70...80...90...100 - done.\n",
      "Done: 0\n",
      "Doing: B2.tif\n",
      "Input file size is 829, 1222\n",
      "0...10...20...30...40...50...60...70...80...90...100 - done.\n",
      "Done: 0\n",
      "Doing: B3.tif\n",
      "Input file size is 829, 1222\n",
      "0...10...20...30...40...50.."
     ]
    },
    {
     "name": "stderr",
     "output_type": "stream",
     "text": [
      "Warning 1: for band 1, nodata value has been rounded to -2147483648, Int32 being an integer datatype.\n",
      "Warning 1: for band 1, nodata value has been rounded to -2147483648, Int32 being an integer datatype.\n"
     ]
    },
    {
     "name": "stdout",
     "output_type": "stream",
     "text": [
      ".60...70...80...90...100 - done.\n",
      "Done: 0\n",
      "Doing: B4.tif\n",
      "Input file size is 829, 1222\n",
      "0...10...20...30...40...50...60...70...80...90...100 - done.\n",
      "Done: 0\n",
      "Doing: B5.tif\n",
      "Input file size is 829, 1222\n",
      "0...10...20...30...40...50...60...70...80...90..."
     ]
    },
    {
     "name": "stderr",
     "output_type": "stream",
     "text": [
      "Warning 1: for band 1, nodata value has been rounded to -2147483648, Int32 being an integer datatype.\n",
      "Warning 1: for band 1, nodata value has been rounded to -2147483648, Int32 being an integer datatype.\n"
     ]
    },
    {
     "name": "stdout",
     "output_type": "stream",
     "text": [
      "100 - done.\n",
      "Done: 0\n",
      "Doing: B6.tif\n",
      "Input file size is 829, 1222\n",
      "0...10...20...30...40...50...60...70...80...90...100 - done.\n",
      "Done: 0\n",
      "Doing: B7.tif\n"
     ]
    },
    {
     "name": "stderr",
     "output_type": "stream",
     "text": [
      "Warning 1: for band 1, nodata value has been rounded to -2147483648, Int32 being an integer datatype.\n",
      "Warning 1: for band 1, nodata value has been rounded to -2147483648, Int32 being an integer datatype.\n"
     ]
    },
    {
     "name": "stdout",
     "output_type": "stream",
     "text": [
      "Input file size is 829, 1222\n",
      "0...10...20...30...40...50...60...70...80...90...100 - done.\n",
      "Done: 0\n",
      "Doing: B8.tif\n",
      "Input file size is 829, 1222\n",
      "0...10...20...30...40...50...60...70...80...90...100 - done.\n",
      "Done: 0\n",
      "Doing: B9.tif\n",
      "Input file size is 829, 1222\n",
      "0...10...20...30..."
     ]
    },
    {
     "name": "stderr",
     "output_type": "stream",
     "text": [
      "Warning 1: for band 1, nodata value has been rounded to -2147483648, Int32 being an integer datatype.\n",
      "Warning 1: for band 1, nodata value has been rounded to -2147483648, Int32 being an integer datatype.\n"
     ]
    },
    {
     "name": "stdout",
     "output_type": "stream",
     "text": [
      "40...50...60...70...80...90...100 - done.\n",
      "Done: 0\n",
      "Doing: B10.tif\n",
      "Input file size is 829, 1222\n",
      "0...10...20...30...40...50...60...70...80...90...100 - done.\n",
      "Done: 0\n",
      "Doing: B11.tif\n",
      "Input file size is 829, 1222\n",
      "0...10...20...30...40...50...60...70...80...90...100 - done.\n",
      "Done: 0\n",
      "Doing: B12.tif\n"
     ]
    },
    {
     "name": "stderr",
     "output_type": "stream",
     "text": [
      "Warning 1: for band 1, nodata value has been rounded to -2147483648, Int32 being an integer datatype.\n",
      "Warning 1: for band 1, nodata value has been rounded to -2147483648, Int32 being an integer datatype.\n"
     ]
    },
    {
     "name": "stdout",
     "output_type": "stream",
     "text": [
      "Input file size is 829, 1222\n",
      "0...10...20...30...40...50...60...70...80...90...100 - done.\n",
      "Done: 0\n",
      "Doing: B13.tif\n"
     ]
    },
    {
     "name": "stderr",
     "output_type": "stream",
     "text": [
      "Warning 1: for band 1, nodata value has been rounded to -2147483648, Int32 being an integer datatype.\n"
     ]
    },
    {
     "name": "stdout",
     "output_type": "stream",
     "text": [
      "Input file size is 829, 1222\n",
      "0...10...20...30...40...50...60...70...80...90...100 - done.\n",
      "Done: 0\n",
      "Doing: B14.tif\n",
      "Input file size is 829, 1222\n",
      "0...10...20...30.."
     ]
    },
    {
     "name": "stderr",
     "output_type": "stream",
     "text": [
      "Warning 1: for band 1, nodata value has been rounded to -2147483648, Int32 being an integer datatype.\n",
      "Warning 1: for band 1, nodata value has been rounded to -2147483648, Int32 being an integer datatype.\n"
     ]
    },
    {
     "name": "stdout",
     "output_type": "stream",
     "text": [
      ".40...50...60...70...80...90...100 - done.\n",
      "Done: 0\n",
      "Doing: B15.tif\n",
      "Input file size is 829, 1222\n",
      "0...10...20...30...40...50...60...70...80...90...100 - done.\n",
      "Done: 0\n",
      "Doing: B16.tif\n",
      "Input file size is 829, 1222\n",
      "0...10...20...30...40...50...60...70.."
     ]
    },
    {
     "name": "stderr",
     "output_type": "stream",
     "text": [
      "Warning 1: for band 1, nodata value has been rounded to -2147483648, Int32 being an integer datatype.\n",
      "Warning 1: for band 1, nodata value has been rounded to -2147483648, Int32 being an integer datatype.\n"
     ]
    },
    {
     "name": "stdout",
     "output_type": "stream",
     "text": [
      ".80...90...100 - done.\n",
      "Done: 0\n",
      "Doing: B17.tif\n",
      "Input file size is 829, 1222\n",
      "0...10...20...30...40...50...60...70...80...90...100 - done.\n",
      "Done: 0\n",
      "Doing: B18.tif\n",
      "Input file size is 829, 1222\n",
      "0...10...20...30...40...50...60...70...80...90..."
     ]
    },
    {
     "name": "stderr",
     "output_type": "stream",
     "text": [
      "Warning 1: for band 1, nodata value has been rounded to -2147483648, Int32 being an integer datatype.\n"
     ]
    },
    {
     "name": "stdout",
     "output_type": "stream",
     "text": [
      "100 - done.\n",
      "Done: 0\n",
      "Doing: B19.tif\n",
      "Input file size is 829, 1222\n",
      "0...10...20...30...40...50...60...70...80...90...100 - done.\n",
      "Done: 0\n",
      "Doing: ASCII\n"
     ]
    },
    {
     "name": "stderr",
     "output_type": "stream",
     "text": [
      "Warning 1: for band 1, nodata value has been rounded to -2147483648, Int32 being an integer datatype.\n",
      "ERROR 4: `SSP126/2061_2080/CanESM5/ASCII' not recognized as a supported file format.\n"
     ]
    },
    {
     "name": "stdout",
     "output_type": "stream",
     "text": [
      "Done: 1\n",
      "Doing: B1.tif\n",
      "Input file size is 829, 1222\n",
      "0...10...20...30...40...50...60...70...80...90...100 - done.\n",
      "Done: 0\n",
      "Doing: B2.tif\n"
     ]
    },
    {
     "name": "stderr",
     "output_type": "stream",
     "text": [
      "Warning 1: for band 1, nodata value has been rounded to -2147483648, Int32 being an integer datatype.\n",
      "Warning 1: for band 1, nodata value has been rounded to -2147483648, Int32 being an integer datatype.\n"
     ]
    },
    {
     "name": "stdout",
     "output_type": "stream",
     "text": [
      "Input file size is 829, 1222\n",
      "0...10...20...30...40...50...60...70...80...90...100 - done.\n",
      "Done: 0\n",
      "Doing: B3.tif\n",
      "Input file size is 829, 1222\n",
      "0...10...20...30...40...50...60"
     ]
    },
    {
     "name": "stderr",
     "output_type": "stream",
     "text": [
      "Warning 1: for band 1, nodata value has been rounded to -2147483648, Int32 being an integer datatype.\n",
      "Warning 1: for band 1, nodata value has been rounded to -2147483648, Int32 being an integer datatype.\n"
     ]
    },
    {
     "name": "stdout",
     "output_type": "stream",
     "text": [
      "...70...80...90...100 - done.\n",
      "Done: 0\n",
      "Doing: B4.tif\n",
      "Input file size is 829, 1222\n",
      "0...10...20...30...40...50...60...70...80...90...100 - done.\n",
      "Done: 0\n",
      "Doing: B5.tif\n",
      "Input file size is 829, 1222\n",
      "0...10...20...30...40...50...60...70...80..."
     ]
    },
    {
     "name": "stderr",
     "output_type": "stream",
     "text": [
      "Warning 1: for band 1, nodata value has been rounded to -2147483648, Int32 being an integer datatype.\n"
     ]
    },
    {
     "name": "stdout",
     "output_type": "stream",
     "text": [
      "90...100 - done.\n",
      "Done: 0\n",
      "Doing: B6.tif\n",
      "Input file size is 829, 1222\n",
      "0"
     ]
    },
    {
     "name": "stderr",
     "output_type": "stream",
     "text": [
      "Warning 1: for band 1, nodata value has been rounded to -2147483648, Int32 being an integer datatype.\n"
     ]
    },
    {
     "name": "stdout",
     "output_type": "stream",
     "text": [
      "...10...20...30...40...50...60...70...80...90...100 - done.\n",
      "Done: 0\n",
      "Doing: B7.tif\n",
      "Input file size is 829, 1222\n",
      "0"
     ]
    },
    {
     "name": "stderr",
     "output_type": "stream",
     "text": [
      "Warning 1: for band 1, nodata value has been rounded to -2147483648, Int32 being an integer datatype.\n"
     ]
    },
    {
     "name": "stdout",
     "output_type": "stream",
     "text": [
      "...10...20...30...40...50...60...70...80...90...100 - done.\n",
      "Done: 0\n",
      "Doing: B8.tif\n",
      "Input file size is 829, 1222\n",
      "0...10...20...30...40...50...60...70...80...90..."
     ]
    },
    {
     "name": "stderr",
     "output_type": "stream",
     "text": [
      "Warning 1: for band 1, nodata value has been rounded to -2147483648, Int32 being an integer datatype.\n",
      "Warning 1: for band 1, nodata value has been rounded to -2147483648, Int32 being an integer datatype.\n"
     ]
    },
    {
     "name": "stdout",
     "output_type": "stream",
     "text": [
      "100 - done.\n",
      "Done: 0\n",
      "Doing: B9.tif\n",
      "Input file size is 829, 1222\n",
      "0...10...20...30...40...50...60...70...80...90...100 - done.\n",
      "Done: 0\n",
      "Doing: B10.tif\n",
      "Input file size is 829, 1222\n",
      "0"
     ]
    },
    {
     "name": "stderr",
     "output_type": "stream",
     "text": [
      "Warning 1: for band 1, nodata value has been rounded to -2147483648, Int32 being an integer datatype.\n"
     ]
    },
    {
     "name": "stdout",
     "output_type": "stream",
     "text": [
      "...10...20...30...40...50...60...70...80...90...100 - done.\n",
      "Done: 0\n",
      "Doing: B11.tif\n"
     ]
    },
    {
     "name": "stderr",
     "output_type": "stream",
     "text": [
      "Warning 1: for band 1, nodata value has been rounded to -2147483648, Int32 being an integer datatype.\n",
      "Warning 1: for band 1, nodata value has been rounded to -2147483648, Int32 being an integer datatype.\n"
     ]
    },
    {
     "name": "stdout",
     "output_type": "stream",
     "text": [
      "Input file size is 829, 1222\n",
      "0...10...20...30...40...50...60...70...80...90...100 - done.\n",
      "Done: 0\n",
      "Doing: B12.tif\n",
      "Input file size is 829, 1222\n",
      "0...10...20...30...40...50...60...70...80...90...100 - done.\n",
      "Done: 0\n",
      "Doing: B13.tif\n",
      "Input file size is 829, 1222\n",
      "0...10"
     ]
    },
    {
     "name": "stderr",
     "output_type": "stream",
     "text": [
      "Warning 1: for band 1, nodata value has been rounded to -2147483648, Int32 being an integer datatype.\n",
      "Warning 1: for band 1, nodata value has been rounded to -2147483648, Int32 being an integer datatype.\n"
     ]
    },
    {
     "name": "stdout",
     "output_type": "stream",
     "text": [
      "...20...30...40...50...60...70...80...90...100 - done.\n",
      "Done: 0\n",
      "Doing: B14.tif\n",
      "Input file size is 829, 1222\n",
      "0...10...20...30...40...50...60...70...80...90...100 - done.\n",
      "Done: 0\n",
      "Doing: B15.tif\n",
      "Input file size is 829, 1222\n",
      "0...10...20...30...40.."
     ]
    },
    {
     "name": "stderr",
     "output_type": "stream",
     "text": [
      "Warning 1: for band 1, nodata value has been rounded to -2147483648, Int32 being an integer datatype.\n",
      "Warning 1: for band 1, nodata value has been rounded to -2147483648, Int32 being an integer datatype.\n"
     ]
    },
    {
     "name": "stdout",
     "output_type": "stream",
     "text": [
      ".50...60...70...80...90...100 - done.\n",
      "Done: 0\n",
      "Doing: B16.tif\n",
      "Input file size is 829, 1222\n",
      "0...10...20...30...40...50...60...70...80...90...100 - done.\n",
      "Done: 0\n",
      "Doing: B17.tif\n",
      "Input file size is 829, 1222\n",
      "0...10...20...30...40...50...60...70.."
     ]
    },
    {
     "name": "stderr",
     "output_type": "stream",
     "text": [
      "Warning 1: for band 1, nodata value has been rounded to -2147483648, Int32 being an integer datatype.\n",
      "Warning 1: for band 1, nodata value has been rounded to -2147483648, Int32 being an integer datatype.\n"
     ]
    },
    {
     "name": "stdout",
     "output_type": "stream",
     "text": [
      ".80...90...100 - done.\n",
      "Done: 0\n",
      "Doing: B18.tif\n",
      "Input file size is 829, 1222\n",
      "0...10...20...30...40...50...60...70...80...90...100 - done.\n",
      "Done: 0\n",
      "Doing: B19.tif\n",
      "Input file size is 829, 1222\n",
      "0...10...20...30...40."
     ]
    },
    {
     "name": "stderr",
     "output_type": "stream",
     "text": [
      "Warning 1: for band 1, nodata value has been rounded to -2147483648, Int32 being an integer datatype.\n"
     ]
    },
    {
     "name": "stdout",
     "output_type": "stream",
     "text": [
      "..50...60...70...80...90...100 - done.\n",
      "Done: 0\n",
      "Doing: ASCII\n",
      "Done: 1\n",
      "Doing: B1.tif\n",
      "Input file size is 829, 1222\n",
      "0"
     ]
    },
    {
     "name": "stderr",
     "output_type": "stream",
     "text": [
      "ERROR 4: `SSP126/2061_2080/CanESM5-CanOE/ASCII' not recognized as a supported file format.\n",
      "Warning 1: for band 1, nodata value has been rounded to -2147483648, Int32 being an integer datatype.\n"
     ]
    },
    {
     "name": "stdout",
     "output_type": "stream",
     "text": [
      "...10...20...30...40...50...60...70...80...90...100 - done.\n",
      "Done: 0\n",
      "Doing: B2.tif\n",
      "Input file size is 829, 1222\n",
      "0...10...20...30...40...50."
     ]
    },
    {
     "name": "stderr",
     "output_type": "stream",
     "text": [
      "Warning 1: for band 1, nodata value has been rounded to -2147483648, Int32 being an integer datatype.\n"
     ]
    },
    {
     "name": "stdout",
     "output_type": "stream",
     "text": [
      "..60...70...80...90...100 - done.\n",
      "Done: 0\n",
      "Doing: B3.tif\n"
     ]
    },
    {
     "name": "stderr",
     "output_type": "stream",
     "text": [
      "Warning 1: for band 1, nodata value has been rounded to -2147483648, Int32 being an integer datatype.\n",
      "Warning 1: for band 1, nodata value has been rounded to -2147483648, Int32 being an integer datatype.\n"
     ]
    },
    {
     "name": "stdout",
     "output_type": "stream",
     "text": [
      "Input file size is 829, 1222\n",
      "0...10...20...30...40...50...60...70...80...90...100 - done.\n",
      "Done: 0\n",
      "Doing: B4.tif\n",
      "Input file size is 829, 1222\n",
      "0...10...20...30...40...50...60...70...80...90...100 - done.\n",
      "Done: 0\n",
      "Doing: B5.tif\n",
      "Input file size is 829, 1222\n",
      "0...10..."
     ]
    },
    {
     "name": "stderr",
     "output_type": "stream",
     "text": [
      "Warning 1: for band 1, nodata value has been rounded to -2147483648, Int32 being an integer datatype.\n"
     ]
    },
    {
     "name": "stdout",
     "output_type": "stream",
     "text": [
      "20...30...40...50...60...70...80...90...100 - done.\n",
      "Done: 0\n",
      "Doing: B6.tif\n"
     ]
    },
    {
     "name": "stderr",
     "output_type": "stream",
     "text": [
      "Warning 1: for band 1, nodata value has been rounded to -2147483648, Int32 being an integer datatype.\n",
      "Warning 1: for band 1, nodata value has been rounded to -2147483648, Int32 being an integer datatype.\n"
     ]
    },
    {
     "name": "stdout",
     "output_type": "stream",
     "text": [
      "Input file size is 829, 1222\n",
      "0...10...20...30...40...50...60...70...80...90...100 - done.\n",
      "Done: 0\n",
      "Doing: B7.tif\n",
      "Input file size is 829, 1222\n",
      "0...10...20...30...40...50...60...70...80...90...100 - done.\n",
      "Done: 0\n",
      "Doing: B8.tif\n",
      "Input file size is 829, 1222\n",
      "0...10...20...30...40...50...60...70...80...90..."
     ]
    },
    {
     "name": "stderr",
     "output_type": "stream",
     "text": [
      "Warning 1: for band 1, nodata value has been rounded to -2147483648, Int32 being an integer datatype.\n"
     ]
    },
    {
     "name": "stdout",
     "output_type": "stream",
     "text": [
      "100 - done.\n",
      "Done: 0\n",
      "Doing: B9.tif\n",
      "Input file size is 829, 1222\n",
      "0...10...20...30...40...50...60...70...80...90...100 - done.\n",
      "Done: 0\n",
      "Doing: B10.tif\n"
     ]
    },
    {
     "name": "stderr",
     "output_type": "stream",
     "text": [
      "Warning 1: for band 1, nodata value has been rounded to -2147483648, Int32 being an integer datatype.\n",
      "Warning 1: for band 1, nodata value has been rounded to -2147483648, Int32 being an integer datatype.\n"
     ]
    },
    {
     "name": "stdout",
     "output_type": "stream",
     "text": [
      "Input file size is 829, 1222\n",
      "0...10...20...30...40...50...60...70...80...90...100 - done.\n",
      "Done: 0\n",
      "Doing: B11.tif\n",
      "Input file size is 829, 1222\n",
      "0"
     ]
    },
    {
     "name": "stderr",
     "output_type": "stream",
     "text": [
      "Warning 1: for band 1, nodata value has been rounded to -2147483648, Int32 being an integer datatype.\n"
     ]
    },
    {
     "name": "stdout",
     "output_type": "stream",
     "text": [
      "...10...20...30...40...50...60...70...80...90...100 - done.\n",
      "Done: 0\n",
      "Doing: B12.tif\n",
      "Input file size is 829, 1222\n",
      "0."
     ]
    },
    {
     "name": "stderr",
     "output_type": "stream",
     "text": [
      "Warning 1: for band 1, nodata value has been rounded to -2147483648, Int32 being an integer datatype.\n",
      "Warning 1: for band 1, nodata value has been rounded to -2147483648, Int32 being an integer datatype.\n"
     ]
    },
    {
     "name": "stdout",
     "output_type": "stream",
     "text": [
      "..10...20...30...40...50...60...70...80...90...100 - done.\n",
      "Done: 0\n",
      "Doing: B13.tif\n",
      "Input file size is 829, 1222\n",
      "0...10...20...30...40...50...60...70...80...90...100 - done.\n",
      "Done: 0\n",
      "Doing: B14.tif\n",
      "Input file size is 829, 1222\n",
      "0...10...20...30...40...50"
     ]
    },
    {
     "name": "stderr",
     "output_type": "stream",
     "text": [
      "Warning 1: for band 1, nodata value has been rounded to -2147483648, Int32 being an integer datatype.\n",
      "Warning 1: for band 1, nodata value has been rounded to -2147483648, Int32 being an integer datatype.\n"
     ]
    },
    {
     "name": "stdout",
     "output_type": "stream",
     "text": [
      "...60...70...80...90...100 - done.\n",
      "Done: 0\n",
      "Doing: B15.tif\n",
      "Input file size is 829, 1222\n",
      "0...10...20...30...40...50...60...70...80...90...100 - done.\n",
      "Done: 0\n",
      "Doing: B16.tif\n",
      "Input file size is 829, 1222\n",
      "0...10...20...30...40...50...60...70...80...90..."
     ]
    },
    {
     "name": "stderr",
     "output_type": "stream",
     "text": [
      "Warning 1: for band 1, nodata value has been rounded to -2147483648, Int32 being an integer datatype.\n",
      "Warning 1: for band 1, nodata value has been rounded to -2147483648, Int32 being an integer datatype.\n"
     ]
    },
    {
     "name": "stdout",
     "output_type": "stream",
     "text": [
      "100 - done.\n",
      "Done: 0\n",
      "Doing: B17.tif\n",
      "Input file size is 829, 1222\n",
      "0...10...20...30...40...50...60...70...80...90...100 - done.\n",
      "Done: 0\n",
      "Doing: B18.tif\n"
     ]
    },
    {
     "name": "stderr",
     "output_type": "stream",
     "text": [
      "Warning 1: for band 1, nodata value has been rounded to -2147483648, Int32 being an integer datatype.\n",
      "Warning 1: for band 1, nodata value has been rounded to -2147483648, Int32 being an integer datatype.\n"
     ]
    },
    {
     "name": "stdout",
     "output_type": "stream",
     "text": [
      "Input file size is 829, 1222\n",
      "0...10...20...30...40...50...60...70...80...90...100 - done.\n",
      "Done: 0\n",
      "Doing: B19.tif\n",
      "Input file size is 829, 1222\n",
      "0...10...20...30...40...50...60...70...80...90...100 - done.\n",
      "Done: 0\n",
      "Doing: ASCII\n",
      "Done: 1\n",
      "Doing: B1.tif\n"
     ]
    },
    {
     "name": "stderr",
     "output_type": "stream",
     "text": [
      "ERROR 4: `SSP126/2061_2080/CMCC-ESM2/ASCII' not recognized as a supported file format.\n",
      "Warning 1: for band 1, nodata value has been rounded to -2147483648, Int32 being an integer datatype.\n"
     ]
    },
    {
     "name": "stdout",
     "output_type": "stream",
     "text": [
      "Input file size is 829, 1222\n",
      "0...10...20...30...40...50...60...70...80...90...100 - done.\n",
      "Done: 0\n",
      "Doing: B2.tif\n",
      "Input file size is 829, 1222\n",
      "0...10...20."
     ]
    },
    {
     "name": "stderr",
     "output_type": "stream",
     "text": [
      "Warning 1: for band 1, nodata value has been rounded to -2147483648, Int32 being an integer datatype.\n",
      "Warning 1: for band 1, nodata value has been rounded to -2147483648, Int32 being an integer datatype.\n"
     ]
    },
    {
     "name": "stdout",
     "output_type": "stream",
     "text": [
      "..30...40...50...60...70...80...90...100 - done.\n",
      "Done: 0\n",
      "Doing: B3.tif\n",
      "Input file size is 829, 1222\n",
      "0...10...20...30...40...50...60...70...80...90...100 - done.\n",
      "Done: 0\n",
      "Doing: B4.tif\n",
      "Input file size is 829, 1222\n",
      "0...10...20...30...40...50...60.."
     ]
    },
    {
     "name": "stderr",
     "output_type": "stream",
     "text": [
      "Warning 1: for band 1, nodata value has been rounded to -2147483648, Int32 being an integer datatype.\n",
      "Warning 1: for band 1, nodata value has been rounded to -2147483648, Int32 being an integer datatype.\n"
     ]
    },
    {
     "name": "stdout",
     "output_type": "stream",
     "text": [
      ".70...80...90...100 - done.\n",
      "Done: 0\n",
      "Doing: B5.tif\n",
      "Input file size is 829, 1222\n",
      "0...10...20...30...40...50...60...70...80...90...100 - done.\n",
      "Done: 0\n",
      "Doing: B6.tif\n",
      "Input file size is 829, 1222\n",
      "0...10...20...30...40...50...60...70.."
     ]
    },
    {
     "name": "stderr",
     "output_type": "stream",
     "text": [
      "Warning 1: for band 1, nodata value has been rounded to -2147483648, Int32 being an integer datatype.\n"
     ]
    },
    {
     "name": "stdout",
     "output_type": "stream",
     "text": [
      ".80...90...100 - done.\n",
      "Done: 0\n",
      "Doing: B7.tif\n",
      "Input file size is 829, 1222\n",
      "0...10...20...30...40...50.."
     ]
    },
    {
     "name": "stderr",
     "output_type": "stream",
     "text": [
      "Warning 1: for band 1, nodata value has been rounded to -2147483648, Int32 being an integer datatype.\n",
      "Warning 1: for band 1, nodata value has been rounded to -2147483648, Int32 being an integer datatype.\n"
     ]
    },
    {
     "name": "stdout",
     "output_type": "stream",
     "text": [
      ".60...70...80...90...100 - done.\n",
      "Done: 0\n",
      "Doing: B8.tif\n",
      "Input file size is 829, 1222\n",
      "0...10...20...30...40...50...60...70...80...90...100 - done.\n",
      "Done: 0\n",
      "Doing: B9.tif\n",
      "Input file size is 829, 1222\n",
      "0...10...20...30...40...50...60...70...80..."
     ]
    },
    {
     "name": "stderr",
     "output_type": "stream",
     "text": [
      "Warning 1: for band 1, nodata value has been rounded to -2147483648, Int32 being an integer datatype.\n",
      "Warning 1: for band 1, nodata value has been rounded to -2147483648, Int32 being an integer datatype.\n"
     ]
    },
    {
     "name": "stdout",
     "output_type": "stream",
     "text": [
      "90...100 - done.\n",
      "Done: 0\n",
      "Doing: B10.tif\n",
      "Input file size is 829, 1222\n",
      "0...10...20...30...40...50...60...70...80...90...100 - done.\n",
      "Done: 0\n",
      "Doing: B11.tif\n",
      "Input file size is 829, 1222\n",
      "0...10...20...30...40...50...60...70...80...90...100 - done.\n",
      "Done: 0\n",
      "Doing: B12.tif\n"
     ]
    },
    {
     "name": "stderr",
     "output_type": "stream",
     "text": [
      "Warning 1: for band 1, nodata value has been rounded to -2147483648, Int32 being an integer datatype.\n",
      "Warning 1: for band 1, nodata value has been rounded to -2147483648, Int32 being an integer datatype.\n"
     ]
    },
    {
     "name": "stdout",
     "output_type": "stream",
     "text": [
      "Input file size is 829, 1222\n",
      "0...10...20...30...40...50...60...70...80...90...100 - done.\n",
      "Done: 0\n",
      "Doing: B13.tif\n",
      "Input file size is 829, 1222\n",
      "0...10...20.."
     ]
    },
    {
     "name": "stderr",
     "output_type": "stream",
     "text": [
      "Warning 1: for band 1, nodata value has been rounded to -2147483648, Int32 being an integer datatype.\n",
      "Warning 1: for band 1, nodata value has been rounded to -2147483648, Int32 being an integer datatype.\n"
     ]
    },
    {
     "name": "stdout",
     "output_type": "stream",
     "text": [
      ".30...40...50...60...70...80...90...100 - done.\n",
      "Done: 0\n",
      "Doing: B14.tif\n",
      "Input file size is 829, 1222\n",
      "0...10...20...30...40...50...60...70...80...90...100 - done.\n",
      "Done: 0\n",
      "Doing: B15.tif\n",
      "Input file size is 829, 1222\n",
      "0...10...20...30...40...50...60...70...80"
     ]
    },
    {
     "name": "stderr",
     "output_type": "stream",
     "text": [
      "Warning 1: for band 1, nodata value has been rounded to -2147483648, Int32 being an integer datatype.\n",
      "Warning 1: for band 1, nodata value has been rounded to -2147483648, Int32 being an integer datatype.\n"
     ]
    },
    {
     "name": "stdout",
     "output_type": "stream",
     "text": [
      "...90...100 - done.\n",
      "Done: 0\n",
      "Doing: B16.tif\n",
      "Input file size is 829, 1222\n",
      "0...10...20...30...40...50...60...70...80...90...100 - done.\n",
      "Done: 0\n",
      "Doing: B17.tif\n",
      "Input file size is 829, 1222\n",
      "0...10...20...30...40...50...60...70...80...90...100 - done.\n",
      "Done: 0\n",
      "Doing: B18.tif\n"
     ]
    },
    {
     "name": "stderr",
     "output_type": "stream",
     "text": [
      "Warning 1: for band 1, nodata value has been rounded to -2147483648, Int32 being an integer datatype.\n",
      "Warning 1: for band 1, nodata value has been rounded to -2147483648, Int32 being an integer datatype.\n"
     ]
    },
    {
     "name": "stdout",
     "output_type": "stream",
     "text": [
      "Input file size is 829, 1222\n",
      "0...10...20...30...40...50...60...70...80...90...100 - done.\n",
      "Done: 0\n",
      "Doing: B19.tif\n",
      "Input file size is 829, 1222\n",
      "0...10...20.."
     ]
    },
    {
     "name": "stderr",
     "output_type": "stream",
     "text": [
      "Warning 1: for band 1, nodata value has been rounded to -2147483648, Int32 being an integer datatype.\n",
      "ERROR 4: `SSP126/2061_2080/CNRM-CM6-1/ASCII' not recognized as a supported file format.\n"
     ]
    },
    {
     "name": "stdout",
     "output_type": "stream",
     "text": [
      ".30...40...50...60...70...80...90...100 - done.\n",
      "Done: 0\n",
      "Doing: ASCII\n",
      "Done: 1\n",
      "Doing: B1.tif\n"
     ]
    },
    {
     "name": "stderr",
     "output_type": "stream",
     "text": [
      "Warning 1: for band 1, nodata value has been rounded to -2147483648, Int32 being an integer datatype.\n",
      "Warning 1: for band 1, nodata value has been rounded to -2147483648, Int32 being an integer datatype.\n"
     ]
    },
    {
     "name": "stdout",
     "output_type": "stream",
     "text": [
      "Input file size is 829, 1222\n",
      "0...10...20...30...40...50...60...70...80...90...100 - done.\n",
      "Done: 0\n",
      "Doing: B2.tif\n",
      "Input file size is 829, 1222\n",
      "0...10...20...30...40...50...60...70...80...90...100 - done.\n",
      "Done: 0\n",
      "Doing: B3.tif\n",
      "Input file size is 829, 1222\n",
      "0...10...20...30.."
     ]
    },
    {
     "name": "stderr",
     "output_type": "stream",
     "text": [
      "Warning 1: for band 1, nodata value has been rounded to -2147483648, Int32 being an integer datatype.\n"
     ]
    },
    {
     "name": "stdout",
     "output_type": "stream",
     "text": [
      ".40...50...60...70...80...90...100 - done.\n",
      "Done: 0\n",
      "Doing: B4.tif\n",
      "Input file size is 829, 1222\n",
      "0...10...20...30..."
     ]
    },
    {
     "name": "stderr",
     "output_type": "stream",
     "text": [
      "Warning 1: for band 1, nodata value has been rounded to -2147483648, Int32 being an integer datatype.\n",
      "Warning 1: for band 1, nodata value has been rounded to -2147483648, Int32 being an integer datatype.\n"
     ]
    },
    {
     "name": "stdout",
     "output_type": "stream",
     "text": [
      "40...50...60...70...80...90...100 - done.\n",
      "Done: 0\n",
      "Doing: B5.tif\n",
      "Input file size is 829, 1222\n",
      "0...10...20...30...40...50...60...70...80...90...100 - done.\n",
      "Done: 0\n",
      "Doing: B6.tif\n",
      "Input file size is 829, 1222\n",
      "0...10...20...30...40...50...60...70...80.."
     ]
    },
    {
     "name": "stderr",
     "output_type": "stream",
     "text": [
      "Warning 1: for band 1, nodata value has been rounded to -2147483648, Int32 being an integer datatype.\n",
      "Warning 1: for band 1, nodata value has been rounded to -2147483648, Int32 being an integer datatype.\n"
     ]
    },
    {
     "name": "stdout",
     "output_type": "stream",
     "text": [
      ".90...100 - done.\n",
      "Done: 0\n",
      "Doing: B7.tif\n",
      "Input file size is 829, 1222\n",
      "0...10...20...30...40...50...60...70...80...90...100 - done.\n",
      "Done: 0\n",
      "Doing: B8.tif\n",
      "Input file size is 829, 1222\n",
      "0...10...20...30...40...50...60...70...80...90...100 - done.\n",
      "Done: 0\n",
      "Doing: B9.tif\n"
     ]
    },
    {
     "name": "stderr",
     "output_type": "stream",
     "text": [
      "Warning 1: for band 1, nodata value has been rounded to -2147483648, Int32 being an integer datatype.\n",
      "Warning 1: for band 1, nodata value has been rounded to -2147483648, Int32 being an integer datatype.\n"
     ]
    },
    {
     "name": "stdout",
     "output_type": "stream",
     "text": [
      "Input file size is 829, 1222\n",
      "0...10...20...30...40...50...60...70...80...90...100 - done.\n",
      "Done: 0\n",
      "Doing: B10.tif\n",
      "Input file size is 829, 1222\n",
      "0...10...20.."
     ]
    },
    {
     "name": "stderr",
     "output_type": "stream",
     "text": [
      "Warning 1: for band 1, nodata value has been rounded to -2147483648, Int32 being an integer datatype.\n",
      "Warning 1: for band 1, nodata value has been rounded to -2147483648, Int32 being an integer datatype.\n"
     ]
    },
    {
     "name": "stdout",
     "output_type": "stream",
     "text": [
      ".30...40...50...60...70...80...90...100 - done.\n",
      "Done: 0\n",
      "Doing: B11.tif\n",
      "Input file size is 829, 1222\n",
      "0...10...20...30...40...50...60...70...80...90...100 - done.\n",
      "Done: 0\n",
      "Doing: B12.tif\n",
      "Input file size is 829, 1222\n",
      "0...10...20...30...40...50...60..."
     ]
    },
    {
     "name": "stderr",
     "output_type": "stream",
     "text": [
      "Warning 1: for band 1, nodata value has been rounded to -2147483648, Int32 being an integer datatype.\n",
      "Warning 1: for band 1, nodata value has been rounded to -2147483648, Int32 being an integer datatype.\n"
     ]
    },
    {
     "name": "stdout",
     "output_type": "stream",
     "text": [
      "70...80...90...100 - done.\n",
      "Done: 0\n",
      "Doing: B13.tif\n",
      "Input file size is 829, 1222\n",
      "0...10...20...30...40...50...60...70...80...90...100 - done.\n",
      "Done: 0\n",
      "Doing: B14.tif\n",
      "Input file size is 829, 1222\n",
      "0...10...20...30...40...50...60...70...80...90..."
     ]
    },
    {
     "name": "stderr",
     "output_type": "stream",
     "text": [
      "Warning 1: for band 1, nodata value has been rounded to -2147483648, Int32 being an integer datatype.\n",
      "Warning 1: for band 1, nodata value has been rounded to -2147483648, Int32 being an integer datatype.\n"
     ]
    },
    {
     "name": "stdout",
     "output_type": "stream",
     "text": [
      "100 - done.\n",
      "Done: 0\n",
      "Doing: B15.tif\n",
      "Input file size is 829, 1222\n",
      "0...10...20...30...40...50...60...70...80...90...100 - done.\n",
      "Done: 0\n",
      "Doing: B16.tif\n"
     ]
    },
    {
     "name": "stderr",
     "output_type": "stream",
     "text": [
      "Warning 1: for band 1, nodata value has been rounded to -2147483648, Int32 being an integer datatype.\n",
      "Warning 1: for band 1, nodata value has been rounded to -2147483648, Int32 being an integer datatype.\n"
     ]
    },
    {
     "name": "stdout",
     "output_type": "stream",
     "text": [
      "Input file size is 829, 1222\n",
      "0...10...20...30...40...50...60...70...80...90...100 - done.\n",
      "Done: 0\n",
      "Doing: B17.tif\n",
      "Input file size is 829, 1222\n",
      "0...10...20...30...40...50...60...70...80...90...100 - done.\n",
      "Done: 0\n",
      "Doing: B18.tif\n",
      "Input file size is 829, 1222\n",
      "0...10...20...30...40..."
     ]
    },
    {
     "name": "stderr",
     "output_type": "stream",
     "text": [
      "Warning 1: for band 1, nodata value has been rounded to -2147483648, Int32 being an integer datatype.\n",
      "Warning 1: for band 1, nodata value has been rounded to -2147483648, Int32 being an integer datatype.\n"
     ]
    },
    {
     "name": "stdout",
     "output_type": "stream",
     "text": [
      "50...60...70...80...90...100 - done.\n",
      "Done: 0\n",
      "Doing: B19.tif\n",
      "Input file size is 829, 1222\n",
      "0...10...20...30...40...50...60...70...80...90...100 - done.\n",
      "Done: 0\n",
      "Doing: ASCII\n",
      "Done: 1\n",
      "Doing: B1.tif\n",
      "Input file size is 829, 1222\n",
      "0...10...20...30...40."
     ]
    },
    {
     "name": "stderr",
     "output_type": "stream",
     "text": [
      "ERROR 4: `SSP126/2061_2080/CNRM-CM6-1-HR/ASCII' not recognized as a supported file format.\n",
      "Warning 1: for band 1, nodata value has been rounded to -2147483648, Int32 being an integer datatype.\n"
     ]
    },
    {
     "name": "stdout",
     "output_type": "stream",
     "text": [
      "..50...60...70...80...90...100 - done.\n",
      "Done: 0\n",
      "Doing: B2.tif\n",
      "Input file size is 829, 1222\n",
      "0...10...20...30...40...50...60...70"
     ]
    },
    {
     "name": "stderr",
     "output_type": "stream",
     "text": [
      "Warning 1: for band 1, nodata value has been rounded to -2147483648, Int32 being an integer datatype.\n",
      "Warning 1: for band 1, nodata value has been rounded to -2147483648, Int32 being an integer datatype.\n"
     ]
    },
    {
     "name": "stdout",
     "output_type": "stream",
     "text": [
      "...80...90...100 - done.\n",
      "Done: 0\n",
      "Doing: B3.tif\n",
      "Input file size is 829, 1222\n",
      "0...10...20...30...40...50...60...70...80...90...100 - done.\n",
      "Done: 0\n",
      "Doing: B4.tif\n",
      "Input file size is 829, 1222\n",
      "0...10...20...30...40...50...60...70...80...90..."
     ]
    },
    {
     "name": "stderr",
     "output_type": "stream",
     "text": [
      "Warning 1: for band 1, nodata value has been rounded to -2147483648, Int32 being an integer datatype.\n",
      "Warning 1: for band 1, nodata value has been rounded to -2147483648, Int32 being an integer datatype.\n"
     ]
    },
    {
     "name": "stdout",
     "output_type": "stream",
     "text": [
      "100 - done.\n",
      "Done: 0\n",
      "Doing: B5.tif\n",
      "Input file size is 829, 1222\n",
      "0...10...20...30...40...50...60...70...80...90...100 - done.\n",
      "Done: 0\n",
      "Doing: B6.tif\n"
     ]
    },
    {
     "name": "stderr",
     "output_type": "stream",
     "text": [
      "Warning 1: for band 1, nodata value has been rounded to -2147483648, Int32 being an integer datatype.\n",
      "Warning 1: for band 1, nodata value has been rounded to -2147483648, Int32 being an integer datatype.\n"
     ]
    },
    {
     "name": "stdout",
     "output_type": "stream",
     "text": [
      "Input file size is 829, 1222\n",
      "0...10...20...30...40...50...60...70...80...90...100 - done.\n",
      "Done: 0\n",
      "Doing: B7.tif\n",
      "Input file size is 829, 1222\n",
      "0...10...20...30...40...50...60...70...80...90...100 - done.\n",
      "Done: 0\n",
      "Doing: B8.tif\n",
      "Input file size is 829, 1222\n",
      "0...10...20.."
     ]
    },
    {
     "name": "stderr",
     "output_type": "stream",
     "text": [
      "Warning 1: for band 1, nodata value has been rounded to -2147483648, Int32 being an integer datatype.\n"
     ]
    },
    {
     "name": "stdout",
     "output_type": "stream",
     "text": [
      ".30...40...50...60...70...80...90...100 - done.\n",
      "Done: 0\n",
      "Doing: B9.tif\n"
     ]
    },
    {
     "name": "stderr",
     "output_type": "stream",
     "text": [
      "Warning 1: for band 1, nodata value has been rounded to -2147483648, Int32 being an integer datatype.\n",
      "Warning 1: for band 1, nodata value has been rounded to -2147483648, Int32 being an integer datatype.\n"
     ]
    },
    {
     "name": "stdout",
     "output_type": "stream",
     "text": [
      "Input file size is 829, 1222\n",
      "0...10...20...30...40...50...60...70...80...90...100 - done.\n",
      "Done: 0\n",
      "Doing: B10.tif\n",
      "Input file size is 829, 1222\n",
      "0...10...20...30...40...50...60...70...80...90...100 - done.\n",
      "Done: 0\n",
      "Doing: B11.tif\n"
     ]
    },
    {
     "name": "stderr",
     "output_type": "stream",
     "text": [
      "Warning 1: for band 1, nodata value has been rounded to -2147483648, Int32 being an integer datatype.\n",
      "Warning 1: for band 1, nodata value has been rounded to -2147483648, Int32 being an integer datatype.\n"
     ]
    },
    {
     "name": "stdout",
     "output_type": "stream",
     "text": [
      "Input file size is 829, 1222\n",
      "0...10...20...30...40...50...60...70...80...90...100 - done.\n",
      "Done: 0\n",
      "Doing: B12.tif\n",
      "Input file size is 829, 1222\n",
      "0...10...20...30...40...50...60...70...80...90...100 - done.\n",
      "Done: 0\n",
      "Doing: B13.tif\n",
      "Input file size is 829, 1222\n",
      "0...10...20...30...40."
     ]
    },
    {
     "name": "stderr",
     "output_type": "stream",
     "text": [
      "Warning 1: for band 1, nodata value has been rounded to -2147483648, Int32 being an integer datatype.\n",
      "Warning 1: for band 1, nodata value has been rounded to -2147483648, Int32 being an integer datatype.\n"
     ]
    },
    {
     "name": "stdout",
     "output_type": "stream",
     "text": [
      "..50...60...70...80...90...100 - done.\n",
      "Done: 0\n",
      "Doing: B14.tif\n",
      "Input file size is 829, 1222\n",
      "0...10...20...30...40...50...60...70...80...90...100 - done.\n",
      "Done: 0\n",
      "Doing: B15.tif\n",
      "Input file size is 829, 1222\n",
      "0...10...20...30...40...50...60...70...80"
     ]
    },
    {
     "name": "stderr",
     "output_type": "stream",
     "text": [
      "Warning 1: for band 1, nodata value has been rounded to -2147483648, Int32 being an integer datatype.\n",
      "Warning 1: for band 1, nodata value has been rounded to -2147483648, Int32 being an integer datatype.\n"
     ]
    },
    {
     "name": "stdout",
     "output_type": "stream",
     "text": [
      "...90...100 - done.\n",
      "Done: 0\n",
      "Doing: B16.tif\n",
      "Input file size is 829, 1222\n",
      "0...10...20...30...40...50...60...70...80...90...100 - done.\n",
      "Done: 0\n",
      "Doing: B17.tif\n",
      "Input file size is 829, 1222\n",
      "0...10...20...30...40...50...60...70...80...90...100 - done.\n",
      "Done: 0\n",
      "Doing: B18.tif\n"
     ]
    },
    {
     "name": "stderr",
     "output_type": "stream",
     "text": [
      "Warning 1: for band 1, nodata value has been rounded to -2147483648, Int32 being an integer datatype.\n",
      "Warning 1: for band 1, nodata value has been rounded to -2147483648, Int32 being an integer datatype.\n"
     ]
    },
    {
     "name": "stdout",
     "output_type": "stream",
     "text": [
      "Input file size is 829, 1222\n",
      "0...10...20...30...40...50...60...70...80...90...100 - done.\n",
      "Done: 0\n",
      "Doing: B19.tif\n",
      "Input file size is 829, 1222\n",
      "0...10...20."
     ]
    },
    {
     "name": "stderr",
     "output_type": "stream",
     "text": [
      "Warning 1: for band 1, nodata value has been rounded to -2147483648, Int32 being an integer datatype.\n",
      "ERROR 4: `SSP126/2061_2080/CNRM-ESM2-1/ASCII' not recognized as a supported file format.\n"
     ]
    },
    {
     "name": "stdout",
     "output_type": "stream",
     "text": [
      "..30...40...50...60...70...80...90...100 - done.\n",
      "Done: 0\n",
      "Doing: ASCII\n",
      "Done: 1\n",
      "Doing: B1.tif\n"
     ]
    },
    {
     "name": "stderr",
     "output_type": "stream",
     "text": [
      "Warning 1: for band 1, nodata value has been rounded to -2147483648, Int32 being an integer datatype.\n",
      "Warning 1: for band 1, nodata value has been rounded to -2147483648, Int32 being an integer datatype.\n"
     ]
    },
    {
     "name": "stdout",
     "output_type": "stream",
     "text": [
      "Input file size is 829, 1222\n",
      "0...10...20...30...40...50...60...70...80...90...100 - done.\n",
      "Done: 0\n",
      "Doing: B2.tif\n",
      "Input file size is 829, 1222\n",
      "0...10...20...30...40...50...60...70...80...90...100 - done.\n",
      "Done: 0\n",
      "Doing: B3.tif\n",
      "Input file size is 829, 1222\n",
      "0...10."
     ]
    },
    {
     "name": "stderr",
     "output_type": "stream",
     "text": [
      "Warning 1: for band 1, nodata value has been rounded to -2147483648, Int32 being an integer datatype.\n",
      "Warning 1: for band 1, nodata value has been rounded to -2147483648, Int32 being an integer datatype.\n"
     ]
    },
    {
     "name": "stdout",
     "output_type": "stream",
     "text": [
      "..20...30...40...50...60...70...80...90...100 - done.\n",
      "Done: 0\n",
      "Doing: B4.tif\n",
      "Input file size is 829, 1222\n",
      "0...10...20...30...40...50...60...70...80...90...100 - done.\n",
      "Done: 0\n",
      "Doing: B5.tif\n",
      "Input file size is 829, 1222\n",
      "0...10...20...30...40...50...60...70...80...90..."
     ]
    },
    {
     "name": "stderr",
     "output_type": "stream",
     "text": [
      "Warning 1: for band 1, nodata value has been rounded to -2147483648, Int32 being an integer datatype.\n",
      "Warning 1: for band 1, nodata value has been rounded to -2147483648, Int32 being an integer datatype.\n"
     ]
    },
    {
     "name": "stdout",
     "output_type": "stream",
     "text": [
      "100 - done.\n",
      "Done: 0\n",
      "Doing: B6.tif\n",
      "Input file size is 829, 1222\n",
      "0...10...20...30...40...50...60...70...80...90...100 - done.\n",
      "Done: 0\n",
      "Doing: B7.tif\n"
     ]
    },
    {
     "name": "stderr",
     "output_type": "stream",
     "text": [
      "Warning 1: for band 1, nodata value has been rounded to -2147483648, Int32 being an integer datatype.\n"
     ]
    },
    {
     "name": "stdout",
     "output_type": "stream",
     "text": [
      "Input file size is 829, 1222\n",
      "0...10...20...30...40...50...60...70...80...90...100 - done.\n",
      "Done: 0\n",
      "Doing: B8.tif\n"
     ]
    },
    {
     "name": "stderr",
     "output_type": "stream",
     "text": [
      "Warning 1: for band 1, nodata value has been rounded to -2147483648, Int32 being an integer datatype.\n"
     ]
    },
    {
     "name": "stdout",
     "output_type": "stream",
     "text": [
      "Input file size is 829, 1222\n",
      "0...10...20...30...40...50...60...70...80...90...100 - done.\n",
      "Done: 0\n",
      "Doing: B9.tif\n",
      "Input file size is 829, 1222\n",
      "0"
     ]
    },
    {
     "name": "stderr",
     "output_type": "stream",
     "text": [
      "Warning 1: for band 1, nodata value has been rounded to -2147483648, Int32 being an integer datatype.\n"
     ]
    },
    {
     "name": "stdout",
     "output_type": "stream",
     "text": [
      "...10...20...30...40...50...60...70...80...90...100 - done.\n",
      "Done: 0\n",
      "Doing: B10.tif\n",
      "Input file size is 829, 1222\n",
      "0.."
     ]
    },
    {
     "name": "stderr",
     "output_type": "stream",
     "text": [
      "Warning 1: for band 1, nodata value has been rounded to -2147483648, Int32 being an integer datatype.\n"
     ]
    },
    {
     "name": "stdout",
     "output_type": "stream",
     "text": [
      ".10...20...30...40...50...60...70...80...90...100 - done.\n",
      "Done: 0\n",
      "Doing: B11.tif\n",
      "Input file size is 829, 1222\n",
      "0"
     ]
    },
    {
     "name": "stderr",
     "output_type": "stream",
     "text": [
      "Warning 1: for band 1, nodata value has been rounded to -2147483648, Int32 being an integer datatype.\n"
     ]
    },
    {
     "name": "stdout",
     "output_type": "stream",
     "text": [
      "...10...20...30...40...50...60...70...80...90...100 - done.\n",
      "Done: 0\n",
      "Doing: B12.tif\n",
      "Input file size is 829, 1222\n",
      "0...10."
     ]
    },
    {
     "name": "stderr",
     "output_type": "stream",
     "text": [
      "Warning 1: for band 1, nodata value has been rounded to -2147483648, Int32 being an integer datatype.\n"
     ]
    },
    {
     "name": "stdout",
     "output_type": "stream",
     "text": [
      "..20...30...40...50...60...70...80...90...100 - done.\n",
      "Done: 0\n",
      "Doing: B13.tif\n",
      "Input file size is 829, 1222\n",
      "0...10"
     ]
    },
    {
     "name": "stderr",
     "output_type": "stream",
     "text": [
      "Warning 1: for band 1, nodata value has been rounded to -2147483648, Int32 being an integer datatype.\n"
     ]
    },
    {
     "name": "stdout",
     "output_type": "stream",
     "text": [
      "...20...30...40...50...60...70...80...90...100 - done.\n",
      "Done: 0\n",
      "Doing: B14.tif\n",
      "Input file size is 829, 1222\n",
      "0...10...20...30...40...50...60...70...80."
     ]
    },
    {
     "name": "stderr",
     "output_type": "stream",
     "text": [
      "Warning 1: for band 1, nodata value has been rounded to -2147483648, Int32 being an integer datatype.\n",
      "Warning 1: for band 1, nodata value has been rounded to -2147483648, Int32 being an integer datatype.\n"
     ]
    },
    {
     "name": "stdout",
     "output_type": "stream",
     "text": [
      "..90...100 - done.\n",
      "Done: 0\n",
      "Doing: B15.tif\n",
      "Input file size is 829, 1222\n",
      "0...10...20...30...40...50...60...70...80...90...100 - done.\n",
      "Done: 0\n",
      "Doing: B16.tif\n",
      "Input file size is 829, 1222\n",
      "0...10...20...30...40...50...60...70...80...90...100 - done.\n",
      "Done: 0\n",
      "Doing: B17.tif\n"
     ]
    },
    {
     "name": "stderr",
     "output_type": "stream",
     "text": [
      "Warning 1: for band 1, nodata value has been rounded to -2147483648, Int32 being an integer datatype.\n",
      "Warning 1: for band 1, nodata value has been rounded to -2147483648, Int32 being an integer datatype.\n"
     ]
    },
    {
     "name": "stdout",
     "output_type": "stream",
     "text": [
      "Input file size is 829, 1222\n",
      "0...10...20...30...40...50...60...70...80...90...100 - done.\n",
      "Done: 0\n",
      "Doing: B18.tif\n",
      "Input file size is 829, 1222\n",
      "0..."
     ]
    },
    {
     "name": "stderr",
     "output_type": "stream",
     "text": [
      "Warning 1: for band 1, nodata value has been rounded to -2147483648, Int32 being an integer datatype.\n",
      "Warning 1: for band 1, nodata value has been rounded to -2147483648, Int32 being an integer datatype.\n"
     ]
    },
    {
     "name": "stdout",
     "output_type": "stream",
     "text": [
      "10...20...30...40...50...60...70...80...90...100 - done.\n",
      "Done: 0\n",
      "Doing: B19.tif\n",
      "Input file size is 829, 1222\n",
      "0...10...20...30...40...50...60...70...80...90...100 - done.\n",
      "Done: 0\n",
      "Doing: ASCII\n",
      "Done: 1\n",
      "Doing: B1.tif\n",
      "Input file size is 829, 1222\n",
      "0...10...20...30...40..."
     ]
    },
    {
     "name": "stderr",
     "output_type": "stream",
     "text": [
      "ERROR 4: `SSP126/2061_2080/EC-Earth3-Veg/ASCII' not recognized as a supported file format.\n",
      "Warning 1: for band 1, nodata value has been rounded to -2147483648, Int32 being an integer datatype.\n"
     ]
    },
    {
     "name": "stdout",
     "output_type": "stream",
     "text": [
      "50...60...70...80...90...100 - done.\n",
      "Done: 0\n",
      "Doing: B2.tif\n",
      "Input file size is 829, 1222\n",
      "0...10...20...30...40.."
     ]
    },
    {
     "name": "stderr",
     "output_type": "stream",
     "text": [
      "Warning 1: for band 1, nodata value has been rounded to -2147483648, Int32 being an integer datatype.\n",
      "Warning 1: for band 1, nodata value has been rounded to -2147483648, Int32 being an integer datatype.\n"
     ]
    },
    {
     "name": "stdout",
     "output_type": "stream",
     "text": [
      ".50...60...70...80...90...100 - done.\n",
      "Done: 0\n",
      "Doing: B3.tif\n",
      "Input file size is 829, 1222\n",
      "0...10...20...30...40...50...60...70...80...90...100 - done.\n",
      "Done: 0\n",
      "Doing: B4.tif\n",
      "Input file size is 829, 1222\n",
      "0...10...20...30..."
     ]
    },
    {
     "name": "stderr",
     "output_type": "stream",
     "text": [
      "Warning 1: for band 1, nodata value has been rounded to -2147483648, Int32 being an integer datatype.\n"
     ]
    },
    {
     "name": "stdout",
     "output_type": "stream",
     "text": [
      "40...50...60...70...80...90...100 - done.\n",
      "Done: 0\n",
      "Doing: B5.tif\n",
      "Input file size is 829, 1222\n",
      "0."
     ]
    },
    {
     "name": "stderr",
     "output_type": "stream",
     "text": [
      "Warning 1: for band 1, nodata value has been rounded to -2147483648, Int32 being an integer datatype.\n",
      "Warning 1: for band 1, nodata value has been rounded to -2147483648, Int32 being an integer datatype.\n"
     ]
    },
    {
     "name": "stdout",
     "output_type": "stream",
     "text": [
      "..10...20...30...40...50...60...70...80...90...100 - done.\n",
      "Done: 0\n",
      "Doing: B6.tif\n",
      "Input file size is 829, 1222\n",
      "0...10...20...30...40...50...60...70...80...90...100 - done.\n",
      "Done: 0\n",
      "Doing: B7.tif\n",
      "Input file size is 829, 1222\n",
      "0...10...20...30."
     ]
    },
    {
     "name": "stderr",
     "output_type": "stream",
     "text": [
      "Warning 1: for band 1, nodata value has been rounded to -2147483648, Int32 being an integer datatype.\n",
      "Warning 1: for band 1, nodata value has been rounded to -2147483648, Int32 being an integer datatype.\n"
     ]
    },
    {
     "name": "stdout",
     "output_type": "stream",
     "text": [
      "..40...50...60...70...80...90...100 - done.\n",
      "Done: 0\n",
      "Doing: B8.tif\n",
      "Input file size is 829, 1222\n",
      "0...10...20...30...40...50...60...70...80...90...100 - done.\n",
      "Done: 0\n",
      "Doing: B9.tif\n",
      "Input file size is 829, 1222\n",
      "0...10...20...30...40...50...60...70...80."
     ]
    },
    {
     "name": "stderr",
     "output_type": "stream",
     "text": [
      "Warning 1: for band 1, nodata value has been rounded to -2147483648, Int32 being an integer datatype.\n",
      "Warning 1: for band 1, nodata value has been rounded to -2147483648, Int32 being an integer datatype.\n"
     ]
    },
    {
     "name": "stdout",
     "output_type": "stream",
     "text": [
      "..90...100 - done.\n",
      "Done: 0\n",
      "Doing: B10.tif\n",
      "Input file size is 829, 1222\n",
      "0...10...20...30...40...50...60...70...80...90...100 - done.\n",
      "Done: 0\n",
      "Doing: B11.tif\n",
      "Input file size is 829, 1222\n",
      "0...10...20...30...40...50...60...70...80...90...100 - done.\n",
      "Done: 0\n",
      "Doing: B12.tif\n"
     ]
    },
    {
     "name": "stderr",
     "output_type": "stream",
     "text": [
      "Warning 1: for band 1, nodata value has been rounded to -2147483648, Int32 being an integer datatype.\n",
      "Warning 1: for band 1, nodata value has been rounded to -2147483648, Int32 being an integer datatype.\n"
     ]
    },
    {
     "name": "stdout",
     "output_type": "stream",
     "text": [
      "Input file size is 829, 1222\n",
      "0...10...20...30...40...50...60...70...80...90...100 - done.\n",
      "Done: 0\n",
      "Doing: B13.tif\n",
      "Input file size is 829, 1222\n",
      "0...10...20."
     ]
    },
    {
     "name": "stderr",
     "output_type": "stream",
     "text": [
      "Warning 1: for band 1, nodata value has been rounded to -2147483648, Int32 being an integer datatype.\n",
      "Warning 1: for band 1, nodata value has been rounded to -2147483648, Int32 being an integer datatype.\n"
     ]
    },
    {
     "name": "stdout",
     "output_type": "stream",
     "text": [
      "..30...40...50...60...70...80...90...100 - done.\n",
      "Done: 0\n",
      "Doing: B14.tif\n",
      "Input file size is 829, 1222\n",
      "0...10...20...30...40...50...60...70...80...90...100 - done.\n",
      "Done: 0\n",
      "Doing: B15.tif\n",
      "Input file size is 829, 1222\n",
      "0...10...20...30...40...50...60...70..."
     ]
    },
    {
     "name": "stderr",
     "output_type": "stream",
     "text": [
      "Warning 1: for band 1, nodata value has been rounded to -2147483648, Int32 being an integer datatype.\n",
      "Warning 1: for band 1, nodata value has been rounded to -2147483648, Int32 being an integer datatype.\n"
     ]
    },
    {
     "name": "stdout",
     "output_type": "stream",
     "text": [
      "80...90...100 - done.\n",
      "Done: 0\n",
      "Doing: B16.tif\n",
      "Input file size is 829, 1222\n",
      "0...10...20...30...40...50...60...70...80...90...100 - done.\n",
      "Done: 0\n",
      "Doing: B17.tif\n",
      "Input file size is 829, 1222\n",
      "0...10...20...30...40...50...60...70...80...90...100 - done.\n",
      "Done: 0\n",
      "Doing: B18.tif\n"
     ]
    },
    {
     "name": "stderr",
     "output_type": "stream",
     "text": [
      "Warning 1: for band 1, nodata value has been rounded to -2147483648, Int32 being an integer datatype.\n"
     ]
    },
    {
     "name": "stdout",
     "output_type": "stream",
     "text": [
      "Input file size is 829, 1222\n",
      "0...10...20...30...40...50...60...70...80...90...100 - done.\n",
      "Done: 0\n",
      "Doing: B19.tif\n"
     ]
    },
    {
     "name": "stderr",
     "output_type": "stream",
     "text": [
      "Warning 1: for band 1, nodata value has been rounded to -2147483648, Int32 being an integer datatype.\n",
      "Warning 1: for band 1, nodata value has been rounded to -2147483648, Int32 being an integer datatype.\n"
     ]
    },
    {
     "name": "stdout",
     "output_type": "stream",
     "text": [
      "Input file size is 829, 1222\n",
      "0...10...20...30...40...50...60...70...80...90...100 - done.\n",
      "Done: 0\n",
      "Doing: ASCII\n",
      "Done: 1\n",
      "Doing: B1.tif\n",
      "Input file size is 829, 1222\n",
      "0...10...20...30...40...50...60...70...80...90"
     ]
    },
    {
     "name": "stderr",
     "output_type": "stream",
     "text": [
      "ERROR 4: `SSP126/2061_2080/EC-Earth3-Veg-LR/ASCII' not recognized as a supported file format.\n",
      "Warning 1: for band 1, nodata value has been rounded to -2147483648, Int32 being an integer datatype.\n"
     ]
    },
    {
     "name": "stdout",
     "output_type": "stream",
     "text": [
      "...100 - done.\n",
      "Done: 0\n",
      "Doing: B2.tif\n",
      "Input file size is 829, 1222\n",
      "0...10...20...30...40...50...60...70...80...90..."
     ]
    },
    {
     "name": "stderr",
     "output_type": "stream",
     "text": [
      "Warning 1: for band 1, nodata value has been rounded to -2147483648, Int32 being an integer datatype.\n",
      "Warning 1: for band 1, nodata value has been rounded to -2147483648, Int32 being an integer datatype.\n"
     ]
    },
    {
     "name": "stdout",
     "output_type": "stream",
     "text": [
      "100 - done.\n",
      "Done: 0\n",
      "Doing: B3.tif\n",
      "Input file size is 829, 1222\n",
      "0...10...20...30...40...50...60...70...80...90...100 - done.\n",
      "Done: 0\n",
      "Doing: B4.tif\n"
     ]
    },
    {
     "name": "stderr",
     "output_type": "stream",
     "text": [
      "Warning 1: for band 1, nodata value has been rounded to -2147483648, Int32 being an integer datatype.\n",
      "Warning 1: for band 1, nodata value has been rounded to -2147483648, Int32 being an integer datatype.\n"
     ]
    },
    {
     "name": "stdout",
     "output_type": "stream",
     "text": [
      "Input file size is 829, 1222\n",
      "0...10...20...30...40...50...60...70...80...90...100 - done.\n",
      "Done: 0\n",
      "Doing: B5.tif\n",
      "Input file size is 829, 1222\n",
      "0...10...20...30...40...50...60...70...80...90...100 - done.\n",
      "Done: 0\n",
      "Doing: B6.tif\n",
      "Input file size is 829, 1222\n",
      "0...10...20...30...40.."
     ]
    },
    {
     "name": "stderr",
     "output_type": "stream",
     "text": [
      "Warning 1: for band 1, nodata value has been rounded to -2147483648, Int32 being an integer datatype.\n",
      "Warning 1: for band 1, nodata value has been rounded to -2147483648, Int32 being an integer datatype.\n"
     ]
    },
    {
     "name": "stdout",
     "output_type": "stream",
     "text": [
      ".50...60...70...80...90...100 - done.\n",
      "Done: 0\n",
      "Doing: B7.tif\n",
      "Input file size is 829, 1222\n",
      "0...10...20...30...40...50...60...70...80...90...100 - done.\n",
      "Done: 0\n",
      "Doing: B8.tif\n",
      "Input file size is 829, 1222\n",
      "0...10...20...30...40...50...60...70...80...90..."
     ]
    },
    {
     "name": "stderr",
     "output_type": "stream",
     "text": [
      "Warning 1: for band 1, nodata value has been rounded to -2147483648, Int32 being an integer datatype.\n",
      "Warning 1: for band 1, nodata value has been rounded to -2147483648, Int32 being an integer datatype.\n"
     ]
    },
    {
     "name": "stdout",
     "output_type": "stream",
     "text": [
      "100 - done.\n",
      "Done: 0\n",
      "Doing: B9.tif\n",
      "Input file size is 829, 1222\n",
      "0...10...20...30...40...50...60...70...80...90...100 - done.\n",
      "Done: 0\n",
      "Doing: B10.tif\n"
     ]
    },
    {
     "name": "stderr",
     "output_type": "stream",
     "text": [
      "Warning 1: for band 1, nodata value has been rounded to -2147483648, Int32 being an integer datatype.\n",
      "Warning 1: for band 1, nodata value has been rounded to -2147483648, Int32 being an integer datatype.\n"
     ]
    },
    {
     "name": "stdout",
     "output_type": "stream",
     "text": [
      "Input file size is 829, 1222\n",
      "0...10...20...30...40...50...60...70...80...90...100 - done.\n",
      "Done: 0\n",
      "Doing: B11.tif\n",
      "Input file size is 829, 1222\n",
      "0...10...20...30...40...50...60...70...80...90...100 - done.\n",
      "Done: 0\n",
      "Doing: B12.tif\n",
      "Input file size is 829, 1222\n",
      "0...10...20...30...40..."
     ]
    },
    {
     "name": "stderr",
     "output_type": "stream",
     "text": [
      "Warning 1: for band 1, nodata value has been rounded to -2147483648, Int32 being an integer datatype.\n",
      "Warning 1: for band 1, nodata value has been rounded to -2147483648, Int32 being an integer datatype.\n"
     ]
    },
    {
     "name": "stdout",
     "output_type": "stream",
     "text": [
      "50...60...70...80...90...100 - done.\n",
      "Done: 0\n",
      "Doing: B13.tif\n",
      "Input file size is 829, 1222\n",
      "0...10...20...30...40...50...60...70...80...90...100 - done.\n",
      "Done: 0\n",
      "Doing: B14.tif\n",
      "Input file size is 829, 1222\n",
      "0...10...20...30...40...50...60...70...80...90..."
     ]
    },
    {
     "name": "stderr",
     "output_type": "stream",
     "text": [
      "Warning 1: for band 1, nodata value has been rounded to -2147483648, Int32 being an integer datatype.\n",
      "Warning 1: for band 1, nodata value has been rounded to -2147483648, Int32 being an integer datatype.\n"
     ]
    },
    {
     "name": "stdout",
     "output_type": "stream",
     "text": [
      "100 - done.\n",
      "Done: 0\n",
      "Doing: B15.tif\n",
      "Input file size is 829, 1222\n",
      "0...10...20...30...40...50...60...70...80...90...100 - done.\n",
      "Done: 0\n",
      "Doing: B16.tif\n"
     ]
    },
    {
     "name": "stderr",
     "output_type": "stream",
     "text": [
      "Warning 1: for band 1, nodata value has been rounded to -2147483648, Int32 being an integer datatype.\n",
      "Warning 1: for band 1, nodata value has been rounded to -2147483648, Int32 being an integer datatype.\n"
     ]
    },
    {
     "name": "stdout",
     "output_type": "stream",
     "text": [
      "Input file size is 829, 1222\n",
      "0...10...20...30...40...50...60...70...80...90...100 - done.\n",
      "Done: 0\n",
      "Doing: B17.tif\n",
      "Input file size is 829, 1222\n",
      "0...10...20...30...40...50...60...70...80...90...100 - done.\n",
      "Done: 0\n",
      "Doing: B18.tif\n",
      "Input file size is 829, 1222\n",
      "0...10...20...30...40..."
     ]
    },
    {
     "name": "stderr",
     "output_type": "stream",
     "text": [
      "Warning 1: for band 1, nodata value has been rounded to -2147483648, Int32 being an integer datatype.\n"
     ]
    },
    {
     "name": "stdout",
     "output_type": "stream",
     "text": [
      "50...60...70...80...90...100 - done.\n",
      "Done: 0\n",
      "Doing: B19.tif\n",
      "Input file size is 829, 1222\n",
      "0...10..."
     ]
    },
    {
     "name": "stderr",
     "output_type": "stream",
     "text": [
      "Warning 1: for band 1, nodata value has been rounded to -2147483648, Int32 being an integer datatype.\n"
     ]
    },
    {
     "name": "stdout",
     "output_type": "stream",
     "text": [
      "20...30...40...50...60...70...80...90...100 - done.\n",
      "Done: 0\n",
      "Doing: ASCII\n"
     ]
    },
    {
     "name": "stderr",
     "output_type": "stream",
     "text": [
      "ERROR 4: `SSP126/2061_2080/FIO-ESM-2-0/ASCII' not recognized as a supported file format.\n",
      "Warning 1: for band 1, nodata value has been rounded to -2147483648, Int32 being an integer datatype.\n"
     ]
    },
    {
     "name": "stdout",
     "output_type": "stream",
     "text": [
      "Done: 1\n",
      "Doing: B1.tif\n",
      "Input file size is 829, 1222\n",
      "0...10...20...30...40...50...60...70...80...90...100 - done.\n",
      "Done: 0\n",
      "Doing: B2.tif\n"
     ]
    },
    {
     "name": "stderr",
     "output_type": "stream",
     "text": [
      "Warning 1: for band 1, nodata value has been rounded to -2147483648, Int32 being an integer datatype.\n",
      "Warning 1: for band 1, nodata value has been rounded to -2147483648, Int32 being an integer datatype.\n"
     ]
    },
    {
     "name": "stdout",
     "output_type": "stream",
     "text": [
      "Input file size is 829, 1222\n",
      "0...10...20...30...40...50...60...70...80...90...100 - done.\n",
      "Done: 0\n",
      "Doing: B3.tif\n",
      "Input file size is 829, 1222\n",
      "0...10...20...30...40...50...60...70...80...90...100 - done.\n",
      "Done: 0\n",
      "Doing: B4.tif\n",
      "Input file size is 829, 1222\n",
      "0...10...20...30...40...50...60...70...80...90...100 - done.\n",
      "Done: 0\n",
      "Doing: B5.tif\n"
     ]
    },
    {
     "name": "stderr",
     "output_type": "stream",
     "text": [
      "Warning 1: for band 1, nodata value has been rounded to -2147483648, Int32 being an integer datatype.\n",
      "Warning 1: for band 1, nodata value has been rounded to -2147483648, Int32 being an integer datatype.\n"
     ]
    },
    {
     "name": "stdout",
     "output_type": "stream",
     "text": [
      "Input file size is 829, 1222\n",
      "0...10...20...30...40...50...60...70...80...90...100 - done.\n",
      "Done: 0\n",
      "Doing: B6.tif\n",
      "Input file size is 829, 1222\n",
      "0...10...20"
     ]
    },
    {
     "name": "stderr",
     "output_type": "stream",
     "text": [
      "Warning 1: for band 1, nodata value has been rounded to -2147483648, Int32 being an integer datatype.\n",
      "Warning 1: for band 1, nodata value has been rounded to -2147483648, Int32 being an integer datatype.\n"
     ]
    },
    {
     "name": "stdout",
     "output_type": "stream",
     "text": [
      "...30...40...50...60...70...80...90...100 - done.\n",
      "Done: 0\n",
      "Doing: B7.tif\n",
      "Input file size is 829, 1222\n",
      "0...10...20...30...40...50...60...70...80...90...100 - done.\n",
      "Done: 0\n",
      "Doing: B8.tif\n",
      "Input file size is 829, 1222\n",
      "0...10...20...30...40...50...60.."
     ]
    },
    {
     "name": "stderr",
     "output_type": "stream",
     "text": [
      "Warning 1: for band 1, nodata value has been rounded to -2147483648, Int32 being an integer datatype.\n",
      "Warning 1: for band 1, nodata value has been rounded to -2147483648, Int32 being an integer datatype.\n"
     ]
    },
    {
     "name": "stdout",
     "output_type": "stream",
     "text": [
      ".70...80...90...100 - done.\n",
      "Done: 0\n",
      "Doing: B9.tif\n",
      "Input file size is 829, 1222\n",
      "0...10...20...30...40...50...60...70...80...90...100 - done.\n",
      "Done: 0\n",
      "Doing: B10.tif\n",
      "Input file size is 829, 1222\n",
      "0...10...20...30...40...50...60...70...80...90..."
     ]
    },
    {
     "name": "stderr",
     "output_type": "stream",
     "text": [
      "Warning 1: for band 1, nodata value has been rounded to -2147483648, Int32 being an integer datatype.\n",
      "Warning 1: for band 1, nodata value has been rounded to -2147483648, Int32 being an integer datatype.\n"
     ]
    },
    {
     "name": "stdout",
     "output_type": "stream",
     "text": [
      "100 - done.\n",
      "Done: 0\n",
      "Doing: B11.tif\n",
      "Input file size is 829, 1222\n",
      "0...10...20...30...40...50...60...70...80...90...100 - done.\n",
      "Done: 0\n",
      "Doing: B12.tif\n"
     ]
    },
    {
     "name": "stderr",
     "output_type": "stream",
     "text": [
      "Warning 1: for band 1, nodata value has been rounded to -2147483648, Int32 being an integer datatype.\n",
      "Warning 1: for band 1, nodata value has been rounded to -2147483648, Int32 being an integer datatype.\n"
     ]
    },
    {
     "name": "stdout",
     "output_type": "stream",
     "text": [
      "Input file size is 829, 1222\n",
      "0...10...20...30...40...50...60...70...80...90...100 - done.\n",
      "Done: 0\n",
      "Doing: B13.tif\n",
      "Input file size is 829, 1222\n",
      "0...10...20...30...40...50...60...70...80...90...100 - done.\n",
      "Done: 0\n",
      "Doing: B14.tif\n",
      "Input file size is 829, 1222\n",
      "0...10...20...30...40...50"
     ]
    },
    {
     "name": "stderr",
     "output_type": "stream",
     "text": [
      "Warning 1: for band 1, nodata value has been rounded to -2147483648, Int32 being an integer datatype.\n",
      "Warning 1: for band 1, nodata value has been rounded to -2147483648, Int32 being an integer datatype.\n"
     ]
    },
    {
     "name": "stdout",
     "output_type": "stream",
     "text": [
      "...60...70...80...90...100 - done.\n",
      "Done: 0\n",
      "Doing: B15.tif\n",
      "Input file size is 829, 1222\n",
      "0...10...20...30...40...50...60...70...80...90...100 - done.\n",
      "Done: 0\n",
      "Doing: B16.tif\n",
      "Input file size is 829, 1222\n",
      "0...10...20...30...40...50...60...70...80...90..."
     ]
    },
    {
     "name": "stderr",
     "output_type": "stream",
     "text": [
      "Warning 1: for band 1, nodata value has been rounded to -2147483648, Int32 being an integer datatype.\n",
      "Warning 1: for band 1, nodata value has been rounded to -2147483648, Int32 being an integer datatype.\n"
     ]
    },
    {
     "name": "stdout",
     "output_type": "stream",
     "text": [
      "100 - done.\n",
      "Done: 0\n",
      "Doing: B17.tif\n",
      "Input file size is 829, 1222\n",
      "0...10...20...30...40...50...60...70...80...90...100 - done.\n",
      "Done: 0\n",
      "Doing: B18.tif\n",
      "Input file size is 829, 1222\n",
      "0...10...20...30...40...50...60...70...80...90...100 - done.\n",
      "Done: 0\n",
      "Doing: B19.tif\n"
     ]
    },
    {
     "name": "stderr",
     "output_type": "stream",
     "text": [
      "Warning 1: for band 1, nodata value has been rounded to -2147483648, Int32 being an integer datatype.\n",
      "Warning 1: for band 1, nodata value has been rounded to -2147483648, Int32 being an integer datatype.\n"
     ]
    },
    {
     "name": "stdout",
     "output_type": "stream",
     "text": [
      "Input file size is 829, 1222\n",
      "0...10...20...30...40...50...60...70...80...90...100 - done.\n",
      "Done: 0\n",
      "Doing: ASCII\n",
      "Done: 1\n",
      "Doing: B1.tif\n"
     ]
    },
    {
     "name": "stderr",
     "output_type": "stream",
     "text": [
      "ERROR 4: `SSP126/2061_2080/GISS-E2-1-G/ASCII' not recognized as a supported file format.\n",
      "Warning 1: for band 1, nodata value has been rounded to -2147483648, Int32 being an integer datatype.\n"
     ]
    },
    {
     "name": "stdout",
     "output_type": "stream",
     "text": [
      "Input file size is 829, 1222\n",
      "0...10...20...30...40...50...60...70...80...90...100 - done.\n",
      "Done: 0\n",
      "Doing: B2.tif\n",
      "Input file size is 829, 1222\n",
      "0...10...20"
     ]
    },
    {
     "name": "stderr",
     "output_type": "stream",
     "text": [
      "Warning 1: for band 1, nodata value has been rounded to -2147483648, Int32 being an integer datatype.\n",
      "Warning 1: for band 1, nodata value has been rounded to -2147483648, Int32 being an integer datatype.\n"
     ]
    },
    {
     "name": "stdout",
     "output_type": "stream",
     "text": [
      "...30...40...50...60...70...80...90...100 - done.\n",
      "Done: 0\n",
      "Doing: B3.tif\n",
      "Input file size is 829, 1222\n",
      "0...10...20...30...40...50...60...70...80...90...100 - done.\n",
      "Done: 0\n",
      "Doing: B4.tif\n",
      "Input file size is 829, 1222\n",
      "0...10...20...30...40...50...60...70.."
     ]
    },
    {
     "name": "stderr",
     "output_type": "stream",
     "text": [
      "Warning 1: for band 1, nodata value has been rounded to -2147483648, Int32 being an integer datatype.\n",
      "Warning 1: for band 1, nodata value has been rounded to -2147483648, Int32 being an integer datatype.\n"
     ]
    },
    {
     "name": "stdout",
     "output_type": "stream",
     "text": [
      ".80...90...100 - done.\n",
      "Done: 0\n",
      "Doing: B5.tif\n",
      "Input file size is 829, 1222\n",
      "0...10...20...30...40...50...60...70...80...90...100 - done.\n",
      "Done: 0\n",
      "Doing: B6.tif\n",
      "Input file size is 829, 1222\n",
      "0...10...20...30...40...50...60...70...80...90...100 - done.\n",
      "Done: 0\n",
      "Doing: B7.tif\n"
     ]
    },
    {
     "name": "stderr",
     "output_type": "stream",
     "text": [
      "Warning 1: for band 1, nodata value has been rounded to -2147483648, Int32 being an integer datatype.\n",
      "Warning 1: for band 1, nodata value has been rounded to -2147483648, Int32 being an integer datatype.\n"
     ]
    },
    {
     "name": "stdout",
     "output_type": "stream",
     "text": [
      "Input file size is 829, 1222\n",
      "0...10...20...30...40...50...60...70...80...90...100 - done.\n",
      "Done: 0\n",
      "Doing: B8.tif\n",
      "Input file size is 829, 1222\n",
      "0."
     ]
    },
    {
     "name": "stderr",
     "output_type": "stream",
     "text": [
      "Warning 1: for band 1, nodata value has been rounded to -2147483648, Int32 being an integer datatype.\n",
      "Warning 1: for band 1, nodata value has been rounded to -2147483648, Int32 being an integer datatype.\n"
     ]
    },
    {
     "name": "stdout",
     "output_type": "stream",
     "text": [
      "..10...20...30...40...50...60...70...80...90...100 - done.\n",
      "Done: 0\n",
      "Doing: B9.tif\n",
      "Input file size is 829, 1222\n",
      "0...10...20...30...40...50...60...70...80...90...100 - done.\n",
      "Done: 0\n",
      "Doing: B10.tif\n",
      "Input file size is 829, 1222\n",
      "0...10...20...30...40...50...60...70...80...90...100 - done.\n",
      "Done: 0\n",
      "Doing: B11.tif\n"
     ]
    },
    {
     "name": "stderr",
     "output_type": "stream",
     "text": [
      "Warning 1: for band 1, nodata value has been rounded to -2147483648, Int32 being an integer datatype.\n",
      "Warning 1: for band 1, nodata value has been rounded to -2147483648, Int32 being an integer datatype.\n"
     ]
    },
    {
     "name": "stdout",
     "output_type": "stream",
     "text": [
      "Input file size is 829, 1222\n",
      "0...10...20...30...40...50...60...70...80...90...100 - done.\n",
      "Done: 0\n",
      "Doing: B12.tif\n",
      "Input file size is 829, 1222\n",
      "0"
     ]
    },
    {
     "name": "stderr",
     "output_type": "stream",
     "text": [
      "Warning 1: for band 1, nodata value has been rounded to -2147483648, Int32 being an integer datatype.\n"
     ]
    },
    {
     "name": "stdout",
     "output_type": "stream",
     "text": [
      "...10...20...30...40...50...60...70...80...90...100 - done.\n",
      "Done: 0\n",
      "Doing: B13.tif\n",
      "Input file size is 829, 1222\n",
      "0...10...20..."
     ]
    },
    {
     "name": "stderr",
     "output_type": "stream",
     "text": [
      "Warning 1: for band 1, nodata value has been rounded to -2147483648, Int32 being an integer datatype.\n",
      "Warning 1: for band 1, nodata value has been rounded to -2147483648, Int32 being an integer datatype.\n"
     ]
    },
    {
     "name": "stdout",
     "output_type": "stream",
     "text": [
      "30...40...50...60...70...80...90...100 - done.\n",
      "Done: 0\n",
      "Doing: B14.tif\n",
      "Input file size is 829, 1222\n",
      "0...10...20...30...40...50...60...70...80...90...100 - done.\n",
      "Done: 0\n",
      "Doing: B15.tif\n",
      "Input file size is 829, 1222\n",
      "0...10...20...30..."
     ]
    },
    {
     "name": "stderr",
     "output_type": "stream",
     "text": [
      "Warning 1: for band 1, nodata value has been rounded to -2147483648, Int32 being an integer datatype.\n"
     ]
    },
    {
     "name": "stdout",
     "output_type": "stream",
     "text": [
      "40...50...60...70...80...90...100 - done.\n",
      "Done: 0\n",
      "Doing: B16.tif\n",
      "Input file size is 829, 1222\n",
      "0...10...20...30...40...50...60...70...80...90...100 - done.\n",
      "Done: 0\n",
      "Doing: B17.tif\n",
      "Input file size is 829, 1222\n",
      "0...10...20.."
     ]
    },
    {
     "name": "stderr",
     "output_type": "stream",
     "text": [
      "Warning 1: for band 1, nodata value has been rounded to -2147483648, Int32 being an integer datatype.\n",
      "Warning 1: for band 1, nodata value has been rounded to -2147483648, Int32 being an integer datatype.\n"
     ]
    },
    {
     "name": "stdout",
     "output_type": "stream",
     "text": [
      ".30...40...50...60...70...80...90...100 - done.\n",
      "Done: 0\n",
      "Doing: B18.tif\n",
      "Input file size is 829, 1222\n",
      "0...10...20...30...40...50."
     ]
    },
    {
     "name": "stderr",
     "output_type": "stream",
     "text": [
      "Warning 1: for band 1, nodata value has been rounded to -2147483648, Int32 being an integer datatype.\n"
     ]
    },
    {
     "name": "stdout",
     "output_type": "stream",
     "text": [
      "..60...70...80...90...100 - done.\n",
      "Done: 0\n",
      "Doing: B19.tif\n",
      "Input file size is 829, 1222\n",
      "0...10...20...30...40...50...60"
     ]
    },
    {
     "name": "stderr",
     "output_type": "stream",
     "text": [
      "Warning 1: for band 1, nodata value has been rounded to -2147483648, Int32 being an integer datatype.\n",
      "ERROR 4: `SSP126/2061_2080/GISS-E2-1-H/ASCII' not recognized as a supported file format.\n"
     ]
    },
    {
     "name": "stdout",
     "output_type": "stream",
     "text": [
      "...70...80...90...100 - done.\n",
      "Done: 0\n",
      "Doing: ASCII\n",
      "Done: 1\n",
      "Doing: B1.tif\n",
      "Input file size is 829, 1222\n",
      "0...10...20...30."
     ]
    },
    {
     "name": "stderr",
     "output_type": "stream",
     "text": [
      "Warning 1: for band 1, nodata value has been rounded to -2147483648, Int32 being an integer datatype.\n",
      "Warning 1: for band 1, nodata value has been rounded to -2147483648, Int32 being an integer datatype.\n"
     ]
    },
    {
     "name": "stdout",
     "output_type": "stream",
     "text": [
      "..40...50...60...70...80...90...100 - done.\n",
      "Done: 0\n",
      "Doing: B2.tif\n",
      "Input file size is 829, 1222\n",
      "0...10...20...30...40...50...60...70...80...90...100 - done.\n",
      "Done: 0\n",
      "Doing: B3.tif\n",
      "Input file size is 829, 1222\n",
      "0...10...20...30...40...50...60...70"
     ]
    },
    {
     "name": "stderr",
     "output_type": "stream",
     "text": [
      "Warning 1: for band 1, nodata value has been rounded to -2147483648, Int32 being an integer datatype.\n",
      "Warning 1: for band 1, nodata value has been rounded to -2147483648, Int32 being an integer datatype.\n"
     ]
    },
    {
     "name": "stdout",
     "output_type": "stream",
     "text": [
      "...80...90...100 - done.\n",
      "Done: 0\n",
      "Doing: B4.tif\n",
      "Input file size is 829, 1222\n",
      "0...10...20...30...40...50...60...70...80...90...100 - done.\n",
      "Done: 0\n",
      "Doing: B5.tif\n",
      "Input file size is 829, 1222\n",
      "0.."
     ]
    },
    {
     "name": "stderr",
     "output_type": "stream",
     "text": [
      "Warning 1: for band 1, nodata value has been rounded to -2147483648, Int32 being an integer datatype.\n",
      "Warning 1: for band 1, nodata value has been rounded to -2147483648, Int32 being an integer datatype.\n"
     ]
    },
    {
     "name": "stdout",
     "output_type": "stream",
     "text": [
      ".10...20...30...40...50...60...70...80...90...100 - done.\n",
      "Done: 0\n",
      "Doing: B6.tif\n",
      "Input file size is 829, 1222\n",
      "0...10...20...30...40...50...60...70...80...90...100 - done.\n",
      "Done: 0\n",
      "Doing: B7.tif\n"
     ]
    },
    {
     "name": "stderr",
     "output_type": "stream",
     "text": [
      "Warning 1: for band 1, nodata value has been rounded to -2147483648, Int32 being an integer datatype.\n",
      "Warning 1: for band 1, nodata value has been rounded to -2147483648, Int32 being an integer datatype.\n"
     ]
    },
    {
     "name": "stdout",
     "output_type": "stream",
     "text": [
      "Input file size is 829, 1222\n",
      "0...10...20...30...40...50...60...70...80...90...100 - done.\n",
      "Done: 0\n",
      "Doing: B8.tif\n",
      "Input file size is 829, 1222\n",
      "0...10...20...30...40...50...60...70...80...90...100 - done.\n",
      "Done: 0\n",
      "Doing: B9.tif\n",
      "Input file size is 829, 1222\n",
      "0...10...20...30...40.."
     ]
    },
    {
     "name": "stderr",
     "output_type": "stream",
     "text": [
      "Warning 1: for band 1, nodata value has been rounded to -2147483648, Int32 being an integer datatype.\n",
      "Warning 1: for band 1, nodata value has been rounded to -2147483648, Int32 being an integer datatype.\n"
     ]
    },
    {
     "name": "stdout",
     "output_type": "stream",
     "text": [
      ".50...60...70...80...90...100 - done.\n",
      "Done: 0\n",
      "Doing: B10.tif\n",
      "Input file size is 829, 1222\n",
      "0...10...20...30...40...50...60...70...80...90...100 - done.\n",
      "Done: 0\n",
      "Doing: B11.tif\n",
      "Input file size is 829, 1222\n",
      "0"
     ]
    },
    {
     "name": "stderr",
     "output_type": "stream",
     "text": [
      "Warning 1: for band 1, nodata value has been rounded to -2147483648, Int32 being an integer datatype.\n"
     ]
    },
    {
     "name": "stdout",
     "output_type": "stream",
     "text": [
      "...10...20...30...40...50...60...70...80...90...100 - done.\n",
      "Done: 0\n",
      "Doing: B12.tif\n"
     ]
    },
    {
     "name": "stderr",
     "output_type": "stream",
     "text": [
      "Warning 1: for band 1, nodata value has been rounded to -2147483648, Int32 being an integer datatype.\n"
     ]
    },
    {
     "name": "stdout",
     "output_type": "stream",
     "text": [
      "Input file size is 829, 1222\n",
      "0...10...20...30...40...50...60...70...80...90...100 - done.\n",
      "Done: 0\n",
      "Doing: B13.tif\n",
      "Input file size is 829, 1222\n",
      "0"
     ]
    },
    {
     "name": "stderr",
     "output_type": "stream",
     "text": [
      "Warning 1: for band 1, nodata value has been rounded to -2147483648, Int32 being an integer datatype.\n"
     ]
    },
    {
     "name": "stdout",
     "output_type": "stream",
     "text": [
      "...10...20...30...40...50...60...70...80...90...100 - done.\n",
      "Done: 0\n",
      "Doing: B14.tif\n",
      "Input file size is 829, 1222\n",
      "0...10.."
     ]
    },
    {
     "name": "stderr",
     "output_type": "stream",
     "text": [
      "Warning 1: for band 1, nodata value has been rounded to -2147483648, Int32 being an integer datatype.\n",
      "Warning 1: for band 1, nodata value has been rounded to -2147483648, Int32 being an integer datatype.\n"
     ]
    },
    {
     "name": "stdout",
     "output_type": "stream",
     "text": [
      ".20...30...40...50...60...70...80...90...100 - done.\n",
      "Done: 0\n",
      "Doing: B15.tif\n",
      "Input file size is 829, 1222\n",
      "0...10...20...30...40...50...60...70...80...90...100 - done.\n",
      "Done: 0\n",
      "Doing: B16.tif\n",
      "Input file size is 829, 1222\n",
      "0.."
     ]
    },
    {
     "name": "stderr",
     "output_type": "stream",
     "text": [
      "Warning 1: for band 1, nodata value has been rounded to -2147483648, Int32 being an integer datatype.\n",
      "Warning 1: for band 1, nodata value has been rounded to -2147483648, Int32 being an integer datatype.\n"
     ]
    },
    {
     "name": "stdout",
     "output_type": "stream",
     "text": [
      ".10...20...30...40...50...60...70...80...90...100 - done.\n",
      "Done: 0\n",
      "Doing: B17.tif\n",
      "Input file size is 829, 1222\n",
      "0...10...20...30...40...50...60...70...80...90...100 - done.\n",
      "Done: 0\n",
      "Doing: B18.tif\n"
     ]
    },
    {
     "name": "stderr",
     "output_type": "stream",
     "text": [
      "Warning 1: for band 1, nodata value has been rounded to -2147483648, Int32 being an integer datatype.\n",
      "Warning 1: for band 1, nodata value has been rounded to -2147483648, Int32 being an integer datatype.\n"
     ]
    },
    {
     "name": "stdout",
     "output_type": "stream",
     "text": [
      "Input file size is 829, 1222\n",
      "0...10...20...30...40...50...60...70...80...90...100 - done.\n",
      "Done: 0\n",
      "Doing: B19.tif\n",
      "Input file size is 829, 1222\n",
      "0...10...20...30...40...50...60...70...80...90...100 - done.\n",
      "Done: 0\n",
      "Doing: ASCII\n",
      "Done: 1\n",
      "Doing: B1.tif\n"
     ]
    },
    {
     "name": "stderr",
     "output_type": "stream",
     "text": [
      "ERROR 4: `SSP126/2061_2080/HadGEM3-GC31-LL/ASCII' not recognized as a supported file format.\n",
      "Warning 1: for band 1, nodata value has been rounded to -2147483648, Int32 being an integer datatype.\n"
     ]
    },
    {
     "name": "stdout",
     "output_type": "stream",
     "text": [
      "Input file size is 829, 1222\n",
      "0...10...20...30...40...50...60...70...80...90...100 - done.\n",
      "Done: 0\n",
      "Doing: B2.tif\n",
      "Input file size is 829, 1222\n",
      "0...10.."
     ]
    },
    {
     "name": "stderr",
     "output_type": "stream",
     "text": [
      "Warning 1: for band 1, nodata value has been rounded to -2147483648, Int32 being an integer datatype.\n",
      "Warning 1: for band 1, nodata value has been rounded to -2147483648, Int32 being an integer datatype.\n"
     ]
    },
    {
     "name": "stdout",
     "output_type": "stream",
     "text": [
      ".20...30...40...50...60...70...80...90...100 - done.\n",
      "Done: 0\n",
      "Doing: B3.tif\n",
      "Input file size is 829, 1222\n",
      "0...10...20...30...40...50...60...70...80...90...100 - done.\n",
      "Done: 0\n",
      "Doing: B4.tif\n",
      "Input file size is 829, 1222\n",
      "0...10...20...30...40...50..."
     ]
    },
    {
     "name": "stderr",
     "output_type": "stream",
     "text": [
      "Warning 1: for band 1, nodata value has been rounded to -2147483648, Int32 being an integer datatype.\n",
      "Warning 1: for band 1, nodata value has been rounded to -2147483648, Int32 being an integer datatype.\n"
     ]
    },
    {
     "name": "stdout",
     "output_type": "stream",
     "text": [
      "60...70...80...90...100 - done.\n",
      "Done: 0\n",
      "Doing: B5.tif\n",
      "Input file size is 829, 1222\n",
      "0...10...20...30...40...50...60...70...80...90...100 - done.\n",
      "Done: 0\n",
      "Doing: B6.tif\n",
      "Input file size is 829, 1222\n",
      "0...10...20...30...40...50...60...70...80."
     ]
    },
    {
     "name": "stderr",
     "output_type": "stream",
     "text": [
      "Warning 1: for band 1, nodata value has been rounded to -2147483648, Int32 being an integer datatype.\n",
      "Warning 1: for band 1, nodata value has been rounded to -2147483648, Int32 being an integer datatype.\n"
     ]
    },
    {
     "name": "stdout",
     "output_type": "stream",
     "text": [
      "..90...100 - done.\n",
      "Done: 0\n",
      "Doing: B7.tif\n",
      "Input file size is 829, 1222\n",
      "0...10...20...30...40...50...60...70...80...90...100 - done.\n",
      "Done: 0\n",
      "Doing: B8.tif\n",
      "Input file size is 829, 1222\n",
      "0...10...20...30...40...50...60...70...80...90...100 - done.\n",
      "Done: 0\n",
      "Doing: B9.tif\n"
     ]
    },
    {
     "name": "stderr",
     "output_type": "stream",
     "text": [
      "Warning 1: for band 1, nodata value has been rounded to -2147483648, Int32 being an integer datatype.\n",
      "Warning 1: for band 1, nodata value has been rounded to -2147483648, Int32 being an integer datatype.\n"
     ]
    },
    {
     "name": "stdout",
     "output_type": "stream",
     "text": [
      "Input file size is 829, 1222\n",
      "0...10...20...30...40...50...60...70...80...90...100 - done.\n",
      "Done: 0\n",
      "Doing: B10.tif\n",
      "Input file size is 829, 1222\n",
      "0...10...20...30...40...50...60...70...80...90...100 - done.\n",
      "Done: 0\n",
      "Doing: B11.tif\n"
     ]
    },
    {
     "name": "stderr",
     "output_type": "stream",
     "text": [
      "Warning 1: for band 1, nodata value has been rounded to -2147483648, Int32 being an integer datatype.\n",
      "Warning 1: for band 1, nodata value has been rounded to -2147483648, Int32 being an integer datatype.\n"
     ]
    },
    {
     "name": "stdout",
     "output_type": "stream",
     "text": [
      "Input file size is 829, 1222\n",
      "0...10...20...30...40...50...60...70...80...90...100 - done.\n",
      "Done: 0\n",
      "Doing: B12.tif\n",
      "Input file size is 829, 1222\n",
      "0...10..."
     ]
    },
    {
     "name": "stderr",
     "output_type": "stream",
     "text": [
      "Warning 1: for band 1, nodata value has been rounded to -2147483648, Int32 being an integer datatype.\n",
      "Warning 1: for band 1, nodata value has been rounded to -2147483648, Int32 being an integer datatype.\n"
     ]
    },
    {
     "name": "stdout",
     "output_type": "stream",
     "text": [
      "20...30...40...50...60...70...80...90...100 - done.\n",
      "Done: 0\n",
      "Doing: B13.tif\n",
      "Input file size is 829, 1222\n",
      "0...10...20...30...40...50...60...70...80...90...100 - done.\n",
      "Done: 0\n",
      "Doing: B14.tif\n",
      "Input file size is 829, 1222\n",
      "0...10...20...30...40...50...60...70"
     ]
    },
    {
     "name": "stderr",
     "output_type": "stream",
     "text": [
      "Warning 1: for band 1, nodata value has been rounded to -2147483648, Int32 being an integer datatype.\n",
      "Warning 1: for band 1, nodata value has been rounded to -2147483648, Int32 being an integer datatype.\n"
     ]
    },
    {
     "name": "stdout",
     "output_type": "stream",
     "text": [
      "...80...90...100 - done.\n",
      "Done: 0\n",
      "Doing: B15.tif\n",
      "Input file size is 829, 1222\n",
      "0...10...20...30...40...50...60...70...80...90...100 - done.\n",
      "Done: 0\n",
      "Doing: B16.tif\n",
      "Input file size is 829, 1222\n",
      "0...10...20...30...40...50...60...70...80...90...100 - done.\n",
      "Done: 0\n",
      "Doing: B17.tif\n"
     ]
    },
    {
     "name": "stderr",
     "output_type": "stream",
     "text": [
      "Warning 1: for band 1, nodata value has been rounded to -2147483648, Int32 being an integer datatype.\n",
      "Warning 1: for band 1, nodata value has been rounded to -2147483648, Int32 being an integer datatype.\n"
     ]
    },
    {
     "name": "stdout",
     "output_type": "stream",
     "text": [
      "Input file size is 829, 1222\n",
      "0...10...20...30...40...50...60...70...80...90...100 - done.\n",
      "Done: 0\n",
      "Doing: B18.tif\n",
      "Input file size is 829, 1222\n",
      "0...10...20.."
     ]
    },
    {
     "name": "stderr",
     "output_type": "stream",
     "text": [
      "Warning 1: for band 1, nodata value has been rounded to -2147483648, Int32 being an integer datatype.\n",
      "Warning 1: for band 1, nodata value has been rounded to -2147483648, Int32 being an integer datatype.\n"
     ]
    },
    {
     "name": "stdout",
     "output_type": "stream",
     "text": [
      ".30...40...50...60...70...80...90...100 - done.\n",
      "Done: 0\n",
      "Doing: B19.tif\n",
      "Input file size is 829, 1222\n",
      "0...10...20...30...40...50...60...70...80...90...100 - done.\n",
      "Done: 0\n",
      "Doing: ASCII\n",
      "Done: 1\n",
      "Doing: B1.tif\n",
      "Input file size is 829, 1222\n",
      "0."
     ]
    },
    {
     "name": "stderr",
     "output_type": "stream",
     "text": [
      "ERROR 4: `SSP126/2061_2080/INM-CM4-8/ASCII' not recognized as a supported file format.\n",
      "Warning 1: for band 1, nodata value has been rounded to -2147483648, Int32 being an integer datatype.\n"
     ]
    },
    {
     "name": "stdout",
     "output_type": "stream",
     "text": [
      "..10...20...30...40...50...60...70...80...90...100 - done.\n",
      "Done: 0\n",
      "Doing: B2.tif\n",
      "Input file size is 829, 1222\n",
      "0...10...20.."
     ]
    },
    {
     "name": "stderr",
     "output_type": "stream",
     "text": [
      "Warning 1: for band 1, nodata value has been rounded to -2147483648, Int32 being an integer datatype.\n"
     ]
    },
    {
     "name": "stdout",
     "output_type": "stream",
     "text": [
      ".30...40...50...60...70...80...90...100 - done.\n",
      "Done: 0\n",
      "Doing: B3.tif\n"
     ]
    },
    {
     "name": "stderr",
     "output_type": "stream",
     "text": [
      "Warning 1: for band 1, nodata value has been rounded to -2147483648, Int32 being an integer datatype.\n"
     ]
    },
    {
     "name": "stdout",
     "output_type": "stream",
     "text": [
      "Input file size is 829, 1222\n",
      "0...10...20...30...40...50...60...70...80...90...100 - done.\n",
      "Done: 0\n",
      "Doing: B4.tif\n",
      "Input file size is 829, 1222\n",
      "0...10...20...30...40...50...60...70...80...90...100 - done.\n",
      "Done: 0\n",
      "Doing: B5.tif\n"
     ]
    },
    {
     "name": "stderr",
     "output_type": "stream",
     "text": [
      "Warning 1: for band 1, nodata value has been rounded to -2147483648, Int32 being an integer datatype.\n",
      "Warning 1: for band 1, nodata value has been rounded to -2147483648, Int32 being an integer datatype.\n"
     ]
    },
    {
     "name": "stdout",
     "output_type": "stream",
     "text": [
      "Input file size is 829, 1222\n",
      "0...10...20...30...40...50...60...70...80...90...100 - done.\n",
      "Done: 0\n",
      "Doing: B6.tif\n",
      "Input file size is 829, 1222\n",
      "0...10...20.."
     ]
    },
    {
     "name": "stderr",
     "output_type": "stream",
     "text": [
      "Warning 1: for band 1, nodata value has been rounded to -2147483648, Int32 being an integer datatype.\n",
      "Warning 1: for band 1, nodata value has been rounded to -2147483648, Int32 being an integer datatype.\n"
     ]
    },
    {
     "name": "stdout",
     "output_type": "stream",
     "text": [
      ".30...40...50...60...70...80...90...100 - done.\n",
      "Done: 0\n",
      "Doing: B7.tif\n",
      "Input file size is 829, 1222\n",
      "0...10...20...30...40...50...60...70...80...90...100 - done.\n",
      "Done: 0\n",
      "Doing: B8.tif\n",
      "Input file size is 829, 1222\n",
      "0...10...20...30...40...50...60...70..."
     ]
    },
    {
     "name": "stderr",
     "output_type": "stream",
     "text": [
      "Warning 1: for band 1, nodata value has been rounded to -2147483648, Int32 being an integer datatype.\n",
      "Warning 1: for band 1, nodata value has been rounded to -2147483648, Int32 being an integer datatype.\n"
     ]
    },
    {
     "name": "stdout",
     "output_type": "stream",
     "text": [
      "80...90...100 - done.\n",
      "Done: 0\n",
      "Doing: B9.tif\n",
      "Input file size is 829, 1222\n",
      "0...10...20...30...40...50...60...70...80...90...100 - done.\n",
      "Done: 0\n",
      "Doing: B10.tif\n",
      "Input file size is 829, 1222\n",
      "0...10...20...30...40...50...60...70...80...90..."
     ]
    },
    {
     "name": "stderr",
     "output_type": "stream",
     "text": [
      "Warning 1: for band 1, nodata value has been rounded to -2147483648, Int32 being an integer datatype.\n",
      "Warning 1: for band 1, nodata value has been rounded to -2147483648, Int32 being an integer datatype.\n"
     ]
    },
    {
     "name": "stdout",
     "output_type": "stream",
     "text": [
      "100 - done.\n",
      "Done: 0\n",
      "Doing: B11.tif\n",
      "Input file size is 829, 1222\n",
      "0...10...20...30...40...50...60...70...80...90...100 - done.\n",
      "Done: 0\n",
      "Doing: B12.tif\n"
     ]
    },
    {
     "name": "stderr",
     "output_type": "stream",
     "text": [
      "Warning 1: for band 1, nodata value has been rounded to -2147483648, Int32 being an integer datatype.\n",
      "Warning 1: for band 1, nodata value has been rounded to -2147483648, Int32 being an integer datatype.\n"
     ]
    },
    {
     "name": "stdout",
     "output_type": "stream",
     "text": [
      "Input file size is 829, 1222\n",
      "0...10...20...30...40...50...60...70...80...90...100 - done.\n",
      "Done: 0\n",
      "Doing: B13.tif\n",
      "Input file size is 829, 1222\n",
      "0...10...20...30...40...50...60...70...80...90...100 - done.\n",
      "Done: 0\n",
      "Doing: B14.tif\n",
      "Input file size is 829, 1222\n",
      "0...10...20...30...40...50."
     ]
    },
    {
     "name": "stderr",
     "output_type": "stream",
     "text": [
      "Warning 1: for band 1, nodata value has been rounded to -2147483648, Int32 being an integer datatype.\n",
      "Warning 1: for band 1, nodata value has been rounded to -2147483648, Int32 being an integer datatype.\n"
     ]
    },
    {
     "name": "stdout",
     "output_type": "stream",
     "text": [
      "..60...70...80...90...100 - done.\n",
      "Done: 0\n",
      "Doing: B15.tif\n",
      "Input file size is 829, 1222\n",
      "0...10...20...30...40...50...60...70...80...90...100 - done.\n",
      "Done: 0\n",
      "Doing: B16.tif\n",
      "Input file size is 829, 1222\n",
      "0...10...20...30...40...50.."
     ]
    },
    {
     "name": "stderr",
     "output_type": "stream",
     "text": [
      "Warning 1: for band 1, nodata value has been rounded to -2147483648, Int32 being an integer datatype.\n",
      "Warning 1: for band 1, nodata value has been rounded to -2147483648, Int32 being an integer datatype.\n"
     ]
    },
    {
     "name": "stdout",
     "output_type": "stream",
     "text": [
      ".60...70...80...90...100 - done.\n",
      "Done: 0\n",
      "Doing: B17.tif\n",
      "Input file size is 829, 1222\n",
      "0...10...20...30...40...50...60...70...80...90...100 - done.\n",
      "Done: 0\n",
      "Doing: B18.tif\n",
      "Input file size is 829, 1222\n",
      "0...10...20...30...40...50...60...70...80"
     ]
    },
    {
     "name": "stderr",
     "output_type": "stream",
     "text": [
      "Warning 1: for band 1, nodata value has been rounded to -2147483648, Int32 being an integer datatype.\n",
      "Warning 1: for band 1, nodata value has been rounded to -2147483648, Int32 being an integer datatype.\n"
     ]
    },
    {
     "name": "stdout",
     "output_type": "stream",
     "text": [
      "...90...100 - done.\n",
      "Done: 0\n",
      "Doing: B19.tif\n",
      "Input file size is 829, 1222\n",
      "0...10...20...30...40...50...60...70...80...90...100 - done.\n",
      "Done: 0\n",
      "Doing: ASCII\n",
      "Done: 1\n",
      "Doing: B1.tif\n",
      "Input file size is 829, 1222\n",
      "0...10...20...30...40...50...60...70...80...90."
     ]
    },
    {
     "name": "stderr",
     "output_type": "stream",
     "text": [
      "ERROR 4: `SSP126/2061_2080/INM-CM5-0/ASCII' not recognized as a supported file format.\n",
      "Warning 1: for band 1, nodata value has been rounded to -2147483648, Int32 being an integer datatype.\n"
     ]
    },
    {
     "name": "stdout",
     "output_type": "stream",
     "text": [
      "..100 - done.\n",
      "Done: 0\n",
      "Doing: B2.tif\n",
      "Input file size is 829, 1222\n",
      "0...10...20...30...40...50...60...70...80...90..."
     ]
    },
    {
     "name": "stderr",
     "output_type": "stream",
     "text": [
      "Warning 1: for band 1, nodata value has been rounded to -2147483648, Int32 being an integer datatype.\n",
      "Warning 1: for band 1, nodata value has been rounded to -2147483648, Int32 being an integer datatype.\n"
     ]
    },
    {
     "name": "stdout",
     "output_type": "stream",
     "text": [
      "100 - done.\n",
      "Done: 0\n",
      "Doing: B3.tif\n",
      "Input file size is 829, 1222\n",
      "0...10...20...30...40...50...60...70...80...90...100 - done.\n",
      "Done: 0\n",
      "Doing: B4.tif\n",
      "Input file size is 829, 1222\n",
      "0...10...20...30...40...50...60...70...80...90...100 - done.\n",
      "Done: 0\n",
      "Doing: B5.tif\n",
      "Input file size is 829, 1222\n",
      "0...10...20.."
     ]
    },
    {
     "name": "stderr",
     "output_type": "stream",
     "text": [
      "Warning 1: for band 1, nodata value has been rounded to -2147483648, Int32 being an integer datatype.\n",
      "Warning 1: for band 1, nodata value has been rounded to -2147483648, Int32 being an integer datatype.\n"
     ]
    },
    {
     "name": "stdout",
     "output_type": "stream",
     "text": [
      ".30...40...50...60...70...80...90...100 - done.\n",
      "Done: 0\n",
      "Doing: B6.tif\n",
      "Input file size is 829, 1222\n",
      "0...10...20...30...40..."
     ]
    },
    {
     "name": "stderr",
     "output_type": "stream",
     "text": [
      "Warning 1: for band 1, nodata value has been rounded to -2147483648, Int32 being an integer datatype.\n",
      "Warning 1: for band 1, nodata value has been rounded to -2147483648, Int32 being an integer datatype.\n"
     ]
    },
    {
     "name": "stdout",
     "output_type": "stream",
     "text": [
      "50...60...70...80...90...100 - done.\n",
      "Done: 0\n",
      "Doing: B7.tif\n",
      "Input file size is 829, 1222\n",
      "0...10...20...30...40...50...60...70...80...90...100 - done.\n",
      "Done: 0\n",
      "Doing: B8.tif\n",
      "Input file size is 829, 1222\n",
      "0...10...20...30...40...50...60...70...80...90..."
     ]
    },
    {
     "name": "stderr",
     "output_type": "stream",
     "text": [
      "Warning 1: for band 1, nodata value has been rounded to -2147483648, Int32 being an integer datatype.\n",
      "Warning 1: for band 1, nodata value has been rounded to -2147483648, Int32 being an integer datatype.\n"
     ]
    },
    {
     "name": "stdout",
     "output_type": "stream",
     "text": [
      "100 - done.\n",
      "Done: 0\n",
      "Doing: B9.tif\n",
      "Input file size is 829, 1222\n",
      "0...10...20...30...40...50...60...70...80...90...100 - done.\n",
      "Done: 0\n",
      "Doing: B10.tif\n"
     ]
    },
    {
     "name": "stderr",
     "output_type": "stream",
     "text": [
      "Warning 1: for band 1, nodata value has been rounded to -2147483648, Int32 being an integer datatype.\n",
      "Warning 1: for band 1, nodata value has been rounded to -2147483648, Int32 being an integer datatype.\n"
     ]
    },
    {
     "name": "stdout",
     "output_type": "stream",
     "text": [
      "Input file size is 829, 1222\n",
      "0...10...20...30...40...50...60...70...80...90...100 - done.\n",
      "Done: 0\n",
      "Doing: B11.tif\n",
      "Input file size is 829, 1222\n",
      "0...10...20...30...40...50...60...70...80...90...100 - done.\n",
      "Done: 0\n",
      "Doing: B12.tif\n",
      "Input file size is 829, 1222\n",
      "0...10...20...30...40...50."
     ]
    },
    {
     "name": "stderr",
     "output_type": "stream",
     "text": [
      "Warning 1: for band 1, nodata value has been rounded to -2147483648, Int32 being an integer datatype.\n",
      "Warning 1: for band 1, nodata value has been rounded to -2147483648, Int32 being an integer datatype.\n"
     ]
    },
    {
     "name": "stdout",
     "output_type": "stream",
     "text": [
      "..60...70...80...90...100 - done.\n",
      "Done: 0\n",
      "Doing: B13.tif\n",
      "Input file size is 829, 1222\n",
      "0...10...20...30...40...50...60...70...80...90...100 - done.\n",
      "Done: 0\n",
      "Doing: B14.tif\n",
      "Input file size is 829, 1222\n",
      "0...10...20...30...40...50...60...70...80...90..."
     ]
    },
    {
     "name": "stderr",
     "output_type": "stream",
     "text": [
      "Warning 1: for band 1, nodata value has been rounded to -2147483648, Int32 being an integer datatype.\n",
      "Warning 1: for band 1, nodata value has been rounded to -2147483648, Int32 being an integer datatype.\n"
     ]
    },
    {
     "name": "stdout",
     "output_type": "stream",
     "text": [
      "100 - done.\n",
      "Done: 0\n",
      "Doing: B15.tif\n",
      "Input file size is 829, 1222\n",
      "0...10...20...30...40...50...60...70...80...90...100 - done.\n",
      "Done: 0\n",
      "Doing: B16.tif\n"
     ]
    },
    {
     "name": "stderr",
     "output_type": "stream",
     "text": [
      "Warning 1: for band 1, nodata value has been rounded to -2147483648, Int32 being an integer datatype.\n"
     ]
    },
    {
     "name": "stdout",
     "output_type": "stream",
     "text": [
      "Input file size is 829, 1222\n",
      "0...10...20...30...40...50...60...70...80...90...100 - done.\n",
      "Done: 0\n",
      "Doing: B17.tif\n"
     ]
    },
    {
     "name": "stderr",
     "output_type": "stream",
     "text": [
      "Warning 1: for band 1, nodata value has been rounded to -2147483648, Int32 being an integer datatype.\n",
      "Warning 1: for band 1, nodata value has been rounded to -2147483648, Int32 being an integer datatype.\n"
     ]
    },
    {
     "name": "stdout",
     "output_type": "stream",
     "text": [
      "Input file size is 829, 1222\n",
      "0...10...20...30...40...50...60...70...80...90...100 - done.\n",
      "Done: 0\n",
      "Doing: B18.tif\n",
      "Input file size is 829, 1222\n",
      "0...10...20...30...40...50...60...70...80...90...100 - done.\n",
      "Done: 0\n",
      "Doing: B19.tif\n",
      "Input file size is 829, 1222\n",
      "0...10."
     ]
    },
    {
     "name": "stderr",
     "output_type": "stream",
     "text": [
      "Warning 1: for band 1, nodata value has been rounded to -2147483648, Int32 being an integer datatype.\n"
     ]
    },
    {
     "name": "stdout",
     "output_type": "stream",
     "text": [
      "..20...30...40...50...60...70...80...90...100 - done.\n",
      "Done: 0\n",
      "Doing: ASCII\n"
     ]
    },
    {
     "name": "stderr",
     "output_type": "stream",
     "text": [
      "ERROR 4: `SSP126/2061_2080/IPSL-CM6A-LR/ASCII' not recognized as a supported file format.\n",
      "Warning 1: for band 1, nodata value has been rounded to -2147483648, Int32 being an integer datatype.\n"
     ]
    },
    {
     "name": "stdout",
     "output_type": "stream",
     "text": [
      "Done: 1\n",
      "Doing: B1.tif\n",
      "Input file size is 829, 1222\n",
      "0...10...20...30...40...50...60...70...80...90...100 - done.\n",
      "Done: 0\n",
      "Doing: B2.tif\n",
      "Input file size is 829, 1222\n",
      "0...10.."
     ]
    },
    {
     "name": "stderr",
     "output_type": "stream",
     "text": [
      "Warning 1: for band 1, nodata value has been rounded to -2147483648, Int32 being an integer datatype.\n"
     ]
    },
    {
     "name": "stdout",
     "output_type": "stream",
     "text": [
      ".20...30...40...50...60...70...80...90...100 - done.\n",
      "Done: 0\n",
      "Doing: B3.tif\n",
      "Input file size is 829, 1222\n",
      "0...10...20...30...40...50...60...70."
     ]
    },
    {
     "name": "stderr",
     "output_type": "stream",
     "text": [
      "Warning 1: for band 1, nodata value has been rounded to -2147483648, Int32 being an integer datatype.\n"
     ]
    },
    {
     "name": "stdout",
     "output_type": "stream",
     "text": [
      "..80...90...100 - done.\n",
      "Done: 0\n",
      "Doing: B4.tif\n",
      "Input file size is 829, 1222\n",
      "0...10...20...30...40...50...60...70...80..."
     ]
    },
    {
     "name": "stderr",
     "output_type": "stream",
     "text": [
      "Warning 1: for band 1, nodata value has been rounded to -2147483648, Int32 being an integer datatype.\n",
      "Warning 1: for band 1, nodata value has been rounded to -2147483648, Int32 being an integer datatype.\n"
     ]
    },
    {
     "name": "stdout",
     "output_type": "stream",
     "text": [
      "90...100 - done.\n",
      "Done: 0\n",
      "Doing: B5.tif\n",
      "Input file size is 829, 1222\n",
      "0...10...20...30...40...50...60...70...80...90...100 - done.\n",
      "Done: 0\n",
      "Doing: B6.tif\n",
      "Input file size is 829, 1222\n",
      "0...10...20...30...40...50...60...70...80...90..."
     ]
    },
    {
     "name": "stderr",
     "output_type": "stream",
     "text": [
      "Warning 1: for band 1, nodata value has been rounded to -2147483648, Int32 being an integer datatype.\n"
     ]
    },
    {
     "name": "stdout",
     "output_type": "stream",
     "text": [
      "100 - done.\n",
      "Done: 0\n",
      "Doing: B7.tif\n",
      "Input file size is 829, 1222\n",
      "0...10...20...30...40...50...60...70...80...90..."
     ]
    },
    {
     "name": "stderr",
     "output_type": "stream",
     "text": [
      "Warning 1: for band 1, nodata value has been rounded to -2147483648, Int32 being an integer datatype.\n"
     ]
    },
    {
     "name": "stdout",
     "output_type": "stream",
     "text": [
      "100 - done.\n",
      "Done: 0\n",
      "Doing: B8.tif\n",
      "Input file size is 829, 1222\n",
      "0...10...20...30...40...50...60...70...80.."
     ]
    },
    {
     "name": "stderr",
     "output_type": "stream",
     "text": [
      "Warning 1: for band 1, nodata value has been rounded to -2147483648, Int32 being an integer datatype.\n"
     ]
    },
    {
     "name": "stdout",
     "output_type": "stream",
     "text": [
      ".90...100 - done.\n",
      "Done: 0\n",
      "Doing: B9.tif\n",
      "Input file size is 829, 1222\n",
      "0...10...20...30...40...50...60...70.."
     ]
    },
    {
     "name": "stderr",
     "output_type": "stream",
     "text": [
      "Warning 1: for band 1, nodata value has been rounded to -2147483648, Int32 being an integer datatype.\n"
     ]
    },
    {
     "name": "stdout",
     "output_type": "stream",
     "text": [
      ".80...90...100 - done.\n",
      "Done: 0\n",
      "Doing: B10.tif\n",
      "Input file size is 829, 1222\n",
      "0...10...20...30...40...50"
     ]
    },
    {
     "name": "stderr",
     "output_type": "stream",
     "text": [
      "Warning 1: for band 1, nodata value has been rounded to -2147483648, Int32 being an integer datatype.\n",
      "Warning 1: for band 1, nodata value has been rounded to -2147483648, Int32 being an integer datatype.\n"
     ]
    },
    {
     "name": "stdout",
     "output_type": "stream",
     "text": [
      "...60...70...80...90...100 - done.\n",
      "Done: 0\n",
      "Doing: B11.tif\n",
      "Input file size is 829, 1222\n",
      "0...10...20...30...40...50...60...70...80...90...100 - done.\n",
      "Done: 0\n",
      "Doing: B12.tif\n",
      "Input file size is 829, 1222\n",
      "0...10...20...30...40...50...60"
     ]
    },
    {
     "name": "stderr",
     "output_type": "stream",
     "text": [
      "Warning 1: for band 1, nodata value has been rounded to -2147483648, Int32 being an integer datatype.\n",
      "Warning 1: for band 1, nodata value has been rounded to -2147483648, Int32 being an integer datatype.\n"
     ]
    },
    {
     "name": "stdout",
     "output_type": "stream",
     "text": [
      "...70...80...90...100 - done.\n",
      "Done: 0\n",
      "Doing: B13.tif\n",
      "Input file size is 829, 1222\n",
      "0...10...20...30...40...50...60...70...80...90...100 - done.\n",
      "Done: 0\n",
      "Doing: B14.tif\n",
      "Input file size is 829, 1222\n",
      "0...10...20...30...40...50...60"
     ]
    },
    {
     "name": "stderr",
     "output_type": "stream",
     "text": [
      "Warning 1: for band 1, nodata value has been rounded to -2147483648, Int32 being an integer datatype.\n"
     ]
    },
    {
     "name": "stdout",
     "output_type": "stream",
     "text": [
      "...70...80...90...100 - done.\n",
      "Done: 0\n",
      "Doing: B15.tif\n",
      "Input file size is 829, 1222\n",
      "0...10...20...30...40...50.."
     ]
    },
    {
     "name": "stderr",
     "output_type": "stream",
     "text": [
      "Warning 1: for band 1, nodata value has been rounded to -2147483648, Int32 being an integer datatype.\n",
      "Warning 1: for band 1, nodata value has been rounded to -2147483648, Int32 being an integer datatype.\n"
     ]
    },
    {
     "name": "stdout",
     "output_type": "stream",
     "text": [
      ".60...70...80...90...100 - done.\n",
      "Done: 0\n",
      "Doing: B16.tif\n",
      "Input file size is 829, 1222\n",
      "0...10...20...30...40...50...60...70...80...90...100 - done.\n",
      "Done: 0\n",
      "Doing: B17.tif\n",
      "Input file size is 829, 1222\n",
      "0...10...20...30...40."
     ]
    },
    {
     "name": "stderr",
     "output_type": "stream",
     "text": [
      "Warning 1: for band 1, nodata value has been rounded to -2147483648, Int32 being an integer datatype.\n"
     ]
    },
    {
     "name": "stdout",
     "output_type": "stream",
     "text": [
      "..50...60...70...80...90...100 - done.\n",
      "Done: 0\n",
      "Doing: B18.tif\n",
      "Input file size is 829, 1222\n",
      "0...10...20...30...40...50...60."
     ]
    },
    {
     "name": "stderr",
     "output_type": "stream",
     "text": [
      "Warning 1: for band 1, nodata value has been rounded to -2147483648, Int32 being an integer datatype.\n",
      "Warning 1: for band 1, nodata value has been rounded to -2147483648, Int32 being an integer datatype.\n"
     ]
    },
    {
     "name": "stdout",
     "output_type": "stream",
     "text": [
      "..70...80...90...100 - done.\n",
      "Done: 0\n",
      "Doing: B19.tif\n",
      "Input file size is 829, 1222\n",
      "0...10...20...30...40...50...60...70...80...90...100 - done.\n",
      "Done: 0\n",
      "Doing: ASCII\n",
      "Done: 1\n",
      "Doing: B1.tif\n",
      "Input file size is 829, 1222\n",
      "0...10...20...30...40...50.."
     ]
    },
    {
     "name": "stderr",
     "output_type": "stream",
     "text": [
      "ERROR 4: `SSP126/2061_2080/MIROC-ES2L/ASCII' not recognized as a supported file format.\n",
      "Warning 1: for band 1, nodata value has been rounded to -2147483648, Int32 being an integer datatype.\n"
     ]
    },
    {
     "name": "stdout",
     "output_type": "stream",
     "text": [
      ".60...70...80...90...100 - done.\n",
      "Done: 0\n",
      "Doing: B2.tif\n",
      "Input file size is 829, 1222\n",
      "0...10...20...30...40...50...60...70...80."
     ]
    },
    {
     "name": "stderr",
     "output_type": "stream",
     "text": [
      "Warning 1: for band 1, nodata value has been rounded to -2147483648, Int32 being an integer datatype.\n",
      "Warning 1: for band 1, nodata value has been rounded to -2147483648, Int32 being an integer datatype.\n"
     ]
    },
    {
     "name": "stdout",
     "output_type": "stream",
     "text": [
      "..90...100 - done.\n",
      "Done: 0\n",
      "Doing: B3.tif\n",
      "Input file size is 829, 1222\n",
      "0...10...20...30...40...50...60...70...80...90...100 - done.\n",
      "Done: 0\n",
      "Doing: B4.tif\n",
      "Input file size is 829, 1222\n",
      "0...10...20...30...40...50...60...70...80...90...100 - done.\n",
      "Done: 0\n",
      "Doing: B5.tif\n"
     ]
    },
    {
     "name": "stderr",
     "output_type": "stream",
     "text": [
      "Warning 1: for band 1, nodata value has been rounded to -2147483648, Int32 being an integer datatype.\n",
      "Warning 1: for band 1, nodata value has been rounded to -2147483648, Int32 being an integer datatype.\n"
     ]
    },
    {
     "name": "stdout",
     "output_type": "stream",
     "text": [
      "Input file size is 829, 1222\n",
      "0...10...20...30...40...50...60...70...80...90...100 - done.\n",
      "Done: 0\n",
      "Doing: B6.tif\n",
      "Input file size is 829, 1222\n",
      "0...10...20.."
     ]
    },
    {
     "name": "stderr",
     "output_type": "stream",
     "text": [
      "Warning 1: for band 1, nodata value has been rounded to -2147483648, Int32 being an integer datatype.\n",
      "Warning 1: for band 1, nodata value has been rounded to -2147483648, Int32 being an integer datatype.\n"
     ]
    },
    {
     "name": "stdout",
     "output_type": "stream",
     "text": [
      ".30...40...50...60...70...80...90...100 - done.\n",
      "Done: 0\n",
      "Doing: B7.tif\n",
      "Input file size is 829, 1222\n",
      "0...10...20...30...40...50...60...70...80...90...100 - done.\n",
      "Done: 0\n",
      "Doing: B8.tif\n"
     ]
    },
    {
     "name": "stderr",
     "output_type": "stream",
     "text": [
      "Warning 1: for band 1, nodata value has been rounded to -2147483648, Int32 being an integer datatype.\n"
     ]
    },
    {
     "name": "stdout",
     "output_type": "stream",
     "text": [
      "Input file size is 829, 1222\n",
      "0...10...20...30...40...50...60...70...80...90...100 - done.\n",
      "Done: 0\n",
      "Doing: B9.tif\n",
      "Input file size is 829, 1222\n",
      "0...10...20...30...40...50...60...70...80...90...100 - done.\n",
      "Done: 0\n",
      "Doing: B10.tif\n"
     ]
    },
    {
     "name": "stderr",
     "output_type": "stream",
     "text": [
      "Warning 1: for band 1, nodata value has been rounded to -2147483648, Int32 being an integer datatype.\n",
      "Warning 1: for band 1, nodata value has been rounded to -2147483648, Int32 being an integer datatype.\n"
     ]
    },
    {
     "name": "stdout",
     "output_type": "stream",
     "text": [
      "Input file size is 829, 1222\n",
      "0...10...20...30...40...50...60...70...80...90...100 - done.\n",
      "Done: 0\n",
      "Doing: B11.tif\n",
      "Input file size is 829, 1222\n",
      "0...10...20."
     ]
    },
    {
     "name": "stderr",
     "output_type": "stream",
     "text": [
      "Warning 1: for band 1, nodata value has been rounded to -2147483648, Int32 being an integer datatype.\n",
      "Warning 1: for band 1, nodata value has been rounded to -2147483648, Int32 being an integer datatype.\n"
     ]
    },
    {
     "name": "stdout",
     "output_type": "stream",
     "text": [
      "..30...40...50...60...70...80...90...100 - done.\n",
      "Done: 0\n",
      "Doing: B12.tif\n",
      "Input file size is 829, 1222\n",
      "0...10...20...30...40...50...60...70...80...90...100 - done.\n",
      "Done: 0\n",
      "Doing: B13.tif\n",
      "Input file size is 829, 1222\n",
      "0...10...20...30...40...50...60...70."
     ]
    },
    {
     "name": "stderr",
     "output_type": "stream",
     "text": [
      "Warning 1: for band 1, nodata value has been rounded to -2147483648, Int32 being an integer datatype.\n",
      "Warning 1: for band 1, nodata value has been rounded to -2147483648, Int32 being an integer datatype.\n"
     ]
    },
    {
     "name": "stdout",
     "output_type": "stream",
     "text": [
      "..80...90...100 - done.\n",
      "Done: 0\n",
      "Doing: B14.tif\n",
      "Input file size is 829, 1222\n",
      "0...10...20...30...40...50...60...70...80...90...100 - done.\n",
      "Done: 0\n",
      "Doing: B15.tif\n",
      "Input file size is 829, 1222\n",
      "0...10...20...30...40...50...60...70...80...90...100 - done.\n"
     ]
    },
    {
     "name": "stderr",
     "output_type": "stream",
     "text": [
      "Warning 1: for band 1, nodata value has been rounded to -2147483648, Int32 being an integer datatype.\n",
      "Warning 1: for band 1, nodata value has been rounded to -2147483648, Int32 being an integer datatype.\n"
     ]
    },
    {
     "name": "stdout",
     "output_type": "stream",
     "text": [
      "Done: 0\n",
      "Doing: B16.tif\n",
      "Input file size is 829, 1222\n",
      "0...10...20...30...40...50...60...70...80...90...100 - done.\n",
      "Done: 0\n",
      "Doing: B17.tif\n"
     ]
    },
    {
     "name": "stderr",
     "output_type": "stream",
     "text": [
      "Warning 1: for band 1, nodata value has been rounded to -2147483648, Int32 being an integer datatype.\n",
      "Warning 1: for band 1, nodata value has been rounded to -2147483648, Int32 being an integer datatype.\n"
     ]
    },
    {
     "name": "stdout",
     "output_type": "stream",
     "text": [
      "Input file size is 829, 1222\n",
      "0...10...20...30...40...50...60...70...80...90...100 - done.\n",
      "Done: 0\n",
      "Doing: B18.tif\n",
      "Input file size is 829, 1222\n",
      "0...10...20...30...40...50...60...70...80...90...100 - done.\n",
      "Done: 0\n",
      "Doing: B19.tif\n",
      "Input file size is 829, 1222\n",
      "0...10...20...30...40...50"
     ]
    },
    {
     "name": "stderr",
     "output_type": "stream",
     "text": [
      "Warning 1: for band 1, nodata value has been rounded to -2147483648, Int32 being an integer datatype.\n",
      "ERROR 4: `SSP126/2061_2080/MIROC6/ASCII' not recognized as a supported file format.\n"
     ]
    },
    {
     "name": "stdout",
     "output_type": "stream",
     "text": [
      "...60...70...80...90...100 - done.\n",
      "Done: 0\n",
      "Doing: ASCII\n",
      "Done: 1\n",
      "Doing: B1.tif\n",
      "Input file size is 829, 1222\n",
      "0...10...20"
     ]
    },
    {
     "name": "stderr",
     "output_type": "stream",
     "text": [
      "Warning 1: for band 1, nodata value has been rounded to -2147483648, Int32 being an integer datatype.\n",
      "Warning 1: for band 1, nodata value has been rounded to -2147483648, Int32 being an integer datatype.\n"
     ]
    },
    {
     "name": "stdout",
     "output_type": "stream",
     "text": [
      "...30...40...50...60...70...80...90...100 - done.\n",
      "Done: 0\n",
      "Doing: B2.tif\n",
      "Input file size is 829, 1222\n",
      "0...10...20...30...40...50...60...70...80...90...100 - done.\n",
      "Done: 0\n",
      "Doing: B3.tif\n",
      "Input file size is 829, 1222\n",
      "0...10...20...30...40...50...60...70"
     ]
    },
    {
     "name": "stderr",
     "output_type": "stream",
     "text": [
      "Warning 1: for band 1, nodata value has been rounded to -2147483648, Int32 being an integer datatype.\n",
      "Warning 1: for band 1, nodata value has been rounded to -2147483648, Int32 being an integer datatype.\n"
     ]
    },
    {
     "name": "stdout",
     "output_type": "stream",
     "text": [
      "...80...90...100 - done.\n",
      "Done: 0\n",
      "Doing: B4.tif\n",
      "Input file size is 829, 1222\n",
      "0...10...20...30...40...50...60...70...80...90...100 - done.\n",
      "Done: 0\n",
      "Doing: B5.tif\n",
      "Input file size is 829, 1222\n",
      "0...10...20...30...40...50...60...70...80...90...100 - done.\n",
      "Done: 0\n",
      "Doing: B6.tif\n"
     ]
    },
    {
     "name": "stderr",
     "output_type": "stream",
     "text": [
      "Warning 1: for band 1, nodata value has been rounded to -2147483648, Int32 being an integer datatype.\n",
      "Warning 1: for band 1, nodata value has been rounded to -2147483648, Int32 being an integer datatype.\n"
     ]
    },
    {
     "name": "stdout",
     "output_type": "stream",
     "text": [
      "Input file size is 829, 1222\n",
      "0...10...20...30...40...50...60...70...80...90...100 - done.\n",
      "Done: 0\n",
      "Doing: B7.tif\n",
      "Input file size is 829, 1222\n",
      "0...10...20."
     ]
    },
    {
     "name": "stderr",
     "output_type": "stream",
     "text": [
      "Warning 1: for band 1, nodata value has been rounded to -2147483648, Int32 being an integer datatype.\n",
      "Warning 1: for band 1, nodata value has been rounded to -2147483648, Int32 being an integer datatype.\n"
     ]
    },
    {
     "name": "stdout",
     "output_type": "stream",
     "text": [
      "..30...40...50...60...70...80...90...100 - done.\n",
      "Done: 0\n",
      "Doing: B8.tif\n",
      "Input file size is 829, 1222\n",
      "0...10...20...30...40...50...60...70...80...90...100 - done.\n",
      "Done: 0\n",
      "Doing: B9.tif\n",
      "Input file size is 829, 1222\n",
      "0...10...20...30...40...50...60...70."
     ]
    },
    {
     "name": "stderr",
     "output_type": "stream",
     "text": [
      "Warning 1: for band 1, nodata value has been rounded to -2147483648, Int32 being an integer datatype.\n",
      "Warning 1: for band 1, nodata value has been rounded to -2147483648, Int32 being an integer datatype.\n"
     ]
    },
    {
     "name": "stdout",
     "output_type": "stream",
     "text": [
      "..80...90...100 - done.\n",
      "Done: 0\n",
      "Doing: B10.tif\n",
      "Input file size is 829, 1222\n",
      "0...10...20...30...40...50...60...70...80...90...100 - done.\n",
      "Done: 0\n",
      "Doing: B11.tif\n",
      "Input file size is 829, 1222\n",
      "0...10...20...30...40...50...60...70."
     ]
    },
    {
     "name": "stderr",
     "output_type": "stream",
     "text": [
      "Warning 1: for band 1, nodata value has been rounded to -2147483648, Int32 being an integer datatype.\n"
     ]
    },
    {
     "name": "stdout",
     "output_type": "stream",
     "text": [
      "..80...90...100 - done.\n",
      "Done: 0\n",
      "Doing: B12.tif\n",
      "Input file size is 829, 1222\n",
      "0...10...20...30...40...50..."
     ]
    },
    {
     "name": "stderr",
     "output_type": "stream",
     "text": [
      "Warning 1: for band 1, nodata value has been rounded to -2147483648, Int32 being an integer datatype.\n",
      "Warning 1: for band 1, nodata value has been rounded to -2147483648, Int32 being an integer datatype.\n"
     ]
    },
    {
     "name": "stdout",
     "output_type": "stream",
     "text": [
      "60...70...80...90...100 - done.\n",
      "Done: 0\n",
      "Doing: B13.tif\n",
      "Input file size is 829, 1222\n",
      "0...10...20...30...40...50...60...70...80...90...100 - done.\n",
      "Done: 0\n",
      "Doing: B14.tif\n",
      "Input file size is 829, 1222\n",
      "0...10...20...30...40...50...60...70...80...90..."
     ]
    },
    {
     "name": "stderr",
     "output_type": "stream",
     "text": [
      "Warning 1: for band 1, nodata value has been rounded to -2147483648, Int32 being an integer datatype.\n",
      "Warning 1: for band 1, nodata value has been rounded to -2147483648, Int32 being an integer datatype.\n"
     ]
    },
    {
     "name": "stdout",
     "output_type": "stream",
     "text": [
      "100 - done.\n",
      "Done: 0\n",
      "Doing: B15.tif\n",
      "Input file size is 829, 1222\n",
      "0...10...20...30...40...50...60...70...80...90...100 - done.\n",
      "Done: 0\n",
      "Doing: B16.tif\n"
     ]
    },
    {
     "name": "stderr",
     "output_type": "stream",
     "text": [
      "Warning 1: for band 1, nodata value has been rounded to -2147483648, Int32 being an integer datatype.\n",
      "Warning 1: for band 1, nodata value has been rounded to -2147483648, Int32 being an integer datatype.\n"
     ]
    },
    {
     "name": "stdout",
     "output_type": "stream",
     "text": [
      "Input file size is 829, 1222\n",
      "0...10...20...30...40...50...60...70...80...90...100 - done.\n",
      "Done: 0\n",
      "Doing: B17.tif\n",
      "Input file size is 829, 1222\n",
      "0...10...20...30...40...50...60...70...80...90...100 - done.\n",
      "Done: 0\n",
      "Doing: B18.tif\n",
      "Input file size is 829, 1222\n",
      "0...10...20...30...40...50"
     ]
    },
    {
     "name": "stderr",
     "output_type": "stream",
     "text": [
      "Warning 1: for band 1, nodata value has been rounded to -2147483648, Int32 being an integer datatype.\n",
      "Warning 1: for band 1, nodata value has been rounded to -2147483648, Int32 being an integer datatype.\n"
     ]
    },
    {
     "name": "stdout",
     "output_type": "stream",
     "text": [
      "...60...70...80...90...100 - done.\n",
      "Done: 0\n",
      "Doing: B19.tif\n",
      "Input file size is 829, 1222\n",
      "0...10...20...30...40...50...60...70...80...90...100 - done.\n",
      "Done: 0\n",
      "Doing: ASCII\n",
      "Done: 1\n",
      "Doing: B1.tif\n",
      "Input file size is 829, 1222\n",
      "0...10...20"
     ]
    },
    {
     "name": "stderr",
     "output_type": "stream",
     "text": [
      "ERROR 4: `SSP126/2061_2080/MPI-ESM1-2-HR/ASCII' not recognized as a supported file format.\n",
      "Warning 1: for band 1, nodata value has been rounded to -2147483648, Int32 being an integer datatype.\n"
     ]
    },
    {
     "name": "stdout",
     "output_type": "stream",
     "text": [
      "...30...40...50...60...70...80...90...100 - done.\n",
      "Done: 0\n",
      "Doing: B2.tif\n"
     ]
    },
    {
     "name": "stderr",
     "output_type": "stream",
     "text": [
      "Warning 1: for band 1, nodata value has been rounded to -2147483648, Int32 being an integer datatype.\n",
      "Warning 1: for band 1, nodata value has been rounded to -2147483648, Int32 being an integer datatype.\n"
     ]
    },
    {
     "name": "stdout",
     "output_type": "stream",
     "text": [
      "Input file size is 829, 1222\n",
      "0...10...20...30...40...50...60...70...80...90...100 - done.\n",
      "Done: 0\n",
      "Doing: B3.tif\n",
      "Input file size is 829, 1222\n",
      "0...10...20...30...40...50...60...70...80...90...100 - done.\n",
      "Done: 0\n",
      "Doing: B4.tif\n",
      "Input file size is 829, 1222\n",
      "0...10...20...30...40."
     ]
    },
    {
     "name": "stderr",
     "output_type": "stream",
     "text": [
      "Warning 1: for band 1, nodata value has been rounded to -2147483648, Int32 being an integer datatype.\n",
      "Warning 1: for band 1, nodata value has been rounded to -2147483648, Int32 being an integer datatype.\n"
     ]
    },
    {
     "name": "stdout",
     "output_type": "stream",
     "text": [
      "..50...60...70...80...90...100 - done.\n",
      "Done: 0\n",
      "Doing: B5.tif\n",
      "Input file size is 829, 1222\n",
      "0...10...20...30...40...50...60...70...80...90...100 - done.\n",
      "Done: 0\n",
      "Doing: B6.tif\n",
      "Input file size is 829, 1222\n",
      "0...10...20...30...40...50...60...70...80...90..."
     ]
    },
    {
     "name": "stderr",
     "output_type": "stream",
     "text": [
      "Warning 1: for band 1, nodata value has been rounded to -2147483648, Int32 being an integer datatype.\n",
      "Warning 1: for band 1, nodata value has been rounded to -2147483648, Int32 being an integer datatype.\n"
     ]
    },
    {
     "name": "stdout",
     "output_type": "stream",
     "text": [
      "100 - done.\n",
      "Done: 0\n",
      "Doing: B7.tif\n",
      "Input file size is 829, 1222\n",
      "0...10...20...30...40...50...60...70...80...90...100 - done.\n",
      "Done: 0\n",
      "Doing: B8.tif\n"
     ]
    },
    {
     "name": "stderr",
     "output_type": "stream",
     "text": [
      "Warning 1: for band 1, nodata value has been rounded to -2147483648, Int32 being an integer datatype.\n",
      "Warning 1: for band 1, nodata value has been rounded to -2147483648, Int32 being an integer datatype.\n"
     ]
    },
    {
     "name": "stdout",
     "output_type": "stream",
     "text": [
      "Input file size is 829, 1222\n",
      "0...10...20...30...40...50...60...70...80...90...100 - done.\n",
      "Done: 0\n",
      "Doing: B9.tif\n",
      "Input file size is 829, 1222\n",
      "0...10...20...30...40...50...60...70...80...90...100 - done.\n",
      "Done: 0\n",
      "Doing: B10.tif\n",
      "Input file size is 829, 1222\n",
      "0...10."
     ]
    },
    {
     "name": "stderr",
     "output_type": "stream",
     "text": [
      "Warning 1: for band 1, nodata value has been rounded to -2147483648, Int32 being an integer datatype.\n",
      "Warning 1: for band 1, nodata value has been rounded to -2147483648, Int32 being an integer datatype.\n"
     ]
    },
    {
     "name": "stdout",
     "output_type": "stream",
     "text": [
      "..20...30...40...50...60...70...80...90...100 - done.\n",
      "Done: 0\n",
      "Doing: B11.tif\n",
      "Input file size is 829, 1222\n",
      "0...10...20...30...40...50...60...70...80...90...100 - done.\n",
      "Done: 0\n",
      "Doing: B12.tif\n",
      "Input file size is 829, 1222\n",
      "0...10...20...30...40...50"
     ]
    },
    {
     "name": "stderr",
     "output_type": "stream",
     "text": [
      "Warning 1: for band 1, nodata value has been rounded to -2147483648, Int32 being an integer datatype.\n",
      "Warning 1: for band 1, nodata value has been rounded to -2147483648, Int32 being an integer datatype.\n"
     ]
    },
    {
     "name": "stdout",
     "output_type": "stream",
     "text": [
      "...60...70...80...90...100 - done.\n",
      "Done: 0\n",
      "Doing: B13.tif\n",
      "Input file size is 829, 1222\n",
      "0...10...20...30...40...50...60...70...80...90...100 - done.\n",
      "Done: 0\n",
      "Doing: B14.tif\n",
      "Input file size is 829, 1222\n",
      "0...10...20...30...40...50...60...70...80...90..."
     ]
    },
    {
     "name": "stderr",
     "output_type": "stream",
     "text": [
      "Warning 1: for band 1, nodata value has been rounded to -2147483648, Int32 being an integer datatype.\n",
      "Warning 1: for band 1, nodata value has been rounded to -2147483648, Int32 being an integer datatype.\n"
     ]
    },
    {
     "name": "stdout",
     "output_type": "stream",
     "text": [
      "100 - done.\n",
      "Done: 0\n",
      "Doing: B15.tif\n",
      "Input file size is 829, 1222\n",
      "0...10...20...30...40...50...60...70...80...90...100 - done.\n",
      "Done: 0\n",
      "Doing: B16.tif\n"
     ]
    },
    {
     "name": "stderr",
     "output_type": "stream",
     "text": [
      "Warning 1: for band 1, nodata value has been rounded to -2147483648, Int32 being an integer datatype.\n",
      "Warning 1: for band 1, nodata value has been rounded to -2147483648, Int32 being an integer datatype.\n"
     ]
    },
    {
     "name": "stdout",
     "output_type": "stream",
     "text": [
      "Input file size is 829, 1222\n",
      "0...10...20...30...40...50...60...70...80...90...100 - done.\n",
      "Done: 0\n",
      "Doing: B17.tif\n",
      "Input file size is 829, 1222\n",
      "0...10...20...30...40...50...60...70...80...90...100 - done.\n",
      "Done: 0\n",
      "Doing: B18.tif\n",
      "Input file size is 829, 1222\n",
      "0...10...20...30...40..."
     ]
    },
    {
     "name": "stderr",
     "output_type": "stream",
     "text": [
      "Warning 1: for band 1, nodata value has been rounded to -2147483648, Int32 being an integer datatype.\n",
      "Warning 1: for band 1, nodata value has been rounded to -2147483648, Int32 being an integer datatype.\n"
     ]
    },
    {
     "name": "stdout",
     "output_type": "stream",
     "text": [
      "50...60...70...80...90...100 - done.\n",
      "Done: 0\n",
      "Doing: B19.tif\n",
      "Input file size is 829, 1222\n",
      "0...10...20...30...40...50...60...70...80...90...100 - done.\n",
      "Done: 0\n",
      "Doing: ASCII\n",
      "Done: 1\n",
      "Doing: B1.tif\n",
      "Input file size is 829, 1222\n",
      "0...10...20...30...40."
     ]
    },
    {
     "name": "stderr",
     "output_type": "stream",
     "text": [
      "ERROR 4: `SSP126/2061_2080/MPI-ESM1-2-LR/ASCII' not recognized as a supported file format.\n",
      "Warning 1: for band 1, nodata value has been rounded to -2147483648, Int32 being an integer datatype.\n"
     ]
    },
    {
     "name": "stdout",
     "output_type": "stream",
     "text": [
      "..50...60...70...80...90...100 - done.\n",
      "Done: 0\n",
      "Doing: B2.tif\n",
      "Input file size is 829, 1222\n",
      "0...10...20...30...40...50."
     ]
    },
    {
     "name": "stderr",
     "output_type": "stream",
     "text": [
      "Warning 1: for band 1, nodata value has been rounded to -2147483648, Int32 being an integer datatype.\n"
     ]
    },
    {
     "name": "stdout",
     "output_type": "stream",
     "text": [
      "..60...70...80...90...100 - done.\n",
      "Done: 0\n",
      "Doing: B3.tif\n",
      "Input file size is 829, 1222\n",
      "0...10...20...30...40...50."
     ]
    },
    {
     "name": "stderr",
     "output_type": "stream",
     "text": [
      "Warning 1: for band 1, nodata value has been rounded to -2147483648, Int32 being an integer datatype.\n",
      "Warning 1: for band 1, nodata value has been rounded to -2147483648, Int32 being an integer datatype.\n"
     ]
    },
    {
     "name": "stdout",
     "output_type": "stream",
     "text": [
      "..60...70...80...90...100 - done.\n",
      "Done: 0\n",
      "Doing: B4.tif\n",
      "Input file size is 829, 1222\n",
      "0...10...20...30...40...50...60...70...80...90...100 - done.\n",
      "Done: 0\n",
      "Doing: B5.tif\n",
      "Input file size is 829, 1222\n",
      "0...10...20...30...40...50...60...70...80...90..."
     ]
    },
    {
     "name": "stderr",
     "output_type": "stream",
     "text": [
      "Warning 1: for band 1, nodata value has been rounded to -2147483648, Int32 being an integer datatype.\n",
      "Warning 1: for band 1, nodata value has been rounded to -2147483648, Int32 being an integer datatype.\n"
     ]
    },
    {
     "name": "stdout",
     "output_type": "stream",
     "text": [
      "100 - done.\n",
      "Done: 0\n",
      "Doing: B6.tif\n",
      "Input file size is 829, 1222\n",
      "0...10...20...30...40...50...60...70...80...90...100 - done.\n",
      "Done: 0\n",
      "Doing: B7.tif\n"
     ]
    },
    {
     "name": "stderr",
     "output_type": "stream",
     "text": [
      "Warning 1: for band 1, nodata value has been rounded to -2147483648, Int32 being an integer datatype.\n",
      "Warning 1: for band 1, nodata value has been rounded to -2147483648, Int32 being an integer datatype.\n"
     ]
    },
    {
     "name": "stdout",
     "output_type": "stream",
     "text": [
      "Input file size is 829, 1222\n",
      "0...10...20...30...40...50...60...70...80...90...100 - done.\n",
      "Done: 0\n",
      "Doing: B8.tif\n",
      "Input file size is 829, 1222\n",
      "0...10...20...30...40...50...60...70...80...90...100 - done.\n",
      "Done: 0\n",
      "Doing: B9.tif\n",
      "Input file size is 829, 1222\n",
      "0...10...20"
     ]
    },
    {
     "name": "stderr",
     "output_type": "stream",
     "text": [
      "Warning 1: for band 1, nodata value has been rounded to -2147483648, Int32 being an integer datatype.\n",
      "Warning 1: for band 1, nodata value has been rounded to -2147483648, Int32 being an integer datatype.\n"
     ]
    },
    {
     "name": "stdout",
     "output_type": "stream",
     "text": [
      "...30...40...50...60...70...80...90...100 - done.\n",
      "Done: 0\n",
      "Doing: B10.tif\n",
      "Input file size is 829, 1222\n",
      "0...10...20...30...40...50...60...70...80...90...100 - done.\n",
      "Done: 0\n",
      "Doing: B11.tif\n",
      "Input file size is 829, 1222\n",
      "0...10.."
     ]
    },
    {
     "name": "stderr",
     "output_type": "stream",
     "text": [
      "Warning 1: for band 1, nodata value has been rounded to -2147483648, Int32 being an integer datatype.\n"
     ]
    },
    {
     "name": "stdout",
     "output_type": "stream",
     "text": [
      ".20...30...40...50...60...70...80...90...100 - done.\n",
      "Done: 0\n",
      "Doing: B12.tif\n",
      "Input file size is 829, 1222\n",
      "0...10...20...30...40...50...60...70...80...90"
     ]
    },
    {
     "name": "stderr",
     "output_type": "stream",
     "text": [
      "Warning 1: for band 1, nodata value has been rounded to -2147483648, Int32 being an integer datatype.\n",
      "Warning 1: for band 1, nodata value has been rounded to -2147483648, Int32 being an integer datatype.\n"
     ]
    },
    {
     "name": "stdout",
     "output_type": "stream",
     "text": [
      "...100 - done.\n",
      "Done: 0\n",
      "Doing: B13.tif\n",
      "Input file size is 829, 1222\n",
      "0...10...20...30...40...50...60...70...80...90...100 - done.\n",
      "Done: 0\n",
      "Doing: B14.tif\n",
      "Input file size is 829, 1222\n",
      "0...10...20...30...40...50...60...70...80...90...100 - done.\n",
      "Done: 0\n",
      "Doing: B15.tif\n"
     ]
    },
    {
     "name": "stderr",
     "output_type": "stream",
     "text": [
      "Warning 1: for band 1, nodata value has been rounded to -2147483648, Int32 being an integer datatype.\n",
      "Warning 1: for band 1, nodata value has been rounded to -2147483648, Int32 being an integer datatype.\n"
     ]
    },
    {
     "name": "stdout",
     "output_type": "stream",
     "text": [
      "Input file size is 829, 1222\n",
      "0...10...20...30...40...50...60...70...80...90...100 - done.\n",
      "Done: 0\n",
      "Doing: B16.tif\n",
      "Input file size is 829, 1222\n",
      "0...10...20...30...40..."
     ]
    },
    {
     "name": "stderr",
     "output_type": "stream",
     "text": [
      "Warning 1: for band 1, nodata value has been rounded to -2147483648, Int32 being an integer datatype.\n",
      "Warning 1: for band 1, nodata value has been rounded to -2147483648, Int32 being an integer datatype.\n"
     ]
    },
    {
     "name": "stdout",
     "output_type": "stream",
     "text": [
      "50...60...70...80...90...100 - done.\n",
      "Done: 0\n",
      "Doing: B17.tif\n",
      "Input file size is 829, 1222\n",
      "0...10...20...30...40...50...60...70...80...90...100 - done.\n",
      "Done: 0\n",
      "Doing: B18.tif\n",
      "Input file size is 829, 1222\n",
      "0...10...20...30...40...50...60...70..."
     ]
    },
    {
     "name": "stderr",
     "output_type": "stream",
     "text": [
      "Warning 1: for band 1, nodata value has been rounded to -2147483648, Int32 being an integer datatype.\n"
     ]
    },
    {
     "name": "stdout",
     "output_type": "stream",
     "text": [
      "80...90...100 - done.\n",
      "Done: 0\n",
      "Doing: B19.tif\n",
      "Input file size is 829, 1222\n",
      "0"
     ]
    },
    {
     "name": "stderr",
     "output_type": "stream",
     "text": [
      "Warning 1: for band 1, nodata value has been rounded to -2147483648, Int32 being an integer datatype.\n"
     ]
    },
    {
     "name": "stdout",
     "output_type": "stream",
     "text": [
      "...10...20...30...40...50...60...70...80...90...100 - done.\n",
      "Done: 0\n",
      "Doing: ASCII\n",
      "Done: 1\n",
      "Doing: B1.tif\n"
     ]
    },
    {
     "name": "stderr",
     "output_type": "stream",
     "text": [
      "ERROR 4: `SSP126/2061_2080/MRI-ESM2-0/ASCII' not recognized as a supported file format.\n",
      "Warning 1: for band 1, nodata value has been rounded to -2147483648, Int32 being an integer datatype.\n"
     ]
    },
    {
     "name": "stdout",
     "output_type": "stream",
     "text": [
      "Input file size is 829, 1222\n",
      "0...10...20...30...40...50...60...70...80...90...100 - done.\n",
      "Done: 0\n",
      "Doing: B2.tif\n",
      "Input file size is 829, 1222\n",
      "0...10...20."
     ]
    },
    {
     "name": "stderr",
     "output_type": "stream",
     "text": [
      "Warning 1: for band 1, nodata value has been rounded to -2147483648, Int32 being an integer datatype.\n",
      "Warning 1: for band 1, nodata value has been rounded to -2147483648, Int32 being an integer datatype.\n"
     ]
    },
    {
     "name": "stdout",
     "output_type": "stream",
     "text": [
      "..30...40...50...60...70...80...90...100 - done.\n",
      "Done: 0\n",
      "Doing: B3.tif\n",
      "Input file size is 829, 1222\n",
      "0...10...20...30...40...50...60...70...80...90...100 - done.\n",
      "Done: 0\n",
      "Doing: B4.tif\n",
      "Input file size is 829, 1222\n",
      "0...10...20...30...40...50...60...70."
     ]
    },
    {
     "name": "stderr",
     "output_type": "stream",
     "text": [
      "Warning 1: for band 1, nodata value has been rounded to -2147483648, Int32 being an integer datatype.\n",
      "Warning 1: for band 1, nodata value has been rounded to -2147483648, Int32 being an integer datatype.\n"
     ]
    },
    {
     "name": "stdout",
     "output_type": "stream",
     "text": [
      "..80...90...100 - done.\n",
      "Done: 0\n",
      "Doing: B5.tif\n",
      "Input file size is 829, 1222\n",
      "0...10...20...30...40...50...60...70...80...90...100 - done.\n",
      "Done: 0\n",
      "Doing: B6.tif\n"
     ]
    },
    {
     "name": "stderr",
     "output_type": "stream",
     "text": [
      "Warning 1: for band 1, nodata value has been rounded to -2147483648, Int32 being an integer datatype.\n"
     ]
    },
    {
     "name": "stdout",
     "output_type": "stream",
     "text": [
      "Input file size is 829, 1222\n",
      "0...10...20...30...40...50...60...70...80...90...100 - done.\n",
      "Done: 0\n",
      "Doing: B7.tif\n",
      "Input file size is 829, 1222\n",
      "0...10...20...30...40...50...60...70...80...90..."
     ]
    },
    {
     "name": "stderr",
     "output_type": "stream",
     "text": [
      "Warning 1: for band 1, nodata value has been rounded to -2147483648, Int32 being an integer datatype.\n",
      "Warning 1: for band 1, nodata value has been rounded to -2147483648, Int32 being an integer datatype.\n"
     ]
    },
    {
     "name": "stdout",
     "output_type": "stream",
     "text": [
      "100 - done.\n",
      "Done: 0\n",
      "Doing: B8.tif\n",
      "Input file size is 829, 1222\n",
      "0...10...20...30...40...50...60...70...80...90...100 - done.\n",
      "Done: 0\n",
      "Doing: B9.tif\n",
      "Input file size is 829, 1222\n",
      "0...10...20...30...40...50...60...70...80..."
     ]
    },
    {
     "name": "stderr",
     "output_type": "stream",
     "text": [
      "Warning 1: for band 1, nodata value has been rounded to -2147483648, Int32 being an integer datatype.\n",
      "Warning 1: for band 1, nodata value has been rounded to -2147483648, Int32 being an integer datatype.\n"
     ]
    },
    {
     "name": "stdout",
     "output_type": "stream",
     "text": [
      "90...100 - done.\n",
      "Done: 0\n",
      "Doing: B10.tif\n",
      "Input file size is 829, 1222\n",
      "0...10...20...30...40...50...60...70...80...90...100 - done.\n",
      "Done: 0\n",
      "Doing: B11.tif\n",
      "Input file size is 829, 1222\n",
      "0...10...20...30...40...50...60...70...80...90..."
     ]
    },
    {
     "name": "stderr",
     "output_type": "stream",
     "text": [
      "Warning 1: for band 1, nodata value has been rounded to -2147483648, Int32 being an integer datatype.\n",
      "Warning 1: for band 1, nodata value has been rounded to -2147483648, Int32 being an integer datatype.\n"
     ]
    },
    {
     "name": "stdout",
     "output_type": "stream",
     "text": [
      "100 - done.\n",
      "Done: 0\n",
      "Doing: B12.tif\n",
      "Input file size is 829, 1222\n",
      "0...10...20...30...40...50...60...70...80...90...100 - done.\n",
      "Done: 0\n",
      "Doing: B13.tif\n"
     ]
    },
    {
     "name": "stderr",
     "output_type": "stream",
     "text": [
      "Warning 1: for band 1, nodata value has been rounded to -2147483648, Int32 being an integer datatype.\n"
     ]
    },
    {
     "name": "stdout",
     "output_type": "stream",
     "text": [
      "Input file size is 829, 1222\n",
      "0...10...20...30...40...50...60...70...80...90...100 - done.\n",
      "Done: 0\n",
      "Doing: B14.tif\n",
      "Input file size is 829, 1222\n",
      "0...10...20...30...40...50...60...70...80...90...100 - done.\n",
      "Done: 0\n",
      "Doing: B15.tif\n"
     ]
    },
    {
     "name": "stderr",
     "output_type": "stream",
     "text": [
      "Warning 1: for band 1, nodata value has been rounded to -2147483648, Int32 being an integer datatype.\n",
      "Warning 1: for band 1, nodata value has been rounded to -2147483648, Int32 being an integer datatype.\n"
     ]
    },
    {
     "name": "stdout",
     "output_type": "stream",
     "text": [
      "Input file size is 829, 1222\n",
      "0...10...20...30...40...50...60...70...80...90...100 - done.\n",
      "Done: 0\n",
      "Doing: B16.tif\n"
     ]
    },
    {
     "name": "stderr",
     "output_type": "stream",
     "text": [
      "Warning 1: for band 1, nodata value has been rounded to -2147483648, Int32 being an integer datatype.\n",
      "Warning 1: for band 1, nodata value has been rounded to -2147483648, Int32 being an integer datatype.\n"
     ]
    },
    {
     "name": "stdout",
     "output_type": "stream",
     "text": [
      "Input file size is 829, 1222\n",
      "0...10...20...30...40...50...60...70...80...90...100 - done.\n",
      "Done: 0\n",
      "Doing: B17.tif\n",
      "Input file size is 829, 1222\n",
      "0...10...20...30...40...50...60...70...80...90...100 - done.\n",
      "Done: 0\n",
      "Doing: B18.tif\n",
      "Input file size is 829, 1222\n",
      "0...10...20...30.."
     ]
    },
    {
     "name": "stderr",
     "output_type": "stream",
     "text": [
      "Warning 1: for band 1, nodata value has been rounded to -2147483648, Int32 being an integer datatype.\n"
     ]
    },
    {
     "name": "stdout",
     "output_type": "stream",
     "text": [
      ".40...50...60...70...80...90...100 - done.\n",
      "Done: 0\n",
      "Doing: B19.tif\n",
      "Input file size is 829, 1222\n",
      "0...10.."
     ]
    },
    {
     "name": "stderr",
     "output_type": "stream",
     "text": [
      "Warning 1: for band 1, nodata value has been rounded to -2147483648, Int32 being an integer datatype.\n"
     ]
    },
    {
     "name": "stdout",
     "output_type": "stream",
     "text": [
      ".20...30...40...50...60...70...80...90...100 - done.\n",
      "Done: 0\n",
      "Doing: ASCII\n",
      "Done: 1\n",
      "Doing: B1.tif\n"
     ]
    },
    {
     "name": "stderr",
     "output_type": "stream",
     "text": [
      "ERROR 4: `SSP126/2061_2080/UKESM1-0-LL/ASCII' not recognized as a supported file format.\n",
      "Warning 1: for band 1, nodata value has been rounded to -2147483648, Int32 being an integer datatype.\n"
     ]
    },
    {
     "name": "stdout",
     "output_type": "stream",
     "text": [
      "Input file size is 829, 1222\n",
      "0...10...20...30...40...50...60...70...80...90...100 - done.\n",
      "Done: 0\n",
      "Doing: B2.tif\n",
      "Input file size is 829, 1222\n",
      "0...10...20."
     ]
    },
    {
     "name": "stderr",
     "output_type": "stream",
     "text": [
      "Warning 1: for band 1, nodata value has been rounded to -2147483648, Int32 being an integer datatype.\n",
      "Warning 1: for band 1, nodata value has been rounded to -2147483648, Int32 being an integer datatype.\n"
     ]
    },
    {
     "name": "stdout",
     "output_type": "stream",
     "text": [
      "..30...40...50...60...70...80...90...100 - done.\n",
      "Done: 0\n",
      "Doing: B3.tif\n",
      "Input file size is 829, 1222\n",
      "0...10...20...30...40...50...60...70...80...90...100 - done.\n",
      "Done: 0\n",
      "Doing: B4.tif\n",
      "Input file size is 829, 1222\n",
      "0...10...20...30...40...50...60...70."
     ]
    },
    {
     "name": "stderr",
     "output_type": "stream",
     "text": [
      "Warning 1: for band 1, nodata value has been rounded to -2147483648, Int32 being an integer datatype.\n",
      "Warning 1: for band 1, nodata value has been rounded to -2147483648, Int32 being an integer datatype.\n"
     ]
    },
    {
     "name": "stdout",
     "output_type": "stream",
     "text": [
      "..80...90...100 - done.\n",
      "Done: 0\n",
      "Doing: B5.tif\n",
      "Input file size is 829, 1222\n",
      "0...10...20...30...40...50...60...70...80...90...100 - done.\n",
      "Done: 0\n",
      "Doing: B6.tif\n",
      "Input file size is 829, 1222\n",
      "0...10...20...30...40...50...60...70...80...90...100 - done.\n",
      "Done: 0\n",
      "Doing: B7.tif\n"
     ]
    },
    {
     "name": "stderr",
     "output_type": "stream",
     "text": [
      "Warning 1: for band 1, nodata value has been rounded to -2147483648, Int32 being an integer datatype.\n",
      "Warning 1: for band 1, nodata value has been rounded to -2147483648, Int32 being an integer datatype.\n"
     ]
    },
    {
     "name": "stdout",
     "output_type": "stream",
     "text": [
      "Input file size is 829, 1222\n",
      "0...10...20...30...40...50...60...70...80...90...100 - done.\n",
      "Done: 0\n",
      "Doing: B8.tif\n",
      "Input file size is 829, 1222\n",
      "0...10...20...30...40...50...60...70...80...90...100 - done.\n",
      "Done: 0\n",
      "Doing: B9.tif\n"
     ]
    },
    {
     "name": "stderr",
     "output_type": "stream",
     "text": [
      "Warning 1: for band 1, nodata value has been rounded to -2147483648, Int32 being an integer datatype.\n",
      "Warning 1: for band 1, nodata value has been rounded to -2147483648, Int32 being an integer datatype.\n"
     ]
    },
    {
     "name": "stdout",
     "output_type": "stream",
     "text": [
      "Input file size is 829, 1222\n",
      "0...10...20...30...40...50...60...70...80...90...100 - done.\n",
      "Done: 0\n",
      "Doing: B10.tif\n",
      "Input file size is 829, 1222\n",
      "0...10...20."
     ]
    },
    {
     "name": "stderr",
     "output_type": "stream",
     "text": [
      "Warning 1: for band 1, nodata value has been rounded to -2147483648, Int32 being an integer datatype.\n",
      "Warning 1: for band 1, nodata value has been rounded to -2147483648, Int32 being an integer datatype.\n"
     ]
    },
    {
     "name": "stdout",
     "output_type": "stream",
     "text": [
      "..30...40...50...60...70...80...90...100 - done.\n",
      "Done: 0\n",
      "Doing: B11.tif\n",
      "Input file size is 829, 1222\n",
      "0...10...20...30...40...50...60...70...80...90...100 - done.\n",
      "Done: 0\n",
      "Doing: B12.tif\n",
      "Input file size is 829, 1222\n",
      "0...10...20...30...40...50...60...70"
     ]
    },
    {
     "name": "stderr",
     "output_type": "stream",
     "text": [
      "Warning 1: for band 1, nodata value has been rounded to -2147483648, Int32 being an integer datatype.\n",
      "Warning 1: for band 1, nodata value has been rounded to -2147483648, Int32 being an integer datatype.\n"
     ]
    },
    {
     "name": "stdout",
     "output_type": "stream",
     "text": [
      "...80...90...100 - done.\n",
      "Done: 0\n",
      "Doing: B13.tif\n",
      "Input file size is 829, 1222\n",
      "0...10...20...30...40...50...60...70...80...90...100 - done.\n",
      "Done: 0\n",
      "Doing: B14.tif\n",
      "Input file size is 829, 1222\n",
      "0...10...20...30...40...50...60...70...80...90..."
     ]
    },
    {
     "name": "stderr",
     "output_type": "stream",
     "text": [
      "Warning 1: for band 1, nodata value has been rounded to -2147483648, Int32 being an integer datatype.\n",
      "Warning 1: for band 1, nodata value has been rounded to -2147483648, Int32 being an integer datatype.\n"
     ]
    },
    {
     "name": "stdout",
     "output_type": "stream",
     "text": [
      "100 - done.\n",
      "Done: 0\n",
      "Doing: B15.tif\n",
      "Input file size is 829, 1222\n",
      "0...10...20...30...40...50...60...70...80...90...100 - done.\n",
      "Done: 0\n",
      "Doing: B16.tif\n"
     ]
    },
    {
     "name": "stderr",
     "output_type": "stream",
     "text": [
      "Warning 1: for band 1, nodata value has been rounded to -2147483648, Int32 being an integer datatype.\n",
      "Warning 1: for band 1, nodata value has been rounded to -2147483648, Int32 being an integer datatype.\n"
     ]
    },
    {
     "name": "stdout",
     "output_type": "stream",
     "text": [
      "Input file size is 829, 1222\n",
      "0...10...20...30...40...50...60...70...80...90...100 - done.\n",
      "Done: 0\n",
      "Doing: B17.tif\n",
      "Input file size is 829, 1222\n",
      "0...10...20...30...40...50...60...70...80...90...100 - done.\n",
      "Done: 0\n",
      "Doing: B18.tif\n",
      "Input file size is 829, 1222\n",
      "0...10...20...30...40..."
     ]
    },
    {
     "name": "stderr",
     "output_type": "stream",
     "text": [
      "Warning 1: for band 1, nodata value has been rounded to -2147483648, Int32 being an integer datatype.\n",
      "Warning 1: for band 1, nodata value has been rounded to -2147483648, Int32 being an integer datatype.\n"
     ]
    },
    {
     "name": "stdout",
     "output_type": "stream",
     "text": [
      "50...60...70...80...90...100 - done.\n",
      "Done: 0\n",
      "Doing: B19.tif\n",
      "Input file size is 829, 1222\n",
      "0...10...20...30...40...50...60...70...80...90...100 - done.\n",
      "Done: 0\n",
      "Doing: ASCII\n",
      "Done: 1\n",
      "Doing: B1.tif\n",
      "Input file size is 829, 1222\n",
      "0...10...20...30...40."
     ]
    },
    {
     "name": "stderr",
     "output_type": "stream",
     "text": [
      "ERROR 4: `SSP126/2061_2080/GFDL-ESM4/ASCII' not recognized as a supported file format.\n",
      "Warning 1: for band 1, nodata value has been rounded to -2147483648, Int32 being an integer datatype.\n"
     ]
    },
    {
     "name": "stdout",
     "output_type": "stream",
     "text": [
      "..50...60...70...80...90...100 - done.\n",
      "Done: 0\n",
      "Doing: B2.tif\n",
      "Input file size is 829, 1222\n",
      "0...10...20...30...40...50...60...70"
     ]
    },
    {
     "name": "stderr",
     "output_type": "stream",
     "text": [
      "Warning 1: for band 1, nodata value has been rounded to -2147483648, Int32 being an integer datatype.\n",
      "Warning 1: for band 1, nodata value has been rounded to -2147483648, Int32 being an integer datatype.\n"
     ]
    },
    {
     "name": "stdout",
     "output_type": "stream",
     "text": [
      "...80...90...100 - done.\n",
      "Done: 0\n",
      "Doing: B3.tif\n",
      "Input file size is 829, 1222\n",
      "0...10...20...30...40...50...60...70...80...90...100 - done.\n",
      "Done: 0\n",
      "Doing: B4.tif\n",
      "Input file size is 829, 1222\n",
      "0..."
     ]
    },
    {
     "name": "stderr",
     "output_type": "stream",
     "text": [
      "Warning 1: for band 1, nodata value has been rounded to -2147483648, Int32 being an integer datatype.\n",
      "Warning 1: for band 1, nodata value has been rounded to -2147483648, Int32 being an integer datatype.\n"
     ]
    },
    {
     "name": "stdout",
     "output_type": "stream",
     "text": [
      "10...20...30...40...50...60...70...80...90...100 - done.\n",
      "Done: 0\n",
      "Doing: B5.tif\n",
      "Input file size is 829, 1222\n",
      "0...10...20...30...40...50...60...70...80...90...100 - done.\n",
      "Done: 0\n",
      "Doing: B6.tif\n",
      "Input file size is 829, 1222\n",
      "0...10...20...30...40...50."
     ]
    },
    {
     "name": "stderr",
     "output_type": "stream",
     "text": [
      "Warning 1: for band 1, nodata value has been rounded to -2147483648, Int32 being an integer datatype.\n",
      "Warning 1: for band 1, nodata value has been rounded to -2147483648, Int32 being an integer datatype.\n"
     ]
    },
    {
     "name": "stdout",
     "output_type": "stream",
     "text": [
      "..60...70...80...90...100 - done.\n",
      "Done: 0\n",
      "Doing: B7.tif\n",
      "Input file size is 829, 1222\n",
      "0...10...20...30...40...50...60...70...80...90...100 - done.\n",
      "Done: 0\n",
      "Doing: B8.tif\n",
      "Input file size is 829, 1222\n",
      "0...10...20...30...40...50...60...70...80...90..."
     ]
    },
    {
     "name": "stderr",
     "output_type": "stream",
     "text": [
      "Warning 1: for band 1, nodata value has been rounded to -2147483648, Int32 being an integer datatype.\n",
      "Warning 1: for band 1, nodata value has been rounded to -2147483648, Int32 being an integer datatype.\n"
     ]
    },
    {
     "name": "stdout",
     "output_type": "stream",
     "text": [
      "100 - done.\n",
      "Done: 0\n",
      "Doing: B9.tif\n",
      "Input file size is 829, 1222\n",
      "0...10...20...30...40...50...60...70...80...90...100 - done.\n",
      "Done: 0\n",
      "Doing: B10.tif\n"
     ]
    },
    {
     "name": "stderr",
     "output_type": "stream",
     "text": [
      "Warning 1: for band 1, nodata value has been rounded to -2147483648, Int32 being an integer datatype.\n",
      "Warning 1: for band 1, nodata value has been rounded to -2147483648, Int32 being an integer datatype.\n"
     ]
    },
    {
     "name": "stdout",
     "output_type": "stream",
     "text": [
      "Input file size is 829, 1222\n",
      "0...10...20...30...40...50...60...70...80...90...100 - done.\n",
      "Done: 0\n",
      "Doing: B11.tif\n",
      "Input file size is 829, 1222\n",
      "0...10...20...30...40...50...60...70...80...90...100 - done.\n",
      "Done: 0\n",
      "Doing: B12.tif\n",
      "Input file size is 829, 1222\n",
      "0...10...20...30...40"
     ]
    },
    {
     "name": "stderr",
     "output_type": "stream",
     "text": [
      "Warning 1: for band 1, nodata value has been rounded to -2147483648, Int32 being an integer datatype.\n",
      "Warning 1: for band 1, nodata value has been rounded to -2147483648, Int32 being an integer datatype.\n"
     ]
    },
    {
     "name": "stdout",
     "output_type": "stream",
     "text": [
      "...50...60...70...80...90...100 - done.\n",
      "Done: 0\n",
      "Doing: B13.tif\n",
      "Input file size is 829, 1222\n",
      "0...10...20...30...40...50...60...70...80...90...100 - done.\n",
      "Done: 0\n",
      "Doing: B14.tif\n",
      "Input file size is 829, 1222\n",
      "0...10...20...30...40...50...60...70...80..."
     ]
    },
    {
     "name": "stderr",
     "output_type": "stream",
     "text": [
      "Warning 1: for band 1, nodata value has been rounded to -2147483648, Int32 being an integer datatype.\n",
      "Warning 1: for band 1, nodata value has been rounded to -2147483648, Int32 being an integer datatype.\n"
     ]
    },
    {
     "name": "stdout",
     "output_type": "stream",
     "text": [
      "90...100 - done.\n",
      "Done: 0\n",
      "Doing: B15.tif\n",
      "Input file size is 829, 1222\n",
      "0...10...20...30...40...50...60...70...80...90...100 - done.\n",
      "Done: 0\n",
      "Doing: B16.tif\n",
      "Input file size is 829, 1222\n",
      "0...10...20...30...40...50...60..."
     ]
    },
    {
     "name": "stderr",
     "output_type": "stream",
     "text": [
      "Warning 1: for band 1, nodata value has been rounded to -2147483648, Int32 being an integer datatype.\n"
     ]
    },
    {
     "name": "stdout",
     "output_type": "stream",
     "text": [
      "70...80...90...100 - done.\n",
      "Done: 0\n",
      "Doing: B17.tif\n",
      "Input file size is 829, 1222\n",
      "0...10...20...30...40...50...60...70...80"
     ]
    },
    {
     "name": "stderr",
     "output_type": "stream",
     "text": [
      "Warning 1: for band 1, nodata value has been rounded to -2147483648, Int32 being an integer datatype.\n",
      "Warning 1: for band 1, nodata value has been rounded to -2147483648, Int32 being an integer datatype.\n"
     ]
    },
    {
     "name": "stdout",
     "output_type": "stream",
     "text": [
      "...90...100 - done.\n",
      "Done: 0\n",
      "Doing: B18.tif\n",
      "Input file size is 829, 1222\n",
      "0...10...20...30...40...50...60...70...80...90...100 - done.\n",
      "Done: 0\n",
      "Doing: B19.tif\n",
      "Input file size is 829, 1222\n",
      "0...10...20...30...40...50...60...70...80...90...100 - done.\n",
      "Done: 0\n",
      "Doing: ASCII\n"
     ]
    },
    {
     "name": "stderr",
     "output_type": "stream",
     "text": [
      "Warning 1: for band 1, nodata value has been rounded to -2147483648, Int32 being an integer datatype.\n",
      "ERROR 4: `SSP126/2081_2100/GFDL-ESM4/ASCII' not recognized as a supported file format.\n"
     ]
    },
    {
     "name": "stdout",
     "output_type": "stream",
     "text": [
      "Done: 1\n",
      "Doing: B1.tif\n",
      "Input file size is 829, 1222\n",
      "0...10...20...30...40...50...60...70...80...90...100 - done.\n",
      "Done: 0\n",
      "Doing: B2.tif\n"
     ]
    },
    {
     "name": "stderr",
     "output_type": "stream",
     "text": [
      "Warning 1: for band 1, nodata value has been rounded to -2147483648, Int32 being an integer datatype.\n",
      "Warning 1: for band 1, nodata value has been rounded to -2147483648, Int32 being an integer datatype.\n"
     ]
    },
    {
     "name": "stdout",
     "output_type": "stream",
     "text": [
      "Input file size is 829, 1222\n",
      "0...10...20...30...40...50...60...70...80...90...100 - done.\n",
      "Done: 0\n",
      "Doing: B3.tif\n",
      "Input file size is 829, 1222\n",
      "0...10...20"
     ]
    },
    {
     "name": "stderr",
     "output_type": "stream",
     "text": [
      "Warning 1: for band 1, nodata value has been rounded to -2147483648, Int32 being an integer datatype.\n",
      "Warning 1: for band 1, nodata value has been rounded to -2147483648, Int32 being an integer datatype.\n"
     ]
    },
    {
     "name": "stdout",
     "output_type": "stream",
     "text": [
      "...30...40...50...60...70...80...90...100 - done.\n",
      "Done: 0\n",
      "Doing: B4.tif\n",
      "Input file size is 829, 1222\n",
      "0...10...20...30...40...50...60...70...80...90...100 - done.\n",
      "Done: 0\n",
      "Doing: B5.tif\n",
      "Input file size is 829, 1222\n",
      "0...10...20...30...40...50...60...70"
     ]
    },
    {
     "name": "stderr",
     "output_type": "stream",
     "text": [
      "Warning 1: for band 1, nodata value has been rounded to -2147483648, Int32 being an integer datatype.\n",
      "Warning 1: for band 1, nodata value has been rounded to -2147483648, Int32 being an integer datatype.\n"
     ]
    },
    {
     "name": "stdout",
     "output_type": "stream",
     "text": [
      "...80...90...100 - done.\n",
      "Done: 0\n",
      "Doing: B6.tif\n",
      "Input file size is 829, 1222\n",
      "0...10...20...30...40...50...60...70...80...90...100 - done.\n",
      "Done: 0\n",
      "Doing: B7.tif\n",
      "Input file size is 829, 1222\n",
      "0...10...20...30...40...50...60...70...80...90..."
     ]
    },
    {
     "name": "stderr",
     "output_type": "stream",
     "text": [
      "Warning 1: for band 1, nodata value has been rounded to -2147483648, Int32 being an integer datatype.\n",
      "Warning 1: for band 1, nodata value has been rounded to -2147483648, Int32 being an integer datatype.\n"
     ]
    },
    {
     "name": "stdout",
     "output_type": "stream",
     "text": [
      "100 - done.\n",
      "Done: 0\n",
      "Doing: B8.tif\n",
      "Input file size is 829, 1222\n",
      "0...10...20...30...40...50...60...70...80...90...100 - done.\n",
      "Done: 0\n",
      "Doing: B9.tif\n"
     ]
    },
    {
     "name": "stderr",
     "output_type": "stream",
     "text": [
      "Warning 1: for band 1, nodata value has been rounded to -2147483648, Int32 being an integer datatype.\n",
      "Warning 1: for band 1, nodata value has been rounded to -2147483648, Int32 being an integer datatype.\n"
     ]
    },
    {
     "name": "stdout",
     "output_type": "stream",
     "text": [
      "Input file size is 829, 1222\n",
      "0...10...20...30...40...50...60...70...80...90...100 - done.\n",
      "Done: 0\n",
      "Doing: B10.tif\n",
      "Input file size is 829, 1222\n",
      "0...10...20...30...40...50...60...70...80...90...100 - done.\n",
      "Done: 0\n",
      "Doing: B11.tif\n"
     ]
    },
    {
     "name": "stderr",
     "output_type": "stream",
     "text": [
      "Warning 1: for band 1, nodata value has been rounded to -2147483648, Int32 being an integer datatype.\n",
      "Warning 1: for band 1, nodata value has been rounded to -2147483648, Int32 being an integer datatype.\n"
     ]
    },
    {
     "name": "stdout",
     "output_type": "stream",
     "text": [
      "Input file size is 829, 1222\n",
      "0...10...20...30...40...50...60...70...80...90...100 - done.\n",
      "Done: 0\n",
      "Doing: B12.tif\n",
      "Input file size is 829, 1222\n",
      "0...10...20...30...40...50...60...70...80...90...100 - done.\n",
      "Done: 0\n",
      "Doing: B13.tif\n",
      "Input file size is 829, 1222\n",
      "0...10...20...30."
     ]
    },
    {
     "name": "stderr",
     "output_type": "stream",
     "text": [
      "Warning 1: for band 1, nodata value has been rounded to -2147483648, Int32 being an integer datatype.\n",
      "Warning 1: for band 1, nodata value has been rounded to -2147483648, Int32 being an integer datatype.\n"
     ]
    },
    {
     "name": "stdout",
     "output_type": "stream",
     "text": [
      "..40...50...60...70...80...90...100 - done.\n",
      "Done: 0\n",
      "Doing: B14.tif\n",
      "Input file size is 829, 1222\n",
      "0...10...20...30...40...50...60...70...80...90...100 - done.\n",
      "Done: 0\n",
      "Doing: B15.tif\n"
     ]
    },
    {
     "name": "stderr",
     "output_type": "stream",
     "text": [
      "Warning 1: for band 1, nodata value has been rounded to -2147483648, Int32 being an integer datatype.\n",
      "Warning 1: for band 1, nodata value has been rounded to -2147483648, Int32 being an integer datatype.\n"
     ]
    },
    {
     "name": "stdout",
     "output_type": "stream",
     "text": [
      "Input file size is 829, 1222\n",
      "0...10...20...30...40...50...60...70...80...90...100 - done.\n",
      "Done: 0\n",
      "Doing: B16.tif\n",
      "Input file size is 829, 1222\n",
      "0...10...20...30...40...50...60...70...80...90...100 - done.\n",
      "Done: 0\n",
      "Doing: B17.tif\n"
     ]
    },
    {
     "name": "stderr",
     "output_type": "stream",
     "text": [
      "Warning 1: for band 1, nodata value has been rounded to -2147483648, Int32 being an integer datatype.\n",
      "Warning 1: for band 1, nodata value has been rounded to -2147483648, Int32 being an integer datatype.\n"
     ]
    },
    {
     "name": "stdout",
     "output_type": "stream",
     "text": [
      "Input file size is 829, 1222\n",
      "0...10...20...30...40...50...60...70...80...90...100 - done.\n",
      "Done: 0\n",
      "Doing: B18.tif\n",
      "Input file size is 829, 1222\n",
      "0...10...20...30...40...50...60...70...80...90...100 - done.\n",
      "Done: 0\n",
      "Doing: B19.tif\n",
      "Input file size is 829, 1222\n",
      "0...10...20...30...40."
     ]
    },
    {
     "name": "stderr",
     "output_type": "stream",
     "text": [
      "Warning 1: for band 1, nodata value has been rounded to -2147483648, Int32 being an integer datatype.\n",
      "ERROR 4: `SSP126/2081_2100/UKESM1-0-LL/ASCII' not recognized as a supported file format.\n"
     ]
    },
    {
     "name": "stdout",
     "output_type": "stream",
     "text": [
      "..50...60...70...80...90...100 - done.\n",
      "Done: 0\n",
      "Doing: ASCII\n",
      "Done: 1\n",
      "Doing: B1.tif\n",
      "Input file size is 829, 1222\n",
      "0...10."
     ]
    },
    {
     "name": "stderr",
     "output_type": "stream",
     "text": [
      "Warning 1: for band 1, nodata value has been rounded to -2147483648, Int32 being an integer datatype.\n",
      "Warning 1: for band 1, nodata value has been rounded to -2147483648, Int32 being an integer datatype.\n"
     ]
    },
    {
     "name": "stdout",
     "output_type": "stream",
     "text": [
      "..20...30...40...50...60...70...80...90...100 - done.\n",
      "Done: 0\n",
      "Doing: B2.tif\n",
      "Input file size is 829, 1222\n",
      "0...10...20...30...40...50...60...70...80...90...100 - done.\n",
      "Done: 0\n",
      "Doing: B3.tif\n",
      "Input file size is 829, 1222\n",
      "0...10.."
     ]
    },
    {
     "name": "stderr",
     "output_type": "stream",
     "text": [
      "Warning 1: for band 1, nodata value has been rounded to -2147483648, Int32 being an integer datatype.\n",
      "Warning 1: for band 1, nodata value has been rounded to -2147483648, Int32 being an integer datatype.\n"
     ]
    },
    {
     "name": "stdout",
     "output_type": "stream",
     "text": [
      ".20...30...40...50...60...70...80...90...100 - done.\n",
      "Done: 0\n",
      "Doing: B4.tif\n",
      "Input file size is 829, 1222\n",
      "0...10...20...30...40...50...60...70...80...90...100 - done.\n",
      "Done: 0\n",
      "Doing: B5.tif\n"
     ]
    },
    {
     "name": "stderr",
     "output_type": "stream",
     "text": [
      "Warning 1: for band 1, nodata value has been rounded to -2147483648, Int32 being an integer datatype.\n",
      "Warning 1: for band 1, nodata value has been rounded to -2147483648, Int32 being an integer datatype.\n"
     ]
    },
    {
     "name": "stdout",
     "output_type": "stream",
     "text": [
      "Input file size is 829, 1222\n",
      "0...10...20...30...40...50...60...70...80...90...100 - done.\n",
      "Done: 0\n",
      "Doing: B6.tif\n",
      "Input file size is 829, 1222\n",
      "0...10...20...30...40...50...60...70...80...90...100 - done.\n",
      "Done: 0\n",
      "Doing: B7.tif\n",
      "Input file size is 829, 1222\n",
      "0"
     ]
    },
    {
     "name": "stderr",
     "output_type": "stream",
     "text": [
      "Warning 1: for band 1, nodata value has been rounded to -2147483648, Int32 being an integer datatype.\n"
     ]
    },
    {
     "name": "stdout",
     "output_type": "stream",
     "text": [
      "...10...20...30...40...50...60...70...80...90...100 - done.\n",
      "Done: 0\n",
      "Doing: B8.tif\n",
      "Input file size is 829, 1222\n",
      "0...10...20...30...40..."
     ]
    },
    {
     "name": "stderr",
     "output_type": "stream",
     "text": [
      "Warning 1: for band 1, nodata value has been rounded to -2147483648, Int32 being an integer datatype.\n",
      "Warning 1: for band 1, nodata value has been rounded to -2147483648, Int32 being an integer datatype.\n"
     ]
    },
    {
     "name": "stdout",
     "output_type": "stream",
     "text": [
      "50...60...70...80...90...100 - done.\n",
      "Done: 0\n",
      "Doing: B9.tif\n",
      "Input file size is 829, 1222\n",
      "0...10...20...30...40...50...60...70...80...90...100 - done.\n",
      "Done: 0\n",
      "Doing: B10.tif\n",
      "Input file size is 829, 1222\n",
      "0...10...20...30...40...50.."
     ]
    },
    {
     "name": "stderr",
     "output_type": "stream",
     "text": [
      "Warning 1: for band 1, nodata value has been rounded to -2147483648, Int32 being an integer datatype.\n",
      "Warning 1: for band 1, nodata value has been rounded to -2147483648, Int32 being an integer datatype.\n"
     ]
    },
    {
     "name": "stdout",
     "output_type": "stream",
     "text": [
      ".60...70...80...90...100 - done.\n",
      "Done: 0\n",
      "Doing: B11.tif\n",
      "Input file size is 829, 1222\n",
      "0...10...20...30...40...50...60...70...80...90...100 - done.\n",
      "Done: 0\n",
      "Doing: B12.tif\n",
      "Input file size is 829, 1222\n",
      "0...10...20...30.."
     ]
    },
    {
     "name": "stderr",
     "output_type": "stream",
     "text": [
      "Warning 1: for band 1, nodata value has been rounded to -2147483648, Int32 being an integer datatype.\n"
     ]
    },
    {
     "name": "stdout",
     "output_type": "stream",
     "text": [
      ".40...50...60...70...80...90...100 - done.\n",
      "Done: 0\n",
      "Doing: B13.tif\n",
      "Input file size is 829, 1222\n",
      "0...10...20.."
     ]
    },
    {
     "name": "stderr",
     "output_type": "stream",
     "text": [
      "Warning 1: for band 1, nodata value has been rounded to -2147483648, Int32 being an integer datatype.\n"
     ]
    },
    {
     "name": "stdout",
     "output_type": "stream",
     "text": [
      ".30...40...50...60...70...80...90...100 - done.\n",
      "Done: 0\n",
      "Doing: B14.tif\n",
      "Input file size is 829, 1222\n",
      "0..."
     ]
    },
    {
     "name": "stderr",
     "output_type": "stream",
     "text": [
      "Warning 1: for band 1, nodata value has been rounded to -2147483648, Int32 being an integer datatype.\n",
      "Warning 1: for band 1, nodata value has been rounded to -2147483648, Int32 being an integer datatype.\n"
     ]
    },
    {
     "name": "stdout",
     "output_type": "stream",
     "text": [
      "10...20...30...40...50...60...70...80...90...100 - done.\n",
      "Done: 0\n",
      "Doing: B15.tif\n",
      "Input file size is 829, 1222\n",
      "0...10...20...30...40...50...60...70...80...90...100 - done.\n",
      "Done: 0\n",
      "Doing: B16.tif\n",
      "Input file size is 829, 1222\n",
      "0"
     ]
    },
    {
     "name": "stderr",
     "output_type": "stream",
     "text": [
      "Warning 1: for band 1, nodata value has been rounded to -2147483648, Int32 being an integer datatype.\n"
     ]
    },
    {
     "name": "stdout",
     "output_type": "stream",
     "text": [
      "...10...20...30...40...50...60...70...80...90...100 - done.\n",
      "Done: 0\n",
      "Doing: B17.tif\n",
      "Input file size is 829, 1222\n",
      "0...10."
     ]
    },
    {
     "name": "stderr",
     "output_type": "stream",
     "text": [
      "Warning 1: for band 1, nodata value has been rounded to -2147483648, Int32 being an integer datatype.\n"
     ]
    },
    {
     "name": "stdout",
     "output_type": "stream",
     "text": [
      "..20...30...40...50...60...70...80...90...100 - done.\n",
      "Done: 0\n",
      "Doing: B18.tif\n",
      "Input file size is 829, 1222\n",
      "0...10...20...30...40...50...60...70...80...90...100 - done.\n",
      "Done: 0\n",
      "Doing: B19.tif\n"
     ]
    },
    {
     "name": "stderr",
     "output_type": "stream",
     "text": [
      "Warning 1: for band 1, nodata value has been rounded to -2147483648, Int32 being an integer datatype.\n",
      "Warning 1: for band 1, nodata value has been rounded to -2147483648, Int32 being an integer datatype.\n"
     ]
    },
    {
     "name": "stdout",
     "output_type": "stream",
     "text": [
      "Input file size is 829, 1222\n",
      "0...10...20...30...40...50...60...70...80...90...100 - done.\n",
      "Done: 0\n",
      "Doing: ASCII\n",
      "Done: 1\n",
      "Doing: B1.tif\n"
     ]
    },
    {
     "name": "stderr",
     "output_type": "stream",
     "text": [
      "ERROR 4: `SSP126/2081_2100/ACCESS-CM2/ASCII' not recognized as a supported file format.\n",
      "Warning 1: for band 1, nodata value has been rounded to -2147483648, Int32 being an integer datatype.\n"
     ]
    },
    {
     "name": "stdout",
     "output_type": "stream",
     "text": [
      "Input file size is 829, 1222\n",
      "0...10...20...30...40...50...60...70...80...90...100 - done.\n",
      "Done: 0\n",
      "Doing: B2.tif\n",
      "Input file size is 829, 1222\n",
      "0...10..."
     ]
    },
    {
     "name": "stderr",
     "output_type": "stream",
     "text": [
      "Warning 1: for band 1, nodata value has been rounded to -2147483648, Int32 being an integer datatype.\n"
     ]
    },
    {
     "name": "stdout",
     "output_type": "stream",
     "text": [
      "20...30...40...50...60...70...80...90...100 - done.\n",
      "Done: 0\n",
      "Doing: B3.tif\n",
      "Input file size is 829, 1222\n",
      "0."
     ]
    },
    {
     "name": "stderr",
     "output_type": "stream",
     "text": [
      "Warning 1: for band 1, nodata value has been rounded to -2147483648, Int32 being an integer datatype.\n",
      "Warning 1: for band 1, nodata value has been rounded to -2147483648, Int32 being an integer datatype.\n"
     ]
    },
    {
     "name": "stdout",
     "output_type": "stream",
     "text": [
      "..10...20...30...40...50...60...70...80...90...100 - done.\n",
      "Done: 0\n",
      "Doing: B4.tif\n",
      "Input file size is 829, 1222\n",
      "0...10...20...30...40...50...60...70...80...90...100 - done.\n",
      "Done: 0\n",
      "Doing: B5.tif\n",
      "Input file size is 829, 1222\n",
      "0"
     ]
    },
    {
     "name": "stderr",
     "output_type": "stream",
     "text": [
      "Warning 1: for band 1, nodata value has been rounded to -2147483648, Int32 being an integer datatype.\n"
     ]
    },
    {
     "name": "stdout",
     "output_type": "stream",
     "text": [
      "...10...20...30...40...50...60...70...80...90...100 - done.\n",
      "Done: 0\n",
      "Doing: B6.tif\n",
      "Input file size is 829, 1222\n",
      "0"
     ]
    },
    {
     "name": "stderr",
     "output_type": "stream",
     "text": [
      "Warning 1: for band 1, nodata value has been rounded to -2147483648, Int32 being an integer datatype.\n"
     ]
    },
    {
     "name": "stdout",
     "output_type": "stream",
     "text": [
      "...10...20...30...40...50...60...70...80...90...100 - done.\n",
      "Done: 0\n",
      "Doing: B7.tif\n",
      "Input file size is 829, 1222\n",
      "0"
     ]
    },
    {
     "name": "stderr",
     "output_type": "stream",
     "text": [
      "Warning 1: for band 1, nodata value has been rounded to -2147483648, Int32 being an integer datatype.\n"
     ]
    },
    {
     "name": "stdout",
     "output_type": "stream",
     "text": [
      "...10...20...30...40...50...60...70...80...90...100 - done.\n",
      "Done: 0\n",
      "Doing: B8.tif\n",
      "Input file size is 829, 1222\n",
      "0"
     ]
    },
    {
     "name": "stderr",
     "output_type": "stream",
     "text": [
      "Warning 1: for band 1, nodata value has been rounded to -2147483648, Int32 being an integer datatype.\n"
     ]
    },
    {
     "name": "stdout",
     "output_type": "stream",
     "text": [
      "...10...20...30...40...50...60...70...80...90...100 - done.\n",
      "Done: 0\n",
      "Doing: B9.tif\n",
      "Input file size is 829, 1222\n",
      "0...10...20...30...40...50...60...70...80.."
     ]
    },
    {
     "name": "stderr",
     "output_type": "stream",
     "text": [
      "Warning 1: for band 1, nodata value has been rounded to -2147483648, Int32 being an integer datatype.\n",
      "Warning 1: for band 1, nodata value has been rounded to -2147483648, Int32 being an integer datatype.\n"
     ]
    },
    {
     "name": "stdout",
     "output_type": "stream",
     "text": [
      ".90...100 - done.\n",
      "Done: 0\n",
      "Doing: B10.tif\n",
      "Input file size is 829, 1222\n",
      "0...10...20...30...40...50...60...70...80...90...100 - done.\n",
      "Done: 0\n",
      "Doing: B11.tif\n",
      "Input file size is 829, 1222\n",
      "0...10...20...30...40...50...60."
     ]
    },
    {
     "name": "stderr",
     "output_type": "stream",
     "text": [
      "Warning 1: for band 1, nodata value has been rounded to -2147483648, Int32 being an integer datatype.\n"
     ]
    },
    {
     "name": "stdout",
     "output_type": "stream",
     "text": [
      "..70...80...90...100 - done.\n",
      "Done: 0\n",
      "Doing: B12.tif\n",
      "Input file size is 829, 1222\n",
      "0...10...20"
     ]
    },
    {
     "name": "stderr",
     "output_type": "stream",
     "text": [
      "Warning 1: for band 1, nodata value has been rounded to -2147483648, Int32 being an integer datatype.\n",
      "Warning 1: for band 1, nodata value has been rounded to -2147483648, Int32 being an integer datatype.\n"
     ]
    },
    {
     "name": "stdout",
     "output_type": "stream",
     "text": [
      "...30...40...50...60...70...80...90...100 - done.\n",
      "Done: 0\n",
      "Doing: B13.tif\n",
      "Input file size is 829, 1222\n",
      "0...10...20...30...40...50...60...70...80...90...100 - done.\n",
      "Done: 0\n",
      "Doing: B14.tif\n",
      "Input file size is 829, 1222\n",
      "0...10...20...30...40...50...60"
     ]
    },
    {
     "name": "stderr",
     "output_type": "stream",
     "text": [
      "Warning 1: for band 1, nodata value has been rounded to -2147483648, Int32 being an integer datatype.\n",
      "Warning 1: for band 1, nodata value has been rounded to -2147483648, Int32 being an integer datatype.\n"
     ]
    },
    {
     "name": "stdout",
     "output_type": "stream",
     "text": [
      "...70...80...90...100 - done.\n",
      "Done: 0\n",
      "Doing: B15.tif\n",
      "Input file size is 829, 1222\n",
      "0...10...20...30...40...50...60...70...80...90...100 - done.\n",
      "Done: 0\n",
      "Doing: B16.tif\n",
      "Input file size is 829, 1222\n",
      "0...10...20..."
     ]
    },
    {
     "name": "stderr",
     "output_type": "stream",
     "text": [
      "Warning 1: for band 1, nodata value has been rounded to -2147483648, Int32 being an integer datatype.\n",
      "Warning 1: for band 1, nodata value has been rounded to -2147483648, Int32 being an integer datatype.\n"
     ]
    },
    {
     "name": "stdout",
     "output_type": "stream",
     "text": [
      "30...40...50...60...70...80...90...100 - done.\n",
      "Done: 0\n",
      "Doing: B17.tif\n",
      "Input file size is 829, 1222\n",
      "0...10...20...30...40...50...60...70...80...90...100 - done.\n",
      "Done: 0\n",
      "Doing: B18.tif\n",
      "Input file size is 829, 1222\n",
      "0...10...20...30...40...50...60.."
     ]
    },
    {
     "name": "stderr",
     "output_type": "stream",
     "text": [
      "Warning 1: for band 1, nodata value has been rounded to -2147483648, Int32 being an integer datatype.\n",
      "Warning 1: for band 1, nodata value has been rounded to -2147483648, Int32 being an integer datatype.\n"
     ]
    },
    {
     "name": "stdout",
     "output_type": "stream",
     "text": [
      ".70...80...90...100 - done.\n",
      "Done: 0\n",
      "Doing: B19.tif\n",
      "Input file size is 829, 1222\n",
      "0...10...20...30...40...50...60...70...80...90...100 - done.\n",
      "Done: 0\n",
      "Doing: ASCII\n",
      "Done: 1\n",
      "Doing: B1.tif\n",
      "Input file size is 829, 1222\n",
      "0...10...20...30...40...50..."
     ]
    },
    {
     "name": "stderr",
     "output_type": "stream",
     "text": [
      "ERROR 4: `SSP126/2081_2100/ACCESS-ESM1-5/ASCII' not recognized as a supported file format.\n",
      "Warning 1: for band 1, nodata value has been rounded to -2147483648, Int32 being an integer datatype.\n"
     ]
    },
    {
     "name": "stdout",
     "output_type": "stream",
     "text": [
      "60...70...80...90...100 - done.\n",
      "Done: 0\n",
      "Doing: B2.tif\n",
      "Input file size is 829, 1222\n",
      "0...10...20...30...40...50...60...70...80.."
     ]
    },
    {
     "name": "stderr",
     "output_type": "stream",
     "text": [
      "Warning 1: for band 1, nodata value has been rounded to -2147483648, Int32 being an integer datatype.\n",
      "Warning 1: for band 1, nodata value has been rounded to -2147483648, Int32 being an integer datatype.\n"
     ]
    },
    {
     "name": "stdout",
     "output_type": "stream",
     "text": [
      ".90...100 - done.\n",
      "Done: 0\n",
      "Doing: B3.tif\n",
      "Input file size is 829, 1222\n",
      "0...10...20...30...40...50...60...70...80...90...100 - done.\n",
      "Done: 0\n",
      "Doing: B4.tif\n",
      "Input file size is 829, 1222\n",
      "0...10...20...30...40...50...60...70...80...90...100 - done.\n",
      "Done: 0\n",
      "Doing: B5.tif\n"
     ]
    },
    {
     "name": "stderr",
     "output_type": "stream",
     "text": [
      "Warning 1: for band 1, nodata value has been rounded to -2147483648, Int32 being an integer datatype.\n",
      "Warning 1: for band 1, nodata value has been rounded to -2147483648, Int32 being an integer datatype.\n"
     ]
    },
    {
     "name": "stdout",
     "output_type": "stream",
     "text": [
      "Input file size is 829, 1222\n",
      "0...10...20...30...40...50...60...70...80...90...100 - done.\n",
      "Done: 0\n",
      "Doing: B6.tif\n"
     ]
    },
    {
     "name": "stderr",
     "output_type": "stream",
     "text": [
      "Warning 1: for band 1, nodata value has been rounded to -2147483648, Int32 being an integer datatype.\n",
      "Warning 1: for band 1, nodata value has been rounded to -2147483648, Int32 being an integer datatype.\n"
     ]
    },
    {
     "name": "stdout",
     "output_type": "stream",
     "text": [
      "Input file size is 829, 1222\n",
      "0...10...20...30...40...50...60...70...80...90...100 - done.\n",
      "Done: 0\n",
      "Doing: B7.tif\n",
      "Input file size is 829, 1222\n",
      "0...10...20...30...40...50...60...70...80...90...100 - done.\n",
      "Done: 0\n",
      "Doing: B8.tif\n",
      "Input file size is 829, 1222\n",
      "0...10...20...30...40..."
     ]
    },
    {
     "name": "stderr",
     "output_type": "stream",
     "text": [
      "Warning 1: for band 1, nodata value has been rounded to -2147483648, Int32 being an integer datatype.\n",
      "Warning 1: for band 1, nodata value has been rounded to -2147483648, Int32 being an integer datatype.\n"
     ]
    },
    {
     "name": "stdout",
     "output_type": "stream",
     "text": [
      "50...60...70...80...90...100 - done.\n",
      "Done: 0\n",
      "Doing: B9.tif\n",
      "Input file size is 829, 1222\n",
      "0...10...20...30...40...50...60...70...80...90...100 - done.\n",
      "Done: 0\n",
      "Doing: B10.tif\n",
      "Input file size is 829, 1222\n",
      "0...10...20...30...40...50...60...70...80...90..."
     ]
    },
    {
     "name": "stderr",
     "output_type": "stream",
     "text": [
      "Warning 1: for band 1, nodata value has been rounded to -2147483648, Int32 being an integer datatype.\n",
      "Warning 1: for band 1, nodata value has been rounded to -2147483648, Int32 being an integer datatype.\n"
     ]
    },
    {
     "name": "stdout",
     "output_type": "stream",
     "text": [
      "100 - done.\n",
      "Done: 0\n",
      "Doing: B11.tif\n",
      "Input file size is 829, 1222\n",
      "0...10...20...30...40...50...60...70...80...90...100 - done.\n",
      "Done: 0\n",
      "Doing: B12.tif\n"
     ]
    },
    {
     "name": "stderr",
     "output_type": "stream",
     "text": [
      "Warning 1: for band 1, nodata value has been rounded to -2147483648, Int32 being an integer datatype.\n",
      "Warning 1: for band 1, nodata value has been rounded to -2147483648, Int32 being an integer datatype.\n"
     ]
    },
    {
     "name": "stdout",
     "output_type": "stream",
     "text": [
      "Input file size is 829, 1222\n",
      "0...10...20...30...40...50...60...70...80...90...100 - done.\n",
      "Done: 0\n",
      "Doing: B13.tif\n",
      "Input file size is 829, 1222\n",
      "0...10...20...30...40...50...60...70...80...90...100 - done.\n",
      "Done: 0\n",
      "Doing: B14.tif\n",
      "Input file size is 829, 1222\n",
      "0...10...20...30..."
     ]
    },
    {
     "name": "stderr",
     "output_type": "stream",
     "text": [
      "Warning 1: for band 1, nodata value has been rounded to -2147483648, Int32 being an integer datatype.\n",
      "Warning 1: for band 1, nodata value has been rounded to -2147483648, Int32 being an integer datatype.\n"
     ]
    },
    {
     "name": "stdout",
     "output_type": "stream",
     "text": [
      "40...50...60...70...80...90...100 - done.\n",
      "Done: 0\n",
      "Doing: B15.tif\n",
      "Input file size is 829, 1222\n",
      "0...10...20...30...40...50...60...70...80...90...100 - done.\n",
      "Done: 0\n",
      "Doing: B16.tif\n",
      "Input file size is 829, 1222\n",
      "0...10...20...30...40...50...60...70...80..."
     ]
    },
    {
     "name": "stderr",
     "output_type": "stream",
     "text": [
      "Warning 1: for band 1, nodata value has been rounded to -2147483648, Int32 being an integer datatype.\n",
      "Warning 1: for band 1, nodata value has been rounded to -2147483648, Int32 being an integer datatype.\n"
     ]
    },
    {
     "name": "stdout",
     "output_type": "stream",
     "text": [
      "90...100 - done.\n",
      "Done: 0\n",
      "Doing: B17.tif\n",
      "Input file size is 829, 1222\n",
      "0...10...20...30...40...50...60...70...80...90...100 - done.\n",
      "Done: 0\n",
      "Doing: B18.tif\n",
      "Input file size is 829, 1222\n",
      "0...10...20...30...40...50...60...70...80...90...100 - done.\n",
      "Done: 0\n",
      "Doing: B19.tif\n"
     ]
    },
    {
     "name": "stderr",
     "output_type": "stream",
     "text": [
      "Warning 1: for band 1, nodata value has been rounded to -2147483648, Int32 being an integer datatype.\n",
      "Warning 1: for band 1, nodata value has been rounded to -2147483648, Int32 being an integer datatype.\n"
     ]
    },
    {
     "name": "stdout",
     "output_type": "stream",
     "text": [
      "Input file size is 829, 1222\n",
      "0...10...20...30...40...50...60...70...80...90...100 - done.\n",
      "Done: 0\n",
      "Doing: ASCII\n",
      "Done: 1\n",
      "Doing: B1.tif\n"
     ]
    },
    {
     "name": "stderr",
     "output_type": "stream",
     "text": [
      "ERROR 4: `SSP126/2081_2100/BCC-CSM2-MR/ASCII' not recognized as a supported file format.\n",
      "Warning 1: for band 1, nodata value has been rounded to -2147483648, Int32 being an integer datatype.\n"
     ]
    },
    {
     "name": "stdout",
     "output_type": "stream",
     "text": [
      "Input file size is 829, 1222\n",
      "0...10...20...30...40...50...60...70...80...90...100 - done.\n",
      "Done: 0\n",
      "Doing: B2.tif\n",
      "Input file size is 829, 1222\n",
      "0...10...20"
     ]
    },
    {
     "name": "stderr",
     "output_type": "stream",
     "text": [
      "Warning 1: for band 1, nodata value has been rounded to -2147483648, Int32 being an integer datatype.\n",
      "Warning 1: for band 1, nodata value has been rounded to -2147483648, Int32 being an integer datatype.\n"
     ]
    },
    {
     "name": "stdout",
     "output_type": "stream",
     "text": [
      "...30...40...50...60...70...80...90...100 - done.\n",
      "Done: 0\n",
      "Doing: B3.tif\n",
      "Input file size is 829, 1222\n",
      "0...10...20...30...40...50...60...70...80...90...100 - done.\n",
      "Done: 0\n",
      "Doing: B4.tif\n",
      "Input file size is 829, 1222\n",
      "0...10...20...30...40..."
     ]
    },
    {
     "name": "stderr",
     "output_type": "stream",
     "text": [
      "Warning 1: for band 1, nodata value has been rounded to -2147483648, Int32 being an integer datatype.\n",
      "Warning 1: for band 1, nodata value has been rounded to -2147483648, Int32 being an integer datatype.\n"
     ]
    },
    {
     "name": "stdout",
     "output_type": "stream",
     "text": [
      "50...60...70...80...90...100 - done.\n",
      "Done: 0\n",
      "Doing: B5.tif\n",
      "Input file size is 829, 1222\n",
      "0...10...20...30...40...50...60...70...80...90...100 - done.\n",
      "Done: 0\n",
      "Doing: B6.tif\n",
      "Input file size is 829, 1222\n",
      "0...10...20...30...40...50...60...70...80...90..."
     ]
    },
    {
     "name": "stderr",
     "output_type": "stream",
     "text": [
      "Warning 1: for band 1, nodata value has been rounded to -2147483648, Int32 being an integer datatype.\n",
      "Warning 1: for band 1, nodata value has been rounded to -2147483648, Int32 being an integer datatype.\n"
     ]
    },
    {
     "name": "stdout",
     "output_type": "stream",
     "text": [
      "100 - done.\n",
      "Done: 0\n",
      "Doing: B7.tif\n",
      "Input file size is 829, 1222\n",
      "0...10...20...30...40...50...60...70...80...90...100 - done.\n",
      "Done: 0\n",
      "Doing: B8.tif\n",
      "Input file size is 829, 1222\n",
      "0...10...20...30...40...50...60...70...80...90..."
     ]
    },
    {
     "name": "stderr",
     "output_type": "stream",
     "text": [
      "Warning 1: for band 1, nodata value has been rounded to -2147483648, Int32 being an integer datatype.\n",
      "Warning 1: for band 1, nodata value has been rounded to -2147483648, Int32 being an integer datatype.\n"
     ]
    },
    {
     "name": "stdout",
     "output_type": "stream",
     "text": [
      "100 - done.\n",
      "Done: 0\n",
      "Doing: B9.tif\n",
      "Input file size is 829, 1222\n",
      "0...10...20...30...40...50...60...70...80...90...100 - done.\n",
      "Done: 0\n",
      "Doing: B10.tif\n"
     ]
    },
    {
     "name": "stderr",
     "output_type": "stream",
     "text": [
      "Warning 1: for band 1, nodata value has been rounded to -2147483648, Int32 being an integer datatype.\n",
      "Warning 1: for band 1, nodata value has been rounded to -2147483648, Int32 being an integer datatype.\n"
     ]
    },
    {
     "name": "stdout",
     "output_type": "stream",
     "text": [
      "Input file size is 829, 1222\n",
      "0...10...20...30...40...50...60...70...80...90...100 - done.\n",
      "Done: 0\n",
      "Doing: B11.tif\n",
      "Input file size is 829, 1222\n",
      "0...10...20...30...40...50...60...70...80...90...100 - done.\n",
      "Done: 0\n",
      "Doing: B12.tif\n",
      "Input file size is 829, 1222\n",
      "0...10...20...30...40...50."
     ]
    },
    {
     "name": "stderr",
     "output_type": "stream",
     "text": [
      "Warning 1: for band 1, nodata value has been rounded to -2147483648, Int32 being an integer datatype.\n",
      "Warning 1: for band 1, nodata value has been rounded to -2147483648, Int32 being an integer datatype.\n"
     ]
    },
    {
     "name": "stdout",
     "output_type": "stream",
     "text": [
      "..60...70...80...90...100 - done.\n",
      "Done: 0\n",
      "Doing: B13.tif\n",
      "Input file size is 829, 1222\n",
      "0...10...20...30...40...50...60...70...80...90...100 - done.\n",
      "Done: 0\n",
      "Doing: B14.tif\n",
      "Input file size is 829, 1222\n",
      "0...10...20...30...40...50...60...70...80...90..."
     ]
    },
    {
     "name": "stderr",
     "output_type": "stream",
     "text": [
      "Warning 1: for band 1, nodata value has been rounded to -2147483648, Int32 being an integer datatype.\n",
      "Warning 1: for band 1, nodata value has been rounded to -2147483648, Int32 being an integer datatype.\n"
     ]
    },
    {
     "name": "stdout",
     "output_type": "stream",
     "text": [
      "100 - done.\n",
      "Done: 0\n",
      "Doing: B15.tif\n",
      "Input file size is 829, 1222\n",
      "0...10...20...30...40...50...60...70...80...90...100 - done.\n",
      "Done: 0\n",
      "Doing: B16.tif\n",
      "Input file size is 829, 1222\n",
      "0...10...20...30...40...50...60...70...80...90..."
     ]
    },
    {
     "name": "stderr",
     "output_type": "stream",
     "text": [
      "Warning 1: for band 1, nodata value has been rounded to -2147483648, Int32 being an integer datatype.\n"
     ]
    },
    {
     "name": "stdout",
     "output_type": "stream",
     "text": [
      "100 - done.\n",
      "Done: 0\n",
      "Doing: B17.tif\n",
      "Input file size is 829, 1222\n",
      "0...10...20...30...40...50...60...70...80...90...100 - done.\n",
      "Done: 0\n",
      "Doing: B18.tif\n"
     ]
    },
    {
     "name": "stderr",
     "output_type": "stream",
     "text": [
      "Warning 1: for band 1, nodata value has been rounded to -2147483648, Int32 being an integer datatype.\n",
      "Warning 1: for band 1, nodata value has been rounded to -2147483648, Int32 being an integer datatype.\n"
     ]
    },
    {
     "name": "stdout",
     "output_type": "stream",
     "text": [
      "Input file size is 829, 1222\n",
      "0...10...20...30...40...50...60...70...80...90...100 - done.\n",
      "Done: 0\n",
      "Doing: B19.tif\n",
      "Input file size is 829, 1222\n",
      "0...10...20."
     ]
    },
    {
     "name": "stderr",
     "output_type": "stream",
     "text": [
      "Warning 1: for band 1, nodata value has been rounded to -2147483648, Int32 being an integer datatype.\n",
      "ERROR 4: `SSP126/2081_2100/CanESM5/ASCII' not recognized as a supported file format.\n"
     ]
    },
    {
     "name": "stdout",
     "output_type": "stream",
     "text": [
      "..30...40...50...60...70...80...90...100 - done.\n",
      "Done: 0\n",
      "Doing: ASCII\n",
      "Done: 1\n",
      "Doing: B1.tif\n"
     ]
    },
    {
     "name": "stderr",
     "output_type": "stream",
     "text": [
      "Warning 1: for band 1, nodata value has been rounded to -2147483648, Int32 being an integer datatype.\n",
      "Warning 1: for band 1, nodata value has been rounded to -2147483648, Int32 being an integer datatype.\n"
     ]
    },
    {
     "name": "stdout",
     "output_type": "stream",
     "text": [
      "Input file size is 829, 1222\n",
      "0...10...20...30...40...50...60...70...80...90...100 - done.\n",
      "Done: 0\n",
      "Doing: B2.tif\n",
      "Input file size is 829, 1222\n",
      "0...10...20...30...40...50...60...70...80...90...100 - done.\n",
      "Done: 0\n",
      "Doing: B3.tif\n",
      "Input file size is 829, 1222\n",
      "0...10...20...30...40..."
     ]
    },
    {
     "name": "stderr",
     "output_type": "stream",
     "text": [
      "Warning 1: for band 1, nodata value has been rounded to -2147483648, Int32 being an integer datatype.\n",
      "Warning 1: for band 1, nodata value has been rounded to -2147483648, Int32 being an integer datatype.\n"
     ]
    },
    {
     "name": "stdout",
     "output_type": "stream",
     "text": [
      "50...60...70...80...90...100 - done.\n",
      "Done: 0\n",
      "Doing: B4.tif\n",
      "Input file size is 829, 1222\n",
      "0...10...20...30...40...50...60...70...80...90...100 - done.\n",
      "Done: 0\n",
      "Doing: B5.tif\n",
      "Input file size is 829, 1222\n",
      "0...10...20...30...40...50...60...70..."
     ]
    },
    {
     "name": "stderr",
     "output_type": "stream",
     "text": [
      "Warning 1: for band 1, nodata value has been rounded to -2147483648, Int32 being an integer datatype.\n"
     ]
    },
    {
     "name": "stdout",
     "output_type": "stream",
     "text": [
      "80...90...100 - done.\n",
      "Done: 0\n",
      "Doing: B6.tif\n",
      "Input file size is 829, 1222\n",
      "0...10...20...30...40...50...60...70...80...90..."
     ]
    },
    {
     "name": "stderr",
     "output_type": "stream",
     "text": [
      "Warning 1: for band 1, nodata value has been rounded to -2147483648, Int32 being an integer datatype.\n",
      "Warning 1: for band 1, nodata value has been rounded to -2147483648, Int32 being an integer datatype.\n"
     ]
    },
    {
     "name": "stdout",
     "output_type": "stream",
     "text": [
      "100 - done.\n",
      "Done: 0\n",
      "Doing: B7.tif\n",
      "Input file size is 829, 1222\n",
      "0...10...20...30...40...50...60...70...80...90...100 - done.\n",
      "Done: 0\n",
      "Doing: B8.tif\n"
     ]
    },
    {
     "name": "stderr",
     "output_type": "stream",
     "text": [
      "Warning 1: for band 1, nodata value has been rounded to -2147483648, Int32 being an integer datatype.\n",
      "Warning 1: for band 1, nodata value has been rounded to -2147483648, Int32 being an integer datatype.\n"
     ]
    },
    {
     "name": "stdout",
     "output_type": "stream",
     "text": [
      "Input file size is 829, 1222\n",
      "0...10...20...30...40...50...60...70...80...90...100 - done.\n",
      "Done: 0\n",
      "Doing: B9.tif\n",
      "Input file size is 829, 1222\n",
      "0...10...20...30...40...50...60...70...80...90...100 - done.\n",
      "Done: 0\n",
      "Doing: B10.tif\n",
      "Input file size is 829, 1222\n",
      "0...10...20...30...40..."
     ]
    },
    {
     "name": "stderr",
     "output_type": "stream",
     "text": [
      "Warning 1: for band 1, nodata value has been rounded to -2147483648, Int32 being an integer datatype.\n",
      "Warning 1: for band 1, nodata value has been rounded to -2147483648, Int32 being an integer datatype.\n"
     ]
    },
    {
     "name": "stdout",
     "output_type": "stream",
     "text": [
      "50...60...70...80...90...100 - done.\n",
      "Done: 0\n",
      "Doing: B11.tif\n",
      "Input file size is 829, 1222\n",
      "0...10...20...30...40...50...60...70...80...90...100 - done.\n",
      "Done: 0\n",
      "Doing: B12.tif\n",
      "Input file size is 829, 1222\n",
      "0...10...20...30...40...50...60..."
     ]
    },
    {
     "name": "stderr",
     "output_type": "stream",
     "text": [
      "Warning 1: for band 1, nodata value has been rounded to -2147483648, Int32 being an integer datatype.\n"
     ]
    },
    {
     "name": "stdout",
     "output_type": "stream",
     "text": [
      "70...80...90...100 - done.\n",
      "Done: 0\n",
      "Doing: B13.tif\n",
      "Input file size is 829, 1222\n",
      "0...10...20...30...40...50...60...70...80...90.."
     ]
    },
    {
     "name": "stderr",
     "output_type": "stream",
     "text": [
      "Warning 1: for band 1, nodata value has been rounded to -2147483648, Int32 being an integer datatype.\n",
      "Warning 1: for band 1, nodata value has been rounded to -2147483648, Int32 being an integer datatype.\n"
     ]
    },
    {
     "name": "stdout",
     "output_type": "stream",
     "text": [
      ".100 - done.\n",
      "Done: 0\n",
      "Doing: B14.tif\n",
      "Input file size is 829, 1222\n",
      "0...10...20...30...40...50...60...70...80...90...100 - done.\n",
      "Done: 0\n",
      "Doing: B15.tif\n",
      "Input file size is 829, 1222\n",
      "0...10."
     ]
    },
    {
     "name": "stderr",
     "output_type": "stream",
     "text": [
      "Warning 1: for band 1, nodata value has been rounded to -2147483648, Int32 being an integer datatype.\n"
     ]
    },
    {
     "name": "stdout",
     "output_type": "stream",
     "text": [
      "..20...30...40...50...60...70...80...90...100 - done.\n",
      "Done: 0\n",
      "Doing: B16.tif\n",
      "Input file size is 829, 1222\n",
      "0...10...20...30.."
     ]
    },
    {
     "name": "stderr",
     "output_type": "stream",
     "text": [
      "Warning 1: for band 1, nodata value has been rounded to -2147483648, Int32 being an integer datatype.\n"
     ]
    },
    {
     "name": "stdout",
     "output_type": "stream",
     "text": [
      ".40...50...60...70...80...90...100 - done.\n",
      "Done: 0\n",
      "Doing: B17.tif\n",
      "Input file size is 829, 1222\n",
      "0...10.."
     ]
    },
    {
     "name": "stderr",
     "output_type": "stream",
     "text": [
      "Warning 1: for band 1, nodata value has been rounded to -2147483648, Int32 being an integer datatype.\n",
      "Warning 1: for band 1, nodata value has been rounded to -2147483648, Int32 being an integer datatype.\n"
     ]
    },
    {
     "name": "stdout",
     "output_type": "stream",
     "text": [
      ".20...30...40...50...60...70...80...90...100 - done.\n",
      "Done: 0\n",
      "Doing: B18.tif\n",
      "Input file size is 829, 1222\n",
      "0...10...20...30...40...50...60...70...80...90...100 - done.\n",
      "Done: 0\n",
      "Doing: B19.tif\n",
      "Input file size is 829, 1222\n",
      "0...10."
     ]
    },
    {
     "name": "stderr",
     "output_type": "stream",
     "text": [
      "Warning 1: for band 1, nodata value has been rounded to -2147483648, Int32 being an integer datatype.\n"
     ]
    },
    {
     "name": "stdout",
     "output_type": "stream",
     "text": [
      "..20...30...40...50...60...70...80...90...100 - done.\n",
      "Done: 0\n",
      "Doing: ASCII\n"
     ]
    },
    {
     "name": "stderr",
     "output_type": "stream",
     "text": [
      "ERROR 4: `SSP126/2081_2100/CanESM5-CanOE/ASCII' not recognized as a supported file format.\n",
      "Warning 1: for band 1, nodata value has been rounded to -2147483648, Int32 being an integer datatype.\n"
     ]
    },
    {
     "name": "stdout",
     "output_type": "stream",
     "text": [
      "Done: 1\n",
      "Doing: B1.tif\n",
      "Input file size is 829, 1222\n",
      "0...10...20...30...40...50...60...70...80...90...100 - done.\n",
      "Done: 0\n",
      "Doing: B2.tif\n",
      "Input file size is 829, 1222\n",
      "0"
     ]
    },
    {
     "name": "stderr",
     "output_type": "stream",
     "text": [
      "Warning 1: for band 1, nodata value has been rounded to -2147483648, Int32 being an integer datatype.\n"
     ]
    },
    {
     "name": "stdout",
     "output_type": "stream",
     "text": [
      "...10...20...30...40...50...60...70...80...90...100 - done.\n",
      "Done: 0\n",
      "Doing: B3.tif\n"
     ]
    },
    {
     "name": "stderr",
     "output_type": "stream",
     "text": [
      "Warning 1: for band 1, nodata value has been rounded to -2147483648, Int32 being an integer datatype.\n"
     ]
    },
    {
     "name": "stdout",
     "output_type": "stream",
     "text": [
      "Input file size is 829, 1222\n",
      "0...10...20...30...40...50...60...70...80...90...100 - done.\n",
      "Done: 0\n",
      "Doing: B4.tif\n"
     ]
    },
    {
     "name": "stderr",
     "output_type": "stream",
     "text": [
      "Warning 1: for band 1, nodata value has been rounded to -2147483648, Int32 being an integer datatype.\n"
     ]
    },
    {
     "name": "stdout",
     "output_type": "stream",
     "text": [
      "Input file size is 829, 1222\n",
      "0...10...20...30...40...50...60...70...80...90...100 - done.\n",
      "Done: 0\n",
      "Doing: B5.tif\n",
      "Input file size is 829, 1222\n",
      "0...10...20...30...40...50...60...70...80...90...100 - done.\n",
      "Done: 0\n",
      "Doing: B6.tif\n"
     ]
    },
    {
     "name": "stderr",
     "output_type": "stream",
     "text": [
      "Warning 1: for band 1, nodata value has been rounded to -2147483648, Int32 being an integer datatype.\n",
      "Warning 1: for band 1, nodata value has been rounded to -2147483648, Int32 being an integer datatype.\n"
     ]
    },
    {
     "name": "stdout",
     "output_type": "stream",
     "text": [
      "Input file size is 829, 1222\n",
      "0...10...20...30...40...50...60...70...80...90...100 - done.\n",
      "Done: 0\n",
      "Doing: B7.tif\n"
     ]
    },
    {
     "name": "stderr",
     "output_type": "stream",
     "text": [
      "Warning 1: for band 1, nodata value has been rounded to -2147483648, Int32 being an integer datatype.\n",
      "Warning 1: for band 1, nodata value has been rounded to -2147483648, Int32 being an integer datatype.\n"
     ]
    },
    {
     "name": "stdout",
     "output_type": "stream",
     "text": [
      "Input file size is 829, 1222\n",
      "0...10...20...30...40...50...60...70...80...90...100 - done.\n",
      "Done: 0\n",
      "Doing: B8.tif\n",
      "Input file size is 829, 1222\n",
      "0...10...20...30...40...50...60...70...80...90...100 - done.\n",
      "Done: 0\n",
      "Doing: B9.tif\n",
      "Input file size is 829, 1222\n",
      "0..."
     ]
    },
    {
     "name": "stderr",
     "output_type": "stream",
     "text": [
      "Warning 1: for band 1, nodata value has been rounded to -2147483648, Int32 being an integer datatype.\n"
     ]
    },
    {
     "name": "stdout",
     "output_type": "stream",
     "text": [
      "10...20...30...40...50...60...70...80...90...100 - done.\n",
      "Done: 0\n",
      "Doing: B10.tif\n",
      "Input file size is 829, 1222\n",
      "0."
     ]
    },
    {
     "name": "stderr",
     "output_type": "stream",
     "text": [
      "Warning 1: for band 1, nodata value has been rounded to -2147483648, Int32 being an integer datatype.\n",
      "Warning 1: for band 1, nodata value has been rounded to -2147483648, Int32 being an integer datatype.\n"
     ]
    },
    {
     "name": "stdout",
     "output_type": "stream",
     "text": [
      "..10...20...30...40...50...60...70...80...90...100 - done.\n",
      "Done: 0\n",
      "Doing: B11.tif\n",
      "Input file size is 829, 1222\n",
      "0...10...20...30...40...50...60...70...80...90...100 - done.\n",
      "Done: 0\n",
      "Doing: B12.tif\n",
      "Input file size is 829, 1222\n",
      "0...10...20...30...40...50...60...70..."
     ]
    },
    {
     "name": "stderr",
     "output_type": "stream",
     "text": [
      "Warning 1: for band 1, nodata value has been rounded to -2147483648, Int32 being an integer datatype.\n"
     ]
    },
    {
     "name": "stdout",
     "output_type": "stream",
     "text": [
      "80...90...100 - done.\n",
      "Done: 0\n",
      "Doing: B13.tif\n",
      "Input file size is 829, 1222\n",
      "0...10...20...30...40...50...60...70."
     ]
    },
    {
     "name": "stderr",
     "output_type": "stream",
     "text": [
      "Warning 1: for band 1, nodata value has been rounded to -2147483648, Int32 being an integer datatype.\n",
      "Warning 1: for band 1, nodata value has been rounded to -2147483648, Int32 being an integer datatype.\n"
     ]
    },
    {
     "name": "stdout",
     "output_type": "stream",
     "text": [
      "..80...90...100 - done.\n",
      "Done: 0\n",
      "Doing: B14.tif\n",
      "Input file size is 829, 1222\n",
      "0...10...20...30...40...50...60...70...80...90...100 - done.\n",
      "Done: 0\n",
      "Doing: B15.tif\n",
      "Input file size is 829, 1222\n",
      "0...10...20...30...40...50...60...70...80...90.."
     ]
    },
    {
     "name": "stderr",
     "output_type": "stream",
     "text": [
      "Warning 1: for band 1, nodata value has been rounded to -2147483648, Int32 being an integer datatype.\n",
      "Warning 1: for band 1, nodata value has been rounded to -2147483648, Int32 being an integer datatype.\n"
     ]
    },
    {
     "name": "stdout",
     "output_type": "stream",
     "text": [
      ".100 - done.\n",
      "Done: 0\n",
      "Doing: B16.tif\n",
      "Input file size is 829, 1222\n",
      "0...10...20...30...40...50...60...70...80...90...100 - done.\n",
      "Done: 0\n",
      "Doing: B17.tif\n",
      "Input file size is 829, 1222\n",
      "0...10...20...30...40...50...60...70...80...90...100 - done.\n",
      "Done: 0\n",
      "Doing: B18.tif\n"
     ]
    },
    {
     "name": "stderr",
     "output_type": "stream",
     "text": [
      "Warning 1: for band 1, nodata value has been rounded to -2147483648, Int32 being an integer datatype.\n",
      "Warning 1: for band 1, nodata value has been rounded to -2147483648, Int32 being an integer datatype.\n"
     ]
    },
    {
     "name": "stdout",
     "output_type": "stream",
     "text": [
      "Input file size is 829, 1222\n",
      "0...10...20...30...40...50...60...70...80...90...100 - done.\n",
      "Done: 0\n",
      "Doing: B19.tif\n",
      "Input file size is 829, 1222\n",
      "0...10.."
     ]
    },
    {
     "name": "stderr",
     "output_type": "stream",
     "text": [
      "Warning 1: for band 1, nodata value has been rounded to -2147483648, Int32 being an integer datatype.\n",
      "ERROR 4: `SSP126/2081_2100/CMCC-ESM2/ASCII' not recognized as a supported file format.\n"
     ]
    },
    {
     "name": "stdout",
     "output_type": "stream",
     "text": [
      ".20...30...40...50...60...70...80...90...100 - done.\n",
      "Done: 0\n",
      "Doing: ASCII\n",
      "Done: 1\n",
      "Doing: B1.tif\n"
     ]
    },
    {
     "name": "stderr",
     "output_type": "stream",
     "text": [
      "Warning 1: for band 1, nodata value has been rounded to -2147483648, Int32 being an integer datatype.\n",
      "Warning 1: for band 1, nodata value has been rounded to -2147483648, Int32 being an integer datatype.\n"
     ]
    },
    {
     "name": "stdout",
     "output_type": "stream",
     "text": [
      "Input file size is 829, 1222\n",
      "0...10...20...30...40...50...60...70...80...90...100 - done.\n",
      "Done: 0\n",
      "Doing: B2.tif\n",
      "Input file size is 829, 1222\n",
      "0...10...20...30...40...50...60...70...80...90...100 - done.\n",
      "Done: 0\n",
      "Doing: B3.tif\n",
      "Input file size is 829, 1222\n",
      "0...10...20...30...40.."
     ]
    },
    {
     "name": "stderr",
     "output_type": "stream",
     "text": [
      "Warning 1: for band 1, nodata value has been rounded to -2147483648, Int32 being an integer datatype.\n",
      "Warning 1: for band 1, nodata value has been rounded to -2147483648, Int32 being an integer datatype.\n"
     ]
    },
    {
     "name": "stdout",
     "output_type": "stream",
     "text": [
      ".50...60...70...80...90...100 - done.\n",
      "Done: 0\n",
      "Doing: B4.tif\n",
      "Input file size is 829, 1222\n",
      "0...10...20...30...40...50...60...70...80...90...100 - done.\n",
      "Done: 0\n",
      "Doing: B5.tif\n",
      "Input file size is 829, 1222\n",
      "0...10...20...30...40...50...60...70...80...90."
     ]
    },
    {
     "name": "stderr",
     "output_type": "stream",
     "text": [
      "Warning 1: for band 1, nodata value has been rounded to -2147483648, Int32 being an integer datatype.\n",
      "Warning 1: for band 1, nodata value has been rounded to -2147483648, Int32 being an integer datatype.\n"
     ]
    },
    {
     "name": "stdout",
     "output_type": "stream",
     "text": [
      "..100 - done.\n",
      "Done: 0\n",
      "Doing: B6.tif\n",
      "Input file size is 829, 1222\n",
      "0...10...20...30...40...50...60...70...80...90...100 - done.\n",
      "Done: 0\n",
      "Doing: B7.tif\n",
      "Input file size is 829, 1222\n",
      "0...10...20...30...40...50...60...70...80...90...100 - done.\n",
      "Done: 0\n",
      "Doing: B8.tif\n"
     ]
    },
    {
     "name": "stderr",
     "output_type": "stream",
     "text": [
      "Warning 1: for band 1, nodata value has been rounded to -2147483648, Int32 being an integer datatype.\n",
      "Warning 1: for band 1, nodata value has been rounded to -2147483648, Int32 being an integer datatype.\n"
     ]
    },
    {
     "name": "stdout",
     "output_type": "stream",
     "text": [
      "Input file size is 829, 1222\n",
      "0...10...20...30...40...50...60...70...80...90...100 - done.\n",
      "Done: 0\n",
      "Doing: B9.tif\n",
      "Input file size is 829, 1222\n",
      "0...10...20"
     ]
    },
    {
     "name": "stderr",
     "output_type": "stream",
     "text": [
      "Warning 1: for band 1, nodata value has been rounded to -2147483648, Int32 being an integer datatype.\n",
      "Warning 1: for band 1, nodata value has been rounded to -2147483648, Int32 being an integer datatype.\n"
     ]
    },
    {
     "name": "stdout",
     "output_type": "stream",
     "text": [
      "...30...40...50...60...70...80...90...100 - done.\n",
      "Done: 0\n",
      "Doing: B10.tif\n",
      "Input file size is 829, 1222\n",
      "0...10...20...30...40...50...60...70...80...90...100 - done.\n",
      "Done: 0\n",
      "Doing: B11.tif\n",
      "Input file size is 829, 1222\n",
      "0...10...20...30...40...50...60...70"
     ]
    },
    {
     "name": "stderr",
     "output_type": "stream",
     "text": [
      "Warning 1: for band 1, nodata value has been rounded to -2147483648, Int32 being an integer datatype.\n",
      "Warning 1: for band 1, nodata value has been rounded to -2147483648, Int32 being an integer datatype.\n"
     ]
    },
    {
     "name": "stdout",
     "output_type": "stream",
     "text": [
      "...80...90...100 - done.\n",
      "Done: 0\n",
      "Doing: B12.tif\n",
      "Input file size is 829, 1222\n",
      "0...10...20...30...40...50...60...70...80...90...100 - done.\n",
      "Done: 0\n",
      "Doing: B13.tif\n",
      "Input file size is 829, 1222\n",
      "0...10...20...30...40...50...60...70...80...90..."
     ]
    },
    {
     "name": "stderr",
     "output_type": "stream",
     "text": [
      "Warning 1: for band 1, nodata value has been rounded to -2147483648, Int32 being an integer datatype.\n"
     ]
    },
    {
     "name": "stdout",
     "output_type": "stream",
     "text": [
      "100 - done.\n",
      "Done: 0\n",
      "Doing: B14.tif\n",
      "Input file size is 829, 1222\n",
      "0...10...20...30...40...50...60...70...80...90...100 - done.\n",
      "Done: 0\n",
      "Doing: B15.tif\n"
     ]
    },
    {
     "name": "stderr",
     "output_type": "stream",
     "text": [
      "Warning 1: for band 1, nodata value has been rounded to -2147483648, Int32 being an integer datatype.\n",
      "Warning 1: for band 1, nodata value has been rounded to -2147483648, Int32 being an integer datatype.\n"
     ]
    },
    {
     "name": "stdout",
     "output_type": "stream",
     "text": [
      "Input file size is 829, 1222\n",
      "0...10...20...30...40...50...60...70...80...90...100 - done.\n",
      "Done: 0\n",
      "Doing: B16.tif\n",
      "Input file size is 829, 1222\n",
      "0...10...20."
     ]
    },
    {
     "name": "stderr",
     "output_type": "stream",
     "text": [
      "Warning 1: for band 1, nodata value has been rounded to -2147483648, Int32 being an integer datatype.\n",
      "Warning 1: for band 1, nodata value has been rounded to -2147483648, Int32 being an integer datatype.\n"
     ]
    },
    {
     "name": "stdout",
     "output_type": "stream",
     "text": [
      "..30...40...50...60...70...80...90...100 - done.\n",
      "Done: 0\n",
      "Doing: B17.tif\n",
      "Input file size is 829, 1222\n",
      "0...10...20...30...40...50...60...70...80...90...100 - done.\n",
      "Done: 0\n",
      "Doing: B18.tif\n",
      "Input file size is 829, 1222\n",
      "0...10...20...30...40...50...60...70"
     ]
    },
    {
     "name": "stderr",
     "output_type": "stream",
     "text": [
      "Warning 1: for band 1, nodata value has been rounded to -2147483648, Int32 being an integer datatype.\n",
      "Warning 1: for band 1, nodata value has been rounded to -2147483648, Int32 being an integer datatype.\n"
     ]
    },
    {
     "name": "stdout",
     "output_type": "stream",
     "text": [
      "...80...90...100 - done.\n",
      "Done: 0\n",
      "Doing: B19.tif\n",
      "Input file size is 829, 1222\n",
      "0...10...20...30...40...50...60...70...80...90...100 - done.\n",
      "Done: 0\n",
      "Doing: ASCII\n",
      "Done: 1\n",
      "Doing: B1.tif\n",
      "Input file size is 829, 1222\n",
      "0...10...20...30...40...50...60.."
     ]
    },
    {
     "name": "stderr",
     "output_type": "stream",
     "text": [
      "ERROR 4: `SSP126/2081_2100/CNRM-CM6-1/ASCII' not recognized as a supported file format.\n",
      "Warning 1: for band 1, nodata value has been rounded to -2147483648, Int32 being an integer datatype.\n"
     ]
    },
    {
     "name": "stdout",
     "output_type": "stream",
     "text": [
      ".70...80...90...100 - done.\n",
      "Done: 0\n",
      "Doing: B2.tif\n",
      "Input file size is 829, 1222\n",
      "0...10...20...30...40...50...60...70.."
     ]
    },
    {
     "name": "stderr",
     "output_type": "stream",
     "text": [
      "Warning 1: for band 1, nodata value has been rounded to -2147483648, Int32 being an integer datatype.\n",
      "Warning 1: for band 1, nodata value has been rounded to -2147483648, Int32 being an integer datatype.\n"
     ]
    },
    {
     "name": "stdout",
     "output_type": "stream",
     "text": [
      ".80...90...100 - done.\n",
      "Done: 0\n",
      "Doing: B3.tif\n",
      "Input file size is 829, 1222\n",
      "0...10...20...30...40...50...60...70...80...90...100 - done.\n",
      "Done: 0\n",
      "Doing: B4.tif\n",
      "Input file size is 829, 1222\n",
      "0...10...20...30...40...50...60...70...80...90...100 - done.\n",
      "Done: 0\n",
      "Doing: B5.tif\n"
     ]
    },
    {
     "name": "stderr",
     "output_type": "stream",
     "text": [
      "Warning 1: for band 1, nodata value has been rounded to -2147483648, Int32 being an integer datatype.\n",
      "Warning 1: for band 1, nodata value has been rounded to -2147483648, Int32 being an integer datatype.\n"
     ]
    },
    {
     "name": "stdout",
     "output_type": "stream",
     "text": [
      "Input file size is 829, 1222\n",
      "0...10...20...30...40...50...60...70...80...90...100 - done.\n",
      "Done: 0\n",
      "Doing: B6.tif\n",
      "Input file size is 829, 1222\n",
      "0...10..."
     ]
    },
    {
     "name": "stderr",
     "output_type": "stream",
     "text": [
      "Warning 1: for band 1, nodata value has been rounded to -2147483648, Int32 being an integer datatype.\n",
      "Warning 1: for band 1, nodata value has been rounded to -2147483648, Int32 being an integer datatype.\n"
     ]
    },
    {
     "name": "stdout",
     "output_type": "stream",
     "text": [
      "20...30...40...50...60...70...80...90...100 - done.\n",
      "Done: 0\n",
      "Doing: B7.tif\n",
      "Input file size is 829, 1222\n",
      "0...10...20...30...40...50...60...70...80...90...100 - done.\n",
      "Done: 0\n",
      "Doing: B8.tif\n",
      "Input file size is 829, 1222\n",
      "0...10...20...30...40...50...60..."
     ]
    },
    {
     "name": "stderr",
     "output_type": "stream",
     "text": [
      "Warning 1: for band 1, nodata value has been rounded to -2147483648, Int32 being an integer datatype.\n",
      "Warning 1: for band 1, nodata value has been rounded to -2147483648, Int32 being an integer datatype.\n"
     ]
    },
    {
     "name": "stdout",
     "output_type": "stream",
     "text": [
      "70...80...90...100 - done.\n",
      "Done: 0\n",
      "Doing: B9.tif\n",
      "Input file size is 829, 1222\n",
      "0...10...20...30...40...50...60...70...80...90...100 - done.\n",
      "Done: 0\n",
      "Doing: B10.tif\n",
      "Input file size is 829, 1222\n",
      "0...10...20...30...40...50...60...70...80...90..."
     ]
    },
    {
     "name": "stderr",
     "output_type": "stream",
     "text": [
      "Warning 1: for band 1, nodata value has been rounded to -2147483648, Int32 being an integer datatype.\n",
      "Warning 1: for band 1, nodata value has been rounded to -2147483648, Int32 being an integer datatype.\n"
     ]
    },
    {
     "name": "stdout",
     "output_type": "stream",
     "text": [
      "100 - done.\n",
      "Done: 0\n",
      "Doing: B11.tif\n",
      "Input file size is 829, 1222\n",
      "0...10...20...30...40...50...60...70...80...90...100 - done.\n",
      "Done: 0\n",
      "Doing: B12.tif\n"
     ]
    },
    {
     "name": "stderr",
     "output_type": "stream",
     "text": [
      "Warning 1: for band 1, nodata value has been rounded to -2147483648, Int32 being an integer datatype.\n",
      "Warning 1: for band 1, nodata value has been rounded to -2147483648, Int32 being an integer datatype.\n"
     ]
    },
    {
     "name": "stdout",
     "output_type": "stream",
     "text": [
      "Input file size is 829, 1222\n",
      "0...10...20...30...40...50...60...70...80...90...100 - done.\n",
      "Done: 0\n",
      "Doing: B13.tif\n",
      "Input file size is 829, 1222\n",
      "0...10...20...30...40...50...60...70...80...90...100 - done.\n",
      "Done: 0\n",
      "Doing: B14.tif\n",
      "Input file size is 829, 1222\n",
      "0...10...20...30...40.."
     ]
    },
    {
     "name": "stderr",
     "output_type": "stream",
     "text": [
      "Warning 1: for band 1, nodata value has been rounded to -2147483648, Int32 being an integer datatype.\n",
      "Warning 1: for band 1, nodata value has been rounded to -2147483648, Int32 being an integer datatype.\n"
     ]
    },
    {
     "name": "stdout",
     "output_type": "stream",
     "text": [
      ".50...60...70...80...90...100 - done.\n",
      "Done: 0\n",
      "Doing: B15.tif\n",
      "Input file size is 829, 1222\n",
      "0...10...20...30...40...50...60...70...80...90...100 - done.\n",
      "Done: 0\n",
      "Doing: B16.tif\n",
      "Input file size is 829, 1222\n",
      "0...10...20...30...40...50...60...70...80...90."
     ]
    },
    {
     "name": "stderr",
     "output_type": "stream",
     "text": [
      "Warning 1: for band 1, nodata value has been rounded to -2147483648, Int32 being an integer datatype.\n",
      "Warning 1: for band 1, nodata value has been rounded to -2147483648, Int32 being an integer datatype.\n"
     ]
    },
    {
     "name": "stdout",
     "output_type": "stream",
     "text": [
      "..100 - done.\n",
      "Done: 0\n",
      "Doing: B17.tif\n",
      "Input file size is 829, 1222\n",
      "0...10...20...30...40...50...60...70...80...90...100 - done.\n",
      "Done: 0\n",
      "Doing: B18.tif\n",
      "Input file size is 829, 1222\n",
      "0...10...20...30...40...50...60...70...80...90...100 - done.\n",
      "Done: 0\n",
      "Doing: B19.tif\n"
     ]
    },
    {
     "name": "stderr",
     "output_type": "stream",
     "text": [
      "Warning 1: for band 1, nodata value has been rounded to -2147483648, Int32 being an integer datatype.\n",
      "Warning 1: for band 1, nodata value has been rounded to -2147483648, Int32 being an integer datatype.\n"
     ]
    },
    {
     "name": "stdout",
     "output_type": "stream",
     "text": [
      "Input file size is 829, 1222\n",
      "0...10...20...30...40...50...60...70...80...90...100 - done.\n",
      "Done: 0\n",
      "Doing: ASCII\n",
      "Done: 1\n",
      "Doing: B1.tif\n"
     ]
    },
    {
     "name": "stderr",
     "output_type": "stream",
     "text": [
      "ERROR 4: `SSP126/2081_2100/CNRM-CM6-1-HR/ASCII' not recognized as a supported file format.\n",
      "Warning 1: for band 1, nodata value has been rounded to -2147483648, Int32 being an integer datatype.\n"
     ]
    },
    {
     "name": "stdout",
     "output_type": "stream",
     "text": [
      "Input file size is 829, 1222\n",
      "0...10...20...30...40...50...60...70...80...90...100 - done.\n",
      "Done: 0\n",
      "Doing: B2.tif\n",
      "Input file size is 829, 1222\n",
      "0...10...20"
     ]
    },
    {
     "name": "stderr",
     "output_type": "stream",
     "text": [
      "Warning 1: for band 1, nodata value has been rounded to -2147483648, Int32 being an integer datatype.\n",
      "Warning 1: for band 1, nodata value has been rounded to -2147483648, Int32 being an integer datatype.\n"
     ]
    },
    {
     "name": "stdout",
     "output_type": "stream",
     "text": [
      "...30...40...50...60...70...80...90...100 - done.\n",
      "Done: 0\n",
      "Doing: B3.tif\n",
      "Input file size is 829, 1222\n",
      "0...10...20...30...40...50...60...70...80...90...100 - done.\n",
      "Done: 0\n",
      "Doing: B4.tif\n",
      "Input file size is 829, 1222\n",
      "0...10...20...30...40...50...60..."
     ]
    },
    {
     "name": "stderr",
     "output_type": "stream",
     "text": [
      "Warning 1: for band 1, nodata value has been rounded to -2147483648, Int32 being an integer datatype.\n",
      "Warning 1: for band 1, nodata value has been rounded to -2147483648, Int32 being an integer datatype.\n"
     ]
    },
    {
     "name": "stdout",
     "output_type": "stream",
     "text": [
      "70...80...90...100 - done.\n",
      "Done: 0\n",
      "Doing: B5.tif\n",
      "Input file size is 829, 1222\n",
      "0...10...20...30...40...50...60...70...80...90...100 - done.\n",
      "Done: 0\n",
      "Doing: B6.tif\n",
      "Input file size is 829, 1222\n",
      "0...10...20...30...40...50...60...70...80...90..."
     ]
    },
    {
     "name": "stderr",
     "output_type": "stream",
     "text": [
      "Warning 1: for band 1, nodata value has been rounded to -2147483648, Int32 being an integer datatype.\n",
      "Warning 1: for band 1, nodata value has been rounded to -2147483648, Int32 being an integer datatype.\n"
     ]
    },
    {
     "name": "stdout",
     "output_type": "stream",
     "text": [
      "100 - done.\n",
      "Done: 0\n",
      "Doing: B7.tif\n",
      "Input file size is 829, 1222\n",
      "0...10...20...30...40...50...60...70...80...90...100 - done.\n",
      "Done: 0\n",
      "Doing: B8.tif\n"
     ]
    },
    {
     "name": "stderr",
     "output_type": "stream",
     "text": [
      "Warning 1: for band 1, nodata value has been rounded to -2147483648, Int32 being an integer datatype.\n",
      "Warning 1: for band 1, nodata value has been rounded to -2147483648, Int32 being an integer datatype.\n"
     ]
    },
    {
     "name": "stdout",
     "output_type": "stream",
     "text": [
      "Input file size is 829, 1222\n",
      "0...10...20...30...40...50...60...70...80...90...100 - done.\n",
      "Done: 0\n",
      "Doing: B9.tif\n",
      "Input file size is 829, 1222\n",
      "0...10...20...30...40...50...60...70...80...90...100 - done.\n",
      "Done: 0\n",
      "Doing: B10.tif\n",
      "Input file size is 829, 1222\n",
      "0...10...20...30...40."
     ]
    },
    {
     "name": "stderr",
     "output_type": "stream",
     "text": [
      "Warning 1: for band 1, nodata value has been rounded to -2147483648, Int32 being an integer datatype.\n",
      "Warning 1: for band 1, nodata value has been rounded to -2147483648, Int32 being an integer datatype.\n"
     ]
    },
    {
     "name": "stdout",
     "output_type": "stream",
     "text": [
      "..50...60...70...80...90...100 - done.\n",
      "Done: 0\n",
      "Doing: B11.tif\n",
      "Input file size is 829, 1222\n",
      "0...10...20...30...40...50...60...70...80...90...100 - done.\n",
      "Done: 0\n",
      "Doing: B12.tif\n",
      "Input file size is 829, 1222\n",
      "0...10...20...30...40...50...60...70...80..."
     ]
    },
    {
     "name": "stderr",
     "output_type": "stream",
     "text": [
      "Warning 1: for band 1, nodata value has been rounded to -2147483648, Int32 being an integer datatype.\n",
      "Warning 1: for band 1, nodata value has been rounded to -2147483648, Int32 being an integer datatype.\n"
     ]
    },
    {
     "name": "stdout",
     "output_type": "stream",
     "text": [
      "90...100 - done.\n",
      "Done: 0\n",
      "Doing: B13.tif\n",
      "Input file size is 829, 1222\n",
      "0...10...20...30...40...50...60...70...80...90...100 - done.\n",
      "Done: 0\n",
      "Doing: B14.tif\n",
      "Input file size is 829, 1222\n",
      "0...10...20...30...40...50...60...70...80...90...100 - done.\n",
      "Done: 0\n",
      "Doing: B15.tif\n"
     ]
    },
    {
     "name": "stderr",
     "output_type": "stream",
     "text": [
      "Warning 1: for band 1, nodata value has been rounded to -2147483648, Int32 being an integer datatype.\n",
      "Warning 1: for band 1, nodata value has been rounded to -2147483648, Int32 being an integer datatype.\n"
     ]
    },
    {
     "name": "stdout",
     "output_type": "stream",
     "text": [
      "Input file size is 829, 1222\n",
      "0...10...20...30...40...50...60...70...80...90...100 - done.\n",
      "Done: 0\n",
      "Doing: B16.tif\n",
      "Input file size is 829, 1222\n",
      "0...10...20"
     ]
    },
    {
     "name": "stderr",
     "output_type": "stream",
     "text": [
      "Warning 1: for band 1, nodata value has been rounded to -2147483648, Int32 being an integer datatype.\n",
      "Warning 1: for band 1, nodata value has been rounded to -2147483648, Int32 being an integer datatype.\n"
     ]
    },
    {
     "name": "stdout",
     "output_type": "stream",
     "text": [
      "...30...40...50...60...70...80...90...100 - done.\n",
      "Done: 0\n",
      "Doing: B17.tif\n",
      "Input file size is 829, 1222\n",
      "0...10...20...30...40...50...60...70...80...90...100 - done.\n",
      "Done: 0\n",
      "Doing: B18.tif\n",
      "Input file size is 829, 1222\n",
      "0...10...20...30...40...50.."
     ]
    },
    {
     "name": "stderr",
     "output_type": "stream",
     "text": [
      "Warning 1: for band 1, nodata value has been rounded to -2147483648, Int32 being an integer datatype.\n",
      "Warning 1: for band 1, nodata value has been rounded to -2147483648, Int32 being an integer datatype.\n"
     ]
    },
    {
     "name": "stdout",
     "output_type": "stream",
     "text": [
      ".60...70...80...90...100 - done.\n",
      "Done: 0\n",
      "Doing: B19.tif\n",
      "Input file size is 829, 1222\n",
      "0...10...20...30...40...50...60...70...80...90...100 - done.\n",
      "Done: 0\n",
      "Doing: ASCII\n",
      "Done: 1\n",
      "Doing: B1.tif\n",
      "Input file size is 829, 1222\n",
      "0...10...20...30...40...50"
     ]
    },
    {
     "name": "stderr",
     "output_type": "stream",
     "text": [
      "ERROR 4: `SSP126/2081_2100/CNRM-ESM2-1/ASCII' not recognized as a supported file format.\n",
      "Warning 1: for band 1, nodata value has been rounded to -2147483648, Int32 being an integer datatype.\n"
     ]
    },
    {
     "name": "stdout",
     "output_type": "stream",
     "text": [
      "...60...70...80...90...100 - done.\n",
      "Done: 0\n",
      "Doing: B2.tif\n",
      "Input file size is 829, 1222\n",
      "0...10...20...30...40...50...60...70.."
     ]
    },
    {
     "name": "stderr",
     "output_type": "stream",
     "text": [
      "Warning 1: for band 1, nodata value has been rounded to -2147483648, Int32 being an integer datatype.\n",
      "Warning 1: for band 1, nodata value has been rounded to -2147483648, Int32 being an integer datatype.\n"
     ]
    },
    {
     "name": "stdout",
     "output_type": "stream",
     "text": [
      ".80...90...100 - done.\n",
      "Done: 0\n",
      "Doing: B3.tif\n",
      "Input file size is 829, 1222\n",
      "0...10...20...30...40...50...60...70...80...90...100 - done.\n",
      "Done: 0\n",
      "Doing: B4.tif\n",
      "Input file size is 829, 1222\n",
      "0...10...20...30...40...50...60...70...80...90...100 - done.\n",
      "Done: 0\n",
      "Doing: B5.tif\n"
     ]
    },
    {
     "name": "stderr",
     "output_type": "stream",
     "text": [
      "Warning 1: for band 1, nodata value has been rounded to -2147483648, Int32 being an integer datatype.\n",
      "Warning 1: for band 1, nodata value has been rounded to -2147483648, Int32 being an integer datatype.\n"
     ]
    },
    {
     "name": "stdout",
     "output_type": "stream",
     "text": [
      "Input file size is 829, 1222\n",
      "0...10...20...30...40...50...60...70...80...90...100 - done.\n",
      "Done: 0\n",
      "Doing: B6.tif\n"
     ]
    },
    {
     "name": "stderr",
     "output_type": "stream",
     "text": [
      "Warning 1: for band 1, nodata value has been rounded to -2147483648, Int32 being an integer datatype.\n",
      "Warning 1: for band 1, nodata value has been rounded to -2147483648, Int32 being an integer datatype.\n"
     ]
    },
    {
     "name": "stdout",
     "output_type": "stream",
     "text": [
      "Input file size is 829, 1222\n",
      "0...10...20...30...40...50...60...70...80...90...100 - done.\n",
      "Done: 0\n",
      "Doing: B7.tif\n",
      "Input file size is 829, 1222\n",
      "0...10...20...30...40...50...60...70...80...90...100 - done.\n",
      "Done: 0\n",
      "Doing: B8.tif\n",
      "Input file size is 829, 1222\n",
      "0"
     ]
    },
    {
     "name": "stderr",
     "output_type": "stream",
     "text": [
      "Warning 1: for band 1, nodata value has been rounded to -2147483648, Int32 being an integer datatype.\n"
     ]
    },
    {
     "name": "stdout",
     "output_type": "stream",
     "text": [
      "...10...20...30...40...50...60...70...80...90...100 - done.\n",
      "Done: 0\n",
      "Doing: B9.tif\n",
      "Input file size is 829, 1222\n",
      "0...10...20."
     ]
    },
    {
     "name": "stderr",
     "output_type": "stream",
     "text": [
      "Warning 1: for band 1, nodata value has been rounded to -2147483648, Int32 being an integer datatype.\n",
      "Warning 1: for band 1, nodata value has been rounded to -2147483648, Int32 being an integer datatype.\n"
     ]
    },
    {
     "name": "stdout",
     "output_type": "stream",
     "text": [
      "..30...40...50...60...70...80...90...100 - done.\n",
      "Done: 0\n",
      "Doing: B10.tif\n",
      "Input file size is 829, 1222\n",
      "0...10...20...30...40...50...60...70...80...90...100 - done.\n",
      "Done: 0\n",
      "Doing: B11.tif\n",
      "Input file size is 829, 1222\n",
      "0...10...20...30...40...50...60...70.."
     ]
    },
    {
     "name": "stderr",
     "output_type": "stream",
     "text": [
      "Warning 1: for band 1, nodata value has been rounded to -2147483648, Int32 being an integer datatype.\n",
      "Warning 1: for band 1, nodata value has been rounded to -2147483648, Int32 being an integer datatype.\n"
     ]
    },
    {
     "name": "stdout",
     "output_type": "stream",
     "text": [
      ".80...90...100 - done.\n",
      "Done: 0\n",
      "Doing: B12.tif\n",
      "Input file size is 829, 1222\n",
      "0...10...20...30...40...50...60...70...80...90...100 - done.\n",
      "Done: 0\n",
      "Doing: B13.tif\n",
      "Input file size is 829, 1222\n",
      "0...10...20...30...40...50.."
     ]
    },
    {
     "name": "stderr",
     "output_type": "stream",
     "text": [
      "Warning 1: for band 1, nodata value has been rounded to -2147483648, Int32 being an integer datatype.\n",
      "Warning 1: for band 1, nodata value has been rounded to -2147483648, Int32 being an integer datatype.\n"
     ]
    },
    {
     "name": "stdout",
     "output_type": "stream",
     "text": [
      ".60...70...80...90...100 - done.\n",
      "Done: 0\n",
      "Doing: B14.tif\n",
      "Input file size is 829, 1222\n",
      "0...10...20...30...40...50...60...70...80...90...100 - done.\n",
      "Done: 0\n",
      "Doing: B15.tif\n",
      "Input file size is 829, 1222\n",
      "0...10...20.."
     ]
    },
    {
     "name": "stderr",
     "output_type": "stream",
     "text": [
      "Warning 1: for band 1, nodata value has been rounded to -2147483648, Int32 being an integer datatype.\n",
      "Warning 1: for band 1, nodata value has been rounded to -2147483648, Int32 being an integer datatype.\n"
     ]
    },
    {
     "name": "stdout",
     "output_type": "stream",
     "text": [
      ".30...40...50...60...70...80...90...100 - done.\n",
      "Done: 0\n",
      "Doing: B16.tif\n",
      "Input file size is 829, 1222\n",
      "0...10...20...30...40...50...60...70...80...90...100 - done.\n",
      "Done: 0\n",
      "Doing: B17.tif\n",
      "Input file size is 829, 1222\n",
      "0...10...20...30...40...50...60...70."
     ]
    },
    {
     "name": "stderr",
     "output_type": "stream",
     "text": [
      "Warning 1: for band 1, nodata value has been rounded to -2147483648, Int32 being an integer datatype.\n",
      "Warning 1: for band 1, nodata value has been rounded to -2147483648, Int32 being an integer datatype.\n"
     ]
    },
    {
     "name": "stdout",
     "output_type": "stream",
     "text": [
      "..80...90...100 - done.\n",
      "Done: 0\n",
      "Doing: B18.tif\n",
      "Input file size is 829, 1222\n",
      "0...10...20...30...40...50...60...70...80...90...100 - done.\n",
      "Done: 0\n",
      "Doing: B19.tif\n"
     ]
    },
    {
     "name": "stderr",
     "output_type": "stream",
     "text": [
      "Warning 1: for band 1, nodata value has been rounded to -2147483648, Int32 being an integer datatype.\n",
      "ERROR 4: `SSP126/2081_2100/EC-Earth3-Veg/ASCII' not recognized as a supported file format.\n"
     ]
    },
    {
     "name": "stdout",
     "output_type": "stream",
     "text": [
      "Input file size is 829, 1222\n",
      "0...10...20...30...40...50...60...70...80...90...100 - done.\n",
      "Done: 0\n",
      "Doing: ASCII\n",
      "Done: 1\n",
      "Doing: B1.tif\n"
     ]
    },
    {
     "name": "stderr",
     "output_type": "stream",
     "text": [
      "Warning 1: for band 1, nodata value has been rounded to -2147483648, Int32 being an integer datatype.\n",
      "Warning 1: for band 1, nodata value has been rounded to -2147483648, Int32 being an integer datatype.\n"
     ]
    },
    {
     "name": "stdout",
     "output_type": "stream",
     "text": [
      "Input file size is 829, 1222\n",
      "0...10...20...30...40...50...60...70...80...90...100 - done.\n",
      "Done: 0\n",
      "Doing: B2.tif\n",
      "Input file size is 829, 1222\n",
      "0...10...20...30...40...50...60...70...80...90...100 - done.\n",
      "Done: 0\n",
      "Doing: B3.tif\n",
      "Input file size is 829, 1222\n",
      "0"
     ]
    },
    {
     "name": "stderr",
     "output_type": "stream",
     "text": [
      "Warning 1: for band 1, nodata value has been rounded to -2147483648, Int32 being an integer datatype.\n"
     ]
    },
    {
     "name": "stdout",
     "output_type": "stream",
     "text": [
      "...10...20...30...40...50...60...70...80...90...100 - done.\n",
      "Done: 0\n",
      "Doing: B4.tif\n",
      "Input file size is 829, 1222\n",
      "0...10...20."
     ]
    },
    {
     "name": "stderr",
     "output_type": "stream",
     "text": [
      "Warning 1: for band 1, nodata value has been rounded to -2147483648, Int32 being an integer datatype.\n",
      "Warning 1: for band 1, nodata value has been rounded to -2147483648, Int32 being an integer datatype.\n"
     ]
    },
    {
     "name": "stdout",
     "output_type": "stream",
     "text": [
      "..30...40...50...60...70...80...90...100 - done.\n",
      "Done: 0\n",
      "Doing: B5.tif\n",
      "Input file size is 829, 1222\n",
      "0...10...20...30...40...50...60...70...80...90...100 - done.\n",
      "Done: 0\n",
      "Doing: B6.tif\n"
     ]
    },
    {
     "name": "stderr",
     "output_type": "stream",
     "text": [
      "Warning 1: for band 1, nodata value has been rounded to -2147483648, Int32 being an integer datatype.\n"
     ]
    },
    {
     "name": "stdout",
     "output_type": "stream",
     "text": [
      "Input file size is 829, 1222\n",
      "0...10...20...30...40...50...60...70...80...90...100 - done.\n",
      "Done: 0\n",
      "Doing: B7.tif\n",
      "Input file size is 829, 1222\n",
      "0...10.."
     ]
    },
    {
     "name": "stderr",
     "output_type": "stream",
     "text": [
      "Warning 1: for band 1, nodata value has been rounded to -2147483648, Int32 being an integer datatype.\n"
     ]
    },
    {
     "name": "stdout",
     "output_type": "stream",
     "text": [
      ".20...30...40...50...60...70...80...90...100 - done.\n",
      "Done: 0\n",
      "Doing: B8.tif\n",
      "Input file size is 829, 1222\n",
      "0"
     ]
    },
    {
     "name": "stderr",
     "output_type": "stream",
     "text": [
      "Warning 1: for band 1, nodata value has been rounded to -2147483648, Int32 being an integer datatype.\n"
     ]
    },
    {
     "name": "stdout",
     "output_type": "stream",
     "text": [
      "...10...20...30...40...50...60...70...80...90...100 - done.\n",
      "Done: 0\n",
      "Doing: B9.tif\n"
     ]
    },
    {
     "name": "stderr",
     "output_type": "stream",
     "text": [
      "Warning 1: for band 1, nodata value has been rounded to -2147483648, Int32 being an integer datatype.\n"
     ]
    },
    {
     "name": "stdout",
     "output_type": "stream",
     "text": [
      "Input file size is 829, 1222\n",
      "0...10...20...30...40...50...60...70...80...90...100 - done.\n",
      "Done: 0\n",
      "Doing: B10.tif\n",
      "Input file size is 829, 1222\n",
      "0...10...20"
     ]
    },
    {
     "name": "stderr",
     "output_type": "stream",
     "text": [
      "Warning 1: for band 1, nodata value has been rounded to -2147483648, Int32 being an integer datatype.\n"
     ]
    },
    {
     "name": "stdout",
     "output_type": "stream",
     "text": [
      "...30...40...50...60...70...80...90...100 - done.\n",
      "Done: 0\n",
      "Doing: B11.tif\n",
      "Input file size is 829, 1222\n",
      "0."
     ]
    },
    {
     "name": "stderr",
     "output_type": "stream",
     "text": [
      "Warning 1: for band 1, nodata value has been rounded to -2147483648, Int32 being an integer datatype.\n",
      "Warning 1: for band 1, nodata value has been rounded to -2147483648, Int32 being an integer datatype.\n"
     ]
    },
    {
     "name": "stdout",
     "output_type": "stream",
     "text": [
      "..10...20...30...40...50...60...70...80...90...100 - done.\n",
      "Done: 0\n",
      "Doing: B12.tif\n",
      "Input file size is 829, 1222\n",
      "0...10...20...30...40...50...60...70...80...90...100 - done.\n",
      "Done: 0\n",
      "Doing: B13.tif\n",
      "Input file size is 829, 1222\n",
      "0...10...20...30...40...50"
     ]
    },
    {
     "name": "stderr",
     "output_type": "stream",
     "text": [
      "Warning 1: for band 1, nodata value has been rounded to -2147483648, Int32 being an integer datatype.\n",
      "Warning 1: for band 1, nodata value has been rounded to -2147483648, Int32 being an integer datatype.\n"
     ]
    },
    {
     "name": "stdout",
     "output_type": "stream",
     "text": [
      "...60...70...80...90...100 - done.\n",
      "Done: 0\n",
      "Doing: B14.tif\n",
      "Input file size is 829, 1222\n",
      "0...10...20...30...40...50...60...70...80...90...100 - done.\n",
      "Done: 0\n",
      "Doing: B15.tif\n",
      "Input file size is 829, 1222\n",
      "0...10...20...30...40...50...60...70...80..."
     ]
    },
    {
     "name": "stderr",
     "output_type": "stream",
     "text": [
      "Warning 1: for band 1, nodata value has been rounded to -2147483648, Int32 being an integer datatype.\n",
      "Warning 1: for band 1, nodata value has been rounded to -2147483648, Int32 being an integer datatype.\n"
     ]
    },
    {
     "name": "stdout",
     "output_type": "stream",
     "text": [
      "90...100 - done.\n",
      "Done: 0\n",
      "Doing: B16.tif\n",
      "Input file size is 829, 1222\n",
      "0...10...20...30...40...50...60...70...80...90...100 - done.\n",
      "Done: 0\n",
      "Doing: B17.tif\n",
      "Input file size is 829, 1222\n",
      "0...10...20...30...40...50...60...70...80...90..."
     ]
    },
    {
     "name": "stderr",
     "output_type": "stream",
     "text": [
      "Warning 1: for band 1, nodata value has been rounded to -2147483648, Int32 being an integer datatype.\n",
      "Warning 1: for band 1, nodata value has been rounded to -2147483648, Int32 being an integer datatype.\n"
     ]
    },
    {
     "name": "stdout",
     "output_type": "stream",
     "text": [
      "100 - done.\n",
      "Done: 0\n",
      "Doing: B18.tif\n",
      "Input file size is 829, 1222\n",
      "0...10...20...30...40...50...60...70...80...90...100 - done.\n",
      "Done: 0\n",
      "Doing: B19.tif\n"
     ]
    },
    {
     "name": "stderr",
     "output_type": "stream",
     "text": [
      "Warning 1: for band 1, nodata value has been rounded to -2147483648, Int32 being an integer datatype.\n",
      "ERROR 4: `SSP126/2081_2100/EC-Earth3-Veg-LR/ASCII' not recognized as a supported file format.\n"
     ]
    },
    {
     "name": "stdout",
     "output_type": "stream",
     "text": [
      "Input file size is 829, 1222\n",
      "0...10...20...30...40...50...60...70...80...90...100 - done.\n",
      "Done: 0\n",
      "Doing: ASCII\n",
      "Done: 1\n",
      "Doing: B1.tif\n"
     ]
    },
    {
     "name": "stderr",
     "output_type": "stream",
     "text": [
      "Warning 1: for band 1, nodata value has been rounded to -2147483648, Int32 being an integer datatype.\n",
      "Warning 1: for band 1, nodata value has been rounded to -2147483648, Int32 being an integer datatype.\n"
     ]
    },
    {
     "name": "stdout",
     "output_type": "stream",
     "text": [
      "Input file size is 829, 1222\n",
      "0...10...20...30...40...50...60...70...80...90...100 - done.\n",
      "Done: 0\n",
      "Doing: B2.tif\n",
      "Input file size is 829, 1222\n",
      "0...10...20...30...40...50...60...70...80...90...100 - done.\n",
      "Done: 0\n",
      "Doing: B3.tif\n",
      "Input file size is 829, 1222\n",
      "0...10...20...30...40..."
     ]
    },
    {
     "name": "stderr",
     "output_type": "stream",
     "text": [
      "Warning 1: for band 1, nodata value has been rounded to -2147483648, Int32 being an integer datatype.\n",
      "Warning 1: for band 1, nodata value has been rounded to -2147483648, Int32 being an integer datatype.\n"
     ]
    },
    {
     "name": "stdout",
     "output_type": "stream",
     "text": [
      "50...60...70...80...90...100 - done.\n",
      "Done: 0\n",
      "Doing: B4.tif\n",
      "Input file size is 829, 1222\n",
      "0...10...20...30...40...50...60...70...80...90...100 - done.\n",
      "Done: 0\n",
      "Doing: B5.tif\n",
      "Input file size is 829, 1222\n",
      "0...10...20...30...40...50...60...70...80...90..."
     ]
    },
    {
     "name": "stderr",
     "output_type": "stream",
     "text": [
      "Warning 1: for band 1, nodata value has been rounded to -2147483648, Int32 being an integer datatype.\n",
      "Warning 1: for band 1, nodata value has been rounded to -2147483648, Int32 being an integer datatype.\n"
     ]
    },
    {
     "name": "stdout",
     "output_type": "stream",
     "text": [
      "100 - done.\n",
      "Done: 0\n",
      "Doing: B6.tif\n",
      "Input file size is 829, 1222\n",
      "0...10...20...30...40...50...60...70...80...90...100 - done.\n",
      "Done: 0\n",
      "Doing: B7.tif\n",
      "Input file size is 829, 1222\n",
      "0...10."
     ]
    },
    {
     "name": "stderr",
     "output_type": "stream",
     "text": [
      "Warning 1: for band 1, nodata value has been rounded to -2147483648, Int32 being an integer datatype.\n"
     ]
    },
    {
     "name": "stdout",
     "output_type": "stream",
     "text": [
      "..20...30...40...50...60...70...80...90...100 - done.\n",
      "Done: 0\n",
      "Doing: B8.tif\n",
      "Input file size is 829, 1222\n",
      "0...10"
     ]
    },
    {
     "name": "stderr",
     "output_type": "stream",
     "text": [
      "Warning 1: for band 1, nodata value has been rounded to -2147483648, Int32 being an integer datatype.\n"
     ]
    },
    {
     "name": "stdout",
     "output_type": "stream",
     "text": [
      "...20...30...40...50...60...70...80...90...100 - done.\n",
      "Done: 0\n",
      "Doing: B9.tif\n"
     ]
    },
    {
     "name": "stderr",
     "output_type": "stream",
     "text": [
      "Warning 1: for band 1, nodata value has been rounded to -2147483648, Int32 being an integer datatype.\n"
     ]
    },
    {
     "name": "stdout",
     "output_type": "stream",
     "text": [
      "Input file size is 829, 1222\n",
      "0...10...20...30...40...50...60...70...80...90...100 - done.\n",
      "Done: 0\n",
      "Doing: B10.tif\n",
      "Input file size is 829, 1222\n",
      "0...10...20...30...40..."
     ]
    },
    {
     "name": "stderr",
     "output_type": "stream",
     "text": [
      "Warning 1: for band 1, nodata value has been rounded to -2147483648, Int32 being an integer datatype.\n"
     ]
    },
    {
     "name": "stdout",
     "output_type": "stream",
     "text": [
      "50...60...70...80...90...100 - done.\n",
      "Done: 0\n",
      "Doing: B11.tif\n",
      "Input file size is 829, 1222\n",
      "0...10...20."
     ]
    },
    {
     "name": "stderr",
     "output_type": "stream",
     "text": [
      "Warning 1: for band 1, nodata value has been rounded to -2147483648, Int32 being an integer datatype.\n",
      "Warning 1: for band 1, nodata value has been rounded to -2147483648, Int32 being an integer datatype.\n"
     ]
    },
    {
     "name": "stdout",
     "output_type": "stream",
     "text": [
      "..30...40...50...60...70...80...90...100 - done.\n",
      "Done: 0\n",
      "Doing: B12.tif\n",
      "Input file size is 829, 1222\n",
      "0...10...20...30...40...50...60...70...80...90...100 - done.\n",
      "Done: 0\n",
      "Doing: B13.tif\n",
      "Input file size is 829, 1222\n",
      "0...10...20...30...40...50...60..."
     ]
    },
    {
     "name": "stderr",
     "output_type": "stream",
     "text": [
      "Warning 1: for band 1, nodata value has been rounded to -2147483648, Int32 being an integer datatype.\n",
      "Warning 1: for band 1, nodata value has been rounded to -2147483648, Int32 being an integer datatype.\n"
     ]
    },
    {
     "name": "stdout",
     "output_type": "stream",
     "text": [
      "70...80...90...100 - done.\n",
      "Done: 0\n",
      "Doing: B14.tif\n",
      "Input file size is 829, 1222\n",
      "0...10...20...30...40...50...60...70...80...90...100 - done.\n",
      "Done: 0\n",
      "Doing: B15.tif\n",
      "Input file size is 829, 1222\n",
      "0...10...20...30...40...50...60...70...80...90..."
     ]
    },
    {
     "name": "stderr",
     "output_type": "stream",
     "text": [
      "Warning 1: for band 1, nodata value has been rounded to -2147483648, Int32 being an integer datatype.\n",
      "Warning 1: for band 1, nodata value has been rounded to -2147483648, Int32 being an integer datatype.\n"
     ]
    },
    {
     "name": "stdout",
     "output_type": "stream",
     "text": [
      "100 - done.\n",
      "Done: 0\n",
      "Doing: B16.tif\n",
      "Input file size is 829, 1222\n",
      "0...10...20...30...40...50...60...70...80...90...100 - done.\n",
      "Done: 0\n",
      "Doing: B17.tif\n"
     ]
    },
    {
     "name": "stderr",
     "output_type": "stream",
     "text": [
      "Warning 1: for band 1, nodata value has been rounded to -2147483648, Int32 being an integer datatype.\n",
      "Warning 1: for band 1, nodata value has been rounded to -2147483648, Int32 being an integer datatype.\n"
     ]
    },
    {
     "name": "stdout",
     "output_type": "stream",
     "text": [
      "Input file size is 829, 1222\n",
      "0...10...20...30...40...50...60...70...80...90...100 - done.\n",
      "Done: 0\n",
      "Doing: B18.tif\n",
      "Input file size is 829, 1222\n",
      "0...10...20...30...40...50...60...70...80...90...100 - done.\n",
      "Done: 0\n",
      "Doing: B19.tif\n",
      "Input file size is 829, 1222\n",
      "0...10...20...30...40.."
     ]
    },
    {
     "name": "stderr",
     "output_type": "stream",
     "text": [
      "Warning 1: for band 1, nodata value has been rounded to -2147483648, Int32 being an integer datatype.\n",
      "ERROR 4: `SSP126/2081_2100/FIO-ESM-2-0/ASCII' not recognized as a supported file format.\n"
     ]
    },
    {
     "name": "stdout",
     "output_type": "stream",
     "text": [
      ".50...60...70...80...90...100 - done.\n",
      "Done: 0\n",
      "Doing: ASCII\n",
      "Done: 1\n",
      "Doing: B1.tif\n",
      "Input file size is 829, 1222\n",
      "0...10..."
     ]
    },
    {
     "name": "stderr",
     "output_type": "stream",
     "text": [
      "Warning 1: for band 1, nodata value has been rounded to -2147483648, Int32 being an integer datatype.\n",
      "Warning 1: for band 1, nodata value has been rounded to -2147483648, Int32 being an integer datatype.\n"
     ]
    },
    {
     "name": "stdout",
     "output_type": "stream",
     "text": [
      "20...30...40...50...60...70...80...90...100 - done.\n",
      "Done: 0\n",
      "Doing: B2.tif\n",
      "Input file size is 829, 1222\n",
      "0...10...20...30...40...50...60...70...80...90...100 - done.\n",
      "Done: 0\n",
      "Doing: B3.tif\n",
      "Input file size is 829, 1222\n",
      "0...10...20...30...40...50...60...70"
     ]
    },
    {
     "name": "stderr",
     "output_type": "stream",
     "text": [
      "Warning 1: for band 1, nodata value has been rounded to -2147483648, Int32 being an integer datatype.\n",
      "Warning 1: for band 1, nodata value has been rounded to -2147483648, Int32 being an integer datatype.\n"
     ]
    },
    {
     "name": "stdout",
     "output_type": "stream",
     "text": [
      "...80...90...100 - done.\n",
      "Done: 0\n",
      "Doing: B4.tif\n",
      "Input file size is 829, 1222\n",
      "0...10...20...30...40...50...60...70...80...90...100 - done.\n",
      "Done: 0\n",
      "Doing: B5.tif\n",
      "Input file size is 829, 1222\n",
      "0...10...20...30...40...50...60...70...80...90..."
     ]
    },
    {
     "name": "stderr",
     "output_type": "stream",
     "text": [
      "Warning 1: for band 1, nodata value has been rounded to -2147483648, Int32 being an integer datatype.\n",
      "Warning 1: for band 1, nodata value has been rounded to -2147483648, Int32 being an integer datatype.\n"
     ]
    },
    {
     "name": "stdout",
     "output_type": "stream",
     "text": [
      "100 - done.\n",
      "Done: 0\n",
      "Doing: B6.tif\n",
      "Input file size is 829, 1222\n",
      "0...10...20...30...40...50...60...70...80...90...100 - done.\n",
      "Done: 0\n",
      "Doing: B7.tif\n"
     ]
    },
    {
     "name": "stderr",
     "output_type": "stream",
     "text": [
      "Warning 1: for band 1, nodata value has been rounded to -2147483648, Int32 being an integer datatype.\n",
      "Warning 1: for band 1, nodata value has been rounded to -2147483648, Int32 being an integer datatype.\n"
     ]
    },
    {
     "name": "stdout",
     "output_type": "stream",
     "text": [
      "Input file size is 829, 1222\n",
      "0...10...20...30...40...50...60...70...80...90...100 - done.\n",
      "Done: 0\n",
      "Doing: B8.tif\n",
      "Input file size is 829, 1222\n",
      "0...10...20...30...40...50...60...70...80...90...100 - done.\n",
      "Done: 0\n",
      "Doing: B9.tif\n",
      "Input file size is 829, 1222\n",
      "0...10...20...30...40"
     ]
    },
    {
     "name": "stderr",
     "output_type": "stream",
     "text": [
      "Warning 1: for band 1, nodata value has been rounded to -2147483648, Int32 being an integer datatype.\n",
      "Warning 1: for band 1, nodata value has been rounded to -2147483648, Int32 being an integer datatype.\n"
     ]
    },
    {
     "name": "stdout",
     "output_type": "stream",
     "text": [
      "...50...60...70...80...90...100 - done.\n",
      "Done: 0\n",
      "Doing: B10.tif\n",
      "Input file size is 829, 1222\n",
      "0...10...20...30...40...50...60...70...80...90...100 - done.\n",
      "Done: 0\n",
      "Doing: B11.tif\n",
      "Input file size is 829, 1222\n",
      "0...10...20...30...40...50...60"
     ]
    },
    {
     "name": "stderr",
     "output_type": "stream",
     "text": [
      "Warning 1: for band 1, nodata value has been rounded to -2147483648, Int32 being an integer datatype.\n",
      "Warning 1: for band 1, nodata value has been rounded to -2147483648, Int32 being an integer datatype.\n"
     ]
    },
    {
     "name": "stdout",
     "output_type": "stream",
     "text": [
      "...70...80...90...100 - done.\n",
      "Done: 0\n",
      "Doing: B12.tif\n",
      "Input file size is 829, 1222\n",
      "0...10...20...30...40...50...60...70...80...90...100 - done.\n",
      "Done: 0\n",
      "Doing: B13.tif\n",
      "Input file size is 829, 1222\n",
      "0...10...20...30...40...50...60...70...80.."
     ]
    },
    {
     "name": "stderr",
     "output_type": "stream",
     "text": [
      "Warning 1: for band 1, nodata value has been rounded to -2147483648, Int32 being an integer datatype.\n"
     ]
    },
    {
     "name": "stdout",
     "output_type": "stream",
     "text": [
      ".90...100 - done.\n",
      "Done: 0\n",
      "Doing: B14.tif\n",
      "Input file size is 829, 1222\n",
      "0...10...20...30...40...50...60...70...80...90.."
     ]
    },
    {
     "name": "stderr",
     "output_type": "stream",
     "text": [
      "Warning 1: for band 1, nodata value has been rounded to -2147483648, Int32 being an integer datatype.\n",
      "Warning 1: for band 1, nodata value has been rounded to -2147483648, Int32 being an integer datatype.\n"
     ]
    },
    {
     "name": "stdout",
     "output_type": "stream",
     "text": [
      ".100 - done.\n",
      "Done: 0\n",
      "Doing: B15.tif\n",
      "Input file size is 829, 1222\n",
      "0...10...20...30...40...50...60...70...80...90...100 - done.\n",
      "Done: 0\n",
      "Doing: B16.tif\n",
      "Input file size is 829, 1222\n",
      "0...10...20...30...40...50...60...70...80...90...100 - done.\n",
      "Done: 0\n",
      "Doing: B17.tif\n"
     ]
    },
    {
     "name": "stderr",
     "output_type": "stream",
     "text": [
      "Warning 1: for band 1, nodata value has been rounded to -2147483648, Int32 being an integer datatype.\n",
      "Warning 1: for band 1, nodata value has been rounded to -2147483648, Int32 being an integer datatype.\n"
     ]
    },
    {
     "name": "stdout",
     "output_type": "stream",
     "text": [
      "Input file size is 829, 1222\n",
      "0...10...20...30...40...50...60...70...80...90...100 - done.\n",
      "Done: 0\n",
      "Doing: B18.tif\n",
      "Input file size is 829, 1222\n",
      "0...10...20"
     ]
    },
    {
     "name": "stderr",
     "output_type": "stream",
     "text": [
      "Warning 1: for band 1, nodata value has been rounded to -2147483648, Int32 being an integer datatype.\n",
      "Warning 1: for band 1, nodata value has been rounded to -2147483648, Int32 being an integer datatype.\n"
     ]
    },
    {
     "name": "stdout",
     "output_type": "stream",
     "text": [
      "...30...40...50...60...70...80...90...100 - done.\n",
      "Done: 0\n",
      "Doing: B19.tif\n",
      "Input file size is 829, 1222\n",
      "0...10...20...30...40...50...60...70...80...90...100 - done.\n",
      "Done: 0\n",
      "Doing: ASCII\n",
      "Done: 1\n",
      "Doing: B1.tif\n"
     ]
    },
    {
     "name": "stderr",
     "output_type": "stream",
     "text": [
      "ERROR 4: `SSP126/2081_2100/GISS-E2-1-G/ASCII' not recognized as a supported file format.\n",
      "Warning 1: for band 1, nodata value has been rounded to -2147483648, Int32 being an integer datatype.\n"
     ]
    },
    {
     "name": "stdout",
     "output_type": "stream",
     "text": [
      "Input file size is 829, 1222\n",
      "0...10...20...30...40...50...60...70...80...90...100 - done.\n",
      "Done: 0\n",
      "Doing: B2.tif\n",
      "Input file size is 829, 1222\n",
      "0...10...20"
     ]
    },
    {
     "name": "stderr",
     "output_type": "stream",
     "text": [
      "Warning 1: for band 1, nodata value has been rounded to -2147483648, Int32 being an integer datatype.\n",
      "Warning 1: for band 1, nodata value has been rounded to -2147483648, Int32 being an integer datatype.\n"
     ]
    },
    {
     "name": "stdout",
     "output_type": "stream",
     "text": [
      "...30...40...50...60...70...80...90...100 - done.\n",
      "Done: 0\n",
      "Doing: B3.tif\n",
      "Input file size is 829, 1222\n",
      "0...10...20...30...40...50...60...70...80...90...100 - done.\n",
      "Done: 0\n",
      "Doing: B4.tif\n",
      "Input file size is 829, 1222\n",
      "0...10...20...30."
     ]
    },
    {
     "name": "stderr",
     "output_type": "stream",
     "text": [
      "Warning 1: for band 1, nodata value has been rounded to -2147483648, Int32 being an integer datatype.\n"
     ]
    },
    {
     "name": "stdout",
     "output_type": "stream",
     "text": [
      "..40...50...60...70...80...90...100 - done.\n",
      "Done: 0\n",
      "Doing: B5.tif\n"
     ]
    },
    {
     "name": "stderr",
     "output_type": "stream",
     "text": [
      "Warning 1: for band 1, nodata value has been rounded to -2147483648, Int32 being an integer datatype.\n"
     ]
    },
    {
     "name": "stdout",
     "output_type": "stream",
     "text": [
      "Input file size is 829, 1222\n",
      "0...10...20...30...40...50...60...70...80...90...100 - done.\n",
      "Done: 0\n",
      "Doing: B6.tif\n",
      "Input file size is 829, 1222\n",
      "0...10...20...30...40...50...60...70...80...90...100 - done.\n",
      "Done: 0\n",
      "Doing: B7.tif\n"
     ]
    },
    {
     "name": "stderr",
     "output_type": "stream",
     "text": [
      "Warning 1: for band 1, nodata value has been rounded to -2147483648, Int32 being an integer datatype.\n",
      "Warning 1: for band 1, nodata value has been rounded to -2147483648, Int32 being an integer datatype.\n"
     ]
    },
    {
     "name": "stdout",
     "output_type": "stream",
     "text": [
      "Input file size is 829, 1222\n",
      "0...10...20...30...40...50...60...70...80...90...100 - done.\n",
      "Done: 0\n",
      "Doing: B8.tif\n",
      "Input file size is 829, 1222\n",
      "0...10..."
     ]
    },
    {
     "name": "stderr",
     "output_type": "stream",
     "text": [
      "Warning 1: for band 1, nodata value has been rounded to -2147483648, Int32 being an integer datatype.\n",
      "Warning 1: for band 1, nodata value has been rounded to -2147483648, Int32 being an integer datatype.\n"
     ]
    },
    {
     "name": "stdout",
     "output_type": "stream",
     "text": [
      "20...30...40...50...60...70...80...90...100 - done.\n",
      "Done: 0\n",
      "Doing: B9.tif\n",
      "Input file size is 829, 1222\n",
      "0...10...20...30...40...50...60...70...80...90...100 - done.\n",
      "Done: 0\n",
      "Doing: B10.tif\n",
      "Input file size is 829, 1222\n",
      "0...10...20...30...40...50...60...70"
     ]
    },
    {
     "name": "stderr",
     "output_type": "stream",
     "text": [
      "Warning 1: for band 1, nodata value has been rounded to -2147483648, Int32 being an integer datatype.\n",
      "Warning 1: for band 1, nodata value has been rounded to -2147483648, Int32 being an integer datatype.\n"
     ]
    },
    {
     "name": "stdout",
     "output_type": "stream",
     "text": [
      "...80...90...100 - done.\n",
      "Done: 0\n",
      "Doing: B11.tif\n",
      "Input file size is 829, 1222\n",
      "0...10...20...30...40...50...60...70...80...90...100 - done.\n",
      "Done: 0\n",
      "Doing: B12.tif\n",
      "Input file size is 829, 1222\n",
      "0...10...20...30...40...50...60...70...80...90..."
     ]
    },
    {
     "name": "stderr",
     "output_type": "stream",
     "text": [
      "Warning 1: for band 1, nodata value has been rounded to -2147483648, Int32 being an integer datatype.\n",
      "Warning 1: for band 1, nodata value has been rounded to -2147483648, Int32 being an integer datatype.\n"
     ]
    },
    {
     "name": "stdout",
     "output_type": "stream",
     "text": [
      "100 - done.\n",
      "Done: 0\n",
      "Doing: B13.tif\n",
      "Input file size is 829, 1222\n",
      "0...10...20...30...40...50...60...70...80...90...100 - done.\n",
      "Done: 0\n",
      "Doing: B14.tif\n"
     ]
    },
    {
     "name": "stderr",
     "output_type": "stream",
     "text": [
      "Warning 1: for band 1, nodata value has been rounded to -2147483648, Int32 being an integer datatype.\n",
      "Warning 1: for band 1, nodata value has been rounded to -2147483648, Int32 being an integer datatype.\n"
     ]
    },
    {
     "name": "stdout",
     "output_type": "stream",
     "text": [
      "Input file size is 829, 1222\n",
      "0...10...20...30...40...50...60...70...80...90...100 - done.\n",
      "Done: 0\n",
      "Doing: B15.tif\n",
      "Input file size is 829, 1222\n",
      "0...10...20...30...40...50...60...70...80...90...100 - done.\n",
      "Done: 0\n",
      "Doing: B16.tif\n",
      "Input file size is 829, 1222\n",
      "0...10...20...30...40.."
     ]
    },
    {
     "name": "stderr",
     "output_type": "stream",
     "text": [
      "Warning 1: for band 1, nodata value has been rounded to -2147483648, Int32 being an integer datatype.\n",
      "Warning 1: for band 1, nodata value has been rounded to -2147483648, Int32 being an integer datatype.\n"
     ]
    },
    {
     "name": "stdout",
     "output_type": "stream",
     "text": [
      ".50...60...70...80...90...100 - done.\n",
      "Done: 0\n",
      "Doing: B17.tif\n",
      "Input file size is 829, 1222\n",
      "0...10...20...30...40...50...60...70...80...90...100 - done.\n",
      "Done: 0\n",
      "Doing: B18.tif\n",
      "Input file size is 829, 1222\n",
      "0...10...20...30...40...50...60...70...80...90..."
     ]
    },
    {
     "name": "stderr",
     "output_type": "stream",
     "text": [
      "Warning 1: for band 1, nodata value has been rounded to -2147483648, Int32 being an integer datatype.\n",
      "Warning 1: for band 1, nodata value has been rounded to -2147483648, Int32 being an integer datatype.\n"
     ]
    },
    {
     "name": "stdout",
     "output_type": "stream",
     "text": [
      "100 - done.\n",
      "Done: 0\n",
      "Doing: B19.tif\n",
      "Input file size is 829, 1222\n",
      "0...10...20...30...40...50...60...70...80...90...100 - done.\n",
      "Done: 0\n",
      "Doing: ASCII\n"
     ]
    },
    {
     "name": "stderr",
     "output_type": "stream",
     "text": [
      "ERROR 4: `SSP126/2081_2100/GISS-E2-1-H/ASCII' not recognized as a supported file format.\n",
      "Warning 1: for band 1, nodata value has been rounded to -2147483648, Int32 being an integer datatype.\n"
     ]
    },
    {
     "name": "stdout",
     "output_type": "stream",
     "text": [
      "Done: 1\n",
      "Doing: B1.tif\n",
      "Input file size is 829, 1222\n",
      "0...10...20...30...40...50...60...70...80...90...100 - done.\n",
      "Done: 0\n",
      "Doing: B2.tif\n"
     ]
    },
    {
     "name": "stderr",
     "output_type": "stream",
     "text": [
      "Warning 1: for band 1, nodata value has been rounded to -2147483648, Int32 being an integer datatype.\n",
      "Warning 1: for band 1, nodata value has been rounded to -2147483648, Int32 being an integer datatype.\n"
     ]
    },
    {
     "name": "stdout",
     "output_type": "stream",
     "text": [
      "Input file size is 829, 1222\n",
      "0...10...20...30...40...50...60...70...80...90...100 - done.\n",
      "Done: 0\n",
      "Doing: B3.tif\n",
      "Input file size is 829, 1222\n",
      "0...10...20...30...40...50...60...70...80...90...100 - done.\n",
      "Done: 0\n",
      "Doing: B4.tif\n",
      "Input file size is 829, 1222\n",
      "0...10...20...30...40...50."
     ]
    },
    {
     "name": "stderr",
     "output_type": "stream",
     "text": [
      "Warning 1: for band 1, nodata value has been rounded to -2147483648, Int32 being an integer datatype.\n",
      "Warning 1: for band 1, nodata value has been rounded to -2147483648, Int32 being an integer datatype.\n"
     ]
    },
    {
     "name": "stdout",
     "output_type": "stream",
     "text": [
      "..60...70...80...90...100 - done.\n",
      "Done: 0\n",
      "Doing: B5.tif\n",
      "Input file size is 829, 1222\n",
      "0...10...20...30...40...50...60...70...80...90...100 - done.\n",
      "Done: 0\n",
      "Doing: B6.tif\n",
      "Input file size is 829, 1222\n",
      "0...10...20...30...40...50...60...70...80...90..."
     ]
    },
    {
     "name": "stderr",
     "output_type": "stream",
     "text": [
      "Warning 1: for band 1, nodata value has been rounded to -2147483648, Int32 being an integer datatype.\n",
      "Warning 1: for band 1, nodata value has been rounded to -2147483648, Int32 being an integer datatype.\n"
     ]
    },
    {
     "name": "stdout",
     "output_type": "stream",
     "text": [
      "100 - done.\n",
      "Done: 0\n",
      "Doing: B7.tif\n",
      "Input file size is 829, 1222\n",
      "0...10...20...30...40...50...60...70...80...90...100 - done.\n",
      "Done: 0\n",
      "Doing: B8.tif\n"
     ]
    },
    {
     "name": "stderr",
     "output_type": "stream",
     "text": [
      "Warning 1: for band 1, nodata value has been rounded to -2147483648, Int32 being an integer datatype.\n"
     ]
    },
    {
     "name": "stdout",
     "output_type": "stream",
     "text": [
      "Input file size is 829, 1222\n",
      "0...10...20...30...40...50...60...70...80...90...100 - done.\n",
      "Done: 0\n",
      "Doing: B9.tif\n"
     ]
    },
    {
     "name": "stderr",
     "output_type": "stream",
     "text": [
      "Warning 1: for band 1, nodata value has been rounded to -2147483648, Int32 being an integer datatype.\n"
     ]
    },
    {
     "name": "stdout",
     "output_type": "stream",
     "text": [
      "Input file size is 829, 1222\n",
      "0...10...20...30...40...50...60...70...80...90...100 - done.\n",
      "Done: 0\n",
      "Doing: B10.tif\n",
      "Input file size is 829, 1222\n",
      "0...10...20...30...40...50...60...70...80...90..."
     ]
    },
    {
     "name": "stderr",
     "output_type": "stream",
     "text": [
      "Warning 1: for band 1, nodata value has been rounded to -2147483648, Int32 being an integer datatype.\n"
     ]
    },
    {
     "name": "stdout",
     "output_type": "stream",
     "text": [
      "100 - done.\n",
      "Done: 0\n",
      "Doing: B11.tif\n",
      "Input file size is 829, 1222\n",
      "0...10...20...30...40...50...60...70...80...90...100 - done.\n",
      "Done: 0\n",
      "Doing: B12.tif\n"
     ]
    },
    {
     "name": "stderr",
     "output_type": "stream",
     "text": [
      "Warning 1: for band 1, nodata value has been rounded to -2147483648, Int32 being an integer datatype.\n",
      "Warning 1: for band 1, nodata value has been rounded to -2147483648, Int32 being an integer datatype.\n"
     ]
    },
    {
     "name": "stdout",
     "output_type": "stream",
     "text": [
      "Input file size is 829, 1222\n",
      "0...10...20...30...40...50...60...70...80...90...100 - done.\n",
      "Done: 0\n",
      "Doing: B13.tif\n",
      "Input file size is 829, 1222\n",
      "0...10...20"
     ]
    },
    {
     "name": "stderr",
     "output_type": "stream",
     "text": [
      "Warning 1: for band 1, nodata value has been rounded to -2147483648, Int32 being an integer datatype.\n",
      "Warning 1: for band 1, nodata value has been rounded to -2147483648, Int32 being an integer datatype.\n"
     ]
    },
    {
     "name": "stdout",
     "output_type": "stream",
     "text": [
      "...30...40...50...60...70...80...90...100 - done.\n",
      "Done: 0\n",
      "Doing: B14.tif\n",
      "Input file size is 829, 1222\n",
      "0...10...20...30...40...50...60...70...80...90...100 - done.\n",
      "Done: 0\n",
      "Doing: B15.tif\n",
      "Input file size is 829, 1222\n",
      "0...10...20...30...40...50...60...70."
     ]
    },
    {
     "name": "stderr",
     "output_type": "stream",
     "text": [
      "Warning 1: for band 1, nodata value has been rounded to -2147483648, Int32 being an integer datatype.\n",
      "Warning 1: for band 1, nodata value has been rounded to -2147483648, Int32 being an integer datatype.\n"
     ]
    },
    {
     "name": "stdout",
     "output_type": "stream",
     "text": [
      "..80...90...100 - done.\n",
      "Done: 0\n",
      "Doing: B16.tif\n",
      "Input file size is 829, 1222\n",
      "0...10...20...30...40...50...60...70...80...90...100 - done.\n",
      "Done: 0\n",
      "Doing: B17.tif\n",
      "Input file size is 829, 1222\n",
      "0...10...20...30...40...50...60...70...80...90.."
     ]
    },
    {
     "name": "stderr",
     "output_type": "stream",
     "text": [
      "Warning 1: for band 1, nodata value has been rounded to -2147483648, Int32 being an integer datatype.\n",
      "Warning 1: for band 1, nodata value has been rounded to -2147483648, Int32 being an integer datatype.\n"
     ]
    },
    {
     "name": "stdout",
     "output_type": "stream",
     "text": [
      ".100 - done.\n",
      "Done: 0\n",
      "Doing: B18.tif\n",
      "Input file size is 829, 1222\n",
      "0...10...20...30...40...50...60...70...80...90...100 - done.\n",
      "Done: 0\n",
      "Doing: B19.tif\n",
      "Input file size is 829, 1222\n",
      "0...10...20...30...40...50...60...70...80...90..."
     ]
    },
    {
     "name": "stderr",
     "output_type": "stream",
     "text": [
      "Warning 1: for band 1, nodata value has been rounded to -2147483648, Int32 being an integer datatype.\n"
     ]
    },
    {
     "name": "stdout",
     "output_type": "stream",
     "text": [
      "100 - done.\n",
      "Done: 0\n",
      "Doing: ASCII\n",
      "Done: 1\n",
      "Doing: B1.tif\n",
      "Input file size is 829, 1222\n",
      "0...10...20...30...40."
     ]
    },
    {
     "name": "stderr",
     "output_type": "stream",
     "text": [
      "ERROR 4: `SSP126/2081_2100/HadGEM3-GC31-LL/ASCII' not recognized as a supported file format.\n",
      "Warning 1: for band 1, nodata value has been rounded to -2147483648, Int32 being an integer datatype.\n"
     ]
    },
    {
     "name": "stdout",
     "output_type": "stream",
     "text": [
      "..50...60...70...80...90...100 - done.\n",
      "Done: 0\n",
      "Doing: B2.tif\n",
      "Input file size is 829, 1222\n",
      "0"
     ]
    },
    {
     "name": "stderr",
     "output_type": "stream",
     "text": [
      "Warning 1: for band 1, nodata value has been rounded to -2147483648, Int32 being an integer datatype.\n"
     ]
    },
    {
     "name": "stdout",
     "output_type": "stream",
     "text": [
      "...10...20...30...40...50...60...70...80...90...100 - done.\n",
      "Done: 0\n",
      "Doing: B3.tif\n"
     ]
    },
    {
     "name": "stderr",
     "output_type": "stream",
     "text": [
      "Warning 1: for band 1, nodata value has been rounded to -2147483648, Int32 being an integer datatype.\n",
      "Warning 1: for band 1, nodata value has been rounded to -2147483648, Int32 being an integer datatype.\n"
     ]
    },
    {
     "name": "stdout",
     "output_type": "stream",
     "text": [
      "Input file size is 829, 1222\n",
      "0...10...20...30...40...50...60...70...80...90...100 - done.\n",
      "Done: 0\n",
      "Doing: B4.tif\n",
      "Input file size is 829, 1222\n",
      "0...10...20...30...40...50...60...70...80...90...100 - done.\n",
      "Done: 0\n",
      "Doing: B5.tif\n",
      "Input file size is 829, 1222\n",
      "0...10...20...30...40."
     ]
    },
    {
     "name": "stderr",
     "output_type": "stream",
     "text": [
      "Warning 1: for band 1, nodata value has been rounded to -2147483648, Int32 being an integer datatype.\n",
      "Warning 1: for band 1, nodata value has been rounded to -2147483648, Int32 being an integer datatype.\n"
     ]
    },
    {
     "name": "stdout",
     "output_type": "stream",
     "text": [
      "..50...60...70...80...90...100 - done.\n",
      "Done: 0\n",
      "Doing: B6.tif\n",
      "Input file size is 829, 1222\n",
      "0...10...20...30...40...50...60...70...80...90...100 - done.\n",
      "Done: 0\n",
      "Doing: B7.tif\n",
      "Input file size is 829, 1222\n",
      "0...10...20...30...40...50...60...70...80...90."
     ]
    },
    {
     "name": "stderr",
     "output_type": "stream",
     "text": [
      "Warning 1: for band 1, nodata value has been rounded to -2147483648, Int32 being an integer datatype.\n",
      "Warning 1: for band 1, nodata value has been rounded to -2147483648, Int32 being an integer datatype.\n"
     ]
    },
    {
     "name": "stdout",
     "output_type": "stream",
     "text": [
      "..100 - done.\n",
      "Done: 0\n",
      "Doing: B8.tif\n",
      "Input file size is 829, 1222\n",
      "0...10...20...30...40...50...60...70...80...90...100 - done.\n",
      "Done: 0\n",
      "Doing: B9.tif\n",
      "Input file size is 829, 1222\n",
      "0...10...20...30...40...50...60...70...80...90...100 - done.\n",
      "Done: 0\n",
      "Doing: B10.tif\n"
     ]
    },
    {
     "name": "stderr",
     "output_type": "stream",
     "text": [
      "Warning 1: for band 1, nodata value has been rounded to -2147483648, Int32 being an integer datatype.\n",
      "Warning 1: for band 1, nodata value has been rounded to -2147483648, Int32 being an integer datatype.\n"
     ]
    },
    {
     "name": "stdout",
     "output_type": "stream",
     "text": [
      "Input file size is 829, 1222\n",
      "0...10...20...30...40...50...60...70...80...90...100 - done.\n",
      "Done: 0\n",
      "Doing: B11.tif\n",
      "Input file size is 829, 1222\n",
      "0...10...20."
     ]
    },
    {
     "name": "stderr",
     "output_type": "stream",
     "text": [
      "Warning 1: for band 1, nodata value has been rounded to -2147483648, Int32 being an integer datatype.\n",
      "Warning 1: for band 1, nodata value has been rounded to -2147483648, Int32 being an integer datatype.\n"
     ]
    },
    {
     "name": "stdout",
     "output_type": "stream",
     "text": [
      "..30...40...50...60...70...80...90...100 - done.\n",
      "Done: 0\n",
      "Doing: B12.tif\n",
      "Input file size is 829, 1222\n",
      "0...10...20...30...40...50...60...70...80...90...100 - done.\n",
      "Done: 0\n",
      "Doing: B13.tif\n",
      "Input file size is 829, 1222\n",
      "0...10...20...30...40...50...60...70..."
     ]
    },
    {
     "name": "stderr",
     "output_type": "stream",
     "text": [
      "Warning 1: for band 1, nodata value has been rounded to -2147483648, Int32 being an integer datatype.\n",
      "Warning 1: for band 1, nodata value has been rounded to -2147483648, Int32 being an integer datatype.\n"
     ]
    },
    {
     "name": "stdout",
     "output_type": "stream",
     "text": [
      "80...90...100 - done.\n",
      "Done: 0\n",
      "Doing: B14.tif\n",
      "Input file size is 829, 1222\n",
      "0...10...20...30...40...50...60...70...80...90...100 - done.\n",
      "Done: 0\n",
      "Doing: B15.tif\n",
      "Input file size is 829, 1222\n",
      "0...10...20...30...40...50...60...70...80...90...100 - done.\n",
      "Done: 0\n",
      "Doing: B16.tif\n"
     ]
    },
    {
     "name": "stderr",
     "output_type": "stream",
     "text": [
      "Warning 1: for band 1, nodata value has been rounded to -2147483648, Int32 being an integer datatype.\n",
      "Warning 1: for band 1, nodata value has been rounded to -2147483648, Int32 being an integer datatype.\n"
     ]
    },
    {
     "name": "stdout",
     "output_type": "stream",
     "text": [
      "Input file size is 829, 1222\n",
      "0...10...20...30...40...50...60...70...80...90...100 - done.\n",
      "Done: 0\n",
      "Doing: B17.tif\n",
      "Input file size is 829, 1222\n",
      "0...10...20."
     ]
    },
    {
     "name": "stderr",
     "output_type": "stream",
     "text": [
      "Warning 1: for band 1, nodata value has been rounded to -2147483648, Int32 being an integer datatype.\n",
      "Warning 1: for band 1, nodata value has been rounded to -2147483648, Int32 being an integer datatype.\n"
     ]
    },
    {
     "name": "stdout",
     "output_type": "stream",
     "text": [
      "..30...40...50...60...70...80...90...100 - done.\n",
      "Done: 0\n",
      "Doing: B18.tif\n",
      "Input file size is 829, 1222\n",
      "0...10...20...30...40...50...60...70...80...90...100 - done.\n",
      "Done: 0\n",
      "Doing: B19.tif\n",
      "Input file size is 829, 1222\n",
      "0...10...20...30...40...50"
     ]
    },
    {
     "name": "stderr",
     "output_type": "stream",
     "text": [
      "Warning 1: for band 1, nodata value has been rounded to -2147483648, Int32 being an integer datatype.\n",
      "ERROR 4: `SSP126/2081_2100/INM-CM4-8/ASCII' not recognized as a supported file format.\n"
     ]
    },
    {
     "name": "stdout",
     "output_type": "stream",
     "text": [
      "...60...70...80...90...100 - done.\n",
      "Done: 0\n",
      "Doing: ASCII\n",
      "Done: 1\n",
      "Doing: B1.tif\n",
      "Input file size is 829, 1222\n",
      "0...10...20."
     ]
    },
    {
     "name": "stderr",
     "output_type": "stream",
     "text": [
      "Warning 1: for band 1, nodata value has been rounded to -2147483648, Int32 being an integer datatype.\n"
     ]
    },
    {
     "name": "stdout",
     "output_type": "stream",
     "text": [
      "..30...40...50...60...70...80...90...100 - done.\n",
      "Done: 0\n",
      "Doing: B2.tif\n",
      "Input file size is 829, 1222\n",
      "0...10...20...30...40...50...60...70...80...90..."
     ]
    },
    {
     "name": "stderr",
     "output_type": "stream",
     "text": [
      "Warning 1: for band 1, nodata value has been rounded to -2147483648, Int32 being an integer datatype.\n",
      "Warning 1: for band 1, nodata value has been rounded to -2147483648, Int32 being an integer datatype.\n"
     ]
    },
    {
     "name": "stdout",
     "output_type": "stream",
     "text": [
      "100 - done.\n",
      "Done: 0\n",
      "Doing: B3.tif\n",
      "Input file size is 829, 1222\n",
      "0...10...20...30...40...50...60...70...80...90...100 - done.\n",
      "Done: 0\n",
      "Doing: B4.tif\n"
     ]
    },
    {
     "name": "stderr",
     "output_type": "stream",
     "text": [
      "Warning 1: for band 1, nodata value has been rounded to -2147483648, Int32 being an integer datatype.\n",
      "Warning 1: for band 1, nodata value has been rounded to -2147483648, Int32 being an integer datatype.\n"
     ]
    },
    {
     "name": "stdout",
     "output_type": "stream",
     "text": [
      "Input file size is 829, 1222\n",
      "0...10...20...30...40...50...60...70...80...90...100 - done.\n",
      "Done: 0\n",
      "Doing: B5.tif\n",
      "Input file size is 829, 1222\n",
      "0...10...20...30...40...50...60...70...80...90...100 - done.\n",
      "Done: 0\n",
      "Doing: B6.tif\n",
      "Input file size is 829, 1222\n",
      "0...10...20...30...40...50."
     ]
    },
    {
     "name": "stderr",
     "output_type": "stream",
     "text": [
      "Warning 1: for band 1, nodata value has been rounded to -2147483648, Int32 being an integer datatype.\n"
     ]
    },
    {
     "name": "stdout",
     "output_type": "stream",
     "text": [
      "..60...70...80...90...100 - done.\n",
      "Done: 0\n",
      "Doing: B7.tif\n",
      "Input file size is 829, 1222\n",
      "0...10...20.."
     ]
    },
    {
     "name": "stderr",
     "output_type": "stream",
     "text": [
      "Warning 1: for band 1, nodata value has been rounded to -2147483648, Int32 being an integer datatype.\n",
      "Warning 1: for band 1, nodata value has been rounded to -2147483648, Int32 being an integer datatype.\n"
     ]
    },
    {
     "name": "stdout",
     "output_type": "stream",
     "text": [
      ".30...40...50...60...70...80...90...100 - done.\n",
      "Done: 0\n",
      "Doing: B8.tif\n",
      "Input file size is 829, 1222\n",
      "0...10...20...30...40...50...60...70...80...90...100 - done.\n",
      "Done: 0\n",
      "Doing: B9.tif\n",
      "Input file size is 829, 1222\n",
      "0...10...20...30...40.."
     ]
    },
    {
     "name": "stderr",
     "output_type": "stream",
     "text": [
      "Warning 1: for band 1, nodata value has been rounded to -2147483648, Int32 being an integer datatype.\n"
     ]
    },
    {
     "name": "stdout",
     "output_type": "stream",
     "text": [
      ".50...60...70...80...90...100 - done.\n",
      "Done: 0\n",
      "Doing: B10.tif\n",
      "Input file size is 829, 1222\n",
      "0...10...20...30...40...50...60..."
     ]
    },
    {
     "name": "stderr",
     "output_type": "stream",
     "text": [
      "Warning 1: for band 1, nodata value has been rounded to -2147483648, Int32 being an integer datatype.\n",
      "Warning 1: for band 1, nodata value has been rounded to -2147483648, Int32 being an integer datatype.\n"
     ]
    },
    {
     "name": "stdout",
     "output_type": "stream",
     "text": [
      "70...80...90...100 - done.\n",
      "Done: 0\n",
      "Doing: B11.tif\n",
      "Input file size is 829, 1222\n",
      "0...10...20...30...40...50...60...70...80...90...100 - done.\n",
      "Done: 0\n",
      "Doing: B12.tif\n",
      "Input file size is 829, 1222\n",
      "0...10...20...30...40..."
     ]
    },
    {
     "name": "stderr",
     "output_type": "stream",
     "text": [
      "Warning 1: for band 1, nodata value has been rounded to -2147483648, Int32 being an integer datatype.\n",
      "Warning 1: for band 1, nodata value has been rounded to -2147483648, Int32 being an integer datatype.\n"
     ]
    },
    {
     "name": "stdout",
     "output_type": "stream",
     "text": [
      "50...60...70...80...90...100 - done.\n",
      "Done: 0\n",
      "Doing: B13.tif\n",
      "Input file size is 829, 1222\n",
      "0...10...20...30...40...50...60...70...80...90...100 - done.\n",
      "Done: 0\n",
      "Doing: B14.tif\n",
      "Input file size is 829, 1222\n",
      "0...10...20...30...40...50...60...70...80...90...100 - done.\n",
      "Done: 0\n",
      "Doing: B15.tif\n"
     ]
    },
    {
     "name": "stderr",
     "output_type": "stream",
     "text": [
      "Warning 1: for band 1, nodata value has been rounded to -2147483648, Int32 being an integer datatype.\n",
      "Warning 1: for band 1, nodata value has been rounded to -2147483648, Int32 being an integer datatype.\n"
     ]
    },
    {
     "name": "stdout",
     "output_type": "stream",
     "text": [
      "Input file size is 829, 1222\n",
      "0...10...20...30...40...50...60...70...80...90...100 - done.\n",
      "Done: 0\n",
      "Doing: B16.tif\n",
      "Input file size is 829, 1222\n",
      "0...10...20."
     ]
    },
    {
     "name": "stderr",
     "output_type": "stream",
     "text": [
      "Warning 1: for band 1, nodata value has been rounded to -2147483648, Int32 being an integer datatype.\n",
      "Warning 1: for band 1, nodata value has been rounded to -2147483648, Int32 being an integer datatype.\n"
     ]
    },
    {
     "name": "stdout",
     "output_type": "stream",
     "text": [
      "..30...40...50...60...70...80...90...100 - done.\n",
      "Done: 0\n",
      "Doing: B17.tif\n",
      "Input file size is 829, 1222\n",
      "0...10...20...30...40...50...60...70...80...90...100 - done.\n",
      "Done: 0\n",
      "Doing: B18.tif\n",
      "Input file size is 829, 1222\n",
      "0...10...20..."
     ]
    },
    {
     "name": "stderr",
     "output_type": "stream",
     "text": [
      "Warning 1: for band 1, nodata value has been rounded to -2147483648, Int32 being an integer datatype.\n",
      "Warning 1: for band 1, nodata value has been rounded to -2147483648, Int32 being an integer datatype.\n"
     ]
    },
    {
     "name": "stdout",
     "output_type": "stream",
     "text": [
      "30...40...50...60...70...80...90...100 - done.\n",
      "Done: 0\n",
      "Doing: B19.tif\n",
      "Input file size is 829, 1222\n",
      "0...10...20...30...40...50...60...70...80...90...100 - done.\n",
      "Done: 0\n",
      "Doing: ASCII\n",
      "Done: 1\n",
      "Doing: B1.tif\n",
      "Input file size is 829, 1222\n",
      "0.."
     ]
    },
    {
     "name": "stderr",
     "output_type": "stream",
     "text": [
      "ERROR 4: `SSP126/2081_2100/INM-CM5-0/ASCII' not recognized as a supported file format.\n",
      "Warning 1: for band 1, nodata value has been rounded to -2147483648, Int32 being an integer datatype.\n"
     ]
    },
    {
     "name": "stdout",
     "output_type": "stream",
     "text": [
      ".10...20...30...40...50...60...70...80...90...100 - done.\n",
      "Done: 0\n",
      "Doing: B2.tif\n",
      "Input file size is 829, 1222\n",
      "0...10."
     ]
    },
    {
     "name": "stderr",
     "output_type": "stream",
     "text": [
      "Warning 1: for band 1, nodata value has been rounded to -2147483648, Int32 being an integer datatype.\n"
     ]
    },
    {
     "name": "stdout",
     "output_type": "stream",
     "text": [
      "..20...30...40...50...60...70...80...90...100 - done.\n",
      "Done: 0\n",
      "Doing: B3.tif\n",
      "Input file size is 829, 1222\n",
      "0...10...20...30...40...50...60...70...80...90...100 - done.\n",
      "Done: 0\n",
      "Doing: B4.tif\n"
     ]
    },
    {
     "name": "stderr",
     "output_type": "stream",
     "text": [
      "Warning 1: for band 1, nodata value has been rounded to -2147483648, Int32 being an integer datatype.\n",
      "Warning 1: for band 1, nodata value has been rounded to -2147483648, Int32 being an integer datatype.\n"
     ]
    },
    {
     "name": "stdout",
     "output_type": "stream",
     "text": [
      "Input file size is 829, 1222\n",
      "0...10...20...30...40...50...60...70...80...90...100 - done.\n",
      "Done: 0\n",
      "Doing: B5.tif\n"
     ]
    },
    {
     "name": "stderr",
     "output_type": "stream",
     "text": [
      "Warning 1: for band 1, nodata value has been rounded to -2147483648, Int32 being an integer datatype.\n"
     ]
    },
    {
     "name": "stdout",
     "output_type": "stream",
     "text": [
      "Input file size is 829, 1222\n",
      "0...10...20...30...40...50...60...70...80...90...100 - done.\n",
      "Done: 0\n",
      "Doing: B6.tif\n",
      "Input file size is 829, 1222\n",
      "0...10...20...30...40...50."
     ]
    },
    {
     "name": "stderr",
     "output_type": "stream",
     "text": [
      "Warning 1: for band 1, nodata value has been rounded to -2147483648, Int32 being an integer datatype.\n"
     ]
    },
    {
     "name": "stdout",
     "output_type": "stream",
     "text": [
      "..60...70...80...90...100 - done.\n",
      "Done: 0\n",
      "Doing: B7.tif\n",
      "Input file size is 829, 1222\n",
      "0...10...20"
     ]
    },
    {
     "name": "stderr",
     "output_type": "stream",
     "text": [
      "Warning 1: for band 1, nodata value has been rounded to -2147483648, Int32 being an integer datatype.\n"
     ]
    },
    {
     "name": "stdout",
     "output_type": "stream",
     "text": [
      "...30...40...50...60...70...80...90...100 - done.\n",
      "Done: 0\n",
      "Doing: B8.tif\n",
      "Input file size is 829, 1222\n",
      "0...10...20...30...40...50...60...70...80."
     ]
    },
    {
     "name": "stderr",
     "output_type": "stream",
     "text": [
      "Warning 1: for band 1, nodata value has been rounded to -2147483648, Int32 being an integer datatype.\n",
      "Warning 1: for band 1, nodata value has been rounded to -2147483648, Int32 being an integer datatype.\n"
     ]
    },
    {
     "name": "stdout",
     "output_type": "stream",
     "text": [
      "..90...100 - done.\n",
      "Done: 0\n",
      "Doing: B9.tif\n",
      "Input file size is 829, 1222\n",
      "0...10...20...30...40...50...60...70...80...90...100 - done.\n",
      "Done: 0\n",
      "Doing: B10.tif\n",
      "Input file size is 829, 1222\n",
      "0...10...20...30...40...50...60...70..."
     ]
    },
    {
     "name": "stderr",
     "output_type": "stream",
     "text": [
      "Warning 1: for band 1, nodata value has been rounded to -2147483648, Int32 being an integer datatype.\n",
      "Warning 1: for band 1, nodata value has been rounded to -2147483648, Int32 being an integer datatype.\n"
     ]
    },
    {
     "name": "stdout",
     "output_type": "stream",
     "text": [
      "80...90...100 - done.\n",
      "Done: 0\n",
      "Doing: B11.tif\n",
      "Input file size is 829, 1222\n",
      "0...10...20...30...40...50...60...70...80...90...100 - done.\n",
      "Done: 0\n",
      "Doing: B12.tif\n",
      "Input file size is 829, 1222\n",
      "0...10...20...30...40...50...60...70...80...90...100 - done.\n",
      "Done: 0\n",
      "Doing: "
     ]
    },
    {
     "name": "stderr",
     "output_type": "stream",
     "text": [
      "Warning 1: for band 1, nodata value has been rounded to -2147483648, Int32 being an integer datatype.\n",
      "Warning 1: for band 1, nodata value has been rounded to -2147483648, Int32 being an integer datatype.\n"
     ]
    },
    {
     "name": "stdout",
     "output_type": "stream",
     "text": [
      "B13.tif\n",
      "Input file size is 829, 1222\n",
      "0...10...20...30...40...50...60...70...80...90...100 - done.\n",
      "Done: 0\n",
      "Doing: B14.tif\n",
      "Input file size is 829, 1222\n",
      "0...10...20...30...40...50...60...70...80...90...100 - done.\n",
      "Done: 0\n",
      "Doing: B15.tif\n"
     ]
    },
    {
     "name": "stderr",
     "output_type": "stream",
     "text": [
      "Warning 1: for band 1, nodata value has been rounded to -2147483648, Int32 being an integer datatype.\n",
      "Warning 1: for band 1, nodata value has been rounded to -2147483648, Int32 being an integer datatype.\n"
     ]
    },
    {
     "name": "stdout",
     "output_type": "stream",
     "text": [
      "Input file size is 829, 1222\n",
      "0...10...20...30...40...50...60...70...80...90...100 - done.\n",
      "Done: 0\n",
      "Doing: B16.tif\n",
      "Input file size is 829, 1222\n",
      "0...10..."
     ]
    },
    {
     "name": "stderr",
     "output_type": "stream",
     "text": [
      "Warning 1: for band 1, nodata value has been rounded to -2147483648, Int32 being an integer datatype.\n",
      "Warning 1: for band 1, nodata value has been rounded to -2147483648, Int32 being an integer datatype.\n"
     ]
    },
    {
     "name": "stdout",
     "output_type": "stream",
     "text": [
      "20...30...40...50...60...70...80...90...100 - done.\n",
      "Done: 0\n",
      "Doing: B17.tif\n",
      "Input file size is 829, 1222\n",
      "0...10...20...30...40...50...60...70...80...90...100 - done.\n",
      "Done: 0\n",
      "Doing: B18.tif\n",
      "Input file size is 829, 1222\n",
      "0...10...20...30...40...50..."
     ]
    },
    {
     "name": "stderr",
     "output_type": "stream",
     "text": [
      "Warning 1: for band 1, nodata value has been rounded to -2147483648, Int32 being an integer datatype.\n",
      "Warning 1: for band 1, nodata value has been rounded to -2147483648, Int32 being an integer datatype.\n"
     ]
    },
    {
     "name": "stdout",
     "output_type": "stream",
     "text": [
      "60...70...80...90...100 - done.\n",
      "Done: 0\n",
      "Doing: B19.tif\n",
      "Input file size is 829, 1222\n",
      "0...10...20...30...40...50...60...70...80...90...100 - done.\n",
      "Done: 0\n",
      "Doing: ASCII\n",
      "Done: 1\n",
      "Doing: B1.tif\n",
      "Input file size is 829, 1222\n",
      "0...10...20...30...40...50..."
     ]
    },
    {
     "name": "stderr",
     "output_type": "stream",
     "text": [
      "ERROR 4: `SSP126/2081_2100/IPSL-CM6A-LR/ASCII' not recognized as a supported file format.\n",
      "Warning 1: for band 1, nodata value has been rounded to -2147483648, Int32 being an integer datatype.\n"
     ]
    },
    {
     "name": "stdout",
     "output_type": "stream",
     "text": [
      "60...70...80...90...100 - done.\n",
      "Done: 0\n",
      "Doing: B2.tif\n",
      "Input file size is 829, 1222\n",
      "0...10...20...30...40...50...60...70...80.."
     ]
    },
    {
     "name": "stderr",
     "output_type": "stream",
     "text": [
      "Warning 1: for band 1, nodata value has been rounded to -2147483648, Int32 being an integer datatype.\n",
      "Warning 1: for band 1, nodata value has been rounded to -2147483648, Int32 being an integer datatype.\n"
     ]
    },
    {
     "name": "stdout",
     "output_type": "stream",
     "text": [
      ".90...100 - done.\n",
      "Done: 0\n",
      "Doing: B3.tif\n",
      "Input file size is 829, 1222\n",
      "0...10...20...30...40...50...60...70...80...90...100 - done.\n",
      "Done: 0\n",
      "Doing: B4.tif\n",
      "Input file size is 829, 1222\n",
      "0...10...20...30...40...50...60...70...80."
     ]
    },
    {
     "name": "stderr",
     "output_type": "stream",
     "text": [
      "Warning 1: for band 1, nodata value has been rounded to -2147483648, Int32 being an integer datatype.\n"
     ]
    },
    {
     "name": "stdout",
     "output_type": "stream",
     "text": [
      "..90...100 - done.\n",
      "Done: 0\n",
      "Doing: B5.tif\n",
      "Input file size is 829, 1222\n",
      "0...10...20...30...40...50...60..."
     ]
    },
    {
     "name": "stderr",
     "output_type": "stream",
     "text": [
      "Warning 1: for band 1, nodata value has been rounded to -2147483648, Int32 being an integer datatype.\n",
      "Warning 1: for band 1, nodata value has been rounded to -2147483648, Int32 being an integer datatype.\n"
     ]
    },
    {
     "name": "stdout",
     "output_type": "stream",
     "text": [
      "70...80...90...100 - done.\n",
      "Done: 0\n",
      "Doing: B6.tif\n",
      "Input file size is 829, 1222\n",
      "0...10...20...30...40...50...60...70...80...90...100 - done.\n",
      "Done: 0\n",
      "Doing: B7.tif\n",
      "Input file size is 829, 1222\n",
      "0...10...20...30...40...50...60...70...80...90..."
     ]
    },
    {
     "name": "stderr",
     "output_type": "stream",
     "text": [
      "Warning 1: for band 1, nodata value has been rounded to -2147483648, Int32 being an integer datatype.\n",
      "Warning 1: for band 1, nodata value has been rounded to -2147483648, Int32 being an integer datatype.\n"
     ]
    },
    {
     "name": "stdout",
     "output_type": "stream",
     "text": [
      "100 - done.\n",
      "Done: 0\n",
      "Doing: B8.tif\n",
      "Input file size is 829, 1222\n",
      "0...10...20...30...40...50...60...70...80...90...100 - done.\n",
      "Done: 0\n",
      "Doing: B9.tif\n"
     ]
    },
    {
     "name": "stderr",
     "output_type": "stream",
     "text": [
      "Warning 1: for band 1, nodata value has been rounded to -2147483648, Int32 being an integer datatype.\n"
     ]
    },
    {
     "name": "stdout",
     "output_type": "stream",
     "text": [
      "Input file size is 829, 1222\n",
      "0...10...20...30...40...50...60...70...80...90...100 - done.\n",
      "Done: 0\n",
      "Doing: B10.tif\n",
      "Input file size is 829, 1222\n",
      "0...10...20...30...40...50...60...70...80...90...100 - done.\n",
      "Done: 0\n",
      "Doing: B11.tif\n"
     ]
    },
    {
     "name": "stderr",
     "output_type": "stream",
     "text": [
      "Warning 1: for band 1, nodata value has been rounded to -2147483648, Int32 being an integer datatype.\n",
      "Warning 1: for band 1, nodata value has been rounded to -2147483648, Int32 being an integer datatype.\n"
     ]
    },
    {
     "name": "stdout",
     "output_type": "stream",
     "text": [
      "Input file size is 829, 1222\n",
      "0...10...20...30...40...50...60...70...80...90...100 - done.\n",
      "Done: 0\n",
      "Doing: B12.tif\n",
      "Input file size is 829, 1222\n",
      "0...10...20."
     ]
    },
    {
     "name": "stderr",
     "output_type": "stream",
     "text": [
      "Warning 1: for band 1, nodata value has been rounded to -2147483648, Int32 being an integer datatype.\n",
      "Warning 1: for band 1, nodata value has been rounded to -2147483648, Int32 being an integer datatype.\n"
     ]
    },
    {
     "name": "stdout",
     "output_type": "stream",
     "text": [
      "..30...40...50...60...70...80...90...100 - done.\n",
      "Done: 0\n",
      "Doing: B13.tif\n",
      "Input file size is 829, 1222\n",
      "0...10...20...30...40...50...60...70...80...90...100 - done.\n",
      "Done: 0\n",
      "Doing: B14.tif\n",
      "Input file size is 829, 1222\n",
      "0...10...20...30...40...50...60..."
     ]
    },
    {
     "name": "stderr",
     "output_type": "stream",
     "text": [
      "Warning 1: for band 1, nodata value has been rounded to -2147483648, Int32 being an integer datatype.\n",
      "Warning 1: for band 1, nodata value has been rounded to -2147483648, Int32 being an integer datatype.\n"
     ]
    },
    {
     "name": "stdout",
     "output_type": "stream",
     "text": [
      "70...80...90...100 - done.\n",
      "Done: 0\n",
      "Doing: B15.tif\n",
      "Input file size is 829, 1222\n",
      "0...10...20...30...40...50...60...70...80...90...100 - done.\n",
      "Done: 0\n",
      "Doing: B16.tif\n",
      "Input file size is 829, 1222\n",
      "0...10...20...30...40...50...60...70...80...90..."
     ]
    },
    {
     "name": "stderr",
     "output_type": "stream",
     "text": [
      "Warning 1: for band 1, nodata value has been rounded to -2147483648, Int32 being an integer datatype.\n",
      "Warning 1: for band 1, nodata value has been rounded to -2147483648, Int32 being an integer datatype.\n"
     ]
    },
    {
     "name": "stdout",
     "output_type": "stream",
     "text": [
      "100 - done.\n",
      "Done: 0\n",
      "Doing: B17.tif\n",
      "Input file size is 829, 1222\n",
      "0...10...20...30...40...50...60...70...80...90...100 - done.\n",
      "Done: 0\n",
      "Doing: B18.tif\n"
     ]
    },
    {
     "name": "stderr",
     "output_type": "stream",
     "text": [
      "Warning 1: for band 1, nodata value has been rounded to -2147483648, Int32 being an integer datatype.\n",
      "Warning 1: for band 1, nodata value has been rounded to -2147483648, Int32 being an integer datatype.\n"
     ]
    },
    {
     "name": "stdout",
     "output_type": "stream",
     "text": [
      "Input file size is 829, 1222\n",
      "0...10...20...30...40...50...60...70...80...90...100 - done.\n",
      "Done: 0\n",
      "Doing: B19.tif\n",
      "Input file size is 829, 1222\n",
      "0...10...20...30...40...50...60...70...80...90...100 - done.\n",
      "Done: 0\n",
      "Doing: ASCII\n",
      "Done: 1\n",
      "Doing: B1.tif\n"
     ]
    },
    {
     "name": "stderr",
     "output_type": "stream",
     "text": [
      "ERROR 4: `SSP126/2081_2100/MIROC-ES2L/ASCII' not recognized as a supported file format.\n",
      "Warning 1: for band 1, nodata value has been rounded to -2147483648, Int32 being an integer datatype.\n"
     ]
    },
    {
     "name": "stdout",
     "output_type": "stream",
     "text": [
      "Input file size is 829, 1222\n",
      "0...10...20...30...40...50...60...70...80...90...100 - done.\n",
      "Done: 0\n",
      "Doing: B2.tif\n",
      "Input file size is 829, 1222\n",
      "0...10...20."
     ]
    },
    {
     "name": "stderr",
     "output_type": "stream",
     "text": [
      "Warning 1: for band 1, nodata value has been rounded to -2147483648, Int32 being an integer datatype.\n",
      "Warning 1: for band 1, nodata value has been rounded to -2147483648, Int32 being an integer datatype.\n"
     ]
    },
    {
     "name": "stdout",
     "output_type": "stream",
     "text": [
      "..30...40...50...60...70...80...90...100 - done.\n",
      "Done: 0\n",
      "Doing: B3.tif\n",
      "Input file size is 829, 1222\n",
      "0...10...20...30...40...50...60...70...80...90...100 - done.\n",
      "Done: 0\n",
      "Doing: B4.tif\n",
      "Input file size is 829, 1222\n",
      "0...10...20...30...40...50...60...70."
     ]
    },
    {
     "name": "stderr",
     "output_type": "stream",
     "text": [
      "Warning 1: for band 1, nodata value has been rounded to -2147483648, Int32 being an integer datatype.\n",
      "Warning 1: for band 1, nodata value has been rounded to -2147483648, Int32 being an integer datatype.\n"
     ]
    },
    {
     "name": "stdout",
     "output_type": "stream",
     "text": [
      "..80...90...100 - done.\n",
      "Done: 0\n",
      "Doing: B5.tif\n",
      "Input file size is 829, 1222\n",
      "0...10...20...30...40...50...60...70...80...90...100 - done.\n",
      "Done: 0\n",
      "Doing: B6.tif\n",
      "Input file size is 829, 1222\n",
      "0...10...20...30...40...50...60...70...80...90...100 - done.\n",
      "Done: 0\n",
      "Doing: B7.tif\n"
     ]
    },
    {
     "name": "stderr",
     "output_type": "stream",
     "text": [
      "Warning 1: for band 1, nodata value has been rounded to -2147483648, Int32 being an integer datatype.\n",
      "Warning 1: for band 1, nodata value has been rounded to -2147483648, Int32 being an integer datatype.\n"
     ]
    },
    {
     "name": "stdout",
     "output_type": "stream",
     "text": [
      "Input file size is 829, 1222\n",
      "0...10...20...30...40...50...60...70...80...90...100 - done.\n",
      "Done: 0\n",
      "Doing: B8.tif\n",
      "Input file size is 829, 1222\n",
      "0...10...20."
     ]
    },
    {
     "name": "stderr",
     "output_type": "stream",
     "text": [
      "Warning 1: for band 1, nodata value has been rounded to -2147483648, Int32 being an integer datatype.\n",
      "Warning 1: for band 1, nodata value has been rounded to -2147483648, Int32 being an integer datatype.\n"
     ]
    },
    {
     "name": "stdout",
     "output_type": "stream",
     "text": [
      "..30...40...50...60...70...80...90...100 - done.\n",
      "Done: 0\n",
      "Doing: B9.tif\n",
      "Input file size is 829, 1222\n",
      "0...10...20...30...40...50...60...70...80...90...100 - done.\n",
      "Done: 0\n",
      "Doing: B10.tif\n",
      "Input file size is 829, 1222\n",
      "0...10...20...30...40...50...60...70.."
     ]
    },
    {
     "name": "stderr",
     "output_type": "stream",
     "text": [
      "Warning 1: for band 1, nodata value has been rounded to -2147483648, Int32 being an integer datatype.\n",
      "Warning 1: for band 1, nodata value has been rounded to -2147483648, Int32 being an integer datatype.\n"
     ]
    },
    {
     "name": "stdout",
     "output_type": "stream",
     "text": [
      ".80...90...100 - done.\n",
      "Done: 0\n",
      "Doing: B11.tif\n",
      "Input file size is 829, 1222\n",
      "0...10...20...30...40...50...60...70...80...90...100 - done.\n",
      "Done: 0\n",
      "Doing: B12.tif\n",
      "Input file size is 829, 1222\n",
      "0...10...20...30...40...50...60...70...80...90...100 - done.\n",
      "Done: 0\n",
      "Doing: B13.tif\n"
     ]
    },
    {
     "name": "stderr",
     "output_type": "stream",
     "text": [
      "Warning 1: for band 1, nodata value has been rounded to -2147483648, Int32 being an integer datatype.\n",
      "Warning 1: for band 1, nodata value has been rounded to -2147483648, Int32 being an integer datatype.\n"
     ]
    },
    {
     "name": "stdout",
     "output_type": "stream",
     "text": [
      "Input file size is 829, 1222\n",
      "0...10...20...30...40...50...60...70...80...90...100 - done.\n",
      "Done: 0\n",
      "Doing: B14.tif\n",
      "Input file size is 829, 1222\n",
      "0...10...20."
     ]
    },
    {
     "name": "stderr",
     "output_type": "stream",
     "text": [
      "Warning 1: for band 1, nodata value has been rounded to -2147483648, Int32 being an integer datatype.\n",
      "Warning 1: for band 1, nodata value has been rounded to -2147483648, Int32 being an integer datatype.\n"
     ]
    },
    {
     "name": "stdout",
     "output_type": "stream",
     "text": [
      "..30...40...50...60...70...80...90...100 - done.\n",
      "Done: 0\n",
      "Doing: B15.tif\n",
      "Input file size is 829, 1222\n",
      "0...10...20...30...40...50...60...70...80...90...100 - done.\n",
      "Done: 0\n",
      "Doing: B16.tif\n",
      "Input file size is 829, 1222\n",
      "0...10...20..."
     ]
    },
    {
     "name": "stderr",
     "output_type": "stream",
     "text": [
      "Warning 1: for band 1, nodata value has been rounded to -2147483648, Int32 being an integer datatype.\n"
     ]
    },
    {
     "name": "stdout",
     "output_type": "stream",
     "text": [
      "30...40...50...60...70...80...90...100 - done.\n",
      "Done: 0\n",
      "Doing: B17.tif\n"
     ]
    },
    {
     "name": "stderr",
     "output_type": "stream",
     "text": [
      "Warning 1: for band 1, nodata value has been rounded to -2147483648, Int32 being an integer datatype.\n",
      "Warning 1: for band 1, nodata value has been rounded to -2147483648, Int32 being an integer datatype.\n"
     ]
    },
    {
     "name": "stdout",
     "output_type": "stream",
     "text": [
      "Input file size is 829, 1222\n",
      "0...10...20...30...40...50...60...70...80...90...100 - done.\n",
      "Done: 0\n",
      "Doing: B18.tif\n",
      "Input file size is 829, 1222\n",
      "0...10...20...30...40...50...60...70...80...90...100 - done.\n",
      "Done: 0\n",
      "Doing: B19.tif\n",
      "Input file size is 829, 1222\n",
      "0...10...20...30...40...50."
     ]
    },
    {
     "name": "stderr",
     "output_type": "stream",
     "text": [
      "Warning 1: for band 1, nodata value has been rounded to -2147483648, Int32 being an integer datatype.\n",
      "ERROR 4: `SSP126/2081_2100/MIROC6/ASCII' not recognized as a supported file format.\n"
     ]
    },
    {
     "name": "stdout",
     "output_type": "stream",
     "text": [
      "..60...70...80...90...100 - done.\n",
      "Done: 0\n",
      "Doing: ASCII\n",
      "Done: 1\n",
      "Doing: B1.tif\n",
      "Input file size is 829, 1222\n",
      "0...10...20."
     ]
    },
    {
     "name": "stderr",
     "output_type": "stream",
     "text": [
      "Warning 1: for band 1, nodata value has been rounded to -2147483648, Int32 being an integer datatype.\n",
      "Warning 1: for band 1, nodata value has been rounded to -2147483648, Int32 being an integer datatype.\n"
     ]
    },
    {
     "name": "stdout",
     "output_type": "stream",
     "text": [
      "..30...40...50...60...70...80...90...100 - done.\n",
      "Done: 0\n",
      "Doing: B2.tif\n",
      "Input file size is 829, 1222\n",
      "0...10...20...30...40...50...60...70...80...90...100 - done.\n",
      "Done: 0\n",
      "Doing: B3.tif\n",
      "Input file size is 829, 1222\n",
      "0...10...20...30...40...50.."
     ]
    },
    {
     "name": "stderr",
     "output_type": "stream",
     "text": [
      "Warning 1: for band 1, nodata value has been rounded to -2147483648, Int32 being an integer datatype.\n"
     ]
    },
    {
     "name": "stdout",
     "output_type": "stream",
     "text": [
      ".60...70...80...90...100 - done.\n",
      "Done: 0\n",
      "Doing: B4.tif\n",
      "Input file size is 829, 1222\n",
      "0...10...20.."
     ]
    },
    {
     "name": "stderr",
     "output_type": "stream",
     "text": [
      "Warning 1: for band 1, nodata value has been rounded to -2147483648, Int32 being an integer datatype.\n",
      "Warning 1: for band 1, nodata value has been rounded to -2147483648, Int32 being an integer datatype.\n"
     ]
    },
    {
     "name": "stdout",
     "output_type": "stream",
     "text": [
      ".30...40...50...60...70...80...90...100 - done.\n",
      "Done: 0\n",
      "Doing: B5.tif\n",
      "Input file size is 829, 1222\n",
      "0...10...20...30...40...50...60...70...80...90...100 - done.\n",
      "Done: 0\n",
      "Doing: B6.tif\n"
     ]
    },
    {
     "name": "stderr",
     "output_type": "stream",
     "text": [
      "Warning 1: for band 1, nodata value has been rounded to -2147483648, Int32 being an integer datatype.\n",
      "Warning 1: for band 1, nodata value has been rounded to -2147483648, Int32 being an integer datatype.\n"
     ]
    },
    {
     "name": "stdout",
     "output_type": "stream",
     "text": [
      "Input file size is 829, 1222\n",
      "0...10...20...30...40...50...60...70...80...90...100 - done.\n",
      "Done: 0\n",
      "Doing: B7.tif\n",
      "Input file size is 829, 1222\n",
      "0...10...20...30...40...50...60...70...80...90...100 - done.\n",
      "Done: 0\n",
      "Doing: B8.tif\n",
      "Input file size is 829, 1222\n",
      "0...10...20...30...40...50"
     ]
    },
    {
     "name": "stderr",
     "output_type": "stream",
     "text": [
      "Warning 1: for band 1, nodata value has been rounded to -2147483648, Int32 being an integer datatype.\n"
     ]
    },
    {
     "name": "stdout",
     "output_type": "stream",
     "text": [
      "...60...70...80...90...100 - done.\n",
      "Done: 0\n",
      "Doing: B9.tif\n",
      "Input file size is 829, 1222\n",
      "0...10...20...30...40...50...60...70...80...90..."
     ]
    },
    {
     "name": "stderr",
     "output_type": "stream",
     "text": [
      "Warning 1: for band 1, nodata value has been rounded to -2147483648, Int32 being an integer datatype.\n",
      "Warning 1: for band 1, nodata value has been rounded to -2147483648, Int32 being an integer datatype.\n"
     ]
    },
    {
     "name": "stdout",
     "output_type": "stream",
     "text": [
      "100 - done.\n",
      "Done: 0\n",
      "Doing: B10.tif\n",
      "Input file size is 829, 1222\n",
      "0...10...20...30...40...50...60...70...80...90...100 - done.\n",
      "Done: 0\n",
      "Doing: B11.tif\n"
     ]
    },
    {
     "name": "stderr",
     "output_type": "stream",
     "text": [
      "Warning 1: for band 1, nodata value has been rounded to -2147483648, Int32 being an integer datatype.\n",
      "Warning 1: for band 1, nodata value has been rounded to -2147483648, Int32 being an integer datatype.\n"
     ]
    },
    {
     "name": "stdout",
     "output_type": "stream",
     "text": [
      "Input file size is 829, 1222\n",
      "0...10...20...30...40...50...60...70...80...90...100 - done.\n",
      "Done: 0\n",
      "Doing: B12.tif\n",
      "Input file size is 829, 1222\n",
      "0...10...20...30...40...50...60...70...80...90...100 - done.\n",
      "Done: 0\n",
      "Doing: B13.tif\n"
     ]
    },
    {
     "name": "stderr",
     "output_type": "stream",
     "text": [
      "Warning 1: for band 1, nodata value has been rounded to -2147483648, Int32 being an integer datatype.\n"
     ]
    },
    {
     "name": "stdout",
     "output_type": "stream",
     "text": [
      "Input file size is 829, 1222\n",
      "0...10...20...30...40...50...60...70...80...90...100 - done.\n",
      "Done: 0\n",
      "Doing: B14.tif\n"
     ]
    },
    {
     "name": "stderr",
     "output_type": "stream",
     "text": [
      "Warning 1: for band 1, nodata value has been rounded to -2147483648, Int32 being an integer datatype.\n"
     ]
    },
    {
     "name": "stdout",
     "output_type": "stream",
     "text": [
      "Input file size is 829, 1222\n",
      "0...10...20...30...40...50...60...70...80...90...100 - done.\n",
      "Done: 0\n",
      "Doing: B15.tif\n"
     ]
    },
    {
     "name": "stderr",
     "output_type": "stream",
     "text": [
      "Warning 1: for band 1, nodata value has been rounded to -2147483648, Int32 being an integer datatype.\n"
     ]
    },
    {
     "name": "stdout",
     "output_type": "stream",
     "text": [
      "Input file size is 829, 1222\n",
      "0...10...20...30...40...50...60...70...80...90...100 - done.\n",
      "Done: 0\n",
      "Doing: B16.tif\n"
     ]
    },
    {
     "name": "stderr",
     "output_type": "stream",
     "text": [
      "Warning 1: for band 1, nodata value has been rounded to -2147483648, Int32 being an integer datatype.\n"
     ]
    },
    {
     "name": "stdout",
     "output_type": "stream",
     "text": [
      "Input file size is 829, 1222\n",
      "0...10...20...30...40...50...60...70...80...90...100 - done.\n",
      "Done: 0\n",
      "Doing: B17.tif\n",
      "Input file size is 829, 1222\n",
      "0...10...20...30...40...50...60...70...80...90..."
     ]
    },
    {
     "name": "stderr",
     "output_type": "stream",
     "text": [
      "Warning 1: for band 1, nodata value has been rounded to -2147483648, Int32 being an integer datatype.\n",
      "Warning 1: for band 1, nodata value has been rounded to -2147483648, Int32 being an integer datatype.\n"
     ]
    },
    {
     "name": "stdout",
     "output_type": "stream",
     "text": [
      "100 - done.\n",
      "Done: 0\n",
      "Doing: B18.tif\n",
      "Input file size is 829, 1222\n",
      "0...10...20...30...40...50...60...70...80...90...100 - done.\n",
      "Done: 0\n",
      "Doing: B19.tif\n"
     ]
    },
    {
     "name": "stderr",
     "output_type": "stream",
     "text": [
      "Warning 1: for band 1, nodata value has been rounded to -2147483648, Int32 being an integer datatype.\n",
      "ERROR 4: `SSP126/2081_2100/MPI-ESM1-2-HR/ASCII' not recognized as a supported file format.\n"
     ]
    },
    {
     "name": "stdout",
     "output_type": "stream",
     "text": [
      "Input file size is 829, 1222\n",
      "0...10...20...30...40...50...60...70...80...90...100 - done.\n",
      "Done: 0\n",
      "Doing: ASCII\n",
      "Done: 1\n",
      "Doing: B1.tif\n"
     ]
    },
    {
     "name": "stderr",
     "output_type": "stream",
     "text": [
      "Warning 1: for band 1, nodata value has been rounded to -2147483648, Int32 being an integer datatype.\n",
      "Warning 1: for band 1, nodata value has been rounded to -2147483648, Int32 being an integer datatype.\n"
     ]
    },
    {
     "name": "stdout",
     "output_type": "stream",
     "text": [
      "Input file size is 829, 1222\n",
      "0...10...20...30...40...50...60...70...80...90...100 - done.\n",
      "Done: 0\n",
      "Doing: B2.tif\n",
      "Input file size is 829, 1222\n",
      "0...10...20...30...40...50...60...70...80...90...100 - done.\n",
      "Done: 0\n",
      "Doing: B3.tif\n",
      "Input file size is 829, 1222\n",
      "0...10...20...30...40...50...60...70...80...90..."
     ]
    },
    {
     "name": "stderr",
     "output_type": "stream",
     "text": [
      "Warning 1: for band 1, nodata value has been rounded to -2147483648, Int32 being an integer datatype.\n",
      "Warning 1: for band 1, nodata value has been rounded to -2147483648, Int32 being an integer datatype.\n"
     ]
    },
    {
     "name": "stdout",
     "output_type": "stream",
     "text": [
      "100 - done.\n",
      "Done: 0\n",
      "Doing: B4.tif\n",
      "Input file size is 829, 1222\n",
      "0...10...20...30...40...50...60...70...80...90...100 - done.\n",
      "Done: 0\n",
      "Doing: B5.tif\n"
     ]
    },
    {
     "name": "stderr",
     "output_type": "stream",
     "text": [
      "Warning 1: for band 1, nodata value has been rounded to -2147483648, Int32 being an integer datatype.\n"
     ]
    },
    {
     "name": "stdout",
     "output_type": "stream",
     "text": [
      "Input file size is 829, 1222\n",
      "0...10...20...30...40...50...60...70...80...90...100 - done.\n",
      "Done: 0\n",
      "Doing: B6.tif\n"
     ]
    },
    {
     "name": "stderr",
     "output_type": "stream",
     "text": [
      "Warning 1: for band 1, nodata value has been rounded to -2147483648, Int32 being an integer datatype.\n"
     ]
    },
    {
     "name": "stdout",
     "output_type": "stream",
     "text": [
      "Input file size is 829, 1222\n",
      "0...10...20...30...40...50...60...70...80...90...100 - done.\n",
      "Done: 0\n",
      "Doing: B7.tif\n",
      "Input file size is 829, 1222\n",
      "0...10...20...30...40...50...60...70...80...90..."
     ]
    },
    {
     "name": "stderr",
     "output_type": "stream",
     "text": [
      "Warning 1: for band 1, nodata value has been rounded to -2147483648, Int32 being an integer datatype.\n"
     ]
    },
    {
     "name": "stdout",
     "output_type": "stream",
     "text": [
      "100 - done.\n",
      "Done: 0\n",
      "Doing: B8.tif\n",
      "Input file size is 829, 1222\n",
      "0...10...20...30...40...50...60...70...80...90...100 - done.\n",
      "Done: 0\n",
      "Doing: B9.tif\n"
     ]
    },
    {
     "name": "stderr",
     "output_type": "stream",
     "text": [
      "Warning 1: for band 1, nodata value has been rounded to -2147483648, Int32 being an integer datatype.\n",
      "Warning 1: for band 1, nodata value has been rounded to -2147483648, Int32 being an integer datatype.\n"
     ]
    },
    {
     "name": "stdout",
     "output_type": "stream",
     "text": [
      "Input file size is 829, 1222\n",
      "0...10...20...30...40...50...60...70...80...90...100 - done.\n",
      "Done: 0\n",
      "Doing: B10.tif\n",
      "Input file size is 829, 1222\n",
      "0..."
     ]
    },
    {
     "name": "stderr",
     "output_type": "stream",
     "text": [
      "Warning 1: for band 1, nodata value has been rounded to -2147483648, Int32 being an integer datatype.\n",
      "Warning 1: for band 1, nodata value has been rounded to -2147483648, Int32 being an integer datatype.\n"
     ]
    },
    {
     "name": "stdout",
     "output_type": "stream",
     "text": [
      "10...20...30...40...50...60...70...80...90...100 - done.\n",
      "Done: 0\n",
      "Doing: B11.tif\n",
      "Input file size is 829, 1222\n",
      "0...10...20...30...40...50...60...70...80...90...100 - done.\n",
      "Done: 0\n",
      "Doing: B12.tif\n",
      "Input file size is 829, 1222\n",
      "0...10"
     ]
    },
    {
     "name": "stderr",
     "output_type": "stream",
     "text": [
      "Warning 1: for band 1, nodata value has been rounded to -2147483648, Int32 being an integer datatype.\n"
     ]
    },
    {
     "name": "stdout",
     "output_type": "stream",
     "text": [
      "...20...30...40...50...60...70...80...90...100 - done.\n",
      "Done: 0\n",
      "Doing: B13.tif\n",
      "Input file size is 829, 1222\n",
      "0...10...20...30...40...50...60...70...80...90...100 - done.\n",
      "Done: 0\n",
      "Doing: B14.tif\n"
     ]
    },
    {
     "name": "stderr",
     "output_type": "stream",
     "text": [
      "Warning 1: for band 1, nodata value has been rounded to -2147483648, Int32 being an integer datatype.\n",
      "Warning 1: for band 1, nodata value has been rounded to -2147483648, Int32 being an integer datatype.\n"
     ]
    },
    {
     "name": "stdout",
     "output_type": "stream",
     "text": [
      "Input file size is 829, 1222\n",
      "0...10...20...30...40...50...60...70...80...90...100 - done.\n",
      "Done: 0\n",
      "Doing: B15.tif\n",
      "Input file size is 829, 1222\n",
      "0...10...20...30...40...50...60...70...80...90...100 - done.\n",
      "Done: 0\n",
      "Doing: B16.tif\n"
     ]
    },
    {
     "name": "stderr",
     "output_type": "stream",
     "text": [
      "Warning 1: for band 1, nodata value has been rounded to -2147483648, Int32 being an integer datatype.\n",
      "Warning 1: for band 1, nodata value has been rounded to -2147483648, Int32 being an integer datatype.\n"
     ]
    },
    {
     "name": "stdout",
     "output_type": "stream",
     "text": [
      "Input file size is 829, 1222\n",
      "0...10...20...30...40...50...60...70...80...90...100 - done.\n",
      "Done: 0\n",
      "Doing: B17.tif\n",
      "Input file size is 829, 1222\n",
      "0...10...20.."
     ]
    },
    {
     "name": "stderr",
     "output_type": "stream",
     "text": [
      "Warning 1: for band 1, nodata value has been rounded to -2147483648, Int32 being an integer datatype.\n",
      "Warning 1: for band 1, nodata value has been rounded to -2147483648, Int32 being an integer datatype.\n"
     ]
    },
    {
     "name": "stdout",
     "output_type": "stream",
     "text": [
      ".30...40...50...60...70...80...90...100 - done.\n",
      "Done: 0\n",
      "Doing: B18.tif\n",
      "Input file size is 829, 1222\n",
      "0...10...20...30...40...50...60...70...80...90...100 - done.\n",
      "Done: 0\n",
      "Doing: B19.tif\n"
     ]
    },
    {
     "name": "stderr",
     "output_type": "stream",
     "text": [
      "Warning 1: for band 1, nodata value has been rounded to -2147483648, Int32 being an integer datatype.\n",
      "ERROR 4: `SSP126/2081_2100/MPI-ESM1-2-LR/ASCII' not recognized as a supported file format.\n"
     ]
    },
    {
     "name": "stdout",
     "output_type": "stream",
     "text": [
      "Input file size is 829, 1222\n",
      "0...10...20...30...40...50...60...70...80...90...100 - done.\n",
      "Done: 0\n",
      "Doing: ASCII\n",
      "Done: 1\n",
      "Doing: B1.tif\n"
     ]
    },
    {
     "name": "stderr",
     "output_type": "stream",
     "text": [
      "Warning 1: for band 1, nodata value has been rounded to -2147483648, Int32 being an integer datatype.\n",
      "Warning 1: for band 1, nodata value has been rounded to -2147483648, Int32 being an integer datatype.\n"
     ]
    },
    {
     "name": "stdout",
     "output_type": "stream",
     "text": [
      "Input file size is 829, 1222\n",
      "0...10...20...30...40...50...60...70...80...90...100 - done.\n",
      "Done: 0\n",
      "Doing: B2.tif\n",
      "Input file size is 829, 1222\n",
      "0...10...20...30...40...50...60...70...80...90...100 - done.\n",
      "Done: 0\n",
      "Doing: B3.tif\n",
      "Input file size is 829, 1222\n",
      "0...10...20...30...40..."
     ]
    },
    {
     "name": "stderr",
     "output_type": "stream",
     "text": [
      "Warning 1: for band 1, nodata value has been rounded to -2147483648, Int32 being an integer datatype.\n",
      "Warning 1: for band 1, nodata value has been rounded to -2147483648, Int32 being an integer datatype.\n"
     ]
    },
    {
     "name": "stdout",
     "output_type": "stream",
     "text": [
      "50...60...70...80...90...100 - done.\n",
      "Done: 0\n",
      "Doing: B4.tif\n",
      "Input file size is 829, 1222\n",
      "0...10...20...30...40...50...60...70...80...90...100 - done.\n",
      "Done: 0\n",
      "Doing: B5.tif\n",
      "Input file size is 829, 1222\n",
      "0...10...20...30...40...50...60...70...80...90..."
     ]
    },
    {
     "name": "stderr",
     "output_type": "stream",
     "text": [
      "Warning 1: for band 1, nodata value has been rounded to -2147483648, Int32 being an integer datatype.\n"
     ]
    },
    {
     "name": "stdout",
     "output_type": "stream",
     "text": [
      "100 - done.\n",
      "Done: 0\n",
      "Doing: B6.tif\n",
      "Input file size is 829, 1222\n",
      "0...10...20...30...40...50...60"
     ]
    },
    {
     "name": "stderr",
     "output_type": "stream",
     "text": [
      "Warning 1: for band 1, nodata value has been rounded to -2147483648, Int32 being an integer datatype.\n"
     ]
    },
    {
     "name": "stdout",
     "output_type": "stream",
     "text": [
      "...70...80...90...100 - done.\n",
      "Done: 0\n",
      "Doing: B7.tif\n",
      "Input file size is 829, 1222\n",
      "0...10...20...30...40"
     ]
    },
    {
     "name": "stderr",
     "output_type": "stream",
     "text": [
      "Warning 1: for band 1, nodata value has been rounded to -2147483648, Int32 being an integer datatype.\n",
      "Warning 1: for band 1, nodata value has been rounded to -2147483648, Int32 being an integer datatype.\n"
     ]
    },
    {
     "name": "stdout",
     "output_type": "stream",
     "text": [
      "...50...60...70...80...90...100 - done.\n",
      "Done: 0\n",
      "Doing: B8.tif\n",
      "Input file size is 829, 1222\n",
      "0...10...20...30...40...50...60...70...80...90...100 - done.\n",
      "Done: 0\n",
      "Doing: B9.tif\n",
      "Input file size is 829, 1222\n",
      "0...10...20...30...40...50...60...70...80...90."
     ]
    },
    {
     "name": "stderr",
     "output_type": "stream",
     "text": [
      "Warning 1: for band 1, nodata value has been rounded to -2147483648, Int32 being an integer datatype.\n",
      "Warning 1: for band 1, nodata value has been rounded to -2147483648, Int32 being an integer datatype.\n"
     ]
    },
    {
     "name": "stdout",
     "output_type": "stream",
     "text": [
      "..100 - done.\n",
      "Done: 0\n",
      "Doing: B10.tif\n",
      "Input file size is 829, 1222\n",
      "0...10...20...30...40...50...60...70...80...90...100 - done.\n",
      "Done: 0\n",
      "Doing: B11.tif\n",
      "Input file size is 829, 1222\n",
      "0...10...20...30...40...50...60...70...80...90...100 - done.\n",
      "Done: 0\n",
      "Doing: B12.tif\n"
     ]
    },
    {
     "name": "stderr",
     "output_type": "stream",
     "text": [
      "Warning 1: for band 1, nodata value has been rounded to -2147483648, Int32 being an integer datatype.\n",
      "Warning 1: for band 1, nodata value has been rounded to -2147483648, Int32 being an integer datatype.\n"
     ]
    },
    {
     "name": "stdout",
     "output_type": "stream",
     "text": [
      "Input file size is 829, 1222\n",
      "0...10...20...30...40...50...60...70...80...90...100 - done.\n",
      "Done: 0\n",
      "Doing: B13.tif\n",
      "Input file size is 829, 1222\n",
      "0...10.."
     ]
    },
    {
     "name": "stderr",
     "output_type": "stream",
     "text": [
      "Warning 1: for band 1, nodata value has been rounded to -2147483648, Int32 being an integer datatype.\n",
      "Warning 1: for band 1, nodata value has been rounded to -2147483648, Int32 being an integer datatype.\n"
     ]
    },
    {
     "name": "stdout",
     "output_type": "stream",
     "text": [
      ".20...30...40...50...60...70...80...90...100 - done.\n",
      "Done: 0\n",
      "Doing: B14.tif\n",
      "Input file size is 829, 1222\n",
      "0...10...20...30...40...50...60...70...80...90...100 - done.\n",
      "Done: 0\n",
      "Doing: B15.tif\n",
      "Input file size is 829, 1222\n",
      "0...10...20...30...40...50...60.."
     ]
    },
    {
     "name": "stderr",
     "output_type": "stream",
     "text": [
      "Warning 1: for band 1, nodata value has been rounded to -2147483648, Int32 being an integer datatype.\n",
      "Warning 1: for band 1, nodata value has been rounded to -2147483648, Int32 being an integer datatype.\n"
     ]
    },
    {
     "name": "stdout",
     "output_type": "stream",
     "text": [
      ".70...80...90...100 - done.\n",
      "Done: 0\n",
      "Doing: B16.tif\n",
      "Input file size is 829, 1222\n",
      "0...10...20...30...40...50...60...70...80...90...100 - done.\n",
      "Done: 0\n",
      "Doing: B17.tif\n",
      "Input file size is 829, 1222\n",
      "0...10...20...30...40...50...60...70...80...90..."
     ]
    },
    {
     "name": "stderr",
     "output_type": "stream",
     "text": [
      "Warning 1: for band 1, nodata value has been rounded to -2147483648, Int32 being an integer datatype.\n",
      "Warning 1: for band 1, nodata value has been rounded to -2147483648, Int32 being an integer datatype.\n"
     ]
    },
    {
     "name": "stdout",
     "output_type": "stream",
     "text": [
      "100 - done.\n",
      "Done: 0\n",
      "Doing: B18.tif\n",
      "Input file size is 829, 1222\n",
      "0...10...20...30...40...50...60...70...80...90...100 - done.\n",
      "Done: 0\n",
      "Doing: B19.tif\n",
      "Input file size is 829, 1222\n",
      "0...10...20...30...40...50...60...70...80...90...100 - done.\n",
      "Done: 0\n",
      "Doing: ASCII\n",
      "Done: 1\n"
     ]
    },
    {
     "name": "stderr",
     "output_type": "stream",
     "text": [
      "Warning 1: for band 1, nodata value has been rounded to -2147483648, Int32 being an integer datatype.\n",
      "ERROR 4: `SSP126/2081_2100/MRI-ESM2-0/ASCII' not recognized as a supported file format.\n"
     ]
    }
   ],
   "source": [
    "for i in os.listdir():\n",
    "### Walk through each Scenario\n",
    "    for s in ['SSP126']:\n",
    "        if i == s:\n",
    "            Sdir = os.path.join(s)\n",
    "            print('Scenario:',Sdir)\n",
    "### Walk through each Period            \n",
    "            for year in os.listdir(Sdir):\n",
    "                Ydir = os.path.join(s,year)\n",
    "                for i in os.listdir(Ydir):\n",
    "                    if i.endswith('.tif'):\n",
    "### Define the file and model\n",
    "                        fileN = os.path.join(Ydir,i)\n",
    "                        model = i.split('_')[3]\n",
    "                        modDir = os.path.join(Ydir,model)\n",
    "### Create directory for ASCII\n",
    "                        asciiDir = os.path.join(modDir,'ASCII')\n",
    "                        if not os.path.exists(asciiDir):\n",
    "                            os.mkdir(asciiDir)\n",
    "### Write to ASCII\n",
    "                        for i in os.listdir(modDir):\n",
    "                            print(\"Doing:\",i)\n",
    "                            inputfile = i\n",
    "                            outputfile = inputfile[:-4] + \".asc\"\n",
    "                            command = \"gdal_translate  -of AAIGrid -ot Int32 %s %s \\n\" % (os.path.join(modDir,inputfile), os.path.join(asciiDir,outputfile))\n",
    "                            proc = subprocess.Popen(command, shell=True)\n",
    "                            print(\"Done:\",proc.wait())"
   ]
  },
  {
   "cell_type": "markdown",
   "id": "ec98e96d",
   "metadata": {},
   "source": [
    "# Run MAXENT"
   ]
  },
  {
   "cell_type": "markdown",
   "id": "bfbff48d",
   "metadata": {},
   "source": [
    "### Objective:\n",
    "\n",
    "For each Scenario, for each period, for each model:\n",
    "1. Run the maxent model\n",
    "2. Write outputs to Output folder"
   ]
  },
  {
   "cell_type": "code",
   "execution_count": 4,
   "id": "b3bb58a1",
   "metadata": {},
   "outputs": [
    {
     "name": "stdout",
     "output_type": "stream",
     "text": [
      "Scenario: SSP585\n",
      "Year: 2041_2060\n",
      "Running Model: ACCESS-CM2 06:11:57\n"
     ]
    },
    {
     "ename": "NameError",
     "evalue": "name 'proc' is not defined",
     "output_type": "error",
     "traceback": [
      "\u001b[0;31m---------------------------------------------------------------------------\u001b[0m",
      "\u001b[0;31mNameError\u001b[0m                                 Traceback (most recent call last)",
      "Input \u001b[0;32mIn [4]\u001b[0m, in \u001b[0;36m<cell line: 22>\u001b[0;34m()\u001b[0m\n\u001b[1;32m     44\u001b[0m                                     os\u001b[38;5;241m.\u001b[39mmkdir(OutputDir)\n\u001b[1;32m     45\u001b[0m \u001b[38;5;66;03m### Write MAXENT to Output\u001b[39;00m\n\u001b[1;32m     46\u001b[0m                                 \u001b[38;5;66;03m#maxent_cmd = \"java -mx1024m -jar /home/Azure_linux_admin/Projdir/Mauritius_IAS/maxent/maxent.jar visible=false environmentallayers=/home/Azure_linux_admin/Projdir/Mauritius_IAS/Current/ASCII samplesfile=/home/Azure_linux_admin/Projdir/Mauritius_IAS/Species/species.csv projectionlayers=/home/Azure_linux_admin/Projdir/Mauritius_IAS/\" +Mdir +\" \" +\"outputdirectory=/home/Azure_linux_admin/Projdir/Mauritius_IAS/\" +OutputDir+\" \" +\"randomseed=true randomtestpoints=30 replicates=10 replicatetype=Subsample maximumiterations=5000 warnings=false -r redoifexists -a\"\u001b[39;00m\n\u001b[1;32m     47\u001b[0m                                 \u001b[38;5;66;03m#proc = subprocess.Popen(maxent_cmd, shell=True)\u001b[39;00m\n\u001b[0;32m---> 48\u001b[0m                                 \u001b[38;5;28mprint\u001b[39m(\u001b[38;5;124m\"\u001b[39m\u001b[38;5;124mDone with:\u001b[39m\u001b[38;5;124m\"\u001b[39m, model,\u001b[43mproc\u001b[49m\u001b[38;5;241m.\u001b[39mwait())\n",
      "\u001b[0;31mNameError\u001b[0m: name 'proc' is not defined"
     ]
    }
   ],
   "source": [
    "models = [ 'EC_Earth3_Veg_LR',\n",
    "             'EC_Earth3_Veg',\n",
    "             'FIO_ESM_2_0',\n",
    "             'GISS_E2_1_G',\n",
    "             'GISS_E2_1_H',\n",
    "             'HadGEM3_GC31_LL',\n",
    "             'INM_CM4_8',\n",
    "             'MIROC6',\n",
    "             'IPSL_CM6A_LR',\n",
    "             'INM_CM5_0',\n",
    "             'MIROC_ES2L',\n",
    "             'MPI_ESM1_2_HR',\n",
    "             'MPI_ESM1_2_LR',\n",
    "             'MRI_ESM2_0',\n",
    "             'ACCESS-CM2',\n",
    "             'ACCESS-ESM1',\n",
    "             'BCC-CSM2-MR',\n",
    "             'CanESM5',\n",
    "             'UKESM1_0_LL']\n",
    "\n",
    "\n",
    "for i in os.listdir():\n",
    "### Walk through each Scenario\n",
    "    for s in ['SSP585']:\n",
    "        if i == s:\n",
    "            print('Scenario:',s)\n",
    "            Sdir = os.path.join(s)\n",
    "### Walk through each Period \n",
    "            for year in os.listdir(Sdir):\n",
    "                if year == '2041_2060':\n",
    "                    print('Year:',year)\n",
    "                    Ydir = os.path.join(s,year)\n",
    "                    \n",
    "                    for model in os.listdir(Ydir):\n",
    "                        if os.path.isdir(os.path.join(Ydir,model)):\n",
    "                            if model in models: \n",
    "                                now = datetime.now()\n",
    "                                current_time = now.strftime(\"%H:%M:%S\")\n",
    "                                print(\"Running Model:\",model, current_time)\n",
    "                                Mdir = os.path.join(Ydir,model+'/ASCII')\n",
    "### Create directory for ASCII\n",
    "                                OutputDir = os.path.join(Ydir,model+'/Output')\n",
    "                                if not os.path.exists(OutputDir):\n",
    "                                    os.mkdir(OutputDir)\n",
    "### Write MAXENT to Output\n",
    "                                #maxent_cmd = \"java -mx1024m -jar /home/Azure_linux_admin/Projdir/Mauritius_IAS/maxent/maxent.jar visible=false environmentallayers=/home/Azure_linux_admin/Projdir/Mauritius_IAS/Current/ASCII samplesfile=/home/Azure_linux_admin/Projdir/Mauritius_IAS/Species/species.csv projectionlayers=/home/Azure_linux_admin/Projdir/Mauritius_IAS/\" +Mdir +\" \" +\"outputdirectory=/home/Azure_linux_admin/Projdir/Mauritius_IAS/\" +OutputDir+\" \" +\"randomseed=true randomtestpoints=30 replicates=10 replicatetype=Subsample maximumiterations=5000 warnings=false -r redoifexists -a\"\n",
    "                                #proc = subprocess.Popen(maxent_cmd, shell=True)\n",
    "                                print(\"Done with:\", model,proc.wait())"
   ]
  },
  {
   "cell_type": "markdown",
   "id": "54bbfbe1",
   "metadata": {},
   "source": [
    "# Get Median for each Specie"
   ]
  },
  {
   "cell_type": "markdown",
   "id": "baa03fa0",
   "metadata": {},
   "source": [
    "## Check that all Models have correct MAXENT Output : 135168"
   ]
  },
  {
   "cell_type": "markdown",
   "id": "f1a3ce93",
   "metadata": {},
   "source": [
    "### SSP585 : 24 Models\n",
    "\n",
    "- Should have 24*4 = 96 Output Folders"
   ]
  },
  {
   "cell_type": "code",
   "execution_count": 15,
   "id": "2c001469",
   "metadata": {},
   "outputs": [
    {
     "name": "stdout",
     "output_type": "stream",
     "text": [
      "96\r\n"
     ]
    }
   ],
   "source": [
    "### Count folders\n",
    "%ls -l -d SSP585/*/*/Output | wc -l"
   ]
  },
  {
   "cell_type": "code",
   "execution_count": 28,
   "id": "db77f122",
   "metadata": {
    "scrolled": true
   },
   "outputs": [
    {
     "name": "stdout",
     "output_type": "stream",
     "text": [
      "drwxrwxr-x 3 Azure_linux_admin Azure_linux_admin 135168 Jul 13 22:04 \u001b[0m\u001b[01;34mSSP585/2021_2040/ACCESS-CM2/Output\u001b[0m/\r\n",
      "drwxrwxr-x 3 Azure_linux_admin Azure_linux_admin 135168 Jul 13 22:10 \u001b[01;34mSSP585/2021_2040/ACCESS-ESM1-5/Output\u001b[0m/\r\n",
      "drwxrwxr-x 3 Azure_linux_admin Azure_linux_admin 135168 Jul 13 22:17 \u001b[01;34mSSP585/2021_2040/BCC-CSM2-MR/Output\u001b[0m/\r\n",
      "drwxrwxr-x 3 Azure_linux_admin Azure_linux_admin 135168 Jul 13 22:37 \u001b[01;34mSSP585/2021_2040/CMCC-ESM2/Output\u001b[0m/\r\n",
      "drwxrwxr-x 3 Azure_linux_admin Azure_linux_admin 135168 Jul 13 22:44 \u001b[01;34mSSP585/2021_2040/CNRM-CM6-1-HR/Output\u001b[0m/\r\n",
      "drwxrwxr-x 3 Azure_linux_admin Azure_linux_admin 135168 Jul 13 22:51 \u001b[01;34mSSP585/2021_2040/CNRM-CM6-1/Output\u001b[0m/\r\n",
      "drwxrwxr-x 3 Azure_linux_admin Azure_linux_admin 135168 Jul 13 22:58 \u001b[01;34mSSP585/2021_2040/CNRM-ESM2-1/Output\u001b[0m/\r\n",
      "drwxrwxr-x 3 Azure_linux_admin Azure_linux_admin 135168 Jul 13 22:24 \u001b[01;34mSSP585/2021_2040/CanESM5-CanOE/Output\u001b[0m/\r\n",
      "drwxrwxr-x 3 Azure_linux_admin Azure_linux_admin 135168 Jul 13 22:31 \u001b[01;34mSSP585/2021_2040/CanESM5/Output\u001b[0m/\r\n",
      "drwxrwxr-x 3 Azure_linux_admin Azure_linux_admin 135168 Jul 13 23:04 \u001b[01;34mSSP585/2021_2040/EC-Earth3-Veg-LR/Output\u001b[0m/\r\n",
      "drwxrwxr-x 3 Azure_linux_admin Azure_linux_admin 135168 Jul 13 23:11 \u001b[01;34mSSP585/2021_2040/EC-Earth3-Veg/Output\u001b[0m/\r\n",
      "drwxrwxr-x 3 Azure_linux_admin Azure_linux_admin 135168 Jul 13 23:18 \u001b[01;34mSSP585/2021_2040/FIO-ESM-2-0/Output\u001b[0m/\r\n",
      "drwxrwxr-x 3 Azure_linux_admin Azure_linux_admin 135168 Jul 13 23:25 \u001b[01;34mSSP585/2021_2040/GISS-E2-1-G/Output\u001b[0m/\r\n",
      "drwxrwxr-x 3 Azure_linux_admin Azure_linux_admin 135168 Jul 13 23:32 \u001b[01;34mSSP585/2021_2040/GISS-E2-1-H/Output\u001b[0m/\r\n",
      "drwxrwxr-x 3 Azure_linux_admin Azure_linux_admin 135168 Jul 13 23:39 \u001b[01;34mSSP585/2021_2040/HadGEM3-GC31-LL/Output\u001b[0m/\r\n",
      "drwxrwxr-x 3 Azure_linux_admin Azure_linux_admin 135168 Jul 13 23:46 \u001b[01;34mSSP585/2021_2040/INM-CM4-8/Output\u001b[0m/\r\n",
      "drwxrwxr-x 3 Azure_linux_admin Azure_linux_admin 135168 Jul 13 23:53 \u001b[01;34mSSP585/2021_2040/INM-CM5-0/Output\u001b[0m/\r\n",
      "drwxrwxr-x 3 Azure_linux_admin Azure_linux_admin 135168 Jul 13 23:59 \u001b[01;34mSSP585/2021_2040/IPSL-CM6A-LR/Output\u001b[0m/\r\n",
      "drwxrwxr-x 3 Azure_linux_admin Azure_linux_admin 135168 Jul 14 00:13 \u001b[01;34mSSP585/2021_2040/MIROC-ES2L/Output\u001b[0m/\r\n",
      "drwxrwxr-x 3 Azure_linux_admin Azure_linux_admin 135168 Jul 14 00:06 \u001b[01;34mSSP585/2021_2040/MIROC6/Output\u001b[0m/\r\n",
      "drwxrwxr-x 3 Azure_linux_admin Azure_linux_admin 135168 Jul 14 00:20 \u001b[01;34mSSP585/2021_2040/MPI-ESM1-2-HR/Output\u001b[0m/\r\n",
      "drwxrwxr-x 3 Azure_linux_admin Azure_linux_admin 135168 Jul 14 00:27 \u001b[01;34mSSP585/2021_2040/MPI-ESM1-2-LR/Output\u001b[0m/\r\n",
      "drwxrwxr-x 3 Azure_linux_admin Azure_linux_admin 135168 Jul 14 00:33 \u001b[01;34mSSP585/2021_2040/MRI-ESM2-0/Output\u001b[0m/\r\n",
      "drwxrwxr-x 3 Azure_linux_admin Azure_linux_admin 135168 Jul 14 00:39 \u001b[01;34mSSP585/2021_2040/UKESM1-0-LL/Output\u001b[0m/\r\n",
      "drwxrwxr-x 3 Azure_linux_admin Azure_linux_admin 135168 Jul 15 06:19 \u001b[01;34mSSP585/2041_2060/ACCESS-CM2/Output\u001b[0m/\r\n",
      "drwxrwxr-x 3 Azure_linux_admin Azure_linux_admin 135168 Jul 14 00:53 \u001b[01;34mSSP585/2041_2060/ACCESS-ESM1-5/Output\u001b[0m/\r\n",
      "drwxrwxr-x 3 Azure_linux_admin Azure_linux_admin 135168 Jul 15 06:27 \u001b[01;34mSSP585/2041_2060/BCC-CSM2-MR/Output\u001b[0m/\r\n",
      "drwxrwxr-x 3 Azure_linux_admin Azure_linux_admin 135168 Jul 14 01:21 \u001b[01;34mSSP585/2041_2060/CMCC-ESM2/Output\u001b[0m/\r\n",
      "drwxrwxr-x 3 Azure_linux_admin Azure_linux_admin 135168 Jul 14 01:28 \u001b[01;34mSSP585/2041_2060/CNRM-CM6-1-HR/Output\u001b[0m/\r\n",
      "drwxrwxr-x 3 Azure_linux_admin Azure_linux_admin 135168 Jul 14 01:34 \u001b[01;34mSSP585/2041_2060/CNRM-CM6-1/Output\u001b[0m/\r\n",
      "drwxrwxr-x 3 Azure_linux_admin Azure_linux_admin 135168 Jul 14 01:40 \u001b[01;34mSSP585/2041_2060/CNRM-ESM2-1/Output\u001b[0m/\r\n",
      "drwxrwxr-x 3 Azure_linux_admin Azure_linux_admin 135168 Jul 14 01:07 \u001b[01;34mSSP585/2041_2060/CanESM5-CanOE/Output\u001b[0m/\r\n",
      "drwxrwxr-x 3 Azure_linux_admin Azure_linux_admin 135168 Jul 15 06:34 \u001b[01;34mSSP585/2041_2060/CanESM5/Output\u001b[0m/\r\n",
      "drwxrwxr-x 3 Azure_linux_admin Azure_linux_admin 135168 Jul 14 01:47 \u001b[01;34mSSP585/2041_2060/EC-Earth3-Veg-LR/Output\u001b[0m/\r\n",
      "drwxrwxr-x 3 Azure_linux_admin Azure_linux_admin 135168 Jul 19 09:06 \u001b[01;34mSSP585/2041_2060/EC-Earth3-Veg/Output\u001b[0m/\r\n",
      "drwxrwxr-x 3 Azure_linux_admin Azure_linux_admin 135168 Jul 19 09:13 \u001b[01;34mSSP585/2041_2060/FIO-ESM-2-0/Output\u001b[0m/\r\n",
      "drwxrwxr-x 3 Azure_linux_admin Azure_linux_admin 135168 Jul 19 09:21 \u001b[01;34mSSP585/2041_2060/GISS-E2-1-G/Output\u001b[0m/\r\n",
      "drwxrwxr-x 3 Azure_linux_admin Azure_linux_admin 135168 Jul 19 09:29 \u001b[01;34mSSP585/2041_2060/GISS-E2-1-H/Output\u001b[0m/\r\n",
      "drwxrwxr-x 3 Azure_linux_admin Azure_linux_admin 135168 Jul 19 09:36 \u001b[01;34mSSP585/2041_2060/HadGEM3-GC31-LL/Output\u001b[0m/\r\n",
      "drwxrwxr-x 3 Azure_linux_admin Azure_linux_admin 135168 Jul 19 09:46 \u001b[01;34mSSP585/2041_2060/INM-CM4-8/Output\u001b[0m/\r\n",
      "drwxrwxr-x 3 Azure_linux_admin Azure_linux_admin 135168 Jul 19 09:53 \u001b[01;34mSSP585/2041_2060/INM-CM5-0/Output\u001b[0m/\r\n",
      "drwxrwxr-x 3 Azure_linux_admin Azure_linux_admin 135168 Jul 19 10:01 \u001b[01;34mSSP585/2041_2060/IPSL-CM6A-LR/Output\u001b[0m/\r\n",
      "drwxrwxr-x 3 Azure_linux_admin Azure_linux_admin 135168 Jul 19 10:09 \u001b[01;34mSSP585/2041_2060/MIROC-ES2L/Output\u001b[0m/\r\n",
      "drwxrwxr-x 3 Azure_linux_admin Azure_linux_admin 135168 Jul 15 06:41 \u001b[01;34mSSP585/2041_2060/MIROC6/Output\u001b[0m/\r\n",
      "drwxrwxr-x 3 Azure_linux_admin Azure_linux_admin 135168 Jul 15 13:29 \u001b[01;34mSSP585/2041_2060/MPI-ESM1-2-HR/Output\u001b[0m/\r\n",
      "drwxrwxr-x 3 Azure_linux_admin Azure_linux_admin 135168 Jul 15 13:36 \u001b[01;34mSSP585/2041_2060/MPI-ESM1-2-LR/Output\u001b[0m/\r\n",
      "drwxrwxr-x 3 Azure_linux_admin Azure_linux_admin 135168 Jul 15 13:43 \u001b[01;34mSSP585/2041_2060/MRI-ESM2-0/Output\u001b[0m/\r\n",
      "drwxrwxr-x 3 Azure_linux_admin Azure_linux_admin 135168 Jul 15 13:50 \u001b[01;34mSSP585/2041_2060/UKESM1-0-LL/Output\u001b[0m/\r\n",
      "drwxrwxr-x 3 Azure_linux_admin Azure_linux_admin 135168 Jul 15 09:52 \u001b[01;34mSSP585/2061_2080/ACCESS-CM2/Output\u001b[0m/\r\n",
      "drwxrwxr-x 3 Azure_linux_admin Azure_linux_admin 135168 Jul 15 09:59 \u001b[01;34mSSP585/2061_2080/ACCESS-ESM1-5/Output\u001b[0m/\r\n",
      "drwxrwxr-x 3 Azure_linux_admin Azure_linux_admin 135168 Jul 15 10:06 \u001b[01;34mSSP585/2061_2080/BCC-CSM2-MR/Output\u001b[0m/\r\n",
      "drwxrwxr-x 3 Azure_linux_admin Azure_linux_admin 135168 Jul 15 10:26 \u001b[01;34mSSP585/2061_2080/CMCC-ESM2/Output\u001b[0m/\r\n",
      "drwxrwxr-x 3 Azure_linux_admin Azure_linux_admin 135168 Jul 15 10:33 \u001b[01;34mSSP585/2061_2080/CNRM-CM6-1-HR/Output\u001b[0m/\r\n",
      "drwxrwxr-x 3 Azure_linux_admin Azure_linux_admin 135168 Jul 15 10:40 \u001b[01;34mSSP585/2061_2080/CNRM-CM6-1/Output\u001b[0m/\r\n",
      "drwxrwxr-x 3 Azure_linux_admin Azure_linux_admin 135168 Jul 15 10:46 \u001b[01;34mSSP585/2061_2080/CNRM-ESM2-1/Output\u001b[0m/\r\n",
      "drwxrwxr-x 3 Azure_linux_admin Azure_linux_admin 135168 Jul 15 10:12 \u001b[01;34mSSP585/2061_2080/CanESM5-CanOE/Output\u001b[0m/\r\n",
      "drwxrwxr-x 3 Azure_linux_admin Azure_linux_admin 135168 Jul 15 10:19 \u001b[01;34mSSP585/2061_2080/CanESM5/Output\u001b[0m/\r\n",
      "drwxrwxr-x 3 Azure_linux_admin Azure_linux_admin 135168 Jul 15 10:54 \u001b[01;34mSSP585/2061_2080/EC-Earth3-Veg-LR/Output\u001b[0m/\r\n",
      "drwxrwxr-x 3 Azure_linux_admin Azure_linux_admin 135168 Jul 15 11:01 \u001b[01;34mSSP585/2061_2080/EC-Earth3-Veg/Output\u001b[0m/\r\n",
      "drwxrwxr-x 3 Azure_linux_admin Azure_linux_admin 135168 Jul 15 11:08 \u001b[01;34mSSP585/2061_2080/FIO-ESM-2-0/Output\u001b[0m/\r\n",
      "drwxrwxr-x 3 Azure_linux_admin Azure_linux_admin 135168 Jul 15 11:15 \u001b[01;34mSSP585/2061_2080/GISS-E2-1-G/Output\u001b[0m/\r\n",
      "drwxrwxr-x 3 Azure_linux_admin Azure_linux_admin 135168 Jul 15 11:23 \u001b[01;34mSSP585/2061_2080/GISS-E2-1-H/Output\u001b[0m/\r\n",
      "drwxrwxr-x 3 Azure_linux_admin Azure_linux_admin 135168 Jul 15 11:30 \u001b[01;34mSSP585/2061_2080/HadGEM3-GC31-LL/Output\u001b[0m/\r\n",
      "drwxrwxr-x 3 Azure_linux_admin Azure_linux_admin 135168 Jul 15 11:37 \u001b[01;34mSSP585/2061_2080/INM-CM4-8/Output\u001b[0m/\r\n",
      "drwxrwxr-x 3 Azure_linux_admin Azure_linux_admin 135168 Jul 15 11:43 \u001b[01;34mSSP585/2061_2080/INM-CM5-0/Output\u001b[0m/\r\n",
      "drwxrwxr-x 3 Azure_linux_admin Azure_linux_admin 135168 Jul 15 11:50 \u001b[01;34mSSP585/2061_2080/IPSL-CM6A-LR/Output\u001b[0m/\r\n",
      "drwxrwxr-x 3 Azure_linux_admin Azure_linux_admin 135168 Jul 15 12:04 \u001b[01;34mSSP585/2061_2080/MIROC-ES2L/Output\u001b[0m/\r\n",
      "drwxrwxr-x 3 Azure_linux_admin Azure_linux_admin 135168 Jul 15 11:57 \u001b[01;34mSSP585/2061_2080/MIROC6/Output\u001b[0m/\r\n",
      "drwxrwxr-x 3 Azure_linux_admin Azure_linux_admin 135168 Jul 15 12:11 \u001b[01;34mSSP585/2061_2080/MPI-ESM1-2-HR/Output\u001b[0m/\r\n",
      "drwxrwxr-x 3 Azure_linux_admin Azure_linux_admin 135168 Jul 15 12:18 \u001b[01;34mSSP585/2061_2080/MPI-ESM1-2-LR/Output\u001b[0m/\r\n",
      "drwxrwxr-x 3 Azure_linux_admin Azure_linux_admin 135168 Jul 15 12:25 \u001b[01;34mSSP585/2061_2080/MRI-ESM2-0/Output\u001b[0m/\r\n",
      "drwxrwxr-x 3 Azure_linux_admin Azure_linux_admin 135168 Jul 15 12:32 \u001b[01;34mSSP585/2061_2080/UKESM1-0-LL/Output\u001b[0m/\r\n",
      "drwxrwxr-x 3 Azure_linux_admin Azure_linux_admin 135168 Jul 18 16:52 \u001b[01;34mSSP585/2081_2100/ACCESS-CM2/Output\u001b[0m/\r\n",
      "drwxrwxr-x 3 Azure_linux_admin Azure_linux_admin 135168 Jul 17 11:32 \u001b[01;34mSSP585/2081_2100/ACCESS-ESM1-5/Output\u001b[0m/\r\n",
      "drwxrwxr-x 3 Azure_linux_admin Azure_linux_admin 135168 Jul 17 11:11 \u001b[01;34mSSP585/2081_2100/BCC-CSM2-MR/Output\u001b[0m/\r\n",
      "drwxrwxr-x 3 Azure_linux_admin Azure_linux_admin 135168 Jul 17 11:39 \u001b[01;34mSSP585/2081_2100/CMCC-ESM2/Output\u001b[0m/\r\n",
      "drwxrwxr-x 3 Azure_linux_admin Azure_linux_admin 135168 Jul 17 11:54 \u001b[01;34mSSP585/2081_2100/CNRM-CM6-1-HR/Output\u001b[0m/\r\n",
      "drwxrwxr-x 3 Azure_linux_admin Azure_linux_admin 135168 Jul 17 11:46 \u001b[01;34mSSP585/2081_2100/CNRM-CM6-1/Output\u001b[0m/\r\n",
      "drwxrwxr-x 3 Azure_linux_admin Azure_linux_admin 135168 Jul 19 08:56 \u001b[01;34mSSP585/2081_2100/CNRM-ESM2-1/Output\u001b[0m/\r\n",
      "drwxrwxr-x 3 Azure_linux_admin Azure_linux_admin 135168 Jul 17 11:25 \u001b[01;34mSSP585/2081_2100/CanESM5-CanOE/Output\u001b[0m/\r\n",
      "drwxrwxr-x 3 Azure_linux_admin Azure_linux_admin 135168 Jul 17 11:18 \u001b[01;34mSSP585/2081_2100/CanESM5/Output\u001b[0m/\r\n",
      "drwxrwxr-x 3 Azure_linux_admin Azure_linux_admin 135168 Jul 17 12:08 \u001b[01;34mSSP585/2081_2100/EC-Earth3-Veg-LR/Output\u001b[0m/\r\n",
      "drwxrwxr-x 3 Azure_linux_admin Azure_linux_admin 135168 Jul 17 12:01 \u001b[01;34mSSP585/2081_2100/EC-Earth3-Veg/Output\u001b[0m/\r\n",
      "drwxrwxr-x 3 Azure_linux_admin Azure_linux_admin 135168 Jul 17 12:14 \u001b[01;34mSSP585/2081_2100/FIO-ESM-2-0/Output\u001b[0m/\r\n",
      "drwxrwxr-x 3 Azure_linux_admin Azure_linux_admin 135168 Jul 17 12:21 \u001b[01;34mSSP585/2081_2100/GISS-E2-1-G/Output\u001b[0m/\r\n",
      "drwxrwxr-x 3 Azure_linux_admin Azure_linux_admin 135168 Jul 17 12:28 \u001b[01;34mSSP585/2081_2100/GISS-E2-1-H/Output\u001b[0m/\r\n",
      "drwxrwxr-x 3 Azure_linux_admin Azure_linux_admin 135168 Jul 17 12:36 \u001b[01;34mSSP585/2081_2100/HadGEM3-GC31-LL/Output\u001b[0m/\r\n",
      "drwxrwxr-x 3 Azure_linux_admin Azure_linux_admin 135168 Jul 17 12:50 \u001b[01;34mSSP585/2081_2100/INM-CM4-8/Output\u001b[0m/\r\n",
      "drwxrwxr-x 3 Azure_linux_admin Azure_linux_admin 135168 Jul 17 12:43 \u001b[01;34mSSP585/2081_2100/INM-CM5-0/Output\u001b[0m/\r\n",
      "drwxrwxr-x 3 Azure_linux_admin Azure_linux_admin 135168 Jul 17 12:57 \u001b[01;34mSSP585/2081_2100/IPSL-CM6A-LR/Output\u001b[0m/\r\n",
      "drwxrwxr-x 3 Azure_linux_admin Azure_linux_admin 135168 Jul 17 13:03 \u001b[01;34mSSP585/2081_2100/MIROC-ES2L/Output\u001b[0m/\r\n",
      "drwxrwxr-x 3 Azure_linux_admin Azure_linux_admin 135168 Jul 17 11:04 \u001b[01;34mSSP585/2081_2100/MIROC6/Output\u001b[0m/\r\n",
      "drwxrwxr-x 3 Azure_linux_admin Azure_linux_admin 135168 Jul 17 13:10 \u001b[01;34mSSP585/2081_2100/MPI-ESM1-2-HR/Output\u001b[0m/\r\n",
      "drwxrwxr-x 3 Azure_linux_admin Azure_linux_admin 135168 Jul 17 13:17 \u001b[01;34mSSP585/2081_2100/MPI-ESM1-2-LR/Output\u001b[0m/\r\n",
      "drwxrwxr-x 3 Azure_linux_admin Azure_linux_admin 135168 Jul 17 13:24 \u001b[01;34mSSP585/2081_2100/MRI-ESM2-0/Output\u001b[0m/\r\n",
      "drwxrwxr-x 3 Azure_linux_admin Azure_linux_admin 135168 Jul 17 13:32 \u001b[01;34mSSP585/2081_2100/UKESM1-0-LL/Output\u001b[0m/\r\n"
     ]
    }
   ],
   "source": [
    "### Show files\n",
    "%ls -l -d SSP585/*/*/Output"
   ]
  },
  {
   "cell_type": "markdown",
   "id": "58064814",
   "metadata": {},
   "source": [
    "### SSP370 : 23 Models\n",
    "\n",
    "- Should have 23*4 = 92 Output Folders"
   ]
  },
  {
   "cell_type": "code",
   "execution_count": 29,
   "id": "b7c9f581",
   "metadata": {},
   "outputs": [
    {
     "name": "stdout",
     "output_type": "stream",
     "text": [
      "92\r\n"
     ]
    }
   ],
   "source": [
    "### Count folders\n",
    "%ls -l -d SSP370/*/*/Output | wc -l"
   ]
  },
  {
   "cell_type": "code",
   "execution_count": 30,
   "id": "78586f8a",
   "metadata": {
    "scrolled": true
   },
   "outputs": [
    {
     "name": "stdout",
     "output_type": "stream",
     "text": [
      "drwxrwxr-x 3 Azure_linux_admin Azure_linux_admin 135168 Jul 14 12:38 \u001b[0m\u001b[01;34mSSP370/2021_2040/ACCESS-CM2/Output\u001b[0m/\r\n",
      "drwxrwxr-x 3 Azure_linux_admin Azure_linux_admin 135168 Jul 14 12:45 \u001b[01;34mSSP370/2021_2040/ACCESS-ESM1-5/Output\u001b[0m/\r\n",
      "drwxrwxr-x 3 Azure_linux_admin Azure_linux_admin 135168 Jul 14 12:53 \u001b[01;34mSSP370/2021_2040/BCC-CSM2-MR/Output\u001b[0m/\r\n",
      "drwxrwxr-x 3 Azure_linux_admin Azure_linux_admin 135168 Jul 14 13:00 \u001b[01;34mSSP370/2021_2040/CMCC-ESM2/Output\u001b[0m/\r\n",
      "drwxrwxr-x 3 Azure_linux_admin Azure_linux_admin 135168 Jul 14 13:07 \u001b[01;34mSSP370/2021_2040/CNRM-CM6-1-HR/Output\u001b[0m/\r\n",
      "drwxrwxr-x 3 Azure_linux_admin Azure_linux_admin 135168 Jul 14 13:13 \u001b[01;34mSSP370/2021_2040/CNRM-CM6-1/Output\u001b[0m/\r\n",
      "drwxrwxr-x 3 Azure_linux_admin Azure_linux_admin 135168 Jul 14 13:21 \u001b[01;34mSSP370/2021_2040/CNRM-ESM2-1/Output\u001b[0m/\r\n",
      "drwxrwxr-x 3 Azure_linux_admin Azure_linux_admin 135168 Jul 14 13:28 \u001b[01;34mSSP370/2021_2040/CanESM5-CanOE/Output\u001b[0m/\r\n",
      "drwxrwxr-x 3 Azure_linux_admin Azure_linux_admin 135168 Jul 14 13:35 \u001b[01;34mSSP370/2021_2040/CanESM5/Output\u001b[0m/\r\n",
      "drwxrwxr-x 3 Azure_linux_admin Azure_linux_admin 135168 Jul 14 13:42 \u001b[01;34mSSP370/2021_2040/EC-Earth3-Veg-LR/Output\u001b[0m/\r\n",
      "drwxrwxr-x 3 Azure_linux_admin Azure_linux_admin 135168 Jul 14 13:49 \u001b[01;34mSSP370/2021_2040/EC-Earth3-Veg/Output\u001b[0m/\r\n",
      "drwxrwxr-x 3 Azure_linux_admin Azure_linux_admin 135168 Jul 14 13:56 \u001b[01;34mSSP370/2021_2040/GFDL-ESM4/Output\u001b[0m/\r\n",
      "drwxrwxr-x 3 Azure_linux_admin Azure_linux_admin 135168 Jul 14 14:03 \u001b[01;34mSSP370/2021_2040/GISS-E2-1-G/Output\u001b[0m/\r\n",
      "drwxrwxr-x 3 Azure_linux_admin Azure_linux_admin 135168 Jul 14 14:10 \u001b[01;34mSSP370/2021_2040/GISS-E2-1-H/Output\u001b[0m/\r\n",
      "drwxrwxr-x 3 Azure_linux_admin Azure_linux_admin 135168 Jul 14 14:17 \u001b[01;34mSSP370/2021_2040/INM-CM4-8/Output\u001b[0m/\r\n",
      "drwxrwxr-x 3 Azure_linux_admin Azure_linux_admin 135168 Jul 14 14:23 \u001b[01;34mSSP370/2021_2040/INM-CM5-0/Output\u001b[0m/\r\n",
      "drwxrwxr-x 3 Azure_linux_admin Azure_linux_admin 135168 Jul 14 14:30 \u001b[01;34mSSP370/2021_2040/IPSL-CM6A-LR/Output\u001b[0m/\r\n",
      "drwxrwxr-x 3 Azure_linux_admin Azure_linux_admin 135168 Jul 14 14:38 \u001b[01;34mSSP370/2021_2040/MIROC-ES2L/Output\u001b[0m/\r\n",
      "drwxrwxr-x 3 Azure_linux_admin Azure_linux_admin 135168 Jul 14 14:44 \u001b[01;34mSSP370/2021_2040/MIROC6/Output\u001b[0m/\r\n",
      "drwxrwxr-x 3 Azure_linux_admin Azure_linux_admin 135168 Jul 14 14:50 \u001b[01;34mSSP370/2021_2040/MPI-ESM1-2-HR/Output\u001b[0m/\r\n",
      "drwxrwxr-x 3 Azure_linux_admin Azure_linux_admin 135168 Jul 14 14:57 \u001b[01;34mSSP370/2021_2040/MPI-ESM1-2-LR/Output\u001b[0m/\r\n",
      "drwxrwxr-x 3 Azure_linux_admin Azure_linux_admin 135168 Jul 14 15:05 \u001b[01;34mSSP370/2021_2040/MRI-ESM2-0/Output\u001b[0m/\r\n",
      "drwxrwxr-x 3 Azure_linux_admin Azure_linux_admin 135168 Jul 18 10:36 \u001b[01;34mSSP370/2021_2040/UKESM1-0-LL/Output\u001b[0m/\r\n",
      "drwxrwxr-x 3 Azure_linux_admin Azure_linux_admin 135168 Jul 14 15:19 \u001b[01;34mSSP370/2041_2060/ACCESS-CM2/Output\u001b[0m/\r\n",
      "drwxrwxr-x 3 Azure_linux_admin Azure_linux_admin 135168 Jul 14 15:26 \u001b[01;34mSSP370/2041_2060/ACCESS-ESM1-5/Output\u001b[0m/\r\n",
      "drwxrwxr-x 3 Azure_linux_admin Azure_linux_admin 135168 Jul 14 15:33 \u001b[01;34mSSP370/2041_2060/BCC-CSM2-MR/Output\u001b[0m/\r\n",
      "drwxrwxr-x 3 Azure_linux_admin Azure_linux_admin 135168 Jul 14 15:40 \u001b[01;34mSSP370/2041_2060/CMCC-ESM2/Output\u001b[0m/\r\n",
      "drwxrwxr-x 3 Azure_linux_admin Azure_linux_admin 135168 Jul 14 15:47 \u001b[01;34mSSP370/2041_2060/CNRM-CM6-1-HR/Output\u001b[0m/\r\n",
      "drwxrwxr-x 3 Azure_linux_admin Azure_linux_admin 135168 Jul 14 15:54 \u001b[01;34mSSP370/2041_2060/CNRM-CM6-1/Output\u001b[0m/\r\n",
      "drwxrwxr-x 3 Azure_linux_admin Azure_linux_admin 135168 Jul 14 16:01 \u001b[01;34mSSP370/2041_2060/CNRM-ESM2-1/Output\u001b[0m/\r\n",
      "drwxrwxr-x 3 Azure_linux_admin Azure_linux_admin 135168 Jul 14 16:07 \u001b[01;34mSSP370/2041_2060/CanESM5-CanOE/Output\u001b[0m/\r\n",
      "drwxrwxr-x 3 Azure_linux_admin Azure_linux_admin 135168 Jul 14 16:14 \u001b[01;34mSSP370/2041_2060/CanESM5/Output\u001b[0m/\r\n",
      "drwxrwxr-x 3 Azure_linux_admin Azure_linux_admin 135168 Jul 14 16:21 \u001b[01;34mSSP370/2041_2060/EC-Earth3-Veg-LR/Output\u001b[0m/\r\n",
      "drwxrwxr-x 3 Azure_linux_admin Azure_linux_admin 135168 Jul 14 16:28 \u001b[01;34mSSP370/2041_2060/EC-Earth3-Veg/Output\u001b[0m/\r\n",
      "drwxrwxr-x 3 Azure_linux_admin Azure_linux_admin 135168 Jul 14 16:35 \u001b[01;34mSSP370/2041_2060/GFDL-ESM4/Output\u001b[0m/\r\n",
      "drwxrwxr-x 3 Azure_linux_admin Azure_linux_admin 135168 Jul 14 16:42 \u001b[01;34mSSP370/2041_2060/GISS-E2-1-G/Output\u001b[0m/\r\n",
      "drwxrwxr-x 3 Azure_linux_admin Azure_linux_admin 135168 Jul 14 16:49 \u001b[01;34mSSP370/2041_2060/GISS-E2-1-H/Output\u001b[0m/\r\n",
      "drwxrwxr-x 3 Azure_linux_admin Azure_linux_admin 135168 Jul 14 16:56 \u001b[01;34mSSP370/2041_2060/INM-CM4-8/Output\u001b[0m/\r\n",
      "drwxrwxr-x 3 Azure_linux_admin Azure_linux_admin 135168 Jul 14 17:02 \u001b[01;34mSSP370/2041_2060/INM-CM5-0/Output\u001b[0m/\r\n",
      "drwxrwxr-x 3 Azure_linux_admin Azure_linux_admin 135168 Jul 14 17:10 \u001b[01;34mSSP370/2041_2060/IPSL-CM6A-LR/Output\u001b[0m/\r\n",
      "drwxrwxr-x 3 Azure_linux_admin Azure_linux_admin 135168 Jul 14 17:17 \u001b[01;34mSSP370/2041_2060/MIROC-ES2L/Output\u001b[0m/\r\n",
      "drwxrwxr-x 3 Azure_linux_admin Azure_linux_admin 135168 Jul 14 17:23 \u001b[01;34mSSP370/2041_2060/MIROC6/Output\u001b[0m/\r\n",
      "drwxrwxr-x 3 Azure_linux_admin Azure_linux_admin 135168 Jul 14 17:31 \u001b[01;34mSSP370/2041_2060/MPI-ESM1-2-HR/Output\u001b[0m/\r\n",
      "drwxrwxr-x 3 Azure_linux_admin Azure_linux_admin 135168 Jul 14 17:37 \u001b[01;34mSSP370/2041_2060/MPI-ESM1-2-LR/Output\u001b[0m/\r\n",
      "drwxrwxr-x 3 Azure_linux_admin Azure_linux_admin 135168 Jul 14 17:45 \u001b[01;34mSSP370/2041_2060/MRI-ESM2-0/Output\u001b[0m/\r\n",
      "drwxrwxr-x 3 Azure_linux_admin Azure_linux_admin 135168 Jul 18 10:36 \u001b[01;34mSSP370/2041_2060/UKESM1-0-LL/Output\u001b[0m/\r\n",
      "drwxrwxr-x 3 Azure_linux_admin Azure_linux_admin 135168 Jul 14 17:58 \u001b[01;34mSSP370/2061_2080/ACCESS-CM2/Output\u001b[0m/\r\n",
      "drwxrwxr-x 3 Azure_linux_admin Azure_linux_admin 135168 Jul 14 18:06 \u001b[01;34mSSP370/2061_2080/ACCESS-ESM1-5/Output\u001b[0m/\r\n",
      "drwxrwxr-x 3 Azure_linux_admin Azure_linux_admin 135168 Jul 14 18:12 \u001b[01;34mSSP370/2061_2080/BCC-CSM2-MR/Output\u001b[0m/\r\n",
      "drwxrwxr-x 3 Azure_linux_admin Azure_linux_admin 135168 Jul 14 18:19 \u001b[01;34mSSP370/2061_2080/CMCC-ESM2/Output\u001b[0m/\r\n",
      "drwxrwxr-x 3 Azure_linux_admin Azure_linux_admin 135168 Jul 14 18:25 \u001b[01;34mSSP370/2061_2080/CNRM-CM6-1-HR/Output\u001b[0m/\r\n",
      "drwxrwxr-x 3 Azure_linux_admin Azure_linux_admin 135168 Jul 14 18:32 \u001b[01;34mSSP370/2061_2080/CNRM-CM6-1/Output\u001b[0m/\r\n",
      "drwxrwxr-x 3 Azure_linux_admin Azure_linux_admin 135168 Jul 14 18:39 \u001b[01;34mSSP370/2061_2080/CNRM-ESM2-1/Output\u001b[0m/\r\n",
      "drwxrwxr-x 3 Azure_linux_admin Azure_linux_admin 135168 Jul 14 18:46 \u001b[01;34mSSP370/2061_2080/CanESM5-CanOE/Output\u001b[0m/\r\n",
      "drwxrwxr-x 3 Azure_linux_admin Azure_linux_admin 135168 Jul 14 18:53 \u001b[01;34mSSP370/2061_2080/CanESM5/Output\u001b[0m/\r\n",
      "drwxrwxr-x 3 Azure_linux_admin Azure_linux_admin 135168 Jul 14 19:00 \u001b[01;34mSSP370/2061_2080/EC-Earth3-Veg-LR/Output\u001b[0m/\r\n",
      "drwxrwxr-x 3 Azure_linux_admin Azure_linux_admin 135168 Jul 14 19:06 \u001b[01;34mSSP370/2061_2080/EC-Earth3-Veg/Output\u001b[0m/\r\n",
      "drwxrwxr-x 3 Azure_linux_admin Azure_linux_admin 135168 Jul 14 19:13 \u001b[01;34mSSP370/2061_2080/GFDL-ESM4/Output\u001b[0m/\r\n",
      "drwxrwxr-x 3 Azure_linux_admin Azure_linux_admin 135168 Jul 14 19:20 \u001b[01;34mSSP370/2061_2080/GISS-E2-1-G/Output\u001b[0m/\r\n",
      "drwxrwxr-x 3 Azure_linux_admin Azure_linux_admin 135168 Jul 14 19:27 \u001b[01;34mSSP370/2061_2080/GISS-E2-1-H/Output\u001b[0m/\r\n",
      "drwxrwxr-x 3 Azure_linux_admin Azure_linux_admin 135168 Jul 14 19:34 \u001b[01;34mSSP370/2061_2080/INM-CM4-8/Output\u001b[0m/\r\n",
      "drwxrwxr-x 3 Azure_linux_admin Azure_linux_admin 135168 Jul 14 19:41 \u001b[01;34mSSP370/2061_2080/INM-CM5-0/Output\u001b[0m/\r\n",
      "drwxrwxr-x 3 Azure_linux_admin Azure_linux_admin 135168 Jul 14 19:48 \u001b[01;34mSSP370/2061_2080/IPSL-CM6A-LR/Output\u001b[0m/\r\n",
      "drwxrwxr-x 3 Azure_linux_admin Azure_linux_admin 135168 Jul 14 19:54 \u001b[01;34mSSP370/2061_2080/MIROC-ES2L/Output\u001b[0m/\r\n",
      "drwxrwxr-x 3 Azure_linux_admin Azure_linux_admin 135168 Jul 14 20:01 \u001b[01;34mSSP370/2061_2080/MIROC6/Output\u001b[0m/\r\n",
      "drwxrwxr-x 3 Azure_linux_admin Azure_linux_admin 135168 Jul 14 20:08 \u001b[01;34mSSP370/2061_2080/MPI-ESM1-2-HR/Output\u001b[0m/\r\n",
      "drwxrwxr-x 3 Azure_linux_admin Azure_linux_admin 135168 Jul 14 20:15 \u001b[01;34mSSP370/2061_2080/MPI-ESM1-2-LR/Output\u001b[0m/\r\n",
      "drwxrwxr-x 3 Azure_linux_admin Azure_linux_admin 135168 Jul 14 20:21 \u001b[01;34mSSP370/2061_2080/MRI-ESM2-0/Output\u001b[0m/\r\n",
      "drwxrwxr-x 3 Azure_linux_admin Azure_linux_admin 135168 Jul 18 10:36 \u001b[01;34mSSP370/2061_2080/UKESM1-0-LL/Output\u001b[0m/\r\n",
      "drwxrwxr-x 3 Azure_linux_admin Azure_linux_admin 135168 Jul 14 20:36 \u001b[01;34mSSP370/2081_2100/ACCESS-CM2/Output\u001b[0m/\r\n",
      "drwxrwxr-x 3 Azure_linux_admin Azure_linux_admin 135168 Jul 14 20:42 \u001b[01;34mSSP370/2081_2100/ACCESS-ESM1-5/Output\u001b[0m/\r\n",
      "drwxrwxr-x 3 Azure_linux_admin Azure_linux_admin 135168 Jul 14 20:49 \u001b[01;34mSSP370/2081_2100/BCC-CSM2-MR/Output\u001b[0m/\r\n",
      "drwxrwxr-x 3 Azure_linux_admin Azure_linux_admin 135168 Jul 14 20:55 \u001b[01;34mSSP370/2081_2100/CMCC-ESM2/Output\u001b[0m/\r\n",
      "drwxrwxr-x 3 Azure_linux_admin Azure_linux_admin 135168 Jul 14 21:03 \u001b[01;34mSSP370/2081_2100/CNRM-CM6-1-HR/Output\u001b[0m/\r\n",
      "drwxrwxr-x 3 Azure_linux_admin Azure_linux_admin 135168 Jul 14 21:10 \u001b[01;34mSSP370/2081_2100/CNRM-CM6-1/Output\u001b[0m/\r\n",
      "drwxrwxr-x 3 Azure_linux_admin Azure_linux_admin 135168 Jul 14 21:17 \u001b[01;34mSSP370/2081_2100/CNRM-ESM2-1/Output\u001b[0m/\r\n",
      "drwxrwxr-x 3 Azure_linux_admin Azure_linux_admin 135168 Jul 14 21:24 \u001b[01;34mSSP370/2081_2100/CanESM5-CanOE/Output\u001b[0m/\r\n",
      "drwxrwxr-x 3 Azure_linux_admin Azure_linux_admin 135168 Jul 14 21:31 \u001b[01;34mSSP370/2081_2100/CanESM5/Output\u001b[0m/\r\n",
      "drwxrwxr-x 3 Azure_linux_admin Azure_linux_admin 135168 Jul 14 21:38 \u001b[01;34mSSP370/2081_2100/EC-Earth3-Veg-LR/Output\u001b[0m/\r\n",
      "drwxrwxr-x 3 Azure_linux_admin Azure_linux_admin 135168 Jul 14 21:45 \u001b[01;34mSSP370/2081_2100/EC-Earth3-Veg/Output\u001b[0m/\r\n",
      "drwxrwxr-x 3 Azure_linux_admin Azure_linux_admin 135168 Jul 14 21:52 \u001b[01;34mSSP370/2081_2100/GFDL-ESM4/Output\u001b[0m/\r\n",
      "drwxrwxr-x 3 Azure_linux_admin Azure_linux_admin 135168 Jul 14 21:59 \u001b[01;34mSSP370/2081_2100/GISS-E2-1-G/Output\u001b[0m/\r\n",
      "drwxrwxr-x 3 Azure_linux_admin Azure_linux_admin 135168 Jul 14 22:05 \u001b[01;34mSSP370/2081_2100/GISS-E2-1-H/Output\u001b[0m/\r\n",
      "drwxrwxr-x 3 Azure_linux_admin Azure_linux_admin 135168 Jul 14 22:12 \u001b[01;34mSSP370/2081_2100/INM-CM4-8/Output\u001b[0m/\r\n",
      "drwxrwxr-x 3 Azure_linux_admin Azure_linux_admin 135168 Jul 14 22:19 \u001b[01;34mSSP370/2081_2100/INM-CM5-0/Output\u001b[0m/\r\n",
      "drwxrwxr-x 3 Azure_linux_admin Azure_linux_admin 135168 Jul 14 22:26 \u001b[01;34mSSP370/2081_2100/IPSL-CM6A-LR/Output\u001b[0m/\r\n",
      "drwxrwxr-x 3 Azure_linux_admin Azure_linux_admin 135168 Jul 14 22:32 \u001b[01;34mSSP370/2081_2100/MIROC-ES2L/Output\u001b[0m/\r\n",
      "drwxrwxr-x 3 Azure_linux_admin Azure_linux_admin 135168 Jul 14 22:39 \u001b[01;34mSSP370/2081_2100/MIROC6/Output\u001b[0m/\r\n",
      "drwxrwxr-x 3 Azure_linux_admin Azure_linux_admin 135168 Jul 14 22:46 \u001b[01;34mSSP370/2081_2100/MPI-ESM1-2-HR/Output\u001b[0m/\r\n",
      "drwxrwxr-x 3 Azure_linux_admin Azure_linux_admin 135168 Jul 14 22:53 \u001b[01;34mSSP370/2081_2100/MPI-ESM1-2-LR/Output\u001b[0m/\r\n",
      "drwxrwxr-x 3 Azure_linux_admin Azure_linux_admin 135168 Jul 14 23:00 \u001b[01;34mSSP370/2081_2100/MRI-ESM2-0/Output\u001b[0m/\r\n",
      "drwxrwxr-x 3 Azure_linux_admin Azure_linux_admin 135168 Jul 18 10:36 \u001b[01;34mSSP370/2081_2100/UKESM1-0-LL/Output\u001b[0m/\r\n"
     ]
    }
   ],
   "source": [
    "### Show files\n",
    "%ls -l -d SSP370/*/*/Output"
   ]
  },
  {
   "cell_type": "markdown",
   "id": "2fd90383",
   "metadata": {},
   "source": [
    "### SSP245: 24 Models\n",
    "\n",
    "- Should have 24*4 = 96 Output Folders"
   ]
  },
  {
   "cell_type": "code",
   "execution_count": 31,
   "id": "d78f125b",
   "metadata": {},
   "outputs": [
    {
     "name": "stdout",
     "output_type": "stream",
     "text": [
      "96\r\n"
     ]
    }
   ],
   "source": [
    "### Count folders\n",
    "%ls -l -d SSP245/*/*/Output | wc -l"
   ]
  },
  {
   "cell_type": "code",
   "execution_count": 32,
   "id": "b913d588",
   "metadata": {
    "scrolled": true
   },
   "outputs": [
    {
     "name": "stdout",
     "output_type": "stream",
     "text": [
      "drwxrwxr-x 3 Azure_linux_admin Azure_linux_admin 135168 Jul 18 09:09 \u001b[0m\u001b[01;34mSSP245/2021_2040/ACCESS-CM2/Output\u001b[0m/\r\n",
      "drwxrwxr-x 3 Azure_linux_admin Azure_linux_admin 135168 Jul 18 09:15 \u001b[01;34mSSP245/2021_2040/ACCESS-ESM1-5/Output\u001b[0m/\r\n",
      "drwxrwxr-x 3 Azure_linux_admin Azure_linux_admin 135168 Jul 18 09:22 \u001b[01;34mSSP245/2021_2040/BCC-CSM2-MR/Output\u001b[0m/\r\n",
      "drwxrwxr-x 3 Azure_linux_admin Azure_linux_admin 135168 Jul 18 09:29 \u001b[01;34mSSP245/2021_2040/CMCC-ESM2/Output\u001b[0m/\r\n",
      "drwxrwxr-x 3 Azure_linux_admin Azure_linux_admin 135168 Jul 18 09:36 \u001b[01;34mSSP245/2021_2040/CNRM-CM6-1-HR/Output\u001b[0m/\r\n",
      "drwxrwxr-x 3 Azure_linux_admin Azure_linux_admin 135168 Jul 18 09:43 \u001b[01;34mSSP245/2021_2040/CNRM-CM6-1/Output\u001b[0m/\r\n",
      "drwxrwxr-x 3 Azure_linux_admin Azure_linux_admin 135168 Jul 18 09:50 \u001b[01;34mSSP245/2021_2040/CNRM-ESM2-1/Output\u001b[0m/\r\n",
      "drwxrwxr-x 3 Azure_linux_admin Azure_linux_admin 135168 Jul 18 09:57 \u001b[01;34mSSP245/2021_2040/CanESM5-CanOE/Output\u001b[0m/\r\n",
      "drwxrwxr-x 3 Azure_linux_admin Azure_linux_admin 135168 Jul 18 10:04 \u001b[01;34mSSP245/2021_2040/CanESM5/Output\u001b[0m/\r\n",
      "drwxrwxr-x 3 Azure_linux_admin Azure_linux_admin 135168 Jul 18 10:12 \u001b[01;34mSSP245/2021_2040/EC-Earth3-Veg-LR/Output\u001b[0m/\r\n",
      "drwxrwxr-x 3 Azure_linux_admin Azure_linux_admin 135168 Jul 18 10:19 \u001b[01;34mSSP245/2021_2040/EC-Earth3-Veg/Output\u001b[0m/\r\n",
      "drwxrwxr-x 3 Azure_linux_admin Azure_linux_admin 135168 Jul 18 10:26 \u001b[01;34mSSP245/2021_2040/FIO-ESM-2-0/Output\u001b[0m/\r\n",
      "drwxrwxr-x 3 Azure_linux_admin Azure_linux_admin 135168 Jul 18 10:33 \u001b[01;34mSSP245/2021_2040/GISS-E2-1-G/Output\u001b[0m/\r\n",
      "drwxrwxr-x 3 Azure_linux_admin Azure_linux_admin 135168 Jul 18 10:40 \u001b[01;34mSSP245/2021_2040/GISS-E2-1-H/Output\u001b[0m/\r\n",
      "drwxrwxr-x 3 Azure_linux_admin Azure_linux_admin 135168 Jul 18 10:47 \u001b[01;34mSSP245/2021_2040/HadGEM3-GC31-LL/Output\u001b[0m/\r\n",
      "drwxrwxr-x 3 Azure_linux_admin Azure_linux_admin 135168 Jul 18 10:54 \u001b[01;34mSSP245/2021_2040/INM-CM4-8/Output\u001b[0m/\r\n",
      "drwxrwxr-x 3 Azure_linux_admin Azure_linux_admin 135168 Jul 18 11:01 \u001b[01;34mSSP245/2021_2040/INM-CM5-0/Output\u001b[0m/\r\n",
      "drwxrwxr-x 3 Azure_linux_admin Azure_linux_admin 135168 Jul 18 11:09 \u001b[01;34mSSP245/2021_2040/IPSL-CM6A-LR/Output\u001b[0m/\r\n",
      "drwxrwxr-x 3 Azure_linux_admin Azure_linux_admin 135168 Jul 18 11:16 \u001b[01;34mSSP245/2021_2040/MIROC-ES2L/Output\u001b[0m/\r\n",
      "drwxrwxr-x 3 Azure_linux_admin Azure_linux_admin 135168 Jul 18 11:23 \u001b[01;34mSSP245/2021_2040/MIROC6/Output\u001b[0m/\r\n",
      "drwxrwxr-x 3 Azure_linux_admin Azure_linux_admin 135168 Jul 18 11:29 \u001b[01;34mSSP245/2021_2040/MPI-ESM1-2-HR/Output\u001b[0m/\r\n",
      "drwxrwxr-x 3 Azure_linux_admin Azure_linux_admin 135168 Jul 18 11:36 \u001b[01;34mSSP245/2021_2040/MPI-ESM1-2-LR/Output\u001b[0m/\r\n",
      "drwxrwxr-x 3 Azure_linux_admin Azure_linux_admin 135168 Jul 18 11:44 \u001b[01;34mSSP245/2021_2040/MRI-ESM2-0/Output\u001b[0m/\r\n",
      "drwxrwxr-x 3 Azure_linux_admin Azure_linux_admin 135168 Jul 18 11:51 \u001b[01;34mSSP245/2021_2040/UKESM1-0-LL/Output\u001b[0m/\r\n",
      "drwxrwxr-x 3 Azure_linux_admin Azure_linux_admin 135168 Jul 18 11:58 \u001b[01;34mSSP245/2041_2060/ACCESS-CM2/Output\u001b[0m/\r\n",
      "drwxrwxr-x 3 Azure_linux_admin Azure_linux_admin 135168 Jul 18 12:05 \u001b[01;34mSSP245/2041_2060/ACCESS-ESM1-5/Output\u001b[0m/\r\n",
      "drwxrwxr-x 3 Azure_linux_admin Azure_linux_admin 135168 Jul 18 12:12 \u001b[01;34mSSP245/2041_2060/BCC-CSM2-MR/Output\u001b[0m/\r\n",
      "drwxrwxr-x 3 Azure_linux_admin Azure_linux_admin 135168 Jul 18 12:19 \u001b[01;34mSSP245/2041_2060/CMCC-ESM2/Output\u001b[0m/\r\n",
      "drwxrwxr-x 3 Azure_linux_admin Azure_linux_admin 135168 Jul 18 12:25 \u001b[01;34mSSP245/2041_2060/CNRM-CM6-1-HR/Output\u001b[0m/\r\n",
      "drwxrwxr-x 3 Azure_linux_admin Azure_linux_admin 135168 Jul 18 12:33 \u001b[01;34mSSP245/2041_2060/CNRM-CM6-1/Output\u001b[0m/\r\n",
      "drwxrwxr-x 3 Azure_linux_admin Azure_linux_admin 135168 Jul 18 12:40 \u001b[01;34mSSP245/2041_2060/CNRM-ESM2-1/Output\u001b[0m/\r\n",
      "drwxrwxr-x 3 Azure_linux_admin Azure_linux_admin 135168 Jul 18 12:47 \u001b[01;34mSSP245/2041_2060/CanESM5-CanOE/Output\u001b[0m/\r\n",
      "drwxrwxr-x 3 Azure_linux_admin Azure_linux_admin 135168 Jul 18 12:55 \u001b[01;34mSSP245/2041_2060/CanESM5/Output\u001b[0m/\r\n",
      "drwxrwxr-x 3 Azure_linux_admin Azure_linux_admin 135168 Jul 18 13:02 \u001b[01;34mSSP245/2041_2060/EC-Earth3-Veg-LR/Output\u001b[0m/\r\n",
      "drwxrwxr-x 3 Azure_linux_admin Azure_linux_admin 135168 Jul 18 13:09 \u001b[01;34mSSP245/2041_2060/EC-Earth3-Veg/Output\u001b[0m/\r\n",
      "drwxrwxr-x 3 Azure_linux_admin Azure_linux_admin 135168 Jul 18 13:16 \u001b[01;34mSSP245/2041_2060/FIO-ESM-2-0/Output\u001b[0m/\r\n",
      "drwxrwxr-x 3 Azure_linux_admin Azure_linux_admin 135168 Jul 18 13:23 \u001b[01;34mSSP245/2041_2060/GISS-E2-1-G/Output\u001b[0m/\r\n",
      "drwxrwxr-x 3 Azure_linux_admin Azure_linux_admin 135168 Jul 18 13:31 \u001b[01;34mSSP245/2041_2060/GISS-E2-1-H/Output\u001b[0m/\r\n",
      "drwxrwxr-x 3 Azure_linux_admin Azure_linux_admin 135168 Jul 18 13:38 \u001b[01;34mSSP245/2041_2060/HadGEM3-GC31-LL/Output\u001b[0m/\r\n",
      "drwxrwxr-x 3 Azure_linux_admin Azure_linux_admin 135168 Jul 18 13:45 \u001b[01;34mSSP245/2041_2060/INM-CM4-8/Output\u001b[0m/\r\n",
      "drwxrwxr-x 3 Azure_linux_admin Azure_linux_admin 135168 Jul 18 18:13 \u001b[01;34mSSP245/2041_2060/INM-CM5-0/Output\u001b[0m/\r\n",
      "drwxrwxr-x 3 Azure_linux_admin Azure_linux_admin 135168 Jul 18 18:20 \u001b[01;34mSSP245/2041_2060/IPSL-CM6A-LR/Output\u001b[0m/\r\n",
      "drwxrwxr-x 3 Azure_linux_admin Azure_linux_admin 135168 Jul 18 18:28 \u001b[01;34mSSP245/2041_2060/MIROC-ES2L/Output\u001b[0m/\r\n",
      "drwxrwxr-x 3 Azure_linux_admin Azure_linux_admin 135168 Jul 18 18:35 \u001b[01;34mSSP245/2041_2060/MIROC6/Output\u001b[0m/\r\n",
      "drwxrwxr-x 3 Azure_linux_admin Azure_linux_admin 135168 Jul 18 19:02 \u001b[01;34mSSP245/2041_2060/MPI-ESM1-2-HR/Output\u001b[0m/\r\n",
      "drwxrwxr-x 3 Azure_linux_admin Azure_linux_admin 135168 Jul 18 18:42 \u001b[01;34mSSP245/2041_2060/MPI-ESM1-2-LR/Output\u001b[0m/\r\n",
      "drwxrwxr-x 3 Azure_linux_admin Azure_linux_admin 135168 Jul 18 18:49 \u001b[01;34mSSP245/2041_2060/MRI-ESM2-0/Output\u001b[0m/\r\n",
      "drwxrwxr-x 3 Azure_linux_admin Azure_linux_admin 135168 Jul 18 18:55 \u001b[01;34mSSP245/2041_2060/UKESM1-0-LL/Output\u001b[0m/\r\n",
      "drwxrwxr-x 3 Azure_linux_admin Azure_linux_admin 135168 Jul 18 19:20 \u001b[01;34mSSP245/2061_2080/ACCESS-CM2/Output\u001b[0m/\r\n",
      "drwxrwxr-x 3 Azure_linux_admin Azure_linux_admin 135168 Jul 19 06:22 \u001b[01;34mSSP245/2061_2080/ACCESS-ESM1-5/Output\u001b[0m/\r\n",
      "drwxrwxr-x 3 Azure_linux_admin Azure_linux_admin 135168 Jul 18 19:27 \u001b[01;34mSSP245/2061_2080/BCC-CSM2-MR/Output\u001b[0m/\r\n",
      "drwxrwxr-x 3 Azure_linux_admin Azure_linux_admin 135168 Jul 19 06:30 \u001b[01;34mSSP245/2061_2080/CMCC-ESM2/Output\u001b[0m/\r\n",
      "drwxrwxr-x 3 Azure_linux_admin Azure_linux_admin 135168 Jul 19 06:37 \u001b[01;34mSSP245/2061_2080/CNRM-CM6-1-HR/Output\u001b[0m/\r\n",
      "drwxrwxr-x 3 Azure_linux_admin Azure_linux_admin 135168 Jul 19 06:45 \u001b[01;34mSSP245/2061_2080/CNRM-CM6-1/Output\u001b[0m/\r\n",
      "drwxrwxr-x 3 Azure_linux_admin Azure_linux_admin 135168 Jul 19 06:52 \u001b[01;34mSSP245/2061_2080/CNRM-ESM2-1/Output\u001b[0m/\r\n",
      "drwxrwxr-x 3 Azure_linux_admin Azure_linux_admin 135168 Jul 19 06:59 \u001b[01;34mSSP245/2061_2080/CanESM5-CanOE/Output\u001b[0m/\r\n",
      "drwxrwxr-x 3 Azure_linux_admin Azure_linux_admin 135168 Jul 18 19:34 \u001b[01;34mSSP245/2061_2080/CanESM5/Output\u001b[0m/\r\n",
      "drwxrwxr-x 3 Azure_linux_admin Azure_linux_admin 135168 Jul 19 07:07 \u001b[01;34mSSP245/2061_2080/EC-Earth3-Veg-LR/Output\u001b[0m/\r\n",
      "drwxrwxr-x 3 Azure_linux_admin Azure_linux_admin 135168 Jul 19 07:14 \u001b[01;34mSSP245/2061_2080/EC-Earth3-Veg/Output\u001b[0m/\r\n",
      "drwxrwxr-x 3 Azure_linux_admin Azure_linux_admin 135168 Jul 19 07:21 \u001b[01;34mSSP245/2061_2080/FIO-ESM-2-0/Output\u001b[0m/\r\n",
      "drwxrwxr-x 3 Azure_linux_admin Azure_linux_admin 135168 Jul 19 07:28 \u001b[01;34mSSP245/2061_2080/GISS-E2-1-G/Output\u001b[0m/\r\n",
      "drwxrwxr-x 3 Azure_linux_admin Azure_linux_admin 135168 Jul 19 07:35 \u001b[01;34mSSP245/2061_2080/GISS-E2-1-H/Output\u001b[0m/\r\n",
      "drwxrwxr-x 3 Azure_linux_admin Azure_linux_admin 135168 Jul 19 07:43 \u001b[01;34mSSP245/2061_2080/HadGEM3-GC31-LL/Output\u001b[0m/\r\n",
      "drwxrwxr-x 3 Azure_linux_admin Azure_linux_admin 135168 Jul 19 07:50 \u001b[01;34mSSP245/2061_2080/INM-CM4-8/Output\u001b[0m/\r\n",
      "drwxrwxr-x 3 Azure_linux_admin Azure_linux_admin 135168 Jul 19 07:58 \u001b[01;34mSSP245/2061_2080/INM-CM5-0/Output\u001b[0m/\r\n",
      "drwxrwxr-x 3 Azure_linux_admin Azure_linux_admin 135168 Jul 19 08:05 \u001b[01;34mSSP245/2061_2080/IPSL-CM6A-LR/Output\u001b[0m/\r\n",
      "drwxrwxr-x 3 Azure_linux_admin Azure_linux_admin 135168 Jul 19 08:13 \u001b[01;34mSSP245/2061_2080/MIROC-ES2L/Output\u001b[0m/\r\n",
      "drwxrwxr-x 3 Azure_linux_admin Azure_linux_admin 135168 Jul 18 19:41 \u001b[01;34mSSP245/2061_2080/MIROC6/Output\u001b[0m/\r\n",
      "drwxrwxr-x 3 Azure_linux_admin Azure_linux_admin 135168 Jul 19 08:20 \u001b[01;34mSSP245/2061_2080/MPI-ESM1-2-HR/Output\u001b[0m/\r\n",
      "drwxrwxr-x 3 Azure_linux_admin Azure_linux_admin 135168 Jul 19 08:28 \u001b[01;34mSSP245/2061_2080/MPI-ESM1-2-LR/Output\u001b[0m/\r\n",
      "drwxrwxr-x 3 Azure_linux_admin Azure_linux_admin 135168 Jul 19 08:35 \u001b[01;34mSSP245/2061_2080/MRI-ESM2-0/Output\u001b[0m/\r\n",
      "drwxrwxr-x 3 Azure_linux_admin Azure_linux_admin 135168 Jul 19 08:43 \u001b[01;34mSSP245/2061_2080/UKESM1-0-LL/Output\u001b[0m/\r\n",
      "drwxrwxr-x 3 Azure_linux_admin Azure_linux_admin 135168 Jul 18 20:00 \u001b[01;34mSSP245/2081_2100/ACCESS-CM2/Output\u001b[0m/\r\n",
      "drwxrwxr-x 3 Azure_linux_admin Azure_linux_admin 135168 Jul 18 20:59 \u001b[01;34mSSP245/2081_2100/ACCESS-ESM1-5/Output\u001b[0m/\r\n",
      "drwxrwxr-x 3 Azure_linux_admin Azure_linux_admin 135168 Jul 18 20:07 \u001b[01;34mSSP245/2081_2100/BCC-CSM2-MR/Output\u001b[0m/\r\n",
      "drwxrwxr-x 3 Azure_linux_admin Azure_linux_admin 135168 Jul 18 21:06 \u001b[01;34mSSP245/2081_2100/CMCC-ESM2/Output\u001b[0m/\r\n",
      "drwxrwxr-x 3 Azure_linux_admin Azure_linux_admin 135168 Jul 18 21:13 \u001b[01;34mSSP245/2081_2100/CNRM-CM6-1-HR/Output\u001b[0m/\r\n",
      "drwxrwxr-x 3 Azure_linux_admin Azure_linux_admin 135168 Jul 18 21:20 \u001b[01;34mSSP245/2081_2100/CNRM-CM6-1/Output\u001b[0m/\r\n",
      "drwxrwxr-x 3 Azure_linux_admin Azure_linux_admin 135168 Jul 18 21:27 \u001b[01;34mSSP245/2081_2100/CNRM-ESM2-1/Output\u001b[0m/\r\n",
      "drwxrwxr-x 3 Azure_linux_admin Azure_linux_admin 135168 Jul 18 21:34 \u001b[01;34mSSP245/2081_2100/CanESM5-CanOE/Output\u001b[0m/\r\n",
      "drwxrwxr-x 3 Azure_linux_admin Azure_linux_admin 135168 Jul 18 20:13 \u001b[01;34mSSP245/2081_2100/CanESM5/Output\u001b[0m/\r\n",
      "drwxrwxr-x 3 Azure_linux_admin Azure_linux_admin 135168 Jul 18 21:41 \u001b[01;34mSSP245/2081_2100/EC-Earth3-Veg-LR/Output\u001b[0m/\r\n",
      "drwxrwxr-x 3 Azure_linux_admin Azure_linux_admin 135168 Jul 18 21:48 \u001b[01;34mSSP245/2081_2100/EC-Earth3-Veg/Output\u001b[0m/\r\n",
      "drwxrwxr-x 3 Azure_linux_admin Azure_linux_admin 135168 Jul 18 21:55 \u001b[01;34mSSP245/2081_2100/FIO-ESM-2-0/Output\u001b[0m/\r\n",
      "drwxrwxr-x 3 Azure_linux_admin Azure_linux_admin 135168 Jul 18 22:02 \u001b[01;34mSSP245/2081_2100/GISS-E2-1-G/Output\u001b[0m/\r\n",
      "drwxrwxr-x 3 Azure_linux_admin Azure_linux_admin 135168 Jul 18 22:09 \u001b[01;34mSSP245/2081_2100/GISS-E2-1-H/Output\u001b[0m/\r\n",
      "drwxrwxr-x 3 Azure_linux_admin Azure_linux_admin 135168 Jul 18 22:16 \u001b[01;34mSSP245/2081_2100/HadGEM3-GC31-LL/Output\u001b[0m/\r\n",
      "drwxrwxr-x 3 Azure_linux_admin Azure_linux_admin 135168 Jul 18 22:23 \u001b[01;34mSSP245/2081_2100/INM-CM4-8/Output\u001b[0m/\r\n",
      "drwxrwxr-x 3 Azure_linux_admin Azure_linux_admin 135168 Jul 18 22:30 \u001b[01;34mSSP245/2081_2100/INM-CM5-0/Output\u001b[0m/\r\n",
      "drwxrwxr-x 3 Azure_linux_admin Azure_linux_admin 135168 Jul 18 22:37 \u001b[01;34mSSP245/2081_2100/IPSL-CM6A-LR/Output\u001b[0m/\r\n",
      "drwxrwxr-x 3 Azure_linux_admin Azure_linux_admin 135168 Jul 18 22:44 \u001b[01;34mSSP245/2081_2100/MIROC-ES2L/Output\u001b[0m/\r\n",
      "drwxrwxr-x 3 Azure_linux_admin Azure_linux_admin 135168 Jul 18 20:20 \u001b[01;34mSSP245/2081_2100/MIROC6/Output\u001b[0m/\r\n",
      "drwxrwxr-x 3 Azure_linux_admin Azure_linux_admin 135168 Jul 18 22:51 \u001b[01;34mSSP245/2081_2100/MPI-ESM1-2-HR/Output\u001b[0m/\r\n",
      "drwxrwxr-x 3 Azure_linux_admin Azure_linux_admin 135168 Jul 18 22:58 \u001b[01;34mSSP245/2081_2100/MPI-ESM1-2-LR/Output\u001b[0m/\r\n",
      "drwxrwxr-x 3 Azure_linux_admin Azure_linux_admin 135168 Jul 18 23:05 \u001b[01;34mSSP245/2081_2100/MRI-ESM2-0/Output\u001b[0m/\r\n",
      "drwxrwxr-x 3 Azure_linux_admin Azure_linux_admin 135168 Jul 18 23:12 \u001b[01;34mSSP245/2081_2100/UKESM1-0-LL/Output\u001b[0m/\r\n"
     ]
    }
   ],
   "source": [
    "### Show files\n",
    "%ls -l -d SSP245/*/*/Output"
   ]
  },
  {
   "cell_type": "markdown",
   "id": "f5509f9a",
   "metadata": {},
   "source": [
    "### SSP 126: 25 Models\n",
    "\n",
    "- Should have 25 * 4 = 100"
   ]
  },
  {
   "cell_type": "code",
   "execution_count": 33,
   "id": "63943002",
   "metadata": {},
   "outputs": [
    {
     "name": "stdout",
     "output_type": "stream",
     "text": [
      "100\r\n"
     ]
    }
   ],
   "source": [
    "### Count folders\n",
    "%ls -l -d SSP126/*/*/Output | wc -l"
   ]
  },
  {
   "cell_type": "code",
   "execution_count": 34,
   "id": "7cd8ac71",
   "metadata": {
    "scrolled": true
   },
   "outputs": [
    {
     "name": "stdout",
     "output_type": "stream",
     "text": [
      "drwxrwxr-x 3 Azure_linux_admin Azure_linux_admin 135168 Jul 19 09:33 \u001b[0m\u001b[01;34mSSP126/2021_2040/ACCESS-CM2/Output\u001b[0m/\r\n",
      "drwxrwxr-x 3 Azure_linux_admin Azure_linux_admin 135168 Jul 19 09:33 \u001b[01;34mSSP126/2021_2040/ACCESS-ESM1-5/Output\u001b[0m/\r\n",
      "drwxrwxr-x 3 Azure_linux_admin Azure_linux_admin 135168 Jul 19 09:33 \u001b[01;34mSSP126/2021_2040/BCC-CSM2-MR/Output\u001b[0m/\r\n",
      "drwxrwxr-x 3 Azure_linux_admin Azure_linux_admin 135168 Jul 19 09:35 \u001b[01;34mSSP126/2021_2040/CMCC-ESM2/Output\u001b[0m/\r\n",
      "drwxrwxr-x 3 Azure_linux_admin Azure_linux_admin 135168 Jul 19 09:36 \u001b[01;34mSSP126/2021_2040/CNRM-CM6-1-HR/Output\u001b[0m/\r\n",
      "drwxrwxr-x 3 Azure_linux_admin Azure_linux_admin 135168 Jul 19 09:35 \u001b[01;34mSSP126/2021_2040/CNRM-CM6-1/Output\u001b[0m/\r\n",
      "drwxrwxr-x 3 Azure_linux_admin Azure_linux_admin 135168 Jul 19 09:36 \u001b[01;34mSSP126/2021_2040/CNRM-ESM2-1/Output\u001b[0m/\r\n",
      "drwxrwxr-x 3 Azure_linux_admin Azure_linux_admin 135168 Jul 19 09:34 \u001b[01;34mSSP126/2021_2040/CanESM5-CanOE/Output\u001b[0m/\r\n",
      "drwxrwxr-x 3 Azure_linux_admin Azure_linux_admin 135168 Jul 19 09:34 \u001b[01;34mSSP126/2021_2040/CanESM5/Output\u001b[0m/\r\n",
      "drwxrwxr-x 3 Azure_linux_admin Azure_linux_admin 135168 Jul 19 09:37 \u001b[01;34mSSP126/2021_2040/EC-Earth3-Veg-LR/Output\u001b[0m/\r\n",
      "drwxrwxr-x 3 Azure_linux_admin Azure_linux_admin 135168 Jul 19 09:37 \u001b[01;34mSSP126/2021_2040/EC-Earth3-Veg/Output\u001b[0m/\r\n",
      "drwxrwxr-x 3 Azure_linux_admin Azure_linux_admin 135168 Jul 19 09:38 \u001b[01;34mSSP126/2021_2040/FIO-ESM-2-0/Output\u001b[0m/\r\n",
      "drwxrwxr-x 3 Azure_linux_admin Azure_linux_admin 135168 Jul 19 09:32 \u001b[01;34mSSP126/2021_2040/GFDL-ESM4/Output\u001b[0m/\r\n",
      "drwxrwxr-x 3 Azure_linux_admin Azure_linux_admin 135168 Jul 19 09:38 \u001b[01;34mSSP126/2021_2040/GISS-E2-1-G/Output\u001b[0m/\r\n",
      "drwxrwxr-x 3 Azure_linux_admin Azure_linux_admin 135168 Jul 19 09:39 \u001b[01;34mSSP126/2021_2040/GISS-E2-1-H/Output\u001b[0m/\r\n",
      "drwxrwxr-x 3 Azure_linux_admin Azure_linux_admin 135168 Jul 19 09:39 \u001b[01;34mSSP126/2021_2040/HadGEM3-GC31-LL/Output\u001b[0m/\r\n",
      "drwxrwxr-x 3 Azure_linux_admin Azure_linux_admin 135168 Jul 19 09:40 \u001b[01;34mSSP126/2021_2040/INM-CM4-8/Output\u001b[0m/\r\n",
      "drwxrwxr-x 3 Azure_linux_admin Azure_linux_admin 135168 Jul 19 09:40 \u001b[01;34mSSP126/2021_2040/INM-CM5-0/Output\u001b[0m/\r\n",
      "drwxrwxr-x 3 Azure_linux_admin Azure_linux_admin 135168 Jul 19 09:41 \u001b[01;34mSSP126/2021_2040/IPSL-CM6A-LR/Output\u001b[0m/\r\n",
      "drwxrwxr-x 3 Azure_linux_admin Azure_linux_admin 135168 Jul 19 09:41 \u001b[01;34mSSP126/2021_2040/MIROC-ES2L/Output\u001b[0m/\r\n",
      "drwxrwxr-x 3 Azure_linux_admin Azure_linux_admin 135168 Jul 19 09:42 \u001b[01;34mSSP126/2021_2040/MIROC6/Output\u001b[0m/\r\n",
      "drwxrwxr-x 3 Azure_linux_admin Azure_linux_admin 135168 Jul 19 09:42 \u001b[01;34mSSP126/2021_2040/MPI-ESM1-2-HR/Output\u001b[0m/\r\n",
      "drwxrwxr-x 3 Azure_linux_admin Azure_linux_admin 135168 Jul 19 09:43 \u001b[01;34mSSP126/2021_2040/MPI-ESM1-2-LR/Output\u001b[0m/\r\n",
      "drwxrwxr-x 3 Azure_linux_admin Azure_linux_admin 135168 Jul 19 09:43 \u001b[01;34mSSP126/2021_2040/MRI-ESM2-0/Output\u001b[0m/\r\n",
      "drwxrwxr-x 3 Azure_linux_admin Azure_linux_admin 135168 Jul 19 09:32 \u001b[01;34mSSP126/2021_2040/UKESM1-0-LL/Output\u001b[0m/\r\n",
      "drwxrwxr-x 3 Azure_linux_admin Azure_linux_admin 135168 Jul 19 14:33 \u001b[01;34mSSP126/2041_2060/ACCESS-CM2/Output\u001b[0m/\r\n",
      "drwxrwxr-x 3 Azure_linux_admin Azure_linux_admin 135168 Jul 19 14:34 \u001b[01;34mSSP126/2041_2060/ACCESS-ESM1-5/Output\u001b[0m/\r\n",
      "drwxrwxr-x 3 Azure_linux_admin Azure_linux_admin 135168 Jul 19 14:34 \u001b[01;34mSSP126/2041_2060/BCC-CSM2-MR/Output\u001b[0m/\r\n",
      "drwxrwxr-x 3 Azure_linux_admin Azure_linux_admin 135168 Jul 19 14:35 \u001b[01;34mSSP126/2041_2060/CMCC-ESM2/Output\u001b[0m/\r\n",
      "drwxrwxr-x 3 Azure_linux_admin Azure_linux_admin 135168 Jul 19 14:36 \u001b[01;34mSSP126/2041_2060/CNRM-CM6-1-HR/Output\u001b[0m/\r\n",
      "drwxrwxr-x 3 Azure_linux_admin Azure_linux_admin 135168 Jul 19 14:36 \u001b[01;34mSSP126/2041_2060/CNRM-CM6-1/Output\u001b[0m/\r\n",
      "drwxrwxr-x 3 Azure_linux_admin Azure_linux_admin 135168 Jul 19 14:37 \u001b[01;34mSSP126/2041_2060/CNRM-ESM2-1/Output\u001b[0m/\r\n",
      "drwxrwxr-x 3 Azure_linux_admin Azure_linux_admin 135168 Jul 19 14:35 \u001b[01;34mSSP126/2041_2060/CanESM5-CanOE/Output\u001b[0m/\r\n",
      "drwxrwxr-x 3 Azure_linux_admin Azure_linux_admin 135168 Jul 19 14:35 \u001b[01;34mSSP126/2041_2060/CanESM5/Output\u001b[0m/\r\n",
      "drwxrwxr-x 3 Azure_linux_admin Azure_linux_admin 135168 Jul 19 14:38 \u001b[01;34mSSP126/2041_2060/EC-Earth3-Veg-LR/Output\u001b[0m/\r\n",
      "drwxrwxr-x 3 Azure_linux_admin Azure_linux_admin 135168 Jul 19 14:37 \u001b[01;34mSSP126/2041_2060/EC-Earth3-Veg/Output\u001b[0m/\r\n",
      "drwxrwxr-x 3 Azure_linux_admin Azure_linux_admin 135168 Jul 19 14:38 \u001b[01;34mSSP126/2041_2060/FIO-ESM-2-0/Output\u001b[0m/\r\n",
      "drwxrwxr-x 3 Azure_linux_admin Azure_linux_admin 135168 Jul 19 14:32 \u001b[01;34mSSP126/2041_2060/GFDL-ESM4/Output\u001b[0m/\r\n",
      "drwxrwxr-x 3 Azure_linux_admin Azure_linux_admin 135168 Jul 19 14:39 \u001b[01;34mSSP126/2041_2060/GISS-E2-1-G/Output\u001b[0m/\r\n",
      "drwxrwxr-x 3 Azure_linux_admin Azure_linux_admin 135168 Jul 19 14:39 \u001b[01;34mSSP126/2041_2060/GISS-E2-1-H/Output\u001b[0m/\r\n",
      "drwxrwxr-x 3 Azure_linux_admin Azure_linux_admin 135168 Jul 19 14:39 \u001b[01;34mSSP126/2041_2060/HadGEM3-GC31-LL/Output\u001b[0m/\r\n",
      "drwxrwxr-x 3 Azure_linux_admin Azure_linux_admin 135168 Jul 19 14:40 \u001b[01;34mSSP126/2041_2060/INM-CM4-8/Output\u001b[0m/\r\n",
      "drwxrwxr-x 3 Azure_linux_admin Azure_linux_admin 135168 Jul 19 14:40 \u001b[01;34mSSP126/2041_2060/INM-CM5-0/Output\u001b[0m/\r\n",
      "drwxrwxr-x 3 Azure_linux_admin Azure_linux_admin 135168 Jul 19 14:41 \u001b[01;34mSSP126/2041_2060/IPSL-CM6A-LR/Output\u001b[0m/\r\n",
      "drwxrwxr-x 3 Azure_linux_admin Azure_linux_admin 135168 Jul 19 14:41 \u001b[01;34mSSP126/2041_2060/MIROC-ES2L/Output\u001b[0m/\r\n",
      "drwxrwxr-x 3 Azure_linux_admin Azure_linux_admin 135168 Jul 19 14:42 \u001b[01;34mSSP126/2041_2060/MIROC6/Output\u001b[0m/\r\n",
      "drwxrwxr-x 3 Azure_linux_admin Azure_linux_admin 135168 Jul 19 14:42 \u001b[01;34mSSP126/2041_2060/MPI-ESM1-2-HR/Output\u001b[0m/\r\n",
      "drwxrwxr-x 3 Azure_linux_admin Azure_linux_admin 135168 Jul 19 14:43 \u001b[01;34mSSP126/2041_2060/MPI-ESM1-2-LR/Output\u001b[0m/\r\n",
      "drwxrwxr-x 3 Azure_linux_admin Azure_linux_admin 135168 Jul 19 14:43 \u001b[01;34mSSP126/2041_2060/MRI-ESM2-0/Output\u001b[0m/\r\n",
      "drwxrwxr-x 3 Azure_linux_admin Azure_linux_admin 135168 Jul 19 14:33 \u001b[01;34mSSP126/2041_2060/UKESM1-0-LL/Output\u001b[0m/\r\n",
      "drwxrwxr-x 3 Azure_linux_admin Azure_linux_admin 135168 Jul 19 06:04 \u001b[01;34mSSP126/2061_2080/ACCESS-CM2/Output\u001b[0m/\r\n",
      "drwxrwxr-x 3 Azure_linux_admin Azure_linux_admin 135168 Jul 19 06:05 \u001b[01;34mSSP126/2061_2080/ACCESS-ESM1-5/Output\u001b[0m/\r\n",
      "drwxrwxr-x 3 Azure_linux_admin Azure_linux_admin 135168 Jul 19 06:05 \u001b[01;34mSSP126/2061_2080/BCC-CSM2-MR/Output\u001b[0m/\r\n",
      "drwxrwxr-x 3 Azure_linux_admin Azure_linux_admin 135168 Jul 19 06:06 \u001b[01;34mSSP126/2061_2080/CMCC-ESM2/Output\u001b[0m/\r\n",
      "drwxrwxr-x 3 Azure_linux_admin Azure_linux_admin 135168 Jul 19 06:07 \u001b[01;34mSSP126/2061_2080/CNRM-CM6-1-HR/Output\u001b[0m/\r\n",
      "drwxrwxr-x 3 Azure_linux_admin Azure_linux_admin 135168 Jul 19 06:07 \u001b[01;34mSSP126/2061_2080/CNRM-CM6-1/Output\u001b[0m/\r\n",
      "drwxrwxr-x 3 Azure_linux_admin Azure_linux_admin 135168 Jul 19 06:08 \u001b[01;34mSSP126/2061_2080/CNRM-ESM2-1/Output\u001b[0m/\r\n",
      "drwxrwxr-x 3 Azure_linux_admin Azure_linux_admin 135168 Jul 19 06:06 \u001b[01;34mSSP126/2061_2080/CanESM5-CanOE/Output\u001b[0m/\r\n",
      "drwxrwxr-x 3 Azure_linux_admin Azure_linux_admin 135168 Jul 19 06:06 \u001b[01;34mSSP126/2061_2080/CanESM5/Output\u001b[0m/\r\n",
      "drwxrwxr-x 3 Azure_linux_admin Azure_linux_admin 135168 Jul 19 06:09 \u001b[01;34mSSP126/2061_2080/EC-Earth3-Veg-LR/Output\u001b[0m/\r\n",
      "drwxrwxr-x 3 Azure_linux_admin Azure_linux_admin 135168 Jul 19 06:08 \u001b[01;34mSSP126/2061_2080/EC-Earth3-Veg/Output\u001b[0m/\r\n",
      "drwxrwxr-x 3 Azure_linux_admin Azure_linux_admin 135168 Jul 19 06:09 \u001b[01;34mSSP126/2061_2080/FIO-ESM-2-0/Output\u001b[0m/\r\n",
      "drwxrwxr-x 3 Azure_linux_admin Azure_linux_admin 135168 Jul 19 06:15 \u001b[01;34mSSP126/2061_2080/GFDL-ESM4/Output\u001b[0m/\r\n",
      "drwxrwxr-x 3 Azure_linux_admin Azure_linux_admin 135168 Jul 19 06:10 \u001b[01;34mSSP126/2061_2080/GISS-E2-1-G/Output\u001b[0m/\r\n",
      "drwxrwxr-x 3 Azure_linux_admin Azure_linux_admin 135168 Jul 19 06:10 \u001b[01;34mSSP126/2061_2080/GISS-E2-1-H/Output\u001b[0m/\r\n",
      "drwxrwxr-x 3 Azure_linux_admin Azure_linux_admin 135168 Jul 19 06:11 \u001b[01;34mSSP126/2061_2080/HadGEM3-GC31-LL/Output\u001b[0m/\r\n",
      "drwxrwxr-x 3 Azure_linux_admin Azure_linux_admin 135168 Jul 19 06:11 \u001b[01;34mSSP126/2061_2080/INM-CM4-8/Output\u001b[0m/\r\n",
      "drwxrwxr-x 3 Azure_linux_admin Azure_linux_admin 135168 Jul 19 06:11 \u001b[01;34mSSP126/2061_2080/INM-CM5-0/Output\u001b[0m/\r\n",
      "drwxrwxr-x 3 Azure_linux_admin Azure_linux_admin 135168 Jul 19 06:12 \u001b[01;34mSSP126/2061_2080/IPSL-CM6A-LR/Output\u001b[0m/\r\n",
      "drwxrwxr-x 3 Azure_linux_admin Azure_linux_admin 135168 Jul 19 06:12 \u001b[01;34mSSP126/2061_2080/MIROC-ES2L/Output\u001b[0m/\r\n",
      "drwxrwxr-x 3 Azure_linux_admin Azure_linux_admin 135168 Jul 19 06:13 \u001b[01;34mSSP126/2061_2080/MIROC6/Output\u001b[0m/\r\n",
      "drwxrwxr-x 3 Azure_linux_admin Azure_linux_admin 135168 Jul 19 06:13 \u001b[01;34mSSP126/2061_2080/MPI-ESM1-2-HR/Output\u001b[0m/\r\n",
      "drwxrwxr-x 3 Azure_linux_admin Azure_linux_admin 135168 Jul 19 06:14 \u001b[01;34mSSP126/2061_2080/MPI-ESM1-2-LR/Output\u001b[0m/\r\n",
      "drwxrwxr-x 3 Azure_linux_admin Azure_linux_admin 135168 Jul 19 06:14 \u001b[01;34mSSP126/2061_2080/MRI-ESM2-0/Output\u001b[0m/\r\n",
      "drwxrwxr-x 3 Azure_linux_admin Azure_linux_admin 135168 Jul 19 06:14 \u001b[01;34mSSP126/2061_2080/UKESM1-0-LL/Output\u001b[0m/\r\n",
      "drwxrwxr-x 3 Azure_linux_admin Azure_linux_admin 135168 Jul 19 11:09 \u001b[01;34mSSP126/2081_2100/ACCESS-CM2/Output\u001b[0m/\r\n",
      "drwxrwxr-x 3 Azure_linux_admin Azure_linux_admin 135168 Jul 19 11:16 \u001b[01;34mSSP126/2081_2100/ACCESS-ESM1-5/Output\u001b[0m/\r\n",
      "drwxrwxr-x 3 Azure_linux_admin Azure_linux_admin 135168 Jul 19 11:24 \u001b[01;34mSSP126/2081_2100/BCC-CSM2-MR/Output\u001b[0m/\r\n",
      "drwxrwxr-x 3 Azure_linux_admin Azure_linux_admin 135168 Jul 19 11:46 \u001b[01;34mSSP126/2081_2100/CMCC-ESM2/Output\u001b[0m/\r\n",
      "drwxrwxr-x 3 Azure_linux_admin Azure_linux_admin 135168 Jul 19 12:01 \u001b[01;34mSSP126/2081_2100/CNRM-CM6-1-HR/Output\u001b[0m/\r\n",
      "drwxrwxr-x 3 Azure_linux_admin Azure_linux_admin 135168 Jul 19 11:53 \u001b[01;34mSSP126/2081_2100/CNRM-CM6-1/Output\u001b[0m/\r\n",
      "drwxrwxr-x 3 Azure_linux_admin Azure_linux_admin 135168 Jul 19 12:08 \u001b[01;34mSSP126/2081_2100/CNRM-ESM2-1/Output\u001b[0m/\r\n",
      "drwxrwxr-x 3 Azure_linux_admin Azure_linux_admin 135168 Jul 19 11:38 \u001b[01;34mSSP126/2081_2100/CanESM5-CanOE/Output\u001b[0m/\r\n",
      "drwxrwxr-x 3 Azure_linux_admin Azure_linux_admin 135168 Jul 19 11:31 \u001b[01;34mSSP126/2081_2100/CanESM5/Output\u001b[0m/\r\n",
      "drwxrwxr-x 3 Azure_linux_admin Azure_linux_admin 135168 Jul 19 12:23 \u001b[01;34mSSP126/2081_2100/EC-Earth3-Veg-LR/Output\u001b[0m/\r\n",
      "drwxrwxr-x 3 Azure_linux_admin Azure_linux_admin 135168 Jul 19 12:16 \u001b[01;34mSSP126/2081_2100/EC-Earth3-Veg/Output\u001b[0m/\r\n",
      "drwxrwxr-x 3 Azure_linux_admin Azure_linux_admin 135168 Jul 19 12:31 \u001b[01;34mSSP126/2081_2100/FIO-ESM-2-0/Output\u001b[0m/\r\n",
      "drwxrwxr-x 3 Azure_linux_admin Azure_linux_admin 135168 Jul 19 10:54 \u001b[01;34mSSP126/2081_2100/GFDL-ESM4/Output\u001b[0m/\r\n",
      "drwxrwxr-x 3 Azure_linux_admin Azure_linux_admin 135168 Jul 19 12:39 \u001b[01;34mSSP126/2081_2100/GISS-E2-1-G/Output\u001b[0m/\r\n",
      "drwxrwxr-x 3 Azure_linux_admin Azure_linux_admin 135168 Jul 19 12:46 \u001b[01;34mSSP126/2081_2100/GISS-E2-1-H/Output\u001b[0m/\r\n",
      "drwxrwxr-x 3 Azure_linux_admin Azure_linux_admin 135168 Jul 19 12:54 \u001b[01;34mSSP126/2081_2100/HadGEM3-GC31-LL/Output\u001b[0m/\r\n",
      "drwxrwxr-x 3 Azure_linux_admin Azure_linux_admin 135168 Jul 19 13:01 \u001b[01;34mSSP126/2081_2100/INM-CM4-8/Output\u001b[0m/\r\n",
      "drwxrwxr-x 3 Azure_linux_admin Azure_linux_admin 135168 Jul 19 13:09 \u001b[01;34mSSP126/2081_2100/INM-CM5-0/Output\u001b[0m/\r\n",
      "drwxrwxr-x 3 Azure_linux_admin Azure_linux_admin 135168 Jul 19 13:16 \u001b[01;34mSSP126/2081_2100/IPSL-CM6A-LR/Output\u001b[0m/\r\n",
      "drwxrwxr-x 3 Azure_linux_admin Azure_linux_admin 135168 Jul 19 13:24 \u001b[01;34mSSP126/2081_2100/MIROC-ES2L/Output\u001b[0m/\r\n",
      "drwxrwxr-x 3 Azure_linux_admin Azure_linux_admin 135168 Jul 19 13:31 \u001b[01;34mSSP126/2081_2100/MIROC6/Output\u001b[0m/\r\n",
      "drwxrwxr-x 3 Azure_linux_admin Azure_linux_admin 135168 Jul 19 13:39 \u001b[01;34mSSP126/2081_2100/MPI-ESM1-2-HR/Output\u001b[0m/\r\n",
      "drwxrwxr-x 3 Azure_linux_admin Azure_linux_admin 135168 Jul 19 13:46 \u001b[01;34mSSP126/2081_2100/MPI-ESM1-2-LR/Output\u001b[0m/\r\n",
      "drwxrwxr-x 3 Azure_linux_admin Azure_linux_admin 135168 Jul 19 13:54 \u001b[01;34mSSP126/2081_2100/MRI-ESM2-0/Output\u001b[0m/\r\n",
      "drwxrwxr-x 3 Azure_linux_admin Azure_linux_admin 135168 Jul 19 11:02 \u001b[01;34mSSP126/2081_2100/UKESM1-0-LL/Output\u001b[0m/\r\n"
     ]
    }
   ],
   "source": [
    "### Show files\n",
    "%ls -l -d SSP126/*/*/Output"
   ]
  },
  {
   "cell_type": "markdown",
   "id": "40604f11",
   "metadata": {},
   "source": [
    "## Write Model Median for each specie"
   ]
  },
  {
   "cell_type": "code",
   "execution_count": 4,
   "id": "0fa5920d",
   "metadata": {},
   "outputs": [
    {
     "name": "stdout",
     "output_type": "stream",
     "text": [
      "Scenario: SSP245\n",
      "Year: 2021_2040\n",
      "Acacia_nilotica\n",
      "Getting Median for: Acacia_nilotica\n",
      "Writing Median to: Species_Output\n",
      "Year: 2041_2060\n",
      "Acacia_nilotica\n",
      "Getting Median for: Acacia_nilotica\n",
      "Writing Median to: Species_Output\n",
      "Year: 2061_2080\n",
      "Acacia_nilotica\n",
      "Getting Median for: Acacia_nilotica\n",
      "Writing Median to: Species_Output\n",
      "Year: 2081_2100\n",
      "Acacia_nilotica\n",
      "Getting Median for: Acacia_nilotica\n",
      "Writing Median to: Species_Output\n"
     ]
    }
   ],
   "source": [
    "species = ['Acacia_nilotica']\n",
    "\n",
    "for i in os.listdir():\n",
    "### Walk through each Scenario\n",
    "    for s in ['SSP245']:\n",
    "        if i == s:\n",
    "            print('Scenario:',s)\n",
    "            Sdir = os.path.join(s)\n",
    "### Walk through each Period \n",
    "            for year in os.listdir(Sdir):\n",
    "                print('Year:',year)\n",
    "                Ydir = os.path.join(s,year)\n",
    "                SpecieDir = os.path.join('Species_Output')\n",
    "                if not os.path.exists(SpecieDir):\n",
    "                    os.mkdir(SpecieDir)\n",
    "                for specie in species:\n",
    "                    spec = specie + '_ASCII_avg.asc'\n",
    "                    print(specie)\n",
    "                    filelist = files = glob.glob(os.path.join(r'{}'.format(Ydir),'*','Output','{}'.format(spec)))\n",
    "                    tci_images = []\n",
    "                    profile = None\n",
    "                    for file in filelist:\n",
    "                        if profile is None:\n",
    "                            temp_img = rio.open(file)\n",
    "                            profile = temp_img.profile\n",
    "                        tci_images.append(rxr.open_rasterio(file, chunks={'x': 1000, 'y': 1000}))\n",
    "                    comp = xr.concat(tci_images, dim='band')\n",
    "                    print('Getting Median for:', specie)\n",
    "                    median = comp.median(dim='band', keep_attrs=True,skipna=True)\n",
    "                    print('Writing Median to:',SpecieDir)\n",
    "                    median.rio.to_raster(os.path.join(SpecieDir, specie+'_{}_'.format(s)+'_{}_'.format(year)+'ASCII.tif'))"
   ]
  },
  {
   "cell_type": "code",
   "execution_count": 20,
   "id": "2953ef09",
   "metadata": {},
   "outputs": [
    {
     "name": "stdout",
     "output_type": "stream",
     "text": [
      "Scenario: SSP585\n",
      "Year: 2021_2040\n",
      "Acacia_nilotica\n",
      "Getting Median for: Acacia_nilotica\n",
      "Writing Median to: Species_Output_New\n",
      "Albizia_procera\n",
      "Getting Median for: Albizia_procera\n",
      "Writing Median to: Species_Output_New\n",
      "Clibadium_surinamense_L.\n",
      "Getting Median for: Clibadium_surinamense_L.\n",
      "Writing Median to: Species_Output_New\n",
      "Hedychium_flavescens_Carey_ex_Roscoe\n",
      "Getting Median for: Hedychium_flavescens_Carey_ex_Roscoe\n",
      "Writing Median to: Species_Output_New\n",
      "Hiptage_benghalensis__L.__Kurz\n",
      "Getting Median for: Hiptage_benghalensis__L.__Kurz\n",
      "Writing Median to: Species_Output_New\n",
      "Leucaena_leucocephala__Lam.__De_Wit\n",
      "Getting Median for: Leucaena_leucocephala__Lam.__De_Wit\n",
      "Writing Median to: Species_Output_New\n",
      "Pithecellobium_dulce__Roxb.__Benth.\n",
      "Getting Median for: Pithecellobium_dulce__Roxb.__Benth.\n",
      "Writing Median to: Species_Output_New\n",
      "Pithecellobium_unguis-cati__L.__Benth.\n",
      "Getting Median for: Pithecellobium_unguis-cati__L.__Benth.\n",
      "Writing Median to: Species_Output_New\n",
      "Psidium_cattleianum_Afzel._ex_Sabine\n",
      "Getting Median for: Psidium_cattleianum_Afzel._ex_Sabine\n",
      "Writing Median to: Species_Output_New\n",
      "Ravenala_madagascariensis_Sonn.\n",
      "Getting Median for: Ravenala_madagascariensis_Sonn.\n",
      "Writing Median to: Species_Output_New\n",
      "Schinus_terebinthifolius_Raddi\n",
      "Getting Median for: Schinus_terebinthifolius_Raddi\n",
      "Writing Median to: Species_Output_New\n",
      "Syzygium_jambos__L.__Alston\n",
      "Getting Median for: Syzygium_jambos__L.__Alston\n",
      "Writing Median to: Species_Output_New\n",
      "Tabebuia_pallida__Lindl.__Miers\n",
      "Getting Median for: Tabebuia_pallida__Lindl.__Miers\n",
      "Writing Median to: Species_Output_New\n",
      "Tecoma_stans__L.__Juss._ex_Kunth\n",
      "Getting Median for: Tecoma_stans__L.__Juss._ex_Kunth\n",
      "Writing Median to: Species_Output_New\n",
      "Year: 2041_2060\n",
      "Acacia_nilotica\n",
      "Getting Median for: Acacia_nilotica\n",
      "Writing Median to: Species_Output_New\n",
      "Albizia_procera\n",
      "Getting Median for: Albizia_procera\n",
      "Writing Median to: Species_Output_New\n",
      "Clibadium_surinamense_L.\n",
      "Getting Median for: Clibadium_surinamense_L.\n",
      "Writing Median to: Species_Output_New\n",
      "Hedychium_flavescens_Carey_ex_Roscoe\n",
      "Getting Median for: Hedychium_flavescens_Carey_ex_Roscoe\n",
      "Writing Median to: Species_Output_New\n",
      "Hiptage_benghalensis__L.__Kurz\n",
      "Getting Median for: Hiptage_benghalensis__L.__Kurz\n",
      "Writing Median to: Species_Output_New\n",
      "Leucaena_leucocephala__Lam.__De_Wit\n",
      "Getting Median for: Leucaena_leucocephala__Lam.__De_Wit\n",
      "Writing Median to: Species_Output_New\n",
      "Pithecellobium_dulce__Roxb.__Benth.\n",
      "Getting Median for: Pithecellobium_dulce__Roxb.__Benth.\n",
      "Writing Median to: Species_Output_New\n",
      "Pithecellobium_unguis-cati__L.__Benth.\n",
      "Getting Median for: Pithecellobium_unguis-cati__L.__Benth.\n",
      "Writing Median to: Species_Output_New\n",
      "Psidium_cattleianum_Afzel._ex_Sabine\n",
      "Getting Median for: Psidium_cattleianum_Afzel._ex_Sabine\n",
      "Writing Median to: Species_Output_New\n",
      "Ravenala_madagascariensis_Sonn.\n",
      "Getting Median for: Ravenala_madagascariensis_Sonn.\n",
      "Writing Median to: Species_Output_New\n",
      "Schinus_terebinthifolius_Raddi\n",
      "Getting Median for: Schinus_terebinthifolius_Raddi\n",
      "Writing Median to: Species_Output_New\n",
      "Syzygium_jambos__L.__Alston\n",
      "Getting Median for: Syzygium_jambos__L.__Alston\n",
      "Writing Median to: Species_Output_New\n",
      "Tabebuia_pallida__Lindl.__Miers\n",
      "Getting Median for: Tabebuia_pallida__Lindl.__Miers\n",
      "Writing Median to: Species_Output_New\n",
      "Tecoma_stans__L.__Juss._ex_Kunth\n",
      "Getting Median for: Tecoma_stans__L.__Juss._ex_Kunth\n",
      "Writing Median to: Species_Output_New\n",
      "Year: 2061_2080\n",
      "Acacia_nilotica\n",
      "Getting Median for: Acacia_nilotica\n",
      "Writing Median to: Species_Output_New\n",
      "Albizia_procera\n",
      "Getting Median for: Albizia_procera\n",
      "Writing Median to: Species_Output_New\n",
      "Clibadium_surinamense_L.\n",
      "Getting Median for: Clibadium_surinamense_L.\n",
      "Writing Median to: Species_Output_New\n",
      "Hedychium_flavescens_Carey_ex_Roscoe\n",
      "Getting Median for: Hedychium_flavescens_Carey_ex_Roscoe\n",
      "Writing Median to: Species_Output_New\n",
      "Hiptage_benghalensis__L.__Kurz\n",
      "Getting Median for: Hiptage_benghalensis__L.__Kurz\n",
      "Writing Median to: Species_Output_New\n",
      "Leucaena_leucocephala__Lam.__De_Wit\n",
      "Getting Median for: Leucaena_leucocephala__Lam.__De_Wit\n",
      "Writing Median to: Species_Output_New\n",
      "Pithecellobium_dulce__Roxb.__Benth.\n",
      "Getting Median for: Pithecellobium_dulce__Roxb.__Benth.\n",
      "Writing Median to: Species_Output_New\n",
      "Pithecellobium_unguis-cati__L.__Benth.\n",
      "Getting Median for: Pithecellobium_unguis-cati__L.__Benth.\n",
      "Writing Median to: Species_Output_New\n",
      "Psidium_cattleianum_Afzel._ex_Sabine\n",
      "Getting Median for: Psidium_cattleianum_Afzel._ex_Sabine\n",
      "Writing Median to: Species_Output_New\n",
      "Ravenala_madagascariensis_Sonn.\n",
      "Getting Median for: Ravenala_madagascariensis_Sonn.\n",
      "Writing Median to: Species_Output_New\n",
      "Schinus_terebinthifolius_Raddi\n",
      "Getting Median for: Schinus_terebinthifolius_Raddi\n",
      "Writing Median to: Species_Output_New\n",
      "Syzygium_jambos__L.__Alston\n",
      "Getting Median for: Syzygium_jambos__L.__Alston\n",
      "Writing Median to: Species_Output_New\n",
      "Tabebuia_pallida__Lindl.__Miers\n",
      "Getting Median for: Tabebuia_pallida__Lindl.__Miers\n",
      "Writing Median to: Species_Output_New\n",
      "Tecoma_stans__L.__Juss._ex_Kunth\n",
      "Getting Median for: Tecoma_stans__L.__Juss._ex_Kunth\n",
      "Writing Median to: Species_Output_New\n",
      "Year: 2081_2100\n",
      "Acacia_nilotica\n",
      "Getting Median for: Acacia_nilotica\n",
      "Writing Median to: Species_Output_New\n",
      "Albizia_procera\n",
      "Getting Median for: Albizia_procera\n",
      "Writing Median to: Species_Output_New\n",
      "Clibadium_surinamense_L.\n",
      "Getting Median for: Clibadium_surinamense_L.\n",
      "Writing Median to: Species_Output_New\n",
      "Hedychium_flavescens_Carey_ex_Roscoe\n",
      "Getting Median for: Hedychium_flavescens_Carey_ex_Roscoe\n",
      "Writing Median to: Species_Output_New\n",
      "Hiptage_benghalensis__L.__Kurz\n",
      "Getting Median for: Hiptage_benghalensis__L.__Kurz\n",
      "Writing Median to: Species_Output_New\n",
      "Leucaena_leucocephala__Lam.__De_Wit\n",
      "Getting Median for: Leucaena_leucocephala__Lam.__De_Wit\n",
      "Writing Median to: Species_Output_New\n",
      "Pithecellobium_dulce__Roxb.__Benth.\n",
      "Getting Median for: Pithecellobium_dulce__Roxb.__Benth.\n",
      "Writing Median to: Species_Output_New\n",
      "Pithecellobium_unguis-cati__L.__Benth.\n",
      "Getting Median for: Pithecellobium_unguis-cati__L.__Benth.\n",
      "Writing Median to: Species_Output_New\n",
      "Psidium_cattleianum_Afzel._ex_Sabine\n",
      "Getting Median for: Psidium_cattleianum_Afzel._ex_Sabine\n",
      "Writing Median to: Species_Output_New\n",
      "Ravenala_madagascariensis_Sonn.\n",
      "Getting Median for: Ravenala_madagascariensis_Sonn.\n",
      "Writing Median to: Species_Output_New\n",
      "Schinus_terebinthifolius_Raddi\n",
      "Getting Median for: Schinus_terebinthifolius_Raddi\n",
      "Writing Median to: Species_Output_New\n",
      "Syzygium_jambos__L.__Alston\n",
      "Getting Median for: Syzygium_jambos__L.__Alston\n",
      "Writing Median to: Species_Output_New\n",
      "Tabebuia_pallida__Lindl.__Miers\n",
      "Getting Median for: Tabebuia_pallida__Lindl.__Miers\n",
      "Writing Median to: Species_Output_New\n",
      "Tecoma_stans__L.__Juss._ex_Kunth\n",
      "Getting Median for: Tecoma_stans__L.__Juss._ex_Kunth\n",
      "Writing Median to: Species_Output_New\n",
      "Scenario: SSP370\n",
      "Year: 2021_2040\n",
      "Acacia_nilotica\n",
      "Getting Median for: Acacia_nilotica\n",
      "Writing Median to: Species_Output_New\n",
      "Albizia_procera\n",
      "Getting Median for: Albizia_procera\n",
      "Writing Median to: Species_Output_New\n",
      "Clibadium_surinamense_L.\n",
      "Getting Median for: Clibadium_surinamense_L.\n",
      "Writing Median to: Species_Output_New\n",
      "Hedychium_flavescens_Carey_ex_Roscoe\n",
      "Getting Median for: Hedychium_flavescens_Carey_ex_Roscoe\n",
      "Writing Median to: Species_Output_New\n",
      "Hiptage_benghalensis__L.__Kurz\n",
      "Getting Median for: Hiptage_benghalensis__L.__Kurz\n",
      "Writing Median to: Species_Output_New\n",
      "Leucaena_leucocephala__Lam.__De_Wit\n",
      "Getting Median for: Leucaena_leucocephala__Lam.__De_Wit\n",
      "Writing Median to: Species_Output_New\n",
      "Pithecellobium_dulce__Roxb.__Benth.\n",
      "Getting Median for: Pithecellobium_dulce__Roxb.__Benth.\n",
      "Writing Median to: Species_Output_New\n",
      "Pithecellobium_unguis-cati__L.__Benth.\n",
      "Getting Median for: Pithecellobium_unguis-cati__L.__Benth.\n",
      "Writing Median to: Species_Output_New\n",
      "Psidium_cattleianum_Afzel._ex_Sabine\n",
      "Getting Median for: Psidium_cattleianum_Afzel._ex_Sabine\n",
      "Writing Median to: Species_Output_New\n",
      "Ravenala_madagascariensis_Sonn.\n",
      "Getting Median for: Ravenala_madagascariensis_Sonn.\n",
      "Writing Median to: Species_Output_New\n",
      "Schinus_terebinthifolius_Raddi\n",
      "Getting Median for: Schinus_terebinthifolius_Raddi\n",
      "Writing Median to: Species_Output_New\n",
      "Syzygium_jambos__L.__Alston\n",
      "Getting Median for: Syzygium_jambos__L.__Alston\n",
      "Writing Median to: Species_Output_New\n"
     ]
    },
    {
     "name": "stdout",
     "output_type": "stream",
     "text": [
      "Tabebuia_pallida__Lindl.__Miers\n",
      "Getting Median for: Tabebuia_pallida__Lindl.__Miers\n",
      "Writing Median to: Species_Output_New\n",
      "Tecoma_stans__L.__Juss._ex_Kunth\n",
      "Getting Median for: Tecoma_stans__L.__Juss._ex_Kunth\n",
      "Writing Median to: Species_Output_New\n",
      "Year: 2041_2060\n",
      "Acacia_nilotica\n",
      "Getting Median for: Acacia_nilotica\n",
      "Writing Median to: Species_Output_New\n",
      "Albizia_procera\n",
      "Getting Median for: Albizia_procera\n",
      "Writing Median to: Species_Output_New\n",
      "Clibadium_surinamense_L.\n",
      "Getting Median for: Clibadium_surinamense_L.\n",
      "Writing Median to: Species_Output_New\n",
      "Hedychium_flavescens_Carey_ex_Roscoe\n",
      "Getting Median for: Hedychium_flavescens_Carey_ex_Roscoe\n",
      "Writing Median to: Species_Output_New\n",
      "Hiptage_benghalensis__L.__Kurz\n",
      "Getting Median for: Hiptage_benghalensis__L.__Kurz\n",
      "Writing Median to: Species_Output_New\n",
      "Leucaena_leucocephala__Lam.__De_Wit\n",
      "Getting Median for: Leucaena_leucocephala__Lam.__De_Wit\n",
      "Writing Median to: Species_Output_New\n",
      "Pithecellobium_dulce__Roxb.__Benth.\n",
      "Getting Median for: Pithecellobium_dulce__Roxb.__Benth.\n",
      "Writing Median to: Species_Output_New\n",
      "Pithecellobium_unguis-cati__L.__Benth.\n",
      "Getting Median for: Pithecellobium_unguis-cati__L.__Benth.\n",
      "Writing Median to: Species_Output_New\n",
      "Psidium_cattleianum_Afzel._ex_Sabine\n",
      "Getting Median for: Psidium_cattleianum_Afzel._ex_Sabine\n",
      "Writing Median to: Species_Output_New\n",
      "Ravenala_madagascariensis_Sonn.\n",
      "Getting Median for: Ravenala_madagascariensis_Sonn.\n",
      "Writing Median to: Species_Output_New\n",
      "Schinus_terebinthifolius_Raddi\n",
      "Getting Median for: Schinus_terebinthifolius_Raddi\n",
      "Writing Median to: Species_Output_New\n",
      "Syzygium_jambos__L.__Alston\n",
      "Getting Median for: Syzygium_jambos__L.__Alston\n",
      "Writing Median to: Species_Output_New\n",
      "Tabebuia_pallida__Lindl.__Miers\n",
      "Getting Median for: Tabebuia_pallida__Lindl.__Miers\n",
      "Writing Median to: Species_Output_New\n",
      "Tecoma_stans__L.__Juss._ex_Kunth\n",
      "Getting Median for: Tecoma_stans__L.__Juss._ex_Kunth\n",
      "Writing Median to: Species_Output_New\n",
      "Year: 2061_2080\n",
      "Acacia_nilotica\n",
      "Getting Median for: Acacia_nilotica\n",
      "Writing Median to: Species_Output_New\n",
      "Albizia_procera\n",
      "Getting Median for: Albizia_procera\n",
      "Writing Median to: Species_Output_New\n",
      "Clibadium_surinamense_L.\n",
      "Getting Median for: Clibadium_surinamense_L.\n",
      "Writing Median to: Species_Output_New\n",
      "Hedychium_flavescens_Carey_ex_Roscoe\n",
      "Getting Median for: Hedychium_flavescens_Carey_ex_Roscoe\n",
      "Writing Median to: Species_Output_New\n",
      "Hiptage_benghalensis__L.__Kurz\n",
      "Getting Median for: Hiptage_benghalensis__L.__Kurz\n",
      "Writing Median to: Species_Output_New\n",
      "Leucaena_leucocephala__Lam.__De_Wit\n",
      "Getting Median for: Leucaena_leucocephala__Lam.__De_Wit\n",
      "Writing Median to: Species_Output_New\n",
      "Pithecellobium_dulce__Roxb.__Benth.\n",
      "Getting Median for: Pithecellobium_dulce__Roxb.__Benth.\n",
      "Writing Median to: Species_Output_New\n",
      "Pithecellobium_unguis-cati__L.__Benth.\n",
      "Getting Median for: Pithecellobium_unguis-cati__L.__Benth.\n",
      "Writing Median to: Species_Output_New\n",
      "Psidium_cattleianum_Afzel._ex_Sabine\n",
      "Getting Median for: Psidium_cattleianum_Afzel._ex_Sabine\n",
      "Writing Median to: Species_Output_New\n",
      "Ravenala_madagascariensis_Sonn.\n",
      "Getting Median for: Ravenala_madagascariensis_Sonn.\n",
      "Writing Median to: Species_Output_New\n",
      "Schinus_terebinthifolius_Raddi\n",
      "Getting Median for: Schinus_terebinthifolius_Raddi\n",
      "Writing Median to: Species_Output_New\n",
      "Syzygium_jambos__L.__Alston\n",
      "Getting Median for: Syzygium_jambos__L.__Alston\n",
      "Writing Median to: Species_Output_New\n",
      "Tabebuia_pallida__Lindl.__Miers\n",
      "Getting Median for: Tabebuia_pallida__Lindl.__Miers\n",
      "Writing Median to: Species_Output_New\n",
      "Tecoma_stans__L.__Juss._ex_Kunth\n",
      "Getting Median for: Tecoma_stans__L.__Juss._ex_Kunth\n",
      "Writing Median to: Species_Output_New\n",
      "Year: 2081_2100\n",
      "Acacia_nilotica\n",
      "Getting Median for: Acacia_nilotica\n",
      "Writing Median to: Species_Output_New\n",
      "Albizia_procera\n",
      "Getting Median for: Albizia_procera\n",
      "Writing Median to: Species_Output_New\n",
      "Clibadium_surinamense_L.\n",
      "Getting Median for: Clibadium_surinamense_L.\n",
      "Writing Median to: Species_Output_New\n",
      "Hedychium_flavescens_Carey_ex_Roscoe\n",
      "Getting Median for: Hedychium_flavescens_Carey_ex_Roscoe\n",
      "Writing Median to: Species_Output_New\n",
      "Hiptage_benghalensis__L.__Kurz\n",
      "Getting Median for: Hiptage_benghalensis__L.__Kurz\n",
      "Writing Median to: Species_Output_New\n",
      "Leucaena_leucocephala__Lam.__De_Wit\n",
      "Getting Median for: Leucaena_leucocephala__Lam.__De_Wit\n",
      "Writing Median to: Species_Output_New\n",
      "Pithecellobium_dulce__Roxb.__Benth.\n",
      "Getting Median for: Pithecellobium_dulce__Roxb.__Benth.\n",
      "Writing Median to: Species_Output_New\n",
      "Pithecellobium_unguis-cati__L.__Benth.\n",
      "Getting Median for: Pithecellobium_unguis-cati__L.__Benth.\n",
      "Writing Median to: Species_Output_New\n",
      "Psidium_cattleianum_Afzel._ex_Sabine\n",
      "Getting Median for: Psidium_cattleianum_Afzel._ex_Sabine\n",
      "Writing Median to: Species_Output_New\n",
      "Ravenala_madagascariensis_Sonn.\n",
      "Getting Median for: Ravenala_madagascariensis_Sonn.\n",
      "Writing Median to: Species_Output_New\n",
      "Schinus_terebinthifolius_Raddi\n",
      "Getting Median for: Schinus_terebinthifolius_Raddi\n",
      "Writing Median to: Species_Output_New\n",
      "Syzygium_jambos__L.__Alston\n",
      "Getting Median for: Syzygium_jambos__L.__Alston\n",
      "Writing Median to: Species_Output_New\n",
      "Tabebuia_pallida__Lindl.__Miers\n",
      "Getting Median for: Tabebuia_pallida__Lindl.__Miers\n",
      "Writing Median to: Species_Output_New\n",
      "Tecoma_stans__L.__Juss._ex_Kunth\n",
      "Getting Median for: Tecoma_stans__L.__Juss._ex_Kunth\n",
      "Writing Median to: Species_Output_New\n",
      "Scenario: SSP245\n",
      "Year: 2021_2040\n",
      "Acacia_nilotica\n",
      "Getting Median for: Acacia_nilotica\n",
      "Writing Median to: Species_Output_New\n",
      "Albizia_procera\n",
      "Getting Median for: Albizia_procera\n",
      "Writing Median to: Species_Output_New\n",
      "Clibadium_surinamense_L.\n",
      "Getting Median for: Clibadium_surinamense_L.\n",
      "Writing Median to: Species_Output_New\n",
      "Hedychium_flavescens_Carey_ex_Roscoe\n",
      "Getting Median for: Hedychium_flavescens_Carey_ex_Roscoe\n",
      "Writing Median to: Species_Output_New\n",
      "Hiptage_benghalensis__L.__Kurz\n",
      "Getting Median for: Hiptage_benghalensis__L.__Kurz\n",
      "Writing Median to: Species_Output_New\n",
      "Leucaena_leucocephala__Lam.__De_Wit\n",
      "Getting Median for: Leucaena_leucocephala__Lam.__De_Wit\n",
      "Writing Median to: Species_Output_New\n",
      "Pithecellobium_dulce__Roxb.__Benth.\n",
      "Getting Median for: Pithecellobium_dulce__Roxb.__Benth.\n",
      "Writing Median to: Species_Output_New\n",
      "Pithecellobium_unguis-cati__L.__Benth.\n",
      "Getting Median for: Pithecellobium_unguis-cati__L.__Benth.\n",
      "Writing Median to: Species_Output_New\n",
      "Psidium_cattleianum_Afzel._ex_Sabine\n",
      "Getting Median for: Psidium_cattleianum_Afzel._ex_Sabine\n",
      "Writing Median to: Species_Output_New\n",
      "Ravenala_madagascariensis_Sonn.\n",
      "Getting Median for: Ravenala_madagascariensis_Sonn.\n",
      "Writing Median to: Species_Output_New\n",
      "Schinus_terebinthifolius_Raddi\n",
      "Getting Median for: Schinus_terebinthifolius_Raddi\n",
      "Writing Median to: Species_Output_New\n",
      "Syzygium_jambos__L.__Alston\n",
      "Getting Median for: Syzygium_jambos__L.__Alston\n",
      "Writing Median to: Species_Output_New\n",
      "Tabebuia_pallida__Lindl.__Miers\n",
      "Getting Median for: Tabebuia_pallida__Lindl.__Miers\n",
      "Writing Median to: Species_Output_New\n",
      "Tecoma_stans__L.__Juss._ex_Kunth\n",
      "Getting Median for: Tecoma_stans__L.__Juss._ex_Kunth\n",
      "Writing Median to: Species_Output_New\n",
      "Year: 2041_2060\n",
      "Acacia_nilotica\n",
      "Getting Median for: Acacia_nilotica\n",
      "Writing Median to: Species_Output_New\n",
      "Albizia_procera\n",
      "Getting Median for: Albizia_procera\n",
      "Writing Median to: Species_Output_New\n",
      "Clibadium_surinamense_L.\n",
      "Getting Median for: Clibadium_surinamense_L.\n",
      "Writing Median to: Species_Output_New\n",
      "Hedychium_flavescens_Carey_ex_Roscoe\n",
      "Getting Median for: Hedychium_flavescens_Carey_ex_Roscoe\n",
      "Writing Median to: Species_Output_New\n",
      "Hiptage_benghalensis__L.__Kurz\n",
      "Getting Median for: Hiptage_benghalensis__L.__Kurz\n",
      "Writing Median to: Species_Output_New\n",
      "Leucaena_leucocephala__Lam.__De_Wit\n",
      "Getting Median for: Leucaena_leucocephala__Lam.__De_Wit\n",
      "Writing Median to: Species_Output_New\n",
      "Pithecellobium_dulce__Roxb.__Benth.\n",
      "Getting Median for: Pithecellobium_dulce__Roxb.__Benth.\n",
      "Writing Median to: Species_Output_New\n",
      "Pithecellobium_unguis-cati__L.__Benth.\n",
      "Getting Median for: Pithecellobium_unguis-cati__L.__Benth.\n",
      "Writing Median to: Species_Output_New\n",
      "Psidium_cattleianum_Afzel._ex_Sabine\n",
      "Getting Median for: Psidium_cattleianum_Afzel._ex_Sabine\n",
      "Writing Median to: Species_Output_New\n",
      "Ravenala_madagascariensis_Sonn.\n",
      "Getting Median for: Ravenala_madagascariensis_Sonn.\n",
      "Writing Median to: Species_Output_New\n"
     ]
    },
    {
     "name": "stdout",
     "output_type": "stream",
     "text": [
      "Schinus_terebinthifolius_Raddi\n",
      "Getting Median for: Schinus_terebinthifolius_Raddi\n",
      "Writing Median to: Species_Output_New\n",
      "Syzygium_jambos__L.__Alston\n",
      "Getting Median for: Syzygium_jambos__L.__Alston\n",
      "Writing Median to: Species_Output_New\n",
      "Tabebuia_pallida__Lindl.__Miers\n",
      "Getting Median for: Tabebuia_pallida__Lindl.__Miers\n",
      "Writing Median to: Species_Output_New\n",
      "Tecoma_stans__L.__Juss._ex_Kunth\n",
      "Getting Median for: Tecoma_stans__L.__Juss._ex_Kunth\n",
      "Writing Median to: Species_Output_New\n",
      "Year: 2061_2080\n",
      "Acacia_nilotica\n",
      "Getting Median for: Acacia_nilotica\n",
      "Writing Median to: Species_Output_New\n",
      "Albizia_procera\n",
      "Getting Median for: Albizia_procera\n",
      "Writing Median to: Species_Output_New\n",
      "Clibadium_surinamense_L.\n",
      "Getting Median for: Clibadium_surinamense_L.\n",
      "Writing Median to: Species_Output_New\n",
      "Hedychium_flavescens_Carey_ex_Roscoe\n",
      "Getting Median for: Hedychium_flavescens_Carey_ex_Roscoe\n",
      "Writing Median to: Species_Output_New\n",
      "Hiptage_benghalensis__L.__Kurz\n",
      "Getting Median for: Hiptage_benghalensis__L.__Kurz\n",
      "Writing Median to: Species_Output_New\n",
      "Leucaena_leucocephala__Lam.__De_Wit\n",
      "Getting Median for: Leucaena_leucocephala__Lam.__De_Wit\n",
      "Writing Median to: Species_Output_New\n",
      "Pithecellobium_dulce__Roxb.__Benth.\n",
      "Getting Median for: Pithecellobium_dulce__Roxb.__Benth.\n",
      "Writing Median to: Species_Output_New\n",
      "Pithecellobium_unguis-cati__L.__Benth.\n",
      "Getting Median for: Pithecellobium_unguis-cati__L.__Benth.\n",
      "Writing Median to: Species_Output_New\n",
      "Psidium_cattleianum_Afzel._ex_Sabine\n",
      "Getting Median for: Psidium_cattleianum_Afzel._ex_Sabine\n",
      "Writing Median to: Species_Output_New\n",
      "Ravenala_madagascariensis_Sonn.\n",
      "Getting Median for: Ravenala_madagascariensis_Sonn.\n",
      "Writing Median to: Species_Output_New\n",
      "Schinus_terebinthifolius_Raddi\n",
      "Getting Median for: Schinus_terebinthifolius_Raddi\n",
      "Writing Median to: Species_Output_New\n",
      "Syzygium_jambos__L.__Alston\n",
      "Getting Median for: Syzygium_jambos__L.__Alston\n",
      "Writing Median to: Species_Output_New\n",
      "Tabebuia_pallida__Lindl.__Miers\n",
      "Getting Median for: Tabebuia_pallida__Lindl.__Miers\n",
      "Writing Median to: Species_Output_New\n",
      "Tecoma_stans__L.__Juss._ex_Kunth\n",
      "Getting Median for: Tecoma_stans__L.__Juss._ex_Kunth\n",
      "Writing Median to: Species_Output_New\n",
      "Year: 2081_2100\n",
      "Acacia_nilotica\n",
      "Getting Median for: Acacia_nilotica\n",
      "Writing Median to: Species_Output_New\n",
      "Albizia_procera\n",
      "Getting Median for: Albizia_procera\n",
      "Writing Median to: Species_Output_New\n",
      "Clibadium_surinamense_L.\n",
      "Getting Median for: Clibadium_surinamense_L.\n",
      "Writing Median to: Species_Output_New\n",
      "Hedychium_flavescens_Carey_ex_Roscoe\n",
      "Getting Median for: Hedychium_flavescens_Carey_ex_Roscoe\n",
      "Writing Median to: Species_Output_New\n",
      "Hiptage_benghalensis__L.__Kurz\n",
      "Getting Median for: Hiptage_benghalensis__L.__Kurz\n",
      "Writing Median to: Species_Output_New\n",
      "Leucaena_leucocephala__Lam.__De_Wit\n",
      "Getting Median for: Leucaena_leucocephala__Lam.__De_Wit\n",
      "Writing Median to: Species_Output_New\n",
      "Pithecellobium_dulce__Roxb.__Benth.\n",
      "Getting Median for: Pithecellobium_dulce__Roxb.__Benth.\n",
      "Writing Median to: Species_Output_New\n",
      "Pithecellobium_unguis-cati__L.__Benth.\n",
      "Getting Median for: Pithecellobium_unguis-cati__L.__Benth.\n",
      "Writing Median to: Species_Output_New\n",
      "Psidium_cattleianum_Afzel._ex_Sabine\n",
      "Getting Median for: Psidium_cattleianum_Afzel._ex_Sabine\n",
      "Writing Median to: Species_Output_New\n",
      "Ravenala_madagascariensis_Sonn.\n",
      "Getting Median for: Ravenala_madagascariensis_Sonn.\n",
      "Writing Median to: Species_Output_New\n",
      "Schinus_terebinthifolius_Raddi\n",
      "Getting Median for: Schinus_terebinthifolius_Raddi\n",
      "Writing Median to: Species_Output_New\n",
      "Syzygium_jambos__L.__Alston\n",
      "Getting Median for: Syzygium_jambos__L.__Alston\n",
      "Writing Median to: Species_Output_New\n",
      "Tabebuia_pallida__Lindl.__Miers\n",
      "Getting Median for: Tabebuia_pallida__Lindl.__Miers\n",
      "Writing Median to: Species_Output_New\n",
      "Tecoma_stans__L.__Juss._ex_Kunth\n",
      "Getting Median for: Tecoma_stans__L.__Juss._ex_Kunth\n",
      "Writing Median to: Species_Output_New\n",
      "Scenario: SSP126\n",
      "Year: 2081_2100\n",
      "Acacia_nilotica\n",
      "Getting Median for: Acacia_nilotica\n",
      "Writing Median to: Species_Output_New\n",
      "Albizia_procera\n",
      "Getting Median for: Albizia_procera\n",
      "Writing Median to: Species_Output_New\n",
      "Clibadium_surinamense_L.\n",
      "Getting Median for: Clibadium_surinamense_L.\n",
      "Writing Median to: Species_Output_New\n",
      "Hedychium_flavescens_Carey_ex_Roscoe\n",
      "Getting Median for: Hedychium_flavescens_Carey_ex_Roscoe\n",
      "Writing Median to: Species_Output_New\n",
      "Hiptage_benghalensis__L.__Kurz\n",
      "Getting Median for: Hiptage_benghalensis__L.__Kurz\n",
      "Writing Median to: Species_Output_New\n",
      "Leucaena_leucocephala__Lam.__De_Wit\n",
      "Getting Median for: Leucaena_leucocephala__Lam.__De_Wit\n",
      "Writing Median to: Species_Output_New\n",
      "Pithecellobium_dulce__Roxb.__Benth.\n",
      "Getting Median for: Pithecellobium_dulce__Roxb.__Benth.\n",
      "Writing Median to: Species_Output_New\n",
      "Pithecellobium_unguis-cati__L.__Benth.\n",
      "Getting Median for: Pithecellobium_unguis-cati__L.__Benth.\n",
      "Writing Median to: Species_Output_New\n",
      "Psidium_cattleianum_Afzel._ex_Sabine\n",
      "Getting Median for: Psidium_cattleianum_Afzel._ex_Sabine\n",
      "Writing Median to: Species_Output_New\n",
      "Ravenala_madagascariensis_Sonn.\n",
      "Getting Median for: Ravenala_madagascariensis_Sonn.\n",
      "Writing Median to: Species_Output_New\n",
      "Schinus_terebinthifolius_Raddi\n",
      "Getting Median for: Schinus_terebinthifolius_Raddi\n",
      "Writing Median to: Species_Output_New\n",
      "Syzygium_jambos__L.__Alston\n",
      "Getting Median for: Syzygium_jambos__L.__Alston\n",
      "Writing Median to: Species_Output_New\n",
      "Tabebuia_pallida__Lindl.__Miers\n",
      "Getting Median for: Tabebuia_pallida__Lindl.__Miers\n",
      "Writing Median to: Species_Output_New\n",
      "Tecoma_stans__L.__Juss._ex_Kunth\n",
      "Getting Median for: Tecoma_stans__L.__Juss._ex_Kunth\n",
      "Writing Median to: Species_Output_New\n",
      "Year: 2061_2080\n",
      "Acacia_nilotica\n",
      "Getting Median for: Acacia_nilotica\n",
      "Writing Median to: Species_Output_New\n",
      "Albizia_procera\n",
      "Getting Median for: Albizia_procera\n",
      "Writing Median to: Species_Output_New\n",
      "Clibadium_surinamense_L.\n",
      "Getting Median for: Clibadium_surinamense_L.\n",
      "Writing Median to: Species_Output_New\n",
      "Hedychium_flavescens_Carey_ex_Roscoe\n",
      "Getting Median for: Hedychium_flavescens_Carey_ex_Roscoe\n",
      "Writing Median to: Species_Output_New\n",
      "Hiptage_benghalensis__L.__Kurz\n",
      "Getting Median for: Hiptage_benghalensis__L.__Kurz\n",
      "Writing Median to: Species_Output_New\n",
      "Leucaena_leucocephala__Lam.__De_Wit\n",
      "Getting Median for: Leucaena_leucocephala__Lam.__De_Wit\n",
      "Writing Median to: Species_Output_New\n",
      "Pithecellobium_dulce__Roxb.__Benth.\n",
      "Getting Median for: Pithecellobium_dulce__Roxb.__Benth.\n",
      "Writing Median to: Species_Output_New\n",
      "Pithecellobium_unguis-cati__L.__Benth.\n",
      "Getting Median for: Pithecellobium_unguis-cati__L.__Benth.\n",
      "Writing Median to: Species_Output_New\n",
      "Psidium_cattleianum_Afzel._ex_Sabine\n",
      "Getting Median for: Psidium_cattleianum_Afzel._ex_Sabine\n",
      "Writing Median to: Species_Output_New\n",
      "Ravenala_madagascariensis_Sonn.\n",
      "Getting Median for: Ravenala_madagascariensis_Sonn.\n",
      "Writing Median to: Species_Output_New\n",
      "Schinus_terebinthifolius_Raddi\n",
      "Getting Median for: Schinus_terebinthifolius_Raddi\n",
      "Writing Median to: Species_Output_New\n",
      "Syzygium_jambos__L.__Alston\n",
      "Getting Median for: Syzygium_jambos__L.__Alston\n",
      "Writing Median to: Species_Output_New\n",
      "Tabebuia_pallida__Lindl.__Miers\n",
      "Getting Median for: Tabebuia_pallida__Lindl.__Miers\n",
      "Writing Median to: Species_Output_New\n",
      "Tecoma_stans__L.__Juss._ex_Kunth\n",
      "Getting Median for: Tecoma_stans__L.__Juss._ex_Kunth\n",
      "Writing Median to: Species_Output_New\n",
      "Year: 2021_2040\n",
      "Acacia_nilotica\n",
      "Getting Median for: Acacia_nilotica\n",
      "Writing Median to: Species_Output_New\n",
      "Albizia_procera\n",
      "Getting Median for: Albizia_procera\n",
      "Writing Median to: Species_Output_New\n",
      "Clibadium_surinamense_L.\n",
      "Getting Median for: Clibadium_surinamense_L.\n",
      "Writing Median to: Species_Output_New\n",
      "Hedychium_flavescens_Carey_ex_Roscoe\n",
      "Getting Median for: Hedychium_flavescens_Carey_ex_Roscoe\n",
      "Writing Median to: Species_Output_New\n",
      "Hiptage_benghalensis__L.__Kurz\n",
      "Getting Median for: Hiptage_benghalensis__L.__Kurz\n",
      "Writing Median to: Species_Output_New\n",
      "Leucaena_leucocephala__Lam.__De_Wit\n",
      "Getting Median for: Leucaena_leucocephala__Lam.__De_Wit\n",
      "Writing Median to: Species_Output_New\n",
      "Pithecellobium_dulce__Roxb.__Benth.\n",
      "Getting Median for: Pithecellobium_dulce__Roxb.__Benth.\n",
      "Writing Median to: Species_Output_New\n",
      "Pithecellobium_unguis-cati__L.__Benth.\n",
      "Getting Median for: Pithecellobium_unguis-cati__L.__Benth.\n",
      "Writing Median to: Species_Output_New\n"
     ]
    },
    {
     "name": "stdout",
     "output_type": "stream",
     "text": [
      "Psidium_cattleianum_Afzel._ex_Sabine\n",
      "Getting Median for: Psidium_cattleianum_Afzel._ex_Sabine\n",
      "Writing Median to: Species_Output_New\n",
      "Ravenala_madagascariensis_Sonn.\n",
      "Getting Median for: Ravenala_madagascariensis_Sonn.\n",
      "Writing Median to: Species_Output_New\n",
      "Schinus_terebinthifolius_Raddi\n",
      "Getting Median for: Schinus_terebinthifolius_Raddi\n",
      "Writing Median to: Species_Output_New\n",
      "Syzygium_jambos__L.__Alston\n",
      "Getting Median for: Syzygium_jambos__L.__Alston\n",
      "Writing Median to: Species_Output_New\n",
      "Tabebuia_pallida__Lindl.__Miers\n",
      "Getting Median for: Tabebuia_pallida__Lindl.__Miers\n",
      "Writing Median to: Species_Output_New\n",
      "Tecoma_stans__L.__Juss._ex_Kunth\n",
      "Getting Median for: Tecoma_stans__L.__Juss._ex_Kunth\n",
      "Writing Median to: Species_Output_New\n",
      "Year: 2041_2060\n",
      "Acacia_nilotica\n",
      "Getting Median for: Acacia_nilotica\n",
      "Writing Median to: Species_Output_New\n",
      "Albizia_procera\n",
      "Getting Median for: Albizia_procera\n",
      "Writing Median to: Species_Output_New\n",
      "Clibadium_surinamense_L.\n",
      "Getting Median for: Clibadium_surinamense_L.\n",
      "Writing Median to: Species_Output_New\n",
      "Hedychium_flavescens_Carey_ex_Roscoe\n",
      "Getting Median for: Hedychium_flavescens_Carey_ex_Roscoe\n",
      "Writing Median to: Species_Output_New\n",
      "Hiptage_benghalensis__L.__Kurz\n",
      "Getting Median for: Hiptage_benghalensis__L.__Kurz\n",
      "Writing Median to: Species_Output_New\n",
      "Leucaena_leucocephala__Lam.__De_Wit\n",
      "Getting Median for: Leucaena_leucocephala__Lam.__De_Wit\n",
      "Writing Median to: Species_Output_New\n",
      "Pithecellobium_dulce__Roxb.__Benth.\n",
      "Getting Median for: Pithecellobium_dulce__Roxb.__Benth.\n",
      "Writing Median to: Species_Output_New\n",
      "Pithecellobium_unguis-cati__L.__Benth.\n",
      "Getting Median for: Pithecellobium_unguis-cati__L.__Benth.\n",
      "Writing Median to: Species_Output_New\n",
      "Psidium_cattleianum_Afzel._ex_Sabine\n",
      "Getting Median for: Psidium_cattleianum_Afzel._ex_Sabine\n",
      "Writing Median to: Species_Output_New\n",
      "Ravenala_madagascariensis_Sonn.\n",
      "Getting Median for: Ravenala_madagascariensis_Sonn.\n",
      "Writing Median to: Species_Output_New\n",
      "Schinus_terebinthifolius_Raddi\n",
      "Getting Median for: Schinus_terebinthifolius_Raddi\n",
      "Writing Median to: Species_Output_New\n",
      "Syzygium_jambos__L.__Alston\n",
      "Getting Median for: Syzygium_jambos__L.__Alston\n",
      "Writing Median to: Species_Output_New\n",
      "Tabebuia_pallida__Lindl.__Miers\n",
      "Getting Median for: Tabebuia_pallida__Lindl.__Miers\n",
      "Writing Median to: Species_Output_New\n",
      "Tecoma_stans__L.__Juss._ex_Kunth\n",
      "Getting Median for: Tecoma_stans__L.__Juss._ex_Kunth\n",
      "Writing Median to: Species_Output_New\n"
     ]
    }
   ],
   "source": [
    "species = ['Acacia_nilotica','Albizia_procera','Clibadium_surinamense_L.',\n",
    "           'Hedychium_flavescens_Carey_ex_Roscoe',\n",
    "           'Hiptage_benghalensis__L.__Kurz','Leucaena_leucocephala__Lam.__De_Wit',\n",
    "           'Pithecellobium_dulce__Roxb.__Benth.','Pithecellobium_unguis-cati__L.__Benth.','Psidium_cattleianum_Afzel._ex_Sabine',\n",
    "           'Ravenala_madagascariensis_Sonn.','Schinus_terebinthifolius_Raddi',\n",
    "           'Syzygium_jambos__L.__Alston','Tabebuia_pallida__Lindl.__Miers',\n",
    "           'Tecoma_stans__L.__Juss._ex_Kunth']\n",
    "\n",
    "for i in os.listdir():\n",
    "### Walk through each Scenario\n",
    "    for s in ['SSP126','SSP245','SSP370','SSP585']:\n",
    "        if i == s:\n",
    "            print('Scenario:',s)\n",
    "            Sdir = os.path.join(s)\n",
    "### Walk through each Period \n",
    "            for year in os.listdir(Sdir):\n",
    "                print('Year:',year)\n",
    "                Ydir = os.path.join(s,year)\n",
    "                SpecieDir = os.path.join('Species_Output_New')\n",
    "                if not os.path.exists(SpecieDir):\n",
    "                    os.mkdir(SpecieDir)\n",
    "                for specie in species:\n",
    "                    spec = specie + '_ASCII_avg.asc'\n",
    "                    print(specie)\n",
    "                    filelist = files = glob.glob(os.path.join(r'{}'.format(Ydir),'*','Output','{}'.format(spec)))\n",
    "                    tci_images = []\n",
    "                    profile = None\n",
    "                    for file in filelist:\n",
    "                        if profile is None:\n",
    "                            temp_img = rio.open(file)\n",
    "                            profile = temp_img.profile\n",
    "                        tci_images.append(rxr.open_rasterio(file, chunks={'x': 1000, 'y': 1000}))\n",
    "                    comp = xr.concat(tci_images, dim='band')\n",
    "                    print('Getting Median for:', specie)\n",
    "                    median = comp.median(dim='band', keep_attrs=True,skipna=True)\n",
    "                    print('Writing Median to:',SpecieDir)\n",
    "                    median.rio.to_raster(os.path.join(SpecieDir, specie+'_{}_'.format(s)+'_{}_'.format(year)+'.tif'))"
   ]
  },
  {
   "cell_type": "code",
   "execution_count": null,
   "id": "d782d4ce",
   "metadata": {},
   "outputs": [],
   "source": []
  }
 ],
 "metadata": {
  "kernelspec": {
   "display_name": "Python 3 (ipykernel)",
   "language": "python",
   "name": "python3"
  },
  "language_info": {
   "codemirror_mode": {
    "name": "ipython",
    "version": 3
   },
   "file_extension": ".py",
   "mimetype": "text/x-python",
   "name": "python",
   "nbconvert_exporter": "python",
   "pygments_lexer": "ipython3",
   "version": "3.10.4"
  }
 },
 "nbformat": 4,
 "nbformat_minor": 5
}
